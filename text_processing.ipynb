{
 "cells": [
  {
   "cell_type": "code",
   "execution_count": 133,
   "id": "6578e75e-de5c-47dd-94e4-5a478816ffaf",
   "metadata": {},
   "outputs": [],
   "source": [
    "import requests\n",
    "from bs4 import BeautifulSoup\n",
    "import os\n",
    "import numpy as np\n",
    "from tqdm import tqdm\n",
    "import glob"
   ]
  },
  {
   "cell_type": "code",
   "execution_count": 5,
   "id": "2bbe8ca5-95ab-4b8b-a6fd-a29bc4b640e6",
   "metadata": {},
   "outputs": [
    {
     "name": "stdout",
     "output_type": "stream",
     "text": [
      "[info] Total Lines: 2229\n"
     ]
    }
   ],
   "source": [
    "with open('nime_papers.txt', 'r') as file:\n",
    "    title_lines = file.readlines()  # Returns a list of all lines\n",
    "\n",
    "print ('[info] Total Lines: {}'.format(len(title_lines)))"
   ]
  },
  {
   "cell_type": "code",
   "execution_count": 50,
   "id": "98de9d13-fb81-4cb8-bf76-93538bf1f9a1",
   "metadata": {
    "scrolled": true
   },
   "outputs": [
    {
     "name": "stdout",
     "output_type": "stream",
     "text": [
      "[info] Process done. Total IDs: 2204\n"
     ]
    }
   ],
   "source": [
    "Archive_id_list = []\n",
    "\n",
    "for line_x in range(len(title_lines[:])):\n",
    "    line_content = title_lines[line_x]\n",
    "\n",
    "    if len(line_content) < 10:\n",
    "        continue\n",
    "\n",
    "    if \"DOI\" not in line_content:\n",
    "        continue\n",
    "\n",
    "    line_content = line_content.split(\"DOI\")[-1].replace(\"\\n\", \"\")\n",
    "\n",
    "    assert len(line_content) in [23,24,25,28], \"wrong length: {}\".format(line_content)\n",
    "\n",
    "    if line_content[:2] == \": \":\n",
    "        line_content = line_content[2:]\n",
    "\n",
    "    if len(line_content)==21:\n",
    "        line_content = line_content.replace(\"117777\", \"1177757\")\n",
    "        \n",
    "    \n",
    "    #line_content = line_content.split(\"10.5281/zenodo.\")[-1]\n",
    "\n",
    "    #assert len(line_content)==8, \"wrong length: {}\".format(line_content)\n",
    "    \n",
    "    #print (line_content)\n",
    "    Archive_id_list.append(line_content)\n",
    "\n",
    "print (\"[info] Process done. Total IDs: {}\".format(len(Archive_id_list)))"
   ]
  },
  {
   "cell_type": "code",
   "execution_count": null,
   "id": "95db7079-4f26-4135-97e2-787426bf21fc",
   "metadata": {},
   "outputs": [],
   "source": [
    "#   \"10.5281/zenodo.13904786\"\n",
    "#   \"10.5281/zenodo.1176478\"\n",
    "#   \"10.21428/92fbeb44.2305755b\"\n",
    "#   \"10.5281/zenodo.117777\" = \"https://www.nime.org/proceedings/2010/nime2010_467.pdf\" = \"1177757\""
   ]
  },
  {
   "cell_type": "code",
   "execution_count": null,
   "id": "f1f06388-6ae1-4170-b6b6-11f05cf01020",
   "metadata": {},
   "outputs": [],
   "source": []
  },
  {
   "cell_type": "markdown",
   "id": "30c847b4-eec1-4156-825d-d137845302be",
   "metadata": {},
   "source": [
    "# Extract Zenodo ID data"
   ]
  },
  {
   "cell_type": "code",
   "execution_count": 59,
   "id": "6b864460-049b-4d70-a1a1-bc1906334d04",
   "metadata": {},
   "outputs": [
    {
     "name": "stdout",
     "output_type": "stream",
     "text": [
      "2060\n",
      "13904764\n",
      "13904766\n",
      "13904768\n"
     ]
    }
   ],
   "source": [
    "zenodo_id_list = [x for x in Archive_id_list if \"zenodo\" in x]\n",
    "zenodo_id_list = [x.split(\"zenodo.\")[-1] for x in zenodo_id_list ]\n",
    "\n",
    "print (len(zenodo_id_list))\n",
    "\n",
    "for x in zenodo_id_list[:3]:\n",
    "    print (x)"
   ]
  },
  {
   "cell_type": "code",
   "execution_count": 126,
   "id": "d5789f3f-32b0-44f2-8082-eac4ad906f1a",
   "metadata": {},
   "outputs": [],
   "source": [
    "def download_zenodo_file(url, output_dir=\"./zenodo_dl\"):\n",
    "    \"\"\"\n",
    "    Download a file from Zenodo with progress tracking.\n",
    "    \n",
    "    Args:\n",
    "        url (str): The Zenodo file URL\n",
    "        output_dir (str): Directory to save the downloaded file\n",
    "    \"\"\"\n",
    "    try:\n",
    "        # Send a GET request to the URL\n",
    "        response = requests.get(url, stream=True)\n",
    "        response.raise_for_status()  # Raise an exception for bad status codes\n",
    "        \n",
    "#        # Get the filename from Content-Disposition header, or use a default name\n",
    "#        content_disposition = response.headers.get('content-disposition')\n",
    "#        if content_disposition and 'filename=' in content_disposition:\n",
    "#            filename = content_disposition.split('filename=')[1].strip('\"')\n",
    "#        else:\n",
    "#            filename = 'zenodo_download.zip'\n",
    "\n",
    "        filename = url.split(\"/\")[-2] + \".zip\"\n",
    "        \n",
    "        # Create output directory if it doesn't exist\n",
    "        os.makedirs(output_dir, exist_ok=True)\n",
    "        output_path = os.path.join(output_dir, filename)\n",
    "        \n",
    "        # Get file size from headers\n",
    "        file_size = int(response.headers.get('content-length', 0))\n",
    "        \n",
    "        # Download with progress bar\n",
    "        with open(output_path, 'wb') as f:\n",
    "            with tqdm(total=file_size, unit='B', unit_scale=True, desc=filename) as pbar:\n",
    "                for chunk in response.iter_content(chunk_size=8192):\n",
    "                    if chunk:\n",
    "                        f.write(chunk)\n",
    "                        pbar.update(len(chunk))\n",
    "        \n",
    "        print(f\"\\nFile successfully downloaded to: {output_path}\")\n",
    "        return output_path\n",
    "        \n",
    "    except requests.exceptions.RequestException as e:\n",
    "        print(f\"Error downloading file: {e}\")\n",
    "        return None"
   ]
  },
  {
   "cell_type": "code",
   "execution_count": 130,
   "id": "be27372e-97f3-4462-92f9-978cfd0bfc34",
   "metadata": {
    "scrolled": true
   },
   "outputs": [
    {
     "name": "stdout",
     "output_type": "stream",
     "text": [
      "[info] Paper_idx: 0, Zenodo id: 13904764\n"
     ]
    },
    {
     "name": "stderr",
     "output_type": "stream",
     "text": [
      "13904764.zip: 2.75MB [00:07, 356kB/s]\n"
     ]
    },
    {
     "name": "stdout",
     "output_type": "stream",
     "text": [
      "\n",
      "File successfully downloaded to: ./zenodo_dl/13904764.zip\n",
      "[info] File downloaded: ./zenodo_dl/13904764.zip\n",
      "\n",
      "[info] Paper_idx: 1, Zenodo id: 13904766\n"
     ]
    },
    {
     "name": "stderr",
     "output_type": "stream",
     "text": [
      "13904766.zip: 10.3MB [00:03, 2.75MB/s]\n"
     ]
    },
    {
     "name": "stdout",
     "output_type": "stream",
     "text": [
      "\n",
      "File successfully downloaded to: ./zenodo_dl/13904766.zip\n",
      "[info] File downloaded: ./zenodo_dl/13904766.zip\n",
      "\n",
      "[info] Paper_idx: 2, Zenodo id: 13904768\n"
     ]
    },
    {
     "name": "stderr",
     "output_type": "stream",
     "text": [
      "13904768.zip: 3.81MB [00:11, 340kB/s] \n"
     ]
    },
    {
     "name": "stdout",
     "output_type": "stream",
     "text": [
      "\n",
      "File successfully downloaded to: ./zenodo_dl/13904768.zip\n",
      "[info] File downloaded: ./zenodo_dl/13904768.zip\n",
      "\n",
      "[info] Paper_idx: 3, Zenodo id: 13904770\n"
     ]
    },
    {
     "name": "stderr",
     "output_type": "stream",
     "text": [
      "13904770.zip: 567kB [00:02, 221kB/s]  \n"
     ]
    },
    {
     "name": "stdout",
     "output_type": "stream",
     "text": [
      "\n",
      "File successfully downloaded to: ./zenodo_dl/13904770.zip\n",
      "[info] File downloaded: ./zenodo_dl/13904770.zip\n",
      "\n",
      "[info] Paper_idx: 4, Zenodo id: 13904772\n"
     ]
    },
    {
     "name": "stderr",
     "output_type": "stream",
     "text": [
      "13904772.zip: 432kB [00:01, 246kB/s]  \n"
     ]
    },
    {
     "name": "stdout",
     "output_type": "stream",
     "text": [
      "\n",
      "File successfully downloaded to: ./zenodo_dl/13904772.zip\n",
      "[info] File downloaded: ./zenodo_dl/13904772.zip\n",
      "\n",
      "[info] Paper_idx: 5, Zenodo id: 13904774\n"
     ]
    },
    {
     "name": "stderr",
     "output_type": "stream",
     "text": [
      "13904774.zip: 6.00MB [00:16, 356kB/s] \n"
     ]
    },
    {
     "name": "stdout",
     "output_type": "stream",
     "text": [
      "\n",
      "File successfully downloaded to: ./zenodo_dl/13904774.zip\n",
      "[info] File downloaded: ./zenodo_dl/13904774.zip\n",
      "\n",
      "[info] Paper_idx: 6, Zenodo id: 13904776\n"
     ]
    },
    {
     "name": "stderr",
     "output_type": "stream",
     "text": [
      "13904776.zip: 914kB [00:03, 289kB/s]  \n"
     ]
    },
    {
     "name": "stdout",
     "output_type": "stream",
     "text": [
      "\n",
      "File successfully downloaded to: ./zenodo_dl/13904776.zip\n",
      "[info] File downloaded: ./zenodo_dl/13904776.zip\n",
      "\n",
      "[info] Paper_idx: 7, Zenodo id: 13904778\n"
     ]
    },
    {
     "name": "stderr",
     "output_type": "stream",
     "text": [
      "13904778.zip: 1.44MB [00:04, 334kB/s] \n"
     ]
    },
    {
     "name": "stdout",
     "output_type": "stream",
     "text": [
      "\n",
      "File successfully downloaded to: ./zenodo_dl/13904778.zip\n",
      "[info] File downloaded: ./zenodo_dl/13904778.zip\n",
      "\n",
      "[info] Paper_idx: 8, Zenodo id: 13904780\n"
     ]
    },
    {
     "name": "stderr",
     "output_type": "stream",
     "text": [
      "13904780.zip: 2.25MB [00:06, 325kB/s] \n"
     ]
    },
    {
     "name": "stdout",
     "output_type": "stream",
     "text": [
      "\n",
      "File successfully downloaded to: ./zenodo_dl/13904780.zip\n",
      "[info] File downloaded: ./zenodo_dl/13904780.zip\n",
      "\n",
      "[info] Paper_idx: 9, Zenodo id: 13904782\n"
     ]
    },
    {
     "name": "stderr",
     "output_type": "stream",
     "text": [
      "13904782.zip: 13.6MB [00:21, 641kB/s] \n"
     ]
    },
    {
     "name": "stdout",
     "output_type": "stream",
     "text": [
      "\n",
      "File successfully downloaded to: ./zenodo_dl/13904782.zip\n",
      "[info] File downloaded: ./zenodo_dl/13904782.zip\n",
      "\n",
      "[info] Paper_idx: 10, Zenodo id: 13904786\n"
     ]
    },
    {
     "name": "stderr",
     "output_type": "stream",
     "text": [
      "13904786.zip: 16.1MB [00:44, 362kB/s] \n"
     ]
    },
    {
     "name": "stdout",
     "output_type": "stream",
     "text": [
      "\n",
      "File successfully downloaded to: ./zenodo_dl/13904786.zip\n",
      "[info] File downloaded: ./zenodo_dl/13904786.zip\n",
      "\n",
      "[info] Paper_idx: 11, Zenodo id: 13904788\n"
     ]
    },
    {
     "name": "stderr",
     "output_type": "stream",
     "text": [
      "13904788.zip: 1.31MB [00:04, 325kB/s] \n"
     ]
    },
    {
     "name": "stdout",
     "output_type": "stream",
     "text": [
      "\n",
      "File successfully downloaded to: ./zenodo_dl/13904788.zip\n",
      "[info] File downloaded: ./zenodo_dl/13904788.zip\n",
      "\n",
      "[info] Paper_idx: 12, Zenodo id: 13904790\n"
     ]
    },
    {
     "name": "stderr",
     "output_type": "stream",
     "text": [
      "13904790.zip: 1.20MB [00:04, 300kB/s] \n"
     ]
    },
    {
     "name": "stdout",
     "output_type": "stream",
     "text": [
      "\n",
      "File successfully downloaded to: ./zenodo_dl/13904790.zip\n",
      "[info] File downloaded: ./zenodo_dl/13904790.zip\n",
      "\n",
      "[info] Paper_idx: 13, Zenodo id: 13904792\n"
     ]
    },
    {
     "name": "stderr",
     "output_type": "stream",
     "text": [
      "13904792.zip: 9.15MB [00:26, 344kB/s] \n"
     ]
    },
    {
     "name": "stdout",
     "output_type": "stream",
     "text": [
      "\n",
      "File successfully downloaded to: ./zenodo_dl/13904792.zip\n",
      "[info] File downloaded: ./zenodo_dl/13904792.zip\n",
      "\n",
      "[info] Paper_idx: 14, Zenodo id: 13904794\n"
     ]
    },
    {
     "name": "stderr",
     "output_type": "stream",
     "text": [
      "13904794.zip: 7.31MB [00:20, 360kB/s] \n"
     ]
    },
    {
     "name": "stdout",
     "output_type": "stream",
     "text": [
      "\n",
      "File successfully downloaded to: ./zenodo_dl/13904794.zip\n",
      "[info] File downloaded: ./zenodo_dl/13904794.zip\n",
      "\n",
      "[info] Paper_idx: 15, Zenodo id: 13904796\n"
     ]
    },
    {
     "name": "stderr",
     "output_type": "stream",
     "text": [
      "13904796.zip: 3.80MB [00:11, 323kB/s] \n"
     ]
    },
    {
     "name": "stdout",
     "output_type": "stream",
     "text": [
      "\n",
      "File successfully downloaded to: ./zenodo_dl/13904796.zip\n",
      "[info] File downloaded: ./zenodo_dl/13904796.zip\n",
      "\n",
      "[info] Paper_idx: 16, Zenodo id: 13904798\n"
     ]
    },
    {
     "name": "stderr",
     "output_type": "stream",
     "text": [
      "13904798.zip: 3.33MB [00:10, 333kB/s] \n"
     ]
    },
    {
     "name": "stdout",
     "output_type": "stream",
     "text": [
      "\n",
      "File successfully downloaded to: ./zenodo_dl/13904798.zip\n",
      "[info] File downloaded: ./zenodo_dl/13904798.zip\n",
      "\n",
      "[info] Paper_idx: 17, Zenodo id: 13904800\n"
     ]
    },
    {
     "name": "stderr",
     "output_type": "stream",
     "text": [
      "13904800.zip: 7.39MB [00:20, 364kB/s] \n"
     ]
    },
    {
     "name": "stdout",
     "output_type": "stream",
     "text": [
      "\n",
      "File successfully downloaded to: ./zenodo_dl/13904800.zip\n",
      "[info] File downloaded: ./zenodo_dl/13904800.zip\n",
      "\n",
      "[info] Paper_idx: 18, Zenodo id: 13904804\n"
     ]
    },
    {
     "name": "stderr",
     "output_type": "stream",
     "text": [
      "13904804.zip: 12.4MB [00:34, 355kB/s] \n"
     ]
    },
    {
     "name": "stdout",
     "output_type": "stream",
     "text": [
      "\n",
      "File successfully downloaded to: ./zenodo_dl/13904804.zip\n",
      "[info] File downloaded: ./zenodo_dl/13904804.zip\n",
      "\n",
      "[info] Paper_idx: 19, Zenodo id: 13904806\n"
     ]
    },
    {
     "name": "stderr",
     "output_type": "stream",
     "text": [
      "13904806.zip: 1.94MB [00:05, 338kB/s] \n"
     ]
    },
    {
     "name": "stdout",
     "output_type": "stream",
     "text": [
      "\n",
      "File successfully downloaded to: ./zenodo_dl/13904806.zip\n",
      "[info] File downloaded: ./zenodo_dl/13904806.zip\n",
      "\n",
      "[info] Paper_idx: 20, Zenodo id: 13904808\n"
     ]
    },
    {
     "name": "stderr",
     "output_type": "stream",
     "text": [
      "13904808.zip: 12.1MB [00:35, 343kB/s] \n"
     ]
    },
    {
     "name": "stdout",
     "output_type": "stream",
     "text": [
      "\n",
      "File successfully downloaded to: ./zenodo_dl/13904808.zip\n",
      "[info] File downloaded: ./zenodo_dl/13904808.zip\n",
      "\n",
      "[info] Paper_idx: 21, Zenodo id: 13904810\n"
     ]
    },
    {
     "name": "stderr",
     "output_type": "stream",
     "text": [
      "13904810.zip: 1.31MB [00:03, 333kB/s] \n"
     ]
    },
    {
     "name": "stdout",
     "output_type": "stream",
     "text": [
      "\n",
      "File successfully downloaded to: ./zenodo_dl/13904810.zip\n",
      "[info] File downloaded: ./zenodo_dl/13904810.zip\n",
      "\n",
      "[info] Paper_idx: 22, Zenodo id: 13904812\n"
     ]
    },
    {
     "name": "stderr",
     "output_type": "stream",
     "text": [
      "13904812.zip: 722kB [00:02, 252kB/s]  \n"
     ]
    },
    {
     "name": "stdout",
     "output_type": "stream",
     "text": [
      "\n",
      "File successfully downloaded to: ./zenodo_dl/13904812.zip\n",
      "[info] File downloaded: ./zenodo_dl/13904812.zip\n",
      "\n",
      "[info] Paper_idx: 23, Zenodo id: 13904814\n"
     ]
    },
    {
     "name": "stderr",
     "output_type": "stream",
     "text": [
      "13904814.zip: 3.38MB [00:04, 786kB/s] \n"
     ]
    },
    {
     "name": "stdout",
     "output_type": "stream",
     "text": [
      "\n",
      "File successfully downloaded to: ./zenodo_dl/13904814.zip\n",
      "[info] File downloaded: ./zenodo_dl/13904814.zip\n",
      "\n",
      "[info] Paper_idx: 24, Zenodo id: 13904816\n"
     ]
    },
    {
     "name": "stderr",
     "output_type": "stream",
     "text": [
      "13904816.zip: 12.8MB [00:03, 3.43MB/s]\n"
     ]
    },
    {
     "name": "stdout",
     "output_type": "stream",
     "text": [
      "\n",
      "File successfully downloaded to: ./zenodo_dl/13904816.zip\n",
      "[info] File downloaded: ./zenodo_dl/13904816.zip\n",
      "\n",
      "[info] Paper_idx: 25, Zenodo id: 13904818\n"
     ]
    },
    {
     "name": "stderr",
     "output_type": "stream",
     "text": [
      "13904818.zip: 359kB [00:01, 286kB/s]  \n"
     ]
    },
    {
     "name": "stdout",
     "output_type": "stream",
     "text": [
      "\n",
      "File successfully downloaded to: ./zenodo_dl/13904818.zip\n",
      "[info] File downloaded: ./zenodo_dl/13904818.zip\n",
      "\n",
      "[info] Paper_idx: 26, Zenodo id: 13904820\n"
     ]
    },
    {
     "name": "stderr",
     "output_type": "stream",
     "text": [
      "13904820.zip: 822kB [00:01, 572kB/s]  \n"
     ]
    },
    {
     "name": "stdout",
     "output_type": "stream",
     "text": [
      "\n",
      "File successfully downloaded to: ./zenodo_dl/13904820.zip\n",
      "[info] File downloaded: ./zenodo_dl/13904820.zip\n",
      "\n",
      "[info] Paper_idx: 27, Zenodo id: 13904822\n"
     ]
    },
    {
     "name": "stderr",
     "output_type": "stream",
     "text": [
      "13904822.zip: 242kB [00:01, 203kB/s]  \n"
     ]
    },
    {
     "name": "stdout",
     "output_type": "stream",
     "text": [
      "\n",
      "File successfully downloaded to: ./zenodo_dl/13904822.zip\n",
      "[info] File downloaded: ./zenodo_dl/13904822.zip\n",
      "\n",
      "[info] Paper_idx: 28, Zenodo id: 13904826\n"
     ]
    },
    {
     "name": "stderr",
     "output_type": "stream",
     "text": [
      "13904826.zip: 1.24MB [00:02, 615kB/s] \n"
     ]
    },
    {
     "name": "stdout",
     "output_type": "stream",
     "text": [
      "\n",
      "File successfully downloaded to: ./zenodo_dl/13904826.zip\n",
      "[info] File downloaded: ./zenodo_dl/13904826.zip\n",
      "\n",
      "[info] Paper_idx: 29, Zenodo id: 13904828\n"
     ]
    },
    {
     "name": "stderr",
     "output_type": "stream",
     "text": [
      "13904828.zip: 2.79MB [00:08, 316kB/s] \n"
     ]
    },
    {
     "name": "stdout",
     "output_type": "stream",
     "text": [
      "\n",
      "File successfully downloaded to: ./zenodo_dl/13904828.zip\n",
      "[info] File downloaded: ./zenodo_dl/13904828.zip\n",
      "\n",
      "[info] Paper_idx: 30, Zenodo id: 13904830\n"
     ]
    },
    {
     "name": "stderr",
     "output_type": "stream",
     "text": [
      "13904830.zip: 2.23MB [00:06, 340kB/s] \n"
     ]
    },
    {
     "name": "stdout",
     "output_type": "stream",
     "text": [
      "\n",
      "File successfully downloaded to: ./zenodo_dl/13904830.zip\n",
      "[info] File downloaded: ./zenodo_dl/13904830.zip\n",
      "\n",
      "[info] Paper_idx: 31, Zenodo id: 13904832\n"
     ]
    },
    {
     "name": "stderr",
     "output_type": "stream",
     "text": [
      "13904832.zip: 5.06MB [00:14, 360kB/s] \n"
     ]
    },
    {
     "name": "stdout",
     "output_type": "stream",
     "text": [
      "\n",
      "File successfully downloaded to: ./zenodo_dl/13904832.zip\n",
      "[info] File downloaded: ./zenodo_dl/13904832.zip\n",
      "\n",
      "[info] Paper_idx: 32, Zenodo id: 13904834\n"
     ]
    },
    {
     "name": "stderr",
     "output_type": "stream",
     "text": [
      "13904834.zip: 299kB [00:01, 261kB/s]  \n"
     ]
    },
    {
     "name": "stdout",
     "output_type": "stream",
     "text": [
      "\n",
      "File successfully downloaded to: ./zenodo_dl/13904834.zip\n",
      "[info] File downloaded: ./zenodo_dl/13904834.zip\n",
      "\n",
      "[info] Paper_idx: 33, Zenodo id: 13904836\n"
     ]
    },
    {
     "name": "stderr",
     "output_type": "stream",
     "text": [
      "13904836.zip: 580kB [00:02, 229kB/s]  \n"
     ]
    },
    {
     "name": "stdout",
     "output_type": "stream",
     "text": [
      "\n",
      "File successfully downloaded to: ./zenodo_dl/13904836.zip\n",
      "[info] File downloaded: ./zenodo_dl/13904836.zip\n",
      "\n",
      "[info] Paper_idx: 34, Zenodo id: 13904838\n"
     ]
    },
    {
     "name": "stderr",
     "output_type": "stream",
     "text": [
      "13904838.zip: 7.97MB [00:23, 344kB/s] \n"
     ]
    },
    {
     "name": "stdout",
     "output_type": "stream",
     "text": [
      "\n",
      "File successfully downloaded to: ./zenodo_dl/13904838.zip\n",
      "[info] File downloaded: ./zenodo_dl/13904838.zip\n",
      "\n",
      "[info] Paper_idx: 35, Zenodo id: 13904840\n"
     ]
    },
    {
     "name": "stderr",
     "output_type": "stream",
     "text": [
      "13904840.zip: 6.06MB [00:02, 2.32MB/s]\n"
     ]
    },
    {
     "name": "stdout",
     "output_type": "stream",
     "text": [
      "\n",
      "File successfully downloaded to: ./zenodo_dl/13904840.zip\n",
      "[info] File downloaded: ./zenodo_dl/13904840.zip\n",
      "\n",
      "[info] Paper_idx: 36, Zenodo id: 13904842\n"
     ]
    },
    {
     "name": "stderr",
     "output_type": "stream",
     "text": [
      "13904842.zip: 2.03MB [00:01, 1.16MB/s]\n"
     ]
    },
    {
     "name": "stdout",
     "output_type": "stream",
     "text": [
      "\n",
      "File successfully downloaded to: ./zenodo_dl/13904842.zip\n",
      "[info] File downloaded: ./zenodo_dl/13904842.zip\n",
      "\n",
      "[info] Paper_idx: 37, Zenodo id: 13904846\n"
     ]
    },
    {
     "name": "stderr",
     "output_type": "stream",
     "text": [
      "13904846.zip: 3.62MB [00:02, 1.78MB/s]\n"
     ]
    },
    {
     "name": "stdout",
     "output_type": "stream",
     "text": [
      "\n",
      "File successfully downloaded to: ./zenodo_dl/13904846.zip\n",
      "[info] File downloaded: ./zenodo_dl/13904846.zip\n",
      "\n",
      "[info] Paper_idx: 38, Zenodo id: 13904848\n"
     ]
    },
    {
     "name": "stderr",
     "output_type": "stream",
     "text": [
      "13904848.zip: 1.97MB [00:06, 313kB/s] \n"
     ]
    },
    {
     "name": "stdout",
     "output_type": "stream",
     "text": [
      "\n",
      "File successfully downloaded to: ./zenodo_dl/13904848.zip\n",
      "[info] File downloaded: ./zenodo_dl/13904848.zip\n",
      "\n",
      "[info] Paper_idx: 39, Zenodo id: 13904850\n"
     ]
    },
    {
     "name": "stderr",
     "output_type": "stream",
     "text": [
      "13904850.zip: 1.93MB [00:01, 1.12MB/s]\n"
     ]
    },
    {
     "name": "stdout",
     "output_type": "stream",
     "text": [
      "\n",
      "File successfully downloaded to: ./zenodo_dl/13904850.zip\n",
      "[info] File downloaded: ./zenodo_dl/13904850.zip\n",
      "\n",
      "[info] Paper_idx: 40, Zenodo id: 13904852\n"
     ]
    },
    {
     "name": "stderr",
     "output_type": "stream",
     "text": [
      "13904852.zip: 481kB [00:01, 275kB/s]  \n"
     ]
    },
    {
     "name": "stdout",
     "output_type": "stream",
     "text": [
      "\n",
      "File successfully downloaded to: ./zenodo_dl/13904852.zip\n",
      "[info] File downloaded: ./zenodo_dl/13904852.zip\n",
      "\n",
      "[info] Paper_idx: 41, Zenodo id: 13904854\n"
     ]
    },
    {
     "name": "stderr",
     "output_type": "stream",
     "text": [
      "13904854.zip: 18.1MB [00:49, 365kB/s] \n"
     ]
    },
    {
     "name": "stdout",
     "output_type": "stream",
     "text": [
      "\n",
      "File successfully downloaded to: ./zenodo_dl/13904854.zip\n",
      "[info] File downloaded: ./zenodo_dl/13904854.zip\n",
      "\n",
      "[info] Paper_idx: 42, Zenodo id: 13904858\n"
     ]
    },
    {
     "name": "stderr",
     "output_type": "stream",
     "text": [
      "13904858.zip: 941kB [00:01, 572kB/s]  \n"
     ]
    },
    {
     "name": "stdout",
     "output_type": "stream",
     "text": [
      "\n",
      "File successfully downloaded to: ./zenodo_dl/13904858.zip\n",
      "[info] File downloaded: ./zenodo_dl/13904858.zip\n",
      "\n",
      "[info] Paper_idx: 43, Zenodo id: 13904860\n"
     ]
    },
    {
     "name": "stderr",
     "output_type": "stream",
     "text": [
      "13904860.zip: 837kB [00:02, 290kB/s]  \n"
     ]
    },
    {
     "name": "stdout",
     "output_type": "stream",
     "text": [
      "\n",
      "File successfully downloaded to: ./zenodo_dl/13904860.zip\n",
      "[info] File downloaded: ./zenodo_dl/13904860.zip\n",
      "\n",
      "[info] Paper_idx: 44, Zenodo id: 13904862\n"
     ]
    },
    {
     "name": "stderr",
     "output_type": "stream",
     "text": [
      "13904862.zip: 3.32MB [00:09, 340kB/s] \n"
     ]
    },
    {
     "name": "stdout",
     "output_type": "stream",
     "text": [
      "\n",
      "File successfully downloaded to: ./zenodo_dl/13904862.zip\n",
      "[info] File downloaded: ./zenodo_dl/13904862.zip\n",
      "\n",
      "[info] Paper_idx: 45, Zenodo id: 13904864\n"
     ]
    },
    {
     "name": "stderr",
     "output_type": "stream",
     "text": [
      "13904864.zip: 41.6MB [01:25, 489kB/s] \n"
     ]
    },
    {
     "name": "stdout",
     "output_type": "stream",
     "text": [
      "\n",
      "File successfully downloaded to: ./zenodo_dl/13904864.zip\n",
      "[info] File downloaded: ./zenodo_dl/13904864.zip\n",
      "\n",
      "[info] Paper_idx: 46, Zenodo id: 13904867\n"
     ]
    },
    {
     "name": "stderr",
     "output_type": "stream",
     "text": [
      "13904867.zip: 3.63MB [00:10, 343kB/s] \n"
     ]
    },
    {
     "name": "stdout",
     "output_type": "stream",
     "text": [
      "\n",
      "File successfully downloaded to: ./zenodo_dl/13904867.zip\n",
      "[info] File downloaded: ./zenodo_dl/13904867.zip\n",
      "\n",
      "[info] Paper_idx: 47, Zenodo id: 13904869\n"
     ]
    },
    {
     "name": "stderr",
     "output_type": "stream",
     "text": [
      "13904869.zip: 11.1MB [00:08, 1.33MB/s]\n"
     ]
    },
    {
     "name": "stdout",
     "output_type": "stream",
     "text": [
      "\n",
      "File successfully downloaded to: ./zenodo_dl/13904869.zip\n",
      "[info] File downloaded: ./zenodo_dl/13904869.zip\n",
      "\n",
      "[info] Paper_idx: 48, Zenodo id: 13904872\n"
     ]
    },
    {
     "name": "stderr",
     "output_type": "stream",
     "text": [
      "13904872.zip: 219kB [00:01, 195kB/s]  \n"
     ]
    },
    {
     "name": "stdout",
     "output_type": "stream",
     "text": [
      "\n",
      "File successfully downloaded to: ./zenodo_dl/13904872.zip\n",
      "[info] File downloaded: ./zenodo_dl/13904872.zip\n",
      "\n",
      "[info] Paper_idx: 49, Zenodo id: 13904874\n"
     ]
    },
    {
     "name": "stderr",
     "output_type": "stream",
     "text": [
      "13904874.zip: 961kB [00:03, 314kB/s]  \n"
     ]
    },
    {
     "name": "stdout",
     "output_type": "stream",
     "text": [
      "\n",
      "File successfully downloaded to: ./zenodo_dl/13904874.zip\n",
      "[info] File downloaded: ./zenodo_dl/13904874.zip\n",
      "\n",
      "[info] Paper_idx: 50, Zenodo id: 13904876\n"
     ]
    },
    {
     "name": "stderr",
     "output_type": "stream",
     "text": [
      "13904876.zip: 6.27MB [00:17, 353kB/s] \n"
     ]
    },
    {
     "name": "stdout",
     "output_type": "stream",
     "text": [
      "\n",
      "File successfully downloaded to: ./zenodo_dl/13904876.zip\n",
      "[info] File downloaded: ./zenodo_dl/13904876.zip\n",
      "\n",
      "[info] Paper_idx: 51, Zenodo id: 13904878\n"
     ]
    },
    {
     "name": "stderr",
     "output_type": "stream",
     "text": [
      "13904878.zip: 19.3MB [00:53, 361kB/s] \n"
     ]
    },
    {
     "name": "stdout",
     "output_type": "stream",
     "text": [
      "\n",
      "File successfully downloaded to: ./zenodo_dl/13904878.zip\n",
      "[info] File downloaded: ./zenodo_dl/13904878.zip\n",
      "\n",
      "[info] Paper_idx: 52, Zenodo id: 13904880\n"
     ]
    },
    {
     "name": "stderr",
     "output_type": "stream",
     "text": [
      "13904880.zip: 2.42MB [00:07, 335kB/s] \n"
     ]
    },
    {
     "name": "stdout",
     "output_type": "stream",
     "text": [
      "\n",
      "File successfully downloaded to: ./zenodo_dl/13904880.zip\n",
      "[info] File downloaded: ./zenodo_dl/13904880.zip\n",
      "\n",
      "[info] Paper_idx: 53, Zenodo id: 13904882\n"
     ]
    },
    {
     "name": "stderr",
     "output_type": "stream",
     "text": [
      "13904882.zip: 4.92MB [00:13, 369kB/s] \n"
     ]
    },
    {
     "name": "stdout",
     "output_type": "stream",
     "text": [
      "\n",
      "File successfully downloaded to: ./zenodo_dl/13904882.zip\n",
      "[info] File downloaded: ./zenodo_dl/13904882.zip\n",
      "\n",
      "[info] Paper_idx: 54, Zenodo id: 13904884\n"
     ]
    },
    {
     "name": "stderr",
     "output_type": "stream",
     "text": [
      "13904884.zip: 417kB [00:01, 297kB/s]  \n"
     ]
    },
    {
     "name": "stdout",
     "output_type": "stream",
     "text": [
      "\n",
      "File successfully downloaded to: ./zenodo_dl/13904884.zip\n",
      "[info] File downloaded: ./zenodo_dl/13904884.zip\n",
      "\n",
      "[info] Paper_idx: 55, Zenodo id: 13904886\n"
     ]
    },
    {
     "name": "stderr",
     "output_type": "stream",
     "text": [
      "13904886.zip: 2.53MB [00:06, 364kB/s] \n"
     ]
    },
    {
     "name": "stdout",
     "output_type": "stream",
     "text": [
      "\n",
      "File successfully downloaded to: ./zenodo_dl/13904886.zip\n",
      "[info] File downloaded: ./zenodo_dl/13904886.zip\n",
      "\n",
      "[info] Paper_idx: 56, Zenodo id: 13904888\n"
     ]
    },
    {
     "name": "stderr",
     "output_type": "stream",
     "text": [
      "13904888.zip: 907kB [00:03, 292kB/s]  \n"
     ]
    },
    {
     "name": "stdout",
     "output_type": "stream",
     "text": [
      "\n",
      "File successfully downloaded to: ./zenodo_dl/13904888.zip\n",
      "[info] File downloaded: ./zenodo_dl/13904888.zip\n",
      "\n",
      "[info] Paper_idx: 57, Zenodo id: 13904891\n"
     ]
    },
    {
     "name": "stderr",
     "output_type": "stream",
     "text": [
      "13904891.zip: 33.5MB [01:29, 373kB/s] \n"
     ]
    },
    {
     "name": "stdout",
     "output_type": "stream",
     "text": [
      "\n",
      "File successfully downloaded to: ./zenodo_dl/13904891.zip\n",
      "[info] File downloaded: ./zenodo_dl/13904891.zip\n",
      "\n",
      "[info] Paper_idx: 58, Zenodo id: 13904893\n"
     ]
    },
    {
     "name": "stderr",
     "output_type": "stream",
     "text": [
      "13904893.zip: 2.87MB [00:08, 334kB/s] \n"
     ]
    },
    {
     "name": "stdout",
     "output_type": "stream",
     "text": [
      "\n",
      "File successfully downloaded to: ./zenodo_dl/13904893.zip\n",
      "[info] File downloaded: ./zenodo_dl/13904893.zip\n",
      "\n",
      "[info] Paper_idx: 59, Zenodo id: 13904895\n"
     ]
    },
    {
     "name": "stderr",
     "output_type": "stream",
     "text": [
      "13904895.zip: 891kB [00:03, 292kB/s]  \n"
     ]
    },
    {
     "name": "stdout",
     "output_type": "stream",
     "text": [
      "\n",
      "File successfully downloaded to: ./zenodo_dl/13904895.zip\n",
      "[info] File downloaded: ./zenodo_dl/13904895.zip\n",
      "\n",
      "[info] Paper_idx: 60, Zenodo id: 13904897\n"
     ]
    },
    {
     "name": "stderr",
     "output_type": "stream",
     "text": [
      "13904897.zip: 18.1MB [00:50, 357kB/s] \n"
     ]
    },
    {
     "name": "stdout",
     "output_type": "stream",
     "text": [
      "\n",
      "File successfully downloaded to: ./zenodo_dl/13904897.zip\n",
      "[info] File downloaded: ./zenodo_dl/13904897.zip\n",
      "\n",
      "[info] Paper_idx: 61, Zenodo id: 13904899\n"
     ]
    },
    {
     "name": "stderr",
     "output_type": "stream",
     "text": [
      "13904899.zip: 9.73MB [00:27, 349kB/s] \n"
     ]
    },
    {
     "name": "stdout",
     "output_type": "stream",
     "text": [
      "\n",
      "File successfully downloaded to: ./zenodo_dl/13904899.zip\n",
      "[info] File downloaded: ./zenodo_dl/13904899.zip\n",
      "\n",
      "[info] Paper_idx: 62, Zenodo id: 13904901\n"
     ]
    },
    {
     "name": "stderr",
     "output_type": "stream",
     "text": [
      "13904901.zip: 10.6MB [00:21, 492kB/s] \n"
     ]
    },
    {
     "name": "stdout",
     "output_type": "stream",
     "text": [
      "\n",
      "File successfully downloaded to: ./zenodo_dl/13904901.zip\n",
      "[info] File downloaded: ./zenodo_dl/13904901.zip\n",
      "\n",
      "[info] Paper_idx: 63, Zenodo id: 13904903\n"
     ]
    },
    {
     "name": "stderr",
     "output_type": "stream",
     "text": [
      "13904903.zip: 3.20MB [00:09, 348kB/s] \n"
     ]
    },
    {
     "name": "stdout",
     "output_type": "stream",
     "text": [
      "\n",
      "File successfully downloaded to: ./zenodo_dl/13904903.zip\n",
      "[info] File downloaded: ./zenodo_dl/13904903.zip\n",
      "\n",
      "[info] Paper_idx: 64, Zenodo id: 13904905\n"
     ]
    },
    {
     "name": "stderr",
     "output_type": "stream",
     "text": [
      "13904905.zip: 4.73MB [00:12, 367kB/s] \n"
     ]
    },
    {
     "name": "stdout",
     "output_type": "stream",
     "text": [
      "\n",
      "File successfully downloaded to: ./zenodo_dl/13904905.zip\n",
      "[info] File downloaded: ./zenodo_dl/13904905.zip\n",
      "\n",
      "[info] Paper_idx: 65, Zenodo id: 13904907\n"
     ]
    },
    {
     "name": "stderr",
     "output_type": "stream",
     "text": [
      "13904907.zip: 614kB [00:02, 228kB/s]  \n"
     ]
    },
    {
     "name": "stdout",
     "output_type": "stream",
     "text": [
      "\n",
      "File successfully downloaded to: ./zenodo_dl/13904907.zip\n",
      "[info] File downloaded: ./zenodo_dl/13904907.zip\n",
      "\n",
      "[info] Paper_idx: 66, Zenodo id: 13904909\n"
     ]
    },
    {
     "name": "stderr",
     "output_type": "stream",
     "text": [
      "13904909.zip: 29.1MB [01:21, 357kB/s] \n"
     ]
    },
    {
     "name": "stdout",
     "output_type": "stream",
     "text": [
      "\n",
      "File successfully downloaded to: ./zenodo_dl/13904909.zip\n",
      "[info] File downloaded: ./zenodo_dl/13904909.zip\n",
      "\n",
      "[info] Paper_idx: 67, Zenodo id: 13904917\n"
     ]
    },
    {
     "name": "stderr",
     "output_type": "stream",
     "text": [
      "13904917.zip: 8.89MB [00:24, 369kB/s] \n"
     ]
    },
    {
     "name": "stdout",
     "output_type": "stream",
     "text": [
      "\n",
      "File successfully downloaded to: ./zenodo_dl/13904917.zip\n",
      "[info] File downloaded: ./zenodo_dl/13904917.zip\n",
      "\n",
      "[info] Paper_idx: 68, Zenodo id: 13904921\n"
     ]
    },
    {
     "name": "stderr",
     "output_type": "stream",
     "text": [
      "13904921.zip: 19.6MB [00:52, 376kB/s] \n"
     ]
    },
    {
     "name": "stdout",
     "output_type": "stream",
     "text": [
      "\n",
      "File successfully downloaded to: ./zenodo_dl/13904921.zip\n",
      "[info] File downloaded: ./zenodo_dl/13904921.zip\n",
      "\n",
      "[info] Paper_idx: 69, Zenodo id: 13904923\n"
     ]
    },
    {
     "name": "stderr",
     "output_type": "stream",
     "text": [
      "13904923.zip: 1.17MB [00:03, 324kB/s] \n"
     ]
    },
    {
     "name": "stdout",
     "output_type": "stream",
     "text": [
      "\n",
      "File successfully downloaded to: ./zenodo_dl/13904923.zip\n",
      "[info] File downloaded: ./zenodo_dl/13904923.zip\n",
      "\n",
      "[info] Paper_idx: 70, Zenodo id: 13904927\n"
     ]
    },
    {
     "name": "stderr",
     "output_type": "stream",
     "text": [
      "13904927.zip: 188kB [00:00, 221kB/s]  \n"
     ]
    },
    {
     "name": "stdout",
     "output_type": "stream",
     "text": [
      "\n",
      "File successfully downloaded to: ./zenodo_dl/13904927.zip\n",
      "[info] File downloaded: ./zenodo_dl/13904927.zip\n",
      "\n",
      "[info] Paper_idx: 71, Zenodo id: 13904929\n"
     ]
    },
    {
     "name": "stderr",
     "output_type": "stream",
     "text": [
      "13904929.zip: 1.27MB [00:03, 326kB/s] \n"
     ]
    },
    {
     "name": "stdout",
     "output_type": "stream",
     "text": [
      "\n",
      "File successfully downloaded to: ./zenodo_dl/13904929.zip\n",
      "[info] File downloaded: ./zenodo_dl/13904929.zip\n",
      "\n",
      "[info] Paper_idx: 72, Zenodo id: 13904931\n"
     ]
    },
    {
     "name": "stderr",
     "output_type": "stream",
     "text": [
      "13904931.zip: 830kB [00:02, 298kB/s]  \n"
     ]
    },
    {
     "name": "stdout",
     "output_type": "stream",
     "text": [
      "\n",
      "File successfully downloaded to: ./zenodo_dl/13904931.zip\n",
      "[info] File downloaded: ./zenodo_dl/13904931.zip\n",
      "\n",
      "[info] Paper_idx: 73, Zenodo id: 13904935\n"
     ]
    },
    {
     "name": "stderr",
     "output_type": "stream",
     "text": [
      "13904935.zip: 1.52MB [00:04, 321kB/s] \n"
     ]
    },
    {
     "name": "stdout",
     "output_type": "stream",
     "text": [
      "\n",
      "File successfully downloaded to: ./zenodo_dl/13904935.zip\n",
      "[info] File downloaded: ./zenodo_dl/13904935.zip\n",
      "\n",
      "[info] Paper_idx: 74, Zenodo id: 13904937\n"
     ]
    },
    {
     "name": "stderr",
     "output_type": "stream",
     "text": [
      "13904937.zip: 5.35MB [00:14, 371kB/s] \n"
     ]
    },
    {
     "name": "stdout",
     "output_type": "stream",
     "text": [
      "\n",
      "File successfully downloaded to: ./zenodo_dl/13904937.zip\n",
      "[info] File downloaded: ./zenodo_dl/13904937.zip\n",
      "\n",
      "[info] Paper_idx: 75, Zenodo id: 13904939\n"
     ]
    },
    {
     "name": "stderr",
     "output_type": "stream",
     "text": [
      "13904939.zip: 8.40MB [00:23, 361kB/s] \n"
     ]
    },
    {
     "name": "stdout",
     "output_type": "stream",
     "text": [
      "\n",
      "File successfully downloaded to: ./zenodo_dl/13904939.zip\n",
      "[info] File downloaded: ./zenodo_dl/13904939.zip\n",
      "\n",
      "[info] Paper_idx: 76, Zenodo id: 13904941\n"
     ]
    },
    {
     "name": "stderr",
     "output_type": "stream",
     "text": [
      "13904941.zip: 8.02MB [00:22, 353kB/s] \n"
     ]
    },
    {
     "name": "stdout",
     "output_type": "stream",
     "text": [
      "\n",
      "File successfully downloaded to: ./zenodo_dl/13904941.zip\n",
      "[info] File downloaded: ./zenodo_dl/13904941.zip\n",
      "\n",
      "[info] Paper_idx: 77, Zenodo id: 13904943\n"
     ]
    },
    {
     "name": "stderr",
     "output_type": "stream",
     "text": [
      "13904943.zip: 793kB [00:02, 318kB/s]  \n"
     ]
    },
    {
     "name": "stdout",
     "output_type": "stream",
     "text": [
      "\n",
      "File successfully downloaded to: ./zenodo_dl/13904943.zip\n",
      "[info] File downloaded: ./zenodo_dl/13904943.zip\n",
      "\n",
      "[info] Paper_idx: 78, Zenodo id: 13904945\n"
     ]
    },
    {
     "name": "stderr",
     "output_type": "stream",
     "text": [
      "13904945.zip: 49.4MB [00:54, 907kB/s] \n"
     ]
    },
    {
     "name": "stdout",
     "output_type": "stream",
     "text": [
      "\n",
      "File successfully downloaded to: ./zenodo_dl/13904945.zip\n",
      "[info] File downloaded: ./zenodo_dl/13904945.zip\n",
      "\n",
      "[info] Paper_idx: 79, Zenodo id: 13904947\n"
     ]
    },
    {
     "name": "stderr",
     "output_type": "stream",
     "text": [
      "13904947.zip: 483kB [00:01, 287kB/s]  \n"
     ]
    },
    {
     "name": "stdout",
     "output_type": "stream",
     "text": [
      "\n",
      "File successfully downloaded to: ./zenodo_dl/13904947.zip\n",
      "[info] File downloaded: ./zenodo_dl/13904947.zip\n",
      "\n",
      "[info] Paper_idx: 80, Zenodo id: 13904949\n"
     ]
    },
    {
     "name": "stderr",
     "output_type": "stream",
     "text": [
      "13904949.zip: 3.84MB [00:10, 374kB/s] \n"
     ]
    },
    {
     "name": "stdout",
     "output_type": "stream",
     "text": [
      "\n",
      "File successfully downloaded to: ./zenodo_dl/13904949.zip\n",
      "[info] File downloaded: ./zenodo_dl/13904949.zip\n",
      "\n",
      "[info] Paper_idx: 81, Zenodo id: 13904951\n"
     ]
    },
    {
     "name": "stderr",
     "output_type": "stream",
     "text": [
      "13904951.zip: 13.1MB [00:35, 364kB/s] \n"
     ]
    },
    {
     "name": "stdout",
     "output_type": "stream",
     "text": [
      "\n",
      "File successfully downloaded to: ./zenodo_dl/13904951.zip\n",
      "[info] File downloaded: ./zenodo_dl/13904951.zip\n",
      "\n",
      "[info] Paper_idx: 82, Zenodo id: 13904953\n"
     ]
    },
    {
     "name": "stderr",
     "output_type": "stream",
     "text": [
      "13904953.zip: 3.90MB [00:11, 343kB/s] \n"
     ]
    },
    {
     "name": "stdout",
     "output_type": "stream",
     "text": [
      "\n",
      "File successfully downloaded to: ./zenodo_dl/13904953.zip\n",
      "[info] File downloaded: ./zenodo_dl/13904953.zip\n",
      "\n",
      "[info] Paper_idx: 83, Zenodo id: 13904955\n"
     ]
    },
    {
     "name": "stderr",
     "output_type": "stream",
     "text": [
      "13904955.zip: 1.73MB [00:04, 347kB/s] \n"
     ]
    },
    {
     "name": "stdout",
     "output_type": "stream",
     "text": [
      "\n",
      "File successfully downloaded to: ./zenodo_dl/13904955.zip\n",
      "[info] File downloaded: ./zenodo_dl/13904955.zip\n",
      "\n",
      "[info] Paper_idx: 84, Zenodo id: 13904957\n"
     ]
    },
    {
     "name": "stderr",
     "output_type": "stream",
     "text": [
      "13904957.zip: 2.05MB [00:05, 370kB/s] \n"
     ]
    },
    {
     "name": "stdout",
     "output_type": "stream",
     "text": [
      "\n",
      "File successfully downloaded to: ./zenodo_dl/13904957.zip\n",
      "[info] File downloaded: ./zenodo_dl/13904957.zip\n",
      "\n",
      "[info] Paper_idx: 85, Zenodo id: 13904959\n"
     ]
    },
    {
     "name": "stderr",
     "output_type": "stream",
     "text": [
      "13904959.zip: 1.45MB [00:04, 326kB/s] \n"
     ]
    },
    {
     "name": "stdout",
     "output_type": "stream",
     "text": [
      "\n",
      "File successfully downloaded to: ./zenodo_dl/13904959.zip\n",
      "[info] File downloaded: ./zenodo_dl/13904959.zip\n",
      "\n",
      "[info] Paper_idx: 86, Zenodo id: 13904961\n"
     ]
    },
    {
     "name": "stderr",
     "output_type": "stream",
     "text": [
      "13904961.zip: 3.90MB [00:10, 361kB/s] \n"
     ]
    },
    {
     "name": "stdout",
     "output_type": "stream",
     "text": [
      "\n",
      "File successfully downloaded to: ./zenodo_dl/13904961.zip\n",
      "[info] File downloaded: ./zenodo_dl/13904961.zip\n",
      "\n",
      "[info] Paper_idx: 87, Zenodo id: 13904963\n"
     ]
    },
    {
     "name": "stderr",
     "output_type": "stream",
     "text": [
      "13904963.zip: 32.3MB [01:29, 359kB/s] \n"
     ]
    },
    {
     "name": "stdout",
     "output_type": "stream",
     "text": [
      "\n",
      "File successfully downloaded to: ./zenodo_dl/13904963.zip\n",
      "[info] File downloaded: ./zenodo_dl/13904963.zip\n",
      "\n",
      "[info] Paper_idx: 88, Zenodo id: 13904969\n"
     ]
    },
    {
     "name": "stderr",
     "output_type": "stream",
     "text": [
      "13904969.zip: 23.0MB [01:03, 365kB/s] \n"
     ]
    },
    {
     "name": "stdout",
     "output_type": "stream",
     "text": [
      "\n",
      "File successfully downloaded to: ./zenodo_dl/13904969.zip\n",
      "[info] File downloaded: ./zenodo_dl/13904969.zip\n",
      "\n",
      "[info] Paper_idx: 89, Zenodo id: 13904971\n"
     ]
    },
    {
     "name": "stderr",
     "output_type": "stream",
     "text": [
      "13904971.zip: 39.0MB [01:43, 375kB/s] \n"
     ]
    },
    {
     "name": "stdout",
     "output_type": "stream",
     "text": [
      "\n",
      "File successfully downloaded to: ./zenodo_dl/13904971.zip\n",
      "[info] File downloaded: ./zenodo_dl/13904971.zip\n",
      "\n",
      "[info] Paper_idx: 90, Zenodo id: 13904973\n"
     ]
    },
    {
     "name": "stderr",
     "output_type": "stream",
     "text": [
      "13904973.zip: 2.48MB [00:06, 357kB/s] \n"
     ]
    },
    {
     "name": "stdout",
     "output_type": "stream",
     "text": [
      "\n",
      "File successfully downloaded to: ./zenodo_dl/13904973.zip\n",
      "[info] File downloaded: ./zenodo_dl/13904973.zip\n",
      "\n",
      "[info] Paper_idx: 91, Zenodo id: 13904975\n"
     ]
    },
    {
     "name": "stderr",
     "output_type": "stream",
     "text": [
      "13904975.zip: 3.06MB [00:09, 335kB/s] \n"
     ]
    },
    {
     "name": "stdout",
     "output_type": "stream",
     "text": [
      "\n",
      "File successfully downloaded to: ./zenodo_dl/13904975.zip\n",
      "[info] File downloaded: ./zenodo_dl/13904975.zip\n",
      "\n",
      "[info] Paper_idx: 92, Zenodo id: 13904977\n"
     ]
    },
    {
     "name": "stderr",
     "output_type": "stream",
     "text": [
      "13904977.zip: 1.66MB [00:04, 333kB/s] \n"
     ]
    },
    {
     "name": "stdout",
     "output_type": "stream",
     "text": [
      "\n",
      "File successfully downloaded to: ./zenodo_dl/13904977.zip\n",
      "[info] File downloaded: ./zenodo_dl/13904977.zip\n",
      "\n",
      "[info] Paper_idx: 93, Zenodo id: 13904980\n"
     ]
    },
    {
     "name": "stderr",
     "output_type": "stream",
     "text": [
      "13904980.zip: 1.65MB [00:05, 313kB/s] \n"
     ]
    },
    {
     "name": "stdout",
     "output_type": "stream",
     "text": [
      "\n",
      "File successfully downloaded to: ./zenodo_dl/13904980.zip\n",
      "[info] File downloaded: ./zenodo_dl/13904980.zip\n",
      "\n",
      "[info] Paper_idx: 94, Zenodo id: 11189088\n"
     ]
    },
    {
     "name": "stderr",
     "output_type": "stream",
     "text": [
      "11189088.zip: 1.73MB [00:05, 328kB/s] \n"
     ]
    },
    {
     "name": "stdout",
     "output_type": "stream",
     "text": [
      "\n",
      "File successfully downloaded to: ./zenodo_dl/11189088.zip\n",
      "[info] File downloaded: ./zenodo_dl/11189088.zip\n",
      "\n",
      "[info] Paper_idx: 95, Zenodo id: 11189090\n"
     ]
    },
    {
     "name": "stderr",
     "output_type": "stream",
     "text": [
      "11189090.zip: 1.54MB [00:04, 309kB/s] \n"
     ]
    },
    {
     "name": "stdout",
     "output_type": "stream",
     "text": [
      "\n",
      "File successfully downloaded to: ./zenodo_dl/11189090.zip\n",
      "[info] File downloaded: ./zenodo_dl/11189090.zip\n",
      "\n",
      "[info] Paper_idx: 96, Zenodo id: 11189092\n"
     ]
    },
    {
     "name": "stderr",
     "output_type": "stream",
     "text": [
      "11189092.zip: 42.6MB [01:47, 397kB/s] \n"
     ]
    },
    {
     "name": "stdout",
     "output_type": "stream",
     "text": [
      "\n",
      "File successfully downloaded to: ./zenodo_dl/11189092.zip\n",
      "[info] File downloaded: ./zenodo_dl/11189092.zip\n",
      "\n",
      "[info] Paper_idx: 97, Zenodo id: 11189094\n"
     ]
    },
    {
     "name": "stderr",
     "output_type": "stream",
     "text": [
      "11189094.zip: 12.1MB [00:33, 357kB/s] \n"
     ]
    },
    {
     "name": "stdout",
     "output_type": "stream",
     "text": [
      "\n",
      "File successfully downloaded to: ./zenodo_dl/11189094.zip\n",
      "[info] File downloaded: ./zenodo_dl/11189094.zip\n",
      "\n",
      "[info] Paper_idx: 98, Zenodo id: 11189096\n"
     ]
    },
    {
     "name": "stderr",
     "output_type": "stream",
     "text": [
      "11189096.zip: 4.68MB [00:13, 352kB/s] \n"
     ]
    },
    {
     "name": "stdout",
     "output_type": "stream",
     "text": [
      "\n",
      "File successfully downloaded to: ./zenodo_dl/11189096.zip\n",
      "[info] File downloaded: ./zenodo_dl/11189096.zip\n",
      "\n",
      "[info] Paper_idx: 99, Zenodo id: 11189098\n"
     ]
    },
    {
     "name": "stderr",
     "output_type": "stream",
     "text": [
      "11189098.zip: 9.47MB [00:02, 3.68MB/s]\n"
     ]
    },
    {
     "name": "stdout",
     "output_type": "stream",
     "text": [
      "\n",
      "File successfully downloaded to: ./zenodo_dl/11189098.zip\n",
      "[info] File downloaded: ./zenodo_dl/11189098.zip\n",
      "\n",
      "[info] Paper_idx: 100, Zenodo id: 11189100\n"
     ]
    },
    {
     "name": "stderr",
     "output_type": "stream",
     "text": [
      "11189100.zip: 1.10MB [00:01, 672kB/s] \n"
     ]
    },
    {
     "name": "stdout",
     "output_type": "stream",
     "text": [
      "\n",
      "File successfully downloaded to: ./zenodo_dl/11189100.zip\n",
      "[info] File downloaded: ./zenodo_dl/11189100.zip\n",
      "\n",
      "[info] Paper_idx: 101, Zenodo id: 11189104\n"
     ]
    },
    {
     "name": "stderr",
     "output_type": "stream",
     "text": [
      "11189104.zip: 6.40MB [00:02, 2.55MB/s]\n"
     ]
    },
    {
     "name": "stdout",
     "output_type": "stream",
     "text": [
      "\n",
      "File successfully downloaded to: ./zenodo_dl/11189104.zip\n",
      "[info] File downloaded: ./zenodo_dl/11189104.zip\n",
      "\n",
      "[info] Paper_idx: 102, Zenodo id: 11189106\n"
     ]
    },
    {
     "name": "stderr",
     "output_type": "stream",
     "text": [
      "11189106.zip: 2.16MB [00:01, 1.14MB/s]\n"
     ]
    },
    {
     "name": "stdout",
     "output_type": "stream",
     "text": [
      "\n",
      "File successfully downloaded to: ./zenodo_dl/11189106.zip\n",
      "[info] File downloaded: ./zenodo_dl/11189106.zip\n",
      "\n",
      "[info] Paper_idx: 103, Zenodo id: 11189108\n"
     ]
    },
    {
     "name": "stderr",
     "output_type": "stream",
     "text": [
      "11189108.zip: 1.24MB [00:02, 469kB/s] \n"
     ]
    },
    {
     "name": "stdout",
     "output_type": "stream",
     "text": [
      "\n",
      "File successfully downloaded to: ./zenodo_dl/11189108.zip\n",
      "[info] File downloaded: ./zenodo_dl/11189108.zip\n",
      "\n",
      "[info] Paper_idx: 104, Zenodo id: 11189110\n"
     ]
    },
    {
     "name": "stderr",
     "output_type": "stream",
     "text": [
      "11189110.zip: 5.31MB [00:02, 2.35MB/s]\n"
     ]
    },
    {
     "name": "stdout",
     "output_type": "stream",
     "text": [
      "\n",
      "File successfully downloaded to: ./zenodo_dl/11189110.zip\n",
      "[info] File downloaded: ./zenodo_dl/11189110.zip\n",
      "\n",
      "[info] Paper_idx: 105, Zenodo id: 11189114\n"
     ]
    },
    {
     "name": "stderr",
     "output_type": "stream",
     "text": [
      "11189114.zip: 486kB [00:01, 352kB/s]  \n"
     ]
    },
    {
     "name": "stdout",
     "output_type": "stream",
     "text": [
      "\n",
      "File successfully downloaded to: ./zenodo_dl/11189114.zip\n",
      "[info] File downloaded: ./zenodo_dl/11189114.zip\n",
      "\n",
      "[info] Paper_idx: 106, Zenodo id: 11189118\n"
     ]
    },
    {
     "name": "stderr",
     "output_type": "stream",
     "text": [
      "11189118.zip: 616kB [00:01, 441kB/s]  \n"
     ]
    },
    {
     "name": "stdout",
     "output_type": "stream",
     "text": [
      "\n",
      "File successfully downloaded to: ./zenodo_dl/11189118.zip\n",
      "[info] File downloaded: ./zenodo_dl/11189118.zip\n",
      "\n",
      "[info] Paper_idx: 107, Zenodo id: 11189120\n"
     ]
    },
    {
     "name": "stderr",
     "output_type": "stream",
     "text": [
      "11189120.zip: 234kB [00:00, 264kB/s]  \n"
     ]
    },
    {
     "name": "stdout",
     "output_type": "stream",
     "text": [
      "\n",
      "File successfully downloaded to: ./zenodo_dl/11189120.zip\n",
      "[info] File downloaded: ./zenodo_dl/11189120.zip\n",
      "\n",
      "[info] Paper_idx: 108, Zenodo id: 11189125\n"
     ]
    },
    {
     "name": "stderr",
     "output_type": "stream",
     "text": [
      "11189125.zip: 6.00MB [00:02, 2.39MB/s]\n"
     ]
    },
    {
     "name": "stdout",
     "output_type": "stream",
     "text": [
      "\n",
      "File successfully downloaded to: ./zenodo_dl/11189125.zip\n",
      "[info] File downloaded: ./zenodo_dl/11189125.zip\n",
      "\n",
      "[info] Paper_idx: 109, Zenodo id: 11189127\n"
     ]
    },
    {
     "name": "stderr",
     "output_type": "stream",
     "text": [
      "11189127.zip: 2.08MB [00:01, 1.22MB/s]\n"
     ]
    },
    {
     "name": "stdout",
     "output_type": "stream",
     "text": [
      "\n",
      "File successfully downloaded to: ./zenodo_dl/11189127.zip\n",
      "[info] File downloaded: ./zenodo_dl/11189127.zip\n",
      "\n",
      "[info] Paper_idx: 110, Zenodo id: 11189129\n"
     ]
    },
    {
     "name": "stderr",
     "output_type": "stream",
     "text": [
      "11189129.zip: 1.73MB [00:01, 1.03MB/s]\n"
     ]
    },
    {
     "name": "stdout",
     "output_type": "stream",
     "text": [
      "\n",
      "File successfully downloaded to: ./zenodo_dl/11189129.zip\n",
      "[info] File downloaded: ./zenodo_dl/11189129.zip\n",
      "\n",
      "[info] Paper_idx: 111, Zenodo id: 11189131\n"
     ]
    },
    {
     "name": "stderr",
     "output_type": "stream",
     "text": [
      "11189131.zip: 3.00MB [00:01, 1.53MB/s]\n"
     ]
    },
    {
     "name": "stdout",
     "output_type": "stream",
     "text": [
      "\n",
      "File successfully downloaded to: ./zenodo_dl/11189131.zip\n",
      "[info] File downloaded: ./zenodo_dl/11189131.zip\n",
      "\n",
      "[info] Paper_idx: 112, Zenodo id: 11189133\n"
     ]
    },
    {
     "name": "stderr",
     "output_type": "stream",
     "text": [
      "11189133.zip: 3.10MB [00:01, 1.59MB/s]\n"
     ]
    },
    {
     "name": "stdout",
     "output_type": "stream",
     "text": [
      "\n",
      "File successfully downloaded to: ./zenodo_dl/11189133.zip\n",
      "[info] File downloaded: ./zenodo_dl/11189133.zip\n",
      "\n",
      "[info] Paper_idx: 113, Zenodo id: 11189135\n"
     ]
    },
    {
     "name": "stderr",
     "output_type": "stream",
     "text": [
      "11189135.zip: 13.1MB [00:35, 367kB/s] \n"
     ]
    },
    {
     "name": "stdout",
     "output_type": "stream",
     "text": [
      "\n",
      "File successfully downloaded to: ./zenodo_dl/11189135.zip\n",
      "[info] File downloaded: ./zenodo_dl/11189135.zip\n",
      "\n",
      "[info] Paper_idx: 114, Zenodo id: 11189139\n"
     ]
    },
    {
     "name": "stderr",
     "output_type": "stream",
     "text": [
      "11189139.zip: 6.50MB [00:17, 373kB/s] \n"
     ]
    },
    {
     "name": "stdout",
     "output_type": "stream",
     "text": [
      "\n",
      "File successfully downloaded to: ./zenodo_dl/11189139.zip\n",
      "[info] File downloaded: ./zenodo_dl/11189139.zip\n",
      "\n",
      "[info] Paper_idx: 115, Zenodo id: 11189141\n"
     ]
    },
    {
     "name": "stderr",
     "output_type": "stream",
     "text": [
      "11189141.zip: 168kB [00:00, 200kB/s]  \n"
     ]
    },
    {
     "name": "stdout",
     "output_type": "stream",
     "text": [
      "\n",
      "File successfully downloaded to: ./zenodo_dl/11189141.zip\n",
      "[info] File downloaded: ./zenodo_dl/11189141.zip\n",
      "\n",
      "[info] Paper_idx: 116, Zenodo id: 11189144\n"
     ]
    },
    {
     "name": "stderr",
     "output_type": "stream",
     "text": [
      "11189144.zip: 5.74MB [00:02, 2.53MB/s]\n"
     ]
    },
    {
     "name": "stdout",
     "output_type": "stream",
     "text": [
      "\n",
      "File successfully downloaded to: ./zenodo_dl/11189144.zip\n",
      "[info] File downloaded: ./zenodo_dl/11189144.zip\n",
      "\n",
      "[info] Paper_idx: 117, Zenodo id: 11189146\n"
     ]
    },
    {
     "name": "stderr",
     "output_type": "stream",
     "text": [
      "11189146.zip: 4.54MB [00:10, 420kB/s] \n"
     ]
    },
    {
     "name": "stdout",
     "output_type": "stream",
     "text": [
      "\n",
      "File successfully downloaded to: ./zenodo_dl/11189146.zip\n",
      "[info] File downloaded: ./zenodo_dl/11189146.zip\n",
      "\n",
      "[info] Paper_idx: 118, Zenodo id: 11189148\n"
     ]
    },
    {
     "name": "stderr",
     "output_type": "stream",
     "text": [
      "11189148.zip: 7.56MB [00:20, 364kB/s] \n"
     ]
    },
    {
     "name": "stdout",
     "output_type": "stream",
     "text": [
      "\n",
      "File successfully downloaded to: ./zenodo_dl/11189148.zip\n",
      "[info] File downloaded: ./zenodo_dl/11189148.zip\n",
      "\n",
      "[info] Paper_idx: 119, Zenodo id: 11189150\n"
     ]
    },
    {
     "name": "stderr",
     "output_type": "stream",
     "text": [
      "11189150.zip: 697kB [00:01, 499kB/s]  \n"
     ]
    },
    {
     "name": "stdout",
     "output_type": "stream",
     "text": [
      "\n",
      "File successfully downloaded to: ./zenodo_dl/11189150.zip\n",
      "[info] File downloaded: ./zenodo_dl/11189150.zip\n",
      "\n",
      "[info] Paper_idx: 120, Zenodo id: 11189153\n"
     ]
    },
    {
     "name": "stderr",
     "output_type": "stream",
     "text": [
      "11189153.zip: 1.35MB [00:01, 803kB/s] \n"
     ]
    },
    {
     "name": "stdout",
     "output_type": "stream",
     "text": [
      "\n",
      "File successfully downloaded to: ./zenodo_dl/11189153.zip\n",
      "[info] File downloaded: ./zenodo_dl/11189153.zip\n",
      "\n",
      "[info] Paper_idx: 121, Zenodo id: 11189155\n"
     ]
    },
    {
     "name": "stderr",
     "output_type": "stream",
     "text": [
      "11189155.zip: 3.08MB [00:01, 1.58MB/s]\n"
     ]
    },
    {
     "name": "stdout",
     "output_type": "stream",
     "text": [
      "\n",
      "File successfully downloaded to: ./zenodo_dl/11189155.zip\n",
      "[info] File downloaded: ./zenodo_dl/11189155.zip\n",
      "\n",
      "[info] Paper_idx: 122, Zenodo id: 11189157\n"
     ]
    },
    {
     "name": "stderr",
     "output_type": "stream",
     "text": [
      "11189157.zip: 24.0MB [01:05, 367kB/s] \n"
     ]
    },
    {
     "name": "stdout",
     "output_type": "stream",
     "text": [
      "\n",
      "File successfully downloaded to: ./zenodo_dl/11189157.zip\n",
      "[info] File downloaded: ./zenodo_dl/11189157.zip\n",
      "\n",
      "[info] Paper_idx: 123, Zenodo id: 11189159\n"
     ]
    },
    {
     "name": "stderr",
     "output_type": "stream",
     "text": [
      "11189159.zip: 1.54MB [00:04, 325kB/s] \n"
     ]
    },
    {
     "name": "stdout",
     "output_type": "stream",
     "text": [
      "\n",
      "File successfully downloaded to: ./zenodo_dl/11189159.zip\n",
      "[info] File downloaded: ./zenodo_dl/11189159.zip\n",
      "\n",
      "[info] Paper_idx: 124, Zenodo id: 11189162\n"
     ]
    },
    {
     "name": "stderr",
     "output_type": "stream",
     "text": [
      "11189162.zip: 3.41MB [00:09, 351kB/s] \n"
     ]
    },
    {
     "name": "stdout",
     "output_type": "stream",
     "text": [
      "\n",
      "File successfully downloaded to: ./zenodo_dl/11189162.zip\n",
      "[info] File downloaded: ./zenodo_dl/11189162.zip\n",
      "\n",
      "[info] Paper_idx: 125, Zenodo id: 11189164\n"
     ]
    },
    {
     "name": "stderr",
     "output_type": "stream",
     "text": [
      "11189164.zip: 549kB [00:01, 283kB/s]  \n"
     ]
    },
    {
     "name": "stdout",
     "output_type": "stream",
     "text": [
      "\n",
      "File successfully downloaded to: ./zenodo_dl/11189164.zip\n",
      "[info] File downloaded: ./zenodo_dl/11189164.zip\n",
      "\n",
      "[info] Paper_idx: 126, Zenodo id: 11189166\n"
     ]
    },
    {
     "name": "stderr",
     "output_type": "stream",
     "text": [
      "11189166.zip: 673kB [00:02, 304kB/s]  \n"
     ]
    },
    {
     "name": "stdout",
     "output_type": "stream",
     "text": [
      "\n",
      "File successfully downloaded to: ./zenodo_dl/11189166.zip\n",
      "[info] File downloaded: ./zenodo_dl/11189166.zip\n",
      "\n",
      "[info] Paper_idx: 127, Zenodo id: 11189168\n"
     ]
    },
    {
     "name": "stderr",
     "output_type": "stream",
     "text": [
      "11189168.zip: 7.85MB [00:20, 376kB/s] \n"
     ]
    },
    {
     "name": "stdout",
     "output_type": "stream",
     "text": [
      "\n",
      "File successfully downloaded to: ./zenodo_dl/11189168.zip\n",
      "[info] File downloaded: ./zenodo_dl/11189168.zip\n",
      "\n",
      "[info] Paper_idx: 128, Zenodo id: 11189170\n"
     ]
    },
    {
     "name": "stderr",
     "output_type": "stream",
     "text": [
      "11189170.zip: 5.70MB [00:14, 388kB/s] \n"
     ]
    },
    {
     "name": "stdout",
     "output_type": "stream",
     "text": [
      "\n",
      "File successfully downloaded to: ./zenodo_dl/11189170.zip\n",
      "[info] File downloaded: ./zenodo_dl/11189170.zip\n",
      "\n",
      "[info] Paper_idx: 129, Zenodo id: 11189174\n"
     ]
    },
    {
     "name": "stderr",
     "output_type": "stream",
     "text": [
      "11189174.zip: 1.59MB [00:05, 302kB/s] \n"
     ]
    },
    {
     "name": "stdout",
     "output_type": "stream",
     "text": [
      "\n",
      "File successfully downloaded to: ./zenodo_dl/11189174.zip\n",
      "[info] File downloaded: ./zenodo_dl/11189174.zip\n",
      "\n",
      "[info] Paper_idx: 130, Zenodo id: 11189176\n"
     ]
    },
    {
     "name": "stderr",
     "output_type": "stream",
     "text": [
      "11189176.zip: 275kB [00:02, 115kB/s]  \n"
     ]
    },
    {
     "name": "stdout",
     "output_type": "stream",
     "text": [
      "\n",
      "File successfully downloaded to: ./zenodo_dl/11189176.zip\n",
      "[info] File downloaded: ./zenodo_dl/11189176.zip\n",
      "\n",
      "[info] Paper_idx: 131, Zenodo id: 11189178\n"
     ]
    },
    {
     "name": "stderr",
     "output_type": "stream",
     "text": [
      "11189178.zip: 1.03MB [00:03, 288kB/s] \n"
     ]
    },
    {
     "name": "stdout",
     "output_type": "stream",
     "text": [
      "\n",
      "File successfully downloaded to: ./zenodo_dl/11189178.zip\n",
      "[info] File downloaded: ./zenodo_dl/11189178.zip\n",
      "\n",
      "[info] Paper_idx: 132, Zenodo id: 11189180\n"
     ]
    },
    {
     "name": "stderr",
     "output_type": "stream",
     "text": [
      "11189180.zip: 7.86MB [00:22, 349kB/s] \n"
     ]
    },
    {
     "name": "stdout",
     "output_type": "stream",
     "text": [
      "\n",
      "File successfully downloaded to: ./zenodo_dl/11189180.zip\n",
      "[info] File downloaded: ./zenodo_dl/11189180.zip\n",
      "\n",
      "[info] Paper_idx: 133, Zenodo id: 11189184\n"
     ]
    },
    {
     "name": "stderr",
     "output_type": "stream",
     "text": [
      "11189184.zip: 3.58MB [00:09, 367kB/s] \n"
     ]
    },
    {
     "name": "stdout",
     "output_type": "stream",
     "text": [
      "\n",
      "File successfully downloaded to: ./zenodo_dl/11189184.zip\n",
      "[info] File downloaded: ./zenodo_dl/11189184.zip\n",
      "\n",
      "[info] Paper_idx: 134, Zenodo id: 11189186\n"
     ]
    },
    {
     "name": "stderr",
     "output_type": "stream",
     "text": [
      "11189186.zip: 1.25MB [00:04, 301kB/s] \n"
     ]
    },
    {
     "name": "stdout",
     "output_type": "stream",
     "text": [
      "\n",
      "File successfully downloaded to: ./zenodo_dl/11189186.zip\n",
      "[info] File downloaded: ./zenodo_dl/11189186.zip\n",
      "\n",
      "[info] Paper_idx: 135, Zenodo id: 11189190\n"
     ]
    },
    {
     "name": "stderr",
     "output_type": "stream",
     "text": [
      "11189190.zip: 12.6MB [00:33, 374kB/s] \n"
     ]
    },
    {
     "name": "stdout",
     "output_type": "stream",
     "text": [
      "\n",
      "File successfully downloaded to: ./zenodo_dl/11189190.zip\n",
      "[info] File downloaded: ./zenodo_dl/11189190.zip\n",
      "\n",
      "[info] Paper_idx: 136, Zenodo id: 11189192\n"
     ]
    },
    {
     "name": "stderr",
     "output_type": "stream",
     "text": [
      "11189192.zip: 12.0MB [00:33, 359kB/s] \n"
     ]
    },
    {
     "name": "stdout",
     "output_type": "stream",
     "text": [
      "\n",
      "File successfully downloaded to: ./zenodo_dl/11189192.zip\n",
      "[info] File downloaded: ./zenodo_dl/11189192.zip\n",
      "\n",
      "[info] Paper_idx: 137, Zenodo id: 11189194\n"
     ]
    },
    {
     "name": "stderr",
     "output_type": "stream",
     "text": [
      "11189194.zip: 3.35MB [00:09, 367kB/s] \n"
     ]
    },
    {
     "name": "stdout",
     "output_type": "stream",
     "text": [
      "\n",
      "File successfully downloaded to: ./zenodo_dl/11189194.zip\n",
      "[info] File downloaded: ./zenodo_dl/11189194.zip\n",
      "\n",
      "[info] Paper_idx: 138, Zenodo id: 11189196\n"
     ]
    },
    {
     "name": "stderr",
     "output_type": "stream",
     "text": [
      "11189196.zip: 635kB [00:02, 287kB/s]  \n"
     ]
    },
    {
     "name": "stdout",
     "output_type": "stream",
     "text": [
      "\n",
      "File successfully downloaded to: ./zenodo_dl/11189196.zip\n",
      "[info] File downloaded: ./zenodo_dl/11189196.zip\n",
      "\n",
      "[info] Paper_idx: 139, Zenodo id: 11189198\n"
     ]
    },
    {
     "name": "stderr",
     "output_type": "stream",
     "text": [
      "11189198.zip: 518kB [00:01, 288kB/s]  \n"
     ]
    },
    {
     "name": "stdout",
     "output_type": "stream",
     "text": [
      "\n",
      "File successfully downloaded to: ./zenodo_dl/11189198.zip\n",
      "[info] File downloaded: ./zenodo_dl/11189198.zip\n",
      "\n",
      "[info] Paper_idx: 140, Zenodo id: 11189202\n"
     ]
    },
    {
     "name": "stderr",
     "output_type": "stream",
     "text": [
      "11189202.zip: 216kB [00:00, 232kB/s]  \n"
     ]
    },
    {
     "name": "stdout",
     "output_type": "stream",
     "text": [
      "\n",
      "File successfully downloaded to: ./zenodo_dl/11189202.zip\n",
      "[info] File downloaded: ./zenodo_dl/11189202.zip\n",
      "\n",
      "[info] Paper_idx: 141, Zenodo id: 11189204\n"
     ]
    },
    {
     "name": "stderr",
     "output_type": "stream",
     "text": [
      "11189204.zip: 1.24MB [00:03, 344kB/s] \n"
     ]
    },
    {
     "name": "stdout",
     "output_type": "stream",
     "text": [
      "\n",
      "File successfully downloaded to: ./zenodo_dl/11189204.zip\n",
      "[info] File downloaded: ./zenodo_dl/11189204.zip\n",
      "\n",
      "[info] Paper_idx: 142, Zenodo id: 11189206\n"
     ]
    },
    {
     "name": "stderr",
     "output_type": "stream",
     "text": [
      "11189206.zip: 3.28MB [00:09, 330kB/s] \n"
     ]
    },
    {
     "name": "stdout",
     "output_type": "stream",
     "text": [
      "\n",
      "File successfully downloaded to: ./zenodo_dl/11189206.zip\n",
      "[info] File downloaded: ./zenodo_dl/11189206.zip\n",
      "\n",
      "[info] Paper_idx: 143, Zenodo id: 11189208\n"
     ]
    },
    {
     "name": "stderr",
     "output_type": "stream",
     "text": [
      "11189208.zip: 1.16MB [00:03, 322kB/s] \n"
     ]
    },
    {
     "name": "stdout",
     "output_type": "stream",
     "text": [
      "\n",
      "File successfully downloaded to: ./zenodo_dl/11189208.zip\n",
      "[info] File downloaded: ./zenodo_dl/11189208.zip\n",
      "\n",
      "[info] Paper_idx: 144, Zenodo id: 11189210\n"
     ]
    },
    {
     "name": "stderr",
     "output_type": "stream",
     "text": [
      "11189210.zip: 534kB [00:01, 302kB/s] \n"
     ]
    },
    {
     "name": "stdout",
     "output_type": "stream",
     "text": [
      "\n",
      "File successfully downloaded to: ./zenodo_dl/11189210.zip\n",
      "[info] File downloaded: ./zenodo_dl/11189210.zip\n",
      "\n",
      "[info] Paper_idx: 145, Zenodo id: 11189212\n"
     ]
    },
    {
     "name": "stderr",
     "output_type": "stream",
     "text": [
      "11189212.zip: 8.37MB [00:22, 364kB/s] \n"
     ]
    },
    {
     "name": "stdout",
     "output_type": "stream",
     "text": [
      "\n",
      "File successfully downloaded to: ./zenodo_dl/11189212.zip\n",
      "[info] File downloaded: ./zenodo_dl/11189212.zip\n",
      "\n",
      "[info] Paper_idx: 146, Zenodo id: 11189216\n"
     ]
    },
    {
     "name": "stderr",
     "output_type": "stream",
     "text": [
      "11189216.zip: 3.29MB [00:09, 350kB/s] \n"
     ]
    },
    {
     "name": "stdout",
     "output_type": "stream",
     "text": [
      "\n",
      "File successfully downloaded to: ./zenodo_dl/11189216.zip\n",
      "[info] File downloaded: ./zenodo_dl/11189216.zip\n",
      "\n",
      "[info] Paper_idx: 147, Zenodo id: 11189218\n"
     ]
    },
    {
     "name": "stderr",
     "output_type": "stream",
     "text": [
      "11189218.zip: 17.5MB [00:47, 370kB/s] \n"
     ]
    },
    {
     "name": "stdout",
     "output_type": "stream",
     "text": [
      "\n",
      "File successfully downloaded to: ./zenodo_dl/11189218.zip\n",
      "[info] File downloaded: ./zenodo_dl/11189218.zip\n",
      "\n",
      "[info] Paper_idx: 148, Zenodo id: 11189220\n"
     ]
    },
    {
     "name": "stderr",
     "output_type": "stream",
     "text": [
      "11189220.zip: 1.32MB [00:04, 306kB/s] \n"
     ]
    },
    {
     "name": "stdout",
     "output_type": "stream",
     "text": [
      "\n",
      "File successfully downloaded to: ./zenodo_dl/11189220.zip\n",
      "[info] File downloaded: ./zenodo_dl/11189220.zip\n",
      "\n",
      "[info] Paper_idx: 149, Zenodo id: 11189224\n"
     ]
    },
    {
     "name": "stderr",
     "output_type": "stream",
     "text": [
      "11189224.zip: 189kB [00:00, 229kB/s]  \n"
     ]
    },
    {
     "name": "stdout",
     "output_type": "stream",
     "text": [
      "\n",
      "File successfully downloaded to: ./zenodo_dl/11189224.zip\n",
      "[info] File downloaded: ./zenodo_dl/11189224.zip\n",
      "\n",
      "[info] Paper_idx: 150, Zenodo id: 11189228\n"
     ]
    },
    {
     "name": "stderr",
     "output_type": "stream",
     "text": [
      "11189228.zip: 17.7MB [00:48, 363kB/s] \n"
     ]
    },
    {
     "name": "stdout",
     "output_type": "stream",
     "text": [
      "\n",
      "File successfully downloaded to: ./zenodo_dl/11189228.zip\n",
      "[info] File downloaded: ./zenodo_dl/11189228.zip\n",
      "\n",
      "[info] Paper_idx: 151, Zenodo id: 11189230\n"
     ]
    },
    {
     "name": "stderr",
     "output_type": "stream",
     "text": [
      "11189230.zip: 33.1MB [01:30, 367kB/s] \n"
     ]
    },
    {
     "name": "stdout",
     "output_type": "stream",
     "text": [
      "\n",
      "File successfully downloaded to: ./zenodo_dl/11189230.zip\n",
      "[info] File downloaded: ./zenodo_dl/11189230.zip\n",
      "\n",
      "[info] Paper_idx: 152, Zenodo id: 11189232\n"
     ]
    },
    {
     "name": "stderr",
     "output_type": "stream",
     "text": [
      "11189232.zip: 5.50MB [00:16, 343kB/s] \n"
     ]
    },
    {
     "name": "stdout",
     "output_type": "stream",
     "text": [
      "\n",
      "File successfully downloaded to: ./zenodo_dl/11189232.zip\n",
      "[info] File downloaded: ./zenodo_dl/11189232.zip\n",
      "\n",
      "[info] Paper_idx: 153, Zenodo id: 11189234\n"
     ]
    },
    {
     "name": "stderr",
     "output_type": "stream",
     "text": [
      "11189234.zip: 270kB [00:01, 243kB/s]  \n"
     ]
    },
    {
     "name": "stdout",
     "output_type": "stream",
     "text": [
      "\n",
      "File successfully downloaded to: ./zenodo_dl/11189234.zip\n",
      "[info] File downloaded: ./zenodo_dl/11189234.zip\n",
      "\n",
      "[info] Paper_idx: 154, Zenodo id: 11189236\n"
     ]
    },
    {
     "name": "stderr",
     "output_type": "stream",
     "text": [
      "11189236.zip: 14.4MB [00:39, 361kB/s] \n"
     ]
    },
    {
     "name": "stdout",
     "output_type": "stream",
     "text": [
      "\n",
      "File successfully downloaded to: ./zenodo_dl/11189236.zip\n",
      "[info] File downloaded: ./zenodo_dl/11189236.zip\n",
      "\n",
      "[info] Paper_idx: 155, Zenodo id: 11189238\n"
     ]
    },
    {
     "name": "stderr",
     "output_type": "stream",
     "text": [
      "11189238.zip: 500kB [00:01, 256kB/s]  \n"
     ]
    },
    {
     "name": "stdout",
     "output_type": "stream",
     "text": [
      "\n",
      "File successfully downloaded to: ./zenodo_dl/11189238.zip\n",
      "[info] File downloaded: ./zenodo_dl/11189238.zip\n",
      "\n",
      "[info] Paper_idx: 156, Zenodo id: 11189240\n"
     ]
    },
    {
     "name": "stderr",
     "output_type": "stream",
     "text": [
      "11189240.zip: 11.8MB [00:33, 351kB/s] \n"
     ]
    },
    {
     "name": "stdout",
     "output_type": "stream",
     "text": [
      "\n",
      "File successfully downloaded to: ./zenodo_dl/11189240.zip\n",
      "[info] File downloaded: ./zenodo_dl/11189240.zip\n",
      "\n",
      "[info] Paper_idx: 157, Zenodo id: 11189248\n"
     ]
    },
    {
     "name": "stderr",
     "output_type": "stream",
     "text": [
      "11189248.zip: 7.62MB [00:20, 376kB/s] \n"
     ]
    },
    {
     "name": "stdout",
     "output_type": "stream",
     "text": [
      "\n",
      "File successfully downloaded to: ./zenodo_dl/11189248.zip\n",
      "[info] File downloaded: ./zenodo_dl/11189248.zip\n",
      "\n",
      "[info] Paper_idx: 158, Zenodo id: 11189250\n"
     ]
    },
    {
     "name": "stderr",
     "output_type": "stream",
     "text": [
      "11189250.zip: 5.72MB [00:15, 369kB/s] \n"
     ]
    },
    {
     "name": "stdout",
     "output_type": "stream",
     "text": [
      "\n",
      "File successfully downloaded to: ./zenodo_dl/11189250.zip\n",
      "[info] File downloaded: ./zenodo_dl/11189250.zip\n",
      "\n",
      "[info] Paper_idx: 159, Zenodo id: 11189254\n"
     ]
    },
    {
     "name": "stderr",
     "output_type": "stream",
     "text": [
      "11189254.zip: 579kB [00:01, 295kB/s]  \n"
     ]
    },
    {
     "name": "stdout",
     "output_type": "stream",
     "text": [
      "\n",
      "File successfully downloaded to: ./zenodo_dl/11189254.zip\n",
      "[info] File downloaded: ./zenodo_dl/11189254.zip\n",
      "\n",
      "[info] Paper_idx: 160, Zenodo id: 11189256\n"
     ]
    },
    {
     "name": "stderr",
     "output_type": "stream",
     "text": [
      "11189256.zip: 7.92MB [00:22, 358kB/s] \n"
     ]
    },
    {
     "name": "stdout",
     "output_type": "stream",
     "text": [
      "\n",
      "File successfully downloaded to: ./zenodo_dl/11189256.zip\n",
      "[info] File downloaded: ./zenodo_dl/11189256.zip\n",
      "\n",
      "[info] Paper_idx: 161, Zenodo id: 11189258\n"
     ]
    },
    {
     "name": "stderr",
     "output_type": "stream",
     "text": [
      "11189258.zip: 2.60MB [00:06, 427kB/s] \n"
     ]
    },
    {
     "name": "stdout",
     "output_type": "stream",
     "text": [
      "\n",
      "File successfully downloaded to: ./zenodo_dl/11189258.zip\n",
      "[info] File downloaded: ./zenodo_dl/11189258.zip\n",
      "\n",
      "[info] Paper_idx: 162, Zenodo id: 11189260\n"
     ]
    },
    {
     "name": "stderr",
     "output_type": "stream",
     "text": [
      "11189260.zip: 6.02MB [00:17, 346kB/s] \n"
     ]
    },
    {
     "name": "stdout",
     "output_type": "stream",
     "text": [
      "\n",
      "File successfully downloaded to: ./zenodo_dl/11189260.zip\n",
      "[info] File downloaded: ./zenodo_dl/11189260.zip\n",
      "\n",
      "[info] Paper_idx: 163, Zenodo id: 11189262\n"
     ]
    },
    {
     "name": "stderr",
     "output_type": "stream",
     "text": [
      "11189262.zip: 4.08MB [00:11, 345kB/s] \n"
     ]
    },
    {
     "name": "stdout",
     "output_type": "stream",
     "text": [
      "\n",
      "File successfully downloaded to: ./zenodo_dl/11189262.zip\n",
      "[info] File downloaded: ./zenodo_dl/11189262.zip\n",
      "\n",
      "[info] Paper_idx: 164, Zenodo id: 11189266\n"
     ]
    },
    {
     "name": "stderr",
     "output_type": "stream",
     "text": [
      "11189266.zip: 50.2MB [00:31, 1.60MB/s]\n"
     ]
    },
    {
     "name": "stdout",
     "output_type": "stream",
     "text": [
      "\n",
      "File successfully downloaded to: ./zenodo_dl/11189266.zip\n",
      "[info] File downloaded: ./zenodo_dl/11189266.zip\n",
      "\n",
      "[info] Paper_idx: 165, Zenodo id: 11189270\n"
     ]
    },
    {
     "name": "stderr",
     "output_type": "stream",
     "text": [
      "11189270.zip: 276kB [00:01, 247kB/s]  \n"
     ]
    },
    {
     "name": "stdout",
     "output_type": "stream",
     "text": [
      "\n",
      "File successfully downloaded to: ./zenodo_dl/11189270.zip\n",
      "[info] File downloaded: ./zenodo_dl/11189270.zip\n",
      "\n",
      "[info] Paper_idx: 166, Zenodo id: 11189272\n"
     ]
    },
    {
     "name": "stderr",
     "output_type": "stream",
     "text": [
      "11189272.zip: 412kB [00:01, 296kB/s]  \n"
     ]
    },
    {
     "name": "stdout",
     "output_type": "stream",
     "text": [
      "\n",
      "File successfully downloaded to: ./zenodo_dl/11189272.zip\n",
      "[info] File downloaded: ./zenodo_dl/11189272.zip\n",
      "\n",
      "[info] Paper_idx: 167, Zenodo id: 11189274\n"
     ]
    },
    {
     "name": "stderr",
     "output_type": "stream",
     "text": [
      "11189274.zip: 1.29MB [00:03, 353kB/s] \n"
     ]
    },
    {
     "name": "stdout",
     "output_type": "stream",
     "text": [
      "\n",
      "File successfully downloaded to: ./zenodo_dl/11189274.zip\n",
      "[info] File downloaded: ./zenodo_dl/11189274.zip\n",
      "\n",
      "[info] Paper_idx: 168, Zenodo id: 11189278\n"
     ]
    },
    {
     "name": "stderr",
     "output_type": "stream",
     "text": [
      "11189278.zip: 1.31MB [00:04, 296kB/s] \n"
     ]
    },
    {
     "name": "stdout",
     "output_type": "stream",
     "text": [
      "\n",
      "File successfully downloaded to: ./zenodo_dl/11189278.zip\n",
      "[info] File downloaded: ./zenodo_dl/11189278.zip\n",
      "\n",
      "[info] Paper_idx: 169, Zenodo id: 11189282\n"
     ]
    },
    {
     "name": "stderr",
     "output_type": "stream",
     "text": [
      "11189282.zip: 360kB [00:01, 255kB/s]  \n"
     ]
    },
    {
     "name": "stdout",
     "output_type": "stream",
     "text": [
      "\n",
      "File successfully downloaded to: ./zenodo_dl/11189282.zip\n",
      "[info] File downloaded: ./zenodo_dl/11189282.zip\n",
      "\n",
      "[info] Paper_idx: 170, Zenodo id: 11189284\n"
     ]
    },
    {
     "name": "stderr",
     "output_type": "stream",
     "text": [
      "11189284.zip: 407kB [00:01, 284kB/s]  \n"
     ]
    },
    {
     "name": "stdout",
     "output_type": "stream",
     "text": [
      "\n",
      "File successfully downloaded to: ./zenodo_dl/11189284.zip\n",
      "[info] File downloaded: ./zenodo_dl/11189284.zip\n",
      "\n",
      "[info] Paper_idx: 171, Zenodo id: 11189286\n"
     ]
    },
    {
     "name": "stderr",
     "output_type": "stream",
     "text": [
      "11189286.zip: 3.80MB [00:07, 489kB/s] \n"
     ]
    },
    {
     "name": "stdout",
     "output_type": "stream",
     "text": [
      "\n",
      "File successfully downloaded to: ./zenodo_dl/11189286.zip\n",
      "[info] File downloaded: ./zenodo_dl/11189286.zip\n",
      "\n",
      "[info] Paper_idx: 172, Zenodo id: 11189288\n"
     ]
    },
    {
     "name": "stderr",
     "output_type": "stream",
     "text": [
      "11189288.zip: 2.51MB [00:07, 344kB/s] \n"
     ]
    },
    {
     "name": "stdout",
     "output_type": "stream",
     "text": [
      "\n",
      "File successfully downloaded to: ./zenodo_dl/11189288.zip\n",
      "[info] File downloaded: ./zenodo_dl/11189288.zip\n",
      "\n",
      "[info] Paper_idx: 173, Zenodo id: 11189290\n"
     ]
    },
    {
     "name": "stderr",
     "output_type": "stream",
     "text": [
      "11189290.zip: 2.85MB [00:08, 331kB/s] \n"
     ]
    },
    {
     "name": "stdout",
     "output_type": "stream",
     "text": [
      "\n",
      "File successfully downloaded to: ./zenodo_dl/11189290.zip\n",
      "[info] File downloaded: ./zenodo_dl/11189290.zip\n",
      "\n",
      "[info] Paper_idx: 174, Zenodo id: 11189296\n"
     ]
    },
    {
     "name": "stderr",
     "output_type": "stream",
     "text": [
      "11189296.zip: 1.06MB [00:02, 356kB/s] \n"
     ]
    },
    {
     "name": "stdout",
     "output_type": "stream",
     "text": [
      "\n",
      "File successfully downloaded to: ./zenodo_dl/11189296.zip\n",
      "[info] File downloaded: ./zenodo_dl/11189296.zip\n",
      "\n",
      "[info] Paper_idx: 175, Zenodo id: 11189298\n"
     ]
    },
    {
     "name": "stderr",
     "output_type": "stream",
     "text": [
      "11189298.zip: 317kB [00:01, 226kB/s]  \n"
     ]
    },
    {
     "name": "stdout",
     "output_type": "stream",
     "text": [
      "\n",
      "File successfully downloaded to: ./zenodo_dl/11189298.zip\n",
      "[info] File downloaded: ./zenodo_dl/11189298.zip\n",
      "\n",
      "[info] Paper_idx: 176, Zenodo id: 11189302\n"
     ]
    },
    {
     "name": "stderr",
     "output_type": "stream",
     "text": [
      "11189302.zip: 1.50MB [00:04, 302kB/s] \n"
     ]
    },
    {
     "name": "stdout",
     "output_type": "stream",
     "text": [
      "\n",
      "File successfully downloaded to: ./zenodo_dl/11189302.zip\n",
      "[info] File downloaded: ./zenodo_dl/11189302.zip\n",
      "\n",
      "[info] Paper_idx: 177, Zenodo id: 11189304\n"
     ]
    },
    {
     "name": "stderr",
     "output_type": "stream",
     "text": [
      "11189304.zip: 507kB [00:01, 256kB/s]  \n"
     ]
    },
    {
     "name": "stdout",
     "output_type": "stream",
     "text": [
      "\n",
      "File successfully downloaded to: ./zenodo_dl/11189304.zip\n",
      "[info] File downloaded: ./zenodo_dl/11189304.zip\n",
      "\n",
      "[info] Paper_idx: 178, Zenodo id: 11189306\n"
     ]
    },
    {
     "name": "stderr",
     "output_type": "stream",
     "text": [
      "11189306.zip: 418kB [00:01, 296kB/s]  \n"
     ]
    },
    {
     "name": "stdout",
     "output_type": "stream",
     "text": [
      "\n",
      "File successfully downloaded to: ./zenodo_dl/11189306.zip\n",
      "[info] File downloaded: ./zenodo_dl/11189306.zip\n",
      "\n",
      "[info] Paper_idx: 179, Zenodo id: 11189308\n"
     ]
    },
    {
     "name": "stderr",
     "output_type": "stream",
     "text": [
      "11189308.zip: 698kB [00:02, 279kB/s]  \n"
     ]
    },
    {
     "name": "stdout",
     "output_type": "stream",
     "text": [
      "\n",
      "File successfully downloaded to: ./zenodo_dl/11189308.zip\n",
      "[info] File downloaded: ./zenodo_dl/11189308.zip\n",
      "\n",
      "[info] Paper_idx: 180, Zenodo id: 11189310\n"
     ]
    },
    {
     "name": "stderr",
     "output_type": "stream",
     "text": [
      "11189310.zip: 495kB [00:01, 256kB/s]  \n"
     ]
    },
    {
     "name": "stdout",
     "output_type": "stream",
     "text": [
      "\n",
      "File successfully downloaded to: ./zenodo_dl/11189310.zip\n",
      "[info] File downloaded: ./zenodo_dl/11189310.zip\n",
      "\n",
      "[info] Paper_idx: 181, Zenodo id: 11189313\n"
     ]
    },
    {
     "name": "stderr",
     "output_type": "stream",
     "text": [
      "11189313.zip: 1.06MB [00:03, 295kB/s] \n"
     ]
    },
    {
     "name": "stdout",
     "output_type": "stream",
     "text": [
      "\n",
      "File successfully downloaded to: ./zenodo_dl/11189313.zip\n",
      "[info] File downloaded: ./zenodo_dl/11189313.zip\n",
      "\n",
      "[info] Paper_idx: 182, Zenodo id: 11189317\n"
     ]
    },
    {
     "name": "stderr",
     "output_type": "stream",
     "text": [
      "11189317.zip: 314kB [00:01, 218kB/s]  \n"
     ]
    },
    {
     "name": "stdout",
     "output_type": "stream",
     "text": [
      "\n",
      "File successfully downloaded to: ./zenodo_dl/11189317.zip\n",
      "[info] File downloaded: ./zenodo_dl/11189317.zip\n",
      "\n",
      "[info] Paper_idx: 183, Zenodo id: 11189319\n"
     ]
    },
    {
     "name": "stderr",
     "output_type": "stream",
     "text": [
      "11189319.zip: 10.2MB [00:28, 359kB/s] \n"
     ]
    },
    {
     "name": "stdout",
     "output_type": "stream",
     "text": [
      "\n",
      "File successfully downloaded to: ./zenodo_dl/11189319.zip\n",
      "[info] File downloaded: ./zenodo_dl/11189319.zip\n",
      "\n",
      "[info] Paper_idx: 184, Zenodo id: 11189321\n"
     ]
    },
    {
     "name": "stderr",
     "output_type": "stream",
     "text": [
      "11189321.zip: 466kB [00:01, 241kB/s]  \n"
     ]
    },
    {
     "name": "stdout",
     "output_type": "stream",
     "text": [
      "\n",
      "File successfully downloaded to: ./zenodo_dl/11189321.zip\n",
      "[info] File downloaded: ./zenodo_dl/11189321.zip\n",
      "\n",
      "[info] Paper_idx: 185, Zenodo id: 11189323\n"
     ]
    },
    {
     "name": "stderr",
     "output_type": "stream",
     "text": [
      "11189323.zip: 354kB [00:01, 252kB/s]  \n"
     ]
    },
    {
     "name": "stdout",
     "output_type": "stream",
     "text": [
      "\n",
      "File successfully downloaded to: ./zenodo_dl/11189323.zip\n",
      "[info] File downloaded: ./zenodo_dl/11189323.zip\n",
      "\n",
      "[info] Paper_idx: 186, Zenodo id: 11189327\n"
     ]
    },
    {
     "name": "stderr",
     "output_type": "stream",
     "text": [
      "11189327.zip: 284kB [00:01, 207kB/s]  \n"
     ]
    },
    {
     "name": "stdout",
     "output_type": "stream",
     "text": [
      "\n",
      "File successfully downloaded to: ./zenodo_dl/11189327.zip\n",
      "[info] File downloaded: ./zenodo_dl/11189327.zip\n",
      "\n",
      "[info] Paper_idx: 187, Zenodo id: 11189329\n"
     ]
    },
    {
     "name": "stderr",
     "output_type": "stream",
     "text": [
      "11189329.zip: 4.90MB [00:13, 369kB/s] \n"
     ]
    },
    {
     "name": "stdout",
     "output_type": "stream",
     "text": [
      "\n",
      "File successfully downloaded to: ./zenodo_dl/11189329.zip\n",
      "[info] File downloaded: ./zenodo_dl/11189329.zip\n",
      "\n",
      "[info] Paper_idx: 188, Zenodo id: 11189331\n"
     ]
    },
    {
     "name": "stderr",
     "output_type": "stream",
     "text": [
      "11189331.zip: 12.7MB [00:33, 377kB/s] \n"
     ]
    },
    {
     "name": "stdout",
     "output_type": "stream",
     "text": [
      "\n",
      "File successfully downloaded to: ./zenodo_dl/11189331.zip\n",
      "[info] File downloaded: ./zenodo_dl/11189331.zip\n",
      "\n",
      "[info] Paper_idx: 189, Zenodo id: 11189333\n"
     ]
    },
    {
     "name": "stderr",
     "output_type": "stream",
     "text": [
      "11189333.zip: 174kB [00:00, 209kB/s]  \n"
     ]
    },
    {
     "name": "stdout",
     "output_type": "stream",
     "text": [
      "\n",
      "File successfully downloaded to: ./zenodo_dl/11189333.zip\n",
      "[info] File downloaded: ./zenodo_dl/11189333.zip\n",
      "\n",
      "[info] Paper_idx: 190, Zenodo id: 11189337\n"
     ]
    },
    {
     "name": "stderr",
     "output_type": "stream",
     "text": [
      "11189337.zip: 262kB [00:01, 233kB/s]  \n"
     ]
    },
    {
     "name": "stdout",
     "output_type": "stream",
     "text": [
      "\n",
      "File successfully downloaded to: ./zenodo_dl/11189337.zip\n",
      "[info] File downloaded: ./zenodo_dl/11189337.zip\n",
      "\n",
      "[info] Paper_idx: 191, Zenodo id: 11189339\n"
     ]
    },
    {
     "name": "stderr",
     "output_type": "stream",
     "text": [
      "11189339.zip: 1.25MB [00:03, 322kB/s] \n"
     ]
    },
    {
     "name": "stdout",
     "output_type": "stream",
     "text": [
      "\n",
      "File successfully downloaded to: ./zenodo_dl/11189339.zip\n",
      "[info] File downloaded: ./zenodo_dl/11189339.zip\n",
      "\n",
      "[info] Paper_idx: 192, Zenodo id: 11189341\n"
     ]
    },
    {
     "name": "stderr",
     "output_type": "stream",
     "text": [
      "11189341.zip: 946kB [00:03, 285kB/s]  \n"
     ]
    },
    {
     "name": "stdout",
     "output_type": "stream",
     "text": [
      "\n",
      "File successfully downloaded to: ./zenodo_dl/11189341.zip\n",
      "[info] File downloaded: ./zenodo_dl/11189341.zip\n",
      "\n",
      "[info] Paper_idx: 193, Zenodo id: 4813164\n"
     ]
    },
    {
     "name": "stderr",
     "output_type": "stream",
     "text": [
      "4813164.zip: 460kB [00:01, 238kB/s]  \n"
     ]
    },
    {
     "name": "stdout",
     "output_type": "stream",
     "text": [
      "\n",
      "File successfully downloaded to: ./zenodo_dl/4813164.zip\n",
      "[info] File downloaded: ./zenodo_dl/4813164.zip\n",
      "\n",
      "[info] Paper_idx: 194, Zenodo id: 4813166\n"
     ]
    },
    {
     "name": "stderr",
     "output_type": "stream",
     "text": [
      "4813166.zip: 39.9MB [01:46, 373kB/s] \n"
     ]
    },
    {
     "name": "stdout",
     "output_type": "stream",
     "text": [
      "\n",
      "File successfully downloaded to: ./zenodo_dl/4813166.zip\n",
      "[info] File downloaded: ./zenodo_dl/4813166.zip\n",
      "\n",
      "[info] Paper_idx: 195, Zenodo id: 4813168\n"
     ]
    },
    {
     "name": "stderr",
     "output_type": "stream",
     "text": [
      "4813168.zip: 33.5MB [01:29, 373kB/s] \n"
     ]
    },
    {
     "name": "stdout",
     "output_type": "stream",
     "text": [
      "\n",
      "File successfully downloaded to: ./zenodo_dl/4813168.zip\n",
      "[info] File downloaded: ./zenodo_dl/4813168.zip\n",
      "\n",
      "[info] Paper_idx: 196, Zenodo id: 4813170\n"
     ]
    },
    {
     "name": "stderr",
     "output_type": "stream",
     "text": [
      "4813170.zip: 126MB [05:35, 374kB/s]  \n"
     ]
    },
    {
     "name": "stdout",
     "output_type": "stream",
     "text": [
      "\n",
      "File successfully downloaded to: ./zenodo_dl/4813170.zip\n",
      "[info] File downloaded: ./zenodo_dl/4813170.zip\n",
      "\n",
      "[info] Paper_idx: 197, Zenodo id: 4813172\n"
     ]
    },
    {
     "name": "stderr",
     "output_type": "stream",
     "text": [
      "4813172.zip: 405kB [00:01, 243kB/s]  \n"
     ]
    },
    {
     "name": "stdout",
     "output_type": "stream",
     "text": [
      "\n",
      "File successfully downloaded to: ./zenodo_dl/4813172.zip\n",
      "[info] File downloaded: ./zenodo_dl/4813172.zip\n",
      "\n",
      "[info] Paper_idx: 198, Zenodo id: 4813174\n"
     ]
    },
    {
     "name": "stderr",
     "output_type": "stream",
     "text": [
      "4813174.zip: 7.58MB [00:07, 1.01MB/s]\n"
     ]
    },
    {
     "name": "stdout",
     "output_type": "stream",
     "text": [
      "\n",
      "File successfully downloaded to: ./zenodo_dl/4813174.zip\n",
      "[info] File downloaded: ./zenodo_dl/4813174.zip\n",
      "\n",
      "[info] Paper_idx: 199, Zenodo id: 4813176\n"
     ]
    },
    {
     "name": "stderr",
     "output_type": "stream",
     "text": [
      "4813176.zip: 18.1MB [00:47, 382kB/s] \n"
     ]
    },
    {
     "name": "stdout",
     "output_type": "stream",
     "text": [
      "\n",
      "File successfully downloaded to: ./zenodo_dl/4813176.zip\n",
      "[info] File downloaded: ./zenodo_dl/4813176.zip\n",
      "\n",
      "[info] Paper_idx: 200, Zenodo id: 4813178\n"
     ]
    },
    {
     "name": "stderr",
     "output_type": "stream",
     "text": [
      "4813178.zip: 161MB [00:35, 4.50MB/s] \n"
     ]
    },
    {
     "name": "stdout",
     "output_type": "stream",
     "text": [
      "\n",
      "File successfully downloaded to: ./zenodo_dl/4813178.zip\n",
      "[info] File downloaded: ./zenodo_dl/4813178.zip\n",
      "\n",
      "[info] Paper_idx: 201, Zenodo id: 4813180\n"
     ]
    },
    {
     "name": "stderr",
     "output_type": "stream",
     "text": [
      "4813180.zip: 251MB [00:38, 6.46MB/s] \n"
     ]
    },
    {
     "name": "stdout",
     "output_type": "stream",
     "text": [
      "\n",
      "File successfully downloaded to: ./zenodo_dl/4813180.zip\n",
      "[info] File downloaded: ./zenodo_dl/4813180.zip\n",
      "\n",
      "[info] Paper_idx: 202, Zenodo id: 4813182\n"
     ]
    },
    {
     "name": "stderr",
     "output_type": "stream",
     "text": [
      "4813182.zip: 771kB [00:02, 347kB/s]  \n"
     ]
    },
    {
     "name": "stdout",
     "output_type": "stream",
     "text": [
      "\n",
      "File successfully downloaded to: ./zenodo_dl/4813182.zip\n",
      "[info] File downloaded: ./zenodo_dl/4813182.zip\n",
      "\n",
      "[info] Paper_idx: 203, Zenodo id: 4813184\n"
     ]
    },
    {
     "name": "stderr",
     "output_type": "stream",
     "text": [
      "4813184.zip: 36.6MB [01:38, 372kB/s] \n"
     ]
    },
    {
     "name": "stdout",
     "output_type": "stream",
     "text": [
      "\n",
      "File successfully downloaded to: ./zenodo_dl/4813184.zip\n",
      "[info] File downloaded: ./zenodo_dl/4813184.zip\n",
      "\n",
      "[info] Paper_idx: 204, Zenodo id: 4813186\n"
     ]
    },
    {
     "name": "stderr",
     "output_type": "stream",
     "text": [
      "4813186.zip: 88.5MB [03:55, 376kB/s] \n"
     ]
    },
    {
     "name": "stdout",
     "output_type": "stream",
     "text": [
      "\n",
      "File successfully downloaded to: ./zenodo_dl/4813186.zip\n",
      "[info] File downloaded: ./zenodo_dl/4813186.zip\n",
      "\n",
      "[info] Paper_idx: 205, Zenodo id: 4813188\n"
     ]
    },
    {
     "name": "stderr",
     "output_type": "stream",
     "text": [
      "4813188.zip: 73.5MB [03:03, 402kB/s] \n"
     ]
    },
    {
     "name": "stdout",
     "output_type": "stream",
     "text": [
      "\n",
      "File successfully downloaded to: ./zenodo_dl/4813188.zip\n",
      "[info] File downloaded: ./zenodo_dl/4813188.zip\n",
      "\n",
      "[info] Paper_idx: 206, Zenodo id: 4813192\n"
     ]
    },
    {
     "name": "stderr",
     "output_type": "stream",
     "text": [
      "4813192.zip: 2.69MB [00:07, 358kB/s] \n"
     ]
    },
    {
     "name": "stdout",
     "output_type": "stream",
     "text": [
      "\n",
      "File successfully downloaded to: ./zenodo_dl/4813192.zip\n",
      "[info] File downloaded: ./zenodo_dl/4813192.zip\n",
      "\n",
      "[info] Paper_idx: 207, Zenodo id: 4813194\n"
     ]
    },
    {
     "name": "stderr",
     "output_type": "stream",
     "text": [
      "4813194.zip: 90.8MB [01:15, 1.21MB/s]\n"
     ]
    },
    {
     "name": "stdout",
     "output_type": "stream",
     "text": [
      "\n",
      "File successfully downloaded to: ./zenodo_dl/4813194.zip\n",
      "[info] File downloaded: ./zenodo_dl/4813194.zip\n",
      "\n",
      "[info] Paper_idx: 208, Zenodo id: 4813200\n"
     ]
    },
    {
     "name": "stderr",
     "output_type": "stream",
     "text": [
      "4813200.zip: 195MB [08:39, 376kB/s]  \n"
     ]
    },
    {
     "name": "stdout",
     "output_type": "stream",
     "text": [
      "\n",
      "File successfully downloaded to: ./zenodo_dl/4813200.zip\n",
      "[info] File downloaded: ./zenodo_dl/4813200.zip\n",
      "\n",
      "[info] Paper_idx: 209, Zenodo id: 4813204\n"
     ]
    },
    {
     "name": "stderr",
     "output_type": "stream",
     "text": [
      "4813204.zip: 21.9MB [00:05, 4.12MB/s]\n"
     ]
    },
    {
     "name": "stdout",
     "output_type": "stream",
     "text": [
      "\n",
      "File successfully downloaded to: ./zenodo_dl/4813204.zip\n",
      "[info] File downloaded: ./zenodo_dl/4813204.zip\n",
      "\n",
      "[info] Paper_idx: 210, Zenodo id: 4813206\n"
     ]
    },
    {
     "name": "stderr",
     "output_type": "stream",
     "text": [
      "4813206.zip: 22.8MB [00:05, 4.02MB/s]\n"
     ]
    },
    {
     "name": "stdout",
     "output_type": "stream",
     "text": [
      "\n",
      "File successfully downloaded to: ./zenodo_dl/4813206.zip\n",
      "[info] File downloaded: ./zenodo_dl/4813206.zip\n",
      "\n",
      "[info] Paper_idx: 211, Zenodo id: 4813208\n"
     ]
    },
    {
     "name": "stderr",
     "output_type": "stream",
     "text": [
      "4813208.zip: 22.2MB [00:05, 4.06MB/s]\n"
     ]
    },
    {
     "name": "stdout",
     "output_type": "stream",
     "text": [
      "\n",
      "File successfully downloaded to: ./zenodo_dl/4813208.zip\n",
      "[info] File downloaded: ./zenodo_dl/4813208.zip\n",
      "\n",
      "[info] Paper_idx: 212, Zenodo id: 4813210\n"
     ]
    },
    {
     "name": "stderr",
     "output_type": "stream",
     "text": [
      "4813210.zip: 44.8MB [00:09, 4.75MB/s]\n"
     ]
    },
    {
     "name": "stdout",
     "output_type": "stream",
     "text": [
      "\n",
      "File successfully downloaded to: ./zenodo_dl/4813210.zip\n",
      "[info] File downloaded: ./zenodo_dl/4813210.zip\n",
      "\n",
      "[info] Paper_idx: 213, Zenodo id: 4813212\n"
     ]
    },
    {
     "name": "stderr",
     "output_type": "stream",
     "text": [
      "4813212.zip: 258MB [00:37, 6.97MB/s] \n"
     ]
    },
    {
     "name": "stdout",
     "output_type": "stream",
     "text": [
      "\n",
      "File successfully downloaded to: ./zenodo_dl/4813212.zip\n",
      "[info] File downloaded: ./zenodo_dl/4813212.zip\n",
      "\n",
      "[info] Paper_idx: 214, Zenodo id: 4813216\n"
     ]
    },
    {
     "name": "stderr",
     "output_type": "stream",
     "text": [
      "4813216.zip: 770kB [00:02, 308kB/s]  \n"
     ]
    },
    {
     "name": "stdout",
     "output_type": "stream",
     "text": [
      "\n",
      "File successfully downloaded to: ./zenodo_dl/4813216.zip\n",
      "[info] File downloaded: ./zenodo_dl/4813216.zip\n",
      "\n",
      "[info] Paper_idx: 215, Zenodo id: 4813218\n"
     ]
    },
    {
     "name": "stderr",
     "output_type": "stream",
     "text": [
      "4813218.zip: 774kB [00:02, 302kB/s]  \n"
     ]
    },
    {
     "name": "stdout",
     "output_type": "stream",
     "text": [
      "\n",
      "File successfully downloaded to: ./zenodo_dl/4813218.zip\n",
      "[info] File downloaded: ./zenodo_dl/4813218.zip\n",
      "\n",
      "[info] Paper_idx: 216, Zenodo id: 4813220\n"
     ]
    },
    {
     "name": "stderr",
     "output_type": "stream",
     "text": [
      "4813220.zip: 189MB [00:29, 6.35MB/s] \n"
     ]
    },
    {
     "name": "stdout",
     "output_type": "stream",
     "text": [
      "\n",
      "File successfully downloaded to: ./zenodo_dl/4813220.zip\n",
      "[info] File downloaded: ./zenodo_dl/4813220.zip\n",
      "\n",
      "[info] Paper_idx: 217, Zenodo id: 4813222\n"
     ]
    },
    {
     "name": "stderr",
     "output_type": "stream",
     "text": [
      "4813222.zip: 1.16MB [00:01, 693kB/s] \n"
     ]
    },
    {
     "name": "stdout",
     "output_type": "stream",
     "text": [
      "\n",
      "File successfully downloaded to: ./zenodo_dl/4813222.zip\n",
      "[info] File downloaded: ./zenodo_dl/4813222.zip\n",
      "\n",
      "[info] Paper_idx: 218, Zenodo id: 4813224\n"
     ]
    },
    {
     "name": "stderr",
     "output_type": "stream",
     "text": [
      "4813224.zip: 152MB [00:21, 7.14MB/s] \n"
     ]
    },
    {
     "name": "stdout",
     "output_type": "stream",
     "text": [
      "\n",
      "File successfully downloaded to: ./zenodo_dl/4813224.zip\n",
      "[info] File downloaded: ./zenodo_dl/4813224.zip\n",
      "\n",
      "[info] Paper_idx: 219, Zenodo id: 4813226\n"
     ]
    },
    {
     "name": "stderr",
     "output_type": "stream",
     "text": [
      "4813226.zip: 74.8MB [00:14, 5.11MB/s]\n"
     ]
    },
    {
     "name": "stdout",
     "output_type": "stream",
     "text": [
      "\n",
      "File successfully downloaded to: ./zenodo_dl/4813226.zip\n",
      "[info] File downloaded: ./zenodo_dl/4813226.zip\n",
      "\n",
      "[info] Paper_idx: 220, Zenodo id: 4813228\n"
     ]
    },
    {
     "name": "stderr",
     "output_type": "stream",
     "text": [
      "4813228.zip: 72.1MB [03:12, 374kB/s] \n"
     ]
    },
    {
     "name": "stdout",
     "output_type": "stream",
     "text": [
      "\n",
      "File successfully downloaded to: ./zenodo_dl/4813228.zip\n",
      "[info] File downloaded: ./zenodo_dl/4813228.zip\n",
      "\n",
      "[info] Paper_idx: 221, Zenodo id: 4813230\n"
     ]
    },
    {
     "name": "stderr",
     "output_type": "stream",
     "text": [
      "4813230.zip: 36.0MB [00:07, 4.87MB/s]\n"
     ]
    },
    {
     "name": "stdout",
     "output_type": "stream",
     "text": [
      "\n",
      "File successfully downloaded to: ./zenodo_dl/4813230.zip\n",
      "[info] File downloaded: ./zenodo_dl/4813230.zip\n",
      "\n",
      "[info] Paper_idx: 222, Zenodo id: 4813232\n"
     ]
    },
    {
     "name": "stderr",
     "output_type": "stream",
     "text": [
      "4813232.zip: 473kB [00:01, 351kB/s]  \n"
     ]
    },
    {
     "name": "stdout",
     "output_type": "stream",
     "text": [
      "\n",
      "File successfully downloaded to: ./zenodo_dl/4813232.zip\n",
      "[info] File downloaded: ./zenodo_dl/4813232.zip\n",
      "\n",
      "[info] Paper_idx: 223, Zenodo id: 4813234\n"
     ]
    },
    {
     "name": "stderr",
     "output_type": "stream",
     "text": [
      "4813234.zip: 25.8MB [00:05, 4.90MB/s]\n"
     ]
    },
    {
     "name": "stdout",
     "output_type": "stream",
     "text": [
      "\n",
      "File successfully downloaded to: ./zenodo_dl/4813234.zip\n",
      "[info] File downloaded: ./zenodo_dl/4813234.zip\n",
      "\n",
      "[info] Paper_idx: 224, Zenodo id: 4813236\n"
     ]
    },
    {
     "name": "stderr",
     "output_type": "stream",
     "text": [
      "4813236.zip: 64.9MB [01:22, 789kB/s] \n"
     ]
    },
    {
     "name": "stdout",
     "output_type": "stream",
     "text": [
      "\n",
      "File successfully downloaded to: ./zenodo_dl/4813236.zip\n",
      "[info] File downloaded: ./zenodo_dl/4813236.zip\n",
      "\n",
      "[info] Paper_idx: 225, Zenodo id: 4813239\n"
     ]
    },
    {
     "name": "stderr",
     "output_type": "stream",
     "text": [
      "4813239.zip: 637kB [00:01, 455kB/s]  \n"
     ]
    },
    {
     "name": "stdout",
     "output_type": "stream",
     "text": [
      "\n",
      "File successfully downloaded to: ./zenodo_dl/4813239.zip\n",
      "[info] File downloaded: ./zenodo_dl/4813239.zip\n",
      "\n",
      "[info] Paper_idx: 226, Zenodo id: 4813241\n"
     ]
    },
    {
     "name": "stderr",
     "output_type": "stream",
     "text": [
      "4813241.zip: 61.8MB [00:10, 6.05MB/s]\n"
     ]
    },
    {
     "name": "stdout",
     "output_type": "stream",
     "text": [
      "\n",
      "File successfully downloaded to: ./zenodo_dl/4813241.zip\n",
      "[info] File downloaded: ./zenodo_dl/4813241.zip\n",
      "\n",
      "[info] Paper_idx: 227, Zenodo id: 4813243\n"
     ]
    },
    {
     "name": "stderr",
     "output_type": "stream",
     "text": [
      "4813243.zip: 794kB [00:02, 279kB/s]  \n"
     ]
    },
    {
     "name": "stdout",
     "output_type": "stream",
     "text": [
      "\n",
      "File successfully downloaded to: ./zenodo_dl/4813243.zip\n",
      "[info] File downloaded: ./zenodo_dl/4813243.zip\n",
      "\n",
      "[info] Paper_idx: 228, Zenodo id: 4813245\n"
     ]
    },
    {
     "name": "stderr",
     "output_type": "stream",
     "text": [
      "4813245.zip: 65.2MB [00:14, 4.43MB/s]\n"
     ]
    },
    {
     "name": "stdout",
     "output_type": "stream",
     "text": [
      "\n",
      "File successfully downloaded to: ./zenodo_dl/4813245.zip\n",
      "[info] File downloaded: ./zenodo_dl/4813245.zip\n",
      "\n",
      "[info] Paper_idx: 229, Zenodo id: 4813249\n"
     ]
    },
    {
     "name": "stderr",
     "output_type": "stream",
     "text": [
      "4813249.zip: 21.5MB [00:05, 4.07MB/s]\n"
     ]
    },
    {
     "name": "stdout",
     "output_type": "stream",
     "text": [
      "\n",
      "File successfully downloaded to: ./zenodo_dl/4813249.zip\n",
      "[info] File downloaded: ./zenodo_dl/4813249.zip\n",
      "\n",
      "[info] Paper_idx: 230, Zenodo id: 4813253\n"
     ]
    },
    {
     "name": "stderr",
     "output_type": "stream",
     "text": [
      "4813253.zip: 61.4MB [01:41, 602kB/s] \n"
     ]
    },
    {
     "name": "stdout",
     "output_type": "stream",
     "text": [
      "\n",
      "File successfully downloaded to: ./zenodo_dl/4813253.zip\n",
      "[info] File downloaded: ./zenodo_dl/4813253.zip\n",
      "\n",
      "[info] Paper_idx: 231, Zenodo id: 4813256\n"
     ]
    },
    {
     "name": "stderr",
     "output_type": "stream",
     "text": [
      "4813256.zip: 12.9MB [00:03, 3.84MB/s]\n"
     ]
    },
    {
     "name": "stdout",
     "output_type": "stream",
     "text": [
      "\n",
      "File successfully downloaded to: ./zenodo_dl/4813256.zip\n",
      "[info] File downloaded: ./zenodo_dl/4813256.zip\n",
      "\n",
      "[info] Paper_idx: 232, Zenodo id: 4813260\n"
     ]
    },
    {
     "name": "stderr",
     "output_type": "stream",
     "text": [
      "4813260.zip: 15.8MB [00:03, 4.09MB/s]\n"
     ]
    },
    {
     "name": "stdout",
     "output_type": "stream",
     "text": [
      "\n",
      "File successfully downloaded to: ./zenodo_dl/4813260.zip\n",
      "[info] File downloaded: ./zenodo_dl/4813260.zip\n",
      "\n",
      "[info] Paper_idx: 233, Zenodo id: 4813262\n"
     ]
    },
    {
     "name": "stderr",
     "output_type": "stream",
     "text": [
      "4813262.zip: 26.9MB [00:41, 646kB/s] \n"
     ]
    },
    {
     "name": "stdout",
     "output_type": "stream",
     "text": [
      "\n",
      "File successfully downloaded to: ./zenodo_dl/4813262.zip\n",
      "[info] File downloaded: ./zenodo_dl/4813262.zip\n",
      "\n",
      "[info] Paper_idx: 234, Zenodo id: 4813266\n"
     ]
    },
    {
     "name": "stderr",
     "output_type": "stream",
     "text": [
      "4813266.zip: 26.6MB [00:06, 3.83MB/s]\n"
     ]
    },
    {
     "name": "stdout",
     "output_type": "stream",
     "text": [
      "\n",
      "File successfully downloaded to: ./zenodo_dl/4813266.zip\n",
      "[info] File downloaded: ./zenodo_dl/4813266.zip\n",
      "\n",
      "[info] Paper_idx: 235, Zenodo id: 4813268\n"
     ]
    },
    {
     "name": "stderr",
     "output_type": "stream",
     "text": [
      "4813268.zip: 749kB [00:01, 535kB/s]  \n"
     ]
    },
    {
     "name": "stdout",
     "output_type": "stream",
     "text": [
      "\n",
      "File successfully downloaded to: ./zenodo_dl/4813268.zip\n",
      "[info] File downloaded: ./zenodo_dl/4813268.zip\n",
      "\n",
      "[info] Paper_idx: 236, Zenodo id: 4813270\n"
     ]
    },
    {
     "name": "stderr",
     "output_type": "stream",
     "text": [
      "4813270.zip: 497kB [00:01, 445kB/s]  \n"
     ]
    },
    {
     "name": "stdout",
     "output_type": "stream",
     "text": [
      "\n",
      "File successfully downloaded to: ./zenodo_dl/4813270.zip\n",
      "[info] File downloaded: ./zenodo_dl/4813270.zip\n",
      "\n",
      "[info] Paper_idx: 237, Zenodo id: 4813272\n"
     ]
    },
    {
     "name": "stderr",
     "output_type": "stream",
     "text": [
      "4813272.zip: 75.9MB [00:28, 2.65MB/s]\n"
     ]
    },
    {
     "name": "stdout",
     "output_type": "stream",
     "text": [
      "\n",
      "File successfully downloaded to: ./zenodo_dl/4813272.zip\n",
      "[info] File downloaded: ./zenodo_dl/4813272.zip\n",
      "\n",
      "[info] Paper_idx: 238, Zenodo id: 4813274\n"
     ]
    },
    {
     "name": "stderr",
     "output_type": "stream",
     "text": [
      "4813274.zip: 43.6MB [00:09, 4.63MB/s]\n"
     ]
    },
    {
     "name": "stdout",
     "output_type": "stream",
     "text": [
      "\n",
      "File successfully downloaded to: ./zenodo_dl/4813274.zip\n",
      "[info] File downloaded: ./zenodo_dl/4813274.zip\n",
      "\n",
      "[info] Paper_idx: 239, Zenodo id: 4813276\n"
     ]
    },
    {
     "name": "stderr",
     "output_type": "stream",
     "text": [
      "4813276.zip: 83.2MB [00:23, 3.49MB/s]\n"
     ]
    },
    {
     "name": "stdout",
     "output_type": "stream",
     "text": [
      "\n",
      "File successfully downloaded to: ./zenodo_dl/4813276.zip\n",
      "[info] File downloaded: ./zenodo_dl/4813276.zip\n",
      "\n",
      "[info] Paper_idx: 240, Zenodo id: 4813280\n"
     ]
    },
    {
     "name": "stderr",
     "output_type": "stream",
     "text": [
      "4813280.zip: 52.5MB [00:12, 4.12MB/s]\n"
     ]
    },
    {
     "name": "stdout",
     "output_type": "stream",
     "text": [
      "\n",
      "File successfully downloaded to: ./zenodo_dl/4813280.zip\n",
      "[info] File downloaded: ./zenodo_dl/4813280.zip\n",
      "\n",
      "[info] Paper_idx: 241, Zenodo id: 4813286\n"
     ]
    },
    {
     "name": "stderr",
     "output_type": "stream",
     "text": [
      "4813286.zip: 55.8MB [01:12, 768kB/s] \n"
     ]
    },
    {
     "name": "stdout",
     "output_type": "stream",
     "text": [
      "\n",
      "File successfully downloaded to: ./zenodo_dl/4813286.zip\n",
      "[info] File downloaded: ./zenodo_dl/4813286.zip\n",
      "\n",
      "[info] Paper_idx: 242, Zenodo id: 4813288\n",
      "Error downloading file: HTTPSConnectionPool(host='zenodo.org', port=443): Max retries exceeded with url: /api/records/4813288/files-archive (Caused by NameResolutionError(\"<urllib3.connection.HTTPSConnection object at 0x7a793b5cdc00>: Failed to resolve 'zenodo.org' ([Errno -3] Temporary failure in name resolution)\"))\n",
      "[info] File downloaded: None\n",
      "\n",
      "[info] Paper_idx: 243, Zenodo id: 4813290\n"
     ]
    },
    {
     "name": "stderr",
     "output_type": "stream",
     "text": [
      "4813290.zip: 53.3MB [00:13, 4.01MB/s]\n"
     ]
    },
    {
     "name": "stdout",
     "output_type": "stream",
     "text": [
      "\n",
      "File successfully downloaded to: ./zenodo_dl/4813290.zip\n",
      "[info] File downloaded: ./zenodo_dl/4813290.zip\n",
      "\n",
      "[info] Paper_idx: 244, Zenodo id: 4813294\n"
     ]
    },
    {
     "name": "stderr",
     "output_type": "stream",
     "text": [
      "4813294.zip: 42.8MB [00:09, 4.41MB/s]\n"
     ]
    },
    {
     "name": "stdout",
     "output_type": "stream",
     "text": [
      "\n",
      "File successfully downloaded to: ./zenodo_dl/4813294.zip\n",
      "[info] File downloaded: ./zenodo_dl/4813294.zip\n",
      "\n",
      "[info] Paper_idx: 245, Zenodo id: 4813300\n"
     ]
    },
    {
     "name": "stderr",
     "output_type": "stream",
     "text": [
      "4813300.zip: 46.7MB [00:10, 4.31MB/s]\n"
     ]
    },
    {
     "name": "stdout",
     "output_type": "stream",
     "text": [
      "\n",
      "File successfully downloaded to: ./zenodo_dl/4813300.zip\n",
      "[info] File downloaded: ./zenodo_dl/4813300.zip\n",
      "\n",
      "[info] Paper_idx: 246, Zenodo id: 4813303\n"
     ]
    },
    {
     "name": "stderr",
     "output_type": "stream",
     "text": [
      "4813303.zip: 400kB [00:01, 239kB/s]  \n"
     ]
    },
    {
     "name": "stdout",
     "output_type": "stream",
     "text": [
      "\n",
      "File successfully downloaded to: ./zenodo_dl/4813303.zip\n",
      "[info] File downloaded: ./zenodo_dl/4813303.zip\n",
      "\n",
      "[info] Paper_idx: 247, Zenodo id: 4813305\n"
     ]
    },
    {
     "name": "stderr",
     "output_type": "stream",
     "text": [
      "4813305.zip: 68.7MB [00:12, 5.71MB/s]\n"
     ]
    },
    {
     "name": "stdout",
     "output_type": "stream",
     "text": [
      "\n",
      "File successfully downloaded to: ./zenodo_dl/4813305.zip\n",
      "[info] File downloaded: ./zenodo_dl/4813305.zip\n",
      "\n",
      "[info] Paper_idx: 248, Zenodo id: 4813309\n"
     ]
    },
    {
     "name": "stderr",
     "output_type": "stream",
     "text": [
      "4813309.zip: 460kB [00:00, 530kB/s] \n"
     ]
    },
    {
     "name": "stdout",
     "output_type": "stream",
     "text": [
      "\n",
      "File successfully downloaded to: ./zenodo_dl/4813309.zip\n",
      "[info] File downloaded: ./zenodo_dl/4813309.zip\n",
      "\n",
      "[info] Paper_idx: 249, Zenodo id: 4813311\n"
     ]
    },
    {
     "name": "stderr",
     "output_type": "stream",
     "text": [
      "4813311.zip: 42.3MB [00:44, 949kB/s] \n"
     ]
    },
    {
     "name": "stdout",
     "output_type": "stream",
     "text": [
      "\n",
      "File successfully downloaded to: ./zenodo_dl/4813311.zip\n",
      "[info] File downloaded: ./zenodo_dl/4813311.zip\n",
      "\n",
      "[info] Paper_idx: 250, Zenodo id: 4813313\n"
     ]
    },
    {
     "name": "stderr",
     "output_type": "stream",
     "text": [
      "4813313.zip: 71.0MB [00:22, 3.16MB/s]\n"
     ]
    },
    {
     "name": "stdout",
     "output_type": "stream",
     "text": [
      "\n",
      "File successfully downloaded to: ./zenodo_dl/4813313.zip\n",
      "[info] File downloaded: ./zenodo_dl/4813313.zip\n",
      "\n",
      "[info] Paper_idx: 251, Zenodo id: 4813318\n"
     ]
    },
    {
     "name": "stderr",
     "output_type": "stream",
     "text": [
      "4813318.zip: 31.5MB [00:05, 5.34MB/s]\n"
     ]
    },
    {
     "name": "stdout",
     "output_type": "stream",
     "text": [
      "\n",
      "File successfully downloaded to: ./zenodo_dl/4813318.zip\n",
      "[info] File downloaded: ./zenodo_dl/4813318.zip\n",
      "\n",
      "[info] Paper_idx: 252, Zenodo id: 4813320\n"
     ]
    },
    {
     "name": "stderr",
     "output_type": "stream",
     "text": [
      "4813320.zip: 58.1MB [00:08, 6.92MB/s]\n"
     ]
    },
    {
     "name": "stdout",
     "output_type": "stream",
     "text": [
      "\n",
      "File successfully downloaded to: ./zenodo_dl/4813320.zip\n",
      "[info] File downloaded: ./zenodo_dl/4813320.zip\n",
      "\n",
      "[info] Paper_idx: 253, Zenodo id: 4813322\n"
     ]
    },
    {
     "name": "stderr",
     "output_type": "stream",
     "text": [
      "4813322.zip: 15.7MB [00:04, 3.74MB/s]\n"
     ]
    },
    {
     "name": "stdout",
     "output_type": "stream",
     "text": [
      "\n",
      "File successfully downloaded to: ./zenodo_dl/4813322.zip\n",
      "[info] File downloaded: ./zenodo_dl/4813322.zip\n",
      "\n",
      "[info] Paper_idx: 254, Zenodo id: 4813324\n"
     ]
    },
    {
     "name": "stderr",
     "output_type": "stream",
     "text": [
      "4813324.zip: 531kB [00:01, 401kB/s]  \n"
     ]
    },
    {
     "name": "stdout",
     "output_type": "stream",
     "text": [
      "\n",
      "File successfully downloaded to: ./zenodo_dl/4813324.zip\n",
      "[info] File downloaded: ./zenodo_dl/4813324.zip\n",
      "\n",
      "[info] Paper_idx: 255, Zenodo id: 4813326\n"
     ]
    },
    {
     "name": "stderr",
     "output_type": "stream",
     "text": [
      "4813326.zip: 18.3MB [00:03, 5.03MB/s]\n"
     ]
    },
    {
     "name": "stdout",
     "output_type": "stream",
     "text": [
      "\n",
      "File successfully downloaded to: ./zenodo_dl/4813326.zip\n",
      "[info] File downloaded: ./zenodo_dl/4813326.zip\n",
      "\n",
      "[info] Paper_idx: 256, Zenodo id: 4813328\n"
     ]
    },
    {
     "name": "stderr",
     "output_type": "stream",
     "text": [
      "4813328.zip: 100MB [00:18, 5.37MB/s] \n"
     ]
    },
    {
     "name": "stdout",
     "output_type": "stream",
     "text": [
      "\n",
      "File successfully downloaded to: ./zenodo_dl/4813328.zip\n",
      "[info] File downloaded: ./zenodo_dl/4813328.zip\n",
      "\n",
      "[info] Paper_idx: 257, Zenodo id: 4813330\n"
     ]
    },
    {
     "name": "stderr",
     "output_type": "stream",
     "text": [
      "4813330.zip: 41.3MB [00:09, 4.14MB/s]\n"
     ]
    },
    {
     "name": "stdout",
     "output_type": "stream",
     "text": [
      "\n",
      "File successfully downloaded to: ./zenodo_dl/4813330.zip\n",
      "[info] File downloaded: ./zenodo_dl/4813330.zip\n",
      "\n",
      "[info] Paper_idx: 258, Zenodo id: 4813332\n"
     ]
    },
    {
     "name": "stderr",
     "output_type": "stream",
     "text": [
      "4813332.zip: 739kB [00:01, 520kB/s]  \n"
     ]
    },
    {
     "name": "stdout",
     "output_type": "stream",
     "text": [
      "\n",
      "File successfully downloaded to: ./zenodo_dl/4813332.zip\n",
      "[info] File downloaded: ./zenodo_dl/4813332.zip\n",
      "\n",
      "[info] Paper_idx: 259, Zenodo id: 4813334\n"
     ]
    },
    {
     "name": "stderr",
     "output_type": "stream",
     "text": [
      "4813334.zip: 82.1MB [00:12, 6.43MB/s]\n"
     ]
    },
    {
     "name": "stdout",
     "output_type": "stream",
     "text": [
      "\n",
      "File successfully downloaded to: ./zenodo_dl/4813334.zip\n",
      "[info] File downloaded: ./zenodo_dl/4813334.zip\n",
      "\n",
      "[info] Paper_idx: 260, Zenodo id: 4813338\n"
     ]
    },
    {
     "name": "stderr",
     "output_type": "stream",
     "text": [
      "4813338.zip: 43.9MB [00:08, 5.07MB/s]\n"
     ]
    },
    {
     "name": "stdout",
     "output_type": "stream",
     "text": [
      "\n",
      "File successfully downloaded to: ./zenodo_dl/4813338.zip\n",
      "[info] File downloaded: ./zenodo_dl/4813338.zip\n",
      "\n",
      "[info] Paper_idx: 261, Zenodo id: 4813342\n"
     ]
    },
    {
     "name": "stderr",
     "output_type": "stream",
     "text": [
      "4813342.zip: 72.8MB [00:13, 5.59MB/s]\n"
     ]
    },
    {
     "name": "stdout",
     "output_type": "stream",
     "text": [
      "\n",
      "File successfully downloaded to: ./zenodo_dl/4813342.zip\n",
      "[info] File downloaded: ./zenodo_dl/4813342.zip\n",
      "\n",
      "[info] Paper_idx: 262, Zenodo id: 4813344\n"
     ]
    },
    {
     "name": "stderr",
     "output_type": "stream",
     "text": [
      "4813344.zip: 758kB [00:01, 544kB/s]  \n"
     ]
    },
    {
     "name": "stdout",
     "output_type": "stream",
     "text": [
      "\n",
      "File successfully downloaded to: ./zenodo_dl/4813344.zip\n",
      "[info] File downloaded: ./zenodo_dl/4813344.zip\n",
      "\n",
      "[info] Paper_idx: 263, Zenodo id: 4813346\n"
     ]
    },
    {
     "name": "stderr",
     "output_type": "stream",
     "text": [
      "4813346.zip: 141MB [00:23, 5.91MB/s] \n"
     ]
    },
    {
     "name": "stdout",
     "output_type": "stream",
     "text": [
      "\n",
      "File successfully downloaded to: ./zenodo_dl/4813346.zip\n",
      "[info] File downloaded: ./zenodo_dl/4813346.zip\n",
      "\n",
      "[info] Paper_idx: 264, Zenodo id: 4813350\n"
     ]
    },
    {
     "name": "stderr",
     "output_type": "stream",
     "text": [
      "4813350.zip: 732kB [00:01, 440kB/s]  \n"
     ]
    },
    {
     "name": "stdout",
     "output_type": "stream",
     "text": [
      "\n",
      "File successfully downloaded to: ./zenodo_dl/4813350.zip\n",
      "[info] File downloaded: ./zenodo_dl/4813350.zip\n",
      "\n",
      "[info] Paper_idx: 265, Zenodo id: 4813352\n"
     ]
    },
    {
     "name": "stderr",
     "output_type": "stream",
     "text": [
      "4813352.zip: 71.8MB [00:15, 4.55MB/s]\n"
     ]
    },
    {
     "name": "stdout",
     "output_type": "stream",
     "text": [
      "\n",
      "File successfully downloaded to: ./zenodo_dl/4813352.zip\n",
      "[info] File downloaded: ./zenodo_dl/4813352.zip\n",
      "\n",
      "[info] Paper_idx: 266, Zenodo id: 4813357\n"
     ]
    },
    {
     "name": "stderr",
     "output_type": "stream",
     "text": [
      "4813357.zip: 108MB [00:18, 5.76MB/s] \n"
     ]
    },
    {
     "name": "stdout",
     "output_type": "stream",
     "text": [
      "\n",
      "File successfully downloaded to: ./zenodo_dl/4813357.zip\n",
      "[info] File downloaded: ./zenodo_dl/4813357.zip\n",
      "\n",
      "[info] Paper_idx: 267, Zenodo id: 4813359\n"
     ]
    },
    {
     "name": "stderr",
     "output_type": "stream",
     "text": [
      "4813359.zip: 56.2MB [00:07, 7.26MB/s]\n"
     ]
    },
    {
     "name": "stdout",
     "output_type": "stream",
     "text": [
      "\n",
      "File successfully downloaded to: ./zenodo_dl/4813359.zip\n",
      "[info] File downloaded: ./zenodo_dl/4813359.zip\n",
      "\n",
      "[info] Paper_idx: 268, Zenodo id: 4813361\n"
     ]
    },
    {
     "name": "stderr",
     "output_type": "stream",
     "text": [
      "4813361.zip: 32.5MB [00:07, 4.34MB/s]\n"
     ]
    },
    {
     "name": "stdout",
     "output_type": "stream",
     "text": [
      "\n",
      "File successfully downloaded to: ./zenodo_dl/4813361.zip\n",
      "[info] File downloaded: ./zenodo_dl/4813361.zip\n",
      "\n",
      "[info] Paper_idx: 269, Zenodo id: 4813363\n"
     ]
    },
    {
     "name": "stderr",
     "output_type": "stream",
     "text": [
      "4813363.zip: 87.2MB [00:12, 6.95MB/s]\n"
     ]
    },
    {
     "name": "stdout",
     "output_type": "stream",
     "text": [
      "\n",
      "File successfully downloaded to: ./zenodo_dl/4813363.zip\n",
      "[info] File downloaded: ./zenodo_dl/4813363.zip\n",
      "\n",
      "[info] Paper_idx: 270, Zenodo id: 4813365\n"
     ]
    },
    {
     "name": "stderr",
     "output_type": "stream",
     "text": [
      "4813365.zip: 42.4MB [00:09, 4.51MB/s]\n"
     ]
    },
    {
     "name": "stdout",
     "output_type": "stream",
     "text": [
      "\n",
      "File successfully downloaded to: ./zenodo_dl/4813365.zip\n",
      "[info] File downloaded: ./zenodo_dl/4813365.zip\n",
      "\n",
      "[info] Paper_idx: 271, Zenodo id: 4813367\n"
     ]
    },
    {
     "name": "stderr",
     "output_type": "stream",
     "text": [
      "4813367.zip: 39.4MB [00:08, 4.59MB/s]\n"
     ]
    },
    {
     "name": "stdout",
     "output_type": "stream",
     "text": [
      "\n",
      "File successfully downloaded to: ./zenodo_dl/4813367.zip\n",
      "[info] File downloaded: ./zenodo_dl/4813367.zip\n",
      "\n",
      "[info] Paper_idx: 272, Zenodo id: 4813369\n"
     ]
    },
    {
     "name": "stderr",
     "output_type": "stream",
     "text": [
      "4813369.zip: 1.00MB [00:01, 605kB/s] \n"
     ]
    },
    {
     "name": "stdout",
     "output_type": "stream",
     "text": [
      "\n",
      "File successfully downloaded to: ./zenodo_dl/4813369.zip\n",
      "[info] File downloaded: ./zenodo_dl/4813369.zip\n",
      "\n",
      "[info] Paper_idx: 273, Zenodo id: 4813371\n"
     ]
    },
    {
     "name": "stderr",
     "output_type": "stream",
     "text": [
      "4813371.zip: 114MB [00:13, 8.33MB/s] \n"
     ]
    },
    {
     "name": "stdout",
     "output_type": "stream",
     "text": [
      "\n",
      "File successfully downloaded to: ./zenodo_dl/4813371.zip\n",
      "[info] File downloaded: ./zenodo_dl/4813371.zip\n",
      "\n",
      "[info] Paper_idx: 274, Zenodo id: 4813375\n"
     ]
    },
    {
     "name": "stderr",
     "output_type": "stream",
     "text": [
      "4813375.zip: 29.2MB [00:06, 4.39MB/s]\n"
     ]
    },
    {
     "name": "stdout",
     "output_type": "stream",
     "text": [
      "\n",
      "File successfully downloaded to: ./zenodo_dl/4813375.zip\n",
      "[info] File downloaded: ./zenodo_dl/4813375.zip\n",
      "\n",
      "[info] Paper_idx: 275, Zenodo id: 4813377\n"
     ]
    },
    {
     "name": "stderr",
     "output_type": "stream",
     "text": [
      "4813377.zip: 176MB [00:30, 5.74MB/s] \n"
     ]
    },
    {
     "name": "stdout",
     "output_type": "stream",
     "text": [
      "\n",
      "File successfully downloaded to: ./zenodo_dl/4813377.zip\n",
      "[info] File downloaded: ./zenodo_dl/4813377.zip\n",
      "\n",
      "[info] Paper_idx: 276, Zenodo id: 4813383\n"
     ]
    },
    {
     "name": "stderr",
     "output_type": "stream",
     "text": [
      "4813383.zip: 66.9MB [00:10, 6.24MB/s]\n"
     ]
    },
    {
     "name": "stdout",
     "output_type": "stream",
     "text": [
      "\n",
      "File successfully downloaded to: ./zenodo_dl/4813383.zip\n",
      "[info] File downloaded: ./zenodo_dl/4813383.zip\n",
      "\n",
      "[info] Paper_idx: 277, Zenodo id: 4813389\n"
     ]
    },
    {
     "name": "stderr",
     "output_type": "stream",
     "text": [
      "4813389.zip: 611kB [00:01, 440kB/s]  \n"
     ]
    },
    {
     "name": "stdout",
     "output_type": "stream",
     "text": [
      "\n",
      "File successfully downloaded to: ./zenodo_dl/4813389.zip\n",
      "[info] File downloaded: ./zenodo_dl/4813389.zip\n",
      "\n",
      "[info] Paper_idx: 278, Zenodo id: 4813391\n"
     ]
    },
    {
     "name": "stderr",
     "output_type": "stream",
     "text": [
      "4813391.zip: 56.3MB [00:11, 4.83MB/s]\n"
     ]
    },
    {
     "name": "stdout",
     "output_type": "stream",
     "text": [
      "\n",
      "File successfully downloaded to: ./zenodo_dl/4813391.zip\n",
      "[info] File downloaded: ./zenodo_dl/4813391.zip\n",
      "\n",
      "[info] Paper_idx: 279, Zenodo id: 4813396\n"
     ]
    },
    {
     "name": "stderr",
     "output_type": "stream",
     "text": [
      "4813396.zip: 358kB [00:01, 256kB/s]  \n"
     ]
    },
    {
     "name": "stdout",
     "output_type": "stream",
     "text": [
      "\n",
      "File successfully downloaded to: ./zenodo_dl/4813396.zip\n",
      "[info] File downloaded: ./zenodo_dl/4813396.zip\n",
      "\n",
      "[info] Paper_idx: 280, Zenodo id: 4813398\n"
     ]
    },
    {
     "name": "stderr",
     "output_type": "stream",
     "text": [
      "4813398.zip: 22.8MB [00:04, 4.81MB/s]\n"
     ]
    },
    {
     "name": "stdout",
     "output_type": "stream",
     "text": [
      "\n",
      "File successfully downloaded to: ./zenodo_dl/4813398.zip\n",
      "[info] File downloaded: ./zenodo_dl/4813398.zip\n",
      "\n",
      "[info] Paper_idx: 281, Zenodo id: 4813402\n"
     ]
    },
    {
     "name": "stderr",
     "output_type": "stream",
     "text": [
      "4813402.zip: 31.2MB [00:05, 5.32MB/s]\n"
     ]
    },
    {
     "name": "stdout",
     "output_type": "stream",
     "text": [
      "\n",
      "File successfully downloaded to: ./zenodo_dl/4813402.zip\n",
      "[info] File downloaded: ./zenodo_dl/4813402.zip\n",
      "\n",
      "[info] Paper_idx: 282, Zenodo id: 4813406\n"
     ]
    },
    {
     "name": "stderr",
     "output_type": "stream",
     "text": [
      "4813406.zip: 36.3MB [00:06, 5.21MB/s]\n"
     ]
    },
    {
     "name": "stdout",
     "output_type": "stream",
     "text": [
      "\n",
      "File successfully downloaded to: ./zenodo_dl/4813406.zip\n",
      "[info] File downloaded: ./zenodo_dl/4813406.zip\n",
      "\n",
      "[info] Paper_idx: 283, Zenodo id: 4813408\n"
     ]
    },
    {
     "name": "stderr",
     "output_type": "stream",
     "text": [
      "4813408.zip: 6.87MB [00:02, 2.73MB/s]\n"
     ]
    },
    {
     "name": "stdout",
     "output_type": "stream",
     "text": [
      "\n",
      "File successfully downloaded to: ./zenodo_dl/4813408.zip\n",
      "[info] File downloaded: ./zenodo_dl/4813408.zip\n",
      "\n",
      "[info] Paper_idx: 284, Zenodo id: 4813412\n"
     ]
    },
    {
     "name": "stderr",
     "output_type": "stream",
     "text": [
      "4813412.zip: 243MB [00:40, 5.96MB/s] \n"
     ]
    },
    {
     "name": "stdout",
     "output_type": "stream",
     "text": [
      "\n",
      "File successfully downloaded to: ./zenodo_dl/4813412.zip\n",
      "[info] File downloaded: ./zenodo_dl/4813412.zip\n",
      "\n",
      "[info] Paper_idx: 285, Zenodo id: 4813414\n"
     ]
    },
    {
     "name": "stderr",
     "output_type": "stream",
     "text": [
      "4813414.zip: 12.4MB [00:03, 3.68MB/s]\n"
     ]
    },
    {
     "name": "stdout",
     "output_type": "stream",
     "text": [
      "\n",
      "File successfully downloaded to: ./zenodo_dl/4813414.zip\n",
      "[info] File downloaded: ./zenodo_dl/4813414.zip\n",
      "\n",
      "[info] Paper_idx: 286, Zenodo id: 4813416\n"
     ]
    },
    {
     "name": "stderr",
     "output_type": "stream",
     "text": [
      "4813416.zip: 114MB [00:17, 6.34MB/s] \n"
     ]
    },
    {
     "name": "stdout",
     "output_type": "stream",
     "text": [
      "\n",
      "File successfully downloaded to: ./zenodo_dl/4813416.zip\n",
      "[info] File downloaded: ./zenodo_dl/4813416.zip\n",
      "\n",
      "[info] Paper_idx: 287, Zenodo id: 4813418\n"
     ]
    },
    {
     "name": "stderr",
     "output_type": "stream",
     "text": [
      "4813418.zip: 26.6MB [00:05, 4.79MB/s]\n"
     ]
    },
    {
     "name": "stdout",
     "output_type": "stream",
     "text": [
      "\n",
      "File successfully downloaded to: ./zenodo_dl/4813418.zip\n",
      "[info] File downloaded: ./zenodo_dl/4813418.zip\n",
      "\n",
      "[info] Paper_idx: 288, Zenodo id: 4813420\n"
     ]
    },
    {
     "name": "stderr",
     "output_type": "stream",
     "text": [
      "4813420.zip: 279kB [00:01, 250kB/s]  \n"
     ]
    },
    {
     "name": "stdout",
     "output_type": "stream",
     "text": [
      "\n",
      "File successfully downloaded to: ./zenodo_dl/4813420.zip\n",
      "[info] File downloaded: ./zenodo_dl/4813420.zip\n",
      "\n",
      "[info] Paper_idx: 289, Zenodo id: 4813422\n"
     ]
    },
    {
     "name": "stderr",
     "output_type": "stream",
     "text": [
      "4813422.zip: 67.9MB [00:12, 5.49MB/s]\n"
     ]
    },
    {
     "name": "stdout",
     "output_type": "stream",
     "text": [
      "\n",
      "File successfully downloaded to: ./zenodo_dl/4813422.zip\n",
      "[info] File downloaded: ./zenodo_dl/4813422.zip\n",
      "\n",
      "[info] Paper_idx: 290, Zenodo id: 4813424\n"
     ]
    },
    {
     "name": "stderr",
     "output_type": "stream",
     "text": [
      "4813424.zip: 9.85MB [00:02, 3.54MB/s]\n"
     ]
    },
    {
     "name": "stdout",
     "output_type": "stream",
     "text": [
      "\n",
      "File successfully downloaded to: ./zenodo_dl/4813424.zip\n",
      "[info] File downloaded: ./zenodo_dl/4813424.zip\n",
      "\n",
      "[info] Paper_idx: 291, Zenodo id: 4813426\n"
     ]
    },
    {
     "name": "stderr",
     "output_type": "stream",
     "text": [
      "4813426.zip: 21.1MB [00:04, 4.44MB/s]\n"
     ]
    },
    {
     "name": "stdout",
     "output_type": "stream",
     "text": [
      "\n",
      "File successfully downloaded to: ./zenodo_dl/4813426.zip\n",
      "[info] File downloaded: ./zenodo_dl/4813426.zip\n",
      "\n",
      "[info] Paper_idx: 292, Zenodo id: 4813428\n"
     ]
    },
    {
     "name": "stderr",
     "output_type": "stream",
     "text": [
      "4813428.zip: 73.5MB [00:15, 4.77MB/s]\n"
     ]
    },
    {
     "name": "stdout",
     "output_type": "stream",
     "text": [
      "\n",
      "File successfully downloaded to: ./zenodo_dl/4813428.zip\n",
      "[info] File downloaded: ./zenodo_dl/4813428.zip\n",
      "\n",
      "[info] Paper_idx: 293, Zenodo id: 4813430\n"
     ]
    },
    {
     "name": "stderr",
     "output_type": "stream",
     "text": [
      "4813430.zip: 27.2MB [00:05, 5.09MB/s]\n"
     ]
    },
    {
     "name": "stdout",
     "output_type": "stream",
     "text": [
      "\n",
      "File successfully downloaded to: ./zenodo_dl/4813430.zip\n",
      "[info] File downloaded: ./zenodo_dl/4813430.zip\n",
      "\n",
      "[info] Paper_idx: 294, Zenodo id: 4813434\n"
     ]
    },
    {
     "name": "stderr",
     "output_type": "stream",
     "text": [
      "4813434.zip: 22.5MB [00:04, 5.44MB/s]\n"
     ]
    },
    {
     "name": "stdout",
     "output_type": "stream",
     "text": [
      "\n",
      "File successfully downloaded to: ./zenodo_dl/4813434.zip\n",
      "[info] File downloaded: ./zenodo_dl/4813434.zip\n",
      "\n",
      "[info] Paper_idx: 295, Zenodo id: 4813436\n"
     ]
    },
    {
     "name": "stderr",
     "output_type": "stream",
     "text": [
      "4813436.zip: 29.0MB [00:06, 4.35MB/s]\n"
     ]
    },
    {
     "name": "stdout",
     "output_type": "stream",
     "text": [
      "\n",
      "File successfully downloaded to: ./zenodo_dl/4813436.zip\n",
      "[info] File downloaded: ./zenodo_dl/4813436.zip\n",
      "\n",
      "[info] Paper_idx: 296, Zenodo id: 4813438\n"
     ]
    },
    {
     "name": "stderr",
     "output_type": "stream",
     "text": [
      "4813438.zip: 491MB [01:06, 7.44MB/s] \n"
     ]
    },
    {
     "name": "stdout",
     "output_type": "stream",
     "text": [
      "\n",
      "File successfully downloaded to: ./zenodo_dl/4813438.zip\n",
      "[info] File downloaded: ./zenodo_dl/4813438.zip\n",
      "\n",
      "[info] Paper_idx: 297, Zenodo id: 4813445\n"
     ]
    },
    {
     "name": "stderr",
     "output_type": "stream",
     "text": [
      "4813445.zip: 109MB [00:16, 6.65MB/s] \n"
     ]
    },
    {
     "name": "stdout",
     "output_type": "stream",
     "text": [
      "\n",
      "File successfully downloaded to: ./zenodo_dl/4813445.zip\n",
      "[info] File downloaded: ./zenodo_dl/4813445.zip\n",
      "\n",
      "[info] Paper_idx: 298, Zenodo id: 4813449\n"
     ]
    },
    {
     "name": "stderr",
     "output_type": "stream",
     "text": [
      "4813449.zip: 81.7MB [00:13, 6.00MB/s]\n"
     ]
    },
    {
     "name": "stdout",
     "output_type": "stream",
     "text": [
      "\n",
      "File successfully downloaded to: ./zenodo_dl/4813449.zip\n",
      "[info] File downloaded: ./zenodo_dl/4813449.zip\n",
      "\n",
      "[info] Paper_idx: 299, Zenodo id: 4813453\n"
     ]
    },
    {
     "name": "stderr",
     "output_type": "stream",
     "text": [
      "4813453.zip: 117MB [00:23, 4.89MB/s] \n"
     ]
    },
    {
     "name": "stdout",
     "output_type": "stream",
     "text": [
      "\n",
      "File successfully downloaded to: ./zenodo_dl/4813453.zip\n",
      "[info] File downloaded: ./zenodo_dl/4813453.zip\n",
      "\n",
      "[info] Paper_idx: 300, Zenodo id: 4813457\n"
     ]
    },
    {
     "name": "stderr",
     "output_type": "stream",
     "text": [
      "4813457.zip: 40.3MB [00:06, 6.62MB/s]\n"
     ]
    },
    {
     "name": "stdout",
     "output_type": "stream",
     "text": [
      "\n",
      "File successfully downloaded to: ./zenodo_dl/4813457.zip\n",
      "[info] File downloaded: ./zenodo_dl/4813457.zip\n",
      "\n",
      "[info] Paper_idx: 301, Zenodo id: 4813459\n"
     ]
    },
    {
     "name": "stderr",
     "output_type": "stream",
     "text": [
      "4813459.zip: 21.7MB [00:05, 4.15MB/s]\n"
     ]
    },
    {
     "name": "stdout",
     "output_type": "stream",
     "text": [
      "\n",
      "File successfully downloaded to: ./zenodo_dl/4813459.zip\n",
      "[info] File downloaded: ./zenodo_dl/4813459.zip\n",
      "\n",
      "[info] Paper_idx: 302, Zenodo id: 4813461\n"
     ]
    },
    {
     "name": "stderr",
     "output_type": "stream",
     "text": [
      "4813461.zip: 75.0MB [00:09, 8.12MB/s]\n"
     ]
    },
    {
     "name": "stdout",
     "output_type": "stream",
     "text": [
      "\n",
      "File successfully downloaded to: ./zenodo_dl/4813461.zip\n",
      "[info] File downloaded: ./zenodo_dl/4813461.zip\n",
      "\n",
      "[info] Paper_idx: 303, Zenodo id: 4813463\n"
     ]
    },
    {
     "name": "stderr",
     "output_type": "stream",
     "text": [
      "4813463.zip: 64.4MB [00:09, 6.79MB/s]\n"
     ]
    },
    {
     "name": "stdout",
     "output_type": "stream",
     "text": [
      "\n",
      "File successfully downloaded to: ./zenodo_dl/4813463.zip\n",
      "[info] File downloaded: ./zenodo_dl/4813463.zip\n",
      "\n",
      "[info] Paper_idx: 304, Zenodo id: 4813465\n"
     ]
    },
    {
     "name": "stderr",
     "output_type": "stream",
     "text": [
      "4813465.zip: 36.9MB [00:08, 4.38MB/s]\n"
     ]
    },
    {
     "name": "stdout",
     "output_type": "stream",
     "text": [
      "\n",
      "File successfully downloaded to: ./zenodo_dl/4813465.zip\n",
      "[info] File downloaded: ./zenodo_dl/4813465.zip\n",
      "\n",
      "[info] Paper_idx: 305, Zenodo id: 4813473\n"
     ]
    },
    {
     "name": "stderr",
     "output_type": "stream",
     "text": [
      "4813473.zip: 2.19MB [00:01, 1.16MB/s]\n"
     ]
    },
    {
     "name": "stdout",
     "output_type": "stream",
     "text": [
      "\n",
      "File successfully downloaded to: ./zenodo_dl/4813473.zip\n",
      "[info] File downloaded: ./zenodo_dl/4813473.zip\n",
      "\n",
      "[info] Paper_idx: 306, Zenodo id: 4813475\n"
     ]
    },
    {
     "name": "stderr",
     "output_type": "stream",
     "text": [
      "4813475.zip: 45.5MB [01:50, 413kB/s] \n"
     ]
    },
    {
     "name": "stdout",
     "output_type": "stream",
     "text": [
      "\n",
      "File successfully downloaded to: ./zenodo_dl/4813475.zip\n",
      "[info] File downloaded: ./zenodo_dl/4813475.zip\n",
      "\n",
      "[info] Paper_idx: 307, Zenodo id: 4813477\n"
     ]
    },
    {
     "name": "stderr",
     "output_type": "stream",
     "text": [
      "4813477.zip: 23.1MB [00:05, 4.20MB/s]\n"
     ]
    },
    {
     "name": "stdout",
     "output_type": "stream",
     "text": [
      "\n",
      "File successfully downloaded to: ./zenodo_dl/4813477.zip\n",
      "[info] File downloaded: ./zenodo_dl/4813477.zip\n",
      "\n",
      "[info] Paper_idx: 308, Zenodo id: 4813481\n"
     ]
    },
    {
     "name": "stderr",
     "output_type": "stream",
     "text": [
      "4813481.zip: 26.2MB [00:06, 3.99MB/s]\n"
     ]
    },
    {
     "name": "stdout",
     "output_type": "stream",
     "text": [
      "\n",
      "File successfully downloaded to: ./zenodo_dl/4813481.zip\n",
      "[info] File downloaded: ./zenodo_dl/4813481.zip\n",
      "\n",
      "[info] Paper_idx: 309, Zenodo id: 4813483\n"
     ]
    },
    {
     "name": "stderr",
     "output_type": "stream",
     "text": [
      "4813483.zip: 6.30MB [00:02, 2.50MB/s]\n"
     ]
    },
    {
     "name": "stdout",
     "output_type": "stream",
     "text": [
      "\n",
      "File successfully downloaded to: ./zenodo_dl/4813483.zip\n",
      "[info] File downloaded: ./zenodo_dl/4813483.zip\n",
      "\n",
      "[info] Paper_idx: 310, Zenodo id: 4813485\n"
     ]
    },
    {
     "name": "stderr",
     "output_type": "stream",
     "text": [
      "4813485.zip: 36.9MB [00:06, 5.60MB/s]\n"
     ]
    },
    {
     "name": "stdout",
     "output_type": "stream",
     "text": [
      "\n",
      "File successfully downloaded to: ./zenodo_dl/4813485.zip\n",
      "[info] File downloaded: ./zenodo_dl/4813485.zip\n",
      "\n",
      "[info] Paper_idx: 311, Zenodo id: 4813488\n"
     ]
    },
    {
     "name": "stderr",
     "output_type": "stream",
     "text": [
      "4813488.zip: 472kB [00:01, 420kB/s]  \n"
     ]
    },
    {
     "name": "stdout",
     "output_type": "stream",
     "text": [
      "\n",
      "File successfully downloaded to: ./zenodo_dl/4813488.zip\n",
      "[info] File downloaded: ./zenodo_dl/4813488.zip\n",
      "\n",
      "[info] Paper_idx: 312, Zenodo id: 4813491\n"
     ]
    },
    {
     "name": "stderr",
     "output_type": "stream",
     "text": [
      "4813491.zip: 64.8MB [00:10, 5.98MB/s]\n"
     ]
    },
    {
     "name": "stdout",
     "output_type": "stream",
     "text": [
      "\n",
      "File successfully downloaded to: ./zenodo_dl/4813491.zip\n",
      "[info] File downloaded: ./zenodo_dl/4813491.zip\n",
      "\n",
      "[info] Paper_idx: 313, Zenodo id: 4813495\n"
     ]
    },
    {
     "name": "stderr",
     "output_type": "stream",
     "text": [
      "4813495.zip: 150MB [00:17, 8.65MB/s] \n"
     ]
    },
    {
     "name": "stdout",
     "output_type": "stream",
     "text": [
      "\n",
      "File successfully downloaded to: ./zenodo_dl/4813495.zip\n",
      "[info] File downloaded: ./zenodo_dl/4813495.zip\n",
      "\n",
      "[info] Paper_idx: 314, Zenodo id: 4813499\n"
     ]
    },
    {
     "name": "stderr",
     "output_type": "stream",
     "text": [
      "4813499.zip: 54.7MB [00:11, 4.81MB/s]\n"
     ]
    },
    {
     "name": "stdout",
     "output_type": "stream",
     "text": [
      "\n",
      "File successfully downloaded to: ./zenodo_dl/4813499.zip\n",
      "[info] File downloaded: ./zenodo_dl/4813499.zip\n",
      "\n",
      "[info] Paper_idx: 315, Zenodo id: 4813501\n"
     ]
    },
    {
     "name": "stderr",
     "output_type": "stream",
     "text": [
      "4813501.zip: 69.7MB [00:12, 5.46MB/s]\n"
     ]
    },
    {
     "name": "stdout",
     "output_type": "stream",
     "text": [
      "\n",
      "File successfully downloaded to: ./zenodo_dl/4813501.zip\n",
      "[info] File downloaded: ./zenodo_dl/4813501.zip\n",
      "\n",
      "[info] Paper_idx: 316, Zenodo id: 4813503\n"
     ]
    },
    {
     "name": "stderr",
     "output_type": "stream",
     "text": [
      "4813503.zip: 65.8MB [00:12, 5.23MB/s]\n"
     ]
    },
    {
     "name": "stdout",
     "output_type": "stream",
     "text": [
      "\n",
      "File successfully downloaded to: ./zenodo_dl/4813503.zip\n",
      "[info] File downloaded: ./zenodo_dl/4813503.zip\n",
      "\n",
      "[info] Paper_idx: 317, Zenodo id: 4813507\n"
     ]
    },
    {
     "name": "stderr",
     "output_type": "stream",
     "text": [
      "4813507.zip: 31.1MB [00:06, 4.68MB/s]\n"
     ]
    },
    {
     "name": "stdout",
     "output_type": "stream",
     "text": [
      "\n",
      "File successfully downloaded to: ./zenodo_dl/4813507.zip\n",
      "[info] File downloaded: ./zenodo_dl/4813507.zip\n",
      "\n",
      "[info] Paper_idx: 318, Zenodo id: 4813510\n"
     ]
    },
    {
     "name": "stderr",
     "output_type": "stream",
     "text": [
      "4813510.zip: 421kB [00:01, 376kB/s]  \n"
     ]
    },
    {
     "name": "stdout",
     "output_type": "stream",
     "text": [
      "\n",
      "File successfully downloaded to: ./zenodo_dl/4813510.zip\n",
      "[info] File downloaded: ./zenodo_dl/4813510.zip\n",
      "\n",
      "[info] Paper_idx: 319, Zenodo id: 3672842\n"
     ]
    },
    {
     "name": "stderr",
     "output_type": "stream",
     "text": [
      "3672842.zip: 2.16MB [00:01, 1.14MB/s]\n"
     ]
    },
    {
     "name": "stdout",
     "output_type": "stream",
     "text": [
      "\n",
      "File successfully downloaded to: ./zenodo_dl/3672842.zip\n",
      "[info] File downloaded: ./zenodo_dl/3672842.zip\n",
      "\n",
      "[info] Paper_idx: 320, Zenodo id: 3672846\n"
     ]
    },
    {
     "name": "stderr",
     "output_type": "stream",
     "text": [
      "3672846.zip: 832kB [00:01, 595kB/s]  \n"
     ]
    },
    {
     "name": "stdout",
     "output_type": "stream",
     "text": [
      "\n",
      "File successfully downloaded to: ./zenodo_dl/3672846.zip\n",
      "[info] File downloaded: ./zenodo_dl/3672846.zip\n",
      "\n",
      "[info] Paper_idx: 321, Zenodo id: 3672848\n"
     ]
    },
    {
     "name": "stderr",
     "output_type": "stream",
     "text": [
      "3672848.zip: 2.88MB [00:01, 1.48MB/s]\n"
     ]
    },
    {
     "name": "stdout",
     "output_type": "stream",
     "text": [
      "\n",
      "File successfully downloaded to: ./zenodo_dl/3672848.zip\n",
      "[info] File downloaded: ./zenodo_dl/3672848.zip\n",
      "\n",
      "[info] Paper_idx: 322, Zenodo id: 3672850\n"
     ]
    },
    {
     "name": "stderr",
     "output_type": "stream",
     "text": [
      "3672850.zip: 837kB [00:01, 599kB/s]  \n"
     ]
    },
    {
     "name": "stdout",
     "output_type": "stream",
     "text": [
      "\n",
      "File successfully downloaded to: ./zenodo_dl/3672850.zip\n",
      "[info] File downloaded: ./zenodo_dl/3672850.zip\n",
      "\n",
      "[info] Paper_idx: 323, Zenodo id: 3672852\n"
     ]
    },
    {
     "name": "stderr",
     "output_type": "stream",
     "text": [
      "3672852.zip: 5.78MB [00:02, 2.07MB/s]\n"
     ]
    },
    {
     "name": "stdout",
     "output_type": "stream",
     "text": [
      "\n",
      "File successfully downloaded to: ./zenodo_dl/3672852.zip\n",
      "[info] File downloaded: ./zenodo_dl/3672852.zip\n",
      "\n",
      "[info] Paper_idx: 324, Zenodo id: 3672854\n"
     ]
    },
    {
     "name": "stderr",
     "output_type": "stream",
     "text": [
      "3672854.zip: 310kB [00:01, 275kB/s]  \n"
     ]
    },
    {
     "name": "stdout",
     "output_type": "stream",
     "text": [
      "\n",
      "File successfully downloaded to: ./zenodo_dl/3672854.zip\n",
      "[info] File downloaded: ./zenodo_dl/3672854.zip\n",
      "\n",
      "[info] Paper_idx: 325, Zenodo id: 3672856\n"
     ]
    },
    {
     "name": "stderr",
     "output_type": "stream",
     "text": [
      "3672856.zip: 1.63MB [00:01, 976kB/s] \n"
     ]
    },
    {
     "name": "stdout",
     "output_type": "stream",
     "text": [
      "\n",
      "File successfully downloaded to: ./zenodo_dl/3672856.zip\n",
      "[info] File downloaded: ./zenodo_dl/3672856.zip\n",
      "\n",
      "[info] Paper_idx: 326, Zenodo id: 3672858\n"
     ]
    },
    {
     "name": "stderr",
     "output_type": "stream",
     "text": [
      "3672858.zip: 25.9MB [00:04, 5.80MB/s]\n"
     ]
    },
    {
     "name": "stdout",
     "output_type": "stream",
     "text": [
      "\n",
      "File successfully downloaded to: ./zenodo_dl/3672858.zip\n",
      "[info] File downloaded: ./zenodo_dl/3672858.zip\n",
      "\n",
      "[info] Paper_idx: 327, Zenodo id: 3672860\n"
     ]
    },
    {
     "name": "stderr",
     "output_type": "stream",
     "text": [
      "3672860.zip: 13.6MB [00:03, 4.02MB/s]\n"
     ]
    },
    {
     "name": "stdout",
     "output_type": "stream",
     "text": [
      "\n",
      "File successfully downloaded to: ./zenodo_dl/3672860.zip\n",
      "[info] File downloaded: ./zenodo_dl/3672860.zip\n",
      "\n",
      "[info] Paper_idx: 328, Zenodo id: 3672862\n"
     ]
    },
    {
     "name": "stderr",
     "output_type": "stream",
     "text": [
      "3672862.zip: 348kB [00:01, 312kB/s]  \n"
     ]
    },
    {
     "name": "stdout",
     "output_type": "stream",
     "text": [
      "\n",
      "File successfully downloaded to: ./zenodo_dl/3672862.zip\n",
      "[info] File downloaded: ./zenodo_dl/3672862.zip\n",
      "\n",
      "[info] Paper_idx: 329, Zenodo id: 3672864\n"
     ]
    },
    {
     "name": "stderr",
     "output_type": "stream",
     "text": [
      "3672864.zip: 3.69MB [00:02, 1.44MB/s]\n"
     ]
    },
    {
     "name": "stdout",
     "output_type": "stream",
     "text": [
      "\n",
      "File successfully downloaded to: ./zenodo_dl/3672864.zip\n",
      "[info] File downloaded: ./zenodo_dl/3672864.zip\n",
      "\n",
      "[info] Paper_idx: 330, Zenodo id: 3672866\n"
     ]
    },
    {
     "name": "stderr",
     "output_type": "stream",
     "text": [
      "3672866.zip: 2.59MB [00:01, 1.32MB/s]\n"
     ]
    },
    {
     "name": "stdout",
     "output_type": "stream",
     "text": [
      "\n",
      "File successfully downloaded to: ./zenodo_dl/3672866.zip\n",
      "[info] File downloaded: ./zenodo_dl/3672866.zip\n",
      "\n",
      "[info] Paper_idx: 331, Zenodo id: 3672868\n"
     ]
    },
    {
     "name": "stderr",
     "output_type": "stream",
     "text": [
      "3672868.zip: 3.58MB [00:01, 1.83MB/s]\n"
     ]
    },
    {
     "name": "stdout",
     "output_type": "stream",
     "text": [
      "\n",
      "File successfully downloaded to: ./zenodo_dl/3672868.zip\n",
      "[info] File downloaded: ./zenodo_dl/3672868.zip\n",
      "\n",
      "[info] Paper_idx: 332, Zenodo id: 3672870\n"
     ]
    },
    {
     "name": "stderr",
     "output_type": "stream",
     "text": [
      "3672870.zip: 2.00MB [00:01, 1.19MB/s]\n"
     ]
    },
    {
     "name": "stdout",
     "output_type": "stream",
     "text": [
      "\n",
      "File successfully downloaded to: ./zenodo_dl/3672870.zip\n",
      "[info] File downloaded: ./zenodo_dl/3672870.zip\n",
      "\n",
      "[info] Paper_idx: 333, Zenodo id: 3672872\n"
     ]
    },
    {
     "name": "stderr",
     "output_type": "stream",
     "text": [
      "3672872.zip: 131kB [00:00, 156kB/s]  \n"
     ]
    },
    {
     "name": "stdout",
     "output_type": "stream",
     "text": [
      "\n",
      "File successfully downloaded to: ./zenodo_dl/3672872.zip\n",
      "[info] File downloaded: ./zenodo_dl/3672872.zip\n",
      "\n",
      "[info] Paper_idx: 334, Zenodo id: 3672874\n"
     ]
    },
    {
     "name": "stderr",
     "output_type": "stream",
     "text": [
      "3672874.zip: 3.09MB [00:01, 1.59MB/s]\n"
     ]
    },
    {
     "name": "stdout",
     "output_type": "stream",
     "text": [
      "\n",
      "File successfully downloaded to: ./zenodo_dl/3672874.zip\n",
      "[info] File downloaded: ./zenodo_dl/3672874.zip\n",
      "\n",
      "[info] Paper_idx: 335, Zenodo id: 3672876\n"
     ]
    },
    {
     "name": "stderr",
     "output_type": "stream",
     "text": [
      "3672876.zip: 4.49MB [00:02, 1.99MB/s]\n"
     ]
    },
    {
     "name": "stdout",
     "output_type": "stream",
     "text": [
      "\n",
      "File successfully downloaded to: ./zenodo_dl/3672876.zip\n",
      "[info] File downloaded: ./zenodo_dl/3672876.zip\n",
      "\n",
      "[info] Paper_idx: 336, Zenodo id: 3672878\n"
     ]
    },
    {
     "name": "stderr",
     "output_type": "stream",
     "text": [
      "3672878.zip: 932kB [00:01, 665kB/s]  \n"
     ]
    },
    {
     "name": "stdout",
     "output_type": "stream",
     "text": [
      "\n",
      "File successfully downloaded to: ./zenodo_dl/3672878.zip\n",
      "[info] File downloaded: ./zenodo_dl/3672878.zip\n",
      "\n",
      "[info] Paper_idx: 337, Zenodo id: 3672880\n"
     ]
    },
    {
     "name": "stderr",
     "output_type": "stream",
     "text": [
      "3672880.zip: 847kB [00:01, 610kB/s]  \n"
     ]
    },
    {
     "name": "stdout",
     "output_type": "stream",
     "text": [
      "\n",
      "File successfully downloaded to: ./zenodo_dl/3672880.zip\n",
      "[info] File downloaded: ./zenodo_dl/3672880.zip\n",
      "\n",
      "[info] Paper_idx: 338, Zenodo id: 3672882\n"
     ]
    },
    {
     "name": "stderr",
     "output_type": "stream",
     "text": [
      "3672882.zip: 9.35MB [00:02, 3.36MB/s]\n"
     ]
    },
    {
     "name": "stdout",
     "output_type": "stream",
     "text": [
      "\n",
      "File successfully downloaded to: ./zenodo_dl/3672882.zip\n",
      "[info] File downloaded: ./zenodo_dl/3672882.zip\n",
      "\n",
      "[info] Paper_idx: 339, Zenodo id: 3672884\n"
     ]
    },
    {
     "name": "stderr",
     "output_type": "stream",
     "text": [
      "3672884.zip: 4.19MB [00:02, 1.66MB/s]\n"
     ]
    },
    {
     "name": "stdout",
     "output_type": "stream",
     "text": [
      "\n",
      "File successfully downloaded to: ./zenodo_dl/3672884.zip\n",
      "[info] File downloaded: ./zenodo_dl/3672884.zip\n",
      "\n",
      "[info] Paper_idx: 340, Zenodo id: 3672886\n"
     ]
    },
    {
     "name": "stderr",
     "output_type": "stream",
     "text": [
      "3672886.zip: 4.92MB [00:02, 1.98MB/s]\n"
     ]
    },
    {
     "name": "stdout",
     "output_type": "stream",
     "text": [
      "\n",
      "File successfully downloaded to: ./zenodo_dl/3672886.zip\n",
      "[info] File downloaded: ./zenodo_dl/3672886.zip\n",
      "\n",
      "[info] Paper_idx: 341, Zenodo id: 3672888\n"
     ]
    },
    {
     "name": "stderr",
     "output_type": "stream",
     "text": [
      "3672888.zip: 7.31MB [00:02, 2.89MB/s]\n"
     ]
    },
    {
     "name": "stdout",
     "output_type": "stream",
     "text": [
      "\n",
      "File successfully downloaded to: ./zenodo_dl/3672888.zip\n",
      "[info] File downloaded: ./zenodo_dl/3672888.zip\n",
      "\n",
      "[info] Paper_idx: 342, Zenodo id: 3672890\n"
     ]
    },
    {
     "name": "stderr",
     "output_type": "stream",
     "text": [
      "3672890.zip: 700kB [00:01, 499kB/s]  \n"
     ]
    },
    {
     "name": "stdout",
     "output_type": "stream",
     "text": [
      "\n",
      "File successfully downloaded to: ./zenodo_dl/3672890.zip\n",
      "[info] File downloaded: ./zenodo_dl/3672890.zip\n",
      "\n",
      "[info] Paper_idx: 343, Zenodo id: 3672892\n"
     ]
    },
    {
     "name": "stderr",
     "output_type": "stream",
     "text": [
      "3672892.zip: 926kB [00:01, 664kB/s]  \n"
     ]
    },
    {
     "name": "stdout",
     "output_type": "stream",
     "text": [
      "\n",
      "File successfully downloaded to: ./zenodo_dl/3672892.zip\n",
      "[info] File downloaded: ./zenodo_dl/3672892.zip\n",
      "\n",
      "[info] Paper_idx: 344, Zenodo id: 3672896\n"
     ]
    },
    {
     "name": "stderr",
     "output_type": "stream",
     "text": [
      "3672896.zip: 2.64MB [00:01, 1.36MB/s]\n"
     ]
    },
    {
     "name": "stdout",
     "output_type": "stream",
     "text": [
      "\n",
      "File successfully downloaded to: ./zenodo_dl/3672896.zip\n",
      "[info] File downloaded: ./zenodo_dl/3672896.zip\n",
      "\n",
      "[info] Paper_idx: 345, Zenodo id: 3672898\n"
     ]
    },
    {
     "name": "stderr",
     "output_type": "stream",
     "text": [
      "3672898.zip: 4.40MB [00:02, 1.59MB/s]\n"
     ]
    },
    {
     "name": "stdout",
     "output_type": "stream",
     "text": [
      "\n",
      "File successfully downloaded to: ./zenodo_dl/3672898.zip\n",
      "[info] File downloaded: ./zenodo_dl/3672898.zip\n",
      "\n",
      "[info] Paper_idx: 346, Zenodo id: 3672900\n"
     ]
    },
    {
     "name": "stderr",
     "output_type": "stream",
     "text": [
      "3672900.zip: 952kB [00:01, 679kB/s]  \n"
     ]
    },
    {
     "name": "stdout",
     "output_type": "stream",
     "text": [
      "\n",
      "File successfully downloaded to: ./zenodo_dl/3672900.zip\n",
      "[info] File downloaded: ./zenodo_dl/3672900.zip\n",
      "\n",
      "[info] Paper_idx: 347, Zenodo id: 3672902\n"
     ]
    },
    {
     "name": "stderr",
     "output_type": "stream",
     "text": [
      "3672902.zip: 1.26MB [00:01, 755kB/s] \n"
     ]
    },
    {
     "name": "stdout",
     "output_type": "stream",
     "text": [
      "\n",
      "File successfully downloaded to: ./zenodo_dl/3672902.zip\n",
      "[info] File downloaded: ./zenodo_dl/3672902.zip\n",
      "\n",
      "[info] Paper_idx: 348, Zenodo id: 3672904\n"
     ]
    },
    {
     "name": "stderr",
     "output_type": "stream",
     "text": [
      "3672904.zip: 5.10MB [00:02, 2.25MB/s]\n"
     ]
    },
    {
     "name": "stdout",
     "output_type": "stream",
     "text": [
      "\n",
      "File successfully downloaded to: ./zenodo_dl/3672904.zip\n",
      "[info] File downloaded: ./zenodo_dl/3672904.zip\n",
      "\n",
      "[info] Paper_idx: 349, Zenodo id: 3672906\n"
     ]
    },
    {
     "name": "stderr",
     "output_type": "stream",
     "text": [
      "3672906.zip: 13.0MB [00:04, 3.19MB/s]\n"
     ]
    },
    {
     "name": "stdout",
     "output_type": "stream",
     "text": [
      "\n",
      "File successfully downloaded to: ./zenodo_dl/3672906.zip\n",
      "[info] File downloaded: ./zenodo_dl/3672906.zip\n",
      "\n",
      "[info] Paper_idx: 350, Zenodo id: 3672908\n"
     ]
    },
    {
     "name": "stderr",
     "output_type": "stream",
     "text": [
      "3672908.zip: 5.30MB [00:02, 2.37MB/s]\n"
     ]
    },
    {
     "name": "stdout",
     "output_type": "stream",
     "text": [
      "\n",
      "File successfully downloaded to: ./zenodo_dl/3672908.zip\n",
      "[info] File downloaded: ./zenodo_dl/3672908.zip\n",
      "\n",
      "[info] Paper_idx: 351, Zenodo id: 3672910\n"
     ]
    },
    {
     "name": "stderr",
     "output_type": "stream",
     "text": [
      "3672910.zip: 657kB [00:01, 474kB/s]  \n"
     ]
    },
    {
     "name": "stdout",
     "output_type": "stream",
     "text": [
      "\n",
      "File successfully downloaded to: ./zenodo_dl/3672910.zip\n",
      "[info] File downloaded: ./zenodo_dl/3672910.zip\n",
      "\n",
      "[info] Paper_idx: 352, Zenodo id: 3672912\n"
     ]
    },
    {
     "name": "stderr",
     "output_type": "stream",
     "text": [
      "3672912.zip: 564kB [00:01, 407kB/s]  \n"
     ]
    },
    {
     "name": "stdout",
     "output_type": "stream",
     "text": [
      "\n",
      "File successfully downloaded to: ./zenodo_dl/3672912.zip\n",
      "[info] File downloaded: ./zenodo_dl/3672912.zip\n",
      "\n",
      "[info] Paper_idx: 353, Zenodo id: 3672914\n"
     ]
    },
    {
     "name": "stderr",
     "output_type": "stream",
     "text": [
      "3672914.zip: 1.32MB [00:01, 677kB/s] \n"
     ]
    },
    {
     "name": "stdout",
     "output_type": "stream",
     "text": [
      "\n",
      "File successfully downloaded to: ./zenodo_dl/3672914.zip\n",
      "[info] File downloaded: ./zenodo_dl/3672914.zip\n",
      "\n",
      "[info] Paper_idx: 354, Zenodo id: 3672916\n"
     ]
    },
    {
     "name": "stderr",
     "output_type": "stream",
     "text": [
      "3672916.zip: 382kB [00:01, 331kB/s]  \n"
     ]
    },
    {
     "name": "stdout",
     "output_type": "stream",
     "text": [
      "\n",
      "File successfully downloaded to: ./zenodo_dl/3672916.zip\n",
      "[info] File downloaded: ./zenodo_dl/3672916.zip\n",
      "\n",
      "[info] Paper_idx: 355, Zenodo id: 3672918\n"
     ]
    },
    {
     "name": "stderr",
     "output_type": "stream",
     "text": [
      "3672918.zip: 5.70MB [00:02, 2.33MB/s]\n"
     ]
    },
    {
     "name": "stdout",
     "output_type": "stream",
     "text": [
      "\n",
      "File successfully downloaded to: ./zenodo_dl/3672918.zip\n",
      "[info] File downloaded: ./zenodo_dl/3672918.zip\n",
      "\n",
      "[info] Paper_idx: 356, Zenodo id: 3672920\n"
     ]
    },
    {
     "name": "stderr",
     "output_type": "stream",
     "text": [
      "3672920.zip: 648kB [00:01, 388kB/s]  \n"
     ]
    },
    {
     "name": "stdout",
     "output_type": "stream",
     "text": [
      "\n",
      "File successfully downloaded to: ./zenodo_dl/3672920.zip\n",
      "[info] File downloaded: ./zenodo_dl/3672920.zip\n",
      "\n",
      "[info] Paper_idx: 357, Zenodo id: 3672922\n"
     ]
    },
    {
     "name": "stderr",
     "output_type": "stream",
     "text": [
      "3672922.zip: 2.26MB [00:01, 1.19MB/s]\n"
     ]
    },
    {
     "name": "stdout",
     "output_type": "stream",
     "text": [
      "\n",
      "File successfully downloaded to: ./zenodo_dl/3672922.zip\n",
      "[info] File downloaded: ./zenodo_dl/3672922.zip\n",
      "\n",
      "[info] Paper_idx: 358, Zenodo id: 3672928\n"
     ]
    },
    {
     "name": "stderr",
     "output_type": "stream",
     "text": [
      "3672928.zip: 1.52MB [00:01, 910kB/s] \n"
     ]
    },
    {
     "name": "stdout",
     "output_type": "stream",
     "text": [
      "\n",
      "File successfully downloaded to: ./zenodo_dl/3672928.zip\n",
      "[info] File downloaded: ./zenodo_dl/3672928.zip\n",
      "\n",
      "[info] Paper_idx: 359, Zenodo id: 3672930\n"
     ]
    },
    {
     "name": "stderr",
     "output_type": "stream",
     "text": [
      "3672930.zip: 7.74MB [00:03, 2.51MB/s]\n"
     ]
    },
    {
     "name": "stdout",
     "output_type": "stream",
     "text": [
      "\n",
      "File successfully downloaded to: ./zenodo_dl/3672930.zip\n",
      "[info] File downloaded: ./zenodo_dl/3672930.zip\n",
      "\n",
      "[info] Paper_idx: 360, Zenodo id: 3672932\n"
     ]
    },
    {
     "name": "stderr",
     "output_type": "stream",
     "text": [
      "3672932.zip: 2.24MB [00:01, 1.16MB/s]\n"
     ]
    },
    {
     "name": "stdout",
     "output_type": "stream",
     "text": [
      "\n",
      "File successfully downloaded to: ./zenodo_dl/3672932.zip\n",
      "[info] File downloaded: ./zenodo_dl/3672932.zip\n",
      "\n",
      "[info] Paper_idx: 361, Zenodo id: 3672934\n"
     ]
    },
    {
     "name": "stderr",
     "output_type": "stream",
     "text": [
      "3672934.zip: 269kB [00:01, 237kB/s]  \n"
     ]
    },
    {
     "name": "stdout",
     "output_type": "stream",
     "text": [
      "\n",
      "File successfully downloaded to: ./zenodo_dl/3672934.zip\n",
      "[info] File downloaded: ./zenodo_dl/3672934.zip\n",
      "\n",
      "[info] Paper_idx: 362, Zenodo id: 3672936\n"
     ]
    },
    {
     "name": "stderr",
     "output_type": "stream",
     "text": [
      "3672936.zip: 3.18MB [00:01, 1.62MB/s]\n"
     ]
    },
    {
     "name": "stdout",
     "output_type": "stream",
     "text": [
      "\n",
      "File successfully downloaded to: ./zenodo_dl/3672936.zip\n",
      "[info] File downloaded: ./zenodo_dl/3672936.zip\n",
      "\n",
      "[info] Paper_idx: 363, Zenodo id: 3672940\n"
     ]
    },
    {
     "name": "stderr",
     "output_type": "stream",
     "text": [
      "3672940.zip: 2.00MB [00:01, 1.19MB/s]\n"
     ]
    },
    {
     "name": "stdout",
     "output_type": "stream",
     "text": [
      "\n",
      "File successfully downloaded to: ./zenodo_dl/3672940.zip\n",
      "[info] File downloaded: ./zenodo_dl/3672940.zip\n",
      "\n",
      "[info] Paper_idx: 364, Zenodo id: 3672942\n"
     ]
    },
    {
     "name": "stderr",
     "output_type": "stream",
     "text": [
      "3672942.zip: 497kB [00:01, 445kB/s]  \n"
     ]
    },
    {
     "name": "stdout",
     "output_type": "stream",
     "text": [
      "\n",
      "File successfully downloaded to: ./zenodo_dl/3672942.zip\n",
      "[info] File downloaded: ./zenodo_dl/3672942.zip\n",
      "\n",
      "[info] Paper_idx: 365, Zenodo id: 3672944\n"
     ]
    },
    {
     "name": "stderr",
     "output_type": "stream",
     "text": [
      "3672944.zip: 12.3MB [00:03, 3.68MB/s]\n"
     ]
    },
    {
     "name": "stdout",
     "output_type": "stream",
     "text": [
      "\n",
      "File successfully downloaded to: ./zenodo_dl/3672944.zip\n",
      "[info] File downloaded: ./zenodo_dl/3672944.zip\n",
      "\n",
      "[info] Paper_idx: 366, Zenodo id: 3672946\n"
     ]
    },
    {
     "name": "stderr",
     "output_type": "stream",
     "text": [
      "3672946.zip: 2.37MB [00:01, 1.22MB/s]\n"
     ]
    },
    {
     "name": "stdout",
     "output_type": "stream",
     "text": [
      "\n",
      "File successfully downloaded to: ./zenodo_dl/3672946.zip\n",
      "[info] File downloaded: ./zenodo_dl/3672946.zip\n",
      "\n",
      "[info] Paper_idx: 367, Zenodo id: 3672948\n"
     ]
    },
    {
     "name": "stderr",
     "output_type": "stream",
     "text": [
      "3672948.zip: 6.56MB [00:02, 2.61MB/s]\n"
     ]
    },
    {
     "name": "stdout",
     "output_type": "stream",
     "text": [
      "\n",
      "File successfully downloaded to: ./zenodo_dl/3672948.zip\n",
      "[info] File downloaded: ./zenodo_dl/3672948.zip\n",
      "\n",
      "[info] Paper_idx: 368, Zenodo id: 3672952\n"
     ]
    },
    {
     "name": "stderr",
     "output_type": "stream",
     "text": [
      "3672952.zip: 2.29MB [00:01, 1.19MB/s]\n"
     ]
    },
    {
     "name": "stdout",
     "output_type": "stream",
     "text": [
      "\n",
      "File successfully downloaded to: ./zenodo_dl/3672952.zip\n",
      "[info] File downloaded: ./zenodo_dl/3672952.zip\n",
      "\n",
      "[info] Paper_idx: 369, Zenodo id: 3672954\n"
     ]
    },
    {
     "name": "stderr",
     "output_type": "stream",
     "text": [
      "3672954.zip: 4.23MB [00:02, 1.53MB/s]\n"
     ]
    },
    {
     "name": "stdout",
     "output_type": "stream",
     "text": [
      "\n",
      "File successfully downloaded to: ./zenodo_dl/3672954.zip\n",
      "[info] File downloaded: ./zenodo_dl/3672954.zip\n",
      "\n",
      "[info] Paper_idx: 370, Zenodo id: 3672956\n"
     ]
    },
    {
     "name": "stderr",
     "output_type": "stream",
     "text": [
      "3672956.zip: 8.02MB [00:02, 2.86MB/s]\n"
     ]
    },
    {
     "name": "stdout",
     "output_type": "stream",
     "text": [
      "\n",
      "File successfully downloaded to: ./zenodo_dl/3672956.zip\n",
      "[info] File downloaded: ./zenodo_dl/3672956.zip\n",
      "\n",
      "[info] Paper_idx: 371, Zenodo id: 3672958\n"
     ]
    },
    {
     "name": "stderr",
     "output_type": "stream",
     "text": [
      "3672958.zip: 4.13MB [00:02, 1.79MB/s]\n"
     ]
    },
    {
     "name": "stdout",
     "output_type": "stream",
     "text": [
      "\n",
      "File successfully downloaded to: ./zenodo_dl/3672958.zip\n",
      "[info] File downloaded: ./zenodo_dl/3672958.zip\n",
      "\n",
      "[info] Paper_idx: 372, Zenodo id: 3672960\n"
     ]
    },
    {
     "name": "stderr",
     "output_type": "stream",
     "text": [
      "3672960.zip: 14.6MB [00:03, 3.75MB/s]\n"
     ]
    },
    {
     "name": "stdout",
     "output_type": "stream",
     "text": [
      "\n",
      "File successfully downloaded to: ./zenodo_dl/3672960.zip\n",
      "[info] File downloaded: ./zenodo_dl/3672960.zip\n",
      "\n",
      "[info] Paper_idx: 373, Zenodo id: 3672962\n"
     ]
    },
    {
     "name": "stderr",
     "output_type": "stream",
     "text": [
      "3672962.zip: 423kB [00:01, 375kB/s]  \n"
     ]
    },
    {
     "name": "stdout",
     "output_type": "stream",
     "text": [
      "\n",
      "File successfully downloaded to: ./zenodo_dl/3672962.zip\n",
      "[info] File downloaded: ./zenodo_dl/3672962.zip\n",
      "\n",
      "[info] Paper_idx: 374, Zenodo id: 3672966\n"
     ]
    },
    {
     "name": "stderr",
     "output_type": "stream",
     "text": [
      "3672966.zip: 3.36MB [00:01, 1.71MB/s]\n"
     ]
    },
    {
     "name": "stdout",
     "output_type": "stream",
     "text": [
      "\n",
      "File successfully downloaded to: ./zenodo_dl/3672966.zip\n",
      "[info] File downloaded: ./zenodo_dl/3672966.zip\n",
      "\n",
      "[info] Paper_idx: 375, Zenodo id: 3672968\n"
     ]
    },
    {
     "name": "stderr",
     "output_type": "stream",
     "text": [
      "3672968.zip: 665kB [00:01, 478kB/s]  \n"
     ]
    },
    {
     "name": "stdout",
     "output_type": "stream",
     "text": [
      "\n",
      "File successfully downloaded to: ./zenodo_dl/3672968.zip\n",
      "[info] File downloaded: ./zenodo_dl/3672968.zip\n",
      "\n",
      "[info] Paper_idx: 376, Zenodo id: 3672972\n"
     ]
    },
    {
     "name": "stderr",
     "output_type": "stream",
     "text": [
      "3672972.zip: 404kB [00:01, 299kB/s]  \n"
     ]
    },
    {
     "name": "stdout",
     "output_type": "stream",
     "text": [
      "\n",
      "File successfully downloaded to: ./zenodo_dl/3672972.zip\n",
      "[info] File downloaded: ./zenodo_dl/3672972.zip\n",
      "\n",
      "[info] Paper_idx: 377, Zenodo id: 3672974\n"
     ]
    },
    {
     "name": "stderr",
     "output_type": "stream",
     "text": [
      "3672974.zip: 1.70MB [00:01, 1.01MB/s]\n"
     ]
    },
    {
     "name": "stdout",
     "output_type": "stream",
     "text": [
      "\n",
      "File successfully downloaded to: ./zenodo_dl/3672974.zip\n",
      "[info] File downloaded: ./zenodo_dl/3672974.zip\n",
      "\n",
      "[info] Paper_idx: 378, Zenodo id: 3672976\n"
     ]
    },
    {
     "name": "stderr",
     "output_type": "stream",
     "text": [
      "3672976.zip: 1.53MB [00:01, 908kB/s] \n"
     ]
    },
    {
     "name": "stdout",
     "output_type": "stream",
     "text": [
      "\n",
      "File successfully downloaded to: ./zenodo_dl/3672976.zip\n",
      "[info] File downloaded: ./zenodo_dl/3672976.zip\n",
      "\n",
      "[info] Paper_idx: 379, Zenodo id: 3672978\n"
     ]
    },
    {
     "name": "stderr",
     "output_type": "stream",
     "text": [
      "3672978.zip: 548kB [00:01, 398kB/s]  \n"
     ]
    },
    {
     "name": "stdout",
     "output_type": "stream",
     "text": [
      "\n",
      "File successfully downloaded to: ./zenodo_dl/3672978.zip\n",
      "[info] File downloaded: ./zenodo_dl/3672978.zip\n",
      "\n",
      "[info] Paper_idx: 380, Zenodo id: 3672980\n"
     ]
    },
    {
     "name": "stderr",
     "output_type": "stream",
     "text": [
      "3672980.zip: 441kB [00:01, 395kB/s]  \n"
     ]
    },
    {
     "name": "stdout",
     "output_type": "stream",
     "text": [
      "\n",
      "File successfully downloaded to: ./zenodo_dl/3672980.zip\n",
      "[info] File downloaded: ./zenodo_dl/3672980.zip\n",
      "\n",
      "[info] Paper_idx: 381, Zenodo id: 3672982\n"
     ]
    },
    {
     "name": "stderr",
     "output_type": "stream",
     "text": [
      "3672982.zip: 985kB [00:01, 683kB/s]  \n"
     ]
    },
    {
     "name": "stdout",
     "output_type": "stream",
     "text": [
      "\n",
      "File successfully downloaded to: ./zenodo_dl/3672982.zip\n",
      "[info] File downloaded: ./zenodo_dl/3672982.zip\n",
      "\n",
      "[info] Paper_idx: 382, Zenodo id: 3672984\n"
     ]
    },
    {
     "name": "stderr",
     "output_type": "stream",
     "text": [
      "3672984.zip: 10.9MB [00:03, 3.55MB/s]\n"
     ]
    },
    {
     "name": "stdout",
     "output_type": "stream",
     "text": [
      "\n",
      "File successfully downloaded to: ./zenodo_dl/3672984.zip\n",
      "[info] File downloaded: ./zenodo_dl/3672984.zip\n",
      "\n",
      "[info] Paper_idx: 383, Zenodo id: 3672986\n"
     ]
    },
    {
     "name": "stderr",
     "output_type": "stream",
     "text": [
      "3672986.zip: 969kB [00:01, 688kB/s]  \n"
     ]
    },
    {
     "name": "stdout",
     "output_type": "stream",
     "text": [
      "\n",
      "File successfully downloaded to: ./zenodo_dl/3672986.zip\n",
      "[info] File downloaded: ./zenodo_dl/3672986.zip\n",
      "\n",
      "[info] Paper_idx: 384, Zenodo id: 3672988\n"
     ]
    },
    {
     "name": "stderr",
     "output_type": "stream",
     "text": [
      "3672988.zip: 3.14MB [00:01, 1.61MB/s]\n"
     ]
    },
    {
     "name": "stdout",
     "output_type": "stream",
     "text": [
      "\n",
      "File successfully downloaded to: ./zenodo_dl/3672988.zip\n",
      "[info] File downloaded: ./zenodo_dl/3672988.zip\n",
      "\n",
      "[info] Paper_idx: 385, Zenodo id: 3672990\n"
     ]
    },
    {
     "name": "stderr",
     "output_type": "stream",
     "text": [
      "3672990.zip: 206kB [00:00, 247kB/s]  \n"
     ]
    },
    {
     "name": "stdout",
     "output_type": "stream",
     "text": [
      "\n",
      "File successfully downloaded to: ./zenodo_dl/3672990.zip\n",
      "[info] File downloaded: ./zenodo_dl/3672990.zip\n",
      "\n",
      "[info] Paper_idx: 386, Zenodo id: 3672992\n"
     ]
    },
    {
     "name": "stderr",
     "output_type": "stream",
     "text": [
      "3672992.zip: 1.27MB [00:01, 752kB/s] \n"
     ]
    },
    {
     "name": "stdout",
     "output_type": "stream",
     "text": [
      "\n",
      "File successfully downloaded to: ./zenodo_dl/3672992.zip\n",
      "[info] File downloaded: ./zenodo_dl/3672992.zip\n",
      "\n",
      "[info] Paper_idx: 387, Zenodo id: 3672994\n"
     ]
    },
    {
     "name": "stderr",
     "output_type": "stream",
     "text": [
      "3672994.zip: 7.40MB [00:02, 2.88MB/s]\n"
     ]
    },
    {
     "name": "stdout",
     "output_type": "stream",
     "text": [
      "\n",
      "File successfully downloaded to: ./zenodo_dl/3672994.zip\n",
      "[info] File downloaded: ./zenodo_dl/3672994.zip\n",
      "\n",
      "[info] Paper_idx: 388, Zenodo id: 3672996\n"
     ]
    },
    {
     "name": "stderr",
     "output_type": "stream",
     "text": [
      "3672996.zip: 3.97MB [00:02, 1.65MB/s]\n"
     ]
    },
    {
     "name": "stdout",
     "output_type": "stream",
     "text": [
      "\n",
      "File successfully downloaded to: ./zenodo_dl/3672996.zip\n",
      "[info] File downloaded: ./zenodo_dl/3672996.zip\n",
      "\n",
      "[info] Paper_idx: 389, Zenodo id: 3672998\n"
     ]
    },
    {
     "name": "stderr",
     "output_type": "stream",
     "text": [
      "3672998.zip: 2.31MB [00:01, 1.19MB/s]\n"
     ]
    },
    {
     "name": "stdout",
     "output_type": "stream",
     "text": [
      "\n",
      "File successfully downloaded to: ./zenodo_dl/3672998.zip\n",
      "[info] File downloaded: ./zenodo_dl/3672998.zip\n",
      "\n",
      "[info] Paper_idx: 390, Zenodo id: 3673000\n"
     ]
    },
    {
     "name": "stderr",
     "output_type": "stream",
     "text": [
      "3673000.zip: 1.45MB [00:01, 860kB/s] \n"
     ]
    },
    {
     "name": "stdout",
     "output_type": "stream",
     "text": [
      "\n",
      "File successfully downloaded to: ./zenodo_dl/3673000.zip\n",
      "[info] File downloaded: ./zenodo_dl/3673000.zip\n",
      "\n",
      "[info] Paper_idx: 391, Zenodo id: 3672729\n"
     ]
    },
    {
     "name": "stderr",
     "output_type": "stream",
     "text": [
      "3672729.zip: 837kB [00:01, 599kB/s]  \n"
     ]
    },
    {
     "name": "stdout",
     "output_type": "stream",
     "text": [
      "\n",
      "File successfully downloaded to: ./zenodo_dl/3672729.zip\n",
      "[info] File downloaded: ./zenodo_dl/3672729.zip\n",
      "\n",
      "[info] Paper_idx: 392, Zenodo id: 3673003\n"
     ]
    },
    {
     "name": "stderr",
     "output_type": "stream",
     "text": [
      "3673003.zip: 257kB [00:01, 190kB/s]  \n"
     ]
    },
    {
     "name": "stdout",
     "output_type": "stream",
     "text": [
      "\n",
      "File successfully downloaded to: ./zenodo_dl/3673003.zip\n",
      "[info] File downloaded: ./zenodo_dl/3673003.zip\n",
      "\n",
      "[info] Paper_idx: 393, Zenodo id: 3673005\n"
     ]
    },
    {
     "name": "stderr",
     "output_type": "stream",
     "text": [
      "3673005.zip: 910kB [00:01, 649kB/s]  \n"
     ]
    },
    {
     "name": "stdout",
     "output_type": "stream",
     "text": [
      "\n",
      "File successfully downloaded to: ./zenodo_dl/3673005.zip\n",
      "[info] File downloaded: ./zenodo_dl/3673005.zip\n",
      "\n",
      "[info] Paper_idx: 394, Zenodo id: 3673007\n"
     ]
    },
    {
     "name": "stderr",
     "output_type": "stream",
     "text": [
      "3673007.zip: 7.01MB [00:02, 2.58MB/s]\n"
     ]
    },
    {
     "name": "stdout",
     "output_type": "stream",
     "text": [
      "\n",
      "File successfully downloaded to: ./zenodo_dl/3673007.zip\n",
      "[info] File downloaded: ./zenodo_dl/3673007.zip\n",
      "\n",
      "[info] Paper_idx: 395, Zenodo id: 3673009\n"
     ]
    },
    {
     "name": "stderr",
     "output_type": "stream",
     "text": [
      "3673009.zip: 433kB [00:01, 389kB/s]  \n"
     ]
    },
    {
     "name": "stdout",
     "output_type": "stream",
     "text": [
      "\n",
      "File successfully downloaded to: ./zenodo_dl/3673009.zip\n",
      "[info] File downloaded: ./zenodo_dl/3673009.zip\n",
      "\n",
      "[info] Paper_idx: 396, Zenodo id: 3673011\n"
     ]
    },
    {
     "name": "stderr",
     "output_type": "stream",
     "text": [
      "3673011.zip: 2.39MB [00:01, 1.22MB/s]\n"
     ]
    },
    {
     "name": "stdout",
     "output_type": "stream",
     "text": [
      "\n",
      "File successfully downloaded to: ./zenodo_dl/3673011.zip\n",
      "[info] File downloaded: ./zenodo_dl/3673011.zip\n",
      "\n",
      "[info] Paper_idx: 397, Zenodo id: 3673013\n"
     ]
    },
    {
     "name": "stderr",
     "output_type": "stream",
     "text": [
      "3673013.zip: 4.00MB [00:02, 1.76MB/s]\n"
     ]
    },
    {
     "name": "stdout",
     "output_type": "stream",
     "text": [
      "\n",
      "File successfully downloaded to: ./zenodo_dl/3673013.zip\n",
      "[info] File downloaded: ./zenodo_dl/3673013.zip\n",
      "\n",
      "[info] Paper_idx: 398, Zenodo id: 3673015\n"
     ]
    },
    {
     "name": "stderr",
     "output_type": "stream",
     "text": [
      "3673015.zip: 1.98MB [00:01, 1.15MB/s]\n"
     ]
    },
    {
     "name": "stdout",
     "output_type": "stream",
     "text": [
      "\n",
      "File successfully downloaded to: ./zenodo_dl/3673015.zip\n",
      "[info] File downloaded: ./zenodo_dl/3673015.zip\n",
      "\n",
      "[info] Paper_idx: 399, Zenodo id: 3673017\n"
     ]
    },
    {
     "name": "stderr",
     "output_type": "stream",
     "text": [
      "3673017.zip: 13.3MB [00:03, 4.07MB/s]\n"
     ]
    },
    {
     "name": "stdout",
     "output_type": "stream",
     "text": [
      "\n",
      "File successfully downloaded to: ./zenodo_dl/3673017.zip\n",
      "[info] File downloaded: ./zenodo_dl/3673017.zip\n",
      "\n",
      "[info] Paper_idx: 400, Zenodo id: 3673019\n"
     ]
    },
    {
     "name": "stderr",
     "output_type": "stream",
     "text": [
      "3673019.zip: 398kB [00:01, 357kB/s]  \n"
     ]
    },
    {
     "name": "stdout",
     "output_type": "stream",
     "text": [
      "\n",
      "File successfully downloaded to: ./zenodo_dl/3673019.zip\n",
      "[info] File downloaded: ./zenodo_dl/3673019.zip\n",
      "\n",
      "[info] Paper_idx: 401, Zenodo id: 3673021\n"
     ]
    },
    {
     "name": "stderr",
     "output_type": "stream",
     "text": [
      "3673021.zip: 740kB [00:01, 529kB/s]  \n"
     ]
    },
    {
     "name": "stdout",
     "output_type": "stream",
     "text": [
      "\n",
      "File successfully downloaded to: ./zenodo_dl/3673021.zip\n",
      "[info] File downloaded: ./zenodo_dl/3673021.zip\n",
      "\n",
      "[info] Paper_idx: 402, Zenodo id: 3673023\n"
     ]
    },
    {
     "name": "stderr",
     "output_type": "stream",
     "text": [
      "3673023.zip: 317kB [00:01, 283kB/s]  \n"
     ]
    },
    {
     "name": "stdout",
     "output_type": "stream",
     "text": [
      "\n",
      "File successfully downloaded to: ./zenodo_dl/3673023.zip\n",
      "[info] File downloaded: ./zenodo_dl/3673023.zip\n",
      "\n",
      "[info] Paper_idx: 403, Zenodo id: 3673025\n"
     ]
    },
    {
     "name": "stderr",
     "output_type": "stream",
     "text": [
      "3673025.zip: 335kB [00:01, 297kB/s]  \n"
     ]
    },
    {
     "name": "stdout",
     "output_type": "stream",
     "text": [
      "\n",
      "File successfully downloaded to: ./zenodo_dl/3673025.zip\n",
      "[info] File downloaded: ./zenodo_dl/3673025.zip\n",
      "\n",
      "[info] Paper_idx: 404, Zenodo id: 3673027\n"
     ]
    },
    {
     "name": "stderr",
     "output_type": "stream",
     "text": [
      "3673027.zip: 7.61MB [00:04, 1.82MB/s]\n"
     ]
    },
    {
     "name": "stdout",
     "output_type": "stream",
     "text": [
      "\n",
      "File successfully downloaded to: ./zenodo_dl/3673027.zip\n",
      "[info] File downloaded: ./zenodo_dl/3673027.zip\n",
      "\n",
      "[info] Paper_idx: 405, Zenodo id: 3673029\n"
     ]
    },
    {
     "name": "stderr",
     "output_type": "stream",
     "text": [
      "3673029.zip: 1.95MB [00:01, 1.16MB/s]\n"
     ]
    },
    {
     "name": "stdout",
     "output_type": "stream",
     "text": [
      "\n",
      "File successfully downloaded to: ./zenodo_dl/3673029.zip\n",
      "[info] File downloaded: ./zenodo_dl/3673029.zip\n",
      "\n",
      "[info] Paper_idx: 406, Zenodo id: 3673033\n"
     ]
    },
    {
     "name": "stderr",
     "output_type": "stream",
     "text": [
      "3673033.zip: 15.2MB [00:04, 3.47MB/s]\n"
     ]
    },
    {
     "name": "stdout",
     "output_type": "stream",
     "text": [
      "\n",
      "File successfully downloaded to: ./zenodo_dl/3673033.zip\n",
      "[info] File downloaded: ./zenodo_dl/3673033.zip\n",
      "\n",
      "[info] Paper_idx: 407, Zenodo id: 1302649\n"
     ]
    },
    {
     "name": "stderr",
     "output_type": "stream",
     "text": [
      "1302649.zip: 280kB [00:01, 252kB/s]  \n"
     ]
    },
    {
     "name": "stdout",
     "output_type": "stream",
     "text": [
      "\n",
      "File successfully downloaded to: ./zenodo_dl/1302649.zip\n",
      "[info] File downloaded: ./zenodo_dl/1302649.zip\n",
      "\n",
      "[info] Paper_idx: 408, Zenodo id: 1302655\n"
     ]
    },
    {
     "name": "stderr",
     "output_type": "stream",
     "text": [
      "1302655.zip: 1.38MB [00:01, 821kB/s] \n"
     ]
    },
    {
     "name": "stdout",
     "output_type": "stream",
     "text": [
      "\n",
      "File successfully downloaded to: ./zenodo_dl/1302655.zip\n",
      "[info] File downloaded: ./zenodo_dl/1302655.zip\n",
      "\n",
      "[info] Paper_idx: 409, Zenodo id: 1302657\n"
     ]
    },
    {
     "name": "stderr",
     "output_type": "stream",
     "text": [
      "1302657.zip: 5.78MB [00:02, 2.55MB/s]\n"
     ]
    },
    {
     "name": "stdout",
     "output_type": "stream",
     "text": [
      "\n",
      "File successfully downloaded to: ./zenodo_dl/1302657.zip\n",
      "[info] File downloaded: ./zenodo_dl/1302657.zip\n",
      "\n",
      "[info] Paper_idx: 410, Zenodo id: 1302659\n"
     ]
    },
    {
     "name": "stderr",
     "output_type": "stream",
     "text": [
      "1302659.zip: 422kB [00:01, 369kB/s]  \n"
     ]
    },
    {
     "name": "stdout",
     "output_type": "stream",
     "text": [
      "\n",
      "File successfully downloaded to: ./zenodo_dl/1302659.zip\n",
      "[info] File downloaded: ./zenodo_dl/1302659.zip\n",
      "\n",
      "[info] Paper_idx: 411, Zenodo id: 1302661\n"
     ]
    },
    {
     "name": "stderr",
     "output_type": "stream",
     "text": [
      "1302661.zip: 1.23MB [00:01, 738kB/s] \n"
     ]
    },
    {
     "name": "stdout",
     "output_type": "stream",
     "text": [
      "\n",
      "File successfully downloaded to: ./zenodo_dl/1302661.zip\n",
      "[info] File downloaded: ./zenodo_dl/1302661.zip\n",
      "\n",
      "[info] Paper_idx: 412, Zenodo id: 1302663\n"
     ]
    },
    {
     "name": "stderr",
     "output_type": "stream",
     "text": [
      "1302663.zip: 4.33MB [00:02, 1.70MB/s]\n"
     ]
    },
    {
     "name": "stdout",
     "output_type": "stream",
     "text": [
      "\n",
      "File successfully downloaded to: ./zenodo_dl/1302663.zip\n",
      "[info] File downloaded: ./zenodo_dl/1302663.zip\n",
      "\n",
      "[info] Paper_idx: 413, Zenodo id: 1302665\n"
     ]
    },
    {
     "name": "stderr",
     "output_type": "stream",
     "text": [
      "1302665.zip: 665kB [00:01, 399kB/s]  \n"
     ]
    },
    {
     "name": "stdout",
     "output_type": "stream",
     "text": [
      "\n",
      "File successfully downloaded to: ./zenodo_dl/1302665.zip\n",
      "[info] File downloaded: ./zenodo_dl/1302665.zip\n",
      "\n",
      "[info] Paper_idx: 414, Zenodo id: 1302667\n"
     ]
    },
    {
     "name": "stderr",
     "output_type": "stream",
     "text": [
      "1302667.zip: 1.79MB [00:01, 1.06MB/s]\n"
     ]
    },
    {
     "name": "stdout",
     "output_type": "stream",
     "text": [
      "\n",
      "File successfully downloaded to: ./zenodo_dl/1302667.zip\n",
      "[info] File downloaded: ./zenodo_dl/1302667.zip\n",
      "\n",
      "[info] Paper_idx: 415, Zenodo id: 1302669\n"
     ]
    },
    {
     "name": "stderr",
     "output_type": "stream",
     "text": [
      "1302669.zip: 1.07MB [00:01, 676kB/s] \n"
     ]
    },
    {
     "name": "stdout",
     "output_type": "stream",
     "text": [
      "\n",
      "File successfully downloaded to: ./zenodo_dl/1302669.zip\n",
      "[info] File downloaded: ./zenodo_dl/1302669.zip\n",
      "\n",
      "[info] Paper_idx: 416, Zenodo id: 1302671\n"
     ]
    },
    {
     "name": "stderr",
     "output_type": "stream",
     "text": [
      "1302671.zip: 5.09MB [00:02, 2.28MB/s]\n"
     ]
    },
    {
     "name": "stdout",
     "output_type": "stream",
     "text": [
      "\n",
      "File successfully downloaded to: ./zenodo_dl/1302671.zip\n",
      "[info] File downloaded: ./zenodo_dl/1302671.zip\n",
      "\n",
      "[info] Paper_idx: 417, Zenodo id: 1302673\n"
     ]
    },
    {
     "name": "stderr",
     "output_type": "stream",
     "text": [
      "1302673.zip: 443kB [00:01, 397kB/s]  \n"
     ]
    },
    {
     "name": "stdout",
     "output_type": "stream",
     "text": [
      "\n",
      "File successfully downloaded to: ./zenodo_dl/1302673.zip\n",
      "[info] File downloaded: ./zenodo_dl/1302673.zip\n",
      "\n",
      "[info] Paper_idx: 418, Zenodo id: 1302675\n"
     ]
    },
    {
     "name": "stderr",
     "output_type": "stream",
     "text": [
      "1302675.zip: 997kB [00:01, 693kB/s]  \n"
     ]
    },
    {
     "name": "stdout",
     "output_type": "stream",
     "text": [
      "\n",
      "File successfully downloaded to: ./zenodo_dl/1302675.zip\n",
      "[info] File downloaded: ./zenodo_dl/1302675.zip\n",
      "\n",
      "[info] Paper_idx: 419, Zenodo id: 1302527\n"
     ]
    },
    {
     "name": "stderr",
     "output_type": "stream",
     "text": [
      "1302527.zip: 413kB [00:01, 369kB/s]  \n"
     ]
    },
    {
     "name": "stdout",
     "output_type": "stream",
     "text": [
      "\n",
      "File successfully downloaded to: ./zenodo_dl/1302527.zip\n",
      "[info] File downloaded: ./zenodo_dl/1302527.zip\n",
      "\n",
      "[info] Paper_idx: 420, Zenodo id: 1302677\n"
     ]
    },
    {
     "name": "stderr",
     "output_type": "stream",
     "text": [
      "1302677.zip: 1.52MB [00:01, 911kB/s] \n"
     ]
    },
    {
     "name": "stdout",
     "output_type": "stream",
     "text": [
      "\n",
      "File successfully downloaded to: ./zenodo_dl/1302677.zip\n",
      "[info] File downloaded: ./zenodo_dl/1302677.zip\n",
      "\n",
      "[info] Paper_idx: 421, Zenodo id: 1302679\n"
     ]
    },
    {
     "name": "stderr",
     "output_type": "stream",
     "text": [
      "1302679.zip: 26.9MB [00:06, 4.39MB/s]\n"
     ]
    },
    {
     "name": "stdout",
     "output_type": "stream",
     "text": [
      "\n",
      "File successfully downloaded to: ./zenodo_dl/1302679.zip\n",
      "[info] File downloaded: ./zenodo_dl/1302679.zip\n",
      "\n",
      "[info] Paper_idx: 422, Zenodo id: 1302681\n"
     ]
    },
    {
     "name": "stderr",
     "output_type": "stream",
     "text": [
      "1302681.zip: 5.63MB [00:02, 2.23MB/s]\n"
     ]
    },
    {
     "name": "stdout",
     "output_type": "stream",
     "text": [
      "\n",
      "File successfully downloaded to: ./zenodo_dl/1302681.zip\n",
      "[info] File downloaded: ./zenodo_dl/1302681.zip\n",
      "\n",
      "[info] Paper_idx: 423, Zenodo id: 1302683\n"
     ]
    },
    {
     "name": "stderr",
     "output_type": "stream",
     "text": [
      "1302683.zip: 5.23MB [00:02, 2.34MB/s]\n"
     ]
    },
    {
     "name": "stdout",
     "output_type": "stream",
     "text": [
      "\n",
      "File successfully downloaded to: ./zenodo_dl/1302683.zip\n",
      "[info] File downloaded: ./zenodo_dl/1302683.zip\n",
      "\n",
      "[info] Paper_idx: 424, Zenodo id: 1302685\n"
     ]
    },
    {
     "name": "stderr",
     "output_type": "stream",
     "text": [
      "1302685.zip: 19.5MB [00:04, 4.09MB/s]\n"
     ]
    },
    {
     "name": "stdout",
     "output_type": "stream",
     "text": [
      "\n",
      "File successfully downloaded to: ./zenodo_dl/1302685.zip\n",
      "[info] File downloaded: ./zenodo_dl/1302685.zip\n",
      "\n",
      "[info] Paper_idx: 425, Zenodo id: 1302687\n"
     ]
    },
    {
     "name": "stderr",
     "output_type": "stream",
     "text": [
      "1302687.zip: 3.66MB [00:02, 1.46MB/s]\n"
     ]
    },
    {
     "name": "stdout",
     "output_type": "stream",
     "text": [
      "\n",
      "File successfully downloaded to: ./zenodo_dl/1302687.zip\n",
      "[info] File downloaded: ./zenodo_dl/1302687.zip\n",
      "\n",
      "[info] Paper_idx: 426, Zenodo id: 1302689\n"
     ]
    },
    {
     "name": "stderr",
     "output_type": "stream",
     "text": [
      "1302689.zip: 435kB [00:01, 313kB/s]  \n"
     ]
    },
    {
     "name": "stdout",
     "output_type": "stream",
     "text": [
      "\n",
      "File successfully downloaded to: ./zenodo_dl/1302689.zip\n",
      "[info] File downloaded: ./zenodo_dl/1302689.zip\n",
      "\n",
      "[info] Paper_idx: 427, Zenodo id: 1302693\n"
     ]
    },
    {
     "name": "stderr",
     "output_type": "stream",
     "text": [
      "1302693.zip: 1.59MB [00:01, 948kB/s] \n"
     ]
    },
    {
     "name": "stdout",
     "output_type": "stream",
     "text": [
      "\n",
      "File successfully downloaded to: ./zenodo_dl/1302693.zip\n",
      "[info] File downloaded: ./zenodo_dl/1302693.zip\n",
      "\n",
      "[info] Paper_idx: 428, Zenodo id: 1302693\n"
     ]
    },
    {
     "name": "stderr",
     "output_type": "stream",
     "text": [
      "1302693.zip: 1.59MB [00:01, 952kB/s] \n"
     ]
    },
    {
     "name": "stdout",
     "output_type": "stream",
     "text": [
      "\n",
      "File successfully downloaded to: ./zenodo_dl/1302693.zip\n",
      "[info] File downloaded: ./zenodo_dl/1302693.zip\n",
      "\n",
      "[info] Paper_idx: 429, Zenodo id: 1302653\n"
     ]
    },
    {
     "name": "stderr",
     "output_type": "stream",
     "text": [
      "1302653.zip: 625kB [00:01, 454kB/s]  \n"
     ]
    },
    {
     "name": "stdout",
     "output_type": "stream",
     "text": [
      "\n",
      "File successfully downloaded to: ./zenodo_dl/1302653.zip\n",
      "[info] File downloaded: ./zenodo_dl/1302653.zip\n",
      "\n",
      "[info] Paper_idx: 430, Zenodo id: 1302695\n"
     ]
    },
    {
     "name": "stderr",
     "output_type": "stream",
     "text": [
      "1302695.zip: 4.63MB [00:02, 1.89MB/s]\n"
     ]
    },
    {
     "name": "stdout",
     "output_type": "stream",
     "text": [
      "\n",
      "File successfully downloaded to: ./zenodo_dl/1302695.zip\n",
      "[info] File downloaded: ./zenodo_dl/1302695.zip\n",
      "\n",
      "[info] Paper_idx: 431, Zenodo id: 1302697\n"
     ]
    },
    {
     "name": "stderr",
     "output_type": "stream",
     "text": [
      "1302697.zip: 1.66MB [00:01, 988kB/s] \n"
     ]
    },
    {
     "name": "stdout",
     "output_type": "stream",
     "text": [
      "\n",
      "File successfully downloaded to: ./zenodo_dl/1302697.zip\n",
      "[info] File downloaded: ./zenodo_dl/1302697.zip\n",
      "\n",
      "[info] Paper_idx: 432, Zenodo id: 1302699\n"
     ]
    },
    {
     "name": "stderr",
     "output_type": "stream",
     "text": [
      "1302699.zip: 1.13MB [00:01, 703kB/s] \n"
     ]
    },
    {
     "name": "stdout",
     "output_type": "stream",
     "text": [
      "\n",
      "File successfully downloaded to: ./zenodo_dl/1302699.zip\n",
      "[info] File downloaded: ./zenodo_dl/1302699.zip\n",
      "\n",
      "[info] Paper_idx: 433, Zenodo id: 1302650\n",
      "Error downloading file: 404 Client Error: NOT FOUND for url: https://zenodo.org/api/records/1302650/files-archive\n",
      "[info] File downloaded: None\n",
      "\n",
      "[info] Paper_idx: 434, Zenodo id: 1302701\n"
     ]
    },
    {
     "name": "stderr",
     "output_type": "stream",
     "text": [
      "1302701.zip: 1.42MB [00:01, 841kB/s] \n"
     ]
    },
    {
     "name": "stdout",
     "output_type": "stream",
     "text": [
      "\n",
      "File successfully downloaded to: ./zenodo_dl/1302701.zip\n",
      "[info] File downloaded: ./zenodo_dl/1302701.zip\n",
      "\n",
      "[info] Paper_idx: 435, Zenodo id: 1302703\n"
     ]
    },
    {
     "name": "stderr",
     "output_type": "stream",
     "text": [
      "1302703.zip: 2.24MB [00:01, 1.18MB/s]\n"
     ]
    },
    {
     "name": "stdout",
     "output_type": "stream",
     "text": [
      "\n",
      "File successfully downloaded to: ./zenodo_dl/1302703.zip\n",
      "[info] File downloaded: ./zenodo_dl/1302703.zip\n",
      "\n",
      "[info] Paper_idx: 436, Zenodo id: 1302705\n"
     ]
    },
    {
     "name": "stderr",
     "output_type": "stream",
     "text": [
      "1302705.zip: 767kB [00:01, 548kB/s]  \n"
     ]
    },
    {
     "name": "stdout",
     "output_type": "stream",
     "text": [
      "\n",
      "File successfully downloaded to: ./zenodo_dl/1302705.zip\n",
      "[info] File downloaded: ./zenodo_dl/1302705.zip\n",
      "\n",
      "[info] Paper_idx: 437, Zenodo id: 1302707\n"
     ]
    },
    {
     "name": "stderr",
     "output_type": "stream",
     "text": [
      "1302707.zip: 473kB [00:01, 405kB/s]  \n"
     ]
    },
    {
     "name": "stdout",
     "output_type": "stream",
     "text": [
      "\n",
      "File successfully downloaded to: ./zenodo_dl/1302707.zip\n",
      "[info] File downloaded: ./zenodo_dl/1302707.zip\n",
      "\n",
      "[info] Paper_idx: 438, Zenodo id: 1302709\n"
     ]
    },
    {
     "name": "stderr",
     "output_type": "stream",
     "text": [
      "1302709.zip: 2.14MB [00:01, 1.14MB/s]\n"
     ]
    },
    {
     "name": "stdout",
     "output_type": "stream",
     "text": [
      "\n",
      "File successfully downloaded to: ./zenodo_dl/1302709.zip\n",
      "[info] File downloaded: ./zenodo_dl/1302709.zip\n",
      "\n",
      "[info] Paper_idx: 439, Zenodo id: 1302711\n"
     ]
    },
    {
     "name": "stderr",
     "output_type": "stream",
     "text": [
      "1302711.zip: 3.58MB [00:02, 1.42MB/s]\n"
     ]
    },
    {
     "name": "stdout",
     "output_type": "stream",
     "text": [
      "\n",
      "File successfully downloaded to: ./zenodo_dl/1302711.zip\n",
      "[info] File downloaded: ./zenodo_dl/1302711.zip\n",
      "\n",
      "[info] Paper_idx: 440, Zenodo id: 1302529\n"
     ]
    },
    {
     "name": "stderr",
     "output_type": "stream",
     "text": [
      "1302529.zip: 4.88MB [00:02, 2.19MB/s]\n"
     ]
    },
    {
     "name": "stdout",
     "output_type": "stream",
     "text": [
      "\n",
      "File successfully downloaded to: ./zenodo_dl/1302529.zip\n",
      "[info] File downloaded: ./zenodo_dl/1302529.zip\n",
      "\n",
      "[info] Paper_idx: 441, Zenodo id: 1302531\n"
     ]
    },
    {
     "name": "stderr",
     "output_type": "stream",
     "text": [
      "1302531.zip: 6.88MB [00:02, 2.44MB/s]\n"
     ]
    },
    {
     "name": "stdout",
     "output_type": "stream",
     "text": [
      "\n",
      "File successfully downloaded to: ./zenodo_dl/1302531.zip\n",
      "[info] File downloaded: ./zenodo_dl/1302531.zip\n",
      "\n",
      "[info] Paper_idx: 442, Zenodo id: 1302533\n"
     ]
    },
    {
     "name": "stderr",
     "output_type": "stream",
     "text": [
      "1302533.zip: 315kB [00:01, 279kB/s]  \n"
     ]
    },
    {
     "name": "stdout",
     "output_type": "stream",
     "text": [
      "\n",
      "File successfully downloaded to: ./zenodo_dl/1302533.zip\n",
      "[info] File downloaded: ./zenodo_dl/1302533.zip\n",
      "\n",
      "[info] Paper_idx: 443, Zenodo id: 1302535\n"
     ]
    },
    {
     "name": "stderr",
     "output_type": "stream",
     "text": [
      "1302535.zip: 5.44MB [00:02, 1.95MB/s]\n"
     ]
    },
    {
     "name": "stdout",
     "output_type": "stream",
     "text": [
      "\n",
      "File successfully downloaded to: ./zenodo_dl/1302535.zip\n",
      "[info] File downloaded: ./zenodo_dl/1302535.zip\n",
      "\n",
      "[info] Paper_idx: 444, Zenodo id: 1302537\n"
     ]
    },
    {
     "name": "stderr",
     "output_type": "stream",
     "text": [
      "1302537.zip: 25.0MB [00:05, 4.48MB/s]\n"
     ]
    },
    {
     "name": "stdout",
     "output_type": "stream",
     "text": [
      "\n",
      "File successfully downloaded to: ./zenodo_dl/1302537.zip\n",
      "[info] File downloaded: ./zenodo_dl/1302537.zip\n",
      "\n",
      "[info] Paper_idx: 445, Zenodo id: 1302539\n"
     ]
    },
    {
     "name": "stderr",
     "output_type": "stream",
     "text": [
      "1302539.zip: 2.79MB [00:02, 1.25MB/s]\n"
     ]
    },
    {
     "name": "stdout",
     "output_type": "stream",
     "text": [
      "\n",
      "File successfully downloaded to: ./zenodo_dl/1302539.zip\n",
      "[info] File downloaded: ./zenodo_dl/1302539.zip\n",
      "\n",
      "[info] Paper_idx: 446, Zenodo id: 1302541\n"
     ]
    },
    {
     "name": "stderr",
     "output_type": "stream",
     "text": [
      "1302541.zip: 232kB [00:00, 274kB/s]  \n"
     ]
    },
    {
     "name": "stdout",
     "output_type": "stream",
     "text": [
      "\n",
      "File successfully downloaded to: ./zenodo_dl/1302541.zip\n",
      "[info] File downloaded: ./zenodo_dl/1302541.zip\n",
      "\n",
      "[info] Paper_idx: 447, Zenodo id: 1302543\n"
     ]
    },
    {
     "name": "stderr",
     "output_type": "stream",
     "text": [
      "1302543.zip: 953kB [00:01, 682kB/s]  \n"
     ]
    },
    {
     "name": "stdout",
     "output_type": "stream",
     "text": [
      "\n",
      "File successfully downloaded to: ./zenodo_dl/1302543.zip\n",
      "[info] File downloaded: ./zenodo_dl/1302543.zip\n",
      "\n",
      "[info] Paper_idx: 448, Zenodo id: 1302545\n"
     ]
    },
    {
     "name": "stderr",
     "output_type": "stream",
     "text": [
      "1302545.zip: 1.01MB [00:01, 609kB/s] \n"
     ]
    },
    {
     "name": "stdout",
     "output_type": "stream",
     "text": [
      "\n",
      "File successfully downloaded to: ./zenodo_dl/1302545.zip\n",
      "[info] File downloaded: ./zenodo_dl/1302545.zip\n",
      "\n",
      "[info] Paper_idx: 449, Zenodo id: 1302547\n"
     ]
    },
    {
     "name": "stderr",
     "output_type": "stream",
     "text": [
      "1302547.zip: 181kB [00:00, 214kB/s]  \n"
     ]
    },
    {
     "name": "stdout",
     "output_type": "stream",
     "text": [
      "\n",
      "File successfully downloaded to: ./zenodo_dl/1302547.zip\n",
      "[info] File downloaded: ./zenodo_dl/1302547.zip\n",
      "\n",
      "[info] Paper_idx: 450, Zenodo id: 1302549\n"
     ]
    },
    {
     "name": "stderr",
     "output_type": "stream",
     "text": [
      "1302549.zip: 162kB [00:00, 194kB/s]  \n"
     ]
    },
    {
     "name": "stdout",
     "output_type": "stream",
     "text": [
      "\n",
      "File successfully downloaded to: ./zenodo_dl/1302549.zip\n",
      "[info] File downloaded: ./zenodo_dl/1302549.zip\n",
      "\n",
      "[info] Paper_idx: 451, Zenodo id: 1302551\n"
     ]
    },
    {
     "name": "stderr",
     "output_type": "stream",
     "text": [
      "1302551.zip: 376kB [00:01, 335kB/s]  \n"
     ]
    },
    {
     "name": "stdout",
     "output_type": "stream",
     "text": [
      "\n",
      "File successfully downloaded to: ./zenodo_dl/1302551.zip\n",
      "[info] File downloaded: ./zenodo_dl/1302551.zip\n",
      "\n",
      "[info] Paper_idx: 452, Zenodo id: 1302553\n"
     ]
    },
    {
     "name": "stderr",
     "output_type": "stream",
     "text": [
      "1302553.zip: 9.45MB [00:02, 3.37MB/s]\n"
     ]
    },
    {
     "name": "stdout",
     "output_type": "stream",
     "text": [
      "\n",
      "File successfully downloaded to: ./zenodo_dl/1302553.zip\n",
      "[info] File downloaded: ./zenodo_dl/1302553.zip\n",
      "\n",
      "[info] Paper_idx: 453, Zenodo id: 1302555\n"
     ]
    },
    {
     "name": "stderr",
     "output_type": "stream",
     "text": [
      "1302555.zip: 732kB [00:01, 521kB/s]  \n"
     ]
    },
    {
     "name": "stdout",
     "output_type": "stream",
     "text": [
      "\n",
      "File successfully downloaded to: ./zenodo_dl/1302555.zip\n",
      "[info] File downloaded: ./zenodo_dl/1302555.zip\n",
      "\n",
      "[info] Paper_idx: 454, Zenodo id: 1302557\n"
     ]
    },
    {
     "name": "stderr",
     "output_type": "stream",
     "text": [
      "1302557.zip: 7.03MB [00:02, 2.54MB/s]\n"
     ]
    },
    {
     "name": "stdout",
     "output_type": "stream",
     "text": [
      "\n",
      "File successfully downloaded to: ./zenodo_dl/1302557.zip\n",
      "[info] File downloaded: ./zenodo_dl/1302557.zip\n",
      "\n",
      "[info] Paper_idx: 455, Zenodo id: 1302559\n"
     ]
    },
    {
     "name": "stderr",
     "output_type": "stream",
     "text": [
      "1302559.zip: 2.47MB [00:01, 1.25MB/s]\n"
     ]
    },
    {
     "name": "stdout",
     "output_type": "stream",
     "text": [
      "\n",
      "File successfully downloaded to: ./zenodo_dl/1302559.zip\n",
      "[info] File downloaded: ./zenodo_dl/1302559.zip\n",
      "\n",
      "[info] Paper_idx: 456, Zenodo id: 1302561\n"
     ]
    },
    {
     "name": "stderr",
     "output_type": "stream",
     "text": [
      "1302561.zip: 1.50MB [00:01, 894kB/s] \n"
     ]
    },
    {
     "name": "stdout",
     "output_type": "stream",
     "text": [
      "\n",
      "File successfully downloaded to: ./zenodo_dl/1302561.zip\n",
      "[info] File downloaded: ./zenodo_dl/1302561.zip\n",
      "\n",
      "[info] Paper_idx: 457, Zenodo id: 1302563\n"
     ]
    },
    {
     "name": "stderr",
     "output_type": "stream",
     "text": [
      "1302563.zip: 1.13MB [00:01, 680kB/s] \n"
     ]
    },
    {
     "name": "stdout",
     "output_type": "stream",
     "text": [
      "\n",
      "File successfully downloaded to: ./zenodo_dl/1302563.zip\n",
      "[info] File downloaded: ./zenodo_dl/1302563.zip\n",
      "\n",
      "[info] Paper_idx: 458, Zenodo id: 1302565\n"
     ]
    },
    {
     "name": "stderr",
     "output_type": "stream",
     "text": [
      "1302565.zip: 1.52MB [00:01, 903kB/s] \n"
     ]
    },
    {
     "name": "stdout",
     "output_type": "stream",
     "text": [
      "\n",
      "File successfully downloaded to: ./zenodo_dl/1302565.zip\n",
      "[info] File downloaded: ./zenodo_dl/1302565.zip\n",
      "\n",
      "[info] Paper_idx: 459, Zenodo id: 1302569\n"
     ]
    },
    {
     "name": "stderr",
     "output_type": "stream",
     "text": [
      "1302569.zip: 1.11MB [00:01, 689kB/s] \n"
     ]
    },
    {
     "name": "stdout",
     "output_type": "stream",
     "text": [
      "\n",
      "File successfully downloaded to: ./zenodo_dl/1302569.zip\n",
      "[info] File downloaded: ./zenodo_dl/1302569.zip\n",
      "\n",
      "[info] Paper_idx: 460, Zenodo id: 1302571\n"
     ]
    },
    {
     "name": "stderr",
     "output_type": "stream",
     "text": [
      "1302571.zip: 2.50MB [00:01, 1.29MB/s]\n"
     ]
    },
    {
     "name": "stdout",
     "output_type": "stream",
     "text": [
      "\n",
      "File successfully downloaded to: ./zenodo_dl/1302571.zip\n",
      "[info] File downloaded: ./zenodo_dl/1302571.zip\n",
      "\n",
      "[info] Paper_idx: 461, Zenodo id: 1302573\n"
     ]
    },
    {
     "name": "stderr",
     "output_type": "stream",
     "text": [
      "1302573.zip: 1.71MB [00:01, 1.02MB/s]\n"
     ]
    },
    {
     "name": "stdout",
     "output_type": "stream",
     "text": [
      "\n",
      "File successfully downloaded to: ./zenodo_dl/1302573.zip\n",
      "[info] File downloaded: ./zenodo_dl/1302573.zip\n",
      "\n",
      "[info] Paper_idx: 462, Zenodo id: 1302575\n"
     ]
    },
    {
     "name": "stderr",
     "output_type": "stream",
     "text": [
      "1302575.zip: 2.07MB [00:01, 1.24MB/s]\n"
     ]
    },
    {
     "name": "stdout",
     "output_type": "stream",
     "text": [
      "\n",
      "File successfully downloaded to: ./zenodo_dl/1302575.zip\n",
      "[info] File downloaded: ./zenodo_dl/1302575.zip\n",
      "\n",
      "[info] Paper_idx: 463, Zenodo id: 1302577\n"
     ]
    },
    {
     "name": "stderr",
     "output_type": "stream",
     "text": [
      "1302577.zip: 8.01MB [00:02, 2.84MB/s]\n"
     ]
    },
    {
     "name": "stdout",
     "output_type": "stream",
     "text": [
      "\n",
      "File successfully downloaded to: ./zenodo_dl/1302577.zip\n",
      "[info] File downloaded: ./zenodo_dl/1302577.zip\n",
      "\n",
      "[info] Paper_idx: 464, Zenodo id: 1302579\n"
     ]
    },
    {
     "name": "stderr",
     "output_type": "stream",
     "text": [
      "1302579.zip: 2.19MB [00:01, 1.13MB/s]\n"
     ]
    },
    {
     "name": "stdout",
     "output_type": "stream",
     "text": [
      "\n",
      "File successfully downloaded to: ./zenodo_dl/1302579.zip\n",
      "[info] File downloaded: ./zenodo_dl/1302579.zip\n",
      "\n",
      "[info] Paper_idx: 465, Zenodo id: 1302581\n"
     ]
    },
    {
     "name": "stderr",
     "output_type": "stream",
     "text": [
      "1302581.zip: 2.06MB [00:01, 1.21MB/s]\n"
     ]
    },
    {
     "name": "stdout",
     "output_type": "stream",
     "text": [
      "\n",
      "File successfully downloaded to: ./zenodo_dl/1302581.zip\n",
      "[info] File downloaded: ./zenodo_dl/1302581.zip\n",
      "\n",
      "[info] Paper_idx: 466, Zenodo id: 1302583\n"
     ]
    },
    {
     "name": "stderr",
     "output_type": "stream",
     "text": [
      "1302583.zip: 2.67MB [00:02, 1.07MB/s]\n"
     ]
    },
    {
     "name": "stdout",
     "output_type": "stream",
     "text": [
      "\n",
      "File successfully downloaded to: ./zenodo_dl/1302583.zip\n",
      "[info] File downloaded: ./zenodo_dl/1302583.zip\n",
      "\n",
      "[info] Paper_idx: 467, Zenodo id: 1302585\n"
     ]
    },
    {
     "name": "stderr",
     "output_type": "stream",
     "text": [
      "1302585.zip: 3.04MB [00:04, 609kB/s] \n"
     ]
    },
    {
     "name": "stdout",
     "output_type": "stream",
     "text": [
      "\n",
      "File successfully downloaded to: ./zenodo_dl/1302585.zip\n",
      "[info] File downloaded: ./zenodo_dl/1302585.zip\n",
      "\n",
      "[info] Paper_idx: 468, Zenodo id: 1302587\n"
     ]
    },
    {
     "name": "stderr",
     "output_type": "stream",
     "text": [
      "1302587.zip: 679kB [00:01, 481kB/s]  \n"
     ]
    },
    {
     "name": "stdout",
     "output_type": "stream",
     "text": [
      "\n",
      "File successfully downloaded to: ./zenodo_dl/1302587.zip\n",
      "[info] File downloaded: ./zenodo_dl/1302587.zip\n",
      "\n",
      "[info] Paper_idx: 469, Zenodo id: 1302589\n"
     ]
    },
    {
     "name": "stderr",
     "output_type": "stream",
     "text": [
      "1302589.zip: 4.38MB [00:02, 1.94MB/s]\n"
     ]
    },
    {
     "name": "stdout",
     "output_type": "stream",
     "text": [
      "\n",
      "File successfully downloaded to: ./zenodo_dl/1302589.zip\n",
      "[info] File downloaded: ./zenodo_dl/1302589.zip\n",
      "\n",
      "[info] Paper_idx: 470, Zenodo id: 1302591\n"
     ]
    },
    {
     "name": "stderr",
     "output_type": "stream",
     "text": [
      "1302591.zip: 8.32MB [00:03, 2.71MB/s]\n"
     ]
    },
    {
     "name": "stdout",
     "output_type": "stream",
     "text": [
      "\n",
      "File successfully downloaded to: ./zenodo_dl/1302591.zip\n",
      "[info] File downloaded: ./zenodo_dl/1302591.zip\n",
      "\n",
      "[info] Paper_idx: 471, Zenodo id: 1302593\n"
     ]
    },
    {
     "name": "stderr",
     "output_type": "stream",
     "text": [
      "1302593.zip: 1.66MB [00:01, 983kB/s] \n"
     ]
    },
    {
     "name": "stdout",
     "output_type": "stream",
     "text": [
      "\n",
      "File successfully downloaded to: ./zenodo_dl/1302593.zip\n",
      "[info] File downloaded: ./zenodo_dl/1302593.zip\n",
      "\n",
      "[info] Paper_idx: 472, Zenodo id: 1302595\n"
     ]
    },
    {
     "name": "stderr",
     "output_type": "stream",
     "text": [
      "1302595.zip: 8.46MB [00:06, 1.34MB/s]\n"
     ]
    },
    {
     "name": "stdout",
     "output_type": "stream",
     "text": [
      "\n",
      "File successfully downloaded to: ./zenodo_dl/1302595.zip\n",
      "[info] File downloaded: ./zenodo_dl/1302595.zip\n",
      "\n",
      "[info] Paper_idx: 473, Zenodo id: 1302597\n"
     ]
    },
    {
     "name": "stderr",
     "output_type": "stream",
     "text": [
      "1302597.zip: 3.95MB [00:02, 1.76MB/s]\n"
     ]
    },
    {
     "name": "stdout",
     "output_type": "stream",
     "text": [
      "\n",
      "File successfully downloaded to: ./zenodo_dl/1302597.zip\n",
      "[info] File downloaded: ./zenodo_dl/1302597.zip\n",
      "\n",
      "[info] Paper_idx: 474, Zenodo id: 1302599\n"
     ]
    },
    {
     "name": "stderr",
     "output_type": "stream",
     "text": [
      "1302599.zip: 1.27MB [00:01, 752kB/s] \n"
     ]
    },
    {
     "name": "stdout",
     "output_type": "stream",
     "text": [
      "\n",
      "File successfully downloaded to: ./zenodo_dl/1302599.zip\n",
      "[info] File downloaded: ./zenodo_dl/1302599.zip\n",
      "\n",
      "[info] Paper_idx: 475, Zenodo id: 1302601\n"
     ]
    },
    {
     "name": "stderr",
     "output_type": "stream",
     "text": [
      "1302601.zip: 409kB [00:01, 361kB/s]  \n"
     ]
    },
    {
     "name": "stdout",
     "output_type": "stream",
     "text": [
      "\n",
      "File successfully downloaded to: ./zenodo_dl/1302601.zip\n",
      "[info] File downloaded: ./zenodo_dl/1302601.zip\n",
      "\n",
      "[info] Paper_idx: 476, Zenodo id: 1302603\n"
     ]
    },
    {
     "name": "stderr",
     "output_type": "stream",
     "text": [
      "1302603.zip: 4.61MB [00:03, 1.50MB/s]\n"
     ]
    },
    {
     "name": "stdout",
     "output_type": "stream",
     "text": [
      "\n",
      "File successfully downloaded to: ./zenodo_dl/1302603.zip\n",
      "[info] File downloaded: ./zenodo_dl/1302603.zip\n",
      "\n",
      "[info] Paper_idx: 477, Zenodo id: 1302605\n"
     ]
    },
    {
     "name": "stderr",
     "output_type": "stream",
     "text": [
      "1302605.zip: 6.65MB [00:02, 2.66MB/s]\n"
     ]
    },
    {
     "name": "stdout",
     "output_type": "stream",
     "text": [
      "\n",
      "File successfully downloaded to: ./zenodo_dl/1302605.zip\n",
      "[info] File downloaded: ./zenodo_dl/1302605.zip\n",
      "\n",
      "[info] Paper_idx: 478, Zenodo id: 1302607\n"
     ]
    },
    {
     "name": "stderr",
     "output_type": "stream",
     "text": [
      "1302607.zip: 365kB [00:01, 327kB/s]  \n"
     ]
    },
    {
     "name": "stdout",
     "output_type": "stream",
     "text": [
      "\n",
      "File successfully downloaded to: ./zenodo_dl/1302607.zip\n",
      "[info] File downloaded: ./zenodo_dl/1302607.zip\n",
      "\n",
      "[info] Paper_idx: 479, Zenodo id: 1302609\n"
     ]
    },
    {
     "name": "stderr",
     "output_type": "stream",
     "text": [
      "1302609.zip: 145kB [00:00, 172kB/s]  \n"
     ]
    },
    {
     "name": "stdout",
     "output_type": "stream",
     "text": [
      "\n",
      "File successfully downloaded to: ./zenodo_dl/1302609.zip\n",
      "[info] File downloaded: ./zenodo_dl/1302609.zip\n",
      "\n",
      "[info] Paper_idx: 480, Zenodo id: 1302611\n"
     ]
    },
    {
     "name": "stderr",
     "output_type": "stream",
     "text": [
      "1302611.zip: 298kB [00:01, 260kB/s]  \n"
     ]
    },
    {
     "name": "stdout",
     "output_type": "stream",
     "text": [
      "\n",
      "File successfully downloaded to: ./zenodo_dl/1302611.zip\n",
      "[info] File downloaded: ./zenodo_dl/1302611.zip\n",
      "\n",
      "[info] Paper_idx: 481, Zenodo id: 1302613\n"
     ]
    },
    {
     "name": "stderr",
     "output_type": "stream",
     "text": [
      "1302613.zip: 698kB [00:01, 489kB/s]  \n"
     ]
    },
    {
     "name": "stdout",
     "output_type": "stream",
     "text": [
      "\n",
      "File successfully downloaded to: ./zenodo_dl/1302613.zip\n",
      "[info] File downloaded: ./zenodo_dl/1302613.zip\n",
      "\n",
      "[info] Paper_idx: 482, Zenodo id: 1302615\n"
     ]
    },
    {
     "name": "stderr",
     "output_type": "stream",
     "text": [
      "1302615.zip: 4.16MB [00:02, 1.82MB/s]\n"
     ]
    },
    {
     "name": "stdout",
     "output_type": "stream",
     "text": [
      "\n",
      "File successfully downloaded to: ./zenodo_dl/1302615.zip\n",
      "[info] File downloaded: ./zenodo_dl/1302615.zip\n",
      "\n",
      "[info] Paper_idx: 483, Zenodo id: 1302617\n"
     ]
    },
    {
     "name": "stderr",
     "output_type": "stream",
     "text": [
      "1302617.zip: 2.45MB [00:01, 1.26MB/s]\n"
     ]
    },
    {
     "name": "stdout",
     "output_type": "stream",
     "text": [
      "\n",
      "File successfully downloaded to: ./zenodo_dl/1302617.zip\n",
      "[info] File downloaded: ./zenodo_dl/1302617.zip\n",
      "\n",
      "[info] Paper_idx: 484, Zenodo id: 1302619\n"
     ]
    },
    {
     "name": "stderr",
     "output_type": "stream",
     "text": [
      "1302619.zip: 312kB [00:01, 275kB/s]  \n"
     ]
    },
    {
     "name": "stdout",
     "output_type": "stream",
     "text": [
      "\n",
      "File successfully downloaded to: ./zenodo_dl/1302619.zip\n",
      "[info] File downloaded: ./zenodo_dl/1302619.zip\n",
      "\n",
      "[info] Paper_idx: 485, Zenodo id: 1302621\n"
     ]
    },
    {
     "name": "stderr",
     "output_type": "stream",
     "text": [
      "1302621.zip: 1.01MB [00:03, 281kB/s] \n"
     ]
    },
    {
     "name": "stdout",
     "output_type": "stream",
     "text": [
      "\n",
      "File successfully downloaded to: ./zenodo_dl/1302621.zip\n",
      "[info] File downloaded: ./zenodo_dl/1302621.zip\n",
      "\n",
      "[info] Paper_idx: 486, Zenodo id: 1302623\n"
     ]
    },
    {
     "name": "stderr",
     "output_type": "stream",
     "text": [
      "1302623.zip: 7.29MB [00:20, 361kB/s] \n"
     ]
    },
    {
     "name": "stdout",
     "output_type": "stream",
     "text": [
      "\n",
      "File successfully downloaded to: ./zenodo_dl/1302623.zip\n",
      "[info] File downloaded: ./zenodo_dl/1302623.zip\n",
      "\n",
      "[info] Paper_idx: 487, Zenodo id: 1302625\n"
     ]
    },
    {
     "name": "stderr",
     "output_type": "stream",
     "text": [
      "1302625.zip: 679kB [00:01, 348kB/s]  \n"
     ]
    },
    {
     "name": "stdout",
     "output_type": "stream",
     "text": [
      "\n",
      "File successfully downloaded to: ./zenodo_dl/1302625.zip\n",
      "[info] File downloaded: ./zenodo_dl/1302625.zip\n",
      "\n",
      "[info] Paper_idx: 488, Zenodo id: 1302627\n"
     ]
    },
    {
     "name": "stderr",
     "output_type": "stream",
     "text": [
      "1302627.zip: 348kB [00:01, 248kB/s]  \n"
     ]
    },
    {
     "name": "stdout",
     "output_type": "stream",
     "text": [
      "\n",
      "File successfully downloaded to: ./zenodo_dl/1302627.zip\n",
      "[info] File downloaded: ./zenodo_dl/1302627.zip\n",
      "\n",
      "[info] Paper_idx: 489, Zenodo id: 1302629\n"
     ]
    },
    {
     "name": "stderr",
     "output_type": "stream",
     "text": [
      "1302629.zip: 8.20MB [00:22, 361kB/s] \n"
     ]
    },
    {
     "name": "stdout",
     "output_type": "stream",
     "text": [
      "\n",
      "File successfully downloaded to: ./zenodo_dl/1302629.zip\n",
      "[info] File downloaded: ./zenodo_dl/1302629.zip\n",
      "\n",
      "[info] Paper_idx: 490, Zenodo id: 1302631\n"
     ]
    },
    {
     "name": "stderr",
     "output_type": "stream",
     "text": [
      "1302631.zip: 844kB [00:02, 303kB/s]  \n"
     ]
    },
    {
     "name": "stdout",
     "output_type": "stream",
     "text": [
      "\n",
      "File successfully downloaded to: ./zenodo_dl/1302631.zip\n",
      "[info] File downloaded: ./zenodo_dl/1302631.zip\n",
      "\n",
      "[info] Paper_idx: 491, Zenodo id: 1302633\n"
     ]
    },
    {
     "name": "stderr",
     "output_type": "stream",
     "text": [
      "1302633.zip: 2.06MB [00:06, 334kB/s] \n"
     ]
    },
    {
     "name": "stdout",
     "output_type": "stream",
     "text": [
      "\n",
      "File successfully downloaded to: ./zenodo_dl/1302633.zip\n",
      "[info] File downloaded: ./zenodo_dl/1302633.zip\n",
      "\n",
      "[info] Paper_idx: 492, Zenodo id: 1302635\n"
     ]
    },
    {
     "name": "stderr",
     "output_type": "stream",
     "text": [
      "1302635.zip: 174kB [00:00, 197kB/s]  \n"
     ]
    },
    {
     "name": "stdout",
     "output_type": "stream",
     "text": [
      "\n",
      "File successfully downloaded to: ./zenodo_dl/1302635.zip\n",
      "[info] File downloaded: ./zenodo_dl/1302635.zip\n",
      "\n",
      "[info] Paper_idx: 493, Zenodo id: 1302637\n"
     ]
    },
    {
     "name": "stderr",
     "output_type": "stream",
     "text": [
      "1302637.zip: 2.76MB [00:08, 342kB/s] \n"
     ]
    },
    {
     "name": "stdout",
     "output_type": "stream",
     "text": [
      "\n",
      "File successfully downloaded to: ./zenodo_dl/1302637.zip\n",
      "[info] File downloaded: ./zenodo_dl/1302637.zip\n",
      "\n",
      "[info] Paper_idx: 494, Zenodo id: 1302639\n"
     ]
    },
    {
     "name": "stderr",
     "output_type": "stream",
     "text": [
      "1302639.zip: 701kB [00:02, 283kB/s]  \n"
     ]
    },
    {
     "name": "stdout",
     "output_type": "stream",
     "text": [
      "\n",
      "File successfully downloaded to: ./zenodo_dl/1302639.zip\n",
      "[info] File downloaded: ./zenodo_dl/1302639.zip\n",
      "\n",
      "[info] Paper_idx: 495, Zenodo id: 1302641\n"
     ]
    },
    {
     "name": "stderr",
     "output_type": "stream",
     "text": [
      "1302641.zip: 1.33MB [00:03, 343kB/s] \n"
     ]
    },
    {
     "name": "stdout",
     "output_type": "stream",
     "text": [
      "\n",
      "File successfully downloaded to: ./zenodo_dl/1302641.zip\n",
      "[info] File downloaded: ./zenodo_dl/1302641.zip\n",
      "\n",
      "[info] Paper_idx: 496, Zenodo id: 1302643\n"
     ]
    },
    {
     "name": "stderr",
     "output_type": "stream",
     "text": [
      "1302643.zip: 6.44MB [00:17, 358kB/s] \n"
     ]
    },
    {
     "name": "stdout",
     "output_type": "stream",
     "text": [
      "\n",
      "File successfully downloaded to: ./zenodo_dl/1302643.zip\n",
      "[info] File downloaded: ./zenodo_dl/1302643.zip\n",
      "\n",
      "[info] Paper_idx: 497, Zenodo id: 1302645\n"
     ]
    },
    {
     "name": "stderr",
     "output_type": "stream",
     "text": [
      "1302645.zip: 3.46MB [00:10, 338kB/s] \n"
     ]
    },
    {
     "name": "stdout",
     "output_type": "stream",
     "text": [
      "\n",
      "File successfully downloaded to: ./zenodo_dl/1302645.zip\n",
      "[info] File downloaded: ./zenodo_dl/1302645.zip\n",
      "\n",
      "[info] Paper_idx: 498, Zenodo id: 1302647\n"
     ]
    },
    {
     "name": "stderr",
     "output_type": "stream",
     "text": [
      "1302647.zip: 14.6MB [00:26, 548kB/s] \n"
     ]
    },
    {
     "name": "stdout",
     "output_type": "stream",
     "text": [
      "\n",
      "File successfully downloaded to: ./zenodo_dl/1302647.zip\n",
      "[info] File downloaded: ./zenodo_dl/1302647.zip\n",
      "\n",
      "[info] Paper_idx: 499, Zenodo id: 1176149\n"
     ]
    },
    {
     "name": "stderr",
     "output_type": "stream",
     "text": [
      "1176149.zip: 1.17MB [00:03, 325kB/s] \n"
     ]
    },
    {
     "name": "stdout",
     "output_type": "stream",
     "text": [
      "\n",
      "File successfully downloaded to: ./zenodo_dl/1176149.zip\n",
      "[info] File downloaded: ./zenodo_dl/1176149.zip\n",
      "\n",
      "[info] Paper_idx: 500, Zenodo id: 1176151\n"
     ]
    },
    {
     "name": "stderr",
     "output_type": "stream",
     "text": [
      "1176151.zip: 2.45MB [00:07, 341kB/s] \n"
     ]
    },
    {
     "name": "stdout",
     "output_type": "stream",
     "text": [
      "\n",
      "File successfully downloaded to: ./zenodo_dl/1176151.zip\n",
      "[info] File downloaded: ./zenodo_dl/1176151.zip\n",
      "\n",
      "[info] Paper_idx: 501, Zenodo id: 1176153\n"
     ]
    },
    {
     "name": "stderr",
     "output_type": "stream",
     "text": [
      "1176153.zip: 2.59MB [00:07, 359kB/s] \n"
     ]
    },
    {
     "name": "stdout",
     "output_type": "stream",
     "text": [
      "\n",
      "File successfully downloaded to: ./zenodo_dl/1176153.zip\n",
      "[info] File downloaded: ./zenodo_dl/1176153.zip\n",
      "\n",
      "[info] Paper_idx: 502, Zenodo id: 1176155\n"
     ]
    },
    {
     "name": "stderr",
     "output_type": "stream",
     "text": [
      "1176155.zip: 2.85MB [00:08, 339kB/s] \n"
     ]
    },
    {
     "name": "stdout",
     "output_type": "stream",
     "text": [
      "\n",
      "File successfully downloaded to: ./zenodo_dl/1176155.zip\n",
      "[info] File downloaded: ./zenodo_dl/1176155.zip\n",
      "\n",
      "[info] Paper_idx: 503, Zenodo id: 1176157\n"
     ]
    },
    {
     "name": "stderr",
     "output_type": "stream",
     "text": [
      "1176157.zip: 14.6MB [00:38, 382kB/s] \n"
     ]
    },
    {
     "name": "stdout",
     "output_type": "stream",
     "text": [
      "\n",
      "File successfully downloaded to: ./zenodo_dl/1176157.zip\n",
      "[info] File downloaded: ./zenodo_dl/1176157.zip\n",
      "\n",
      "[info] Paper_idx: 504, Zenodo id: 1176159\n"
     ]
    },
    {
     "name": "stderr",
     "output_type": "stream",
     "text": [
      "1176159.zip: 809kB [00:02, 323kB/s]  \n"
     ]
    },
    {
     "name": "stdout",
     "output_type": "stream",
     "text": [
      "\n",
      "File successfully downloaded to: ./zenodo_dl/1176159.zip\n",
      "[info] File downloaded: ./zenodo_dl/1176159.zip\n",
      "\n",
      "[info] Paper_idx: 505, Zenodo id: 1176161\n"
     ]
    },
    {
     "name": "stderr",
     "output_type": "stream",
     "text": [
      "1176161.zip: 2.36MB [00:06, 340kB/s] \n"
     ]
    },
    {
     "name": "stdout",
     "output_type": "stream",
     "text": [
      "\n",
      "File successfully downloaded to: ./zenodo_dl/1176161.zip\n",
      "[info] File downloaded: ./zenodo_dl/1176161.zip\n",
      "\n",
      "[info] Paper_idx: 506, Zenodo id: 1176163\n"
     ]
    },
    {
     "name": "stderr",
     "output_type": "stream",
     "text": [
      "1176163.zip: 2.28MB [00:06, 341kB/s] \n"
     ]
    },
    {
     "name": "stdout",
     "output_type": "stream",
     "text": [
      "\n",
      "File successfully downloaded to: ./zenodo_dl/1176163.zip\n",
      "[info] File downloaded: ./zenodo_dl/1176163.zip\n",
      "\n",
      "[info] Paper_idx: 507, Zenodo id: 1176165\n"
     ]
    },
    {
     "name": "stderr",
     "output_type": "stream",
     "text": [
      "1176165.zip: 1.72MB [00:05, 326kB/s] \n"
     ]
    },
    {
     "name": "stdout",
     "output_type": "stream",
     "text": [
      "\n",
      "File successfully downloaded to: ./zenodo_dl/1176165.zip\n",
      "[info] File downloaded: ./zenodo_dl/1176165.zip\n",
      "\n",
      "[info] Paper_idx: 508, Zenodo id: 1176167\n"
     ]
    },
    {
     "name": "stderr",
     "output_type": "stream",
     "text": [
      "1176167.zip: 997kB [00:03, 299kB/s]  \n"
     ]
    },
    {
     "name": "stdout",
     "output_type": "stream",
     "text": [
      "\n",
      "File successfully downloaded to: ./zenodo_dl/1176167.zip\n",
      "[info] File downloaded: ./zenodo_dl/1176167.zip\n",
      "\n",
      "[info] Paper_idx: 509, Zenodo id: 1176169\n"
     ]
    },
    {
     "name": "stderr",
     "output_type": "stream",
     "text": [
      "1176169.zip: 2.38MB [00:06, 344kB/s] \n"
     ]
    },
    {
     "name": "stdout",
     "output_type": "stream",
     "text": [
      "\n",
      "File successfully downloaded to: ./zenodo_dl/1176169.zip\n",
      "[info] File downloaded: ./zenodo_dl/1176169.zip\n",
      "\n",
      "[info] Paper_idx: 510, Zenodo id: 1176171\n"
     ]
    },
    {
     "name": "stderr",
     "output_type": "stream",
     "text": [
      "1176171.zip: 736kB [00:02, 293kB/s]  \n"
     ]
    },
    {
     "name": "stdout",
     "output_type": "stream",
     "text": [
      "\n",
      "File successfully downloaded to: ./zenodo_dl/1176171.zip\n",
      "[info] File downloaded: ./zenodo_dl/1176171.zip\n",
      "\n",
      "[info] Paper_idx: 511, Zenodo id: 1176173\n"
     ]
    },
    {
     "name": "stderr",
     "output_type": "stream",
     "text": [
      "1176173.zip: 11.6MB [00:03, 3.45MB/s]\n"
     ]
    },
    {
     "name": "stdout",
     "output_type": "stream",
     "text": [
      "\n",
      "File successfully downloaded to: ./zenodo_dl/1176173.zip\n",
      "[info] File downloaded: ./zenodo_dl/1176173.zip\n",
      "\n",
      "[info] Paper_idx: 512, Zenodo id: 1176175\n"
     ]
    },
    {
     "name": "stderr",
     "output_type": "stream",
     "text": [
      "1176175.zip: 6.36MB [00:17, 359kB/s] \n"
     ]
    },
    {
     "name": "stdout",
     "output_type": "stream",
     "text": [
      "\n",
      "File successfully downloaded to: ./zenodo_dl/1176175.zip\n",
      "[info] File downloaded: ./zenodo_dl/1176175.zip\n",
      "\n",
      "[info] Paper_idx: 513, Zenodo id: 1181422\n"
     ]
    },
    {
     "name": "stderr",
     "output_type": "stream",
     "text": [
      "1181422.zip: 1.98MB [00:01, 1.17MB/s]\n"
     ]
    },
    {
     "name": "stdout",
     "output_type": "stream",
     "text": [
      "\n",
      "File successfully downloaded to: ./zenodo_dl/1181422.zip\n",
      "[info] File downloaded: ./zenodo_dl/1181422.zip\n",
      "\n",
      "[info] Paper_idx: 514, Zenodo id: 1176177\n"
     ]
    },
    {
     "name": "stderr",
     "output_type": "stream",
     "text": [
      "1176177.zip: 7.88MB [00:03, 2.03MB/s]\n"
     ]
    },
    {
     "name": "stdout",
     "output_type": "stream",
     "text": [
      "\n",
      "File successfully downloaded to: ./zenodo_dl/1176177.zip\n",
      "[info] File downloaded: ./zenodo_dl/1176177.zip\n",
      "\n",
      "[info] Paper_idx: 515, Zenodo id: 1176179\n"
     ]
    },
    {
     "name": "stderr",
     "output_type": "stream",
     "text": [
      "1176179.zip: 6.20MB [00:02, 2.44MB/s]\n"
     ]
    },
    {
     "name": "stdout",
     "output_type": "stream",
     "text": [
      "\n",
      "File successfully downloaded to: ./zenodo_dl/1176179.zip\n",
      "[info] File downloaded: ./zenodo_dl/1176179.zip\n",
      "\n",
      "[info] Paper_idx: 516, Zenodo id: 1176181\n"
     ]
    },
    {
     "name": "stderr",
     "output_type": "stream",
     "text": [
      "1176181.zip: 3.38MB [00:01, 1.72MB/s]\n"
     ]
    },
    {
     "name": "stdout",
     "output_type": "stream",
     "text": [
      "\n",
      "File successfully downloaded to: ./zenodo_dl/1176181.zip\n",
      "[info] File downloaded: ./zenodo_dl/1176181.zip\n",
      "\n",
      "[info] Paper_idx: 517, Zenodo id: 1176183\n"
     ]
    },
    {
     "name": "stderr",
     "output_type": "stream",
     "text": [
      "1176183.zip: 358kB [00:01, 320kB/s]  \n"
     ]
    },
    {
     "name": "stdout",
     "output_type": "stream",
     "text": [
      "\n",
      "File successfully downloaded to: ./zenodo_dl/1176183.zip\n",
      "[info] File downloaded: ./zenodo_dl/1176183.zip\n",
      "\n",
      "[info] Paper_idx: 518, Zenodo id: 1176185\n"
     ]
    },
    {
     "name": "stderr",
     "output_type": "stream",
     "text": [
      "1176185.zip: 7.52MB [00:02, 2.92MB/s]\n"
     ]
    },
    {
     "name": "stdout",
     "output_type": "stream",
     "text": [
      "\n",
      "File successfully downloaded to: ./zenodo_dl/1176185.zip\n",
      "[info] File downloaded: ./zenodo_dl/1176185.zip\n",
      "\n",
      "[info] Paper_idx: 519, Zenodo id: 1176187\n"
     ]
    },
    {
     "name": "stderr",
     "output_type": "stream",
     "text": [
      "1176187.zip: 872kB [00:01, 542kB/s]  \n"
     ]
    },
    {
     "name": "stdout",
     "output_type": "stream",
     "text": [
      "\n",
      "File successfully downloaded to: ./zenodo_dl/1176187.zip\n",
      "[info] File downloaded: ./zenodo_dl/1176187.zip\n",
      "\n",
      "[info] Paper_idx: 520, Zenodo id: 1176189\n"
     ]
    },
    {
     "name": "stderr",
     "output_type": "stream",
     "text": [
      "1176189.zip: 1.58MB [00:01, 941kB/s] \n"
     ]
    },
    {
     "name": "stdout",
     "output_type": "stream",
     "text": [
      "\n",
      "File successfully downloaded to: ./zenodo_dl/1176189.zip\n",
      "[info] File downloaded: ./zenodo_dl/1176189.zip\n",
      "\n",
      "[info] Paper_idx: 521, Zenodo id: 1176191\n"
     ]
    },
    {
     "name": "stderr",
     "output_type": "stream",
     "text": [
      "1176191.zip: 497kB [00:01, 256kB/s]  \n"
     ]
    },
    {
     "name": "stdout",
     "output_type": "stream",
     "text": [
      "\n",
      "File successfully downloaded to: ./zenodo_dl/1176191.zip\n",
      "[info] File downloaded: ./zenodo_dl/1176191.zip\n",
      "\n",
      "[info] Paper_idx: 522, Zenodo id: 1176193\n"
     ]
    },
    {
     "name": "stderr",
     "output_type": "stream",
     "text": [
      "1176193.zip: 1.33MB [00:04, 319kB/s] \n"
     ]
    },
    {
     "name": "stdout",
     "output_type": "stream",
     "text": [
      "\n",
      "File successfully downloaded to: ./zenodo_dl/1176193.zip\n",
      "[info] File downloaded: ./zenodo_dl/1176193.zip\n",
      "\n",
      "[info] Paper_idx: 523, Zenodo id: 1176197\n"
     ]
    },
    {
     "name": "stderr",
     "output_type": "stream",
     "text": [
      "1176197.zip: 702kB [00:01, 499kB/s]  \n"
     ]
    },
    {
     "name": "stdout",
     "output_type": "stream",
     "text": [
      "\n",
      "File successfully downloaded to: ./zenodo_dl/1176197.zip\n",
      "[info] File downloaded: ./zenodo_dl/1176197.zip\n",
      "\n",
      "[info] Paper_idx: 524, Zenodo id: 1176199\n"
     ]
    },
    {
     "name": "stderr",
     "output_type": "stream",
     "text": [
      "1176199.zip: 2.28MB [00:06, 343kB/s] \n"
     ]
    },
    {
     "name": "stdout",
     "output_type": "stream",
     "text": [
      "\n",
      "File successfully downloaded to: ./zenodo_dl/1176199.zip\n",
      "[info] File downloaded: ./zenodo_dl/1176199.zip\n",
      "\n",
      "[info] Paper_idx: 525, Zenodo id: 1176201\n"
     ]
    },
    {
     "name": "stderr",
     "output_type": "stream",
     "text": [
      "1176201.zip: 1.34MB [00:01, 799kB/s] \n"
     ]
    },
    {
     "name": "stdout",
     "output_type": "stream",
     "text": [
      "\n",
      "File successfully downloaded to: ./zenodo_dl/1176201.zip\n",
      "[info] File downloaded: ./zenodo_dl/1176201.zip\n",
      "\n",
      "[info] Paper_idx: 526, Zenodo id: 1176203\n"
     ]
    },
    {
     "name": "stderr",
     "output_type": "stream",
     "text": [
      "1176203.zip: 765kB [00:01, 460kB/s]  \n"
     ]
    },
    {
     "name": "stdout",
     "output_type": "stream",
     "text": [
      "\n",
      "File successfully downloaded to: ./zenodo_dl/1176203.zip\n",
      "[info] File downloaded: ./zenodo_dl/1176203.zip\n",
      "\n",
      "[info] Paper_idx: 527, Zenodo id: 1176205\n"
     ]
    },
    {
     "name": "stderr",
     "output_type": "stream",
     "text": [
      "1176205.zip: 498kB [00:01, 257kB/s]  \n"
     ]
    },
    {
     "name": "stdout",
     "output_type": "stream",
     "text": [
      "\n",
      "File successfully downloaded to: ./zenodo_dl/1176205.zip\n",
      "[info] File downloaded: ./zenodo_dl/1176205.zip\n",
      "\n",
      "[info] Paper_idx: 528, Zenodo id: 1176207\n"
     ]
    },
    {
     "name": "stderr",
     "output_type": "stream",
     "text": [
      "1176207.zip: 658kB [00:01, 424kB/s]  \n"
     ]
    },
    {
     "name": "stdout",
     "output_type": "stream",
     "text": [
      "\n",
      "File successfully downloaded to: ./zenodo_dl/1176207.zip\n",
      "[info] File downloaded: ./zenodo_dl/1176207.zip\n",
      "\n",
      "[info] Paper_idx: 529, Zenodo id: 1176209\n"
     ]
    },
    {
     "name": "stderr",
     "output_type": "stream",
     "text": [
      "1176209.zip: 194kB [00:00, 232kB/s]  \n"
     ]
    },
    {
     "name": "stdout",
     "output_type": "stream",
     "text": [
      "\n",
      "File successfully downloaded to: ./zenodo_dl/1176209.zip\n",
      "[info] File downloaded: ./zenodo_dl/1176209.zip\n",
      "\n",
      "[info] Paper_idx: 530, Zenodo id: 1176211\n"
     ]
    },
    {
     "name": "stderr",
     "output_type": "stream",
     "text": [
      "1176211.zip: 225kB [00:00, 248kB/s]  \n"
     ]
    },
    {
     "name": "stdout",
     "output_type": "stream",
     "text": [
      "\n",
      "File successfully downloaded to: ./zenodo_dl/1176211.zip\n",
      "[info] File downloaded: ./zenodo_dl/1176211.zip\n",
      "\n",
      "[info] Paper_idx: 531, Zenodo id: 1181424\n"
     ]
    },
    {
     "name": "stderr",
     "output_type": "stream",
     "text": [
      "1181424.zip: 4.86MB [00:02, 2.14MB/s]\n"
     ]
    },
    {
     "name": "stdout",
     "output_type": "stream",
     "text": [
      "\n",
      "File successfully downloaded to: ./zenodo_dl/1181424.zip\n",
      "[info] File downloaded: ./zenodo_dl/1181424.zip\n",
      "\n",
      "[info] Paper_idx: 532, Zenodo id: 1176213\n"
     ]
    },
    {
     "name": "stderr",
     "output_type": "stream",
     "text": [
      "1176213.zip: 1.05MB [00:01, 637kB/s] \n"
     ]
    },
    {
     "name": "stdout",
     "output_type": "stream",
     "text": [
      "\n",
      "File successfully downloaded to: ./zenodo_dl/1176213.zip\n",
      "[info] File downloaded: ./zenodo_dl/1176213.zip\n",
      "\n",
      "[info] Paper_idx: 533, Zenodo id: 1176215\n"
     ]
    },
    {
     "name": "stderr",
     "output_type": "stream",
     "text": [
      "1176215.zip: 16.4MB [00:04, 3.88MB/s]\n"
     ]
    },
    {
     "name": "stdout",
     "output_type": "stream",
     "text": [
      "\n",
      "File successfully downloaded to: ./zenodo_dl/1176215.zip\n",
      "[info] File downloaded: ./zenodo_dl/1176215.zip\n",
      "\n",
      "[info] Paper_idx: 534, Zenodo id: 1176218\n"
     ]
    },
    {
     "name": "stderr",
     "output_type": "stream",
     "text": [
      "1176218.zip: 1.61MB [00:01, 956kB/s] \n"
     ]
    },
    {
     "name": "stdout",
     "output_type": "stream",
     "text": [
      "\n",
      "File successfully downloaded to: ./zenodo_dl/1176218.zip\n",
      "[info] File downloaded: ./zenodo_dl/1176218.zip\n",
      "\n",
      "[info] Paper_idx: 535, Zenodo id: 1176220\n"
     ]
    },
    {
     "name": "stderr",
     "output_type": "stream",
     "text": [
      "1176220.zip: 1.29MB [00:01, 764kB/s] \n"
     ]
    },
    {
     "name": "stdout",
     "output_type": "stream",
     "text": [
      "\n",
      "File successfully downloaded to: ./zenodo_dl/1176220.zip\n",
      "[info] File downloaded: ./zenodo_dl/1176220.zip\n",
      "\n",
      "[info] Paper_idx: 536, Zenodo id: 1176222\n"
     ]
    },
    {
     "name": "stderr",
     "output_type": "stream",
     "text": [
      "1176222.zip: 456kB [00:01, 394kB/s]  \n"
     ]
    },
    {
     "name": "stdout",
     "output_type": "stream",
     "text": [
      "\n",
      "File successfully downloaded to: ./zenodo_dl/1176222.zip\n",
      "[info] File downloaded: ./zenodo_dl/1176222.zip\n",
      "\n",
      "[info] Paper_idx: 537, Zenodo id: 1176224\n"
     ]
    },
    {
     "name": "stderr",
     "output_type": "stream",
     "text": [
      "1176224.zip: 526kB [00:01, 383kB/s]  \n"
     ]
    },
    {
     "name": "stdout",
     "output_type": "stream",
     "text": [
      "\n",
      "File successfully downloaded to: ./zenodo_dl/1176224.zip\n",
      "[info] File downloaded: ./zenodo_dl/1176224.zip\n",
      "\n",
      "[info] Paper_idx: 538, Zenodo id: 1176226\n"
     ]
    },
    {
     "name": "stderr",
     "output_type": "stream",
     "text": [
      "1176226.zip: 492kB [00:01, 440kB/s]  \n"
     ]
    },
    {
     "name": "stdout",
     "output_type": "stream",
     "text": [
      "\n",
      "File successfully downloaded to: ./zenodo_dl/1176226.zip\n",
      "[info] File downloaded: ./zenodo_dl/1176226.zip\n",
      "\n",
      "[info] Paper_idx: 539, Zenodo id: 1176228\n"
     ]
    },
    {
     "name": "stderr",
     "output_type": "stream",
     "text": [
      "1176228.zip: 524kB [00:01, 376kB/s]  \n"
     ]
    },
    {
     "name": "stdout",
     "output_type": "stream",
     "text": [
      "\n",
      "File successfully downloaded to: ./zenodo_dl/1176228.zip\n",
      "[info] File downloaded: ./zenodo_dl/1176228.zip\n",
      "\n",
      "[info] Paper_idx: 540, Zenodo id: 1181420\n"
     ]
    },
    {
     "name": "stderr",
     "output_type": "stream",
     "text": [
      "1181420.zip: 1.48MB [00:01, 880kB/s] \n"
     ]
    },
    {
     "name": "stdout",
     "output_type": "stream",
     "text": [
      "\n",
      "File successfully downloaded to: ./zenodo_dl/1181420.zip\n",
      "[info] File downloaded: ./zenodo_dl/1181420.zip\n",
      "\n",
      "[info] Paper_idx: 541, Zenodo id: 1176230\n"
     ]
    },
    {
     "name": "stderr",
     "output_type": "stream",
     "text": [
      "1176230.zip: 1.08MB [00:01, 650kB/s] \n"
     ]
    },
    {
     "name": "stdout",
     "output_type": "stream",
     "text": [
      "\n",
      "File successfully downloaded to: ./zenodo_dl/1176230.zip\n",
      "[info] File downloaded: ./zenodo_dl/1176230.zip\n",
      "\n",
      "[info] Paper_idx: 542, Zenodo id: 1176232\n"
     ]
    },
    {
     "name": "stderr",
     "output_type": "stream",
     "text": [
      "1176232.zip: 636kB [00:02, 286kB/s]  \n"
     ]
    },
    {
     "name": "stdout",
     "output_type": "stream",
     "text": [
      "\n",
      "File successfully downloaded to: ./zenodo_dl/1176232.zip\n",
      "[info] File downloaded: ./zenodo_dl/1176232.zip\n",
      "\n",
      "[info] Paper_idx: 543, Zenodo id: 1176234\n"
     ]
    },
    {
     "name": "stderr",
     "output_type": "stream",
     "text": [
      "1176234.zip: 1.04MB [00:01, 740kB/s] \n"
     ]
    },
    {
     "name": "stdout",
     "output_type": "stream",
     "text": [
      "\n",
      "File successfully downloaded to: ./zenodo_dl/1176234.zip\n",
      "[info] File downloaded: ./zenodo_dl/1176234.zip\n",
      "\n",
      "[info] Paper_idx: 544, Zenodo id: 1176236\n"
     ]
    },
    {
     "name": "stderr",
     "output_type": "stream",
     "text": [
      "1176236.zip: 2.46MB [00:01, 1.27MB/s]\n"
     ]
    },
    {
     "name": "stdout",
     "output_type": "stream",
     "text": [
      "\n",
      "File successfully downloaded to: ./zenodo_dl/1176236.zip\n",
      "[info] File downloaded: ./zenodo_dl/1176236.zip\n",
      "\n",
      "[info] Paper_idx: 545, Zenodo id: 1176238\n"
     ]
    },
    {
     "name": "stderr",
     "output_type": "stream",
     "text": [
      "1176238.zip: 1.65MB [00:05, 329kB/s] \n"
     ]
    },
    {
     "name": "stdout",
     "output_type": "stream",
     "text": [
      "\n",
      "File successfully downloaded to: ./zenodo_dl/1176238.zip\n",
      "[info] File downloaded: ./zenodo_dl/1176238.zip\n",
      "\n",
      "[info] Paper_idx: 546, Zenodo id: 1176240\n"
     ]
    },
    {
     "name": "stderr",
     "output_type": "stream",
     "text": [
      "1176240.zip: 793kB [00:01, 572kB/s]  \n"
     ]
    },
    {
     "name": "stdout",
     "output_type": "stream",
     "text": [
      "\n",
      "File successfully downloaded to: ./zenodo_dl/1176240.zip\n",
      "[info] File downloaded: ./zenodo_dl/1176240.zip\n",
      "\n",
      "[info] Paper_idx: 547, Zenodo id: 1176242\n"
     ]
    },
    {
     "name": "stderr",
     "output_type": "stream",
     "text": [
      "1176242.zip: 6.35MB [00:02, 2.27MB/s]\n"
     ]
    },
    {
     "name": "stdout",
     "output_type": "stream",
     "text": [
      "\n",
      "File successfully downloaded to: ./zenodo_dl/1176242.zip\n",
      "[info] File downloaded: ./zenodo_dl/1176242.zip\n",
      "\n",
      "[info] Paper_idx: 548, Zenodo id: 1176244\n"
     ]
    },
    {
     "name": "stderr",
     "output_type": "stream",
     "text": [
      "1176244.zip: 4.60MB [00:02, 2.06MB/s]\n"
     ]
    },
    {
     "name": "stdout",
     "output_type": "stream",
     "text": [
      "\n",
      "File successfully downloaded to: ./zenodo_dl/1176244.zip\n",
      "[info] File downloaded: ./zenodo_dl/1176244.zip\n",
      "\n",
      "[info] Paper_idx: 549, Zenodo id: 1176246\n"
     ]
    },
    {
     "name": "stderr",
     "output_type": "stream",
     "text": [
      "1176246.zip: 5.84MB [00:06, 953kB/s] \n"
     ]
    },
    {
     "name": "stdout",
     "output_type": "stream",
     "text": [
      "\n",
      "File successfully downloaded to: ./zenodo_dl/1176246.zip\n",
      "[info] File downloaded: ./zenodo_dl/1176246.zip\n",
      "\n",
      "[info] Paper_idx: 550, Zenodo id: 1176248\n"
     ]
    },
    {
     "name": "stderr",
     "output_type": "stream",
     "text": [
      "1176248.zip: 480kB [00:01, 287kB/s]  \n"
     ]
    },
    {
     "name": "stdout",
     "output_type": "stream",
     "text": [
      "\n",
      "File successfully downloaded to: ./zenodo_dl/1176248.zip\n",
      "[info] File downloaded: ./zenodo_dl/1176248.zip\n",
      "\n",
      "[info] Paper_idx: 551, Zenodo id: 1176250\n"
     ]
    },
    {
     "name": "stderr",
     "output_type": "stream",
     "text": [
      "1176250.zip: 2.88MB [00:08, 336kB/s] \n"
     ]
    },
    {
     "name": "stdout",
     "output_type": "stream",
     "text": [
      "\n",
      "File successfully downloaded to: ./zenodo_dl/1176250.zip\n",
      "[info] File downloaded: ./zenodo_dl/1176250.zip\n",
      "\n",
      "[info] Paper_idx: 552, Zenodo id: 1176252\n"
     ]
    },
    {
     "name": "stderr",
     "output_type": "stream",
     "text": [
      "1176252.zip: 391kB [00:01, 280kB/s]  \n"
     ]
    },
    {
     "name": "stdout",
     "output_type": "stream",
     "text": [
      "\n",
      "File successfully downloaded to: ./zenodo_dl/1176252.zip\n",
      "[info] File downloaded: ./zenodo_dl/1176252.zip\n",
      "\n",
      "[info] Paper_idx: 553, Zenodo id: 1176254\n"
     ]
    },
    {
     "name": "stderr",
     "output_type": "stream",
     "text": [
      "1176254.zip: 600kB [00:02, 270kB/s]  \n"
     ]
    },
    {
     "name": "stdout",
     "output_type": "stream",
     "text": [
      "\n",
      "File successfully downloaded to: ./zenodo_dl/1176254.zip\n",
      "[info] File downloaded: ./zenodo_dl/1176254.zip\n",
      "\n",
      "[info] Paper_idx: 554, Zenodo id: 1176256\n"
     ]
    },
    {
     "name": "stderr",
     "output_type": "stream",
     "text": [
      "1176256.zip: 318kB [00:01, 191kB/s]  \n"
     ]
    },
    {
     "name": "stdout",
     "output_type": "stream",
     "text": [
      "\n",
      "File successfully downloaded to: ./zenodo_dl/1176256.zip\n",
      "[info] File downloaded: ./zenodo_dl/1176256.zip\n",
      "\n",
      "[info] Paper_idx: 555, Zenodo id: 1176258\n"
     ]
    },
    {
     "name": "stderr",
     "output_type": "stream",
     "text": [
      "1176258.zip: 15.3MB [00:25, 593kB/s] \n"
     ]
    },
    {
     "name": "stdout",
     "output_type": "stream",
     "text": [
      "\n",
      "File successfully downloaded to: ./zenodo_dl/1176258.zip\n",
      "[info] File downloaded: ./zenodo_dl/1176258.zip\n",
      "\n",
      "[info] Paper_idx: 556, Zenodo id: 1176260\n"
     ]
    },
    {
     "name": "stderr",
     "output_type": "stream",
     "text": [
      "1176260.zip: 8.84MB [00:24, 362kB/s] \n"
     ]
    },
    {
     "name": "stdout",
     "output_type": "stream",
     "text": [
      "\n",
      "File successfully downloaded to: ./zenodo_dl/1176260.zip\n",
      "[info] File downloaded: ./zenodo_dl/1176260.zip\n",
      "\n",
      "[info] Paper_idx: 557, Zenodo id: 1176262\n"
     ]
    },
    {
     "name": "stderr",
     "output_type": "stream",
     "text": [
      "1176262.zip: 1.55MB [00:05, 294kB/s] \n"
     ]
    },
    {
     "name": "stdout",
     "output_type": "stream",
     "text": [
      "\n",
      "File successfully downloaded to: ./zenodo_dl/1176262.zip\n",
      "[info] File downloaded: ./zenodo_dl/1176262.zip\n",
      "\n",
      "[info] Paper_idx: 558, Zenodo id: 1176264\n"
     ]
    },
    {
     "name": "stderr",
     "output_type": "stream",
     "text": [
      "1176264.zip: 803kB [00:02, 290kB/s]  \n"
     ]
    },
    {
     "name": "stdout",
     "output_type": "stream",
     "text": [
      "\n",
      "File successfully downloaded to: ./zenodo_dl/1176264.zip\n",
      "[info] File downloaded: ./zenodo_dl/1176264.zip\n",
      "\n",
      "[info] Paper_idx: 559, Zenodo id: 1176266\n"
     ]
    },
    {
     "name": "stderr",
     "output_type": "stream",
     "text": [
      "1176266.zip: 1.73MB [00:05, 298kB/s] \n"
     ]
    },
    {
     "name": "stdout",
     "output_type": "stream",
     "text": [
      "\n",
      "File successfully downloaded to: ./zenodo_dl/1176266.zip\n",
      "[info] File downloaded: ./zenodo_dl/1176266.zip\n",
      "\n",
      "[info] Paper_idx: 560, Zenodo id: 1176268\n"
     ]
    },
    {
     "name": "stderr",
     "output_type": "stream",
     "text": [
      "1176268.zip: 10.0MB [00:17, 582kB/s] \n"
     ]
    },
    {
     "name": "stdout",
     "output_type": "stream",
     "text": [
      "\n",
      "File successfully downloaded to: ./zenodo_dl/1176268.zip\n",
      "[info] File downloaded: ./zenodo_dl/1176268.zip\n",
      "\n",
      "[info] Paper_idx: 561, Zenodo id: 1176272\n"
     ]
    },
    {
     "name": "stderr",
     "output_type": "stream",
     "text": [
      "1176272.zip: 7.64MB [00:10, 739kB/s] \n"
     ]
    },
    {
     "name": "stdout",
     "output_type": "stream",
     "text": [
      "\n",
      "File successfully downloaded to: ./zenodo_dl/1176272.zip\n",
      "[info] File downloaded: ./zenodo_dl/1176272.zip\n",
      "\n",
      "[info] Paper_idx: 562, Zenodo id: 1176274\n"
     ]
    },
    {
     "name": "stderr",
     "output_type": "stream",
     "text": [
      "1176274.zip: 3.66MB [00:03, 1.20MB/s]\n"
     ]
    },
    {
     "name": "stdout",
     "output_type": "stream",
     "text": [
      "\n",
      "File successfully downloaded to: ./zenodo_dl/1176274.zip\n",
      "[info] File downloaded: ./zenodo_dl/1176274.zip\n",
      "\n",
      "[info] Paper_idx: 563, Zenodo id: 1176276\n"
     ]
    },
    {
     "name": "stderr",
     "output_type": "stream",
     "text": [
      "1176276.zip: 880kB [00:03, 288kB/s]  \n"
     ]
    },
    {
     "name": "stdout",
     "output_type": "stream",
     "text": [
      "\n",
      "File successfully downloaded to: ./zenodo_dl/1176276.zip\n",
      "[info] File downloaded: ./zenodo_dl/1176276.zip\n",
      "\n",
      "[info] Paper_idx: 564, Zenodo id: 1176278\n"
     ]
    },
    {
     "name": "stderr",
     "output_type": "stream",
     "text": [
      "1176278.zip: 6.95MB [00:17, 392kB/s] \n"
     ]
    },
    {
     "name": "stdout",
     "output_type": "stream",
     "text": [
      "\n",
      "File successfully downloaded to: ./zenodo_dl/1176278.zip\n",
      "[info] File downloaded: ./zenodo_dl/1176278.zip\n",
      "\n",
      "[info] Paper_idx: 565, Zenodo id: 1176280\n"
     ]
    },
    {
     "name": "stderr",
     "output_type": "stream",
     "text": [
      "1176280.zip: 1.97MB [00:05, 339kB/s] \n"
     ]
    },
    {
     "name": "stdout",
     "output_type": "stream",
     "text": [
      "\n",
      "File successfully downloaded to: ./zenodo_dl/1176280.zip\n",
      "[info] File downloaded: ./zenodo_dl/1176280.zip\n",
      "\n",
      "[info] Paper_idx: 566, Zenodo id: 1176282\n"
     ]
    },
    {
     "name": "stderr",
     "output_type": "stream",
     "text": [
      "1176282.zip: 11.0MB [00:29, 379kB/s] \n"
     ]
    },
    {
     "name": "stdout",
     "output_type": "stream",
     "text": [
      "\n",
      "File successfully downloaded to: ./zenodo_dl/1176282.zip\n",
      "[info] File downloaded: ./zenodo_dl/1176282.zip\n",
      "\n",
      "[info] Paper_idx: 567, Zenodo id: 1176284\n"
     ]
    },
    {
     "name": "stderr",
     "output_type": "stream",
     "text": [
      "1176284.zip: 1.53MB [00:04, 342kB/s] \n"
     ]
    },
    {
     "name": "stdout",
     "output_type": "stream",
     "text": [
      "\n",
      "File successfully downloaded to: ./zenodo_dl/1176284.zip\n",
      "[info] File downloaded: ./zenodo_dl/1176284.zip\n",
      "\n",
      "[info] Paper_idx: 568, Zenodo id: 1176286\n"
     ]
    },
    {
     "name": "stderr",
     "output_type": "stream",
     "text": [
      "1176286.zip: 1.38MB [00:04, 310kB/s] \n"
     ]
    },
    {
     "name": "stdout",
     "output_type": "stream",
     "text": [
      "\n",
      "File successfully downloaded to: ./zenodo_dl/1176286.zip\n",
      "[info] File downloaded: ./zenodo_dl/1176286.zip\n",
      "\n",
      "[info] Paper_idx: 569, Zenodo id: 1176288\n"
     ]
    },
    {
     "name": "stderr",
     "output_type": "stream",
     "text": [
      "1176288.zip: 3.97MB [00:02, 1.56MB/s]\n"
     ]
    },
    {
     "name": "stdout",
     "output_type": "stream",
     "text": [
      "\n",
      "File successfully downloaded to: ./zenodo_dl/1176288.zip\n",
      "[info] File downloaded: ./zenodo_dl/1176288.zip\n",
      "\n",
      "[info] Paper_idx: 570, Zenodo id: 1176290\n"
     ]
    },
    {
     "name": "stderr",
     "output_type": "stream",
     "text": [
      "1176290.zip: 3.12MB [00:01, 1.60MB/s]\n"
     ]
    },
    {
     "name": "stdout",
     "output_type": "stream",
     "text": [
      "\n",
      "File successfully downloaded to: ./zenodo_dl/1176290.zip\n",
      "[info] File downloaded: ./zenodo_dl/1176290.zip\n",
      "\n",
      "[info] Paper_idx: 571, Zenodo id: 1176292\n"
     ]
    },
    {
     "name": "stderr",
     "output_type": "stream",
     "text": [
      "1176292.zip: 2.36MB [00:01, 1.21MB/s]\n"
     ]
    },
    {
     "name": "stdout",
     "output_type": "stream",
     "text": [
      "\n",
      "File successfully downloaded to: ./zenodo_dl/1176292.zip\n",
      "[info] File downloaded: ./zenodo_dl/1176292.zip\n",
      "\n",
      "[info] Paper_idx: 572, Zenodo id: 1176294\n"
     ]
    },
    {
     "name": "stderr",
     "output_type": "stream",
     "text": [
      "1176294.zip: 185kB [00:00, 221kB/s]  \n"
     ]
    },
    {
     "name": "stdout",
     "output_type": "stream",
     "text": [
      "\n",
      "File successfully downloaded to: ./zenodo_dl/1176294.zip\n",
      "[info] File downloaded: ./zenodo_dl/1176294.zip\n",
      "\n",
      "[info] Paper_idx: 573, Zenodo id: 1176296\n"
     ]
    },
    {
     "name": "stderr",
     "output_type": "stream",
     "text": [
      "1176296.zip: 7.65MB [00:02, 2.75MB/s]\n"
     ]
    },
    {
     "name": "stdout",
     "output_type": "stream",
     "text": [
      "\n",
      "File successfully downloaded to: ./zenodo_dl/1176296.zip\n",
      "[info] File downloaded: ./zenodo_dl/1176296.zip\n",
      "\n",
      "[info] Paper_idx: 574, Zenodo id: 1176298\n"
     ]
    },
    {
     "name": "stderr",
     "output_type": "stream",
     "text": [
      "1176298.zip: 1.20MB [00:03, 360kB/s] \n"
     ]
    },
    {
     "name": "stdout",
     "output_type": "stream",
     "text": [
      "\n",
      "File successfully downloaded to: ./zenodo_dl/1176298.zip\n",
      "[info] File downloaded: ./zenodo_dl/1176298.zip\n",
      "\n",
      "[info] Paper_idx: 575, Zenodo id: 1176270\n"
     ]
    },
    {
     "name": "stderr",
     "output_type": "stream",
     "text": [
      "1176270.zip: 1.13MB [00:03, 289kB/s] \n"
     ]
    },
    {
     "name": "stdout",
     "output_type": "stream",
     "text": [
      "\n",
      "File successfully downloaded to: ./zenodo_dl/1176270.zip\n",
      "[info] File downloaded: ./zenodo_dl/1176270.zip\n",
      "\n",
      "[info] Paper_idx: 576, Zenodo id: 1176300\n"
     ]
    },
    {
     "name": "stderr",
     "output_type": "stream",
     "text": [
      "1176300.zip: 9.60MB [00:24, 385kB/s] \n"
     ]
    },
    {
     "name": "stdout",
     "output_type": "stream",
     "text": [
      "\n",
      "File successfully downloaded to: ./zenodo_dl/1176300.zip\n",
      "[info] File downloaded: ./zenodo_dl/1176300.zip\n",
      "\n",
      "[info] Paper_idx: 577, Zenodo id: 1176354\n"
     ]
    },
    {
     "name": "stderr",
     "output_type": "stream",
     "text": [
      "1176354.zip: 2.37MB [00:01, 1.22MB/s]\n"
     ]
    },
    {
     "name": "stdout",
     "output_type": "stream",
     "text": [
      "\n",
      "File successfully downloaded to: ./zenodo_dl/1176354.zip\n",
      "[info] File downloaded: ./zenodo_dl/1176354.zip\n",
      "\n",
      "[info] Paper_idx: 578, Zenodo id: 1176302\n"
     ]
    },
    {
     "name": "stderr",
     "output_type": "stream",
     "text": [
      "1176302.zip: 8.79MB [00:23, 369kB/s] \n"
     ]
    },
    {
     "name": "stdout",
     "output_type": "stream",
     "text": [
      "\n",
      "File successfully downloaded to: ./zenodo_dl/1176302.zip\n",
      "[info] File downloaded: ./zenodo_dl/1176302.zip\n",
      "\n",
      "[info] Paper_idx: 579, Zenodo id: 1176304\n"
     ]
    },
    {
     "name": "stderr",
     "output_type": "stream",
     "text": [
      "1176304.zip: 1.09MB [00:03, 301kB/s] \n"
     ]
    },
    {
     "name": "stdout",
     "output_type": "stream",
     "text": [
      "\n",
      "File successfully downloaded to: ./zenodo_dl/1176304.zip\n",
      "[info] File downloaded: ./zenodo_dl/1176304.zip\n",
      "\n",
      "[info] Paper_idx: 580, Zenodo id: 1176306\n"
     ]
    },
    {
     "name": "stderr",
     "output_type": "stream",
     "text": [
      "1176306.zip: 4.00MB [00:11, 352kB/s] \n"
     ]
    },
    {
     "name": "stdout",
     "output_type": "stream",
     "text": [
      "\n",
      "File successfully downloaded to: ./zenodo_dl/1176306.zip\n",
      "[info] File downloaded: ./zenodo_dl/1176306.zip\n",
      "\n",
      "[info] Paper_idx: 581, Zenodo id: 1176308\n"
     ]
    },
    {
     "name": "stderr",
     "output_type": "stream",
     "text": [
      "1176308.zip: 7.56MB [00:02, 2.74MB/s]\n"
     ]
    },
    {
     "name": "stdout",
     "output_type": "stream",
     "text": [
      "\n",
      "File successfully downloaded to: ./zenodo_dl/1176308.zip\n",
      "[info] File downloaded: ./zenodo_dl/1176308.zip\n",
      "\n",
      "[info] Paper_idx: 582, Zenodo id: 1176310\n"
     ]
    },
    {
     "name": "stderr",
     "output_type": "stream",
     "text": [
      "1176310.zip: 172kB [00:00, 204kB/s]  \n"
     ]
    },
    {
     "name": "stdout",
     "output_type": "stream",
     "text": [
      "\n",
      "File successfully downloaded to: ./zenodo_dl/1176310.zip\n",
      "[info] File downloaded: ./zenodo_dl/1176310.zip\n",
      "\n",
      "[info] Paper_idx: 583, Zenodo id: 1176312\n"
     ]
    },
    {
     "name": "stderr",
     "output_type": "stream",
     "text": [
      "1176312.zip: 9.16MB [00:02, 3.59MB/s]\n"
     ]
    },
    {
     "name": "stdout",
     "output_type": "stream",
     "text": [
      "\n",
      "File successfully downloaded to: ./zenodo_dl/1176312.zip\n",
      "[info] File downloaded: ./zenodo_dl/1176312.zip\n",
      "\n",
      "[info] Paper_idx: 584, Zenodo id: 1176314\n"
     ]
    },
    {
     "name": "stderr",
     "output_type": "stream",
     "text": [
      "1176314.zip: 3.11MB [00:09, 327kB/s] \n"
     ]
    },
    {
     "name": "stdout",
     "output_type": "stream",
     "text": [
      "\n",
      "File successfully downloaded to: ./zenodo_dl/1176314.zip\n",
      "[info] File downloaded: ./zenodo_dl/1176314.zip\n",
      "\n",
      "[info] Paper_idx: 585, Zenodo id: 1176316\n"
     ]
    },
    {
     "name": "stderr",
     "output_type": "stream",
     "text": [
      "1176316.zip: 465kB [00:01, 281kB/s]  \n"
     ]
    },
    {
     "name": "stdout",
     "output_type": "stream",
     "text": [
      "\n",
      "File successfully downloaded to: ./zenodo_dl/1176316.zip\n",
      "[info] File downloaded: ./zenodo_dl/1176316.zip\n",
      "\n",
      "[info] Paper_idx: 586, Zenodo id: 1176318\n"
     ]
    },
    {
     "name": "stderr",
     "output_type": "stream",
     "text": [
      "1176318.zip: 1.15MB [00:03, 318kB/s] \n"
     ]
    },
    {
     "name": "stdout",
     "output_type": "stream",
     "text": [
      "\n",
      "File successfully downloaded to: ./zenodo_dl/1176318.zip\n",
      "[info] File downloaded: ./zenodo_dl/1176318.zip\n",
      "\n",
      "[info] Paper_idx: 587, Zenodo id: 1176320\n"
     ]
    },
    {
     "name": "stderr",
     "output_type": "stream",
     "text": [
      "1176320.zip: 409kB [00:01, 366kB/s]  \n"
     ]
    },
    {
     "name": "stdout",
     "output_type": "stream",
     "text": [
      "\n",
      "File successfully downloaded to: ./zenodo_dl/1176320.zip\n",
      "[info] File downloaded: ./zenodo_dl/1176320.zip\n",
      "\n",
      "[info] Paper_idx: 588, Zenodo id: 1176322\n"
     ]
    },
    {
     "name": "stderr",
     "output_type": "stream",
     "text": [
      "1176322.zip: 2.84MB [00:08, 352kB/s] \n"
     ]
    },
    {
     "name": "stdout",
     "output_type": "stream",
     "text": [
      "\n",
      "File successfully downloaded to: ./zenodo_dl/1176322.zip\n",
      "[info] File downloaded: ./zenodo_dl/1176322.zip\n",
      "\n",
      "[info] Paper_idx: 589, Zenodo id: 1176324\n"
     ]
    },
    {
     "name": "stderr",
     "output_type": "stream",
     "text": [
      "1176324.zip: 10.0MB [00:20, 483kB/s] \n"
     ]
    },
    {
     "name": "stdout",
     "output_type": "stream",
     "text": [
      "\n",
      "File successfully downloaded to: ./zenodo_dl/1176324.zip\n",
      "[info] File downloaded: ./zenodo_dl/1176324.zip\n",
      "\n",
      "[info] Paper_idx: 590, Zenodo id: 1176326\n"
     ]
    },
    {
     "name": "stderr",
     "output_type": "stream",
     "text": [
      "1176326.zip: 1.14MB [00:01, 679kB/s] \n"
     ]
    },
    {
     "name": "stdout",
     "output_type": "stream",
     "text": [
      "\n",
      "File successfully downloaded to: ./zenodo_dl/1176326.zip\n",
      "[info] File downloaded: ./zenodo_dl/1176326.zip\n",
      "\n",
      "[info] Paper_idx: 591, Zenodo id: 1176328\n"
     ]
    },
    {
     "name": "stderr",
     "output_type": "stream",
     "text": [
      "1176328.zip: 7.33MB [00:17, 413kB/s] \n"
     ]
    },
    {
     "name": "stdout",
     "output_type": "stream",
     "text": [
      "\n",
      "File successfully downloaded to: ./zenodo_dl/1176328.zip\n",
      "[info] File downloaded: ./zenodo_dl/1176328.zip\n",
      "\n",
      "[info] Paper_idx: 592, Zenodo id: 1176330\n"
     ]
    },
    {
     "name": "stderr",
     "output_type": "stream",
     "text": [
      "1176330.zip: 189kB [00:00, 221kB/s]  \n"
     ]
    },
    {
     "name": "stdout",
     "output_type": "stream",
     "text": [
      "\n",
      "File successfully downloaded to: ./zenodo_dl/1176330.zip\n",
      "[info] File downloaded: ./zenodo_dl/1176330.zip\n",
      "\n",
      "[info] Paper_idx: 593, Zenodo id: 1176332\n"
     ]
    },
    {
     "name": "stderr",
     "output_type": "stream",
     "text": [
      "1176332.zip: 2.31MB [00:06, 347kB/s] \n"
     ]
    },
    {
     "name": "stdout",
     "output_type": "stream",
     "text": [
      "\n",
      "File successfully downloaded to: ./zenodo_dl/1176332.zip\n",
      "[info] File downloaded: ./zenodo_dl/1176332.zip\n",
      "\n",
      "[info] Paper_idx: 594, Zenodo id: 1176334\n"
     ]
    },
    {
     "name": "stderr",
     "output_type": "stream",
     "text": [
      "1176334.zip: 409kB [00:01, 243kB/s]  \n"
     ]
    },
    {
     "name": "stdout",
     "output_type": "stream",
     "text": [
      "\n",
      "File successfully downloaded to: ./zenodo_dl/1176334.zip\n",
      "[info] File downloaded: ./zenodo_dl/1176334.zip\n",
      "\n",
      "[info] Paper_idx: 595, Zenodo id: 1176336\n"
     ]
    },
    {
     "name": "stderr",
     "output_type": "stream",
     "text": [
      "1176336.zip: 14.7MB [00:39, 368kB/s] \n"
     ]
    },
    {
     "name": "stdout",
     "output_type": "stream",
     "text": [
      "\n",
      "File successfully downloaded to: ./zenodo_dl/1176336.zip\n",
      "[info] File downloaded: ./zenodo_dl/1176336.zip\n",
      "\n",
      "[info] Paper_idx: 596, Zenodo id: 1176338\n"
     ]
    },
    {
     "name": "stderr",
     "output_type": "stream",
     "text": [
      "1176338.zip: 371kB [00:01, 220kB/s]  \n"
     ]
    },
    {
     "name": "stdout",
     "output_type": "stream",
     "text": [
      "\n",
      "File successfully downloaded to: ./zenodo_dl/1176338.zip\n",
      "[info] File downloaded: ./zenodo_dl/1176338.zip\n",
      "\n",
      "[info] Paper_idx: 597, Zenodo id: 1176340\n"
     ]
    },
    {
     "name": "stderr",
     "output_type": "stream",
     "text": [
      "1176340.zip: 2.31MB [00:06, 362kB/s] \n"
     ]
    },
    {
     "name": "stdout",
     "output_type": "stream",
     "text": [
      "\n",
      "File successfully downloaded to: ./zenodo_dl/1176340.zip\n",
      "[info] File downloaded: ./zenodo_dl/1176340.zip\n",
      "\n",
      "[info] Paper_idx: 598, Zenodo id: 1176342\n"
     ]
    },
    {
     "name": "stderr",
     "output_type": "stream",
     "text": [
      "1176342.zip: 1.44MB [00:04, 304kB/s] \n"
     ]
    },
    {
     "name": "stdout",
     "output_type": "stream",
     "text": [
      "\n",
      "File successfully downloaded to: ./zenodo_dl/1176342.zip\n",
      "[info] File downloaded: ./zenodo_dl/1176342.zip\n",
      "\n",
      "[info] Paper_idx: 599, Zenodo id: 1176344\n"
     ]
    },
    {
     "name": "stderr",
     "output_type": "stream",
     "text": [
      "1176344.zip: 123kB [00:00, 149kB/s]  \n"
     ]
    },
    {
     "name": "stdout",
     "output_type": "stream",
     "text": [
      "\n",
      "File successfully downloaded to: ./zenodo_dl/1176344.zip\n",
      "[info] File downloaded: ./zenodo_dl/1176344.zip\n",
      "\n",
      "[info] Paper_idx: 600, Zenodo id: 1176346\n"
     ]
    },
    {
     "name": "stderr",
     "output_type": "stream",
     "text": [
      "1176346.zip: 711kB [00:02, 282kB/s]  \n"
     ]
    },
    {
     "name": "stdout",
     "output_type": "stream",
     "text": [
      "\n",
      "File successfully downloaded to: ./zenodo_dl/1176346.zip\n",
      "[info] File downloaded: ./zenodo_dl/1176346.zip\n",
      "\n",
      "[info] Paper_idx: 601, Zenodo id: 1176348\n"
     ]
    },
    {
     "name": "stderr",
     "output_type": "stream",
     "text": [
      "1176348.zip: 231kB [00:01, 204kB/s]  \n"
     ]
    },
    {
     "name": "stdout",
     "output_type": "stream",
     "text": [
      "\n",
      "File successfully downloaded to: ./zenodo_dl/1176348.zip\n",
      "[info] File downloaded: ./zenodo_dl/1176348.zip\n",
      "\n",
      "[info] Paper_idx: 602, Zenodo id: 1176350\n"
     ]
    },
    {
     "name": "stderr",
     "output_type": "stream",
     "text": [
      "1176350.zip: 78.4kB [00:00, 139kB/s] \n"
     ]
    },
    {
     "name": "stdout",
     "output_type": "stream",
     "text": [
      "\n",
      "File successfully downloaded to: ./zenodo_dl/1176350.zip\n",
      "[info] File downloaded: ./zenodo_dl/1176350.zip\n",
      "\n",
      "[info] Paper_idx: 603, Zenodo id: 1176352\n"
     ]
    },
    {
     "name": "stderr",
     "output_type": "stream",
     "text": [
      "1176352.zip: 2.90MB [00:08, 361kB/s] \n"
     ]
    },
    {
     "name": "stdout",
     "output_type": "stream",
     "text": [
      "\n",
      "File successfully downloaded to: ./zenodo_dl/1176352.zip\n",
      "[info] File downloaded: ./zenodo_dl/1176352.zip\n",
      "\n",
      "[info] Paper_idx: 604, Zenodo id: 1176002\n"
     ]
    },
    {
     "name": "stderr",
     "output_type": "stream",
     "text": [
      "1176002.zip: 3.00MB [00:09, 328kB/s] \n"
     ]
    },
    {
     "name": "stdout",
     "output_type": "stream",
     "text": [
      "\n",
      "File successfully downloaded to: ./zenodo_dl/1176002.zip\n",
      "[info] File downloaded: ./zenodo_dl/1176002.zip\n",
      "\n",
      "[info] Paper_idx: 605, Zenodo id: 3964607\n",
      "Error downloading file: 404 Client Error: NOT FOUND for url: https://zenodo.org/api/records/3964607/files-archive\n",
      "[info] File downloaded: None\n",
      "\n",
      "[info] Paper_idx: 606, Zenodo id: 1176004\n"
     ]
    },
    {
     "name": "stderr",
     "output_type": "stream",
     "text": [
      "1176004.zip: 230kB [00:01, 206kB/s]  \n"
     ]
    },
    {
     "name": "stdout",
     "output_type": "stream",
     "text": [
      "\n",
      "File successfully downloaded to: ./zenodo_dl/1176004.zip\n",
      "[info] File downloaded: ./zenodo_dl/1176004.zip\n",
      "\n",
      "[info] Paper_idx: 607, Zenodo id: 3964599\n",
      "Error downloading file: 404 Client Error: NOT FOUND for url: https://zenodo.org/api/records/3964599/files-archive\n",
      "[info] File downloaded: None\n",
      "\n",
      "[info] Paper_idx: 608, Zenodo id: 1175984\n"
     ]
    },
    {
     "name": "stderr",
     "output_type": "stream",
     "text": [
      "1175984.zip: 1.55MB [00:04, 349kB/s] \n"
     ]
    },
    {
     "name": "stdout",
     "output_type": "stream",
     "text": [
      "\n",
      "File successfully downloaded to: ./zenodo_dl/1175984.zip\n",
      "[info] File downloaded: ./zenodo_dl/1175984.zip\n",
      "\n",
      "[info] Paper_idx: 609, Zenodo id: 3964592\n",
      "Error downloading file: 404 Client Error: NOT FOUND for url: https://zenodo.org/api/records/3964592/files-archive\n",
      "[info] File downloaded: None\n",
      "\n",
      "[info] Paper_idx: 610, Zenodo id: 1175990\n"
     ]
    },
    {
     "name": "stderr",
     "output_type": "stream",
     "text": [
      "1175990.zip: 240kB [00:01, 213kB/s]  \n"
     ]
    },
    {
     "name": "stdout",
     "output_type": "stream",
     "text": [
      "\n",
      "File successfully downloaded to: ./zenodo_dl/1175990.zip\n",
      "[info] File downloaded: ./zenodo_dl/1175990.zip\n",
      "\n",
      "[info] Paper_idx: 611, Zenodo id: 3964611\n"
     ]
    },
    {
     "name": "stderr",
     "output_type": "stream",
     "text": [
      "3964611.zip: 722kB [00:02, 288kB/s]  \n"
     ]
    },
    {
     "name": "stdout",
     "output_type": "stream",
     "text": [
      "\n",
      "File successfully downloaded to: ./zenodo_dl/3964611.zip\n",
      "[info] File downloaded: ./zenodo_dl/3964611.zip\n",
      "\n",
      "[info] Paper_idx: 612, Zenodo id: 1175988\n"
     ]
    },
    {
     "name": "stderr",
     "output_type": "stream",
     "text": [
      "1175988.zip: 995kB [00:03, 276kB/s]  \n"
     ]
    },
    {
     "name": "stdout",
     "output_type": "stream",
     "text": [
      "\n",
      "File successfully downloaded to: ./zenodo_dl/1175988.zip\n",
      "[info] File downloaded: ./zenodo_dl/1175988.zip\n",
      "\n",
      "[info] Paper_idx: 613, Zenodo id: 1176096\n"
     ]
    },
    {
     "name": "stderr",
     "output_type": "stream",
     "text": [
      "1176096.zip: 496kB [00:01, 293kB/s]  \n"
     ]
    },
    {
     "name": "stdout",
     "output_type": "stream",
     "text": [
      "\n",
      "File successfully downloaded to: ./zenodo_dl/1176096.zip\n",
      "[info] File downloaded: ./zenodo_dl/1176096.zip\n",
      "\n",
      "[info] Paper_idx: 614, Zenodo id: 1176127\n"
     ]
    },
    {
     "name": "stderr",
     "output_type": "stream",
     "text": [
      "1176127.zip: 6.54MB [00:06, 1.07MB/s]\n"
     ]
    },
    {
     "name": "stdout",
     "output_type": "stream",
     "text": [
      "\n",
      "File successfully downloaded to: ./zenodo_dl/1176127.zip\n",
      "[info] File downloaded: ./zenodo_dl/1176127.zip\n",
      "\n",
      "[info] Paper_idx: 615, Zenodo id: 1176058\n"
     ]
    },
    {
     "name": "stderr",
     "output_type": "stream",
     "text": [
      "1176058.zip: 6.54MB [00:18, 358kB/s] \n"
     ]
    },
    {
     "name": "stdout",
     "output_type": "stream",
     "text": [
      "\n",
      "File successfully downloaded to: ./zenodo_dl/1176058.zip\n",
      "[info] File downloaded: ./zenodo_dl/1176058.zip\n",
      "\n",
      "[info] Paper_idx: 616, Zenodo id: 1176046\n"
     ]
    },
    {
     "name": "stderr",
     "output_type": "stream",
     "text": [
      "1176046.zip: 20.5MB [00:56, 365kB/s] \n"
     ]
    },
    {
     "name": "stdout",
     "output_type": "stream",
     "text": [
      "\n",
      "File successfully downloaded to: ./zenodo_dl/1176046.zip\n",
      "[info] File downloaded: ./zenodo_dl/1176046.zip\n",
      "\n",
      "[info] Paper_idx: 617, Zenodo id: 1176092\n"
     ]
    },
    {
     "name": "stderr",
     "output_type": "stream",
     "text": [
      "1176092.zip: 5.38MB [00:15, 353kB/s] \n"
     ]
    },
    {
     "name": "stdout",
     "output_type": "stream",
     "text": [
      "\n",
      "File successfully downloaded to: ./zenodo_dl/1176092.zip\n",
      "[info] File downloaded: ./zenodo_dl/1176092.zip\n",
      "\n",
      "[info] Paper_idx: 618, Zenodo id: 1176072\n"
     ]
    },
    {
     "name": "stderr",
     "output_type": "stream",
     "text": [
      "1176072.zip: 6.54MB [00:08, 805kB/s] \n"
     ]
    },
    {
     "name": "stdout",
     "output_type": "stream",
     "text": [
      "\n",
      "File successfully downloaded to: ./zenodo_dl/1176072.zip\n",
      "[info] File downloaded: ./zenodo_dl/1176072.zip\n",
      "\n",
      "[info] Paper_idx: 619, Zenodo id: 1175974\n"
     ]
    },
    {
     "name": "stderr",
     "output_type": "stream",
     "text": [
      "1175974.zip: 2.46MB [00:02, 1.22MB/s]\n"
     ]
    },
    {
     "name": "stdout",
     "output_type": "stream",
     "text": [
      "\n",
      "File successfully downloaded to: ./zenodo_dl/1175974.zip\n",
      "[info] File downloaded: ./zenodo_dl/1175974.zip\n",
      "\n",
      "[info] Paper_idx: 620, Zenodo id: 1175850\n"
     ]
    },
    {
     "name": "stderr",
     "output_type": "stream",
     "text": [
      "1175850.zip: 13.3MB [00:36, 360kB/s] \n"
     ]
    },
    {
     "name": "stdout",
     "output_type": "stream",
     "text": [
      "\n",
      "File successfully downloaded to: ./zenodo_dl/1175850.zip\n",
      "[info] File downloaded: ./zenodo_dl/1175850.zip\n",
      "\n",
      "[info] Paper_idx: 621, Zenodo id: 1176028\n"
     ]
    },
    {
     "name": "stderr",
     "output_type": "stream",
     "text": [
      "1176028.zip: 2.62MB [00:07, 364kB/s] \n"
     ]
    },
    {
     "name": "stdout",
     "output_type": "stream",
     "text": [
      "\n",
      "File successfully downloaded to: ./zenodo_dl/1176028.zip\n",
      "[info] File downloaded: ./zenodo_dl/1176028.zip\n",
      "\n",
      "[info] Paper_idx: 622, Zenodo id: 1176050\n"
     ]
    },
    {
     "name": "stderr",
     "output_type": "stream",
     "text": [
      "1176050.zip: 768kB [00:02, 277kB/s]  \n"
     ]
    },
    {
     "name": "stdout",
     "output_type": "stream",
     "text": [
      "\n",
      "File successfully downloaded to: ./zenodo_dl/1176050.zip\n",
      "[info] File downloaded: ./zenodo_dl/1176050.zip\n",
      "\n",
      "[info] Paper_idx: 623, Zenodo id: 1176100\n"
     ]
    },
    {
     "name": "stderr",
     "output_type": "stream",
     "text": [
      "1176100.zip: 737kB [00:02, 265kB/s]  \n"
     ]
    },
    {
     "name": "stdout",
     "output_type": "stream",
     "text": [
      "\n",
      "File successfully downloaded to: ./zenodo_dl/1176100.zip\n",
      "[info] File downloaded: ./zenodo_dl/1176100.zip\n",
      "\n",
      "[info] Paper_idx: 624, Zenodo id: 1176012\n"
     ]
    },
    {
     "name": "stderr",
     "output_type": "stream",
     "text": [
      "1176012.zip: 3.12MB [00:01, 1.59MB/s]\n"
     ]
    },
    {
     "name": "stdout",
     "output_type": "stream",
     "text": [
      "\n",
      "File successfully downloaded to: ./zenodo_dl/1176012.zip\n",
      "[info] File downloaded: ./zenodo_dl/1176012.zip\n",
      "\n",
      "[info] Paper_idx: 625, Zenodo id: 1176064\n"
     ]
    },
    {
     "name": "stderr",
     "output_type": "stream",
     "text": [
      "1176064.zip: 1.38MB [00:01, 821kB/s] \n"
     ]
    },
    {
     "name": "stdout",
     "output_type": "stream",
     "text": [
      "\n",
      "File successfully downloaded to: ./zenodo_dl/1176064.zip\n",
      "[info] File downloaded: ./zenodo_dl/1176064.zip\n",
      "\n",
      "[info] Paper_idx: 626, Zenodo id: 1175968\n"
     ]
    },
    {
     "name": "stderr",
     "output_type": "stream",
     "text": [
      "1175968.zip: 655kB [00:02, 260kB/s]  \n"
     ]
    },
    {
     "name": "stdout",
     "output_type": "stream",
     "text": [
      "\n",
      "File successfully downloaded to: ./zenodo_dl/1175968.zip\n",
      "[info] File downloaded: ./zenodo_dl/1175968.zip\n",
      "\n",
      "[info] Paper_idx: 627, Zenodo id: 1176034\n"
     ]
    },
    {
     "name": "stderr",
     "output_type": "stream",
     "text": [
      "1176034.zip: 2.03MB [00:01, 1.05MB/s]\n"
     ]
    },
    {
     "name": "stdout",
     "output_type": "stream",
     "text": [
      "\n",
      "File successfully downloaded to: ./zenodo_dl/1176034.zip\n",
      "[info] File downloaded: ./zenodo_dl/1176034.zip\n",
      "\n",
      "[info] Paper_idx: 628, Zenodo id: 1176002\n"
     ]
    },
    {
     "name": "stderr",
     "output_type": "stream",
     "text": [
      "1176002.zip: 3.00MB [00:01, 1.54MB/s]\n"
     ]
    },
    {
     "name": "stdout",
     "output_type": "stream",
     "text": [
      "\n",
      "File successfully downloaded to: ./zenodo_dl/1176002.zip\n",
      "[info] File downloaded: ./zenodo_dl/1176002.zip\n",
      "\n",
      "[info] Paper_idx: 629, Zenodo id: 1175980\n"
     ]
    },
    {
     "name": "stderr",
     "output_type": "stream",
     "text": [
      "1175980.zip: 537kB [00:01, 398kB/s]  \n"
     ]
    },
    {
     "name": "stdout",
     "output_type": "stream",
     "text": [
      "\n",
      "File successfully downloaded to: ./zenodo_dl/1175980.zip\n",
      "[info] File downloaded: ./zenodo_dl/1175980.zip\n",
      "\n",
      "[info] Paper_idx: 630, Zenodo id: 1176062\n"
     ]
    },
    {
     "name": "stderr",
     "output_type": "stream",
     "text": [
      "1176062.zip: 6.10MB [00:17, 356kB/s] \n"
     ]
    },
    {
     "name": "stdout",
     "output_type": "stream",
     "text": [
      "\n",
      "File successfully downloaded to: ./zenodo_dl/1176062.zip\n",
      "[info] File downloaded: ./zenodo_dl/1176062.zip\n",
      "\n",
      "[info] Paper_idx: 631, Zenodo id: 1176118\n"
     ]
    },
    {
     "name": "stderr",
     "output_type": "stream",
     "text": [
      "1176118.zip: 6.30MB [00:02, 2.51MB/s]\n"
     ]
    },
    {
     "name": "stdout",
     "output_type": "stream",
     "text": [
      "\n",
      "File successfully downloaded to: ./zenodo_dl/1176118.zip\n",
      "[info] File downloaded: ./zenodo_dl/1176118.zip\n",
      "\n",
      "[info] Paper_idx: 632, Zenodo id: 1176054\n"
     ]
    },
    {
     "name": "stderr",
     "output_type": "stream",
     "text": [
      "1176054.zip: 10.3MB [00:03, 3.08MB/s]\n"
     ]
    },
    {
     "name": "stdout",
     "output_type": "stream",
     "text": [
      "\n",
      "File successfully downloaded to: ./zenodo_dl/1176054.zip\n",
      "[info] File downloaded: ./zenodo_dl/1176054.zip\n",
      "\n",
      "[info] Paper_idx: 633, Zenodo id: 1176074\n"
     ]
    },
    {
     "name": "stderr",
     "output_type": "stream",
     "text": [
      "1176074.zip: 3.99MB [00:02, 1.46MB/s]\n"
     ]
    },
    {
     "name": "stdout",
     "output_type": "stream",
     "text": [
      "\n",
      "File successfully downloaded to: ./zenodo_dl/1176074.zip\n",
      "[info] File downloaded: ./zenodo_dl/1176074.zip\n",
      "\n",
      "[info] Paper_idx: 634, Zenodo id: 1176086\n"
     ]
    },
    {
     "name": "stderr",
     "output_type": "stream",
     "text": [
      "1176086.zip: 448kB [00:01, 269kB/s]  \n"
     ]
    },
    {
     "name": "stdout",
     "output_type": "stream",
     "text": [
      "\n",
      "File successfully downloaded to: ./zenodo_dl/1176086.zip\n",
      "[info] File downloaded: ./zenodo_dl/1176086.zip\n",
      "\n",
      "[info] Paper_idx: 635, Zenodo id: 1176135\n"
     ]
    },
    {
     "name": "stderr",
     "output_type": "stream",
     "text": [
      "1176135.zip: 799kB [00:01, 574kB/s]  \n"
     ]
    },
    {
     "name": "stdout",
     "output_type": "stream",
     "text": [
      "\n",
      "File successfully downloaded to: ./zenodo_dl/1176135.zip\n",
      "[info] File downloaded: ./zenodo_dl/1176135.zip\n",
      "\n",
      "[info] Paper_idx: 636, Zenodo id: 1176122\n"
     ]
    },
    {
     "name": "stderr",
     "output_type": "stream",
     "text": [
      "1176122.zip: 234kB [00:01, 219kB/s]  \n"
     ]
    },
    {
     "name": "stdout",
     "output_type": "stream",
     "text": [
      "\n",
      "File successfully downloaded to: ./zenodo_dl/1176122.zip\n",
      "[info] File downloaded: ./zenodo_dl/1176122.zip\n",
      "\n",
      "[info] Paper_idx: 637, Zenodo id: 1176110\n"
     ]
    },
    {
     "name": "stderr",
     "output_type": "stream",
     "text": [
      "1176110.zip: 11.5MB [00:03, 3.71MB/s]\n"
     ]
    },
    {
     "name": "stdout",
     "output_type": "stream",
     "text": [
      "\n",
      "File successfully downloaded to: ./zenodo_dl/1176110.zip\n",
      "[info] File downloaded: ./zenodo_dl/1176110.zip\n",
      "\n",
      "[info] Paper_idx: 638, Zenodo id: 1176052\n"
     ]
    },
    {
     "name": "stderr",
     "output_type": "stream",
     "text": [
      "1176052.zip: 9.17MB [00:25, 364kB/s] \n"
     ]
    },
    {
     "name": "stdout",
     "output_type": "stream",
     "text": [
      "\n",
      "File successfully downloaded to: ./zenodo_dl/1176052.zip\n",
      "[info] File downloaded: ./zenodo_dl/1176052.zip\n",
      "\n",
      "[info] Paper_idx: 639, Zenodo id: 1176090\n"
     ]
    },
    {
     "name": "stderr",
     "output_type": "stream",
     "text": [
      "1176090.zip: 6.41MB [00:18, 356kB/s] \n"
     ]
    },
    {
     "name": "stdout",
     "output_type": "stream",
     "text": [
      "\n",
      "File successfully downloaded to: ./zenodo_dl/1176090.zip\n",
      "[info] File downloaded: ./zenodo_dl/1176090.zip\n",
      "\n",
      "[info] Paper_idx: 640, Zenodo id: 1176084\n"
     ]
    },
    {
     "name": "stderr",
     "output_type": "stream",
     "text": [
      "1176084.zip: 5.39MB [00:02, 2.16MB/s]\n"
     ]
    },
    {
     "name": "stdout",
     "output_type": "stream",
     "text": [
      "\n",
      "File successfully downloaded to: ./zenodo_dl/1176084.zip\n",
      "[info] File downloaded: ./zenodo_dl/1176084.zip\n",
      "\n",
      "[info] Paper_idx: 641, Zenodo id: 1176147\n"
     ]
    },
    {
     "name": "stderr",
     "output_type": "stream",
     "text": [
      "1176147.zip: 2.15MB [00:01, 1.14MB/s]\n"
     ]
    },
    {
     "name": "stdout",
     "output_type": "stream",
     "text": [
      "\n",
      "File successfully downloaded to: ./zenodo_dl/1176147.zip\n",
      "[info] File downloaded: ./zenodo_dl/1176147.zip\n",
      "\n",
      "[info] Paper_idx: 642, Zenodo id: 1176008\n"
     ]
    },
    {
     "name": "stderr",
     "output_type": "stream",
     "text": [
      "1176008.zip: 721kB [00:01, 430kB/s]  \n"
     ]
    },
    {
     "name": "stdout",
     "output_type": "stream",
     "text": [
      "\n",
      "File successfully downloaded to: ./zenodo_dl/1176008.zip\n",
      "[info] File downloaded: ./zenodo_dl/1176008.zip\n",
      "\n",
      "[info] Paper_idx: 643, Zenodo id: 1176141\n"
     ]
    },
    {
     "name": "stderr",
     "output_type": "stream",
     "text": [
      "1176141.zip: 6.54MB [00:02, 2.53MB/s]\n"
     ]
    },
    {
     "name": "stdout",
     "output_type": "stream",
     "text": [
      "\n",
      "File successfully downloaded to: ./zenodo_dl/1176141.zip\n",
      "[info] File downloaded: ./zenodo_dl/1176141.zip\n",
      "\n",
      "[info] Paper_idx: 644, Zenodo id: 1175972\n"
     ]
    },
    {
     "name": "stderr",
     "output_type": "stream",
     "text": [
      "1175972.zip: 862kB [00:01, 618kB/s]  \n"
     ]
    },
    {
     "name": "stdout",
     "output_type": "stream",
     "text": [
      "\n",
      "File successfully downloaded to: ./zenodo_dl/1175972.zip\n",
      "[info] File downloaded: ./zenodo_dl/1175972.zip\n",
      "\n",
      "[info] Paper_idx: 645, Zenodo id: 1175978\n"
     ]
    },
    {
     "name": "stderr",
     "output_type": "stream",
     "text": [
      "1175978.zip: 11.9MB [00:03, 3.85MB/s]\n"
     ]
    },
    {
     "name": "stdout",
     "output_type": "stream",
     "text": [
      "\n",
      "File successfully downloaded to: ./zenodo_dl/1175978.zip\n",
      "[info] File downloaded: ./zenodo_dl/1175978.zip\n",
      "\n",
      "[info] Paper_idx: 646, Zenodo id: 1175994\n"
     ]
    },
    {
     "name": "stderr",
     "output_type": "stream",
     "text": [
      "1175994.zip: 492kB [00:01, 434kB/s]  \n"
     ]
    },
    {
     "name": "stdout",
     "output_type": "stream",
     "text": [
      "\n",
      "File successfully downloaded to: ./zenodo_dl/1175994.zip\n",
      "[info] File downloaded: ./zenodo_dl/1175994.zip\n",
      "\n",
      "[info] Paper_idx: 647, Zenodo id: 1176143\n"
     ]
    },
    {
     "name": "stderr",
     "output_type": "stream",
     "text": [
      "1176143.zip: 626kB [00:01, 448kB/s]  \n"
     ]
    },
    {
     "name": "stdout",
     "output_type": "stream",
     "text": [
      "\n",
      "File successfully downloaded to: ./zenodo_dl/1176143.zip\n",
      "[info] File downloaded: ./zenodo_dl/1176143.zip\n",
      "\n",
      "[info] Paper_idx: 648, Zenodo id: 1176060\n"
     ]
    },
    {
     "name": "stderr",
     "output_type": "stream",
     "text": [
      "1176060.zip: 1.25MB [00:03, 315kB/s] \n"
     ]
    },
    {
     "name": "stdout",
     "output_type": "stream",
     "text": [
      "\n",
      "File successfully downloaded to: ./zenodo_dl/1176060.zip\n",
      "[info] File downloaded: ./zenodo_dl/1176060.zip\n",
      "\n",
      "[info] Paper_idx: 649, Zenodo id: 1176042\n"
     ]
    },
    {
     "name": "stderr",
     "output_type": "stream",
     "text": [
      "1176042.zip: 26.4MB [00:06, 4.13MB/s]\n"
     ]
    },
    {
     "name": "stdout",
     "output_type": "stream",
     "text": [
      "\n",
      "File successfully downloaded to: ./zenodo_dl/1176042.zip\n",
      "[info] File downloaded: ./zenodo_dl/1176042.zip\n",
      "\n",
      "[info] Paper_idx: 650, Zenodo id: 1176088\n"
     ]
    },
    {
     "name": "stderr",
     "output_type": "stream",
     "text": [
      "1176088.zip: 4.98MB [00:02, 2.23MB/s]\n"
     ]
    },
    {
     "name": "stdout",
     "output_type": "stream",
     "text": [
      "\n",
      "File successfully downloaded to: ./zenodo_dl/1176088.zip\n",
      "[info] File downloaded: ./zenodo_dl/1176088.zip\n",
      "\n",
      "[info] Paper_idx: 651, Zenodo id: 1176022\n"
     ]
    },
    {
     "name": "stderr",
     "output_type": "stream",
     "text": [
      "1176022.zip: 2.86MB [00:01, 1.46MB/s]\n"
     ]
    },
    {
     "name": "stdout",
     "output_type": "stream",
     "text": [
      "\n",
      "File successfully downloaded to: ./zenodo_dl/1176022.zip\n",
      "[info] File downloaded: ./zenodo_dl/1176022.zip\n",
      "\n",
      "[info] Paper_idx: 652, Zenodo id: 1176078\n"
     ]
    },
    {
     "name": "stderr",
     "output_type": "stream",
     "text": [
      "1176078.zip: 3.33MB [00:04, 774kB/s] \n"
     ]
    },
    {
     "name": "stdout",
     "output_type": "stream",
     "text": [
      "\n",
      "File successfully downloaded to: ./zenodo_dl/1176078.zip\n",
      "[info] File downloaded: ./zenodo_dl/1176078.zip\n",
      "\n",
      "[info] Paper_idx: 653, Zenodo id: 1176038\n"
     ]
    },
    {
     "name": "stderr",
     "output_type": "stream",
     "text": [
      "1176038.zip: 721kB [00:01, 514kB/s]  \n"
     ]
    },
    {
     "name": "stdout",
     "output_type": "stream",
     "text": [
      "\n",
      "File successfully downloaded to: ./zenodo_dl/1176038.zip\n",
      "[info] File downloaded: ./zenodo_dl/1176038.zip\n",
      "\n",
      "[info] Paper_idx: 654, Zenodo id: 1176080\n"
     ]
    },
    {
     "name": "stderr",
     "output_type": "stream",
     "text": [
      "1176080.zip: 5.42MB [00:02, 2.19MB/s]\n"
     ]
    },
    {
     "name": "stdout",
     "output_type": "stream",
     "text": [
      "\n",
      "File successfully downloaded to: ./zenodo_dl/1176080.zip\n",
      "[info] File downloaded: ./zenodo_dl/1176080.zip\n",
      "\n",
      "[info] Paper_idx: 655, Zenodo id: 1176024\n"
     ]
    },
    {
     "name": "stderr",
     "output_type": "stream",
     "text": [
      "1176024.zip: 584kB [00:01, 419kB/s]  \n"
     ]
    },
    {
     "name": "stdout",
     "output_type": "stream",
     "text": [
      "\n",
      "File successfully downloaded to: ./zenodo_dl/1176024.zip\n",
      "[info] File downloaded: ./zenodo_dl/1176024.zip\n",
      "\n",
      "[info] Paper_idx: 656, Zenodo id: 1176145\n"
     ]
    },
    {
     "name": "stderr",
     "output_type": "stream",
     "text": [
      "1176145.zip: 4.27MB [00:02, 1.97MB/s]\n"
     ]
    },
    {
     "name": "stdout",
     "output_type": "stream",
     "text": [
      "\n",
      "File successfully downloaded to: ./zenodo_dl/1176145.zip\n",
      "[info] File downloaded: ./zenodo_dl/1176145.zip\n",
      "\n",
      "[info] Paper_idx: 657, Zenodo id: 1176139\n"
     ]
    },
    {
     "name": "stderr",
     "output_type": "stream",
     "text": [
      "1176139.zip: 887kB [00:01, 636kB/s]  \n"
     ]
    },
    {
     "name": "stdout",
     "output_type": "stream",
     "text": [
      "\n",
      "File successfully downloaded to: ./zenodo_dl/1176139.zip\n",
      "[info] File downloaded: ./zenodo_dl/1176139.zip\n",
      "\n",
      "[info] Paper_idx: 658, Zenodo id: 1176098\n"
     ]
    },
    {
     "name": "stderr",
     "output_type": "stream",
     "text": [
      "1176098.zip: 336kB [00:01, 276kB/s]  \n"
     ]
    },
    {
     "name": "stdout",
     "output_type": "stream",
     "text": [
      "\n",
      "File successfully downloaded to: ./zenodo_dl/1176098.zip\n",
      "[info] File downloaded: ./zenodo_dl/1176098.zip\n",
      "\n",
      "[info] Paper_idx: 659, Zenodo id: 1175992\n"
     ]
    },
    {
     "name": "stderr",
     "output_type": "stream",
     "text": [
      "1175992.zip: 2.95MB [00:07, 380kB/s] \n"
     ]
    },
    {
     "name": "stdout",
     "output_type": "stream",
     "text": [
      "\n",
      "File successfully downloaded to: ./zenodo_dl/1175992.zip\n",
      "[info] File downloaded: ./zenodo_dl/1175992.zip\n",
      "\n",
      "[info] Paper_idx: 660, Zenodo id: 1176014\n"
     ]
    },
    {
     "name": "stderr",
     "output_type": "stream",
     "text": [
      "1176014.zip: 2.15MB [00:01, 1.12MB/s]\n"
     ]
    },
    {
     "name": "stdout",
     "output_type": "stream",
     "text": [
      "\n",
      "File successfully downloaded to: ./zenodo_dl/1176014.zip\n",
      "[info] File downloaded: ./zenodo_dl/1176014.zip\n",
      "\n",
      "[info] Paper_idx: 661, Zenodo id: 1176030\n"
     ]
    },
    {
     "name": "stderr",
     "output_type": "stream",
     "text": [
      "1176030.zip: 1.28MB [00:04, 304kB/s] \n"
     ]
    },
    {
     "name": "stdout",
     "output_type": "stream",
     "text": [
      "\n",
      "File successfully downloaded to: ./zenodo_dl/1176030.zip\n",
      "[info] File downloaded: ./zenodo_dl/1176030.zip\n",
      "\n",
      "[info] Paper_idx: 662, Zenodo id: 1176108\n"
     ]
    },
    {
     "name": "stderr",
     "output_type": "stream",
     "text": [
      "1176108.zip: 826kB [00:03, 271kB/s]  \n"
     ]
    },
    {
     "name": "stdout",
     "output_type": "stream",
     "text": [
      "\n",
      "File successfully downloaded to: ./zenodo_dl/1176108.zip\n",
      "[info] File downloaded: ./zenodo_dl/1176108.zip\n",
      "\n",
      "[info] Paper_idx: 663, Zenodo id: 1176000\n"
     ]
    },
    {
     "name": "stderr",
     "output_type": "stream",
     "text": [
      "1176000.zip: 2.15MB [00:01, 1.12MB/s]\n"
     ]
    },
    {
     "name": "stdout",
     "output_type": "stream",
     "text": [
      "\n",
      "File successfully downloaded to: ./zenodo_dl/1176000.zip\n",
      "[info] File downloaded: ./zenodo_dl/1176000.zip\n",
      "\n",
      "[info] Paper_idx: 664, Zenodo id: 1176018\n"
     ]
    },
    {
     "name": "stderr",
     "output_type": "stream",
     "text": [
      "1176018.zip: 498kB [00:01, 441kB/s]  \n"
     ]
    },
    {
     "name": "stdout",
     "output_type": "stream",
     "text": [
      "\n",
      "File successfully downloaded to: ./zenodo_dl/1176018.zip\n",
      "[info] File downloaded: ./zenodo_dl/1176018.zip\n",
      "\n",
      "[info] Paper_idx: 665, Zenodo id: 1176137\n"
     ]
    },
    {
     "name": "stderr",
     "output_type": "stream",
     "text": [
      "1176137.zip: 5.01MB [00:02, 2.04MB/s]\n"
     ]
    },
    {
     "name": "stdout",
     "output_type": "stream",
     "text": [
      "\n",
      "File successfully downloaded to: ./zenodo_dl/1176137.zip\n",
      "[info] File downloaded: ./zenodo_dl/1176137.zip\n",
      "\n",
      "[info] Paper_idx: 666, Zenodo id: 1176036\n"
     ]
    },
    {
     "name": "stderr",
     "output_type": "stream",
     "text": [
      "1176036.zip: 332kB [00:01, 263kB/s]  \n"
     ]
    },
    {
     "name": "stdout",
     "output_type": "stream",
     "text": [
      "\n",
      "File successfully downloaded to: ./zenodo_dl/1176036.zip\n",
      "[info] File downloaded: ./zenodo_dl/1176036.zip\n",
      "\n",
      "[info] Paper_idx: 667, Zenodo id: 1176112\n"
     ]
    },
    {
     "name": "stderr",
     "output_type": "stream",
     "text": [
      "1176112.zip: 4.95MB [00:13, 357kB/s] \n"
     ]
    },
    {
     "name": "stdout",
     "output_type": "stream",
     "text": [
      "\n",
      "File successfully downloaded to: ./zenodo_dl/1176112.zip\n",
      "[info] File downloaded: ./zenodo_dl/1176112.zip\n",
      "\n",
      "[info] Paper_idx: 668, Zenodo id: 1176056\n"
     ]
    },
    {
     "name": "stderr",
     "output_type": "stream",
     "text": [
      "1176056.zip: 368kB [00:01, 264kB/s]  \n"
     ]
    },
    {
     "name": "stdout",
     "output_type": "stream",
     "text": [
      "\n",
      "File successfully downloaded to: ./zenodo_dl/1176056.zip\n",
      "[info] File downloaded: ./zenodo_dl/1176056.zip\n",
      "\n",
      "[info] Paper_idx: 669, Zenodo id: 1175982\n"
     ]
    },
    {
     "name": "stderr",
     "output_type": "stream",
     "text": [
      "1175982.zip: 1.72MB [00:01, 1.03MB/s]\n"
     ]
    },
    {
     "name": "stdout",
     "output_type": "stream",
     "text": [
      "\n",
      "File successfully downloaded to: ./zenodo_dl/1175982.zip\n",
      "[info] File downloaded: ./zenodo_dl/1175982.zip\n",
      "\n",
      "[info] Paper_idx: 670, Zenodo id: 1176102\n"
     ]
    },
    {
     "name": "stderr",
     "output_type": "stream",
     "text": [
      "1176102.zip: 2.32MB [00:06, 334kB/s] \n"
     ]
    },
    {
     "name": "stdout",
     "output_type": "stream",
     "text": [
      "\n",
      "File successfully downloaded to: ./zenodo_dl/1176102.zip\n",
      "[info] File downloaded: ./zenodo_dl/1176102.zip\n",
      "\n",
      "[info] Paper_idx: 671, Zenodo id: 1176066\n"
     ]
    },
    {
     "name": "stderr",
     "output_type": "stream",
     "text": [
      "1176066.zip: 8.43MB [00:23, 354kB/s] \n"
     ]
    },
    {
     "name": "stdout",
     "output_type": "stream",
     "text": [
      "\n",
      "File successfully downloaded to: ./zenodo_dl/1176066.zip\n",
      "[info] File downloaded: ./zenodo_dl/1176066.zip\n",
      "\n",
      "[info] Paper_idx: 672, Zenodo id: 1176020\n"
     ]
    },
    {
     "name": "stderr",
     "output_type": "stream",
     "text": [
      "1176020.zip: 470kB [00:01, 407kB/s]  \n"
     ]
    },
    {
     "name": "stdout",
     "output_type": "stream",
     "text": [
      "\n",
      "File successfully downloaded to: ./zenodo_dl/1176020.zip\n",
      "[info] File downloaded: ./zenodo_dl/1176020.zip\n",
      "\n",
      "[info] Paper_idx: 673, Zenodo id: 1176114\n"
     ]
    },
    {
     "name": "stderr",
     "output_type": "stream",
     "text": [
      "1176114.zip: 994kB [00:03, 323kB/s]  \n"
     ]
    },
    {
     "name": "stdout",
     "output_type": "stream",
     "text": [
      "\n",
      "File successfully downloaded to: ./zenodo_dl/1176114.zip\n",
      "[info] File downloaded: ./zenodo_dl/1176114.zip\n",
      "\n",
      "[info] Paper_idx: 674, Zenodo id: 1176026\n"
     ]
    },
    {
     "name": "stderr",
     "output_type": "stream",
     "text": [
      "1176026.zip: 1.21MB [00:01, 714kB/s] \n"
     ]
    },
    {
     "name": "stdout",
     "output_type": "stream",
     "text": [
      "\n",
      "File successfully downloaded to: ./zenodo_dl/1176026.zip\n",
      "[info] File downloaded: ./zenodo_dl/1176026.zip\n",
      "\n",
      "[info] Paper_idx: 675, Zenodo id: 1176048\n"
     ]
    },
    {
     "name": "stderr",
     "output_type": "stream",
     "text": [
      "1176048.zip: 241kB [00:01, 227kB/s]  \n"
     ]
    },
    {
     "name": "stdout",
     "output_type": "stream",
     "text": [
      "\n",
      "File successfully downloaded to: ./zenodo_dl/1176048.zip\n",
      "[info] File downloaded: ./zenodo_dl/1176048.zip\n",
      "\n",
      "[info] Paper_idx: 676, Zenodo id: 1175998\n"
     ]
    },
    {
     "name": "stderr",
     "output_type": "stream",
     "text": [
      "1175998.zip: 84.2kB [00:00, 152kB/s] \n"
     ]
    },
    {
     "name": "stdout",
     "output_type": "stream",
     "text": [
      "\n",
      "File successfully downloaded to: ./zenodo_dl/1175998.zip\n",
      "[info] File downloaded: ./zenodo_dl/1175998.zip\n",
      "\n",
      "[info] Paper_idx: 677, Zenodo id: 1176016\n"
     ]
    },
    {
     "name": "stderr",
     "output_type": "stream",
     "text": [
      "1176016.zip: 250kB [00:01, 227kB/s]  \n"
     ]
    },
    {
     "name": "stdout",
     "output_type": "stream",
     "text": [
      "\n",
      "File successfully downloaded to: ./zenodo_dl/1176016.zip\n",
      "[info] File downloaded: ./zenodo_dl/1176016.zip\n",
      "\n",
      "[info] Paper_idx: 678, Zenodo id: 1176032\n"
     ]
    },
    {
     "name": "stderr",
     "output_type": "stream",
     "text": [
      "1176032.zip: 158kB [00:00, 186kB/s]  \n"
     ]
    },
    {
     "name": "stdout",
     "output_type": "stream",
     "text": [
      "\n",
      "File successfully downloaded to: ./zenodo_dl/1176032.zip\n",
      "[info] File downloaded: ./zenodo_dl/1176032.zip\n",
      "\n",
      "[info] Paper_idx: 679, Zenodo id: 1176006\n"
     ]
    },
    {
     "name": "stderr",
     "output_type": "stream",
     "text": [
      "1176006.zip: 174kB [00:00, 204kB/s]  \n"
     ]
    },
    {
     "name": "stdout",
     "output_type": "stream",
     "text": [
      "\n",
      "File successfully downloaded to: ./zenodo_dl/1176006.zip\n",
      "[info] File downloaded: ./zenodo_dl/1176006.zip\n",
      "\n",
      "[info] Paper_idx: 680, Zenodo id: 1176094\n"
     ]
    },
    {
     "name": "stderr",
     "output_type": "stream",
     "text": [
      "1176094.zip: 397kB [00:01, 288kB/s]  \n"
     ]
    },
    {
     "name": "stdout",
     "output_type": "stream",
     "text": [
      "\n",
      "File successfully downloaded to: ./zenodo_dl/1176094.zip\n",
      "[info] File downloaded: ./zenodo_dl/1176094.zip\n",
      "\n",
      "[info] Paper_idx: 681, Zenodo id: 1176082\n"
     ]
    },
    {
     "name": "stderr",
     "output_type": "stream",
     "text": [
      "1176082.zip: 4.03MB [00:02, 1.61MB/s]\n"
     ]
    },
    {
     "name": "stdout",
     "output_type": "stream",
     "text": [
      "\n",
      "File successfully downloaded to: ./zenodo_dl/1176082.zip\n",
      "[info] File downloaded: ./zenodo_dl/1176082.zip\n",
      "\n",
      "[info] Paper_idx: 682, Zenodo id: 1176133\n"
     ]
    },
    {
     "name": "stderr",
     "output_type": "stream",
     "text": [
      "1176133.zip: 7.74MB [00:03, 2.55MB/s]\n"
     ]
    },
    {
     "name": "stdout",
     "output_type": "stream",
     "text": [
      "\n",
      "File successfully downloaded to: ./zenodo_dl/1176133.zip\n",
      "[info] File downloaded: ./zenodo_dl/1176133.zip\n",
      "\n",
      "[info] Paper_idx: 683, Zenodo id: 1176040\n"
     ]
    },
    {
     "name": "stderr",
     "output_type": "stream",
     "text": [
      "1176040.zip: 6.57MB [00:02, 2.62MB/s]\n"
     ]
    },
    {
     "name": "stdout",
     "output_type": "stream",
     "text": [
      "\n",
      "File successfully downloaded to: ./zenodo_dl/1176040.zip\n",
      "[info] File downloaded: ./zenodo_dl/1176040.zip\n",
      "\n",
      "[info] Paper_idx: 684, Zenodo id: 1176116\n"
     ]
    },
    {
     "name": "stderr",
     "output_type": "stream",
     "text": [
      "1176116.zip: 1.68MB [00:01, 998kB/s] \n"
     ]
    },
    {
     "name": "stdout",
     "output_type": "stream",
     "text": [
      "\n",
      "File successfully downloaded to: ./zenodo_dl/1176116.zip\n",
      "[info] File downloaded: ./zenodo_dl/1176116.zip\n",
      "\n",
      "[info] Paper_idx: 685, Zenodo id: 1176129\n"
     ]
    },
    {
     "name": "stderr",
     "output_type": "stream",
     "text": [
      "1176129.zip: 3.18MB [00:09, 348kB/s] \n"
     ]
    },
    {
     "name": "stdout",
     "output_type": "stream",
     "text": [
      "\n",
      "File successfully downloaded to: ./zenodo_dl/1176129.zip\n",
      "[info] File downloaded: ./zenodo_dl/1176129.zip\n",
      "\n",
      "[info] Paper_idx: 686, Zenodo id: 1176106\n"
     ]
    },
    {
     "name": "stderr",
     "output_type": "stream",
     "text": [
      "1176106.zip: 3.20MB [00:01, 1.64MB/s]\n"
     ]
    },
    {
     "name": "stdout",
     "output_type": "stream",
     "text": [
      "\n",
      "File successfully downloaded to: ./zenodo_dl/1176106.zip\n",
      "[info] File downloaded: ./zenodo_dl/1176106.zip\n",
      "\n",
      "[info] Paper_idx: 687, Zenodo id: 1176104\n"
     ]
    },
    {
     "name": "stderr",
     "output_type": "stream",
     "text": [
      "1176104.zip: 49.4kB [00:00, 91.6kB/s]\n"
     ]
    },
    {
     "name": "stdout",
     "output_type": "stream",
     "text": [
      "\n",
      "File successfully downloaded to: ./zenodo_dl/1176104.zip\n",
      "[info] File downloaded: ./zenodo_dl/1176104.zip\n",
      "\n",
      "[info] Paper_idx: 688, Zenodo id: 1176120\n"
     ]
    },
    {
     "name": "stderr",
     "output_type": "stream",
     "text": [
      "1176120.zip: 945kB [00:02, 425kB/s]  \n"
     ]
    },
    {
     "name": "stdout",
     "output_type": "stream",
     "text": [
      "\n",
      "File successfully downloaded to: ./zenodo_dl/1176120.zip\n",
      "[info] File downloaded: ./zenodo_dl/1176120.zip\n",
      "\n",
      "[info] Paper_idx: 689, Zenodo id: 1175996\n"
     ]
    },
    {
     "name": "stderr",
     "output_type": "stream",
     "text": [
      "1175996.zip: 2.18MB [00:06, 356kB/s] \n"
     ]
    },
    {
     "name": "stdout",
     "output_type": "stream",
     "text": [
      "\n",
      "File successfully downloaded to: ./zenodo_dl/1175996.zip\n",
      "[info] File downloaded: ./zenodo_dl/1175996.zip\n",
      "\n",
      "[info] Paper_idx: 690, Zenodo id: 1176044\n"
     ]
    },
    {
     "name": "stderr",
     "output_type": "stream",
     "text": [
      "1176044.zip: 163kB [00:00, 196kB/s]  \n"
     ]
    },
    {
     "name": "stdout",
     "output_type": "stream",
     "text": [
      "\n",
      "File successfully downloaded to: ./zenodo_dl/1176044.zip\n",
      "[info] File downloaded: ./zenodo_dl/1176044.zip\n",
      "\n",
      "[info] Paper_idx: 691, Zenodo id: 1176131\n"
     ]
    },
    {
     "name": "stderr",
     "output_type": "stream",
     "text": [
      "1176131.zip: 3.22MB [00:09, 353kB/s] \n"
     ]
    },
    {
     "name": "stdout",
     "output_type": "stream",
     "text": [
      "\n",
      "File successfully downloaded to: ./zenodo_dl/1176131.zip\n",
      "[info] File downloaded: ./zenodo_dl/1176131.zip\n",
      "\n",
      "[info] Paper_idx: 692, Zenodo id: 1179110\n"
     ]
    },
    {
     "name": "stderr",
     "output_type": "stream",
     "text": [
      "1179110.zip: 877kB [00:01, 520kB/s]  \n"
     ]
    },
    {
     "name": "stdout",
     "output_type": "stream",
     "text": [
      "\n",
      "File successfully downloaded to: ./zenodo_dl/1179110.zip\n",
      "[info] File downloaded: ./zenodo_dl/1179110.zip\n",
      "\n",
      "[info] Paper_idx: 693, Zenodo id: 1179002\n"
     ]
    },
    {
     "name": "stderr",
     "output_type": "stream",
     "text": [
      "1179002.zip: 3.44MB [00:02, 1.36MB/s]\n"
     ]
    },
    {
     "name": "stdout",
     "output_type": "stream",
     "text": [
      "\n",
      "File successfully downloaded to: ./zenodo_dl/1179002.zip\n",
      "[info] File downloaded: ./zenodo_dl/1179002.zip\n",
      "\n",
      "[info] Paper_idx: 694, Zenodo id: 1179172\n"
     ]
    },
    {
     "name": "stderr",
     "output_type": "stream",
     "text": [
      "1179172.zip: 1.77MB [00:01, 1.06MB/s]\n"
     ]
    },
    {
     "name": "stdout",
     "output_type": "stream",
     "text": [
      "\n",
      "File successfully downloaded to: ./zenodo_dl/1179172.zip\n",
      "[info] File downloaded: ./zenodo_dl/1179172.zip\n",
      "\n",
      "[info] Paper_idx: 695, Zenodo id: 1179152\n"
     ]
    },
    {
     "name": "stderr",
     "output_type": "stream",
     "text": [
      "1179152.zip: 3.12MB [00:09, 342kB/s] \n"
     ]
    },
    {
     "name": "stdout",
     "output_type": "stream",
     "text": [
      "\n",
      "File successfully downloaded to: ./zenodo_dl/1179152.zip\n",
      "[info] File downloaded: ./zenodo_dl/1179152.zip\n",
      "\n",
      "[info] Paper_idx: 696, Zenodo id: 1179158\n"
     ]
    },
    {
     "name": "stderr",
     "output_type": "stream",
     "text": [
      "1179158.zip: 1.75MB [00:05, 331kB/s] \n"
     ]
    },
    {
     "name": "stdout",
     "output_type": "stream",
     "text": [
      "\n",
      "File successfully downloaded to: ./zenodo_dl/1179158.zip\n",
      "[info] File downloaded: ./zenodo_dl/1179158.zip\n",
      "\n",
      "[info] Paper_idx: 697, Zenodo id: 1181414\n"
     ]
    },
    {
     "name": "stderr",
     "output_type": "stream",
     "text": [
      "1181414.zip: 4.57MB [00:13, 344kB/s] \n"
     ]
    },
    {
     "name": "stdout",
     "output_type": "stream",
     "text": [
      "\n",
      "File successfully downloaded to: ./zenodo_dl/1181414.zip\n",
      "[info] File downloaded: ./zenodo_dl/1181414.zip\n",
      "\n",
      "[info] Paper_idx: 698, Zenodo id: 1179182\n"
     ]
    },
    {
     "name": "stderr",
     "output_type": "stream",
     "text": [
      "1179182.zip: 5.62MB [00:16, 350kB/s] \n"
     ]
    },
    {
     "name": "stdout",
     "output_type": "stream",
     "text": [
      "\n",
      "File successfully downloaded to: ./zenodo_dl/1179182.zip\n",
      "[info] File downloaded: ./zenodo_dl/1179182.zip\n",
      "\n",
      "[info] Paper_idx: 699, Zenodo id: 1179120\n"
     ]
    },
    {
     "name": "stderr",
     "output_type": "stream",
     "text": [
      "1179120.zip: 5.74MB [00:02, 2.56MB/s]\n"
     ]
    },
    {
     "name": "stdout",
     "output_type": "stream",
     "text": [
      "\n",
      "File successfully downloaded to: ./zenodo_dl/1179120.zip\n",
      "[info] File downloaded: ./zenodo_dl/1179120.zip\n",
      "\n",
      "[info] Paper_idx: 700, Zenodo id: 1179166\n"
     ]
    },
    {
     "name": "stderr",
     "output_type": "stream",
     "text": [
      "1179166.zip: 2.33MB [00:06, 350kB/s] \n"
     ]
    },
    {
     "name": "stdout",
     "output_type": "stream",
     "text": [
      "\n",
      "File successfully downloaded to: ./zenodo_dl/1179166.zip\n",
      "[info] File downloaded: ./zenodo_dl/1179166.zip\n",
      "\n",
      "[info] Paper_idx: 701, Zenodo id: 1179074\n"
     ]
    },
    {
     "name": "stderr",
     "output_type": "stream",
     "text": [
      "1179074.zip: 522kB [00:01, 390kB/s]  \n"
     ]
    },
    {
     "name": "stdout",
     "output_type": "stream",
     "text": [
      "\n",
      "File successfully downloaded to: ./zenodo_dl/1179074.zip\n",
      "[info] File downloaded: ./zenodo_dl/1179074.zip\n",
      "\n",
      "[info] Paper_idx: 702, Zenodo id: 1179084\n"
     ]
    },
    {
     "name": "stderr",
     "output_type": "stream",
     "text": [
      "1179084.zip: 20.1MB [00:04, 4.32MB/s]\n"
     ]
    },
    {
     "name": "stdout",
     "output_type": "stream",
     "text": [
      "\n",
      "File successfully downloaded to: ./zenodo_dl/1179084.zip\n",
      "[info] File downloaded: ./zenodo_dl/1179084.zip\n",
      "\n",
      "[info] Paper_idx: 703, Zenodo id: 1179112\n"
     ]
    },
    {
     "name": "stderr",
     "output_type": "stream",
     "text": [
      "1179112.zip: 2.45MB [00:01, 1.26MB/s]\n"
     ]
    },
    {
     "name": "stdout",
     "output_type": "stream",
     "text": [
      "\n",
      "File successfully downloaded to: ./zenodo_dl/1179112.zip\n",
      "[info] File downloaded: ./zenodo_dl/1179112.zip\n",
      "\n",
      "[info] Paper_idx: 704, Zenodo id: 1179168\n"
     ]
    },
    {
     "name": "stderr",
     "output_type": "stream",
     "text": [
      "1179168.zip: 462kB [00:01, 406kB/s]  \n"
     ]
    },
    {
     "name": "stdout",
     "output_type": "stream",
     "text": [
      "\n",
      "File successfully downloaded to: ./zenodo_dl/1179168.zip\n",
      "[info] File downloaded: ./zenodo_dl/1179168.zip\n",
      "\n",
      "[info] Paper_idx: 705, Zenodo id: 1179030\n"
     ]
    },
    {
     "name": "stderr",
     "output_type": "stream",
     "text": [
      "1179030.zip: 1.65MB [00:01, 989kB/s] \n"
     ]
    },
    {
     "name": "stdout",
     "output_type": "stream",
     "text": [
      "\n",
      "File successfully downloaded to: ./zenodo_dl/1179030.zip\n",
      "[info] File downloaded: ./zenodo_dl/1179030.zip\n",
      "\n",
      "[info] Paper_idx: 706, Zenodo id: 1179144\n"
     ]
    },
    {
     "name": "stderr",
     "output_type": "stream",
     "text": [
      "1179144.zip: 4.63MB [00:02, 2.05MB/s]\n"
     ]
    },
    {
     "name": "stdout",
     "output_type": "stream",
     "text": [
      "\n",
      "File successfully downloaded to: ./zenodo_dl/1179144.zip\n",
      "[info] File downloaded: ./zenodo_dl/1179144.zip\n",
      "\n",
      "[info] Paper_idx: 707, Zenodo id: 1179076\n"
     ]
    },
    {
     "name": "stderr",
     "output_type": "stream",
     "text": [
      "1179076.zip: 255kB [00:01, 229kB/s]  \n"
     ]
    },
    {
     "name": "stdout",
     "output_type": "stream",
     "text": [
      "\n",
      "File successfully downloaded to: ./zenodo_dl/1179076.zip\n",
      "[info] File downloaded: ./zenodo_dl/1179076.zip\n",
      "\n",
      "[info] Paper_idx: 708, Zenodo id: 1179140\n"
     ]
    },
    {
     "name": "stderr",
     "output_type": "stream",
     "text": [
      "1179140.zip: 1.17MB [00:01, 700kB/s] \n"
     ]
    },
    {
     "name": "stdout",
     "output_type": "stream",
     "text": [
      "\n",
      "File successfully downloaded to: ./zenodo_dl/1179140.zip\n",
      "[info] File downloaded: ./zenodo_dl/1179140.zip\n",
      "\n",
      "[info] Paper_idx: 709, Zenodo id: 1179138\n"
     ]
    },
    {
     "name": "stderr",
     "output_type": "stream",
     "text": [
      "1179138.zip: 767kB [00:02, 275kB/s]  \n"
     ]
    },
    {
     "name": "stdout",
     "output_type": "stream",
     "text": [
      "\n",
      "File successfully downloaded to: ./zenodo_dl/1179138.zip\n",
      "[info] File downloaded: ./zenodo_dl/1179138.zip\n",
      "\n",
      "[info] Paper_idx: 710, Zenodo id: 1179006\n"
     ]
    },
    {
     "name": "stderr",
     "output_type": "stream",
     "text": [
      "1179006.zip: 10.4MB [00:03, 3.36MB/s]\n"
     ]
    },
    {
     "name": "stdout",
     "output_type": "stream",
     "text": [
      "\n",
      "File successfully downloaded to: ./zenodo_dl/1179006.zip\n",
      "[info] File downloaded: ./zenodo_dl/1179006.zip\n",
      "\n",
      "[info] Paper_idx: 711, Zenodo id: 1179018\n"
     ]
    },
    {
     "name": "stderr",
     "output_type": "stream",
     "text": [
      "1179018.zip: 409kB [00:01, 364kB/s]  \n"
     ]
    },
    {
     "name": "stdout",
     "output_type": "stream",
     "text": [
      "\n",
      "File successfully downloaded to: ./zenodo_dl/1179018.zip\n",
      "[info] File downloaded: ./zenodo_dl/1179018.zip\n",
      "\n",
      "[info] Paper_idx: 712, Zenodo id: 1179096\n"
     ]
    },
    {
     "name": "stderr",
     "output_type": "stream",
     "text": [
      "1179096.zip: 1.19MB [00:01, 711kB/s] \n"
     ]
    },
    {
     "name": "stdout",
     "output_type": "stream",
     "text": [
      "\n",
      "File successfully downloaded to: ./zenodo_dl/1179096.zip\n",
      "[info] File downloaded: ./zenodo_dl/1179096.zip\n",
      "\n",
      "[info] Paper_idx: 713, Zenodo id: 1179108\n"
     ]
    },
    {
     "name": "stderr",
     "output_type": "stream",
     "text": [
      "1179108.zip: 15.4MB [00:03, 3.98MB/s]\n"
     ]
    },
    {
     "name": "stdout",
     "output_type": "stream",
     "text": [
      "\n",
      "File successfully downloaded to: ./zenodo_dl/1179108.zip\n",
      "[info] File downloaded: ./zenodo_dl/1179108.zip\n",
      "\n",
      "[info] Paper_idx: 714, Zenodo id: 1179106\n"
     ]
    },
    {
     "name": "stderr",
     "output_type": "stream",
     "text": [
      "1179106.zip: 4.20MB [00:02, 1.87MB/s]\n"
     ]
    },
    {
     "name": "stdout",
     "output_type": "stream",
     "text": [
      "\n",
      "File successfully downloaded to: ./zenodo_dl/1179106.zip\n",
      "[info] File downloaded: ./zenodo_dl/1179106.zip\n",
      "\n",
      "[info] Paper_idx: 715, Zenodo id: 1179046\n"
     ]
    },
    {
     "name": "stderr",
     "output_type": "stream",
     "text": [
      "1179046.zip: 1.94MB [00:01, 1.13MB/s]\n"
     ]
    },
    {
     "name": "stdout",
     "output_type": "stream",
     "text": [
      "\n",
      "File successfully downloaded to: ./zenodo_dl/1179046.zip\n",
      "[info] File downloaded: ./zenodo_dl/1179046.zip\n",
      "\n",
      "[info] Paper_idx: 716, Zenodo id: 1179048\n"
     ]
    },
    {
     "name": "stderr",
     "output_type": "stream",
     "text": [
      "1179048.zip: 376kB [00:01, 251kB/s]  \n"
     ]
    },
    {
     "name": "stdout",
     "output_type": "stream",
     "text": [
      "\n",
      "File successfully downloaded to: ./zenodo_dl/1179048.zip\n",
      "[info] File downloaded: ./zenodo_dl/1179048.zip\n",
      "\n",
      "[info] Paper_idx: 717, Zenodo id: 1179004\n"
     ]
    },
    {
     "name": "stderr",
     "output_type": "stream",
     "text": [
      "1179004.zip: 700kB [00:01, 414kB/s]  \n"
     ]
    },
    {
     "name": "stdout",
     "output_type": "stream",
     "text": [
      "\n",
      "File successfully downloaded to: ./zenodo_dl/1179004.zip\n",
      "[info] File downloaded: ./zenodo_dl/1179004.zip\n",
      "\n",
      "[info] Paper_idx: 718, Zenodo id: 1181400\n"
     ]
    },
    {
     "name": "stderr",
     "output_type": "stream",
     "text": [
      "1181400.zip: 1.22MB [00:01, 733kB/s] \n"
     ]
    },
    {
     "name": "stdout",
     "output_type": "stream",
     "text": [
      "\n",
      "File successfully downloaded to: ./zenodo_dl/1181400.zip\n",
      "[info] File downloaded: ./zenodo_dl/1181400.zip\n",
      "\n",
      "[info] Paper_idx: 719, Zenodo id: 1181416\n"
     ]
    },
    {
     "name": "stderr",
     "output_type": "stream",
     "text": [
      "1181416.zip: 4.41MB [00:02, 1.94MB/s]\n"
     ]
    },
    {
     "name": "stdout",
     "output_type": "stream",
     "text": [
      "\n",
      "File successfully downloaded to: ./zenodo_dl/1181416.zip\n",
      "[info] File downloaded: ./zenodo_dl/1181416.zip\n",
      "\n",
      "[info] Paper_idx: 720, Zenodo id: 1179100\n"
     ]
    },
    {
     "name": "stderr",
     "output_type": "stream",
     "text": [
      "1179100.zip: 2.30MB [00:01, 1.19MB/s]\n"
     ]
    },
    {
     "name": "stdout",
     "output_type": "stream",
     "text": [
      "\n",
      "File successfully downloaded to: ./zenodo_dl/1179100.zip\n",
      "[info] File downloaded: ./zenodo_dl/1179100.zip\n",
      "\n",
      "[info] Paper_idx: 721, Zenodo id: 1179150\n"
     ]
    },
    {
     "name": "stderr",
     "output_type": "stream",
     "text": [
      "1179150.zip: 2.65MB [00:01, 1.35MB/s]\n"
     ]
    },
    {
     "name": "stdout",
     "output_type": "stream",
     "text": [
      "\n",
      "File successfully downloaded to: ./zenodo_dl/1179150.zip\n",
      "[info] File downloaded: ./zenodo_dl/1179150.zip\n",
      "\n",
      "[info] Paper_idx: 722, Zenodo id: 1179176\n"
     ]
    },
    {
     "name": "stderr",
     "output_type": "stream",
     "text": [
      "1179176.zip: 912kB [00:02, 328kB/s]  \n"
     ]
    },
    {
     "name": "stdout",
     "output_type": "stream",
     "text": [
      "\n",
      "File successfully downloaded to: ./zenodo_dl/1179176.zip\n",
      "[info] File downloaded: ./zenodo_dl/1179176.zip\n",
      "\n",
      "[info] Paper_idx: 723, Zenodo id: 1179088\n"
     ]
    },
    {
     "name": "stderr",
     "output_type": "stream",
     "text": [
      "1179088.zip: 2.22MB [00:06, 321kB/s] \n"
     ]
    },
    {
     "name": "stdout",
     "output_type": "stream",
     "text": [
      "\n",
      "File successfully downloaded to: ./zenodo_dl/1179088.zip\n",
      "[info] File downloaded: ./zenodo_dl/1179088.zip\n",
      "\n",
      "[info] Paper_idx: 724, Zenodo id: 1179070\n"
     ]
    },
    {
     "name": "stderr",
     "output_type": "stream",
     "text": [
      "1179070.zip: 2.73MB [00:01, 1.40MB/s]\n"
     ]
    },
    {
     "name": "stdout",
     "output_type": "stream",
     "text": [
      "\n",
      "File successfully downloaded to: ./zenodo_dl/1179070.zip\n",
      "[info] File downloaded: ./zenodo_dl/1179070.zip\n",
      "\n",
      "[info] Paper_idx: 725, Zenodo id: 1179028\n"
     ]
    },
    {
     "name": "stderr",
     "output_type": "stream",
     "text": [
      "1179028.zip: 6.19MB [00:02, 2.47MB/s]\n"
     ]
    },
    {
     "name": "stdout",
     "output_type": "stream",
     "text": [
      "\n",
      "File successfully downloaded to: ./zenodo_dl/1179028.zip\n",
      "[info] File downloaded: ./zenodo_dl/1179028.zip\n",
      "\n",
      "[info] Paper_idx: 726, Zenodo id: 1179122\n"
     ]
    },
    {
     "name": "stderr",
     "output_type": "stream",
     "text": [
      "1179122.zip: 2.94MB [00:01, 1.51MB/s]\n"
     ]
    },
    {
     "name": "stdout",
     "output_type": "stream",
     "text": [
      "\n",
      "File successfully downloaded to: ./zenodo_dl/1179122.zip\n",
      "[info] File downloaded: ./zenodo_dl/1179122.zip\n",
      "\n",
      "[info] Paper_idx: 727, Zenodo id: 1179192\n"
     ]
    },
    {
     "name": "stderr",
     "output_type": "stream",
     "text": [
      "1179192.zip: 397kB [00:01, 352kB/s]  \n"
     ]
    },
    {
     "name": "stdout",
     "output_type": "stream",
     "text": [
      "\n",
      "File successfully downloaded to: ./zenodo_dl/1179192.zip\n",
      "[info] File downloaded: ./zenodo_dl/1179192.zip\n",
      "\n",
      "[info] Paper_idx: 728, Zenodo id: 1179092\n"
     ]
    },
    {
     "name": "stderr",
     "output_type": "stream",
     "text": [
      "1179092.zip: 2.68MB [00:01, 1.36MB/s]\n"
     ]
    },
    {
     "name": "stdout",
     "output_type": "stream",
     "text": [
      "\n",
      "File successfully downloaded to: ./zenodo_dl/1179092.zip\n",
      "[info] File downloaded: ./zenodo_dl/1179092.zip\n",
      "\n",
      "[info] Paper_idx: 729, Zenodo id: 1179174\n"
     ]
    },
    {
     "name": "stderr",
     "output_type": "stream",
     "text": [
      "1179174.zip: 12.8MB [00:34, 371kB/s] \n"
     ]
    },
    {
     "name": "stdout",
     "output_type": "stream",
     "text": [
      "\n",
      "File successfully downloaded to: ./zenodo_dl/1179174.zip\n",
      "[info] File downloaded: ./zenodo_dl/1179174.zip\n",
      "\n",
      "[info] Paper_idx: 730, Zenodo id: 1179162\n"
     ]
    },
    {
     "name": "stderr",
     "output_type": "stream",
     "text": [
      "1179162.zip: 829kB [00:01, 591kB/s]  \n"
     ]
    },
    {
     "name": "stdout",
     "output_type": "stream",
     "text": [
      "\n",
      "File successfully downloaded to: ./zenodo_dl/1179162.zip\n",
      "[info] File downloaded: ./zenodo_dl/1179162.zip\n",
      "\n",
      "[info] Paper_idx: 731, Zenodo id: 1179142\n"
     ]
    },
    {
     "name": "stderr",
     "output_type": "stream",
     "text": [
      "1179142.zip: 10.4MB [00:07, 1.35MB/s]\n"
     ]
    },
    {
     "name": "stdout",
     "output_type": "stream",
     "text": [
      "\n",
      "File successfully downloaded to: ./zenodo_dl/1179142.zip\n",
      "[info] File downloaded: ./zenodo_dl/1179142.zip\n",
      "\n",
      "[info] Paper_idx: 732, Zenodo id: 1179050\n"
     ]
    },
    {
     "name": "stderr",
     "output_type": "stream",
     "text": [
      "1179050.zip: 342kB [00:01, 306kB/s]  \n"
     ]
    },
    {
     "name": "stdout",
     "output_type": "stream",
     "text": [
      "\n",
      "File successfully downloaded to: ./zenodo_dl/1179050.zip\n",
      "[info] File downloaded: ./zenodo_dl/1179050.zip\n",
      "\n",
      "[info] Paper_idx: 733, Zenodo id: 1179038\n"
     ]
    },
    {
     "name": "stderr",
     "output_type": "stream",
     "text": [
      "1179038.zip: 1.02MB [00:01, 617kB/s] \n"
     ]
    },
    {
     "name": "stdout",
     "output_type": "stream",
     "text": [
      "\n",
      "File successfully downloaded to: ./zenodo_dl/1179038.zip\n",
      "[info] File downloaded: ./zenodo_dl/1179038.zip\n",
      "\n",
      "[info] Paper_idx: 734, Zenodo id: 1179198\n"
     ]
    },
    {
     "name": "stderr",
     "output_type": "stream",
     "text": [
      "1179198.zip: 4.33MB [00:11, 363kB/s] \n"
     ]
    },
    {
     "name": "stdout",
     "output_type": "stream",
     "text": [
      "\n",
      "File successfully downloaded to: ./zenodo_dl/1179198.zip\n",
      "[info] File downloaded: ./zenodo_dl/1179198.zip\n",
      "\n",
      "[info] Paper_idx: 735, Zenodo id: 1179116\n"
     ]
    },
    {
     "name": "stderr",
     "output_type": "stream",
     "text": [
      "1179116.zip: 4.78MB [00:13, 366kB/s] \n"
     ]
    },
    {
     "name": "stdout",
     "output_type": "stream",
     "text": [
      "\n",
      "File successfully downloaded to: ./zenodo_dl/1179116.zip\n",
      "[info] File downloaded: ./zenodo_dl/1179116.zip\n",
      "\n",
      "[info] Paper_idx: 736, Zenodo id: 1179190\n"
     ]
    },
    {
     "name": "stderr",
     "output_type": "stream",
     "text": [
      "1179190.zip: 9.36MB [00:25, 367kB/s] \n"
     ]
    },
    {
     "name": "stdout",
     "output_type": "stream",
     "text": [
      "\n",
      "File successfully downloaded to: ./zenodo_dl/1179190.zip\n",
      "[info] File downloaded: ./zenodo_dl/1179190.zip\n",
      "\n",
      "[info] Paper_idx: 737, Zenodo id: 1179008\n"
     ]
    },
    {
     "name": "stderr",
     "output_type": "stream",
     "text": [
      "1179008.zip: 1.47MB [00:01, 876kB/s] \n"
     ]
    },
    {
     "name": "stdout",
     "output_type": "stream",
     "text": [
      "\n",
      "File successfully downloaded to: ./zenodo_dl/1179008.zip\n",
      "[info] File downloaded: ./zenodo_dl/1179008.zip\n",
      "\n",
      "[info] Paper_idx: 738, Zenodo id: 1179136\n"
     ]
    },
    {
     "name": "stderr",
     "output_type": "stream",
     "text": [
      "1179136.zip: 2.55MB [00:07, 354kB/s] \n"
     ]
    },
    {
     "name": "stdout",
     "output_type": "stream",
     "text": [
      "\n",
      "File successfully downloaded to: ./zenodo_dl/1179136.zip\n",
      "[info] File downloaded: ./zenodo_dl/1179136.zip\n",
      "\n",
      "[info] Paper_idx: 739, Zenodo id: 1179060\n"
     ]
    },
    {
     "name": "stderr",
     "output_type": "stream",
     "text": [
      "1179060.zip: 6.40MB [00:02, 2.54MB/s]\n"
     ]
    },
    {
     "name": "stdout",
     "output_type": "stream",
     "text": [
      "\n",
      "File successfully downloaded to: ./zenodo_dl/1179060.zip\n",
      "[info] File downloaded: ./zenodo_dl/1179060.zip\n",
      "\n",
      "[info] Paper_idx: 740, Zenodo id: 1179086\n"
     ]
    },
    {
     "name": "stderr",
     "output_type": "stream",
     "text": [
      "1179086.zip: 10.5MB [00:03, 3.16MB/s]\n"
     ]
    },
    {
     "name": "stdout",
     "output_type": "stream",
     "text": [
      "\n",
      "File successfully downloaded to: ./zenodo_dl/1179086.zip\n",
      "[info] File downloaded: ./zenodo_dl/1179086.zip\n",
      "\n",
      "[info] Paper_idx: 741, Zenodo id: 1179184\n"
     ]
    },
    {
     "name": "stderr",
     "output_type": "stream",
     "text": [
      "1179184.zip: 790kB [00:01, 569kB/s]  \n"
     ]
    },
    {
     "name": "stdout",
     "output_type": "stream",
     "text": [
      "\n",
      "File successfully downloaded to: ./zenodo_dl/1179184.zip\n",
      "[info] File downloaded: ./zenodo_dl/1179184.zip\n",
      "\n",
      "[info] Paper_idx: 742, Zenodo id: 1179014\n"
     ]
    },
    {
     "name": "stderr",
     "output_type": "stream",
     "text": [
      "1179014.zip: 857kB [00:01, 612kB/s]  \n"
     ]
    },
    {
     "name": "stdout",
     "output_type": "stream",
     "text": [
      "\n",
      "File successfully downloaded to: ./zenodo_dl/1179014.zip\n",
      "[info] File downloaded: ./zenodo_dl/1179014.zip\n",
      "\n",
      "[info] Paper_idx: 743, Zenodo id: 1179078\n"
     ]
    },
    {
     "name": "stderr",
     "output_type": "stream",
     "text": [
      "1179078.zip: 1.07MB [00:01, 662kB/s] \n"
     ]
    },
    {
     "name": "stdout",
     "output_type": "stream",
     "text": [
      "\n",
      "File successfully downloaded to: ./zenodo_dl/1179078.zip\n",
      "[info] File downloaded: ./zenodo_dl/1179078.zip\n",
      "\n",
      "[info] Paper_idx: 744, Zenodo id: 1179042\n"
     ]
    },
    {
     "name": "stderr",
     "output_type": "stream",
     "text": [
      "1179042.zip: 15.1MB [00:18, 802kB/s] \n"
     ]
    },
    {
     "name": "stdout",
     "output_type": "stream",
     "text": [
      "\n",
      "File successfully downloaded to: ./zenodo_dl/1179042.zip\n",
      "[info] File downloaded: ./zenodo_dl/1179042.zip\n",
      "\n",
      "[info] Paper_idx: 745, Zenodo id: 1179102\n"
     ]
    },
    {
     "name": "stderr",
     "output_type": "stream",
     "text": [
      "1179102.zip: 1.29MB [00:04, 312kB/s] \n"
     ]
    },
    {
     "name": "stdout",
     "output_type": "stream",
     "text": [
      "\n",
      "File successfully downloaded to: ./zenodo_dl/1179102.zip\n",
      "[info] File downloaded: ./zenodo_dl/1179102.zip\n",
      "\n",
      "[info] Paper_idx: 746, Zenodo id: 1179082\n"
     ]
    },
    {
     "name": "stderr",
     "output_type": "stream",
     "text": [
      "1179082.zip: 3.02MB [00:01, 1.55MB/s]\n"
     ]
    },
    {
     "name": "stdout",
     "output_type": "stream",
     "text": [
      "\n",
      "File successfully downloaded to: ./zenodo_dl/1179082.zip\n",
      "[info] File downloaded: ./zenodo_dl/1179082.zip\n",
      "\n",
      "[info] Paper_idx: 747, Zenodo id: 1179044\n"
     ]
    },
    {
     "name": "stderr",
     "output_type": "stream",
     "text": [
      "1179044.zip: 2.41MB [00:07, 334kB/s] \n"
     ]
    },
    {
     "name": "stdout",
     "output_type": "stream",
     "text": [
      "\n",
      "File successfully downloaded to: ./zenodo_dl/1179044.zip\n",
      "[info] File downloaded: ./zenodo_dl/1179044.zip\n",
      "\n",
      "[info] Paper_idx: 748, Zenodo id: 1179020\n"
     ]
    },
    {
     "name": "stderr",
     "output_type": "stream",
     "text": [
      "1179020.zip: 1.47MB [00:04, 311kB/s] \n"
     ]
    },
    {
     "name": "stdout",
     "output_type": "stream",
     "text": [
      "\n",
      "File successfully downloaded to: ./zenodo_dl/1179020.zip\n",
      "[info] File downloaded: ./zenodo_dl/1179020.zip\n",
      "\n",
      "[info] Paper_idx: 749, Zenodo id: 1179052\n"
     ]
    },
    {
     "name": "stderr",
     "output_type": "stream",
     "text": [
      "1179052.zip: 390kB [00:01, 278kB/s]  \n"
     ]
    },
    {
     "name": "stdout",
     "output_type": "stream",
     "text": [
      "\n",
      "File successfully downloaded to: ./zenodo_dl/1179052.zip\n",
      "[info] File downloaded: ./zenodo_dl/1179052.zip\n",
      "\n",
      "[info] Paper_idx: 750, Zenodo id: 1179130\n"
     ]
    },
    {
     "name": "stderr",
     "output_type": "stream",
     "text": [
      "1179130.zip: 2.69MB [00:01, 1.38MB/s]\n"
     ]
    },
    {
     "name": "stdout",
     "output_type": "stream",
     "text": [
      "\n",
      "File successfully downloaded to: ./zenodo_dl/1179130.zip\n",
      "[info] File downloaded: ./zenodo_dl/1179130.zip\n",
      "\n",
      "[info] Paper_idx: 751, Zenodo id: 1181418\n"
     ]
    },
    {
     "name": "stderr",
     "output_type": "stream",
     "text": [
      "1181418.zip: 2.30MB [00:01, 1.19MB/s]\n"
     ]
    },
    {
     "name": "stdout",
     "output_type": "stream",
     "text": [
      "\n",
      "File successfully downloaded to: ./zenodo_dl/1181418.zip\n",
      "[info] File downloaded: ./zenodo_dl/1181418.zip\n",
      "\n",
      "[info] Paper_idx: 752, Zenodo id: 1179090\n"
     ]
    },
    {
     "name": "stderr",
     "output_type": "stream",
     "text": [
      "1179090.zip: 1.30MB [00:03, 360kB/s] \n"
     ]
    },
    {
     "name": "stdout",
     "output_type": "stream",
     "text": [
      "\n",
      "File successfully downloaded to: ./zenodo_dl/1179090.zip\n",
      "[info] File downloaded: ./zenodo_dl/1179090.zip\n",
      "\n",
      "[info] Paper_idx: 753, Zenodo id: 1179154\n"
     ]
    },
    {
     "name": "stderr",
     "output_type": "stream",
     "text": [
      "1179154.zip: 2.01MB [00:01, 1.20MB/s]\n"
     ]
    },
    {
     "name": "stdout",
     "output_type": "stream",
     "text": [
      "\n",
      "File successfully downloaded to: ./zenodo_dl/1179154.zip\n",
      "[info] File downloaded: ./zenodo_dl/1179154.zip\n",
      "\n",
      "[info] Paper_idx: 754, Zenodo id: 1179024\n"
     ]
    },
    {
     "name": "stderr",
     "output_type": "stream",
     "text": [
      "1179024.zip: 1.09MB [00:03, 301kB/s] \n"
     ]
    },
    {
     "name": "stdout",
     "output_type": "stream",
     "text": [
      "\n",
      "File successfully downloaded to: ./zenodo_dl/1179024.zip\n",
      "[info] File downloaded: ./zenodo_dl/1179024.zip\n",
      "\n",
      "[info] Paper_idx: 755, Zenodo id: 1179132\n"
     ]
    },
    {
     "name": "stderr",
     "output_type": "stream",
     "text": [
      "1179132.zip: 1.14MB [00:03, 292kB/s] \n"
     ]
    },
    {
     "name": "stdout",
     "output_type": "stream",
     "text": [
      "\n",
      "File successfully downloaded to: ./zenodo_dl/1179132.zip\n",
      "[info] File downloaded: ./zenodo_dl/1179132.zip\n",
      "\n",
      "[info] Paper_idx: 756, Zenodo id: 1179146\n"
     ]
    },
    {
     "name": "stderr",
     "output_type": "stream",
     "text": [
      "1179146.zip: 1.39MB [00:03, 359kB/s] \n"
     ]
    },
    {
     "name": "stdout",
     "output_type": "stream",
     "text": [
      "\n",
      "File successfully downloaded to: ./zenodo_dl/1179146.zip\n",
      "[info] File downloaded: ./zenodo_dl/1179146.zip\n",
      "\n",
      "[info] Paper_idx: 757, Zenodo id: 1179194\n"
     ]
    },
    {
     "name": "stderr",
     "output_type": "stream",
     "text": [
      "1179194.zip: 1.32MB [00:02, 658kB/s] \n"
     ]
    },
    {
     "name": "stdout",
     "output_type": "stream",
     "text": [
      "\n",
      "File successfully downloaded to: ./zenodo_dl/1179194.zip\n",
      "[info] File downloaded: ./zenodo_dl/1179194.zip\n",
      "\n",
      "[info] Paper_idx: 758, Zenodo id: 1179134\n"
     ]
    },
    {
     "name": "stderr",
     "output_type": "stream",
     "text": [
      "1179134.zip: 4.64MB [00:02, 2.05MB/s]\n"
     ]
    },
    {
     "name": "stdout",
     "output_type": "stream",
     "text": [
      "\n",
      "File successfully downloaded to: ./zenodo_dl/1179134.zip\n",
      "[info] File downloaded: ./zenodo_dl/1179134.zip\n",
      "\n",
      "[info] Paper_idx: 759, Zenodo id: 1179058\n"
     ]
    },
    {
     "name": "stderr",
     "output_type": "stream",
     "text": [
      "1179058.zip: 895kB [00:02, 299kB/s]  \n"
     ]
    },
    {
     "name": "stdout",
     "output_type": "stream",
     "text": [
      "\n",
      "File successfully downloaded to: ./zenodo_dl/1179058.zip\n",
      "[info] File downloaded: ./zenodo_dl/1179058.zip\n",
      "\n",
      "[info] Paper_idx: 760, Zenodo id: 1181434\n"
     ]
    },
    {
     "name": "stderr",
     "output_type": "stream",
     "text": [
      "1181434.zip: 7.21MB [00:18, 389kB/s] \n"
     ]
    },
    {
     "name": "stdout",
     "output_type": "stream",
     "text": [
      "\n",
      "File successfully downloaded to: ./zenodo_dl/1181434.zip\n",
      "[info] File downloaded: ./zenodo_dl/1181434.zip\n",
      "\n",
      "[info] Paper_idx: 761, Zenodo id: 1179016\n"
     ]
    },
    {
     "name": "stderr",
     "output_type": "stream",
     "text": [
      "1179016.zip: 11.2MB [00:03, 3.65MB/s]\n"
     ]
    },
    {
     "name": "stdout",
     "output_type": "stream",
     "text": [
      "\n",
      "File successfully downloaded to: ./zenodo_dl/1179016.zip\n",
      "[info] File downloaded: ./zenodo_dl/1179016.zip\n",
      "\n",
      "[info] Paper_idx: 762, Zenodo id: 1179104\n"
     ]
    },
    {
     "name": "stderr",
     "output_type": "stream",
     "text": [
      "1179104.zip: 723kB [00:01, 509kB/s]  \n"
     ]
    },
    {
     "name": "stdout",
     "output_type": "stream",
     "text": [
      "\n",
      "File successfully downloaded to: ./zenodo_dl/1179104.zip\n",
      "[info] File downloaded: ./zenodo_dl/1179104.zip\n",
      "\n",
      "[info] Paper_idx: 763, Zenodo id: 1178997\n"
     ]
    },
    {
     "name": "stderr",
     "output_type": "stream",
     "text": [
      "1178997.zip: 636kB [00:01, 453kB/s]  \n"
     ]
    },
    {
     "name": "stdout",
     "output_type": "stream",
     "text": [
      "\n",
      "File successfully downloaded to: ./zenodo_dl/1178997.zip\n",
      "[info] File downloaded: ./zenodo_dl/1178997.zip\n",
      "\n",
      "[info] Paper_idx: 764, Zenodo id: 1179160\n"
     ]
    },
    {
     "name": "stderr",
     "output_type": "stream",
     "text": [
      "1179160.zip: 1.07MB [00:01, 675kB/s] \n"
     ]
    },
    {
     "name": "stdout",
     "output_type": "stream",
     "text": [
      "\n",
      "File successfully downloaded to: ./zenodo_dl/1179160.zip\n",
      "[info] File downloaded: ./zenodo_dl/1179160.zip\n",
      "\n",
      "[info] Paper_idx: 765, Zenodo id: 1179098\n"
     ]
    },
    {
     "name": "stderr",
     "output_type": "stream",
     "text": [
      "1179098.zip: 727kB [00:02, 319kB/s]  \n"
     ]
    },
    {
     "name": "stdout",
     "output_type": "stream",
     "text": [
      "\n",
      "File successfully downloaded to: ./zenodo_dl/1179098.zip\n",
      "[info] File downloaded: ./zenodo_dl/1179098.zip\n",
      "\n",
      "[info] Paper_idx: 766, Zenodo id: 1179026\n"
     ]
    },
    {
     "name": "stderr",
     "output_type": "stream",
     "text": [
      "1179026.zip: 1.79MB [00:01, 917kB/s] \n"
     ]
    },
    {
     "name": "stdout",
     "output_type": "stream",
     "text": [
      "\n",
      "File successfully downloaded to: ./zenodo_dl/1179026.zip\n",
      "[info] File downloaded: ./zenodo_dl/1179026.zip\n",
      "\n",
      "[info] Paper_idx: 767, Zenodo id: 1179188\n"
     ]
    },
    {
     "name": "stderr",
     "output_type": "stream",
     "text": [
      "1179188.zip: 6.24MB [00:02, 2.22MB/s]\n"
     ]
    },
    {
     "name": "stdout",
     "output_type": "stream",
     "text": [
      "\n",
      "File successfully downloaded to: ./zenodo_dl/1179188.zip\n",
      "[info] File downloaded: ./zenodo_dl/1179188.zip\n",
      "\n",
      "[info] Paper_idx: 768, Zenodo id: 1179180\n"
     ]
    },
    {
     "name": "stderr",
     "output_type": "stream",
     "text": [
      "1179180.zip: 1.47MB [00:01, 886kB/s] \n"
     ]
    },
    {
     "name": "stdout",
     "output_type": "stream",
     "text": [
      "\n",
      "File successfully downloaded to: ./zenodo_dl/1179180.zip\n",
      "[info] File downloaded: ./zenodo_dl/1179180.zip\n",
      "\n",
      "[info] Paper_idx: 769, Zenodo id: 1179022\n"
     ]
    },
    {
     "name": "stderr",
     "output_type": "stream",
     "text": [
      "1179022.zip: 4.15MB [00:11, 349kB/s] \n"
     ]
    },
    {
     "name": "stdout",
     "output_type": "stream",
     "text": [
      "\n",
      "File successfully downloaded to: ./zenodo_dl/1179022.zip\n",
      "[info] File downloaded: ./zenodo_dl/1179022.zip\n",
      "\n",
      "[info] Paper_idx: 770, Zenodo id: 1179114\n"
     ]
    },
    {
     "name": "stderr",
     "output_type": "stream",
     "text": [
      "1179114.zip: 1.21MB [00:03, 311kB/s] \n"
     ]
    },
    {
     "name": "stdout",
     "output_type": "stream",
     "text": [
      "\n",
      "File successfully downloaded to: ./zenodo_dl/1179114.zip\n",
      "[info] File downloaded: ./zenodo_dl/1179114.zip\n",
      "\n",
      "[info] Paper_idx: 771, Zenodo id: 1179178\n"
     ]
    },
    {
     "name": "stderr",
     "output_type": "stream",
     "text": [
      "1179178.zip: 1.98MB [00:06, 325kB/s] \n"
     ]
    },
    {
     "name": "stdout",
     "output_type": "stream",
     "text": [
      "\n",
      "File successfully downloaded to: ./zenodo_dl/1179178.zip\n",
      "[info] File downloaded: ./zenodo_dl/1179178.zip\n",
      "\n",
      "[info] Paper_idx: 772, Zenodo id: 1179124\n"
     ]
    },
    {
     "name": "stderr",
     "output_type": "stream",
     "text": [
      "1179124.zip: 1.43MB [00:01, 807kB/s] \n"
     ]
    },
    {
     "name": "stdout",
     "output_type": "stream",
     "text": [
      "\n",
      "File successfully downloaded to: ./zenodo_dl/1179124.zip\n",
      "[info] File downloaded: ./zenodo_dl/1179124.zip\n",
      "\n",
      "[info] Paper_idx: 773, Zenodo id: 1179056\n"
     ]
    },
    {
     "name": "stderr",
     "output_type": "stream",
     "text": [
      "1179056.zip: 2.02MB [00:04, 406kB/s] \n"
     ]
    },
    {
     "name": "stdout",
     "output_type": "stream",
     "text": [
      "\n",
      "File successfully downloaded to: ./zenodo_dl/1179056.zip\n",
      "[info] File downloaded: ./zenodo_dl/1179056.zip\n",
      "\n",
      "[info] Paper_idx: 774, Zenodo id: 1179034\n"
     ]
    },
    {
     "name": "stderr",
     "output_type": "stream",
     "text": [
      "1179034.zip: 882kB [00:01, 631kB/s]  \n"
     ]
    },
    {
     "name": "stdout",
     "output_type": "stream",
     "text": [
      "\n",
      "File successfully downloaded to: ./zenodo_dl/1179034.zip\n",
      "[info] File downloaded: ./zenodo_dl/1179034.zip\n",
      "\n",
      "[info] Paper_idx: 775, Zenodo id: 1179118\n"
     ]
    },
    {
     "name": "stderr",
     "output_type": "stream",
     "text": [
      "1179118.zip: 642kB [00:01, 456kB/s]  \n"
     ]
    },
    {
     "name": "stdout",
     "output_type": "stream",
     "text": [
      "\n",
      "File successfully downloaded to: ./zenodo_dl/1179118.zip\n",
      "[info] File downloaded: ./zenodo_dl/1179118.zip\n",
      "\n",
      "[info] Paper_idx: 776, Zenodo id: 1179010\n"
     ]
    },
    {
     "name": "stderr",
     "output_type": "stream",
     "text": [
      "1179010.zip: 2.21MB [00:01, 1.17MB/s]\n"
     ]
    },
    {
     "name": "stdout",
     "output_type": "stream",
     "text": [
      "\n",
      "File successfully downloaded to: ./zenodo_dl/1179010.zip\n",
      "[info] File downloaded: ./zenodo_dl/1179010.zip\n",
      "\n",
      "[info] Paper_idx: 777, Zenodo id: 1179080\n"
     ]
    },
    {
     "name": "stderr",
     "output_type": "stream",
     "text": [
      "1179080.zip: 4.41MB [00:04, 932kB/s] \n"
     ]
    },
    {
     "name": "stdout",
     "output_type": "stream",
     "text": [
      "\n",
      "File successfully downloaded to: ./zenodo_dl/1179080.zip\n",
      "[info] File downloaded: ./zenodo_dl/1179080.zip\n",
      "\n",
      "[info] Paper_idx: 778, Zenodo id: 1179066\n"
     ]
    },
    {
     "name": "stderr",
     "output_type": "stream",
     "text": [
      "1179066.zip: 1.88MB [00:01, 1.05MB/s]\n"
     ]
    },
    {
     "name": "stdout",
     "output_type": "stream",
     "text": [
      "\n",
      "File successfully downloaded to: ./zenodo_dl/1179066.zip\n",
      "[info] File downloaded: ./zenodo_dl/1179066.zip\n",
      "\n",
      "[info] Paper_idx: 779, Zenodo id: 1179156\n"
     ]
    },
    {
     "name": "stderr",
     "output_type": "stream",
     "text": [
      "1179156.zip: 10.4MB [00:03, 3.11MB/s]\n"
     ]
    },
    {
     "name": "stdout",
     "output_type": "stream",
     "text": [
      "\n",
      "File successfully downloaded to: ./zenodo_dl/1179156.zip\n",
      "[info] File downloaded: ./zenodo_dl/1179156.zip\n",
      "\n",
      "[info] Paper_idx: 780, Zenodo id: 1179128\n"
     ]
    },
    {
     "name": "stderr",
     "output_type": "stream",
     "text": [
      "1179128.zip: 1.40MB [00:01, 839kB/s] \n"
     ]
    },
    {
     "name": "stdout",
     "output_type": "stream",
     "text": [
      "\n",
      "File successfully downloaded to: ./zenodo_dl/1179128.zip\n",
      "[info] File downloaded: ./zenodo_dl/1179128.zip\n",
      "\n",
      "[info] Paper_idx: 781, Zenodo id: 1179164\n"
     ]
    },
    {
     "name": "stderr",
     "output_type": "stream",
     "text": [
      "1179164.zip: 2.40MB [00:01, 1.22MB/s]\n"
     ]
    },
    {
     "name": "stdout",
     "output_type": "stream",
     "text": [
      "\n",
      "File successfully downloaded to: ./zenodo_dl/1179164.zip\n",
      "[info] File downloaded: ./zenodo_dl/1179164.zip\n",
      "\n",
      "[info] Paper_idx: 782, Zenodo id: 1179148\n"
     ]
    },
    {
     "name": "stderr",
     "output_type": "stream",
     "text": [
      "1179148.zip: 496kB [00:01, 370kB/s]  \n"
     ]
    },
    {
     "name": "stdout",
     "output_type": "stream",
     "text": [
      "\n",
      "File successfully downloaded to: ./zenodo_dl/1179148.zip\n",
      "[info] File downloaded: ./zenodo_dl/1179148.zip\n",
      "\n",
      "[info] Paper_idx: 783, Zenodo id: 1179094\n"
     ]
    },
    {
     "name": "stderr",
     "output_type": "stream",
     "text": [
      "1179094.zip: 789kB [00:01, 567kB/s]  \n"
     ]
    },
    {
     "name": "stdout",
     "output_type": "stream",
     "text": [
      "\n",
      "File successfully downloaded to: ./zenodo_dl/1179094.zip\n",
      "[info] File downloaded: ./zenodo_dl/1179094.zip\n",
      "\n",
      "[info] Paper_idx: 784, Zenodo id: 1179012\n"
     ]
    },
    {
     "name": "stderr",
     "output_type": "stream",
     "text": [
      "1179012.zip: 923kB [00:01, 651kB/s]  \n"
     ]
    },
    {
     "name": "stdout",
     "output_type": "stream",
     "text": [
      "\n",
      "File successfully downloaded to: ./zenodo_dl/1179012.zip\n",
      "[info] File downloaded: ./zenodo_dl/1179012.zip\n",
      "\n",
      "[info] Paper_idx: 785, Zenodo id: 1179054\n"
     ]
    },
    {
     "name": "stderr",
     "output_type": "stream",
     "text": [
      "1179054.zip: 25.5MB [00:05, 4.81MB/s]\n"
     ]
    },
    {
     "name": "stdout",
     "output_type": "stream",
     "text": [
      "\n",
      "File successfully downloaded to: ./zenodo_dl/1179054.zip\n",
      "[info] File downloaded: ./zenodo_dl/1179054.zip\n",
      "\n",
      "[info] Paper_idx: 786, Zenodo id: 1179064\n"
     ]
    },
    {
     "name": "stderr",
     "output_type": "stream",
     "text": [
      "1179064.zip: 600kB [00:01, 431kB/s]  \n"
     ]
    },
    {
     "name": "stdout",
     "output_type": "stream",
     "text": [
      "\n",
      "File successfully downloaded to: ./zenodo_dl/1179064.zip\n",
      "[info] File downloaded: ./zenodo_dl/1179064.zip\n",
      "\n",
      "[info] Paper_idx: 787, Zenodo id: 1179196\n"
     ]
    },
    {
     "name": "stderr",
     "output_type": "stream",
     "text": [
      "1179196.zip: 3.72MB [00:03, 1.01MB/s]\n"
     ]
    },
    {
     "name": "stdout",
     "output_type": "stream",
     "text": [
      "\n",
      "File successfully downloaded to: ./zenodo_dl/1179196.zip\n",
      "[info] File downloaded: ./zenodo_dl/1179196.zip\n",
      "\n",
      "[info] Paper_idx: 788, Zenodo id: 1179062\n"
     ]
    },
    {
     "name": "stderr",
     "output_type": "stream",
     "text": [
      "1179062.zip: 3.03MB [00:01, 1.56MB/s]\n"
     ]
    },
    {
     "name": "stdout",
     "output_type": "stream",
     "text": [
      "\n",
      "File successfully downloaded to: ./zenodo_dl/1179062.zip\n",
      "[info] File downloaded: ./zenodo_dl/1179062.zip\n",
      "\n",
      "[info] Paper_idx: 789, Zenodo id: 1179036\n"
     ]
    },
    {
     "name": "stderr",
     "output_type": "stream",
     "text": [
      "1179036.zip: 13.4MB [00:04, 3.08MB/s]\n"
     ]
    },
    {
     "name": "stdout",
     "output_type": "stream",
     "text": [
      "\n",
      "File successfully downloaded to: ./zenodo_dl/1179036.zip\n",
      "[info] File downloaded: ./zenodo_dl/1179036.zip\n",
      "\n",
      "[info] Paper_idx: 790, Zenodo id: 1179170\n"
     ]
    },
    {
     "name": "stderr",
     "output_type": "stream",
     "text": [
      "1179170.zip: 4.95MB [00:02, 2.18MB/s]\n"
     ]
    },
    {
     "name": "stdout",
     "output_type": "stream",
     "text": [
      "\n",
      "File successfully downloaded to: ./zenodo_dl/1179170.zip\n",
      "[info] File downloaded: ./zenodo_dl/1179170.zip\n",
      "\n",
      "[info] Paper_idx: 791, Zenodo id: 1179072\n"
     ]
    },
    {
     "name": "stderr",
     "output_type": "stream",
     "text": [
      "1179072.zip: 345kB [00:01, 306kB/s]  \n"
     ]
    },
    {
     "name": "stdout",
     "output_type": "stream",
     "text": [
      "\n",
      "File successfully downloaded to: ./zenodo_dl/1179072.zip\n",
      "[info] File downloaded: ./zenodo_dl/1179072.zip\n",
      "\n",
      "[info] Paper_idx: 792, Zenodo id: 1179126\n"
     ]
    },
    {
     "name": "stderr",
     "output_type": "stream",
     "text": [
      "1179126.zip: 2.04MB [00:01, 1.19MB/s]\n"
     ]
    },
    {
     "name": "stdout",
     "output_type": "stream",
     "text": [
      "\n",
      "File successfully downloaded to: ./zenodo_dl/1179126.zip\n",
      "[info] File downloaded: ./zenodo_dl/1179126.zip\n",
      "\n",
      "[info] Paper_idx: 793, Zenodo id: 1179032\n"
     ]
    },
    {
     "name": "stderr",
     "output_type": "stream",
     "text": [
      "1179032.zip: 1.66MB [00:01, 987kB/s] \n"
     ]
    },
    {
     "name": "stdout",
     "output_type": "stream",
     "text": [
      "\n",
      "File successfully downloaded to: ./zenodo_dl/1179032.zip\n",
      "[info] File downloaded: ./zenodo_dl/1179032.zip\n",
      "\n",
      "[info] Paper_idx: 794, Zenodo id: 1179040\n"
     ]
    },
    {
     "name": "stderr",
     "output_type": "stream",
     "text": [
      "1179040.zip: 764kB [00:01, 547kB/s]  \n"
     ]
    },
    {
     "name": "stdout",
     "output_type": "stream",
     "text": [
      "\n",
      "File successfully downloaded to: ./zenodo_dl/1179040.zip\n",
      "[info] File downloaded: ./zenodo_dl/1179040.zip\n",
      "\n",
      "[info] Paper_idx: 795, Zenodo id: 1178806\n"
     ]
    },
    {
     "name": "stderr",
     "output_type": "stream",
     "text": [
      "1178806.zip: 612kB [00:01, 432kB/s]  \n"
     ]
    },
    {
     "name": "stdout",
     "output_type": "stream",
     "text": [
      "\n",
      "File successfully downloaded to: ./zenodo_dl/1178806.zip\n",
      "[info] File downloaded: ./zenodo_dl/1178806.zip\n",
      "\n",
      "[info] Paper_idx: 796, Zenodo id: 1178907\n"
     ]
    },
    {
     "name": "stderr",
     "output_type": "stream",
     "text": [
      "1178907.zip: 2.32MB [00:01, 1.19MB/s]\n"
     ]
    },
    {
     "name": "stdout",
     "output_type": "stream",
     "text": [
      "\n",
      "File successfully downloaded to: ./zenodo_dl/1178907.zip\n",
      "[info] File downloaded: ./zenodo_dl/1178907.zip\n",
      "\n",
      "[info] Paper_idx: 797, Zenodo id: 1178995\n"
     ]
    },
    {
     "name": "stderr",
     "output_type": "stream",
     "text": [
      "1178995.zip: 10.1MB [00:03, 3.30MB/s]\n"
     ]
    },
    {
     "name": "stdout",
     "output_type": "stream",
     "text": [
      "\n",
      "File successfully downloaded to: ./zenodo_dl/1178995.zip\n",
      "[info] File downloaded: ./zenodo_dl/1178995.zip\n",
      "\n",
      "[info] Paper_idx: 798, Zenodo id: 1178971\n"
     ]
    },
    {
     "name": "stderr",
     "output_type": "stream",
     "text": [
      "1178971.zip: 21.9MB [00:04, 4.62MB/s]\n"
     ]
    },
    {
     "name": "stdout",
     "output_type": "stream",
     "text": [
      "\n",
      "File successfully downloaded to: ./zenodo_dl/1178971.zip\n",
      "[info] File downloaded: ./zenodo_dl/1178971.zip\n",
      "\n",
      "[info] Paper_idx: 799, Zenodo id: 1178887\n"
     ]
    },
    {
     "name": "stderr",
     "output_type": "stream",
     "text": [
      "1178887.zip: 645kB [00:02, 258kB/s]  \n"
     ]
    },
    {
     "name": "stdout",
     "output_type": "stream",
     "text": [
      "\n",
      "File successfully downloaded to: ./zenodo_dl/1178887.zip\n",
      "[info] File downloaded: ./zenodo_dl/1178887.zip\n",
      "\n",
      "[info] Paper_idx: 800, Zenodo id: 1178855\n"
     ]
    },
    {
     "name": "stderr",
     "output_type": "stream",
     "text": [
      "1178855.zip: 2.45MB [00:01, 1.26MB/s]\n"
     ]
    },
    {
     "name": "stdout",
     "output_type": "stream",
     "text": [
      "\n",
      "File successfully downloaded to: ./zenodo_dl/1178855.zip\n",
      "[info] File downloaded: ./zenodo_dl/1178855.zip\n",
      "\n",
      "[info] Paper_idx: 801, Zenodo id: 1178857\n"
     ]
    },
    {
     "name": "stderr",
     "output_type": "stream",
     "text": [
      "1178857.zip: 4.79MB [00:02, 2.11MB/s]\n"
     ]
    },
    {
     "name": "stdout",
     "output_type": "stream",
     "text": [
      "\n",
      "File successfully downloaded to: ./zenodo_dl/1178857.zip\n",
      "[info] File downloaded: ./zenodo_dl/1178857.zip\n",
      "\n",
      "[info] Paper_idx: 802, Zenodo id: 1178963\n"
     ]
    },
    {
     "name": "stderr",
     "output_type": "stream",
     "text": [
      "1178963.zip: 1.66MB [00:04, 333kB/s] \n"
     ]
    },
    {
     "name": "stdout",
     "output_type": "stream",
     "text": [
      "\n",
      "File successfully downloaded to: ./zenodo_dl/1178963.zip\n",
      "[info] File downloaded: ./zenodo_dl/1178963.zip\n",
      "\n",
      "[info] Paper_idx: 803, Zenodo id: 1178841\n"
     ]
    },
    {
     "name": "stderr",
     "output_type": "stream",
     "text": [
      "1178841.zip: 2.87MB [00:01, 1.47MB/s]\n"
     ]
    },
    {
     "name": "stdout",
     "output_type": "stream",
     "text": [
      "\n",
      "File successfully downloaded to: ./zenodo_dl/1178841.zip\n",
      "[info] File downloaded: ./zenodo_dl/1178841.zip\n",
      "\n",
      "[info] Paper_idx: 804, Zenodo id: 1178851\n"
     ]
    },
    {
     "name": "stderr",
     "output_type": "stream",
     "text": [
      "1178851.zip: 1.06MB [00:01, 639kB/s] \n"
     ]
    },
    {
     "name": "stdout",
     "output_type": "stream",
     "text": [
      "\n",
      "File successfully downloaded to: ./zenodo_dl/1178851.zip\n",
      "[info] File downloaded: ./zenodo_dl/1178851.zip\n",
      "\n",
      "[info] Paper_idx: 805, Zenodo id: 1178746\n"
     ]
    },
    {
     "name": "stderr",
     "output_type": "stream",
     "text": [
      "1178746.zip: 937kB [00:03, 281kB/s]  \n"
     ]
    },
    {
     "name": "stdout",
     "output_type": "stream",
     "text": [
      "\n",
      "File successfully downloaded to: ./zenodo_dl/1178746.zip\n",
      "[info] File downloaded: ./zenodo_dl/1178746.zip\n",
      "\n",
      "[info] Paper_idx: 806, Zenodo id: 1178885\n"
     ]
    },
    {
     "name": "stderr",
     "output_type": "stream",
     "text": [
      "1178885.zip: 1.21MB [00:01, 725kB/s] \n"
     ]
    },
    {
     "name": "stdout",
     "output_type": "stream",
     "text": [
      "\n",
      "File successfully downloaded to: ./zenodo_dl/1178885.zip\n",
      "[info] File downloaded: ./zenodo_dl/1178885.zip\n",
      "\n",
      "[info] Paper_idx: 807, Zenodo id: 1178895\n"
     ]
    },
    {
     "name": "stderr",
     "output_type": "stream",
     "text": [
      "1178895.zip: 2.90MB [00:01, 1.48MB/s]\n"
     ]
    },
    {
     "name": "stdout",
     "output_type": "stream",
     "text": [
      "\n",
      "File successfully downloaded to: ./zenodo_dl/1178895.zip\n",
      "[info] File downloaded: ./zenodo_dl/1178895.zip\n",
      "\n",
      "[info] Paper_idx: 808, Zenodo id: 1178796\n"
     ]
    },
    {
     "name": "stderr",
     "output_type": "stream",
     "text": [
      "1178796.zip: 3.62MB [00:02, 1.44MB/s]\n"
     ]
    },
    {
     "name": "stdout",
     "output_type": "stream",
     "text": [
      "\n",
      "File successfully downloaded to: ./zenodo_dl/1178796.zip\n",
      "[info] File downloaded: ./zenodo_dl/1178796.zip\n",
      "\n",
      "[info] Paper_idx: 809, Zenodo id: 1178863\n"
     ]
    },
    {
     "name": "stderr",
     "output_type": "stream",
     "text": [
      "1178863.zip: 8.26MB [00:17, 466kB/s] \n"
     ]
    },
    {
     "name": "stdout",
     "output_type": "stream",
     "text": [
      "\n",
      "File successfully downloaded to: ./zenodo_dl/1178863.zip\n",
      "[info] File downloaded: ./zenodo_dl/1178863.zip\n",
      "\n",
      "[info] Paper_idx: 810, Zenodo id: 1178772\n"
     ]
    },
    {
     "name": "stderr",
     "output_type": "stream",
     "text": [
      "1178772.zip: 864kB [00:01, 611kB/s]  \n"
     ]
    },
    {
     "name": "stdout",
     "output_type": "stream",
     "text": [
      "\n",
      "File successfully downloaded to: ./zenodo_dl/1178772.zip\n",
      "[info] File downloaded: ./zenodo_dl/1178772.zip\n",
      "\n",
      "[info] Paper_idx: 811, Zenodo id: 1178712\n"
     ]
    },
    {
     "name": "stderr",
     "output_type": "stream",
     "text": [
      "1178712.zip: 689kB [00:01, 490kB/s]  \n"
     ]
    },
    {
     "name": "stdout",
     "output_type": "stream",
     "text": [
      "\n",
      "File successfully downloaded to: ./zenodo_dl/1178712.zip\n",
      "[info] File downloaded: ./zenodo_dl/1178712.zip\n",
      "\n",
      "[info] Paper_idx: 812, Zenodo id: 1178921\n"
     ]
    },
    {
     "name": "stderr",
     "output_type": "stream",
     "text": [
      "1178921.zip: 632kB [00:01, 454kB/s]  \n"
     ]
    },
    {
     "name": "stdout",
     "output_type": "stream",
     "text": [
      "\n",
      "File successfully downloaded to: ./zenodo_dl/1178921.zip\n",
      "[info] File downloaded: ./zenodo_dl/1178921.zip\n",
      "\n",
      "[info] Paper_idx: 813, Zenodo id: 1178881\n"
     ]
    },
    {
     "name": "stderr",
     "output_type": "stream",
     "text": [
      "1178881.zip: 600kB [00:01, 431kB/s]  \n"
     ]
    },
    {
     "name": "stdout",
     "output_type": "stream",
     "text": [
      "\n",
      "File successfully downloaded to: ./zenodo_dl/1178881.zip\n",
      "[info] File downloaded: ./zenodo_dl/1178881.zip\n",
      "\n",
      "[info] Paper_idx: 814, Zenodo id: 1178724\n"
     ]
    },
    {
     "name": "stderr",
     "output_type": "stream",
     "text": [
      "1178724.zip: 789kB [00:02, 316kB/s]  \n"
     ]
    },
    {
     "name": "stdout",
     "output_type": "stream",
     "text": [
      "\n",
      "File successfully downloaded to: ./zenodo_dl/1178724.zip\n",
      "[info] File downloaded: ./zenodo_dl/1178724.zip\n",
      "\n",
      "[info] Paper_idx: 815, Zenodo id: 1178937\n"
     ]
    },
    {
     "name": "stderr",
     "output_type": "stream",
     "text": [
      "1178937.zip: 6.11MB [00:08, 735kB/s] \n"
     ]
    },
    {
     "name": "stdout",
     "output_type": "stream",
     "text": [
      "\n",
      "File successfully downloaded to: ./zenodo_dl/1178937.zip\n",
      "[info] File downloaded: ./zenodo_dl/1178937.zip\n",
      "\n",
      "[info] Paper_idx: 816, Zenodo id: 1178770\n"
     ]
    },
    {
     "name": "stderr",
     "output_type": "stream",
     "text": [
      "1178770.zip: 2.00MB [00:02, 908kB/s] \n"
     ]
    },
    {
     "name": "stdout",
     "output_type": "stream",
     "text": [
      "\n",
      "File successfully downloaded to: ./zenodo_dl/1178770.zip\n",
      "[info] File downloaded: ./zenodo_dl/1178770.zip\n",
      "\n",
      "[info] Paper_idx: 817, Zenodo id: 1178708\n"
     ]
    },
    {
     "name": "stderr",
     "output_type": "stream",
     "text": [
      "1178708.zip: 5.56MB [00:02, 2.26MB/s]\n"
     ]
    },
    {
     "name": "stdout",
     "output_type": "stream",
     "text": [
      "\n",
      "File successfully downloaded to: ./zenodo_dl/1178708.zip\n",
      "[info] File downloaded: ./zenodo_dl/1178708.zip\n",
      "\n",
      "[info] Paper_idx: 818, Zenodo id: 1178843\n"
     ]
    },
    {
     "name": "stderr",
     "output_type": "stream",
     "text": [
      "1178843.zip: 19.5MB [00:04, 4.04MB/s]\n"
     ]
    },
    {
     "name": "stdout",
     "output_type": "stream",
     "text": [
      "\n",
      "File successfully downloaded to: ./zenodo_dl/1178843.zip\n",
      "[info] File downloaded: ./zenodo_dl/1178843.zip\n",
      "\n",
      "[info] Paper_idx: 819, Zenodo id: 1178981\n"
     ]
    },
    {
     "name": "stderr",
     "output_type": "stream",
     "text": [
      "1178981.zip: 701kB [00:01, 504kB/s]  \n"
     ]
    },
    {
     "name": "stdout",
     "output_type": "stream",
     "text": [
      "\n",
      "File successfully downloaded to: ./zenodo_dl/1178981.zip\n",
      "[info] File downloaded: ./zenodo_dl/1178981.zip\n",
      "\n",
      "[info] Paper_idx: 820, Zenodo id: 1178853\n"
     ]
    },
    {
     "name": "stderr",
     "output_type": "stream",
     "text": [
      "1178853.zip: 5.55MB [00:02, 2.49MB/s]\n"
     ]
    },
    {
     "name": "stdout",
     "output_type": "stream",
     "text": [
      "\n",
      "File successfully downloaded to: ./zenodo_dl/1178853.zip\n",
      "[info] File downloaded: ./zenodo_dl/1178853.zip\n",
      "\n",
      "[info] Paper_idx: 821, Zenodo id: 1178867\n"
     ]
    },
    {
     "name": "stderr",
     "output_type": "stream",
     "text": [
      "1178867.zip: 4.67MB [00:02, 2.10MB/s]\n"
     ]
    },
    {
     "name": "stdout",
     "output_type": "stream",
     "text": [
      "\n",
      "File successfully downloaded to: ./zenodo_dl/1178867.zip\n",
      "[info] File downloaded: ./zenodo_dl/1178867.zip\n",
      "\n",
      "[info] Paper_idx: 822, Zenodo id: 1178766\n"
     ]
    },
    {
     "name": "stderr",
     "output_type": "stream",
     "text": [
      "1178766.zip: 1.89MB [00:02, 876kB/s] \n"
     ]
    },
    {
     "name": "stdout",
     "output_type": "stream",
     "text": [
      "\n",
      "File successfully downloaded to: ./zenodo_dl/1178766.zip\n",
      "[info] File downloaded: ./zenodo_dl/1178766.zip\n",
      "\n",
      "[info] Paper_idx: 823, Zenodo id: 1178704\n"
     ]
    },
    {
     "name": "stderr",
     "output_type": "stream",
     "text": [
      "1178704.zip: 2.95MB [00:03, 969kB/s] \n"
     ]
    },
    {
     "name": "stdout",
     "output_type": "stream",
     "text": [
      "\n",
      "File successfully downloaded to: ./zenodo_dl/1178704.zip\n",
      "[info] File downloaded: ./zenodo_dl/1178704.zip\n",
      "\n",
      "[info] Paper_idx: 824, Zenodo id: 1178714\n"
     ]
    },
    {
     "name": "stderr",
     "output_type": "stream",
     "text": [
      "1178714.zip: 1.14MB [00:03, 294kB/s] \n"
     ]
    },
    {
     "name": "stdout",
     "output_type": "stream",
     "text": [
      "\n",
      "File successfully downloaded to: ./zenodo_dl/1178714.zip\n",
      "[info] File downloaded: ./zenodo_dl/1178714.zip\n",
      "\n",
      "[info] Paper_idx: 825, Zenodo id: 1178889\n"
     ]
    },
    {
     "name": "stderr",
     "output_type": "stream",
     "text": [
      "1178889.zip: 2.56MB [00:07, 333kB/s] \n"
     ]
    },
    {
     "name": "stdout",
     "output_type": "stream",
     "text": [
      "\n",
      "File successfully downloaded to: ./zenodo_dl/1178889.zip\n",
      "[info] File downloaded: ./zenodo_dl/1178889.zip\n",
      "\n",
      "[info] Paper_idx: 826, Zenodo id: 1178975\n"
     ]
    },
    {
     "name": "stderr",
     "output_type": "stream",
     "text": [
      "1178975.zip: 2.59MB [00:07, 333kB/s] \n"
     ]
    },
    {
     "name": "stdout",
     "output_type": "stream",
     "text": [
      "\n",
      "File successfully downloaded to: ./zenodo_dl/1178975.zip\n",
      "[info] File downloaded: ./zenodo_dl/1178975.zip\n",
      "\n",
      "[info] Paper_idx: 827, Zenodo id: 1178949\n"
     ]
    },
    {
     "name": "stderr",
     "output_type": "stream",
     "text": [
      "1178949.zip: 916kB [00:02, 328kB/s]  \n"
     ]
    },
    {
     "name": "stdout",
     "output_type": "stream",
     "text": [
      "\n",
      "File successfully downloaded to: ./zenodo_dl/1178949.zip\n",
      "[info] File downloaded: ./zenodo_dl/1178949.zip\n",
      "\n",
      "[info] Paper_idx: 828, Zenodo id: 1178716\n"
     ]
    },
    {
     "name": "stderr",
     "output_type": "stream",
     "text": [
      "1178716.zip: 687kB [00:02, 276kB/s]  \n"
     ]
    },
    {
     "name": "stdout",
     "output_type": "stream",
     "text": [
      "\n",
      "File successfully downloaded to: ./zenodo_dl/1178716.zip\n",
      "[info] File downloaded: ./zenodo_dl/1178716.zip\n",
      "\n",
      "[info] Paper_idx: 829, Zenodo id: 1178899\n"
     ]
    },
    {
     "name": "stderr",
     "output_type": "stream",
     "text": [
      "1178899.zip: 1.01MB [00:02, 361kB/s] \n"
     ]
    },
    {
     "name": "stdout",
     "output_type": "stream",
     "text": [
      "\n",
      "File successfully downloaded to: ./zenodo_dl/1178899.zip\n",
      "[info] File downloaded: ./zenodo_dl/1178899.zip\n",
      "\n",
      "[info] Paper_idx: 830, Zenodo id: 1178833\n"
     ]
    },
    {
     "name": "stderr",
     "output_type": "stream",
     "text": [
      "1178833.zip: 1.09MB [00:03, 328kB/s] \n"
     ]
    },
    {
     "name": "stdout",
     "output_type": "stream",
     "text": [
      "\n",
      "File successfully downloaded to: ./zenodo_dl/1178833.zip\n",
      "[info] File downloaded: ./zenodo_dl/1178833.zip\n",
      "\n",
      "[info] Paper_idx: 831, Zenodo id: 1178700\n"
     ]
    },
    {
     "name": "stderr",
     "output_type": "stream",
     "text": [
      "1178700.zip: 1.45MB [00:04, 347kB/s] \n"
     ]
    },
    {
     "name": "stdout",
     "output_type": "stream",
     "text": [
      "\n",
      "File successfully downloaded to: ./zenodo_dl/1178700.zip\n",
      "[info] File downloaded: ./zenodo_dl/1178700.zip\n",
      "\n",
      "[info] Paper_idx: 832, Zenodo id: 1178925\n"
     ]
    },
    {
     "name": "stderr",
     "output_type": "stream",
     "text": [
      "1178925.zip: 9.04MB [00:24, 365kB/s] \n"
     ]
    },
    {
     "name": "stdout",
     "output_type": "stream",
     "text": [
      "\n",
      "File successfully downloaded to: ./zenodo_dl/1178925.zip\n",
      "[info] File downloaded: ./zenodo_dl/1178925.zip\n",
      "\n",
      "[info] Paper_idx: 833, Zenodo id: 1178883\n"
     ]
    },
    {
     "name": "stderr",
     "output_type": "stream",
     "text": [
      "1178883.zip: 1.04MB [00:04, 215kB/s] \n"
     ]
    },
    {
     "name": "stdout",
     "output_type": "stream",
     "text": [
      "\n",
      "File successfully downloaded to: ./zenodo_dl/1178883.zip\n",
      "[info] File downloaded: ./zenodo_dl/1178883.zip\n",
      "\n",
      "[info] Paper_idx: 834, Zenodo id: 1178945\n"
     ]
    },
    {
     "name": "stderr",
     "output_type": "stream",
     "text": [
      "1178945.zip: 2.33MB [00:06, 349kB/s] \n"
     ]
    },
    {
     "name": "stdout",
     "output_type": "stream",
     "text": [
      "\n",
      "File successfully downloaded to: ./zenodo_dl/1178945.zip\n",
      "[info] File downloaded: ./zenodo_dl/1178945.zip\n",
      "\n",
      "[info] Paper_idx: 835, Zenodo id: 1178820\n"
     ]
    },
    {
     "name": "stderr",
     "output_type": "stream",
     "text": [
      "1178820.zip: 12.2MB [00:33, 364kB/s] \n"
     ]
    },
    {
     "name": "stdout",
     "output_type": "stream",
     "text": [
      "\n",
      "File successfully downloaded to: ./zenodo_dl/1178820.zip\n",
      "[info] File downloaded: ./zenodo_dl/1178820.zip\n",
      "\n",
      "[info] Paper_idx: 836, Zenodo id: 1178816\n"
     ]
    },
    {
     "name": "stderr",
     "output_type": "stream",
     "text": [
      "1178816.zip: 706kB [00:02, 288kB/s]  \n"
     ]
    },
    {
     "name": "stdout",
     "output_type": "stream",
     "text": [
      "\n",
      "File successfully downloaded to: ./zenodo_dl/1178816.zip\n",
      "[info] File downloaded: ./zenodo_dl/1178816.zip\n",
      "\n",
      "[info] Paper_idx: 837, Zenodo id: 1178953\n"
     ]
    },
    {
     "name": "stderr",
     "output_type": "stream",
     "text": [
      "1178953.zip: 1.67MB [00:04, 334kB/s] \n"
     ]
    },
    {
     "name": "stdout",
     "output_type": "stream",
     "text": [
      "\n",
      "File successfully downloaded to: ./zenodo_dl/1178953.zip\n",
      "[info] File downloaded: ./zenodo_dl/1178953.zip\n",
      "\n",
      "[info] Paper_idx: 838, Zenodo id: 1178877\n"
     ]
    },
    {
     "name": "stderr",
     "output_type": "stream",
     "text": [
      "1178877.zip: 817kB [00:02, 295kB/s]  \n"
     ]
    },
    {
     "name": "stdout",
     "output_type": "stream",
     "text": [
      "\n",
      "File successfully downloaded to: ./zenodo_dl/1178877.zip\n",
      "[info] File downloaded: ./zenodo_dl/1178877.zip\n",
      "\n",
      "[info] Paper_idx: 839, Zenodo id: 1178822\n"
     ]
    },
    {
     "name": "stderr",
     "output_type": "stream",
     "text": [
      "1178822.zip: 2.39MB [00:06, 345kB/s] \n"
     ]
    },
    {
     "name": "stdout",
     "output_type": "stream",
     "text": [
      "\n",
      "File successfully downloaded to: ./zenodo_dl/1178822.zip\n",
      "[info] File downloaded: ./zenodo_dl/1178822.zip\n",
      "\n",
      "[info] Paper_idx: 840, Zenodo id: 1178814\n"
     ]
    },
    {
     "name": "stderr",
     "output_type": "stream",
     "text": [
      "1178814.zip: 1.27MB [00:04, 306kB/s] \n"
     ]
    },
    {
     "name": "stdout",
     "output_type": "stream",
     "text": [
      "\n",
      "File successfully downloaded to: ./zenodo_dl/1178814.zip\n",
      "[info] File downloaded: ./zenodo_dl/1178814.zip\n",
      "\n",
      "[info] Paper_idx: 841, Zenodo id: 1178812\n"
     ]
    },
    {
     "name": "stderr",
     "output_type": "stream",
     "text": [
      "1178812.zip: 772kB [00:02, 278kB/s]  \n"
     ]
    },
    {
     "name": "stdout",
     "output_type": "stream",
     "text": [
      "\n",
      "File successfully downloaded to: ./zenodo_dl/1178812.zip\n",
      "[info] File downloaded: ./zenodo_dl/1178812.zip\n",
      "\n",
      "[info] Paper_idx: 842, Zenodo id: 1178706\n"
     ]
    },
    {
     "name": "stderr",
     "output_type": "stream",
     "text": [
      "1178706.zip: 1.06MB [00:03, 345kB/s] \n"
     ]
    },
    {
     "name": "stdout",
     "output_type": "stream",
     "text": [
      "\n",
      "File successfully downloaded to: ./zenodo_dl/1178706.zip\n",
      "[info] File downloaded: ./zenodo_dl/1178706.zip\n",
      "\n",
      "[info] Paper_idx: 843, Zenodo id: 1178931\n"
     ]
    },
    {
     "name": "stderr",
     "output_type": "stream",
     "text": [
      "1178931.zip: 4.41MB [00:11, 379kB/s] \n"
     ]
    },
    {
     "name": "stdout",
     "output_type": "stream",
     "text": [
      "\n",
      "File successfully downloaded to: ./zenodo_dl/1178931.zip\n",
      "[info] File downloaded: ./zenodo_dl/1178931.zip\n",
      "\n",
      "[info] Paper_idx: 844, Zenodo id: 1178768\n"
     ]
    },
    {
     "name": "stderr",
     "output_type": "stream",
     "text": [
      "1178768.zip: 635kB [00:02, 280kB/s]  \n"
     ]
    },
    {
     "name": "stdout",
     "output_type": "stream",
     "text": [
      "\n",
      "File successfully downloaded to: ./zenodo_dl/1178768.zip\n",
      "[info] File downloaded: ./zenodo_dl/1178768.zip\n",
      "\n",
      "[info] Paper_idx: 845, Zenodo id: 1178790\n"
     ]
    },
    {
     "name": "stderr",
     "output_type": "stream",
     "text": [
      "1178790.zip: 677kB [00:02, 244kB/s]  \n"
     ]
    },
    {
     "name": "stdout",
     "output_type": "stream",
     "text": [
      "\n",
      "File successfully downloaded to: ./zenodo_dl/1178790.zip\n",
      "[info] File downloaded: ./zenodo_dl/1178790.zip\n",
      "\n",
      "[info] Paper_idx: 846, Zenodo id: 1178792\n"
     ]
    },
    {
     "name": "stderr",
     "output_type": "stream",
     "text": [
      "1178792.zip: 5.17MB [00:14, 358kB/s] \n"
     ]
    },
    {
     "name": "stdout",
     "output_type": "stream",
     "text": [
      "\n",
      "File successfully downloaded to: ./zenodo_dl/1178792.zip\n",
      "[info] File downloaded: ./zenodo_dl/1178792.zip\n",
      "\n",
      "[info] Paper_idx: 847, Zenodo id: 1178891\n"
     ]
    },
    {
     "name": "stderr",
     "output_type": "stream",
     "text": [
      "1178891.zip: 1.56MB [00:04, 331kB/s] \n"
     ]
    },
    {
     "name": "stdout",
     "output_type": "stream",
     "text": [
      "\n",
      "File successfully downloaded to: ./zenodo_dl/1178891.zip\n",
      "[info] File downloaded: ./zenodo_dl/1178891.zip\n",
      "\n",
      "[info] Paper_idx: 848, Zenodo id: 1178919\n"
     ]
    },
    {
     "name": "stderr",
     "output_type": "stream",
     "text": [
      "1178919.zip: 2.23MB [00:06, 335kB/s] \n"
     ]
    },
    {
     "name": "stdout",
     "output_type": "stream",
     "text": [
      "\n",
      "File successfully downloaded to: ./zenodo_dl/1178919.zip\n",
      "[info] File downloaded: ./zenodo_dl/1178919.zip\n",
      "\n",
      "[info] Paper_idx: 849, Zenodo id: 1178726\n"
     ]
    },
    {
     "name": "stderr",
     "output_type": "stream",
     "text": [
      "1178726.zip: 865kB [00:02, 313kB/s]  \n"
     ]
    },
    {
     "name": "stdout",
     "output_type": "stream",
     "text": [
      "\n",
      "File successfully downloaded to: ./zenodo_dl/1178726.zip\n",
      "[info] File downloaded: ./zenodo_dl/1178726.zip\n",
      "\n",
      "[info] Paper_idx: 850, Zenodo id: 1178800\n"
     ]
    },
    {
     "name": "stderr",
     "output_type": "stream",
     "text": [
      "1178800.zip: 5.08MB [00:13, 374kB/s] \n"
     ]
    },
    {
     "name": "stdout",
     "output_type": "stream",
     "text": [
      "\n",
      "File successfully downloaded to: ./zenodo_dl/1178800.zip\n",
      "[info] File downloaded: ./zenodo_dl/1178800.zip\n",
      "\n",
      "[info] Paper_idx: 851, Zenodo id: 1178754\n"
     ]
    },
    {
     "name": "stderr",
     "output_type": "stream",
     "text": [
      "1178754.zip: 1.33MB [00:04, 319kB/s] \n"
     ]
    },
    {
     "name": "stdout",
     "output_type": "stream",
     "text": [
      "\n",
      "File successfully downloaded to: ./zenodo_dl/1178754.zip\n",
      "[info] File downloaded: ./zenodo_dl/1178754.zip\n",
      "\n",
      "[info] Paper_idx: 852, Zenodo id: 1178788\n"
     ]
    },
    {
     "name": "stderr",
     "output_type": "stream",
     "text": [
      "1178788.zip: 989kB [00:03, 269kB/s]  \n"
     ]
    },
    {
     "name": "stdout",
     "output_type": "stream",
     "text": [
      "\n",
      "File successfully downloaded to: ./zenodo_dl/1178788.zip\n",
      "[info] File downloaded: ./zenodo_dl/1178788.zip\n",
      "\n",
      "[info] Paper_idx: 853, Zenodo id: 1178778\n"
     ]
    },
    {
     "name": "stderr",
     "output_type": "stream",
     "text": [
      "1178778.zip: 2.05MB [00:06, 309kB/s] \n"
     ]
    },
    {
     "name": "stdout",
     "output_type": "stream",
     "text": [
      "\n",
      "File successfully downloaded to: ./zenodo_dl/1178778.zip\n",
      "[info] File downloaded: ./zenodo_dl/1178778.zip\n",
      "\n",
      "[info] Paper_idx: 854, Zenodo id: 1178875\n"
     ]
    },
    {
     "name": "stderr",
     "output_type": "stream",
     "text": [
      "1178875.zip: 4.40MB [00:12, 362kB/s] \n"
     ]
    },
    {
     "name": "stdout",
     "output_type": "stream",
     "text": [
      "\n",
      "File successfully downloaded to: ./zenodo_dl/1178875.zip\n",
      "[info] File downloaded: ./zenodo_dl/1178875.zip\n",
      "\n",
      "[info] Paper_idx: 855, Zenodo id: 1178859\n"
     ]
    },
    {
     "name": "stderr",
     "output_type": "stream",
     "text": [
      "1178859.zip: 1.26MB [00:04, 303kB/s] \n"
     ]
    },
    {
     "name": "stdout",
     "output_type": "stream",
     "text": [
      "\n",
      "File successfully downloaded to: ./zenodo_dl/1178859.zip\n",
      "[info] File downloaded: ./zenodo_dl/1178859.zip\n",
      "\n",
      "[info] Paper_idx: 856, Zenodo id: 1178909\n"
     ]
    },
    {
     "name": "stderr",
     "output_type": "stream",
     "text": [
      "1178909.zip: 4.05MB [00:12, 331kB/s] \n"
     ]
    },
    {
     "name": "stdout",
     "output_type": "stream",
     "text": [
      "\n",
      "File successfully downloaded to: ./zenodo_dl/1178909.zip\n",
      "[info] File downloaded: ./zenodo_dl/1178909.zip\n",
      "\n",
      "[info] Paper_idx: 857, Zenodo id: 1178979\n"
     ]
    },
    {
     "name": "stderr",
     "output_type": "stream",
     "text": [
      "1178979.zip: 3.28MB [00:09, 339kB/s] \n"
     ]
    },
    {
     "name": "stdout",
     "output_type": "stream",
     "text": [
      "\n",
      "File successfully downloaded to: ./zenodo_dl/1178979.zip\n",
      "[info] File downloaded: ./zenodo_dl/1178979.zip\n",
      "\n",
      "[info] Paper_idx: 858, Zenodo id: 1178977\n"
     ]
    },
    {
     "name": "stderr",
     "output_type": "stream",
     "text": [
      "1178977.zip: 1.34MB [00:03, 344kB/s] \n"
     ]
    },
    {
     "name": "stdout",
     "output_type": "stream",
     "text": [
      "\n",
      "File successfully downloaded to: ./zenodo_dl/1178977.zip\n",
      "[info] File downloaded: ./zenodo_dl/1178977.zip\n",
      "\n",
      "[info] Paper_idx: 859, Zenodo id: 1178744\n"
     ]
    },
    {
     "name": "stderr",
     "output_type": "stream",
     "text": [
      "1178744.zip: 1.01MB [00:03, 281kB/s] \n"
     ]
    },
    {
     "name": "stdout",
     "output_type": "stream",
     "text": [
      "\n",
      "File successfully downloaded to: ./zenodo_dl/1178744.zip\n",
      "[info] File downloaded: ./zenodo_dl/1178744.zip\n",
      "\n",
      "[info] Paper_idx: 860, Zenodo id: 1178901\n"
     ]
    },
    {
     "name": "stderr",
     "output_type": "stream",
     "text": [
      "1178901.zip: 2.75MB [00:07, 355kB/s] \n"
     ]
    },
    {
     "name": "stdout",
     "output_type": "stream",
     "text": [
      "\n",
      "File successfully downloaded to: ./zenodo_dl/1178901.zip\n",
      "[info] File downloaded: ./zenodo_dl/1178901.zip\n",
      "\n",
      "[info] Paper_idx: 861, Zenodo id: 1178752\n"
     ]
    },
    {
     "name": "stderr",
     "output_type": "stream",
     "text": [
      "1178752.zip: 5.91MB [00:16, 362kB/s] \n"
     ]
    },
    {
     "name": "stdout",
     "output_type": "stream",
     "text": [
      "\n",
      "File successfully downloaded to: ./zenodo_dl/1178752.zip\n",
      "[info] File downloaded: ./zenodo_dl/1178752.zip\n",
      "\n",
      "[info] Paper_idx: 862, Zenodo id: 1178993\n"
     ]
    },
    {
     "name": "stderr",
     "output_type": "stream",
     "text": [
      "1178993.zip: 825kB [00:02, 297kB/s]  \n"
     ]
    },
    {
     "name": "stdout",
     "output_type": "stream",
     "text": [
      "\n",
      "File successfully downloaded to: ./zenodo_dl/1178993.zip\n",
      "[info] File downloaded: ./zenodo_dl/1178993.zip\n",
      "\n",
      "[info] Paper_idx: 863, Zenodo id: 1178861\n"
     ]
    },
    {
     "name": "stderr",
     "output_type": "stream",
     "text": [
      "1178861.zip: 2.76MB [00:08, 332kB/s] \n"
     ]
    },
    {
     "name": "stdout",
     "output_type": "stream",
     "text": [
      "\n",
      "File successfully downloaded to: ./zenodo_dl/1178861.zip\n",
      "[info] File downloaded: ./zenodo_dl/1178861.zip\n",
      "\n",
      "[info] Paper_idx: 864, Zenodo id: 1178871\n"
     ]
    },
    {
     "name": "stderr",
     "output_type": "stream",
     "text": [
      "1178871.zip: 1.81MB [00:05, 341kB/s] \n"
     ]
    },
    {
     "name": "stdout",
     "output_type": "stream",
     "text": [
      "\n",
      "File successfully downloaded to: ./zenodo_dl/1178871.zip\n",
      "[info] File downloaded: ./zenodo_dl/1178871.zip\n",
      "\n",
      "[info] Paper_idx: 865, Zenodo id: 1178967\n"
     ]
    },
    {
     "name": "stderr",
     "output_type": "stream",
     "text": [
      "1178967.zip: 841kB [00:02, 303kB/s]  \n"
     ]
    },
    {
     "name": "stdout",
     "output_type": "stream",
     "text": [
      "\n",
      "File successfully downloaded to: ./zenodo_dl/1178967.zip\n",
      "[info] File downloaded: ./zenodo_dl/1178967.zip\n",
      "\n",
      "[info] Paper_idx: 866, Zenodo id: 1178760\n"
     ]
    },
    {
     "name": "stderr",
     "output_type": "stream",
     "text": [
      "1178760.zip: 8.68MB [00:23, 373kB/s] \n"
     ]
    },
    {
     "name": "stdout",
     "output_type": "stream",
     "text": [
      "\n",
      "File successfully downloaded to: ./zenodo_dl/1178760.zip\n",
      "[info] File downloaded: ./zenodo_dl/1178760.zip\n",
      "\n",
      "[info] Paper_idx: 867, Zenodo id: 1178756\n"
     ]
    },
    {
     "name": "stderr",
     "output_type": "stream",
     "text": [
      "1178756.zip: 1.46MB [00:04, 328kB/s] \n"
     ]
    },
    {
     "name": "stdout",
     "output_type": "stream",
     "text": [
      "\n",
      "File successfully downloaded to: ./zenodo_dl/1178756.zip\n",
      "[info] File downloaded: ./zenodo_dl/1178756.zip\n",
      "\n",
      "[info] Paper_idx: 868, Zenodo id: 1178865\n"
     ]
    },
    {
     "name": "stderr",
     "output_type": "stream",
     "text": [
      "1178865.zip: 2.13MB [00:06, 346kB/s] \n"
     ]
    },
    {
     "name": "stdout",
     "output_type": "stream",
     "text": [
      "\n",
      "File successfully downloaded to: ./zenodo_dl/1178865.zip\n",
      "[info] File downloaded: ./zenodo_dl/1178865.zip\n",
      "\n",
      "[info] Paper_idx: 869, Zenodo id: 1178728\n"
     ]
    },
    {
     "name": "stderr",
     "output_type": "stream",
     "text": [
      "1178728.zip: 852kB [00:02, 306kB/s]  \n"
     ]
    },
    {
     "name": "stdout",
     "output_type": "stream",
     "text": [
      "\n",
      "File successfully downloaded to: ./zenodo_dl/1178728.zip\n",
      "[info] File downloaded: ./zenodo_dl/1178728.zip\n",
      "\n",
      "[info] Paper_idx: 870, Zenodo id: 1178915\n"
     ]
    },
    {
     "name": "stderr",
     "output_type": "stream",
     "text": [
      "1178915.zip: 1.29MB [00:03, 331kB/s] \n"
     ]
    },
    {
     "name": "stdout",
     "output_type": "stream",
     "text": [
      "\n",
      "File successfully downloaded to: ./zenodo_dl/1178915.zip\n",
      "[info] File downloaded: ./zenodo_dl/1178915.zip\n",
      "\n",
      "[info] Paper_idx: 871, Zenodo id: 1178923\n"
     ]
    },
    {
     "name": "stderr",
     "output_type": "stream",
     "text": [
      "1178923.zip: 877kB [00:03, 287kB/s]  \n"
     ]
    },
    {
     "name": "stdout",
     "output_type": "stream",
     "text": [
      "\n",
      "File successfully downloaded to: ./zenodo_dl/1178923.zip\n",
      "[info] File downloaded: ./zenodo_dl/1178923.zip\n",
      "\n",
      "[info] Paper_idx: 872, Zenodo id: 1178734\n"
     ]
    },
    {
     "name": "stderr",
     "output_type": "stream",
     "text": [
      "1178734.zip: 1.11MB [00:03, 305kB/s] \n"
     ]
    },
    {
     "name": "stdout",
     "output_type": "stream",
     "text": [
      "\n",
      "File successfully downloaded to: ./zenodo_dl/1178734.zip\n",
      "[info] File downloaded: ./zenodo_dl/1178734.zip\n",
      "\n",
      "[info] Paper_idx: 873, Zenodo id: 1178720\n"
     ]
    },
    {
     "name": "stderr",
     "output_type": "stream",
     "text": [
      "1178720.zip: 989kB [00:02, 352kB/s]  \n"
     ]
    },
    {
     "name": "stdout",
     "output_type": "stream",
     "text": [
      "\n",
      "File successfully downloaded to: ./zenodo_dl/1178720.zip\n",
      "[info] File downloaded: ./zenodo_dl/1178720.zip\n",
      "\n",
      "[info] Paper_idx: 874, Zenodo id: 1178782\n"
     ]
    },
    {
     "name": "stderr",
     "output_type": "stream",
     "text": [
      "1178782.zip: 1.28MB [00:04, 311kB/s] \n"
     ]
    },
    {
     "name": "stdout",
     "output_type": "stream",
     "text": [
      "\n",
      "File successfully downloaded to: ./zenodo_dl/1178782.zip\n",
      "[info] File downloaded: ./zenodo_dl/1178782.zip\n",
      "\n",
      "[info] Paper_idx: 875, Zenodo id: 1178776\n"
     ]
    },
    {
     "name": "stderr",
     "output_type": "stream",
     "text": [
      "1178776.zip: 736kB [00:01, 441kB/s]  \n"
     ]
    },
    {
     "name": "stdout",
     "output_type": "stream",
     "text": [
      "\n",
      "File successfully downloaded to: ./zenodo_dl/1178776.zip\n",
      "[info] File downloaded: ./zenodo_dl/1178776.zip\n",
      "\n",
      "[info] Paper_idx: 876, Zenodo id: 1178943\n"
     ]
    },
    {
     "name": "stderr",
     "output_type": "stream",
     "text": [
      "1178943.zip: 1.43MB [00:04, 322kB/s] \n"
     ]
    },
    {
     "name": "stdout",
     "output_type": "stream",
     "text": [
      "\n",
      "File successfully downloaded to: ./zenodo_dl/1178943.zip\n",
      "[info] File downloaded: ./zenodo_dl/1178943.zip\n",
      "\n",
      "[info] Paper_idx: 877, Zenodo id: 1178879\n"
     ]
    },
    {
     "name": "stderr",
     "output_type": "stream",
     "text": [
      "1178879.zip: 778kB [00:02, 312kB/s]  \n"
     ]
    },
    {
     "name": "stdout",
     "output_type": "stream",
     "text": [
      "\n",
      "File successfully downloaded to: ./zenodo_dl/1178879.zip\n",
      "[info] File downloaded: ./zenodo_dl/1178879.zip\n",
      "\n",
      "[info] Paper_idx: 878, Zenodo id: 1178718\n"
     ]
    },
    {
     "name": "stderr",
     "output_type": "stream",
     "text": [
      "1178718.zip: 976kB [00:01, 699kB/s]  \n"
     ]
    },
    {
     "name": "stdout",
     "output_type": "stream",
     "text": [
      "\n",
      "File successfully downloaded to: ./zenodo_dl/1178718.zip\n",
      "[info] File downloaded: ./zenodo_dl/1178718.zip\n",
      "\n",
      "[info] Paper_idx: 879, Zenodo id: 1178905\n"
     ]
    },
    {
     "name": "stderr",
     "output_type": "stream",
     "text": [
      "1178905.zip: 654kB [00:01, 471kB/s]  \n"
     ]
    },
    {
     "name": "stdout",
     "output_type": "stream",
     "text": [
      "\n",
      "File successfully downloaded to: ./zenodo_dl/1178905.zip\n",
      "[info] File downloaded: ./zenodo_dl/1178905.zip\n",
      "\n",
      "[info] Paper_idx: 880, Zenodo id: 1178983\n"
     ]
    },
    {
     "name": "stderr",
     "output_type": "stream",
     "text": [
      "1178983.zip: 1.61MB [00:01, 957kB/s] \n"
     ]
    },
    {
     "name": "stdout",
     "output_type": "stream",
     "text": [
      "\n",
      "File successfully downloaded to: ./zenodo_dl/1178983.zip\n",
      "[info] File downloaded: ./zenodo_dl/1178983.zip\n",
      "\n",
      "[info] Paper_idx: 881, Zenodo id: 1178957\n"
     ]
    },
    {
     "name": "stderr",
     "output_type": "stream",
     "text": [
      "1178957.zip: 1.84MB [00:01, 1.09MB/s]\n"
     ]
    },
    {
     "name": "stdout",
     "output_type": "stream",
     "text": [
      "\n",
      "File successfully downloaded to: ./zenodo_dl/1178957.zip\n",
      "[info] File downloaded: ./zenodo_dl/1178957.zip\n",
      "\n",
      "[info] Paper_idx: 882, Zenodo id: 1178969\n"
     ]
    },
    {
     "name": "stderr",
     "output_type": "stream",
     "text": [
      "1178969.zip: 2.48MB [00:06, 358kB/s] \n"
     ]
    },
    {
     "name": "stdout",
     "output_type": "stream",
     "text": [
      "\n",
      "File successfully downloaded to: ./zenodo_dl/1178969.zip\n",
      "[info] File downloaded: ./zenodo_dl/1178969.zip\n",
      "\n",
      "[info] Paper_idx: 883, Zenodo id: 1178961\n"
     ]
    },
    {
     "name": "stderr",
     "output_type": "stream",
     "text": [
      "1178961.zip: 15.5MB [00:06, 2.42MB/s]\n"
     ]
    },
    {
     "name": "stdout",
     "output_type": "stream",
     "text": [
      "\n",
      "File successfully downloaded to: ./zenodo_dl/1178961.zip\n",
      "[info] File downloaded: ./zenodo_dl/1178961.zip\n",
      "\n",
      "[info] Paper_idx: 884, Zenodo id: 1178730\n"
     ]
    },
    {
     "name": "stderr",
     "output_type": "stream",
     "text": [
      "1178730.zip: 1.13MB [00:01, 682kB/s] \n"
     ]
    },
    {
     "name": "stdout",
     "output_type": "stream",
     "text": [
      "\n",
      "File successfully downloaded to: ./zenodo_dl/1178730.zip\n",
      "[info] File downloaded: ./zenodo_dl/1178730.zip\n",
      "\n",
      "[info] Paper_idx: 885, Zenodo id: 1178810\n"
     ]
    },
    {
     "name": "stderr",
     "output_type": "stream",
     "text": [
      "1178810.zip: 607kB [00:01, 431kB/s]  \n"
     ]
    },
    {
     "name": "stdout",
     "output_type": "stream",
     "text": [
      "\n",
      "File successfully downloaded to: ./zenodo_dl/1178810.zip\n",
      "[info] File downloaded: ./zenodo_dl/1178810.zip\n",
      "\n",
      "[info] Paper_idx: 886, Zenodo id: 1178736\n"
     ]
    },
    {
     "name": "stderr",
     "output_type": "stream",
     "text": [
      "1178736.zip: 805kB [00:02, 322kB/s]  \n"
     ]
    },
    {
     "name": "stdout",
     "output_type": "stream",
     "text": [
      "\n",
      "File successfully downloaded to: ./zenodo_dl/1178736.zip\n",
      "[info] File downloaded: ./zenodo_dl/1178736.zip\n",
      "\n",
      "[info] Paper_idx: 887, Zenodo id: 1178780\n"
     ]
    },
    {
     "name": "stderr",
     "output_type": "stream",
     "text": [
      "1178780.zip: 7.23MB [00:07, 920kB/s] \n"
     ]
    },
    {
     "name": "stdout",
     "output_type": "stream",
     "text": [
      "\n",
      "File successfully downloaded to: ./zenodo_dl/1178780.zip\n",
      "[info] File downloaded: ./zenodo_dl/1178780.zip\n",
      "\n",
      "[info] Paper_idx: 888, Zenodo id: 1178935\n"
     ]
    },
    {
     "name": "stderr",
     "output_type": "stream",
     "text": [
      "1178935.zip: 762kB [00:01, 546kB/s]  \n"
     ]
    },
    {
     "name": "stdout",
     "output_type": "stream",
     "text": [
      "\n",
      "File successfully downloaded to: ./zenodo_dl/1178935.zip\n",
      "[info] File downloaded: ./zenodo_dl/1178935.zip\n",
      "\n",
      "[info] Paper_idx: 889, Zenodo id: 1178973\n"
     ]
    },
    {
     "name": "stderr",
     "output_type": "stream",
     "text": [
      "1178973.zip: 2.10MB [00:06, 342kB/s] \n"
     ]
    },
    {
     "name": "stdout",
     "output_type": "stream",
     "text": [
      "\n",
      "File successfully downloaded to: ./zenodo_dl/1178973.zip\n",
      "[info] File downloaded: ./zenodo_dl/1178973.zip\n",
      "\n",
      "[info] Paper_idx: 890, Zenodo id: 1178818\n"
     ]
    },
    {
     "name": "stderr",
     "output_type": "stream",
     "text": [
      "1178818.zip: 971kB [00:03, 292kB/s]  \n"
     ]
    },
    {
     "name": "stdout",
     "output_type": "stream",
     "text": [
      "\n",
      "File successfully downloaded to: ./zenodo_dl/1178818.zip\n",
      "[info] File downloaded: ./zenodo_dl/1178818.zip\n",
      "\n",
      "[info] Paper_idx: 891, Zenodo id: 1178929\n"
     ]
    },
    {
     "name": "stderr",
     "output_type": "stream",
     "text": [
      "1178929.zip: 1.40MB [00:01, 834kB/s] \n"
     ]
    },
    {
     "name": "stdout",
     "output_type": "stream",
     "text": [
      "\n",
      "File successfully downloaded to: ./zenodo_dl/1178929.zip\n",
      "[info] File downloaded: ./zenodo_dl/1178929.zip\n",
      "\n",
      "[info] Paper_idx: 892, Zenodo id: 1178827\n"
     ]
    },
    {
     "name": "stderr",
     "output_type": "stream",
     "text": [
      "1178827.zip: 5.40MB [00:02, 2.15MB/s]\n"
     ]
    },
    {
     "name": "stdout",
     "output_type": "stream",
     "text": [
      "\n",
      "File successfully downloaded to: ./zenodo_dl/1178827.zip\n",
      "[info] File downloaded: ./zenodo_dl/1178827.zip\n",
      "\n",
      "[info] Paper_idx: 893, Zenodo id: 1178987\n"
     ]
    },
    {
     "name": "stderr",
     "output_type": "stream",
     "text": [
      "1178987.zip: 3.93MB [00:01, 1.99MB/s]\n"
     ]
    },
    {
     "name": "stdout",
     "output_type": "stream",
     "text": [
      "\n",
      "File successfully downloaded to: ./zenodo_dl/1178987.zip\n",
      "[info] File downloaded: ./zenodo_dl/1178987.zip\n",
      "\n",
      "[info] Paper_idx: 894, Zenodo id: 1178837\n"
     ]
    },
    {
     "name": "stderr",
     "output_type": "stream",
     "text": [
      "1178837.zip: 928kB [00:01, 554kB/s]  \n"
     ]
    },
    {
     "name": "stdout",
     "output_type": "stream",
     "text": [
      "\n",
      "File successfully downloaded to: ./zenodo_dl/1178837.zip\n",
      "[info] File downloaded: ./zenodo_dl/1178837.zip\n",
      "\n",
      "[info] Paper_idx: 895, Zenodo id: 1178897\n"
     ]
    },
    {
     "name": "stderr",
     "output_type": "stream",
     "text": [
      "1178897.zip: 6.87MB [00:02, 2.72MB/s]\n"
     ]
    },
    {
     "name": "stdout",
     "output_type": "stream",
     "text": [
      "\n",
      "File successfully downloaded to: ./zenodo_dl/1178897.zip\n",
      "[info] File downloaded: ./zenodo_dl/1178897.zip\n",
      "\n",
      "[info] Paper_idx: 896, Zenodo id: 1178985\n"
     ]
    },
    {
     "name": "stderr",
     "output_type": "stream",
     "text": [
      "1178985.zip: 915kB [00:01, 654kB/s]  \n"
     ]
    },
    {
     "name": "stdout",
     "output_type": "stream",
     "text": [
      "\n",
      "File successfully downloaded to: ./zenodo_dl/1178985.zip\n",
      "[info] File downloaded: ./zenodo_dl/1178985.zip\n",
      "\n",
      "[info] Paper_idx: 897, Zenodo id: 1178824\n"
     ]
    },
    {
     "name": "stderr",
     "output_type": "stream",
     "text": [
      "1178824.zip: 707kB [00:01, 497kB/s]  \n"
     ]
    },
    {
     "name": "stdout",
     "output_type": "stream",
     "text": [
      "\n",
      "File successfully downloaded to: ./zenodo_dl/1178824.zip\n",
      "[info] File downloaded: ./zenodo_dl/1178824.zip\n",
      "\n",
      "[info] Paper_idx: 898, Zenodo id: 1178951\n"
     ]
    },
    {
     "name": "stderr",
     "output_type": "stream",
     "text": [
      "1178951.zip: 2.20MB [00:01, 1.18MB/s]\n"
     ]
    },
    {
     "name": "stdout",
     "output_type": "stream",
     "text": [
      "\n",
      "File successfully downloaded to: ./zenodo_dl/1178951.zip\n",
      "[info] File downloaded: ./zenodo_dl/1178951.zip\n",
      "\n",
      "[info] Paper_idx: 899, Zenodo id: 1178808\n"
     ]
    },
    {
     "name": "stderr",
     "output_type": "stream",
     "text": [
      "1178808.zip: 767kB [00:01, 549kB/s]  \n"
     ]
    },
    {
     "name": "stdout",
     "output_type": "stream",
     "text": [
      "\n",
      "File successfully downloaded to: ./zenodo_dl/1178808.zip\n",
      "[info] File downloaded: ./zenodo_dl/1178808.zip\n",
      "\n",
      "[info] Paper_idx: 900, Zenodo id: 1178764\n"
     ]
    },
    {
     "name": "stderr",
     "output_type": "stream",
     "text": [
      "1178764.zip: 1.79MB [00:02, 827kB/s] \n"
     ]
    },
    {
     "name": "stdout",
     "output_type": "stream",
     "text": [
      "\n",
      "File successfully downloaded to: ./zenodo_dl/1178764.zip\n",
      "[info] File downloaded: ./zenodo_dl/1178764.zip\n",
      "\n",
      "[info] Paper_idx: 901, Zenodo id: 1178965\n"
     ]
    },
    {
     "name": "stderr",
     "output_type": "stream",
     "text": [
      "1178965.zip: 740kB [00:01, 520kB/s]  \n"
     ]
    },
    {
     "name": "stdout",
     "output_type": "stream",
     "text": [
      "\n",
      "File successfully downloaded to: ./zenodo_dl/1178965.zip\n",
      "[info] File downloaded: ./zenodo_dl/1178965.zip\n",
      "\n",
      "[info] Paper_idx: 902, Zenodo id: 1178784\n"
     ]
    },
    {
     "name": "stderr",
     "output_type": "stream",
     "text": [
      "1178784.zip: 757kB [00:01, 526kB/s]  \n"
     ]
    },
    {
     "name": "stdout",
     "output_type": "stream",
     "text": [
      "\n",
      "File successfully downloaded to: ./zenodo_dl/1178784.zip\n",
      "[info] File downloaded: ./zenodo_dl/1178784.zip\n",
      "\n",
      "[info] Paper_idx: 903, Zenodo id: 1178845\n"
     ]
    },
    {
     "name": "stderr",
     "output_type": "stream",
     "text": [
      "1178845.zip: 5.90MB [00:02, 2.10MB/s]\n"
     ]
    },
    {
     "name": "stdout",
     "output_type": "stream",
     "text": [
      "\n",
      "File successfully downloaded to: ./zenodo_dl/1178845.zip\n",
      "[info] File downloaded: ./zenodo_dl/1178845.zip\n",
      "\n",
      "[info] Paper_idx: 904, Zenodo id: 1178917\n"
     ]
    },
    {
     "name": "stderr",
     "output_type": "stream",
     "text": [
      "1178917.zip: 858kB [00:01, 614kB/s]  \n"
     ]
    },
    {
     "name": "stdout",
     "output_type": "stream",
     "text": [
      "\n",
      "File successfully downloaded to: ./zenodo_dl/1178917.zip\n",
      "[info] File downloaded: ./zenodo_dl/1178917.zip\n",
      "\n",
      "[info] Paper_idx: 905, Zenodo id: 1178959\n"
     ]
    },
    {
     "name": "stderr",
     "output_type": "stream",
     "text": [
      "1178959.zip: 10.3MB [00:02, 3.69MB/s]\n"
     ]
    },
    {
     "name": "stdout",
     "output_type": "stream",
     "text": [
      "\n",
      "File successfully downloaded to: ./zenodo_dl/1178959.zip\n",
      "[info] File downloaded: ./zenodo_dl/1178959.zip\n",
      "\n",
      "[info] Paper_idx: 906, Zenodo id: 1178835\n"
     ]
    },
    {
     "name": "stderr",
     "output_type": "stream",
     "text": [
      "1178835.zip: 6.21MB [00:02, 2.46MB/s]\n"
     ]
    },
    {
     "name": "stdout",
     "output_type": "stream",
     "text": [
      "\n",
      "File successfully downloaded to: ./zenodo_dl/1178835.zip\n",
      "[info] File downloaded: ./zenodo_dl/1178835.zip\n",
      "\n",
      "[info] Paper_idx: 907, Zenodo id: 1178933\n"
     ]
    },
    {
     "name": "stderr",
     "output_type": "stream",
     "text": [
      "1178933.zip: 635kB [00:01, 458kB/s]  \n"
     ]
    },
    {
     "name": "stdout",
     "output_type": "stream",
     "text": [
      "\n",
      "File successfully downloaded to: ./zenodo_dl/1178933.zip\n",
      "[info] File downloaded: ./zenodo_dl/1178933.zip\n",
      "\n",
      "[info] Paper_idx: 908, Zenodo id: 1180950\n"
     ]
    },
    {
     "name": "stderr",
     "output_type": "stream",
     "text": [
      "1180950.zip: 8.83MB [00:03, 2.88MB/s]\n"
     ]
    },
    {
     "name": "stdout",
     "output_type": "stream",
     "text": [
      "\n",
      "File successfully downloaded to: ./zenodo_dl/1180950.zip\n",
      "[info] File downloaded: ./zenodo_dl/1180950.zip\n",
      "\n",
      "[info] Paper_idx: 909, Zenodo id: 1178794\n"
     ]
    },
    {
     "name": "stderr",
     "output_type": "stream",
     "text": [
      "1178794.zip: 941kB [00:01, 668kB/s]  \n"
     ]
    },
    {
     "name": "stdout",
     "output_type": "stream",
     "text": [
      "\n",
      "File successfully downloaded to: ./zenodo_dl/1178794.zip\n",
      "[info] File downloaded: ./zenodo_dl/1178794.zip\n",
      "\n",
      "[info] Paper_idx: 910, Zenodo id: 1178989\n"
     ]
    },
    {
     "name": "stderr",
     "output_type": "stream",
     "text": [
      "1178989.zip: 2.43MB [00:01, 1.25MB/s]\n"
     ]
    },
    {
     "name": "stdout",
     "output_type": "stream",
     "text": [
      "\n",
      "File successfully downloaded to: ./zenodo_dl/1178989.zip\n",
      "[info] File downloaded: ./zenodo_dl/1178989.zip\n",
      "\n",
      "[info] Paper_idx: 911, Zenodo id: 1178869\n"
     ]
    },
    {
     "name": "stderr",
     "output_type": "stream",
     "text": [
      "1178869.zip: 1.36MB [00:01, 801kB/s] \n"
     ]
    },
    {
     "name": "stdout",
     "output_type": "stream",
     "text": [
      "\n",
      "File successfully downloaded to: ./zenodo_dl/1178869.zip\n",
      "[info] File downloaded: ./zenodo_dl/1178869.zip\n",
      "\n",
      "[info] Paper_idx: 912, Zenodo id: 1178991\n"
     ]
    },
    {
     "name": "stderr",
     "output_type": "stream",
     "text": [
      "1178991.zip: 737kB [00:01, 443kB/s]  \n"
     ]
    },
    {
     "name": "stdout",
     "output_type": "stream",
     "text": [
      "\n",
      "File successfully downloaded to: ./zenodo_dl/1178991.zip\n",
      "[info] File downloaded: ./zenodo_dl/1178991.zip\n",
      "\n",
      "[info] Paper_idx: 913, Zenodo id: 1178742\n"
     ]
    },
    {
     "name": "stderr",
     "output_type": "stream",
     "text": [
      "1178742.zip: 852kB [00:01, 610kB/s]  \n"
     ]
    },
    {
     "name": "stdout",
     "output_type": "stream",
     "text": [
      "\n",
      "File successfully downloaded to: ./zenodo_dl/1178742.zip\n",
      "[info] File downloaded: ./zenodo_dl/1178742.zip\n",
      "\n",
      "[info] Paper_idx: 914, Zenodo id: 1178738\n"
     ]
    },
    {
     "name": "stderr",
     "output_type": "stream",
     "text": [
      "1178738.zip: 1.85MB [00:01, 1.10MB/s]\n"
     ]
    },
    {
     "name": "stdout",
     "output_type": "stream",
     "text": [
      "\n",
      "File successfully downloaded to: ./zenodo_dl/1178738.zip\n",
      "[info] File downloaded: ./zenodo_dl/1178738.zip\n",
      "\n",
      "[info] Paper_idx: 915, Zenodo id: 1178802\n"
     ]
    },
    {
     "name": "stderr",
     "output_type": "stream",
     "text": [
      "1178802.zip: 2.77MB [00:02, 1.25MB/s]\n"
     ]
    },
    {
     "name": "stdout",
     "output_type": "stream",
     "text": [
      "\n",
      "File successfully downloaded to: ./zenodo_dl/1178802.zip\n",
      "[info] File downloaded: ./zenodo_dl/1178802.zip\n",
      "\n",
      "[info] Paper_idx: 916, Zenodo id: 1178748\n"
     ]
    },
    {
     "name": "stderr",
     "output_type": "stream",
     "text": [
      "1178748.zip: 2.01MB [00:01, 1.20MB/s]\n"
     ]
    },
    {
     "name": "stdout",
     "output_type": "stream",
     "text": [
      "\n",
      "File successfully downloaded to: ./zenodo_dl/1178748.zip\n",
      "[info] File downloaded: ./zenodo_dl/1178748.zip\n",
      "\n",
      "[info] Paper_idx: 917, Zenodo id: 1178911\n"
     ]
    },
    {
     "name": "stderr",
     "output_type": "stream",
     "text": [
      "1178911.zip: 1.01MB [00:01, 705kB/s] \n"
     ]
    },
    {
     "name": "stdout",
     "output_type": "stream",
     "text": [
      "\n",
      "File successfully downloaded to: ./zenodo_dl/1178911.zip\n",
      "[info] File downloaded: ./zenodo_dl/1178911.zip\n",
      "\n",
      "[info] Paper_idx: 918, Zenodo id: 1178873\n"
     ]
    },
    {
     "name": "stderr",
     "output_type": "stream",
     "text": [
      "1178873.zip: 652kB [00:01, 467kB/s]  \n"
     ]
    },
    {
     "name": "stdout",
     "output_type": "stream",
     "text": [
      "\n",
      "File successfully downloaded to: ./zenodo_dl/1178873.zip\n",
      "[info] File downloaded: ./zenodo_dl/1178873.zip\n",
      "\n",
      "[info] Paper_idx: 919, Zenodo id: 1178839\n"
     ]
    },
    {
     "name": "stderr",
     "output_type": "stream",
     "text": [
      "1178839.zip: 639kB [00:01, 464kB/s]  \n"
     ]
    },
    {
     "name": "stdout",
     "output_type": "stream",
     "text": [
      "\n",
      "File successfully downloaded to: ./zenodo_dl/1178839.zip\n",
      "[info] File downloaded: ./zenodo_dl/1178839.zip\n",
      "\n",
      "[info] Paper_idx: 920, Zenodo id: 1178762\n"
     ]
    },
    {
     "name": "stderr",
     "output_type": "stream",
     "text": [
      "1178762.zip: 785kB [00:01, 565kB/s]  \n"
     ]
    },
    {
     "name": "stdout",
     "output_type": "stream",
     "text": [
      "\n",
      "File successfully downloaded to: ./zenodo_dl/1178762.zip\n",
      "[info] File downloaded: ./zenodo_dl/1178762.zip\n",
      "\n",
      "[info] Paper_idx: 921, Zenodo id: 1178786\n"
     ]
    },
    {
     "name": "stderr",
     "output_type": "stream",
     "text": [
      "1178786.zip: 1.47MB [00:01, 883kB/s] \n"
     ]
    },
    {
     "name": "stdout",
     "output_type": "stream",
     "text": [
      "\n",
      "File successfully downloaded to: ./zenodo_dl/1178786.zip\n",
      "[info] File downloaded: ./zenodo_dl/1178786.zip\n",
      "\n",
      "[info] Paper_idx: 922, Zenodo id: 1178774\n"
     ]
    },
    {
     "name": "stderr",
     "output_type": "stream",
     "text": [
      "1178774.zip: 1.12MB [00:01, 666kB/s] \n"
     ]
    },
    {
     "name": "stdout",
     "output_type": "stream",
     "text": [
      "\n",
      "File successfully downloaded to: ./zenodo_dl/1178774.zip\n",
      "[info] File downloaded: ./zenodo_dl/1178774.zip\n",
      "\n",
      "[info] Paper_idx: 923, Zenodo id: 1178829\n"
     ]
    },
    {
     "name": "stderr",
     "output_type": "stream",
     "text": [
      "1178829.zip: 1.57MB [00:01, 935kB/s] \n"
     ]
    },
    {
     "name": "stdout",
     "output_type": "stream",
     "text": [
      "\n",
      "File successfully downloaded to: ./zenodo_dl/1178829.zip\n",
      "[info] File downloaded: ./zenodo_dl/1178829.zip\n",
      "\n",
      "[info] Paper_idx: 924, Zenodo id: 1178947\n"
     ]
    },
    {
     "name": "stderr",
     "output_type": "stream",
     "text": [
      "1178947.zip: 947kB [00:01, 668kB/s]  \n"
     ]
    },
    {
     "name": "stdout",
     "output_type": "stream",
     "text": [
      "\n",
      "File successfully downloaded to: ./zenodo_dl/1178947.zip\n",
      "[info] File downloaded: ./zenodo_dl/1178947.zip\n",
      "\n",
      "[info] Paper_idx: 925, Zenodo id: 1178740\n"
     ]
    },
    {
     "name": "stderr",
     "output_type": "stream",
     "text": [
      "1178740.zip: 773kB [00:02, 385kB/s]  \n"
     ]
    },
    {
     "name": "stdout",
     "output_type": "stream",
     "text": [
      "\n",
      "File successfully downloaded to: ./zenodo_dl/1178740.zip\n",
      "[info] File downloaded: ./zenodo_dl/1178740.zip\n",
      "\n",
      "[info] Paper_idx: 926, Zenodo id: 1178955\n"
     ]
    },
    {
     "name": "stderr",
     "output_type": "stream",
     "text": [
      "1178955.zip: 1.96MB [00:05, 352kB/s] \n"
     ]
    },
    {
     "name": "stdout",
     "output_type": "stream",
     "text": [
      "\n",
      "File successfully downloaded to: ./zenodo_dl/1178955.zip\n",
      "[info] File downloaded: ./zenodo_dl/1178955.zip\n",
      "\n",
      "[info] Paper_idx: 927, Zenodo id: 1178722\n"
     ]
    },
    {
     "name": "stderr",
     "output_type": "stream",
     "text": [
      "1178722.zip: 787kB [00:02, 263kB/s]  \n"
     ]
    },
    {
     "name": "stdout",
     "output_type": "stream",
     "text": [
      "\n",
      "File successfully downloaded to: ./zenodo_dl/1178722.zip\n",
      "[info] File downloaded: ./zenodo_dl/1178722.zip\n",
      "\n",
      "[info] Paper_idx: 928, Zenodo id: 1178939\n"
     ]
    },
    {
     "name": "stderr",
     "output_type": "stream",
     "text": [
      "1178939.zip: 1.54MB [00:01, 793kB/s] \n"
     ]
    },
    {
     "name": "stdout",
     "output_type": "stream",
     "text": [
      "\n",
      "File successfully downloaded to: ./zenodo_dl/1178939.zip\n",
      "[info] File downloaded: ./zenodo_dl/1178939.zip\n",
      "\n",
      "[info] Paper_idx: 929, Zenodo id: 1178798\n"
     ]
    },
    {
     "name": "stderr",
     "output_type": "stream",
     "text": [
      "1178798.zip: 730kB [00:01, 507kB/s]  \n"
     ]
    },
    {
     "name": "stdout",
     "output_type": "stream",
     "text": [
      "\n",
      "File successfully downloaded to: ./zenodo_dl/1178798.zip\n",
      "[info] File downloaded: ./zenodo_dl/1178798.zip\n",
      "\n",
      "[info] Paper_idx: 930, Zenodo id: 1178941\n"
     ]
    },
    {
     "name": "stderr",
     "output_type": "stream",
     "text": [
      "1178941.zip: 810kB [00:02, 291kB/s]  \n"
     ]
    },
    {
     "name": "stdout",
     "output_type": "stream",
     "text": [
      "\n",
      "File successfully downloaded to: ./zenodo_dl/1178941.zip\n",
      "[info] File downloaded: ./zenodo_dl/1178941.zip\n",
      "\n",
      "[info] Paper_idx: 931, Zenodo id: 1178893\n"
     ]
    },
    {
     "name": "stderr",
     "output_type": "stream",
     "text": [
      "1178893.zip: 963kB [00:01, 682kB/s]  \n"
     ]
    },
    {
     "name": "stdout",
     "output_type": "stream",
     "text": [
      "\n",
      "File successfully downloaded to: ./zenodo_dl/1178893.zip\n",
      "[info] File downloaded: ./zenodo_dl/1178893.zip\n",
      "\n",
      "[info] Paper_idx: 932, Zenodo id: 1178849\n"
     ]
    },
    {
     "name": "stderr",
     "output_type": "stream",
     "text": [
      "1178849.zip: 2.05MB [00:05, 347kB/s] \n"
     ]
    },
    {
     "name": "stdout",
     "output_type": "stream",
     "text": [
      "\n",
      "File successfully downloaded to: ./zenodo_dl/1178849.zip\n",
      "[info] File downloaded: ./zenodo_dl/1178849.zip\n",
      "\n",
      "[info] Paper_idx: 933, Zenodo id: 1178831\n"
     ]
    },
    {
     "name": "stderr",
     "output_type": "stream",
     "text": [
      "1178831.zip: 786kB [00:02, 281kB/s]  \n"
     ]
    },
    {
     "name": "stdout",
     "output_type": "stream",
     "text": [
      "\n",
      "File successfully downloaded to: ./zenodo_dl/1178831.zip\n",
      "[info] File downloaded: ./zenodo_dl/1178831.zip\n",
      "\n",
      "[info] Paper_idx: 934, Zenodo id: 1178710\n"
     ]
    },
    {
     "name": "stderr",
     "output_type": "stream",
     "text": [
      "1178710.zip: 1.20MB [00:03, 310kB/s] \n"
     ]
    },
    {
     "name": "stdout",
     "output_type": "stream",
     "text": [
      "\n",
      "File successfully downloaded to: ./zenodo_dl/1178710.zip\n",
      "[info] File downloaded: ./zenodo_dl/1178710.zip\n",
      "\n",
      "[info] Paper_idx: 935, Zenodo id: 1178750\n"
     ]
    },
    {
     "name": "stderr",
     "output_type": "stream",
     "text": [
      "1178750.zip: 641kB [00:02, 257kB/s]  \n"
     ]
    },
    {
     "name": "stdout",
     "output_type": "stream",
     "text": [
      "\n",
      "File successfully downloaded to: ./zenodo_dl/1178750.zip\n",
      "[info] File downloaded: ./zenodo_dl/1178750.zip\n",
      "\n",
      "[info] Paper_idx: 936, Zenodo id: 1178847\n"
     ]
    },
    {
     "name": "stderr",
     "output_type": "stream",
     "text": [
      "1178847.zip: 1.34MB [00:01, 800kB/s] \n"
     ]
    },
    {
     "name": "stdout",
     "output_type": "stream",
     "text": [
      "\n",
      "File successfully downloaded to: ./zenodo_dl/1178847.zip\n",
      "[info] File downloaded: ./zenodo_dl/1178847.zip\n",
      "\n",
      "[info] Paper_idx: 937, Zenodo id: 1178732\n"
     ]
    },
    {
     "name": "stderr",
     "output_type": "stream",
     "text": [
      "1178732.zip: 3.04MB [00:08, 367kB/s] \n"
     ]
    },
    {
     "name": "stdout",
     "output_type": "stream",
     "text": [
      "\n",
      "File successfully downloaded to: ./zenodo_dl/1178732.zip\n",
      "[info] File downloaded: ./zenodo_dl/1178732.zip\n",
      "\n",
      "[info] Paper_idx: 938, Zenodo id: 1178913\n"
     ]
    },
    {
     "name": "stderr",
     "output_type": "stream",
     "text": [
      "1178913.zip: 2.10MB [00:01, 1.23MB/s]\n"
     ]
    },
    {
     "name": "stdout",
     "output_type": "stream",
     "text": [
      "\n",
      "File successfully downloaded to: ./zenodo_dl/1178913.zip\n",
      "[info] File downloaded: ./zenodo_dl/1178913.zip\n",
      "\n",
      "[info] Paper_idx: 939, Zenodo id: 1178927\n"
     ]
    },
    {
     "name": "stderr",
     "output_type": "stream",
     "text": [
      "1178927.zip: 1.40MB [00:01, 825kB/s] \n"
     ]
    },
    {
     "name": "stdout",
     "output_type": "stream",
     "text": [
      "\n",
      "File successfully downloaded to: ./zenodo_dl/1178927.zip\n",
      "[info] File downloaded: ./zenodo_dl/1178927.zip\n",
      "\n",
      "[info] Paper_idx: 940, Zenodo id: 1178804\n"
     ]
    },
    {
     "name": "stderr",
     "output_type": "stream",
     "text": [
      "1178804.zip: 2.64MB [00:01, 1.35MB/s]\n"
     ]
    },
    {
     "name": "stdout",
     "output_type": "stream",
     "text": [
      "\n",
      "File successfully downloaded to: ./zenodo_dl/1178804.zip\n",
      "[info] File downloaded: ./zenodo_dl/1178804.zip\n",
      "\n",
      "[info] Paper_idx: 941, Zenodo id: 1178903\n"
     ]
    },
    {
     "name": "stderr",
     "output_type": "stream",
     "text": [
      "1178903.zip: 5.77MB [00:02, 2.31MB/s]\n"
     ]
    },
    {
     "name": "stdout",
     "output_type": "stream",
     "text": [
      "\n",
      "File successfully downloaded to: ./zenodo_dl/1178903.zip\n",
      "[info] File downloaded: ./zenodo_dl/1178903.zip\n",
      "\n",
      "[info] Paper_idx: 942, Zenodo id: 1178702\n"
     ]
    },
    {
     "name": "stderr",
     "output_type": "stream",
     "text": [
      "1178702.zip: 2.08MB [00:01, 1.06MB/s]\n"
     ]
    },
    {
     "name": "stdout",
     "output_type": "stream",
     "text": [
      "\n",
      "File successfully downloaded to: ./zenodo_dl/1178702.zip\n",
      "[info] File downloaded: ./zenodo_dl/1178702.zip\n",
      "\n",
      "[info] Paper_idx: 943, Zenodo id: 1178620\n"
     ]
    },
    {
     "name": "stderr",
     "output_type": "stream",
     "text": [
      "1178620.zip: 8.67MB [00:24, 352kB/s] \n"
     ]
    },
    {
     "name": "stdout",
     "output_type": "stream",
     "text": [
      "\n",
      "File successfully downloaded to: ./zenodo_dl/1178620.zip\n",
      "[info] File downloaded: ./zenodo_dl/1178620.zip\n",
      "\n",
      "[info] Paper_idx: 944, Zenodo id: 1178522\n"
     ]
    },
    {
     "name": "stderr",
     "output_type": "stream",
     "text": [
      "1178522.zip: 685kB [00:02, 274kB/s]  \n"
     ]
    },
    {
     "name": "stdout",
     "output_type": "stream",
     "text": [
      "\n",
      "File successfully downloaded to: ./zenodo_dl/1178522.zip\n",
      "[info] File downloaded: ./zenodo_dl/1178522.zip\n",
      "\n",
      "[info] Paper_idx: 945, Zenodo id: 1178488\n"
     ]
    },
    {
     "name": "stderr",
     "output_type": "stream",
     "text": [
      "1178488.zip: 533kB [00:01, 387kB/s]  \n"
     ]
    },
    {
     "name": "stdout",
     "output_type": "stream",
     "text": [
      "\n",
      "File successfully downloaded to: ./zenodo_dl/1178488.zip\n",
      "[info] File downloaded: ./zenodo_dl/1178488.zip\n",
      "\n",
      "[info] Paper_idx: 946, Zenodo id: 1178564\n"
     ]
    },
    {
     "name": "stderr",
     "output_type": "stream",
     "text": [
      "1178564.zip: 4.47MB [00:11, 384kB/s] \n"
     ]
    },
    {
     "name": "stdout",
     "output_type": "stream",
     "text": [
      "\n",
      "File successfully downloaded to: ./zenodo_dl/1178564.zip\n",
      "[info] File downloaded: ./zenodo_dl/1178564.zip\n",
      "\n",
      "[info] Paper_idx: 947, Zenodo id: 1178528\n"
     ]
    },
    {
     "name": "stderr",
     "output_type": "stream",
     "text": [
      "1178528.zip: 547kB [00:02, 246kB/s]  \n"
     ]
    },
    {
     "name": "stdout",
     "output_type": "stream",
     "text": [
      "\n",
      "File successfully downloaded to: ./zenodo_dl/1178528.zip\n",
      "[info] File downloaded: ./zenodo_dl/1178528.zip\n",
      "\n",
      "[info] Paper_idx: 948, Zenodo id: 1178576\n"
     ]
    },
    {
     "name": "stderr",
     "output_type": "stream",
     "text": [
      "1178576.zip: 88.2MB [03:54, 377kB/s] \n"
     ]
    },
    {
     "name": "stdout",
     "output_type": "stream",
     "text": [
      "\n",
      "File successfully downloaded to: ./zenodo_dl/1178576.zip\n",
      "[info] File downloaded: ./zenodo_dl/1178576.zip\n",
      "\n",
      "[info] Paper_idx: 949, Zenodo id: 1178698\n"
     ]
    },
    {
     "name": "stderr",
     "output_type": "stream",
     "text": [
      "1178698.zip: 391kB [00:01, 349kB/s]  \n"
     ]
    },
    {
     "name": "stdout",
     "output_type": "stream",
     "text": [
      "\n",
      "File successfully downloaded to: ./zenodo_dl/1178698.zip\n",
      "[info] File downloaded: ./zenodo_dl/1178698.zip\n",
      "\n",
      "[info] Paper_idx: 950, Zenodo id: 1178552\n"
     ]
    },
    {
     "name": "stderr",
     "output_type": "stream",
     "text": [
      "1178552.zip: 3.33MB [00:09, 363kB/s] \n"
     ]
    },
    {
     "name": "stdout",
     "output_type": "stream",
     "text": [
      "\n",
      "File successfully downloaded to: ./zenodo_dl/1178552.zip\n",
      "[info] File downloaded: ./zenodo_dl/1178552.zip\n",
      "\n",
      "[info] Paper_idx: 951, Zenodo id: 1178612\n"
     ]
    },
    {
     "name": "stderr",
     "output_type": "stream",
     "text": [
      "1178612.zip: 2.95MB [00:01, 1.49MB/s]\n"
     ]
    },
    {
     "name": "stdout",
     "output_type": "stream",
     "text": [
      "\n",
      "File successfully downloaded to: ./zenodo_dl/1178612.zip\n",
      "[info] File downloaded: ./zenodo_dl/1178612.zip\n",
      "\n",
      "[info] Paper_idx: 952, Zenodo id: 1178494\n"
     ]
    },
    {
     "name": "stderr",
     "output_type": "stream",
     "text": [
      "1178494.zip: 753kB [00:02, 270kB/s]  \n"
     ]
    },
    {
     "name": "stdout",
     "output_type": "stream",
     "text": [
      "\n",
      "File successfully downloaded to: ./zenodo_dl/1178494.zip\n",
      "[info] File downloaded: ./zenodo_dl/1178494.zip\n",
      "\n",
      "[info] Paper_idx: 953, Zenodo id: 1178542\n"
     ]
    },
    {
     "name": "stderr",
     "output_type": "stream",
     "text": [
      "1178542.zip: 757kB [00:01, 541kB/s]  \n"
     ]
    },
    {
     "name": "stdout",
     "output_type": "stream",
     "text": [
      "\n",
      "File successfully downloaded to: ./zenodo_dl/1178542.zip\n",
      "[info] File downloaded: ./zenodo_dl/1178542.zip\n",
      "\n",
      "[info] Paper_idx: 954, Zenodo id: 1178602\n"
     ]
    },
    {
     "name": "stderr",
     "output_type": "stream",
     "text": [
      "1178602.zip: 3.06MB [00:08, 345kB/s] \n"
     ]
    },
    {
     "name": "stdout",
     "output_type": "stream",
     "text": [
      "\n",
      "File successfully downloaded to: ./zenodo_dl/1178602.zip\n",
      "[info] File downloaded: ./zenodo_dl/1178602.zip\n",
      "\n",
      "[info] Paper_idx: 955, Zenodo id: 1178608\n"
     ]
    },
    {
     "name": "stderr",
     "output_type": "stream",
     "text": [
      "1178608.zip: 9.31MB [00:03, 2.88MB/s]\n"
     ]
    },
    {
     "name": "stdout",
     "output_type": "stream",
     "text": [
      "\n",
      "File successfully downloaded to: ./zenodo_dl/1178608.zip\n",
      "[info] File downloaded: ./zenodo_dl/1178608.zip\n",
      "\n",
      "[info] Paper_idx: 956, Zenodo id: 1178482\n"
     ]
    },
    {
     "name": "stderr",
     "output_type": "stream",
     "text": [
      "1178482.zip: 7.86MB [00:21, 359kB/s] \n"
     ]
    },
    {
     "name": "stdout",
     "output_type": "stream",
     "text": [
      "\n",
      "File successfully downloaded to: ./zenodo_dl/1178482.zip\n",
      "[info] File downloaded: ./zenodo_dl/1178482.zip\n",
      "\n",
      "[info] Paper_idx: 957, Zenodo id: 1178656\n"
     ]
    },
    {
     "name": "stderr",
     "output_type": "stream",
     "text": [
      "1178656.zip: 1.21MB [00:03, 310kB/s] \n"
     ]
    },
    {
     "name": "stdout",
     "output_type": "stream",
     "text": [
      "\n",
      "File successfully downloaded to: ./zenodo_dl/1178656.zip\n",
      "[info] File downloaded: ./zenodo_dl/1178656.zip\n",
      "\n",
      "[info] Paper_idx: 958, Zenodo id: 1178560\n"
     ]
    },
    {
     "name": "stderr",
     "output_type": "stream",
     "text": [
      "1178560.zip: 2.20MB [00:01, 1.13MB/s]\n"
     ]
    },
    {
     "name": "stdout",
     "output_type": "stream",
     "text": [
      "\n",
      "File successfully downloaded to: ./zenodo_dl/1178560.zip\n",
      "[info] File downloaded: ./zenodo_dl/1178560.zip\n",
      "\n",
      "[info] Paper_idx: 959, Zenodo id: 1178614\n"
     ]
    },
    {
     "name": "stderr",
     "output_type": "stream",
     "text": [
      "1178614.zip: 1.78MB [00:04, 357kB/s] \n"
     ]
    },
    {
     "name": "stdout",
     "output_type": "stream",
     "text": [
      "\n",
      "File successfully downloaded to: ./zenodo_dl/1178614.zip\n",
      "[info] File downloaded: ./zenodo_dl/1178614.zip\n",
      "\n",
      "[info] Paper_idx: 960, Zenodo id: 1178554\n"
     ]
    },
    {
     "name": "stderr",
     "output_type": "stream",
     "text": [
      "1178554.zip: 19.7MB [00:05, 3.72MB/s]\n"
     ]
    },
    {
     "name": "stdout",
     "output_type": "stream",
     "text": [
      "\n",
      "File successfully downloaded to: ./zenodo_dl/1178554.zip\n",
      "[info] File downloaded: ./zenodo_dl/1178554.zip\n",
      "\n",
      "[info] Paper_idx: 961, Zenodo id: 1178486\n"
     ]
    },
    {
     "name": "stderr",
     "output_type": "stream",
     "text": [
      "1178486.zip: 314kB [00:01, 278kB/s]  \n"
     ]
    },
    {
     "name": "stdout",
     "output_type": "stream",
     "text": [
      "\n",
      "File successfully downloaded to: ./zenodo_dl/1178486.zip\n",
      "[info] File downloaded: ./zenodo_dl/1178486.zip\n",
      "\n",
      "[info] Paper_idx: 962, Zenodo id: 1178520\n"
     ]
    },
    {
     "name": "stderr",
     "output_type": "stream",
     "text": [
      "1178520.zip: 10.3MB [00:27, 374kB/s] \n"
     ]
    },
    {
     "name": "stdout",
     "output_type": "stream",
     "text": [
      "\n",
      "File successfully downloaded to: ./zenodo_dl/1178520.zip\n",
      "[info] File downloaded: ./zenodo_dl/1178520.zip\n",
      "\n",
      "[info] Paper_idx: 963, Zenodo id: 1178658\n"
     ]
    },
    {
     "name": "stderr",
     "output_type": "stream",
     "text": [
      "1178658.zip: 1.75MB [00:01, 1.04MB/s]\n"
     ]
    },
    {
     "name": "stdout",
     "output_type": "stream",
     "text": [
      "\n",
      "File successfully downloaded to: ./zenodo_dl/1178658.zip\n",
      "[info] File downloaded: ./zenodo_dl/1178658.zip\n",
      "\n",
      "[info] Paper_idx: 964, Zenodo id: 1178463\n"
     ]
    },
    {
     "name": "stderr",
     "output_type": "stream",
     "text": [
      "1178463.zip: 273kB [00:01, 241kB/s]  \n"
     ]
    },
    {
     "name": "stdout",
     "output_type": "stream",
     "text": [
      "\n",
      "File successfully downloaded to: ./zenodo_dl/1178463.zip\n",
      "[info] File downloaded: ./zenodo_dl/1178463.zip\n",
      "\n",
      "[info] Paper_idx: 965, Zenodo id: 1178492\n"
     ]
    },
    {
     "name": "stderr",
     "output_type": "stream",
     "text": [
      "1178492.zip: 6.62MB [00:02, 2.64MB/s]\n"
     ]
    },
    {
     "name": "stdout",
     "output_type": "stream",
     "text": [
      "\n",
      "File successfully downloaded to: ./zenodo_dl/1178492.zip\n",
      "[info] File downloaded: ./zenodo_dl/1178492.zip\n",
      "\n",
      "[info] Paper_idx: 966, Zenodo id: 1178512\n"
     ]
    },
    {
     "name": "stderr",
     "output_type": "stream",
     "text": [
      "1178512.zip: 206kB [00:01, 185kB/s]  \n"
     ]
    },
    {
     "name": "stdout",
     "output_type": "stream",
     "text": [
      "\n",
      "File successfully downloaded to: ./zenodo_dl/1178512.zip\n",
      "[info] File downloaded: ./zenodo_dl/1178512.zip\n",
      "\n",
      "[info] Paper_idx: 967, Zenodo id: 1178686\n"
     ]
    },
    {
     "name": "stderr",
     "output_type": "stream",
     "text": [
      "1178686.zip: 1.19MB [00:01, 718kB/s] \n"
     ]
    },
    {
     "name": "stdout",
     "output_type": "stream",
     "text": [
      "\n",
      "File successfully downloaded to: ./zenodo_dl/1178686.zip\n",
      "[info] File downloaded: ./zenodo_dl/1178686.zip\n",
      "\n",
      "[info] Paper_idx: 968, Zenodo id: 1178572\n"
     ]
    },
    {
     "name": "stderr",
     "output_type": "stream",
     "text": [
      "1178572.zip: 929kB [00:03, 304kB/s]  \n"
     ]
    },
    {
     "name": "stdout",
     "output_type": "stream",
     "text": [
      "\n",
      "File successfully downloaded to: ./zenodo_dl/1178572.zip\n",
      "[info] File downloaded: ./zenodo_dl/1178572.zip\n",
      "\n",
      "[info] Paper_idx: 969, Zenodo id: 1178514\n"
     ]
    },
    {
     "name": "stderr",
     "output_type": "stream",
     "text": [
      "1178514.zip: 1.75MB [00:01, 1.05MB/s]\n"
     ]
    },
    {
     "name": "stdout",
     "output_type": "stream",
     "text": [
      "\n",
      "File successfully downloaded to: ./zenodo_dl/1178514.zip\n",
      "[info] File downloaded: ./zenodo_dl/1178514.zip\n",
      "\n",
      "[info] Paper_idx: 970, Zenodo id: 1178694\n"
     ]
    },
    {
     "name": "stderr",
     "output_type": "stream",
     "text": [
      "1178694.zip: 4.10MB [00:02, 1.82MB/s]\n"
     ]
    },
    {
     "name": "stdout",
     "output_type": "stream",
     "text": [
      "\n",
      "File successfully downloaded to: ./zenodo_dl/1178694.zip\n",
      "[info] File downloaded: ./zenodo_dl/1178694.zip\n",
      "\n",
      "[info] Paper_idx: 971, Zenodo id: 1178674\n"
     ]
    },
    {
     "name": "stderr",
     "output_type": "stream",
     "text": [
      "1178674.zip: 2.31MB [00:01, 1.19MB/s]\n"
     ]
    },
    {
     "name": "stdout",
     "output_type": "stream",
     "text": [
      "\n",
      "File successfully downloaded to: ./zenodo_dl/1178674.zip\n",
      "[info] File downloaded: ./zenodo_dl/1178674.zip\n",
      "\n",
      "[info] Paper_idx: 972, Zenodo id: 1178634\n"
     ]
    },
    {
     "name": "stderr",
     "output_type": "stream",
     "text": [
      "1178634.zip: 421kB [00:01, 371kB/s]  \n"
     ]
    },
    {
     "name": "stdout",
     "output_type": "stream",
     "text": [
      "\n",
      "File successfully downloaded to: ./zenodo_dl/1178634.zip\n",
      "[info] File downloaded: ./zenodo_dl/1178634.zip\n",
      "\n",
      "[info] Paper_idx: 973, Zenodo id: 1178676\n"
     ]
    },
    {
     "name": "stderr",
     "output_type": "stream",
     "text": [
      "1178676.zip: 1.11MB [00:01, 672kB/s] \n"
     ]
    },
    {
     "name": "stdout",
     "output_type": "stream",
     "text": [
      "\n",
      "File successfully downloaded to: ./zenodo_dl/1178676.zip\n",
      "[info] File downloaded: ./zenodo_dl/1178676.zip\n",
      "\n",
      "[info] Paper_idx: 974, Zenodo id: 1178678\n"
     ]
    },
    {
     "name": "stderr",
     "output_type": "stream",
     "text": [
      "1178678.zip: 1.23MB [00:03, 332kB/s] \n"
     ]
    },
    {
     "name": "stdout",
     "output_type": "stream",
     "text": [
      "\n",
      "File successfully downloaded to: ./zenodo_dl/1178678.zip\n",
      "[info] File downloaded: ./zenodo_dl/1178678.zip\n",
      "\n",
      "[info] Paper_idx: 975, Zenodo id: 1178502\n"
     ]
    },
    {
     "name": "stderr",
     "output_type": "stream",
     "text": [
      "1178502.zip: 694kB [00:01, 497kB/s]  \n"
     ]
    },
    {
     "name": "stdout",
     "output_type": "stream",
     "text": [
      "\n",
      "File successfully downloaded to: ./zenodo_dl/1178502.zip\n",
      "[info] File downloaded: ./zenodo_dl/1178502.zip\n",
      "\n",
      "[info] Paper_idx: 976, Zenodo id: 1178496\n"
     ]
    },
    {
     "name": "stderr",
     "output_type": "stream",
     "text": [
      "1178496.zip: 57.9MB [00:11, 4.96MB/s]\n"
     ]
    },
    {
     "name": "stdout",
     "output_type": "stream",
     "text": [
      "\n",
      "File successfully downloaded to: ./zenodo_dl/1178496.zip\n",
      "[info] File downloaded: ./zenodo_dl/1178496.zip\n",
      "\n",
      "[info] Paper_idx: 977, Zenodo id: 1178548\n"
     ]
    },
    {
     "name": "stderr",
     "output_type": "stream",
     "text": [
      "1178548.zip: 1.68MB [00:01, 996kB/s] \n"
     ]
    },
    {
     "name": "stdout",
     "output_type": "stream",
     "text": [
      "\n",
      "File successfully downloaded to: ./zenodo_dl/1178548.zip\n",
      "[info] File downloaded: ./zenodo_dl/1178548.zip\n",
      "\n",
      "[info] Paper_idx: 978, Zenodo id: 1178640\n"
     ]
    },
    {
     "name": "stderr",
     "output_type": "stream",
     "text": [
      "1178640.zip: 302kB [00:01, 271kB/s]  \n"
     ]
    },
    {
     "name": "stdout",
     "output_type": "stream",
     "text": [
      "\n",
      "File successfully downloaded to: ./zenodo_dl/1178640.zip\n",
      "[info] File downloaded: ./zenodo_dl/1178640.zip\n",
      "\n",
      "[info] Paper_idx: 979, Zenodo id: 1178580\n"
     ]
    },
    {
     "name": "stderr",
     "output_type": "stream",
     "text": [
      "1178580.zip: 516kB [00:01, 375kB/s]  \n"
     ]
    },
    {
     "name": "stdout",
     "output_type": "stream",
     "text": [
      "\n",
      "File successfully downloaded to: ./zenodo_dl/1178580.zip\n",
      "[info] File downloaded: ./zenodo_dl/1178580.zip\n",
      "\n",
      "[info] Paper_idx: 980, Zenodo id: 1178484\n"
     ]
    },
    {
     "name": "stderr",
     "output_type": "stream",
     "text": [
      "1178484.zip: 2.01MB [00:05, 363kB/s] \n"
     ]
    },
    {
     "name": "stdout",
     "output_type": "stream",
     "text": [
      "\n",
      "File successfully downloaded to: ./zenodo_dl/1178484.zip\n",
      "[info] File downloaded: ./zenodo_dl/1178484.zip\n",
      "\n",
      "[info] Paper_idx: 981, Zenodo id: 1178664\n"
     ]
    },
    {
     "name": "stderr",
     "output_type": "stream",
     "text": [
      "1178664.zip: 1.18MB [00:01, 702kB/s] \n"
     ]
    },
    {
     "name": "stdout",
     "output_type": "stream",
     "text": [
      "\n",
      "File successfully downloaded to: ./zenodo_dl/1178664.zip\n",
      "[info] File downloaded: ./zenodo_dl/1178664.zip\n",
      "\n",
      "[info] Paper_idx: 982, Zenodo id: 1178650\n"
     ]
    },
    {
     "name": "stderr",
     "output_type": "stream",
     "text": [
      "1178650.zip: 706kB [00:01, 508kB/s]  \n"
     ]
    },
    {
     "name": "stdout",
     "output_type": "stream",
     "text": [
      "\n",
      "File successfully downloaded to: ./zenodo_dl/1178650.zip\n",
      "[info] File downloaded: ./zenodo_dl/1178650.zip\n",
      "\n",
      "[info] Paper_idx: 983, Zenodo id: 1178590\n"
     ]
    },
    {
     "name": "stderr",
     "output_type": "stream",
     "text": [
      "1178590.zip: 1.95MB [00:01, 1.16MB/s]\n"
     ]
    },
    {
     "name": "stdout",
     "output_type": "stream",
     "text": [
      "\n",
      "File successfully downloaded to: ./zenodo_dl/1178590.zip\n",
      "[info] File downloaded: ./zenodo_dl/1178590.zip\n",
      "\n",
      "[info] Paper_idx: 984, Zenodo id: 1178508\n"
     ]
    },
    {
     "name": "stderr",
     "output_type": "stream",
     "text": [
      "1178508.zip: 3.42MB [00:01, 1.74MB/s]\n"
     ]
    },
    {
     "name": "stdout",
     "output_type": "stream",
     "text": [
      "\n",
      "File successfully downloaded to: ./zenodo_dl/1178508.zip\n",
      "[info] File downloaded: ./zenodo_dl/1178508.zip\n",
      "\n",
      "[info] Paper_idx: 985, Zenodo id: 1178606\n"
     ]
    },
    {
     "name": "stderr",
     "output_type": "stream",
     "text": [
      "1178606.zip: 1.99MB [00:01, 1.04MB/s]\n"
     ]
    },
    {
     "name": "stdout",
     "output_type": "stream",
     "text": [
      "\n",
      "File successfully downloaded to: ./zenodo_dl/1178606.zip\n",
      "[info] File downloaded: ./zenodo_dl/1178606.zip\n",
      "\n",
      "[info] Paper_idx: 986, Zenodo id: 1178518\n"
     ]
    },
    {
     "name": "stderr",
     "output_type": "stream",
     "text": [
      "1178518.zip: 1.04MB [00:01, 722kB/s] \n"
     ]
    },
    {
     "name": "stdout",
     "output_type": "stream",
     "text": [
      "\n",
      "File successfully downloaded to: ./zenodo_dl/1178518.zip\n",
      "[info] File downloaded: ./zenodo_dl/1178518.zip\n",
      "\n",
      "[info] Paper_idx: 987, Zenodo id: 1178584\n"
     ]
    },
    {
     "name": "stderr",
     "output_type": "stream",
     "text": [
      "1178584.zip: 99.1kB [00:00, 174kB/s] \n"
     ]
    },
    {
     "name": "stdout",
     "output_type": "stream",
     "text": [
      "\n",
      "File successfully downloaded to: ./zenodo_dl/1178584.zip\n",
      "[info] File downloaded: ./zenodo_dl/1178584.zip\n",
      "\n",
      "[info] Paper_idx: 988, Zenodo id: 1178532\n"
     ]
    },
    {
     "name": "stderr",
     "output_type": "stream",
     "text": [
      "1178532.zip: 1.01MB [00:03, 277kB/s] \n"
     ]
    },
    {
     "name": "stdout",
     "output_type": "stream",
     "text": [
      "\n",
      "File successfully downloaded to: ./zenodo_dl/1178532.zip\n",
      "[info] File downloaded: ./zenodo_dl/1178532.zip\n",
      "\n",
      "[info] Paper_idx: 989, Zenodo id: 1178668\n"
     ]
    },
    {
     "name": "stderr",
     "output_type": "stream",
     "text": [
      "1178668.zip: 727kB [00:02, 262kB/s]  \n"
     ]
    },
    {
     "name": "stdout",
     "output_type": "stream",
     "text": [
      "\n",
      "File successfully downloaded to: ./zenodo_dl/1178668.zip\n",
      "[info] File downloaded: ./zenodo_dl/1178668.zip\n",
      "\n",
      "[info] Paper_idx: 990, Zenodo id: 1178574\n"
     ]
    },
    {
     "name": "stderr",
     "output_type": "stream",
     "text": [
      "1178574.zip: 4.27MB [00:02, 1.88MB/s]\n"
     ]
    },
    {
     "name": "stdout",
     "output_type": "stream",
     "text": [
      "\n",
      "File successfully downloaded to: ./zenodo_dl/1178574.zip\n",
      "[info] File downloaded: ./zenodo_dl/1178574.zip\n",
      "\n",
      "[info] Paper_idx: 991, Zenodo id: 1178465\n"
     ]
    },
    {
     "name": "stderr",
     "output_type": "stream",
     "text": [
      "1178465.zip: 13.5MB [00:03, 4.10MB/s]\n"
     ]
    },
    {
     "name": "stdout",
     "output_type": "stream",
     "text": [
      "\n",
      "File successfully downloaded to: ./zenodo_dl/1178465.zip\n",
      "[info] File downloaded: ./zenodo_dl/1178465.zip\n",
      "\n",
      "[info] Paper_idx: 992, Zenodo id: 1178467\n"
     ]
    },
    {
     "name": "stderr",
     "output_type": "stream",
     "text": [
      "1178467.zip: 228kB [00:01, 200kB/s]  \n"
     ]
    },
    {
     "name": "stdout",
     "output_type": "stream",
     "text": [
      "\n",
      "File successfully downloaded to: ./zenodo_dl/1178467.zip\n",
      "[info] File downloaded: ./zenodo_dl/1178467.zip\n",
      "\n",
      "[info] Paper_idx: 993, Zenodo id: 1178592\n"
     ]
    },
    {
     "name": "stderr",
     "output_type": "stream",
     "text": [
      "1178592.zip: 1.75MB [00:01, 898kB/s] \n"
     ]
    },
    {
     "name": "stdout",
     "output_type": "stream",
     "text": [
      "\n",
      "File successfully downloaded to: ./zenodo_dl/1178592.zip\n",
      "[info] File downloaded: ./zenodo_dl/1178592.zip\n",
      "\n",
      "[info] Paper_idx: 994, Zenodo id: 1178696\n"
     ]
    },
    {
     "name": "stderr",
     "output_type": "stream",
     "text": [
      "1178696.zip: 256kB [00:01, 228kB/s]  \n"
     ]
    },
    {
     "name": "stdout",
     "output_type": "stream",
     "text": [
      "\n",
      "File successfully downloaded to: ./zenodo_dl/1178696.zip\n",
      "[info] File downloaded: ./zenodo_dl/1178696.zip\n",
      "\n",
      "[info] Paper_idx: 995, Zenodo id: 1178566\n"
     ]
    },
    {
     "name": "stderr",
     "output_type": "stream",
     "text": [
      "1178566.zip: 3.97MB [00:02, 1.58MB/s]\n"
     ]
    },
    {
     "name": "stdout",
     "output_type": "stream",
     "text": [
      "\n",
      "File successfully downloaded to: ./zenodo_dl/1178566.zip\n",
      "[info] File downloaded: ./zenodo_dl/1178566.zip\n",
      "\n",
      "[info] Paper_idx: 996, Zenodo id: 1178654\n"
     ]
    },
    {
     "name": "stderr",
     "output_type": "stream",
     "text": [
      "1178654.zip: 471kB [00:01, 282kB/s]  \n"
     ]
    },
    {
     "name": "stdout",
     "output_type": "stream",
     "text": [
      "\n",
      "File successfully downloaded to: ./zenodo_dl/1178654.zip\n",
      "[info] File downloaded: ./zenodo_dl/1178654.zip\n",
      "\n",
      "[info] Paper_idx: 997, Zenodo id: 1178536\n"
     ]
    },
    {
     "name": "stderr",
     "output_type": "stream",
     "text": [
      "1178536.zip: 7.21MB [00:02, 2.62MB/s]\n"
     ]
    },
    {
     "name": "stdout",
     "output_type": "stream",
     "text": [
      "\n",
      "File successfully downloaded to: ./zenodo_dl/1178536.zip\n",
      "[info] File downloaded: ./zenodo_dl/1178536.zip\n",
      "\n",
      "[info] Paper_idx: 998, Zenodo id: 1178578\n"
     ]
    },
    {
     "name": "stderr",
     "output_type": "stream",
     "text": [
      "1178578.zip: 3.45MB [00:02, 1.24MB/s]\n"
     ]
    },
    {
     "name": "stdout",
     "output_type": "stream",
     "text": [
      "\n",
      "File successfully downloaded to: ./zenodo_dl/1178578.zip\n",
      "[info] File downloaded: ./zenodo_dl/1178578.zip\n",
      "\n",
      "[info] Paper_idx: 999, Zenodo id: 1178586\n"
     ]
    },
    {
     "name": "stderr",
     "output_type": "stream",
     "text": [
      "1178586.zip: 1.10MB [00:01, 666kB/s] \n"
     ]
    },
    {
     "name": "stdout",
     "output_type": "stream",
     "text": [
      "\n",
      "File successfully downloaded to: ./zenodo_dl/1178586.zip\n",
      "[info] File downloaded: ./zenodo_dl/1178586.zip\n",
      "\n",
      "[info] Paper_idx: 1000, Zenodo id: 1178534\n"
     ]
    },
    {
     "name": "stderr",
     "output_type": "stream",
     "text": [
      "1178534.zip: 4.02MB [00:11, 363kB/s] \n"
     ]
    },
    {
     "name": "stdout",
     "output_type": "stream",
     "text": [
      "\n",
      "File successfully downloaded to: ./zenodo_dl/1178534.zip\n",
      "[info] File downloaded: ./zenodo_dl/1178534.zip\n",
      "\n",
      "[info] Paper_idx: 1001, Zenodo id: 1178638\n"
     ]
    },
    {
     "name": "stderr",
     "output_type": "stream",
     "text": [
      "1178638.zip: 1.06MB [00:03, 320kB/s] \n"
     ]
    },
    {
     "name": "stdout",
     "output_type": "stream",
     "text": [
      "\n",
      "File successfully downloaded to: ./zenodo_dl/1178638.zip\n",
      "[info] File downloaded: ./zenodo_dl/1178638.zip\n",
      "\n",
      "[info] Paper_idx: 1002, Zenodo id: 1178660\n"
     ]
    },
    {
     "name": "stderr",
     "output_type": "stream",
     "text": [
      "1178660.zip: 808kB [00:01, 541kB/s]  \n"
     ]
    },
    {
     "name": "stdout",
     "output_type": "stream",
     "text": [
      "\n",
      "File successfully downloaded to: ./zenodo_dl/1178660.zip\n",
      "[info] File downloaded: ./zenodo_dl/1178660.zip\n",
      "\n",
      "[info] Paper_idx: 1003, Zenodo id: 1178472\n"
     ]
    },
    {
     "name": "stderr",
     "output_type": "stream",
     "text": [
      "1178472.zip: 1.78MB [00:01, 1.05MB/s]\n"
     ]
    },
    {
     "name": "stdout",
     "output_type": "stream",
     "text": [
      "\n",
      "File successfully downloaded to: ./zenodo_dl/1178472.zip\n",
      "[info] File downloaded: ./zenodo_dl/1178472.zip\n",
      "\n",
      "[info] Paper_idx: 1004, Zenodo id: 1178680\n"
     ]
    },
    {
     "name": "stderr",
     "output_type": "stream",
     "text": [
      "1178680.zip: 2.69MB [00:01, 1.38MB/s]\n"
     ]
    },
    {
     "name": "stdout",
     "output_type": "stream",
     "text": [
      "\n",
      "File successfully downloaded to: ./zenodo_dl/1178680.zip\n",
      "[info] File downloaded: ./zenodo_dl/1178680.zip\n",
      "\n",
      "[info] Paper_idx: 1005, Zenodo id: 1178662\n"
     ]
    },
    {
     "name": "stderr",
     "output_type": "stream",
     "text": [
      "1178662.zip: 471kB [00:01, 354kB/s]  \n"
     ]
    },
    {
     "name": "stdout",
     "output_type": "stream",
     "text": [
      "\n",
      "File successfully downloaded to: ./zenodo_dl/1178662.zip\n",
      "[info] File downloaded: ./zenodo_dl/1178662.zip\n",
      "\n",
      "[info] Paper_idx: 1006, Zenodo id: 1178588\n"
     ]
    },
    {
     "name": "stderr",
     "output_type": "stream",
     "text": [
      "1178588.zip: 3.06MB [00:01, 1.57MB/s]\n"
     ]
    },
    {
     "name": "stdout",
     "output_type": "stream",
     "text": [
      "\n",
      "File successfully downloaded to: ./zenodo_dl/1178588.zip\n",
      "[info] File downloaded: ./zenodo_dl/1178588.zip\n",
      "\n",
      "[info] Paper_idx: 1007, Zenodo id: 1178610\n"
     ]
    },
    {
     "name": "stderr",
     "output_type": "stream",
     "text": [
      "1178610.zip: 3.65MB [00:01, 1.83MB/s]\n"
     ]
    },
    {
     "name": "stdout",
     "output_type": "stream",
     "text": [
      "\n",
      "File successfully downloaded to: ./zenodo_dl/1178610.zip\n",
      "[info] File downloaded: ./zenodo_dl/1178610.zip\n",
      "\n",
      "[info] Paper_idx: 1008, Zenodo id: 1178670\n"
     ]
    },
    {
     "name": "stderr",
     "output_type": "stream",
     "text": [
      "1178670.zip: 1.74MB [00:01, 1.03MB/s]\n"
     ]
    },
    {
     "name": "stdout",
     "output_type": "stream",
     "text": [
      "\n",
      "File successfully downloaded to: ./zenodo_dl/1178670.zip\n",
      "[info] File downloaded: ./zenodo_dl/1178670.zip\n",
      "\n",
      "[info] Paper_idx: 1009, Zenodo id: 1178582\n"
     ]
    },
    {
     "name": "stderr",
     "output_type": "stream",
     "text": [
      "1178582.zip: 422kB [00:01, 367kB/s]  \n"
     ]
    },
    {
     "name": "stdout",
     "output_type": "stream",
     "text": [
      "\n",
      "File successfully downloaded to: ./zenodo_dl/1178582.zip\n",
      "[info] File downloaded: ./zenodo_dl/1178582.zip\n",
      "\n",
      "[info] Paper_idx: 1010, Zenodo id: 1178630\n"
     ]
    },
    {
     "name": "stderr",
     "output_type": "stream",
     "text": [
      "1178630.zip: 2.32MB [00:01, 1.19MB/s]\n"
     ]
    },
    {
     "name": "stdout",
     "output_type": "stream",
     "text": [
      "\n",
      "File successfully downloaded to: ./zenodo_dl/1178630.zip\n",
      "[info] File downloaded: ./zenodo_dl/1178630.zip\n",
      "\n",
      "[info] Paper_idx: 1011, Zenodo id: 1178688\n"
     ]
    },
    {
     "name": "stderr",
     "output_type": "stream",
     "text": [
      "1178688.zip: 983kB [00:01, 703kB/s]  \n"
     ]
    },
    {
     "name": "stdout",
     "output_type": "stream",
     "text": [
      "\n",
      "File successfully downloaded to: ./zenodo_dl/1178688.zip\n",
      "[info] File downloaded: ./zenodo_dl/1178688.zip\n",
      "\n",
      "[info] Paper_idx: 1012, Zenodo id: 1178628\n"
     ]
    },
    {
     "name": "stderr",
     "output_type": "stream",
     "text": [
      "1178628.zip: 6.34MB [00:17, 373kB/s] \n"
     ]
    },
    {
     "name": "stdout",
     "output_type": "stream",
     "text": [
      "\n",
      "File successfully downloaded to: ./zenodo_dl/1178628.zip\n",
      "[info] File downloaded: ./zenodo_dl/1178628.zip\n",
      "\n",
      "[info] Paper_idx: 1013, Zenodo id: 1178596\n"
     ]
    },
    {
     "name": "stderr",
     "output_type": "stream",
     "text": [
      "1178596.zip: 14.2MB [00:08, 1.70MB/s]\n"
     ]
    },
    {
     "name": "stdout",
     "output_type": "stream",
     "text": [
      "\n",
      "File successfully downloaded to: ./zenodo_dl/1178596.zip\n",
      "[info] File downloaded: ./zenodo_dl/1178596.zip\n",
      "\n",
      "[info] Paper_idx: 1014, Zenodo id: 1178510\n"
     ]
    },
    {
     "name": "stderr",
     "output_type": "stream",
     "text": [
      "1178510.zip: 943kB [00:01, 581kB/s]  \n"
     ]
    },
    {
     "name": "stdout",
     "output_type": "stream",
     "text": [
      "\n",
      "File successfully downloaded to: ./zenodo_dl/1178510.zip\n",
      "[info] File downloaded: ./zenodo_dl/1178510.zip\n",
      "\n",
      "[info] Paper_idx: 1015, Zenodo id: 1178622\n"
     ]
    },
    {
     "name": "stderr",
     "output_type": "stream",
     "text": [
      "1178622.zip: 3.26MB [00:01, 1.66MB/s]\n"
     ]
    },
    {
     "name": "stdout",
     "output_type": "stream",
     "text": [
      "\n",
      "File successfully downloaded to: ./zenodo_dl/1178622.zip\n",
      "[info] File downloaded: ./zenodo_dl/1178622.zip\n",
      "\n",
      "[info] Paper_idx: 1016, Zenodo id: 1178624\n"
     ]
    },
    {
     "name": "stderr",
     "output_type": "stream",
     "text": [
      "1178624.zip: 520kB [00:01, 377kB/s]  \n"
     ]
    },
    {
     "name": "stdout",
     "output_type": "stream",
     "text": [
      "\n",
      "File successfully downloaded to: ./zenodo_dl/1178624.zip\n",
      "[info] File downloaded: ./zenodo_dl/1178624.zip\n",
      "\n",
      "[info] Paper_idx: 1017, Zenodo id: 1178562\n"
     ]
    },
    {
     "name": "stderr",
     "output_type": "stream",
     "text": [
      "1178562.zip: 3.04MB [00:01, 1.56MB/s]\n"
     ]
    },
    {
     "name": "stdout",
     "output_type": "stream",
     "text": [
      "\n",
      "File successfully downloaded to: ./zenodo_dl/1178562.zip\n",
      "[info] File downloaded: ./zenodo_dl/1178562.zip\n",
      "\n",
      "[info] Paper_idx: 1018, Zenodo id: 1178524\n"
     ]
    },
    {
     "name": "stderr",
     "output_type": "stream",
     "text": [
      "1178524.zip: 383kB [00:01, 343kB/s]  \n"
     ]
    },
    {
     "name": "stdout",
     "output_type": "stream",
     "text": [
      "\n",
      "File successfully downloaded to: ./zenodo_dl/1178524.zip\n",
      "[info] File downloaded: ./zenodo_dl/1178524.zip\n",
      "\n",
      "[info] Paper_idx: 1019, Zenodo id: 1178526\n"
     ]
    },
    {
     "name": "stderr",
     "output_type": "stream",
     "text": [
      "1178526.zip: 512kB [00:01, 380kB/s]  \n"
     ]
    },
    {
     "name": "stdout",
     "output_type": "stream",
     "text": [
      "\n",
      "File successfully downloaded to: ./zenodo_dl/1178526.zip\n",
      "[info] File downloaded: ./zenodo_dl/1178526.zip\n",
      "\n",
      "[info] Paper_idx: 1020, Zenodo id: 1178544\n"
     ]
    },
    {
     "name": "stderr",
     "output_type": "stream",
     "text": [
      "1178544.zip: 12.5MB [00:03, 3.75MB/s]\n"
     ]
    },
    {
     "name": "stdout",
     "output_type": "stream",
     "text": [
      "\n",
      "File successfully downloaded to: ./zenodo_dl/1178544.zip\n",
      "[info] File downloaded: ./zenodo_dl/1178544.zip\n",
      "\n",
      "[info] Paper_idx: 1021, Zenodo id: 1178568\n"
     ]
    },
    {
     "name": "stderr",
     "output_type": "stream",
     "text": [
      "1178568.zip: 923kB [00:01, 664kB/s]  \n"
     ]
    },
    {
     "name": "stdout",
     "output_type": "stream",
     "text": [
      "\n",
      "File successfully downloaded to: ./zenodo_dl/1178568.zip\n",
      "[info] File downloaded: ./zenodo_dl/1178568.zip\n",
      "\n",
      "[info] Paper_idx: 1022, Zenodo id: 1178684\n"
     ]
    },
    {
     "name": "stderr",
     "output_type": "stream",
     "text": [
      "1178684.zip: 1.26MB [00:04, 303kB/s] \n"
     ]
    },
    {
     "name": "stdout",
     "output_type": "stream",
     "text": [
      "\n",
      "File successfully downloaded to: ./zenodo_dl/1178684.zip\n",
      "[info] File downloaded: ./zenodo_dl/1178684.zip\n",
      "\n",
      "[info] Paper_idx: 1023, Zenodo id: 1178476\n"
     ]
    },
    {
     "name": "stderr",
     "output_type": "stream",
     "text": [
      "1178476.zip: 523kB [00:01, 266kB/s]  \n"
     ]
    },
    {
     "name": "stdout",
     "output_type": "stream",
     "text": [
      "\n",
      "File successfully downloaded to: ./zenodo_dl/1178476.zip\n",
      "[info] File downloaded: ./zenodo_dl/1178476.zip\n",
      "\n",
      "[info] Paper_idx: 1024, Zenodo id: 1178692\n"
     ]
    },
    {
     "name": "stderr",
     "output_type": "stream",
     "text": [
      "1178692.zip: 15.6MB [00:03, 3.98MB/s]\n"
     ]
    },
    {
     "name": "stdout",
     "output_type": "stream",
     "text": [
      "\n",
      "File successfully downloaded to: ./zenodo_dl/1178692.zip\n",
      "[info] File downloaded: ./zenodo_dl/1178692.zip\n",
      "\n",
      "[info] Paper_idx: 1025, Zenodo id: 1178672\n"
     ]
    },
    {
     "name": "stderr",
     "output_type": "stream",
     "text": [
      "1178672.zip: 922kB [00:01, 662kB/s]  \n"
     ]
    },
    {
     "name": "stdout",
     "output_type": "stream",
     "text": [
      "\n",
      "File successfully downloaded to: ./zenodo_dl/1178672.zip\n",
      "[info] File downloaded: ./zenodo_dl/1178672.zip\n",
      "\n",
      "[info] Paper_idx: 1026, Zenodo id: 1178648\n"
     ]
    },
    {
     "name": "stderr",
     "output_type": "stream",
     "text": [
      "1178648.zip: 340kB [00:01, 305kB/s]  \n"
     ]
    },
    {
     "name": "stdout",
     "output_type": "stream",
     "text": [
      "\n",
      "File successfully downloaded to: ./zenodo_dl/1178648.zip\n",
      "[info] File downloaded: ./zenodo_dl/1178648.zip\n",
      "\n",
      "[info] Paper_idx: 1027, Zenodo id: 1178538\n"
     ]
    },
    {
     "name": "stderr",
     "output_type": "stream",
     "text": [
      "1178538.zip: 7.27MB [00:17, 416kB/s] \n"
     ]
    },
    {
     "name": "stdout",
     "output_type": "stream",
     "text": [
      "\n",
      "File successfully downloaded to: ./zenodo_dl/1178538.zip\n",
      "[info] File downloaded: ./zenodo_dl/1178538.zip\n",
      "\n",
      "[info] Paper_idx: 1028, Zenodo id: 1178461\n"
     ]
    },
    {
     "name": "stderr",
     "output_type": "stream",
     "text": [
      "1178461.zip: 3.43MB [00:01, 1.76MB/s]\n"
     ]
    },
    {
     "name": "stdout",
     "output_type": "stream",
     "text": [
      "\n",
      "File successfully downloaded to: ./zenodo_dl/1178461.zip\n",
      "[info] File downloaded: ./zenodo_dl/1178461.zip\n",
      "\n",
      "[info] Paper_idx: 1029, Zenodo id: 1178470\n"
     ]
    },
    {
     "name": "stderr",
     "output_type": "stream",
     "text": [
      "1178470.zip: 1.96MB [00:02, 878kB/s] \n"
     ]
    },
    {
     "name": "stdout",
     "output_type": "stream",
     "text": [
      "\n",
      "File successfully downloaded to: ./zenodo_dl/1178470.zip\n",
      "[info] File downloaded: ./zenodo_dl/1178470.zip\n",
      "\n",
      "[info] Paper_idx: 1030, Zenodo id: 1178594\n"
     ]
    },
    {
     "name": "stderr",
     "output_type": "stream",
     "text": [
      "1178594.zip: 6.68MB [00:02, 2.66MB/s]\n"
     ]
    },
    {
     "name": "stdout",
     "output_type": "stream",
     "text": [
      "\n",
      "File successfully downloaded to: ./zenodo_dl/1178594.zip\n",
      "[info] File downloaded: ./zenodo_dl/1178594.zip\n",
      "\n",
      "[info] Paper_idx: 1031, Zenodo id: 1178682\n"
     ]
    },
    {
     "name": "stderr",
     "output_type": "stream",
     "text": [
      "1178682.zip: 1.91MB [00:06, 313kB/s] \n"
     ]
    },
    {
     "name": "stdout",
     "output_type": "stream",
     "text": [
      "\n",
      "File successfully downloaded to: ./zenodo_dl/1178682.zip\n",
      "[info] File downloaded: ./zenodo_dl/1178682.zip\n",
      "\n",
      "[info] Paper_idx: 1032, Zenodo id: 1178642\n"
     ]
    },
    {
     "name": "stderr",
     "output_type": "stream",
     "text": [
      "1178642.zip: 8.45MB [00:23, 367kB/s] \n"
     ]
    },
    {
     "name": "stdout",
     "output_type": "stream",
     "text": [
      "\n",
      "File successfully downloaded to: ./zenodo_dl/1178642.zip\n",
      "[info] File downloaded: ./zenodo_dl/1178642.zip\n",
      "\n",
      "[info] Paper_idx: 1033, Zenodo id: 1178646\n"
     ]
    },
    {
     "name": "stderr",
     "output_type": "stream",
     "text": [
      "1178646.zip: 1.59MB [00:01, 950kB/s] \n"
     ]
    },
    {
     "name": "stdout",
     "output_type": "stream",
     "text": [
      "\n",
      "File successfully downloaded to: ./zenodo_dl/1178646.zip\n",
      "[info] File downloaded: ./zenodo_dl/1178646.zip\n",
      "\n",
      "[info] Paper_idx: 1034, Zenodo id: 1178540\n"
     ]
    },
    {
     "name": "stderr",
     "output_type": "stream",
     "text": [
      "1178540.zip: 698kB [00:02, 313kB/s]  \n"
     ]
    },
    {
     "name": "stdout",
     "output_type": "stream",
     "text": [
      "\n",
      "File successfully downloaded to: ./zenodo_dl/1178540.zip\n",
      "[info] File downloaded: ./zenodo_dl/1178540.zip\n",
      "\n",
      "[info] Paper_idx: 1035, Zenodo id: 1178636\n"
     ]
    },
    {
     "name": "stderr",
     "output_type": "stream",
     "text": [
      "1178636.zip: 563kB [00:02, 253kB/s]  \n"
     ]
    },
    {
     "name": "stdout",
     "output_type": "stream",
     "text": [
      "\n",
      "File successfully downloaded to: ./zenodo_dl/1178636.zip\n",
      "[info] File downloaded: ./zenodo_dl/1178636.zip\n",
      "\n",
      "[info] Paper_idx: 1036, Zenodo id: 1178604\n"
     ]
    },
    {
     "name": "stderr",
     "output_type": "stream",
     "text": [
      "1178604.zip: 2.92MB [00:08, 340kB/s] \n"
     ]
    },
    {
     "name": "stdout",
     "output_type": "stream",
     "text": [
      "\n",
      "File successfully downloaded to: ./zenodo_dl/1178604.zip\n",
      "[info] File downloaded: ./zenodo_dl/1178604.zip\n",
      "\n",
      "[info] Paper_idx: 1037, Zenodo id: 1178558\n"
     ]
    },
    {
     "name": "stderr",
     "output_type": "stream",
     "text": [
      "1178558.zip: 6.88MB [00:19, 360kB/s] \n"
     ]
    },
    {
     "name": "stdout",
     "output_type": "stream",
     "text": [
      "\n",
      "File successfully downloaded to: ./zenodo_dl/1178558.zip\n",
      "[info] File downloaded: ./zenodo_dl/1178558.zip\n",
      "\n",
      "[info] Paper_idx: 1038, Zenodo id: 1178618\n"
     ]
    },
    {
     "name": "stderr",
     "output_type": "stream",
     "text": [
      "1178618.zip: 5.16MB [00:14, 346kB/s] \n"
     ]
    },
    {
     "name": "stdout",
     "output_type": "stream",
     "text": [
      "\n",
      "File successfully downloaded to: ./zenodo_dl/1178618.zip\n",
      "[info] File downloaded: ./zenodo_dl/1178618.zip\n",
      "\n",
      "[info] Paper_idx: 1039, Zenodo id: 1178498\n"
     ]
    },
    {
     "name": "stderr",
     "output_type": "stream",
     "text": [
      "1178498.zip: 7.27MB [00:19, 370kB/s] \n"
     ]
    },
    {
     "name": "stdout",
     "output_type": "stream",
     "text": [
      "\n",
      "File successfully downloaded to: ./zenodo_dl/1178498.zip\n",
      "[info] File downloaded: ./zenodo_dl/1178498.zip\n",
      "\n",
      "[info] Paper_idx: 1040, Zenodo id: 1178530\n"
     ]
    },
    {
     "name": "stderr",
     "output_type": "stream",
     "text": [
      "1178530.zip: 2.42MB [00:01, 1.24MB/s]\n"
     ]
    },
    {
     "name": "stdout",
     "output_type": "stream",
     "text": [
      "\n",
      "File successfully downloaded to: ./zenodo_dl/1178530.zip\n",
      "[info] File downloaded: ./zenodo_dl/1178530.zip\n",
      "\n",
      "[info] Paper_idx: 1041, Zenodo id: 1293003\n"
     ]
    },
    {
     "name": "stderr",
     "output_type": "stream",
     "text": [
      "1293003.zip: 700kB [00:02, 280kB/s]  \n"
     ]
    },
    {
     "name": "stdout",
     "output_type": "stream",
     "text": [
      "\n",
      "File successfully downloaded to: ./zenodo_dl/1293003.zip\n",
      "[info] File downloaded: ./zenodo_dl/1293003.zip\n",
      "\n",
      "[info] Paper_idx: 1042, Zenodo id: 1178474\n"
     ]
    },
    {
     "name": "stderr",
     "output_type": "stream",
     "text": [
      "1178474.zip: 1.04MB [00:01, 623kB/s] \n"
     ]
    },
    {
     "name": "stdout",
     "output_type": "stream",
     "text": [
      "\n",
      "File successfully downloaded to: ./zenodo_dl/1178474.zip\n",
      "[info] File downloaded: ./zenodo_dl/1178474.zip\n",
      "\n",
      "[info] Paper_idx: 1043, Zenodo id: 1178500\n"
     ]
    },
    {
     "name": "stderr",
     "output_type": "stream",
     "text": [
      "1178500.zip: 190kB [00:00, 223kB/s]  \n"
     ]
    },
    {
     "name": "stdout",
     "output_type": "stream",
     "text": [
      "\n",
      "File successfully downloaded to: ./zenodo_dl/1178500.zip\n",
      "[info] File downloaded: ./zenodo_dl/1178500.zip\n",
      "\n",
      "[info] Paper_idx: 1044, Zenodo id: 4582292\n"
     ]
    },
    {
     "name": "stderr",
     "output_type": "stream",
     "text": [
      "4582292.zip: 572kB [00:01, 293kB/s]  \n"
     ]
    },
    {
     "name": "stdout",
     "output_type": "stream",
     "text": [
      "\n",
      "File successfully downloaded to: ./zenodo_dl/4582292.zip\n",
      "[info] File downloaded: ./zenodo_dl/4582292.zip\n",
      "\n",
      "[info] Paper_idx: 1045, Zenodo id: 1178478\n"
     ]
    },
    {
     "name": "stderr",
     "output_type": "stream",
     "text": [
      "1178478.zip: 2.70MB [00:08, 336kB/s] \n"
     ]
    },
    {
     "name": "stdout",
     "output_type": "stream",
     "text": [
      "\n",
      "File successfully downloaded to: ./zenodo_dl/1178478.zip\n",
      "[info] File downloaded: ./zenodo_dl/1178478.zip\n",
      "\n",
      "[info] Paper_idx: 1046, Zenodo id: 1178644\n"
     ]
    },
    {
     "name": "stderr",
     "output_type": "stream",
     "text": [
      "1178644.zip: 285kB [00:01, 205kB/s]  \n"
     ]
    },
    {
     "name": "stdout",
     "output_type": "stream",
     "text": [
      "\n",
      "File successfully downloaded to: ./zenodo_dl/1178644.zip\n",
      "[info] File downloaded: ./zenodo_dl/1178644.zip\n",
      "\n",
      "[info] Paper_idx: 1047, Zenodo id: 1178546\n"
     ]
    },
    {
     "name": "stderr",
     "output_type": "stream",
     "text": [
      "1178546.zip: 245kB [00:01, 218kB/s]  \n"
     ]
    },
    {
     "name": "stdout",
     "output_type": "stream",
     "text": [
      "\n",
      "File successfully downloaded to: ./zenodo_dl/1178546.zip\n",
      "[info] File downloaded: ./zenodo_dl/1178546.zip\n",
      "\n",
      "[info] Paper_idx: 1048, Zenodo id: 1178550\n"
     ]
    },
    {
     "name": "stderr",
     "output_type": "stream",
     "text": [
      "1178550.zip: 3.44MB [00:09, 345kB/s] \n"
     ]
    },
    {
     "name": "stdout",
     "output_type": "stream",
     "text": [
      "\n",
      "File successfully downloaded to: ./zenodo_dl/1178550.zip\n",
      "[info] File downloaded: ./zenodo_dl/1178550.zip\n",
      "\n",
      "[info] Paper_idx: 1049, Zenodo id: 1178632\n"
     ]
    },
    {
     "name": "stderr",
     "output_type": "stream",
     "text": [
      "1178632.zip: 3.14MB [00:01, 1.60MB/s]\n"
     ]
    },
    {
     "name": "stdout",
     "output_type": "stream",
     "text": [
      "\n",
      "File successfully downloaded to: ./zenodo_dl/1178632.zip\n",
      "[info] File downloaded: ./zenodo_dl/1178632.zip\n",
      "\n",
      "[info] Paper_idx: 1050, Zenodo id: 1178506\n"
     ]
    },
    {
     "name": "stderr",
     "output_type": "stream",
     "text": [
      "1178506.zip: 1.39MB [00:04, 313kB/s] \n"
     ]
    },
    {
     "name": "stdout",
     "output_type": "stream",
     "text": [
      "\n",
      "File successfully downloaded to: ./zenodo_dl/1178506.zip\n",
      "[info] File downloaded: ./zenodo_dl/1178506.zip\n",
      "\n",
      "[info] Paper_idx: 1051, Zenodo id: 1178570\n"
     ]
    },
    {
     "name": "stderr",
     "output_type": "stream",
     "text": [
      "1178570.zip: 19.2MB [00:04, 4.27MB/s]\n"
     ]
    },
    {
     "name": "stdout",
     "output_type": "stream",
     "text": [
      "\n",
      "File successfully downloaded to: ./zenodo_dl/1178570.zip\n",
      "[info] File downloaded: ./zenodo_dl/1178570.zip\n",
      "\n",
      "[info] Paper_idx: 1052, Zenodo id: 1178600\n"
     ]
    },
    {
     "name": "stderr",
     "output_type": "stream",
     "text": [
      "1178600.zip: 1.57MB [00:05, 300kB/s] \n"
     ]
    },
    {
     "name": "stdout",
     "output_type": "stream",
     "text": [
      "\n",
      "File successfully downloaded to: ./zenodo_dl/1178600.zip\n",
      "[info] File downloaded: ./zenodo_dl/1178600.zip\n",
      "\n",
      "[info] Paper_idx: 1053, Zenodo id: 1178598\n"
     ]
    },
    {
     "name": "stderr",
     "output_type": "stream",
     "text": [
      "1178598.zip: 1.96MB [00:06, 322kB/s] \n"
     ]
    },
    {
     "name": "stdout",
     "output_type": "stream",
     "text": [
      "\n",
      "File successfully downloaded to: ./zenodo_dl/1178598.zip\n",
      "[info] File downloaded: ./zenodo_dl/1178598.zip\n",
      "\n",
      "[info] Paper_idx: 1054, Zenodo id: 1178490\n"
     ]
    },
    {
     "name": "stderr",
     "output_type": "stream",
     "text": [
      "1178490.zip: 296kB [00:01, 223kB/s]  \n"
     ]
    },
    {
     "name": "stdout",
     "output_type": "stream",
     "text": [
      "\n",
      "File successfully downloaded to: ./zenodo_dl/1178490.zip\n",
      "[info] File downloaded: ./zenodo_dl/1178490.zip\n",
      "\n",
      "[info] Paper_idx: 1055, Zenodo id: 1178626\n"
     ]
    },
    {
     "name": "stderr",
     "output_type": "stream",
     "text": [
      "1178626.zip: 1.79MB [00:05, 340kB/s] \n"
     ]
    },
    {
     "name": "stdout",
     "output_type": "stream",
     "text": [
      "\n",
      "File successfully downloaded to: ./zenodo_dl/1178626.zip\n",
      "[info] File downloaded: ./zenodo_dl/1178626.zip\n",
      "\n",
      "[info] Paper_idx: 1056, Zenodo id: 1178504\n"
     ]
    },
    {
     "name": "stderr",
     "output_type": "stream",
     "text": [
      "1178504.zip: 1.21MB [00:03, 312kB/s] \n"
     ]
    },
    {
     "name": "stdout",
     "output_type": "stream",
     "text": [
      "\n",
      "File successfully downloaded to: ./zenodo_dl/1178504.zip\n",
      "[info] File downloaded: ./zenodo_dl/1178504.zip\n",
      "\n",
      "[info] Paper_idx: 1057, Zenodo id: 1178556\n"
     ]
    },
    {
     "name": "stderr",
     "output_type": "stream",
     "text": [
      "1178556.zip: 2.36MB [00:07, 327kB/s] \n"
     ]
    },
    {
     "name": "stdout",
     "output_type": "stream",
     "text": [
      "\n",
      "File successfully downloaded to: ./zenodo_dl/1178556.zip\n",
      "[info] File downloaded: ./zenodo_dl/1178556.zip\n",
      "\n",
      "[info] Paper_idx: 1058, Zenodo id: 1178690\n"
     ]
    },
    {
     "name": "stderr",
     "output_type": "stream",
     "text": [
      "1178690.zip: 292kB [00:01, 253kB/s]  \n"
     ]
    },
    {
     "name": "stdout",
     "output_type": "stream",
     "text": [
      "\n",
      "File successfully downloaded to: ./zenodo_dl/1178690.zip\n",
      "[info] File downloaded: ./zenodo_dl/1178690.zip\n",
      "\n",
      "[info] Paper_idx: 1059, Zenodo id: 1178666\n"
     ]
    },
    {
     "name": "stderr",
     "output_type": "stream",
     "text": [
      "1178666.zip: 12.6MB [00:33, 376kB/s] \n"
     ]
    },
    {
     "name": "stdout",
     "output_type": "stream",
     "text": [
      "\n",
      "File successfully downloaded to: ./zenodo_dl/1178666.zip\n",
      "[info] File downloaded: ./zenodo_dl/1178666.zip\n",
      "\n",
      "[info] Paper_idx: 1060, Zenodo id: 1178652\n"
     ]
    },
    {
     "name": "stderr",
     "output_type": "stream",
     "text": [
      "1178652.zip: 955kB [00:03, 284kB/s]  \n"
     ]
    },
    {
     "name": "stdout",
     "output_type": "stream",
     "text": [
      "\n",
      "File successfully downloaded to: ./zenodo_dl/1178652.zip\n",
      "[info] File downloaded: ./zenodo_dl/1178652.zip\n",
      "\n",
      "[info] Paper_idx: 1061, Zenodo id: 1180545\n"
     ]
    },
    {
     "name": "stderr",
     "output_type": "stream",
     "text": [
      "1180545.zip: 433kB [00:01, 256kB/s]  \n"
     ]
    },
    {
     "name": "stdout",
     "output_type": "stream",
     "text": [
      "\n",
      "File successfully downloaded to: ./zenodo_dl/1180545.zip\n",
      "[info] File downloaded: ./zenodo_dl/1180545.zip\n",
      "\n",
      "[info] Paper_idx: 1062, Zenodo id: 1178221\n"
     ]
    },
    {
     "name": "stderr",
     "output_type": "stream",
     "text": [
      "1178221.zip: 336kB [00:01, 201kB/s]  \n"
     ]
    },
    {
     "name": "stdout",
     "output_type": "stream",
     "text": [
      "\n",
      "File successfully downloaded to: ./zenodo_dl/1178221.zip\n",
      "[info] File downloaded: ./zenodo_dl/1178221.zip\n",
      "\n",
      "[info] Paper_idx: 1063, Zenodo id: 1178219\n"
     ]
    },
    {
     "name": "stderr",
     "output_type": "stream",
     "text": [
      "1178219.zip: 213kB [00:00, 242kB/s]  \n"
     ]
    },
    {
     "name": "stdout",
     "output_type": "stream",
     "text": [
      "\n",
      "File successfully downloaded to: ./zenodo_dl/1178219.zip\n",
      "[info] File downloaded: ./zenodo_dl/1178219.zip\n",
      "\n",
      "[info] Paper_idx: 1064, Zenodo id: 1178453\n"
     ]
    },
    {
     "name": "stderr",
     "output_type": "stream",
     "text": [
      "1178453.zip: 534kB [00:01, 273kB/s]  \n"
     ]
    },
    {
     "name": "stdout",
     "output_type": "stream",
     "text": [
      "\n",
      "File successfully downloaded to: ./zenodo_dl/1178453.zip\n",
      "[info] File downloaded: ./zenodo_dl/1178453.zip\n",
      "\n",
      "[info] Paper_idx: 1065, Zenodo id: 1180573\n"
     ]
    },
    {
     "name": "stderr",
     "output_type": "stream",
     "text": [
      "1180573.zip: 834kB [00:03, 273kB/s]  \n"
     ]
    },
    {
     "name": "stdout",
     "output_type": "stream",
     "text": [
      "\n",
      "File successfully downloaded to: ./zenodo_dl/1180573.zip\n",
      "[info] File downloaded: ./zenodo_dl/1180573.zip\n",
      "\n",
      "[info] Paper_idx: 1066, Zenodo id: 1180557\n"
     ]
    },
    {
     "name": "stderr",
     "output_type": "stream",
     "text": [
      "1180557.zip: 140kB [00:00, 166kB/s]  \n"
     ]
    },
    {
     "name": "stdout",
     "output_type": "stream",
     "text": [
      "\n",
      "File successfully downloaded to: ./zenodo_dl/1180557.zip\n",
      "[info] File downloaded: ./zenodo_dl/1180557.zip\n",
      "\n",
      "[info] Paper_idx: 1067, Zenodo id: 1180571\n"
     ]
    },
    {
     "name": "stderr",
     "output_type": "stream",
     "text": [
      "1180571.zip: 249kB [00:01, 217kB/s]  \n"
     ]
    },
    {
     "name": "stdout",
     "output_type": "stream",
     "text": [
      "\n",
      "File successfully downloaded to: ./zenodo_dl/1180571.zip\n",
      "[info] File downloaded: ./zenodo_dl/1180571.zip\n",
      "\n",
      "[info] Paper_idx: 1068, Zenodo id: 1180533\n"
     ]
    },
    {
     "name": "stderr",
     "output_type": "stream",
     "text": [
      "1180533.zip: 628kB [00:02, 246kB/s]  \n"
     ]
    },
    {
     "name": "stdout",
     "output_type": "stream",
     "text": [
      "\n",
      "File successfully downloaded to: ./zenodo_dl/1180533.zip\n",
      "[info] File downloaded: ./zenodo_dl/1180533.zip\n",
      "\n",
      "[info] Paper_idx: 1069, Zenodo id: 1178425\n"
     ]
    },
    {
     "name": "stderr",
     "output_type": "stream",
     "text": [
      "1178425.zip: 272kB [00:01, 242kB/s]  \n"
     ]
    },
    {
     "name": "stdout",
     "output_type": "stream",
     "text": [
      "\n",
      "File successfully downloaded to: ./zenodo_dl/1178425.zip\n",
      "[info] File downloaded: ./zenodo_dl/1178425.zip\n",
      "\n",
      "[info] Paper_idx: 1070, Zenodo id: 1180593\n"
     ]
    },
    {
     "name": "stderr",
     "output_type": "stream",
     "text": [
      "1180593.zip: 321kB [00:01, 284kB/s]  \n"
     ]
    },
    {
     "name": "stdout",
     "output_type": "stream",
     "text": [
      "\n",
      "File successfully downloaded to: ./zenodo_dl/1180593.zip\n",
      "[info] File downloaded: ./zenodo_dl/1180593.zip\n",
      "\n",
      "[info] Paper_idx: 1071, Zenodo id: 1178275\n"
     ]
    },
    {
     "name": "stderr",
     "output_type": "stream",
     "text": [
      "1178275.zip: 177kB [00:01, 151kB/s]  \n"
     ]
    },
    {
     "name": "stdout",
     "output_type": "stream",
     "text": [
      "\n",
      "File successfully downloaded to: ./zenodo_dl/1178275.zip\n",
      "[info] File downloaded: ./zenodo_dl/1178275.zip\n",
      "\n",
      "[info] Paper_idx: 1072, Zenodo id: 1180595\n"
     ]
    },
    {
     "name": "stderr",
     "output_type": "stream",
     "text": [
      "1180595.zip: 535kB [00:01, 401kB/s]  \n"
     ]
    },
    {
     "name": "stdout",
     "output_type": "stream",
     "text": [
      "\n",
      "File successfully downloaded to: ./zenodo_dl/1180595.zip\n",
      "[info] File downloaded: ./zenodo_dl/1180595.zip\n",
      "\n",
      "[info] Paper_idx: 1073, Zenodo id: 1178449\n"
     ]
    },
    {
     "name": "stderr",
     "output_type": "stream",
     "text": [
      "1178449.zip: 1.00MB [00:01, 691kB/s] \n"
     ]
    },
    {
     "name": "stdout",
     "output_type": "stream",
     "text": [
      "\n",
      "File successfully downloaded to: ./zenodo_dl/1178449.zip\n",
      "[info] File downloaded: ./zenodo_dl/1178449.zip\n",
      "\n",
      "[info] Paper_idx: 1074, Zenodo id: 1178285\n"
     ]
    },
    {
     "name": "stderr",
     "output_type": "stream",
     "text": [
      "1178285.zip: 275kB [00:01, 247kB/s]  \n"
     ]
    },
    {
     "name": "stdout",
     "output_type": "stream",
     "text": [
      "\n",
      "File successfully downloaded to: ./zenodo_dl/1178285.zip\n",
      "[info] File downloaded: ./zenodo_dl/1178285.zip\n",
      "\n",
      "[info] Paper_idx: 1075, Zenodo id: 1178349\n"
     ]
    },
    {
     "name": "stderr",
     "output_type": "stream",
     "text": [
      "1178349.zip: 211kB [00:00, 242kB/s]  \n"
     ]
    },
    {
     "name": "stdout",
     "output_type": "stream",
     "text": [
      "\n",
      "File successfully downloaded to: ./zenodo_dl/1178349.zip\n",
      "[info] File downloaded: ./zenodo_dl/1178349.zip\n",
      "\n",
      "[info] Paper_idx: 1076, Zenodo id: 1178245\n"
     ]
    },
    {
     "name": "stderr",
     "output_type": "stream",
     "text": [
      "1178245.zip: 219kB [00:01, 196kB/s]  \n"
     ]
    },
    {
     "name": "stdout",
     "output_type": "stream",
     "text": [
      "\n",
      "File successfully downloaded to: ./zenodo_dl/1178245.zip\n",
      "[info] File downloaded: ./zenodo_dl/1178245.zip\n",
      "\n",
      "[info] Paper_idx: 1077, Zenodo id: 1178215\n"
     ]
    },
    {
     "name": "stderr",
     "output_type": "stream",
     "text": [
      "1178215.zip: 254kB [00:01, 199kB/s]  \n"
     ]
    },
    {
     "name": "stdout",
     "output_type": "stream",
     "text": [
      "\n",
      "File successfully downloaded to: ./zenodo_dl/1178215.zip\n",
      "[info] File downloaded: ./zenodo_dl/1178215.zip\n",
      "\n",
      "[info] Paper_idx: 1078, Zenodo id: 1178341\n"
     ]
    },
    {
     "name": "stderr",
     "output_type": "stream",
     "text": [
      "1178341.zip: 454kB [00:01, 272kB/s]  \n"
     ]
    },
    {
     "name": "stdout",
     "output_type": "stream",
     "text": [
      "\n",
      "File successfully downloaded to: ./zenodo_dl/1178341.zip\n",
      "[info] File downloaded: ./zenodo_dl/1178341.zip\n",
      "\n",
      "[info] Paper_idx: 1079, Zenodo id: 1178347\n"
     ]
    },
    {
     "name": "stderr",
     "output_type": "stream",
     "text": [
      "1178347.zip: 317kB [00:01, 226kB/s]  \n"
     ]
    },
    {
     "name": "stdout",
     "output_type": "stream",
     "text": [
      "\n",
      "File successfully downloaded to: ./zenodo_dl/1178347.zip\n",
      "[info] File downloaded: ./zenodo_dl/1178347.zip\n",
      "\n",
      "[info] Paper_idx: 1080, Zenodo id: 1178281\n"
     ]
    },
    {
     "name": "stderr",
     "output_type": "stream",
     "text": [
      "1178281.zip: 1.91MB [00:05, 329kB/s] \n"
     ]
    },
    {
     "name": "stdout",
     "output_type": "stream",
     "text": [
      "\n",
      "File successfully downloaded to: ./zenodo_dl/1178281.zip\n",
      "[info] File downloaded: ./zenodo_dl/1178281.zip\n",
      "\n",
      "[info] Paper_idx: 1081, Zenodo id: 1178229\n"
     ]
    },
    {
     "name": "stderr",
     "output_type": "stream",
     "text": [
      "1178229.zip: 340kB [00:01, 239kB/s]  \n"
     ]
    },
    {
     "name": "stdout",
     "output_type": "stream",
     "text": [
      "\n",
      "File successfully downloaded to: ./zenodo_dl/1178229.zip\n",
      "[info] File downloaded: ./zenodo_dl/1178229.zip\n",
      "\n",
      "[info] Paper_idx: 1082, Zenodo id: 1178279\n"
     ]
    },
    {
     "name": "stderr",
     "output_type": "stream",
     "text": [
      "1178279.zip: 579kB [00:01, 297kB/s]  \n"
     ]
    },
    {
     "name": "stdout",
     "output_type": "stream",
     "text": [
      "\n",
      "File successfully downloaded to: ./zenodo_dl/1178279.zip\n",
      "[info] File downloaded: ./zenodo_dl/1178279.zip\n",
      "\n",
      "[info] Paper_idx: 1083, Zenodo id: 1178445\n"
     ]
    },
    {
     "name": "stderr",
     "output_type": "stream",
     "text": [
      "1178445.zip: 1.37MB [00:04, 330kB/s] \n"
     ]
    },
    {
     "name": "stdout",
     "output_type": "stream",
     "text": [
      "\n",
      "File successfully downloaded to: ./zenodo_dl/1178445.zip\n",
      "[info] File downloaded: ./zenodo_dl/1178445.zip\n",
      "\n",
      "[info] Paper_idx: 1084, Zenodo id: 1178343\n"
     ]
    },
    {
     "name": "stderr",
     "output_type": "stream",
     "text": [
      "1178343.zip: 281kB [00:01, 252kB/s]  \n"
     ]
    },
    {
     "name": "stdout",
     "output_type": "stream",
     "text": [
      "\n",
      "File successfully downloaded to: ./zenodo_dl/1178343.zip\n",
      "[info] File downloaded: ./zenodo_dl/1178343.zip\n",
      "\n",
      "[info] Paper_idx: 1085, Zenodo id: 1180579\n"
     ]
    },
    {
     "name": "stderr",
     "output_type": "stream",
     "text": [
      "1180579.zip: 11.0MB [00:03, 3.27MB/s]\n"
     ]
    },
    {
     "name": "stdout",
     "output_type": "stream",
     "text": [
      "\n",
      "File successfully downloaded to: ./zenodo_dl/1180579.zip\n",
      "[info] File downloaded: ./zenodo_dl/1180579.zip\n",
      "\n",
      "[info] Paper_idx: 1086, Zenodo id: 1180549\n"
     ]
    },
    {
     "name": "stderr",
     "output_type": "stream",
     "text": [
      "1180549.zip: 253kB [00:01, 215kB/s]  \n"
     ]
    },
    {
     "name": "stdout",
     "output_type": "stream",
     "text": [
      "\n",
      "File successfully downloaded to: ./zenodo_dl/1180549.zip\n",
      "[info] File downloaded: ./zenodo_dl/1180549.zip\n",
      "\n",
      "[info] Paper_idx: 1087, Zenodo id: 1178207\n"
     ]
    },
    {
     "name": "stderr",
     "output_type": "stream",
     "text": [
      "1178207.zip: 287kB [00:01, 258kB/s]  \n"
     ]
    },
    {
     "name": "stdout",
     "output_type": "stream",
     "text": [
      "\n",
      "File successfully downloaded to: ./zenodo_dl/1178207.zip\n",
      "[info] File downloaded: ./zenodo_dl/1178207.zip\n",
      "\n",
      "[info] Paper_idx: 1088, Zenodo id: 1178307\n"
     ]
    },
    {
     "name": "stderr",
     "output_type": "stream",
     "text": [
      "1178307.zip: 306kB [00:01, 274kB/s]  \n"
     ]
    },
    {
     "name": "stdout",
     "output_type": "stream",
     "text": [
      "\n",
      "File successfully downloaded to: ./zenodo_dl/1178307.zip\n",
      "[info] File downloaded: ./zenodo_dl/1178307.zip\n",
      "\n",
      "[info] Paper_idx: 1089, Zenodo id: 1178213\n"
     ]
    },
    {
     "name": "stderr",
     "output_type": "stream",
     "text": [
      "1178213.zip: 369kB [00:01, 329kB/s]  \n"
     ]
    },
    {
     "name": "stdout",
     "output_type": "stream",
     "text": [
      "\n",
      "File successfully downloaded to: ./zenodo_dl/1178213.zip\n",
      "[info] File downloaded: ./zenodo_dl/1178213.zip\n",
      "\n",
      "[info] Paper_idx: 1090, Zenodo id: 1178333\n"
     ]
    },
    {
     "name": "stderr",
     "output_type": "stream",
     "text": [
      "1178333.zip: 1.01MB [00:01, 721kB/s] \n"
     ]
    },
    {
     "name": "stdout",
     "output_type": "stream",
     "text": [
      "\n",
      "File successfully downloaded to: ./zenodo_dl/1178333.zip\n",
      "[info] File downloaded: ./zenodo_dl/1178333.zip\n",
      "\n",
      "[info] Paper_idx: 1091, Zenodo id: 1178303\n"
     ]
    },
    {
     "name": "stderr",
     "output_type": "stream",
     "text": [
      "1178303.zip: 948kB [00:01, 674kB/s]  \n"
     ]
    },
    {
     "name": "stdout",
     "output_type": "stream",
     "text": [
      "\n",
      "File successfully downloaded to: ./zenodo_dl/1178303.zip\n",
      "[info] File downloaded: ./zenodo_dl/1178303.zip\n",
      "\n",
      "[info] Paper_idx: 1092, Zenodo id: 1180583\n"
     ]
    },
    {
     "name": "stderr",
     "output_type": "stream",
     "text": [
      "1180583.zip: 2.17MB [00:02, 976kB/s] \n"
     ]
    },
    {
     "name": "stdout",
     "output_type": "stream",
     "text": [
      "\n",
      "File successfully downloaded to: ./zenodo_dl/1180583.zip\n",
      "[info] File downloaded: ./zenodo_dl/1180583.zip\n",
      "\n",
      "[info] Paper_idx: 1093, Zenodo id: 1178209\n"
     ]
    },
    {
     "name": "stderr",
     "output_type": "stream",
     "text": [
      "1178209.zip: 494kB [00:01, 442kB/s]  \n"
     ]
    },
    {
     "name": "stdout",
     "output_type": "stream",
     "text": [
      "\n",
      "File successfully downloaded to: ./zenodo_dl/1178209.zip\n",
      "[info] File downloaded: ./zenodo_dl/1178209.zip\n",
      "\n",
      "[info] Paper_idx: 1094, Zenodo id: 1178211\n"
     ]
    },
    {
     "name": "stderr",
     "output_type": "stream",
     "text": [
      "1178211.zip: 2.83MB [00:07, 356kB/s] \n"
     ]
    },
    {
     "name": "stdout",
     "output_type": "stream",
     "text": [
      "\n",
      "File successfully downloaded to: ./zenodo_dl/1178211.zip\n",
      "[info] File downloaded: ./zenodo_dl/1178211.zip\n",
      "\n",
      "[info] Paper_idx: 1095, Zenodo id: 1178335\n"
     ]
    },
    {
     "name": "stderr",
     "output_type": "stream",
     "text": [
      "1178335.zip: 3.01MB [00:01, 1.51MB/s]\n"
     ]
    },
    {
     "name": "stdout",
     "output_type": "stream",
     "text": [
      "\n",
      "File successfully downloaded to: ./zenodo_dl/1178335.zip\n",
      "[info] File downloaded: ./zenodo_dl/1178335.zip\n",
      "\n",
      "[info] Paper_idx: 1096, Zenodo id: 1178313\n"
     ]
    },
    {
     "name": "stderr",
     "output_type": "stream",
     "text": [
      "1178313.zip: 213kB [00:00, 251kB/s]  \n"
     ]
    },
    {
     "name": "stdout",
     "output_type": "stream",
     "text": [
      "\n",
      "File successfully downloaded to: ./zenodo_dl/1178313.zip\n",
      "[info] File downloaded: ./zenodo_dl/1178313.zip\n",
      "\n",
      "[info] Paper_idx: 1097, Zenodo id: 1178237\n"
     ]
    },
    {
     "name": "stderr",
     "output_type": "stream",
     "text": [
      "1178237.zip: 567kB [00:01, 407kB/s]  \n"
     ]
    },
    {
     "name": "stdout",
     "output_type": "stream",
     "text": [
      "\n",
      "File successfully downloaded to: ./zenodo_dl/1178237.zip\n",
      "[info] File downloaded: ./zenodo_dl/1178237.zip\n",
      "\n",
      "[info] Paper_idx: 1098, Zenodo id: 1178439\n"
     ]
    },
    {
     "name": "stderr",
     "output_type": "stream",
     "text": [
      "1178439.zip: 1.77MB [00:04, 354kB/s] \n"
     ]
    },
    {
     "name": "stdout",
     "output_type": "stream",
     "text": [
      "\n",
      "File successfully downloaded to: ./zenodo_dl/1178439.zip\n",
      "[info] File downloaded: ./zenodo_dl/1178439.zip\n",
      "\n",
      "[info] Paper_idx: 1099, Zenodo id: 1180601\n"
     ]
    },
    {
     "name": "stderr",
     "output_type": "stream",
     "text": [
      "1180601.zip: 790kB [00:02, 287kB/s]  \n"
     ]
    },
    {
     "name": "stdout",
     "output_type": "stream",
     "text": [
      "\n",
      "File successfully downloaded to: ./zenodo_dl/1180601.zip\n",
      "[info] File downloaded: ./zenodo_dl/1180601.zip\n",
      "\n",
      "[info] Paper_idx: 1100, Zenodo id: 1178201\n"
     ]
    },
    {
     "name": "stderr",
     "output_type": "stream",
     "text": [
      "1178201.zip: 257kB [00:01, 230kB/s]  \n"
     ]
    },
    {
     "name": "stdout",
     "output_type": "stream",
     "text": [
      "\n",
      "File successfully downloaded to: ./zenodo_dl/1178201.zip\n",
      "[info] File downloaded: ./zenodo_dl/1178201.zip\n",
      "\n",
      "[info] Paper_idx: 1101, Zenodo id: 1178421\n"
     ]
    },
    {
     "name": "stderr",
     "output_type": "stream",
     "text": [
      "1178421.zip: 2.46MB [00:01, 1.26MB/s]\n"
     ]
    },
    {
     "name": "stdout",
     "output_type": "stream",
     "text": [
      "\n",
      "File successfully downloaded to: ./zenodo_dl/1178421.zip\n",
      "[info] File downloaded: ./zenodo_dl/1178421.zip\n",
      "\n",
      "[info] Paper_idx: 1102, Zenodo id: 1180555\n"
     ]
    },
    {
     "name": "stderr",
     "output_type": "stream",
     "text": [
      "1180555.zip: 153kB [00:00, 170kB/s]  \n"
     ]
    },
    {
     "name": "stdout",
     "output_type": "stream",
     "text": [
      "\n",
      "File successfully downloaded to: ./zenodo_dl/1180555.zip\n",
      "[info] File downloaded: ./zenodo_dl/1180555.zip\n",
      "\n",
      "[info] Paper_idx: 1103, Zenodo id: 1180587\n"
     ]
    },
    {
     "name": "stderr",
     "output_type": "stream",
     "text": [
      "1180587.zip: 2.97MB [00:03, 761kB/s] \n"
     ]
    },
    {
     "name": "stdout",
     "output_type": "stream",
     "text": [
      "\n",
      "File successfully downloaded to: ./zenodo_dl/1180587.zip\n",
      "[info] File downloaded: ./zenodo_dl/1180587.zip\n",
      "\n",
      "[info] Paper_idx: 1104, Zenodo id: 1180561\n"
     ]
    },
    {
     "name": "stderr",
     "output_type": "stream",
     "text": [
      "1180561.zip: 1.30MB [00:04, 309kB/s] \n"
     ]
    },
    {
     "name": "stdout",
     "output_type": "stream",
     "text": [
      "\n",
      "File successfully downloaded to: ./zenodo_dl/1180561.zip\n",
      "[info] File downloaded: ./zenodo_dl/1180561.zip\n",
      "\n",
      "[info] Paper_idx: 1105, Zenodo id: 1180531\n"
     ]
    },
    {
     "name": "stderr",
     "output_type": "stream",
     "text": [
      "1180531.zip: 1.38MB [00:04, 315kB/s] \n"
     ]
    },
    {
     "name": "stdout",
     "output_type": "stream",
     "text": [
      "\n",
      "File successfully downloaded to: ./zenodo_dl/1180531.zip\n",
      "[info] File downloaded: ./zenodo_dl/1180531.zip\n",
      "\n",
      "[info] Paper_idx: 1106, Zenodo id: 1178309\n"
     ]
    },
    {
     "name": "stderr",
     "output_type": "stream",
     "text": [
      "1178309.zip: 10.9MB [00:29, 373kB/s] \n"
     ]
    },
    {
     "name": "stdout",
     "output_type": "stream",
     "text": [
      "\n",
      "File successfully downloaded to: ./zenodo_dl/1178309.zip\n",
      "[info] File downloaded: ./zenodo_dl/1178309.zip\n",
      "\n",
      "[info] Paper_idx: 1107, Zenodo id: 1180553\n"
     ]
    },
    {
     "name": "stderr",
     "output_type": "stream",
     "text": [
      "1180553.zip: 281kB [00:01, 251kB/s]  \n"
     ]
    },
    {
     "name": "stdout",
     "output_type": "stream",
     "text": [
      "\n",
      "File successfully downloaded to: ./zenodo_dl/1180553.zip\n",
      "[info] File downloaded: ./zenodo_dl/1180553.zip\n",
      "\n",
      "[info] Paper_idx: 1108, Zenodo id: 1180565\n"
     ]
    },
    {
     "name": "stderr",
     "output_type": "stream",
     "text": [
      "1180565.zip: 822kB [00:02, 296kB/s]  \n"
     ]
    },
    {
     "name": "stdout",
     "output_type": "stream",
     "text": [
      "\n",
      "File successfully downloaded to: ./zenodo_dl/1180565.zip\n",
      "[info] File downloaded: ./zenodo_dl/1180565.zip\n",
      "\n",
      "[info] Paper_idx: 1109, Zenodo id: 1178283\n"
     ]
    },
    {
     "name": "stderr",
     "output_type": "stream",
     "text": [
      "1178283.zip: 2.57MB [00:06, 370kB/s] \n"
     ]
    },
    {
     "name": "stdout",
     "output_type": "stream",
     "text": [
      "\n",
      "File successfully downloaded to: ./zenodo_dl/1178283.zip\n",
      "[info] File downloaded: ./zenodo_dl/1178283.zip\n",
      "\n",
      "[info] Paper_idx: 1110, Zenodo id: 1180537\n"
     ]
    },
    {
     "name": "stderr",
     "output_type": "stream",
     "text": [
      "1180537.zip: 682kB [00:02, 273kB/s]  \n"
     ]
    },
    {
     "name": "stdout",
     "output_type": "stream",
     "text": [
      "\n",
      "File successfully downloaded to: ./zenodo_dl/1180537.zip\n",
      "[info] File downloaded: ./zenodo_dl/1180537.zip\n",
      "\n",
      "[info] Paper_idx: 1111, Zenodo id: 1178267\n"
     ]
    },
    {
     "name": "stderr",
     "output_type": "stream",
     "text": [
      "1178267.zip: 278kB [00:01, 248kB/s]  \n"
     ]
    },
    {
     "name": "stdout",
     "output_type": "stream",
     "text": [
      "\n",
      "File successfully downloaded to: ./zenodo_dl/1178267.zip\n",
      "[info] File downloaded: ./zenodo_dl/1178267.zip\n",
      "\n",
      "[info] Paper_idx: 1112, Zenodo id: 1180591\n"
     ]
    },
    {
     "name": "stderr",
     "output_type": "stream",
     "text": [
      "1180591.zip: 14.9MB [00:18, 818kB/s] \n"
     ]
    },
    {
     "name": "stdout",
     "output_type": "stream",
     "text": [
      "\n",
      "File successfully downloaded to: ./zenodo_dl/1180591.zip\n",
      "[info] File downloaded: ./zenodo_dl/1180591.zip\n",
      "\n",
      "[info] Paper_idx: 1113, Zenodo id: 1178455\n"
     ]
    },
    {
     "name": "stderr",
     "output_type": "stream",
     "text": [
      "1178455.zip: 2.80MB [00:08, 337kB/s] \n"
     ]
    },
    {
     "name": "stdout",
     "output_type": "stream",
     "text": [
      "\n",
      "File successfully downloaded to: ./zenodo_dl/1178455.zip\n",
      "[info] File downloaded: ./zenodo_dl/1178455.zip\n",
      "\n",
      "[info] Paper_idx: 1114, Zenodo id: 1178433\n"
     ]
    },
    {
     "name": "stderr",
     "output_type": "stream",
     "text": [
      "1178433.zip: 1.53MB [00:04, 325kB/s] \n"
     ]
    },
    {
     "name": "stdout",
     "output_type": "stream",
     "text": [
      "\n",
      "File successfully downloaded to: ./zenodo_dl/1178433.zip\n",
      "[info] File downloaded: ./zenodo_dl/1178433.zip\n",
      "\n",
      "[info] Paper_idx: 1115, Zenodo id: 1178339\n"
     ]
    },
    {
     "name": "stderr",
     "output_type": "stream",
     "text": [
      "1178339.zip: 701kB [00:02, 254kB/s]  \n"
     ]
    },
    {
     "name": "stdout",
     "output_type": "stream",
     "text": [
      "\n",
      "File successfully downloaded to: ./zenodo_dl/1178339.zip\n",
      "[info] File downloaded: ./zenodo_dl/1178339.zip\n",
      "\n",
      "[info] Paper_idx: 1116, Zenodo id: 1178271\n"
     ]
    },
    {
     "name": "stderr",
     "output_type": "stream",
     "text": [
      "1178271.zip: 1.27MB [00:04, 268kB/s] \n"
     ]
    },
    {
     "name": "stdout",
     "output_type": "stream",
     "text": [
      "\n",
      "File successfully downloaded to: ./zenodo_dl/1178271.zip\n",
      "[info] File downloaded: ./zenodo_dl/1178271.zip\n",
      "\n",
      "[info] Paper_idx: 1117, Zenodo id: 1178451\n"
     ]
    },
    {
     "name": "stderr",
     "output_type": "stream",
     "text": [
      "1178451.zip: 231kB [00:01, 198kB/s]  \n"
     ]
    },
    {
     "name": "stdout",
     "output_type": "stream",
     "text": [
      "\n",
      "File successfully downloaded to: ./zenodo_dl/1178451.zip\n",
      "[info] File downloaded: ./zenodo_dl/1178451.zip\n",
      "\n",
      "[info] Paper_idx: 1118, Zenodo id: 1180585\n"
     ]
    },
    {
     "name": "stderr",
     "output_type": "stream",
     "text": [
      "1180585.zip: 785kB [00:02, 279kB/s]  \n"
     ]
    },
    {
     "name": "stdout",
     "output_type": "stream",
     "text": [
      "\n",
      "File successfully downloaded to: ./zenodo_dl/1180585.zip\n",
      "[info] File downloaded: ./zenodo_dl/1180585.zip\n",
      "\n",
      "[info] Paper_idx: 1119, Zenodo id: 1180575\n"
     ]
    },
    {
     "name": "stderr",
     "output_type": "stream",
     "text": [
      "1180575.zip: 822kB [00:01, 585kB/s]  \n"
     ]
    },
    {
     "name": "stdout",
     "output_type": "stream",
     "text": [
      "\n",
      "File successfully downloaded to: ./zenodo_dl/1180575.zip\n",
      "[info] File downloaded: ./zenodo_dl/1180575.zip\n",
      "\n",
      "[info] Paper_idx: 1120, Zenodo id: 1178235\n"
     ]
    },
    {
     "name": "stderr",
     "output_type": "stream",
     "text": [
      "1178235.zip: 9.84MB [00:26, 367kB/s] \n"
     ]
    },
    {
     "name": "stdout",
     "output_type": "stream",
     "text": [
      "\n",
      "File successfully downloaded to: ./zenodo_dl/1178235.zip\n",
      "[info] File downloaded: ./zenodo_dl/1178235.zip\n",
      "\n",
      "[info] Paper_idx: 1121, Zenodo id: 1178443\n"
     ]
    },
    {
     "name": "stderr",
     "output_type": "stream",
     "text": [
      "1178443.zip: 1.73MB [00:05, 328kB/s] \n"
     ]
    },
    {
     "name": "stdout",
     "output_type": "stream",
     "text": [
      "\n",
      "File successfully downloaded to: ./zenodo_dl/1178443.zip\n",
      "[info] File downloaded: ./zenodo_dl/1178443.zip\n",
      "\n",
      "[info] Paper_idx: 1122, Zenodo id: 1178273\n"
     ]
    },
    {
     "name": "stderr",
     "output_type": "stream",
     "text": [
      "1178273.zip: 174kB [00:01, 155kB/s]  \n"
     ]
    },
    {
     "name": "stdout",
     "output_type": "stream",
     "text": [
      "\n",
      "File successfully downloaded to: ./zenodo_dl/1178273.zip\n",
      "[info] File downloaded: ./zenodo_dl/1178273.zip\n",
      "\n",
      "[info] Paper_idx: 1123, Zenodo id: 1180547\n"
     ]
    },
    {
     "name": "stderr",
     "output_type": "stream",
     "text": [
      "1180547.zip: 907kB [00:03, 298kB/s]  \n"
     ]
    },
    {
     "name": "stdout",
     "output_type": "stream",
     "text": [
      "\n",
      "File successfully downloaded to: ./zenodo_dl/1180547.zip\n",
      "[info] File downloaded: ./zenodo_dl/1180547.zip\n",
      "\n",
      "[info] Paper_idx: 1124, Zenodo id: 1178437\n"
     ]
    },
    {
     "name": "stderr",
     "output_type": "stream",
     "text": [
      "1178437.zip: 4.13MB [00:06, 664kB/s] \n"
     ]
    },
    {
     "name": "stdout",
     "output_type": "stream",
     "text": [
      "\n",
      "File successfully downloaded to: ./zenodo_dl/1178437.zip\n",
      "[info] File downloaded: ./zenodo_dl/1178437.zip\n",
      "\n",
      "[info] Paper_idx: 1125, Zenodo id: 1178261\n"
     ]
    },
    {
     "name": "stderr",
     "output_type": "stream",
     "text": [
      "1178261.zip: 6.20MB [00:16, 367kB/s] \n"
     ]
    },
    {
     "name": "stdout",
     "output_type": "stream",
     "text": [
      "\n",
      "File successfully downloaded to: ./zenodo_dl/1178261.zip\n",
      "[info] File downloaded: ./zenodo_dl/1178261.zip\n",
      "\n",
      "[info] Paper_idx: 1126, Zenodo id: 1178331\n"
     ]
    },
    {
     "name": "stderr",
     "output_type": "stream",
     "text": [
      "1178331.zip: 465kB [00:01, 420kB/s]  \n"
     ]
    },
    {
     "name": "stdout",
     "output_type": "stream",
     "text": [
      "\n",
      "File successfully downloaded to: ./zenodo_dl/1178331.zip\n",
      "[info] File downloaded: ./zenodo_dl/1178331.zip\n",
      "\n",
      "[info] Paper_idx: 1127, Zenodo id: 1178289\n"
     ]
    },
    {
     "name": "stderr",
     "output_type": "stream",
     "text": [
      "1178289.zip: 1.71MB [00:04, 386kB/s] \n"
     ]
    },
    {
     "name": "stdout",
     "output_type": "stream",
     "text": [
      "\n",
      "File successfully downloaded to: ./zenodo_dl/1178289.zip\n",
      "[info] File downloaded: ./zenodo_dl/1178289.zip\n",
      "\n",
      "[info] Paper_idx: 1128, Zenodo id: 1180559\n"
     ]
    },
    {
     "name": "stderr",
     "output_type": "stream",
     "text": [
      "1180559.zip: 1.28MB [00:03, 329kB/s] \n"
     ]
    },
    {
     "name": "stdout",
     "output_type": "stream",
     "text": [
      "\n",
      "File successfully downloaded to: ./zenodo_dl/1180559.zip\n",
      "[info] File downloaded: ./zenodo_dl/1180559.zip\n",
      "\n",
      "[info] Paper_idx: 1129, Zenodo id: 1180589\n"
     ]
    },
    {
     "name": "stderr",
     "output_type": "stream",
     "text": [
      "1180589.zip: 2.23MB [00:06, 335kB/s] \n"
     ]
    },
    {
     "name": "stdout",
     "output_type": "stream",
     "text": [
      "\n",
      "File successfully downloaded to: ./zenodo_dl/1180589.zip\n",
      "[info] File downloaded: ./zenodo_dl/1180589.zip\n",
      "\n",
      "[info] Paper_idx: 1130, Zenodo id: 1178301\n"
     ]
    },
    {
     "name": "stderr",
     "output_type": "stream",
     "text": [
      "1178301.zip: 3.50MB [00:09, 350kB/s] \n"
     ]
    },
    {
     "name": "stdout",
     "output_type": "stream",
     "text": [
      "\n",
      "File successfully downloaded to: ./zenodo_dl/1178301.zip\n",
      "[info] File downloaded: ./zenodo_dl/1178301.zip\n",
      "\n",
      "[info] Paper_idx: 1131, Zenodo id: 1180551\n"
     ]
    },
    {
     "name": "stderr",
     "output_type": "stream",
     "text": [
      "1180551.zip: 781kB [00:01, 555kB/s]  \n"
     ]
    },
    {
     "name": "stdout",
     "output_type": "stream",
     "text": [
      "\n",
      "File successfully downloaded to: ./zenodo_dl/1180551.zip\n",
      "[info] File downloaded: ./zenodo_dl/1180551.zip\n",
      "\n",
      "[info] Paper_idx: 1132, Zenodo id: 1178337\n"
     ]
    },
    {
     "name": "stderr",
     "output_type": "stream",
     "text": [
      "1178337.zip: 222kB [00:00, 261kB/s]  \n"
     ]
    },
    {
     "name": "stdout",
     "output_type": "stream",
     "text": [
      "\n",
      "File successfully downloaded to: ./zenodo_dl/1178337.zip\n",
      "[info] File downloaded: ./zenodo_dl/1178337.zip\n",
      "\n",
      "[info] Paper_idx: 1133, Zenodo id: 1178431\n"
     ]
    },
    {
     "name": "stderr",
     "output_type": "stream",
     "text": [
      "1178431.zip: 230kB [00:01, 205kB/s]  \n"
     ]
    },
    {
     "name": "stdout",
     "output_type": "stream",
     "text": [
      "\n",
      "File successfully downloaded to: ./zenodo_dl/1178431.zip\n",
      "[info] File downloaded: ./zenodo_dl/1178431.zip\n",
      "\n",
      "[info] Paper_idx: 1134, Zenodo id: 1178243\n"
     ]
    },
    {
     "name": "stderr",
     "output_type": "stream",
     "text": [
      "1178243.zip: 524kB [00:01, 392kB/s]  \n"
     ]
    },
    {
     "name": "stdout",
     "output_type": "stream",
     "text": [
      "\n",
      "File successfully downloaded to: ./zenodo_dl/1178243.zip\n",
      "[info] File downloaded: ./zenodo_dl/1178243.zip\n",
      "\n",
      "[info] Paper_idx: 1135, Zenodo id: 1178429\n"
     ]
    },
    {
     "name": "stderr",
     "output_type": "stream",
     "text": [
      "1178429.zip: 1.73MB [00:04, 390kB/s] \n"
     ]
    },
    {
     "name": "stdout",
     "output_type": "stream",
     "text": [
      "\n",
      "File successfully downloaded to: ./zenodo_dl/1178429.zip\n",
      "[info] File downloaded: ./zenodo_dl/1178429.zip\n",
      "\n",
      "[info] Paper_idx: 1136, Zenodo id: 1178321\n"
     ]
    },
    {
     "name": "stderr",
     "output_type": "stream",
     "text": [
      "1178321.zip: 190kB [00:00, 227kB/s]  \n"
     ]
    },
    {
     "name": "stdout",
     "output_type": "stream",
     "text": [
      "\n",
      "File successfully downloaded to: ./zenodo_dl/1178321.zip\n",
      "[info] File downloaded: ./zenodo_dl/1178321.zip\n",
      "\n",
      "[info] Paper_idx: 1137, Zenodo id: 1178263\n"
     ]
    },
    {
     "name": "stderr",
     "output_type": "stream",
     "text": [
      "1178263.zip: 285kB [00:01, 245kB/s]  \n"
     ]
    },
    {
     "name": "stdout",
     "output_type": "stream",
     "text": [
      "\n",
      "File successfully downloaded to: ./zenodo_dl/1178263.zip\n",
      "[info] File downloaded: ./zenodo_dl/1178263.zip\n",
      "\n",
      "[info] Paper_idx: 1138, Zenodo id: 1178323\n"
     ]
    },
    {
     "name": "stderr",
     "output_type": "stream",
     "text": [
      "1178323.zip: 34.7MB [00:06, 5.46MB/s]\n"
     ]
    },
    {
     "name": "stdout",
     "output_type": "stream",
     "text": [
      "\n",
      "File successfully downloaded to: ./zenodo_dl/1178323.zip\n",
      "[info] File downloaded: ./zenodo_dl/1178323.zip\n",
      "\n",
      "[info] Paper_idx: 1139, Zenodo id: 1178257\n"
     ]
    },
    {
     "name": "stderr",
     "output_type": "stream",
     "text": [
      "1178257.zip: 8.77MB [00:04, 1.95MB/s]\n"
     ]
    },
    {
     "name": "stdout",
     "output_type": "stream",
     "text": [
      "\n",
      "File successfully downloaded to: ./zenodo_dl/1178257.zip\n",
      "[info] File downloaded: ./zenodo_dl/1178257.zip\n",
      "\n",
      "[info] Paper_idx: 1140, Zenodo id: 1178295\n"
     ]
    },
    {
     "name": "stderr",
     "output_type": "stream",
     "text": [
      "1178295.zip: 610kB [00:02, 275kB/s]  \n"
     ]
    },
    {
     "name": "stdout",
     "output_type": "stream",
     "text": [
      "\n",
      "File successfully downloaded to: ./zenodo_dl/1178295.zip\n",
      "[info] File downloaded: ./zenodo_dl/1178295.zip\n",
      "\n",
      "[info] Paper_idx: 1141, Zenodo id: 1178269\n"
     ]
    },
    {
     "name": "stderr",
     "output_type": "stream",
     "text": [
      "1178269.zip: 2.22MB [00:06, 333kB/s] \n"
     ]
    },
    {
     "name": "stdout",
     "output_type": "stream",
     "text": [
      "\n",
      "File successfully downloaded to: ./zenodo_dl/1178269.zip\n",
      "[info] File downloaded: ./zenodo_dl/1178269.zip\n",
      "\n",
      "[info] Paper_idx: 1142, Zenodo id: 1178217\n"
     ]
    },
    {
     "name": "stderr",
     "output_type": "stream",
     "text": [
      "1178217.zip: 4.34MB [00:03, 1.35MB/s]\n"
     ]
    },
    {
     "name": "stdout",
     "output_type": "stream",
     "text": [
      "\n",
      "File successfully downloaded to: ./zenodo_dl/1178217.zip\n",
      "[info] File downloaded: ./zenodo_dl/1178217.zip\n",
      "\n",
      "[info] Paper_idx: 1143, Zenodo id: 1178459\n"
     ]
    },
    {
     "name": "stderr",
     "output_type": "stream",
     "text": [
      "1178459.zip: 3.65MB [00:09, 365kB/s] \n"
     ]
    },
    {
     "name": "stdout",
     "output_type": "stream",
     "text": [
      "\n",
      "File successfully downloaded to: ./zenodo_dl/1178459.zip\n",
      "[info] File downloaded: ./zenodo_dl/1178459.zip\n",
      "\n",
      "[info] Paper_idx: 1144, Zenodo id: 1178239\n"
     ]
    },
    {
     "name": "stderr",
     "output_type": "stream",
     "text": [
      "1178239.zip: 137kB [00:01, 125kB/s]  \n"
     ]
    },
    {
     "name": "stdout",
     "output_type": "stream",
     "text": [
      "\n",
      "File successfully downloaded to: ./zenodo_dl/1178239.zip\n",
      "[info] File downloaded: ./zenodo_dl/1178239.zip\n",
      "\n",
      "[info] Paper_idx: 1145, Zenodo id: 1178255\n"
     ]
    },
    {
     "name": "stderr",
     "output_type": "stream",
     "text": [
      "1178255.zip: 657kB [00:01, 472kB/s]  \n"
     ]
    },
    {
     "name": "stdout",
     "output_type": "stream",
     "text": [
      "\n",
      "File successfully downloaded to: ./zenodo_dl/1178255.zip\n",
      "[info] File downloaded: ./zenodo_dl/1178255.zip\n",
      "\n",
      "[info] Paper_idx: 1146, Zenodo id: 1180535\n"
     ]
    },
    {
     "name": "stderr",
     "output_type": "stream",
     "text": [
      "1180535.zip: 515kB [00:01, 264kB/s]  \n"
     ]
    },
    {
     "name": "stdout",
     "output_type": "stream",
     "text": [
      "\n",
      "File successfully downloaded to: ./zenodo_dl/1180535.zip\n",
      "[info] File downloaded: ./zenodo_dl/1180535.zip\n",
      "\n",
      "[info] Paper_idx: 1147, Zenodo id: 1178253\n"
     ]
    },
    {
     "name": "stderr",
     "output_type": "stream",
     "text": [
      "1178253.zip: 393kB [00:01, 236kB/s]  \n"
     ]
    },
    {
     "name": "stdout",
     "output_type": "stream",
     "text": [
      "\n",
      "File successfully downloaded to: ./zenodo_dl/1178253.zip\n",
      "[info] File downloaded: ./zenodo_dl/1178253.zip\n",
      "\n",
      "[info] Paper_idx: 1148, Zenodo id: 1178319\n"
     ]
    },
    {
     "name": "stderr",
     "output_type": "stream",
     "text": [
      "1178319.zip: 172kB [00:00, 206kB/s]  \n"
     ]
    },
    {
     "name": "stdout",
     "output_type": "stream",
     "text": [
      "\n",
      "File successfully downloaded to: ./zenodo_dl/1178319.zip\n",
      "[info] File downloaded: ./zenodo_dl/1178319.zip\n",
      "\n",
      "[info] Paper_idx: 1149, Zenodo id: 1180543\n"
     ]
    },
    {
     "name": "stderr",
     "output_type": "stream",
     "text": [
      "1180543.zip: 1.31MB [00:04, 294kB/s] \n"
     ]
    },
    {
     "name": "stdout",
     "output_type": "stream",
     "text": [
      "\n",
      "File successfully downloaded to: ./zenodo_dl/1180543.zip\n",
      "[info] File downloaded: ./zenodo_dl/1180543.zip\n",
      "\n",
      "[info] Paper_idx: 1150, Zenodo id: 1178241\n"
     ]
    },
    {
     "name": "stderr",
     "output_type": "stream",
     "text": [
      "1178241.zip: 1.74MB [00:02, 696kB/s] \n"
     ]
    },
    {
     "name": "stdout",
     "output_type": "stream",
     "text": [
      "\n",
      "File successfully downloaded to: ./zenodo_dl/1178241.zip\n",
      "[info] File downloaded: ./zenodo_dl/1178241.zip\n",
      "\n",
      "[info] Paper_idx: 1151, Zenodo id: 1178305\n"
     ]
    },
    {
     "name": "stderr",
     "output_type": "stream",
     "text": [
      "1178305.zip: 1.41MB [00:03, 460kB/s] \n"
     ]
    },
    {
     "name": "stdout",
     "output_type": "stream",
     "text": [
      "\n",
      "File successfully downloaded to: ./zenodo_dl/1178305.zip\n",
      "[info] File downloaded: ./zenodo_dl/1178305.zip\n",
      "\n",
      "[info] Paper_idx: 1152, Zenodo id: 1180599\n"
     ]
    },
    {
     "name": "stderr",
     "output_type": "stream",
     "text": [
      "1180599.zip: 2.08MB [00:02, 943kB/s] \n"
     ]
    },
    {
     "name": "stdout",
     "output_type": "stream",
     "text": [
      "\n",
      "File successfully downloaded to: ./zenodo_dl/1180599.zip\n",
      "[info] File downloaded: ./zenodo_dl/1180599.zip\n",
      "\n",
      "[info] Paper_idx: 1153, Zenodo id: 1178447\n"
     ]
    },
    {
     "name": "stderr",
     "output_type": "stream",
     "text": [
      "1178447.zip: 5.47MB [00:02, 2.18MB/s]\n"
     ]
    },
    {
     "name": "stdout",
     "output_type": "stream",
     "text": [
      "\n",
      "File successfully downloaded to: ./zenodo_dl/1178447.zip\n",
      "[info] File downloaded: ./zenodo_dl/1178447.zip\n",
      "\n",
      "[info] Paper_idx: 1154, Zenodo id: 1178227\n"
     ]
    },
    {
     "name": "stderr",
     "output_type": "stream",
     "text": [
      "1178227.zip: 331kB [00:01, 235kB/s]  \n"
     ]
    },
    {
     "name": "stdout",
     "output_type": "stream",
     "text": [
      "\n",
      "File successfully downloaded to: ./zenodo_dl/1178227.zip\n",
      "[info] File downloaded: ./zenodo_dl/1178227.zip\n",
      "\n",
      "[info] Paper_idx: 1155, Zenodo id: 1178345\n"
     ]
    },
    {
     "name": "stderr",
     "output_type": "stream",
     "text": [
      "1178345.zip: 2.07MB [00:06, 327kB/s] \n"
     ]
    },
    {
     "name": "stdout",
     "output_type": "stream",
     "text": [
      "\n",
      "File successfully downloaded to: ./zenodo_dl/1178345.zip\n",
      "[info] File downloaded: ./zenodo_dl/1178345.zip\n",
      "\n",
      "[info] Paper_idx: 1156, Zenodo id: 1178435\n"
     ]
    },
    {
     "name": "stderr",
     "output_type": "stream",
     "text": [
      "1178435.zip: 403kB [00:01, 247kB/s]  \n"
     ]
    },
    {
     "name": "stdout",
     "output_type": "stream",
     "text": [
      "\n",
      "File successfully downloaded to: ./zenodo_dl/1178435.zip\n",
      "[info] File downloaded: ./zenodo_dl/1178435.zip\n",
      "\n",
      "[info] Paper_idx: 1157, Zenodo id: 1178259\n"
     ]
    },
    {
     "name": "stderr",
     "output_type": "stream",
     "text": [
      "1178259.zip: 166kB [00:00, 198kB/s]  \n"
     ]
    },
    {
     "name": "stdout",
     "output_type": "stream",
     "text": [
      "\n",
      "File successfully downloaded to: ./zenodo_dl/1178259.zip\n",
      "[info] File downloaded: ./zenodo_dl/1178259.zip\n",
      "\n",
      "[info] Paper_idx: 1158, Zenodo id: 1178231\n"
     ]
    },
    {
     "name": "stderr",
     "output_type": "stream",
     "text": [
      "1178231.zip: 401kB [00:01, 355kB/s]  \n"
     ]
    },
    {
     "name": "stdout",
     "output_type": "stream",
     "text": [
      "\n",
      "File successfully downloaded to: ./zenodo_dl/1178231.zip\n",
      "[info] File downloaded: ./zenodo_dl/1178231.zip\n",
      "\n",
      "[info] Paper_idx: 1159, Zenodo id: 1178203\n"
     ]
    },
    {
     "name": "stderr",
     "output_type": "stream",
     "text": [
      "1178203.zip: 2.38MB [00:06, 344kB/s] \n"
     ]
    },
    {
     "name": "stdout",
     "output_type": "stream",
     "text": [
      "\n",
      "File successfully downloaded to: ./zenodo_dl/1178203.zip\n",
      "[info] File downloaded: ./zenodo_dl/1178203.zip\n",
      "\n",
      "[info] Paper_idx: 1160, Zenodo id: 1180581\n"
     ]
    },
    {
     "name": "stderr",
     "output_type": "stream",
     "text": [
      "1180581.zip: 383kB [00:01, 343kB/s]  \n"
     ]
    },
    {
     "name": "stdout",
     "output_type": "stream",
     "text": [
      "\n",
      "File successfully downloaded to: ./zenodo_dl/1180581.zip\n",
      "[info] File downloaded: ./zenodo_dl/1180581.zip\n",
      "\n",
      "[info] Paper_idx: 1161, Zenodo id: 1178277\n"
     ]
    },
    {
     "name": "stderr",
     "output_type": "stream",
     "text": [
      "1178277.zip: 122kB [00:00, 148kB/s]  \n"
     ]
    },
    {
     "name": "stdout",
     "output_type": "stream",
     "text": [
      "\n",
      "File successfully downloaded to: ./zenodo_dl/1178277.zip\n",
      "[info] File downloaded: ./zenodo_dl/1178277.zip\n",
      "\n",
      "[info] Paper_idx: 1162, Zenodo id: 1178311\n"
     ]
    },
    {
     "name": "stderr",
     "output_type": "stream",
     "text": [
      "1178311.zip: 332kB [00:01, 237kB/s]  \n"
     ]
    },
    {
     "name": "stdout",
     "output_type": "stream",
     "text": [
      "\n",
      "File successfully downloaded to: ./zenodo_dl/1178311.zip\n",
      "[info] File downloaded: ./zenodo_dl/1178311.zip\n",
      "\n",
      "[info] Paper_idx: 1163, Zenodo id: 1178199\n"
     ]
    },
    {
     "name": "stderr",
     "output_type": "stream",
     "text": [
      "1178199.zip: 409kB [00:01, 244kB/s]  \n"
     ]
    },
    {
     "name": "stdout",
     "output_type": "stream",
     "text": [
      "\n",
      "File successfully downloaded to: ./zenodo_dl/1178199.zip\n",
      "[info] File downloaded: ./zenodo_dl/1178199.zip\n",
      "\n",
      "[info] Paper_idx: 1164, Zenodo id: 1178223\n"
     ]
    },
    {
     "name": "stderr",
     "output_type": "stream",
     "text": [
      "1178223.zip: 164kB [00:00, 193kB/s]  \n"
     ]
    },
    {
     "name": "stdout",
     "output_type": "stream",
     "text": [
      "\n",
      "File successfully downloaded to: ./zenodo_dl/1178223.zip\n",
      "[info] File downloaded: ./zenodo_dl/1178223.zip\n",
      "\n",
      "[info] Paper_idx: 1165, Zenodo id: 1178225\n"
     ]
    },
    {
     "name": "stderr",
     "output_type": "stream",
     "text": [
      "1178225.zip: 29.8MB [00:07, 3.99MB/s]\n"
     ]
    },
    {
     "name": "stdout",
     "output_type": "stream",
     "text": [
      "\n",
      "File successfully downloaded to: ./zenodo_dl/1178225.zip\n",
      "[info] File downloaded: ./zenodo_dl/1178225.zip\n",
      "\n",
      "[info] Paper_idx: 1166, Zenodo id: 1178265\n"
     ]
    },
    {
     "name": "stderr",
     "output_type": "stream",
     "text": [
      "1178265.zip: 1.71MB [00:05, 325kB/s] \n"
     ]
    },
    {
     "name": "stdout",
     "output_type": "stream",
     "text": [
      "\n",
      "File successfully downloaded to: ./zenodo_dl/1178265.zip\n",
      "[info] File downloaded: ./zenodo_dl/1178265.zip\n",
      "\n",
      "[info] Paper_idx: 1167, Zenodo id: 1180567\n"
     ]
    },
    {
     "name": "stderr",
     "output_type": "stream",
     "text": [
      "1180567.zip: 21.1MB [00:08, 2.37MB/s]\n"
     ]
    },
    {
     "name": "stdout",
     "output_type": "stream",
     "text": [
      "\n",
      "File successfully downloaded to: ./zenodo_dl/1180567.zip\n",
      "[info] File downloaded: ./zenodo_dl/1180567.zip\n",
      "\n",
      "[info] Paper_idx: 1168, Zenodo id: 1178233\n"
     ]
    },
    {
     "name": "stderr",
     "output_type": "stream",
     "text": [
      "1178233.zip: 1.31MB [00:03, 333kB/s] \n"
     ]
    },
    {
     "name": "stdout",
     "output_type": "stream",
     "text": [
      "\n",
      "File successfully downloaded to: ./zenodo_dl/1178233.zip\n",
      "[info] File downloaded: ./zenodo_dl/1178233.zip\n",
      "\n",
      "[info] Paper_idx: 1169, Zenodo id: 1178251\n"
     ]
    },
    {
     "name": "stderr",
     "output_type": "stream",
     "text": [
      "1178251.zip: 761kB [00:02, 279kB/s]  \n"
     ]
    },
    {
     "name": "stdout",
     "output_type": "stream",
     "text": [
      "\n",
      "File successfully downloaded to: ./zenodo_dl/1178251.zip\n",
      "[info] File downloaded: ./zenodo_dl/1178251.zip\n",
      "\n",
      "[info] Paper_idx: 1170, Zenodo id: 1178457\n"
     ]
    },
    {
     "name": "stderr",
     "output_type": "stream",
     "text": [
      "1178457.zip: 379kB [00:01, 272kB/s]  \n"
     ]
    },
    {
     "name": "stdout",
     "output_type": "stream",
     "text": [
      "\n",
      "File successfully downloaded to: ./zenodo_dl/1178457.zip\n",
      "[info] File downloaded: ./zenodo_dl/1178457.zip\n",
      "\n",
      "[info] Paper_idx: 1171, Zenodo id: 1178317\n"
     ]
    },
    {
     "name": "stderr",
     "output_type": "stream",
     "text": [
      "1178317.zip: 303kB [00:01, 218kB/s]  \n"
     ]
    },
    {
     "name": "stdout",
     "output_type": "stream",
     "text": [
      "\n",
      "File successfully downloaded to: ./zenodo_dl/1178317.zip\n",
      "[info] File downloaded: ./zenodo_dl/1178317.zip\n",
      "\n",
      "[info] Paper_idx: 1172, Zenodo id: 1178315\n"
     ]
    },
    {
     "name": "stderr",
     "output_type": "stream",
     "text": [
      "1178315.zip: 14.7MB [00:41, 356kB/s] \n"
     ]
    },
    {
     "name": "stdout",
     "output_type": "stream",
     "text": [
      "\n",
      "File successfully downloaded to: ./zenodo_dl/1178315.zip\n",
      "[info] File downloaded: ./zenodo_dl/1178315.zip\n",
      "\n",
      "[info] Paper_idx: 1173, Zenodo id: 1180541\n"
     ]
    },
    {
     "name": "stderr",
     "output_type": "stream",
     "text": [
      "1180541.zip: 655kB [00:02, 294kB/s]  \n"
     ]
    },
    {
     "name": "stdout",
     "output_type": "stream",
     "text": [
      "\n",
      "File successfully downloaded to: ./zenodo_dl/1180541.zip\n",
      "[info] File downloaded: ./zenodo_dl/1180541.zip\n",
      "\n",
      "[info] Paper_idx: 1174, Zenodo id: 1180569\n"
     ]
    },
    {
     "name": "stderr",
     "output_type": "stream",
     "text": [
      "1180569.zip: 661kB [00:02, 265kB/s]  \n"
     ]
    },
    {
     "name": "stdout",
     "output_type": "stream",
     "text": [
      "\n",
      "File successfully downloaded to: ./zenodo_dl/1180569.zip\n",
      "[info] File downloaded: ./zenodo_dl/1180569.zip\n",
      "\n",
      "[info] Paper_idx: 1175, Zenodo id: 1178249\n"
     ]
    },
    {
     "name": "stderr",
     "output_type": "stream",
     "text": [
      "1178249.zip: 449kB [00:01, 268kB/s]  \n"
     ]
    },
    {
     "name": "stdout",
     "output_type": "stream",
     "text": [
      "\n",
      "File successfully downloaded to: ./zenodo_dl/1178249.zip\n",
      "[info] File downloaded: ./zenodo_dl/1178249.zip\n",
      "\n",
      "[info] Paper_idx: 1176, Zenodo id: 1178419\n"
     ]
    },
    {
     "name": "stderr",
     "output_type": "stream",
     "text": [
      "1178419.zip: 553kB [00:01, 285kB/s]  \n"
     ]
    },
    {
     "name": "stdout",
     "output_type": "stream",
     "text": [
      "\n",
      "File successfully downloaded to: ./zenodo_dl/1178419.zip\n",
      "[info] File downloaded: ./zenodo_dl/1178419.zip\n",
      "\n",
      "[info] Paper_idx: 1177, Zenodo id: 1178419\n"
     ]
    },
    {
     "name": "stderr",
     "output_type": "stream",
     "text": [
      "1178419.zip: 553kB [00:01, 282kB/s]  \n"
     ]
    },
    {
     "name": "stdout",
     "output_type": "stream",
     "text": [
      "\n",
      "File successfully downloaded to: ./zenodo_dl/1178419.zip\n",
      "[info] File downloaded: ./zenodo_dl/1178419.zip\n",
      "\n",
      "[info] Paper_idx: 1178, Zenodo id: 1178441\n"
     ]
    },
    {
     "name": "stderr",
     "output_type": "stream",
     "text": [
      "1178441.zip: 5.31MB [00:15, 348kB/s] \n"
     ]
    },
    {
     "name": "stdout",
     "output_type": "stream",
     "text": [
      "\n",
      "File successfully downloaded to: ./zenodo_dl/1178441.zip\n",
      "[info] File downloaded: ./zenodo_dl/1178441.zip\n",
      "\n",
      "[info] Paper_idx: 1179, Zenodo id: 1178205\n"
     ]
    },
    {
     "name": "stderr",
     "output_type": "stream",
     "text": [
      "1178205.zip: 689kB [00:02, 270kB/s]  \n"
     ]
    },
    {
     "name": "stdout",
     "output_type": "stream",
     "text": [
      "\n",
      "File successfully downloaded to: ./zenodo_dl/1178205.zip\n",
      "[info] File downloaded: ./zenodo_dl/1178205.zip\n",
      "\n",
      "[info] Paper_idx: 1180, Zenodo id: 1180563\n"
     ]
    },
    {
     "name": "stderr",
     "output_type": "stream",
     "text": [
      "1180563.zip: 568kB [00:01, 407kB/s]  \n"
     ]
    },
    {
     "name": "stdout",
     "output_type": "stream",
     "text": [
      "\n",
      "File successfully downloaded to: ./zenodo_dl/1180563.zip\n",
      "[info] File downloaded: ./zenodo_dl/1180563.zip\n",
      "\n",
      "[info] Paper_idx: 1181, Zenodo id: 1178423\n"
     ]
    },
    {
     "name": "stderr",
     "output_type": "stream",
     "text": [
      "1178423.zip: 845kB [00:02, 305kB/s]  \n"
     ]
    },
    {
     "name": "stdout",
     "output_type": "stream",
     "text": [
      "\n",
      "File successfully downloaded to: ./zenodo_dl/1178423.zip\n",
      "[info] File downloaded: ./zenodo_dl/1178423.zip\n",
      "\n",
      "[info] Paper_idx: 1182, Zenodo id: 1178293\n"
     ]
    },
    {
     "name": "stderr",
     "output_type": "stream",
     "text": [
      "1178293.zip: 1.04MB [00:03, 311kB/s] \n"
     ]
    },
    {
     "name": "stdout",
     "output_type": "stream",
     "text": [
      "\n",
      "File successfully downloaded to: ./zenodo_dl/1178293.zip\n",
      "[info] File downloaded: ./zenodo_dl/1178293.zip\n",
      "\n",
      "[info] Paper_idx: 1183, Zenodo id: 1178287\n"
     ]
    },
    {
     "name": "stderr",
     "output_type": "stream",
     "text": [
      "1178287.zip: 575kB [00:01, 411kB/s]  \n"
     ]
    },
    {
     "name": "stdout",
     "output_type": "stream",
     "text": [
      "\n",
      "File successfully downloaded to: ./zenodo_dl/1178287.zip\n",
      "[info] File downloaded: ./zenodo_dl/1178287.zip\n",
      "\n",
      "[info] Paper_idx: 1184, Zenodo id: 1178327\n"
     ]
    },
    {
     "name": "stderr",
     "output_type": "stream",
     "text": [
      "1178327.zip: 303kB [00:01, 272kB/s]  \n"
     ]
    },
    {
     "name": "stdout",
     "output_type": "stream",
     "text": [
      "\n",
      "File successfully downloaded to: ./zenodo_dl/1178327.zip\n",
      "[info] File downloaded: ./zenodo_dl/1178327.zip\n",
      "\n",
      "[info] Paper_idx: 1185, Zenodo id: 1178247\n"
     ]
    },
    {
     "name": "stderr",
     "output_type": "stream",
     "text": [
      "1178247.zip: 524kB [00:01, 380kB/s]  \n"
     ]
    },
    {
     "name": "stdout",
     "output_type": "stream",
     "text": [
      "\n",
      "File successfully downloaded to: ./zenodo_dl/1178247.zip\n",
      "[info] File downloaded: ./zenodo_dl/1178247.zip\n",
      "\n",
      "[info] Paper_idx: 1186, Zenodo id: 1178427\n"
     ]
    },
    {
     "name": "stderr",
     "output_type": "stream",
     "text": [
      "1178427.zip: 402kB [00:01, 358kB/s]  \n"
     ]
    },
    {
     "name": "stdout",
     "output_type": "stream",
     "text": [
      "\n",
      "File successfully downloaded to: ./zenodo_dl/1178427.zip\n",
      "[info] File downloaded: ./zenodo_dl/1178427.zip\n",
      "\n",
      "[info] Paper_idx: 1187, Zenodo id: 1178297\n"
     ]
    },
    {
     "name": "stderr",
     "output_type": "stream",
     "text": [
      "1178297.zip: 305kB [00:01, 219kB/s]  \n"
     ]
    },
    {
     "name": "stdout",
     "output_type": "stream",
     "text": [
      "\n",
      "File successfully downloaded to: ./zenodo_dl/1178297.zip\n",
      "[info] File downloaded: ./zenodo_dl/1178297.zip\n",
      "\n",
      "[info] Paper_idx: 1188, Zenodo id: 1178325\n"
     ]
    },
    {
     "name": "stderr",
     "output_type": "stream",
     "text": [
      "1178325.zip: 5.80MB [00:02, 2.60MB/s]\n"
     ]
    },
    {
     "name": "stdout",
     "output_type": "stream",
     "text": [
      "\n",
      "File successfully downloaded to: ./zenodo_dl/1178325.zip\n",
      "[info] File downloaded: ./zenodo_dl/1178325.zip\n",
      "\n",
      "[info] Paper_idx: 1189, Zenodo id: 1178329\n"
     ]
    },
    {
     "name": "stderr",
     "output_type": "stream",
     "text": [
      "1178329.zip: 399kB [00:01, 356kB/s]  \n"
     ]
    },
    {
     "name": "stdout",
     "output_type": "stream",
     "text": [
      "\n",
      "File successfully downloaded to: ./zenodo_dl/1178329.zip\n",
      "[info] File downloaded: ./zenodo_dl/1178329.zip\n",
      "\n",
      "[info] Paper_idx: 1190, Zenodo id: 1178299\n"
     ]
    },
    {
     "name": "stderr",
     "output_type": "stream",
     "text": [
      "1178299.zip: 1.36MB [00:01, 815kB/s] \n"
     ]
    },
    {
     "name": "stdout",
     "output_type": "stream",
     "text": [
      "\n",
      "File successfully downloaded to: ./zenodo_dl/1178299.zip\n",
      "[info] File downloaded: ./zenodo_dl/1178299.zip\n",
      "\n",
      "[info] Paper_idx: 1191, Zenodo id: 1178127\n"
     ]
    },
    {
     "name": "stderr",
     "output_type": "stream",
     "text": [
      "1178127.zip: 1.44MB [00:04, 306kB/s] \n"
     ]
    },
    {
     "name": "stdout",
     "output_type": "stream",
     "text": [
      "\n",
      "File successfully downloaded to: ./zenodo_dl/1178127.zip\n",
      "[info] File downloaded: ./zenodo_dl/1178127.zip\n",
      "\n",
      "[info] Paper_idx: 1192, Zenodo id: 1178115\n"
     ]
    },
    {
     "name": "stderr",
     "output_type": "stream",
     "text": [
      "1178115.zip: 3.66MB [00:02, 1.31MB/s]\n"
     ]
    },
    {
     "name": "stdout",
     "output_type": "stream",
     "text": [
      "\n",
      "File successfully downloaded to: ./zenodo_dl/1178115.zip\n",
      "[info] File downloaded: ./zenodo_dl/1178115.zip\n",
      "\n",
      "[info] Paper_idx: 1193, Zenodo id: 1178161\n"
     ]
    },
    {
     "name": "stderr",
     "output_type": "stream",
     "text": [
      "1178161.zip: 2.93MB [00:08, 342kB/s] \n"
     ]
    },
    {
     "name": "stdout",
     "output_type": "stream",
     "text": [
      "\n",
      "File successfully downloaded to: ./zenodo_dl/1178161.zip\n",
      "[info] File downloaded: ./zenodo_dl/1178161.zip\n",
      "\n",
      "[info] Paper_idx: 1194, Zenodo id: 1178131\n"
     ]
    },
    {
     "name": "stderr",
     "output_type": "stream",
     "text": [
      "1178131.zip: 8.78MB [00:23, 374kB/s] \n"
     ]
    },
    {
     "name": "stdout",
     "output_type": "stream",
     "text": [
      "\n",
      "File successfully downloaded to: ./zenodo_dl/1178131.zip\n",
      "[info] File downloaded: ./zenodo_dl/1178131.zip\n",
      "\n",
      "[info] Paper_idx: 1195, Zenodo id: 1180259\n"
     ]
    },
    {
     "name": "stderr",
     "output_type": "stream",
     "text": [
      "1180259.zip: 785kB [00:02, 282kB/s]  \n"
     ]
    },
    {
     "name": "stdout",
     "output_type": "stream",
     "text": [
      "\n",
      "File successfully downloaded to: ./zenodo_dl/1180259.zip\n",
      "[info] File downloaded: ./zenodo_dl/1180259.zip\n",
      "\n",
      "[info] Paper_idx: 1196, Zenodo id: 1178167\n"
     ]
    },
    {
     "name": "stderr",
     "output_type": "stream",
     "text": [
      "1178167.zip: 2.46MB [00:07, 342kB/s] \n"
     ]
    },
    {
     "name": "stdout",
     "output_type": "stream",
     "text": [
      "\n",
      "File successfully downloaded to: ./zenodo_dl/1178167.zip\n",
      "[info] File downloaded: ./zenodo_dl/1178167.zip\n",
      "\n",
      "[info] Paper_idx: 1197, Zenodo id: 1178071\n"
     ]
    },
    {
     "name": "stderr",
     "output_type": "stream",
     "text": [
      "1178071.zip: 2.14MB [00:06, 350kB/s] \n"
     ]
    },
    {
     "name": "stdout",
     "output_type": "stream",
     "text": [
      "\n",
      "File successfully downloaded to: ./zenodo_dl/1178071.zip\n",
      "[info] File downloaded: ./zenodo_dl/1178071.zip\n",
      "\n",
      "[info] Paper_idx: 1198, Zenodo id: 1178033\n"
     ]
    },
    {
     "name": "stderr",
     "output_type": "stream",
     "text": [
      "1178033.zip: 821kB [00:01, 562kB/s]  \n"
     ]
    },
    {
     "name": "stdout",
     "output_type": "stream",
     "text": [
      "\n",
      "File successfully downloaded to: ./zenodo_dl/1178033.zip\n",
      "[info] File downloaded: ./zenodo_dl/1178033.zip\n",
      "\n",
      "[info] Paper_idx: 1199, Zenodo id: 1177967\n"
     ]
    },
    {
     "name": "stderr",
     "output_type": "stream",
     "text": [
      "1177967.zip: 1.61MB [00:05, 323kB/s] \n"
     ]
    },
    {
     "name": "stdout",
     "output_type": "stream",
     "text": [
      "\n",
      "File successfully downloaded to: ./zenodo_dl/1177967.zip\n",
      "[info] File downloaded: ./zenodo_dl/1177967.zip\n",
      "\n",
      "[info] Paper_idx: 1200, Zenodo id: 1177961\n"
     ]
    },
    {
     "name": "stderr",
     "output_type": "stream",
     "text": [
      "1177961.zip: 1.68MB [00:01, 994kB/s] \n"
     ]
    },
    {
     "name": "stdout",
     "output_type": "stream",
     "text": [
      "\n",
      "File successfully downloaded to: ./zenodo_dl/1177961.zip\n",
      "[info] File downloaded: ./zenodo_dl/1177961.zip\n",
      "\n",
      "[info] Paper_idx: 1201, Zenodo id: 1178037\n"
     ]
    },
    {
     "name": "stderr",
     "output_type": "stream",
     "text": [
      "1178037.zip: 944kB [00:01, 676kB/s]  \n"
     ]
    },
    {
     "name": "stdout",
     "output_type": "stream",
     "text": [
      "\n",
      "File successfully downloaded to: ./zenodo_dl/1178037.zip\n",
      "[info] File downloaded: ./zenodo_dl/1178037.zip\n",
      "\n",
      "[info] Paper_idx: 1202, Zenodo id: 1177945\n"
     ]
    },
    {
     "name": "stderr",
     "output_type": "stream",
     "text": [
      "1177945.zip: 3.64MB [00:10, 346kB/s] \n"
     ]
    },
    {
     "name": "stdout",
     "output_type": "stream",
     "text": [
      "\n",
      "File successfully downloaded to: ./zenodo_dl/1177945.zip\n",
      "[info] File downloaded: ./zenodo_dl/1177945.zip\n",
      "\n",
      "[info] Paper_idx: 1203, Zenodo id: 1178119\n"
     ]
    },
    {
     "name": "stderr",
     "output_type": "stream",
     "text": [
      "1178119.zip: 4.40MB [00:13, 338kB/s] \n"
     ]
    },
    {
     "name": "stdout",
     "output_type": "stream",
     "text": [
      "\n",
      "File successfully downloaded to: ./zenodo_dl/1178119.zip\n",
      "[info] File downloaded: ./zenodo_dl/1178119.zip\n",
      "\n",
      "[info] Paper_idx: 1204, Zenodo id: 1178065\n"
     ]
    },
    {
     "name": "stderr",
     "output_type": "stream",
     "text": [
      "1178065.zip: 2.49MB [00:11, 224kB/s] \n"
     ]
    },
    {
     "name": "stdout",
     "output_type": "stream",
     "text": [
      "\n",
      "File successfully downloaded to: ./zenodo_dl/1178065.zip\n",
      "[info] File downloaded: ./zenodo_dl/1178065.zip\n",
      "\n",
      "[info] Paper_idx: 1205, Zenodo id: 1178137\n"
     ]
    },
    {
     "name": "stderr",
     "output_type": "stream",
     "text": [
      "1178137.zip: 749kB [00:01, 538kB/s]  \n"
     ]
    },
    {
     "name": "stdout",
     "output_type": "stream",
     "text": [
      "\n",
      "File successfully downloaded to: ./zenodo_dl/1178137.zip\n",
      "[info] File downloaded: ./zenodo_dl/1178137.zip\n",
      "\n",
      "[info] Paper_idx: 1206, Zenodo id: 1178049\n"
     ]
    },
    {
     "name": "stderr",
     "output_type": "stream",
     "text": [
      "1178049.zip: 830kB [00:01, 592kB/s]  \n"
     ]
    },
    {
     "name": "stdout",
     "output_type": "stream",
     "text": [
      "\n",
      "File successfully downloaded to: ./zenodo_dl/1178049.zip\n",
      "[info] File downloaded: ./zenodo_dl/1178049.zip\n",
      "\n",
      "[info] Paper_idx: 1207, Zenodo id: 1178043\n"
     ]
    },
    {
     "name": "stderr",
     "output_type": "stream",
     "text": [
      "1178043.zip: 3.38MB [00:01, 1.73MB/s]\n"
     ]
    },
    {
     "name": "stdout",
     "output_type": "stream",
     "text": [
      "\n",
      "File successfully downloaded to: ./zenodo_dl/1178043.zip\n",
      "[info] File downloaded: ./zenodo_dl/1178043.zip\n",
      "\n",
      "[info] Paper_idx: 1208, Zenodo id: 1177941\n"
     ]
    },
    {
     "name": "stderr",
     "output_type": "stream",
     "text": [
      "1177941.zip: 2.07MB [00:01, 1.09MB/s]\n"
     ]
    },
    {
     "name": "stdout",
     "output_type": "stream",
     "text": [
      "\n",
      "File successfully downloaded to: ./zenodo_dl/1177941.zip\n",
      "[info] File downloaded: ./zenodo_dl/1177941.zip\n",
      "\n",
      "[info] Paper_idx: 1209, Zenodo id: 1178105\n"
     ]
    },
    {
     "name": "stderr",
     "output_type": "stream",
     "text": [
      "1178105.zip: 1.26MB [00:01, 755kB/s] \n"
     ]
    },
    {
     "name": "stdout",
     "output_type": "stream",
     "text": [
      "\n",
      "File successfully downloaded to: ./zenodo_dl/1178105.zip\n",
      "[info] File downloaded: ./zenodo_dl/1178105.zip\n",
      "\n",
      "[info] Paper_idx: 1210, Zenodo id: 1178133\n"
     ]
    },
    {
     "name": "stderr",
     "output_type": "stream",
     "text": [
      "1178133.zip: 1.40MB [00:01, 835kB/s] \n"
     ]
    },
    {
     "name": "stdout",
     "output_type": "stream",
     "text": [
      "\n",
      "File successfully downloaded to: ./zenodo_dl/1178133.zip\n",
      "[info] File downloaded: ./zenodo_dl/1178133.zip\n",
      "\n",
      "[info] Paper_idx: 1211, Zenodo id: 1178163\n"
     ]
    },
    {
     "name": "stderr",
     "output_type": "stream",
     "text": [
      "1178163.zip: 988kB [00:03, 272kB/s]  \n"
     ]
    },
    {
     "name": "stdout",
     "output_type": "stream",
     "text": [
      "\n",
      "File successfully downloaded to: ./zenodo_dl/1178163.zip\n",
      "[info] File downloaded: ./zenodo_dl/1178163.zip\n",
      "\n",
      "[info] Paper_idx: 1212, Zenodo id: 1178035\n"
     ]
    },
    {
     "name": "stderr",
     "output_type": "stream",
     "text": [
      "1178035.zip: 961kB [00:03, 289kB/s]  \n"
     ]
    },
    {
     "name": "stdout",
     "output_type": "stream",
     "text": [
      "\n",
      "File successfully downloaded to: ./zenodo_dl/1178035.zip\n",
      "[info] File downloaded: ./zenodo_dl/1178035.zip\n",
      "\n",
      "[info] Paper_idx: 1213, Zenodo id: 1178069\n"
     ]
    },
    {
     "name": "stderr",
     "output_type": "stream",
     "text": [
      "1178069.zip: 930kB [00:01, 662kB/s]  \n"
     ]
    },
    {
     "name": "stdout",
     "output_type": "stream",
     "text": [
      "\n",
      "File successfully downloaded to: ./zenodo_dl/1178069.zip\n",
      "[info] File downloaded: ./zenodo_dl/1178069.zip\n",
      "\n",
      "[info] Paper_idx: 1214, Zenodo id: 1177983\n"
     ]
    },
    {
     "name": "stderr",
     "output_type": "stream",
     "text": [
      "1177983.zip: 2.23MB [00:01, 1.18MB/s]\n"
     ]
    },
    {
     "name": "stdout",
     "output_type": "stream",
     "text": [
      "\n",
      "File successfully downloaded to: ./zenodo_dl/1177983.zip\n",
      "[info] File downloaded: ./zenodo_dl/1177983.zip\n",
      "\n",
      "[info] Paper_idx: 1215, Zenodo id: 1177993\n"
     ]
    },
    {
     "name": "stderr",
     "output_type": "stream",
     "text": [
      "1177993.zip: 1.06MB [00:01, 650kB/s] \n"
     ]
    },
    {
     "name": "stdout",
     "output_type": "stream",
     "text": [
      "\n",
      "File successfully downloaded to: ./zenodo_dl/1177993.zip\n",
      "[info] File downloaded: ./zenodo_dl/1177993.zip\n",
      "\n",
      "[info] Paper_idx: 1216, Zenodo id: 1178169\n"
     ]
    },
    {
     "name": "stderr",
     "output_type": "stream",
     "text": [
      "1178169.zip: 703kB [00:02, 276kB/s]  \n"
     ]
    },
    {
     "name": "stdout",
     "output_type": "stream",
     "text": [
      "\n",
      "File successfully downloaded to: ./zenodo_dl/1178169.zip\n",
      "[info] File downloaded: ./zenodo_dl/1178169.zip\n",
      "\n",
      "[info] Paper_idx: 1217, Zenodo id: 1177939\n"
     ]
    },
    {
     "name": "stderr",
     "output_type": "stream",
     "text": [
      "1177939.zip: 1.38MB [00:03, 353kB/s] \n"
     ]
    },
    {
     "name": "stdout",
     "output_type": "stream",
     "text": [
      "\n",
      "File successfully downloaded to: ./zenodo_dl/1177939.zip\n",
      "[info] File downloaded: ./zenodo_dl/1177939.zip\n",
      "\n",
      "[info] Paper_idx: 1218, Zenodo id: 1178005\n"
     ]
    },
    {
     "name": "stderr",
     "output_type": "stream",
     "text": [
      "1178005.zip: 1.36MB [00:01, 815kB/s] \n"
     ]
    },
    {
     "name": "stdout",
     "output_type": "stream",
     "text": [
      "\n",
      "File successfully downloaded to: ./zenodo_dl/1178005.zip\n",
      "[info] File downloaded: ./zenodo_dl/1178005.zip\n",
      "\n",
      "[info] Paper_idx: 1219, Zenodo id: 1178157\n"
     ]
    },
    {
     "name": "stderr",
     "output_type": "stream",
     "text": [
      "1178157.zip: 1.08MB [00:03, 325kB/s] \n"
     ]
    },
    {
     "name": "stdout",
     "output_type": "stream",
     "text": [
      "\n",
      "File successfully downloaded to: ./zenodo_dl/1178157.zip\n",
      "[info] File downloaded: ./zenodo_dl/1178157.zip\n",
      "\n",
      "[info] Paper_idx: 1220, Zenodo id: 1178025\n"
     ]
    },
    {
     "name": "stderr",
     "output_type": "stream",
     "text": [
      "1178025.zip: 1.14MB [00:01, 684kB/s] \n"
     ]
    },
    {
     "name": "stdout",
     "output_type": "stream",
     "text": [
      "\n",
      "File successfully downloaded to: ./zenodo_dl/1178025.zip\n",
      "[info] File downloaded: ./zenodo_dl/1178025.zip\n",
      "\n",
      "[info] Paper_idx: 1221, Zenodo id: 1178017\n"
     ]
    },
    {
     "name": "stderr",
     "output_type": "stream",
     "text": [
      "1178017.zip: 2.66MB [00:02, 1.19MB/s]\n"
     ]
    },
    {
     "name": "stdout",
     "output_type": "stream",
     "text": [
      "\n",
      "File successfully downloaded to: ./zenodo_dl/1178017.zip\n",
      "[info] File downloaded: ./zenodo_dl/1178017.zip\n",
      "\n",
      "[info] Paper_idx: 1222, Zenodo id: 1177933\n"
     ]
    },
    {
     "name": "stderr",
     "output_type": "stream",
     "text": [
      "1177933.zip: 1.89MB [00:05, 358kB/s] \n"
     ]
    },
    {
     "name": "stdout",
     "output_type": "stream",
     "text": [
      "\n",
      "File successfully downloaded to: ./zenodo_dl/1177933.zip\n",
      "[info] File downloaded: ./zenodo_dl/1177933.zip\n",
      "\n",
      "[info] Paper_idx: 1223, Zenodo id: 1178079\n"
     ]
    },
    {
     "name": "stderr",
     "output_type": "stream",
     "text": [
      "1178079.zip: 738kB [00:01, 530kB/s]  \n"
     ]
    },
    {
     "name": "stdout",
     "output_type": "stream",
     "text": [
      "\n",
      "File successfully downloaded to: ./zenodo_dl/1178079.zip\n",
      "[info] File downloaded: ./zenodo_dl/1178079.zip\n",
      "\n",
      "[info] Paper_idx: 1224, Zenodo id: 1177981\n"
     ]
    },
    {
     "name": "stderr",
     "output_type": "stream",
     "text": [
      "1177981.zip: 1.32MB [00:04, 296kB/s] \n"
     ]
    },
    {
     "name": "stdout",
     "output_type": "stream",
     "text": [
      "\n",
      "File successfully downloaded to: ./zenodo_dl/1177981.zip\n",
      "[info] File downloaded: ./zenodo_dl/1177981.zip\n",
      "\n",
      "[info] Paper_idx: 1225, Zenodo id: 1178075\n"
     ]
    },
    {
     "name": "stderr",
     "output_type": "stream",
     "text": [
      "1178075.zip: 1.54MB [00:01, 913kB/s] \n"
     ]
    },
    {
     "name": "stdout",
     "output_type": "stream",
     "text": [
      "\n",
      "File successfully downloaded to: ./zenodo_dl/1178075.zip\n",
      "[info] File downloaded: ./zenodo_dl/1178075.zip\n",
      "\n",
      "[info] Paper_idx: 1226, Zenodo id: 1178103\n"
     ]
    },
    {
     "name": "stderr",
     "output_type": "stream",
     "text": [
      "1178103.zip: 1.54MB [00:04, 328kB/s] \n"
     ]
    },
    {
     "name": "stdout",
     "output_type": "stream",
     "text": [
      "\n",
      "File successfully downloaded to: ./zenodo_dl/1178103.zip\n",
      "[info] File downloaded: ./zenodo_dl/1178103.zip\n",
      "\n",
      "[info] Paper_idx: 1227, Zenodo id: 1177979\n"
     ]
    },
    {
     "name": "stderr",
     "output_type": "stream",
     "text": [
      "1177979.zip: 1.09MB [00:03, 280kB/s] \n"
     ]
    },
    {
     "name": "stdout",
     "output_type": "stream",
     "text": [
      "\n",
      "File successfully downloaded to: ./zenodo_dl/1177979.zip\n",
      "[info] File downloaded: ./zenodo_dl/1177979.zip\n",
      "\n",
      "[info] Paper_idx: 1228, Zenodo id: 1178107\n"
     ]
    },
    {
     "name": "stderr",
     "output_type": "stream",
     "text": [
      "1178107.zip: 2.18MB [00:06, 343kB/s] \n"
     ]
    },
    {
     "name": "stdout",
     "output_type": "stream",
     "text": [
      "\n",
      "File successfully downloaded to: ./zenodo_dl/1178107.zip\n",
      "[info] File downloaded: ./zenodo_dl/1178107.zip\n",
      "\n",
      "[info] Paper_idx: 1229, Zenodo id: 1178121\n"
     ]
    },
    {
     "name": "stderr",
     "output_type": "stream",
     "text": [
      "1178121.zip: 2.71MB [00:08, 337kB/s] \n"
     ]
    },
    {
     "name": "stdout",
     "output_type": "stream",
     "text": [
      "\n",
      "File successfully downloaded to: ./zenodo_dl/1178121.zip\n",
      "[info] File downloaded: ./zenodo_dl/1178121.zip\n",
      "\n",
      "[info] Paper_idx: 1230, Zenodo id: 1178159\n"
     ]
    },
    {
     "name": "stderr",
     "output_type": "stream",
     "text": [
      "1178159.zip: 1.90MB [00:05, 341kB/s] \n"
     ]
    },
    {
     "name": "stdout",
     "output_type": "stream",
     "text": [
      "\n",
      "File successfully downloaded to: ./zenodo_dl/1178159.zip\n",
      "[info] File downloaded: ./zenodo_dl/1178159.zip\n",
      "\n",
      "[info] Paper_idx: 1231, Zenodo id: 1178091\n"
     ]
    },
    {
     "name": "stderr",
     "output_type": "stream",
     "text": [
      "1178091.zip: 972kB [00:03, 292kB/s]  \n"
     ]
    },
    {
     "name": "stdout",
     "output_type": "stream",
     "text": [
      "\n",
      "File successfully downloaded to: ./zenodo_dl/1178091.zip\n",
      "[info] File downloaded: ./zenodo_dl/1178091.zip\n",
      "\n",
      "[info] Paper_idx: 1232, Zenodo id: 1177957\n"
     ]
    },
    {
     "name": "stderr",
     "output_type": "stream",
     "text": [
      "1177957.zip: 1.77MB [00:05, 336kB/s] \n"
     ]
    },
    {
     "name": "stdout",
     "output_type": "stream",
     "text": [
      "\n",
      "File successfully downloaded to: ./zenodo_dl/1177957.zip\n",
      "[info] File downloaded: ./zenodo_dl/1177957.zip\n",
      "\n",
      "[info] Paper_idx: 1233, Zenodo id: 1177971\n"
     ]
    },
    {
     "name": "stderr",
     "output_type": "stream",
     "text": [
      "1177971.zip: 3.68MB [00:10, 346kB/s] \n"
     ]
    },
    {
     "name": "stdout",
     "output_type": "stream",
     "text": [
      "\n",
      "File successfully downloaded to: ./zenodo_dl/1177971.zip\n",
      "[info] File downloaded: ./zenodo_dl/1177971.zip\n",
      "\n",
      "[info] Paper_idx: 1234, Zenodo id: 1178077\n"
     ]
    },
    {
     "name": "stderr",
     "output_type": "stream",
     "text": [
      "1178077.zip: 1.69MB [00:01, 1.01MB/s]\n"
     ]
    },
    {
     "name": "stdout",
     "output_type": "stream",
     "text": [
      "\n",
      "File successfully downloaded to: ./zenodo_dl/1178077.zip\n",
      "[info] File downloaded: ./zenodo_dl/1178077.zip\n",
      "\n",
      "[info] Paper_idx: 1235, Zenodo id: 1178061\n"
     ]
    },
    {
     "name": "stderr",
     "output_type": "stream",
     "text": [
      "1178061.zip: 3.87MB [00:11, 350kB/s] \n"
     ]
    },
    {
     "name": "stdout",
     "output_type": "stream",
     "text": [
      "\n",
      "File successfully downloaded to: ./zenodo_dl/1178061.zip\n",
      "[info] File downloaded: ./zenodo_dl/1178061.zip\n",
      "\n",
      "[info] Paper_idx: 1236, Zenodo id: 1178187\n"
     ]
    },
    {
     "name": "stderr",
     "output_type": "stream",
     "text": [
      "1178187.zip: 2.02MB [00:02, 930kB/s] \n"
     ]
    },
    {
     "name": "stdout",
     "output_type": "stream",
     "text": [
      "\n",
      "File successfully downloaded to: ./zenodo_dl/1178187.zip\n",
      "[info] File downloaded: ./zenodo_dl/1178187.zip\n",
      "\n",
      "[info] Paper_idx: 1237, Zenodo id: 1178073\n"
     ]
    },
    {
     "name": "stderr",
     "output_type": "stream",
     "text": [
      "1178073.zip: 1.98MB [00:06, 325kB/s] \n"
     ]
    },
    {
     "name": "stdout",
     "output_type": "stream",
     "text": [
      "\n",
      "File successfully downloaded to: ./zenodo_dl/1178073.zip\n",
      "[info] File downloaded: ./zenodo_dl/1178073.zip\n",
      "\n",
      "[info] Paper_idx: 1238, Zenodo id: 1177951\n"
     ]
    },
    {
     "name": "stderr",
     "output_type": "stream",
     "text": [
      "1177951.zip: 1.60MB [00:01, 960kB/s] \n"
     ]
    },
    {
     "name": "stdout",
     "output_type": "stream",
     "text": [
      "\n",
      "File successfully downloaded to: ./zenodo_dl/1177951.zip\n",
      "[info] File downloaded: ./zenodo_dl/1177951.zip\n",
      "\n",
      "[info] Paper_idx: 1239, Zenodo id: 1177997\n"
     ]
    },
    {
     "name": "stderr",
     "output_type": "stream",
     "text": [
      "1177997.zip: 876kB [00:01, 513kB/s]  \n"
     ]
    },
    {
     "name": "stdout",
     "output_type": "stream",
     "text": [
      "\n",
      "File successfully downloaded to: ./zenodo_dl/1177997.zip\n",
      "[info] File downloaded: ./zenodo_dl/1177997.zip\n",
      "\n",
      "[info] Paper_idx: 1240, Zenodo id: 1178067\n"
     ]
    },
    {
     "name": "stderr",
     "output_type": "stream",
     "text": [
      "1178067.zip: 1.51MB [00:04, 342kB/s] \n"
     ]
    },
    {
     "name": "stdout",
     "output_type": "stream",
     "text": [
      "\n",
      "File successfully downloaded to: ./zenodo_dl/1178067.zip\n",
      "[info] File downloaded: ./zenodo_dl/1178067.zip\n",
      "\n",
      "[info] Paper_idx: 1241, Zenodo id: 1178039\n"
     ]
    },
    {
     "name": "stderr",
     "output_type": "stream",
     "text": [
      "1178039.zip: 776kB [00:02, 306kB/s]  \n"
     ]
    },
    {
     "name": "stdout",
     "output_type": "stream",
     "text": [
      "\n",
      "File successfully downloaded to: ./zenodo_dl/1178039.zip\n",
      "[info] File downloaded: ./zenodo_dl/1178039.zip\n",
      "\n",
      "[info] Paper_idx: 1242, Zenodo id: 1178141\n"
     ]
    },
    {
     "name": "stderr",
     "output_type": "stream",
     "text": [
      "1178141.zip: 6.54MB [00:02, 2.35MB/s]\n"
     ]
    },
    {
     "name": "stdout",
     "output_type": "stream",
     "text": [
      "\n",
      "File successfully downloaded to: ./zenodo_dl/1178141.zip\n",
      "[info] File downloaded: ./zenodo_dl/1178141.zip\n",
      "\n",
      "[info] Paper_idx: 1243, Zenodo id: 1178059\n"
     ]
    },
    {
     "name": "stderr",
     "output_type": "stream",
     "text": [
      "1178059.zip: 3.30MB [00:01, 1.69MB/s]\n"
     ]
    },
    {
     "name": "stdout",
     "output_type": "stream",
     "text": [
      "\n",
      "File successfully downloaded to: ./zenodo_dl/1178059.zip\n",
      "[info] File downloaded: ./zenodo_dl/1178059.zip\n",
      "\n",
      "[info] Paper_idx: 1244, Zenodo id: 1177949\n"
     ]
    },
    {
     "name": "stderr",
     "output_type": "stream",
     "text": [
      "1177949.zip: 840kB [00:02, 298kB/s]  \n"
     ]
    },
    {
     "name": "stdout",
     "output_type": "stream",
     "text": [
      "\n",
      "File successfully downloaded to: ./zenodo_dl/1177949.zip\n",
      "[info] File downloaded: ./zenodo_dl/1177949.zip\n",
      "\n",
      "[info] Paper_idx: 1245, Zenodo id: 1177989\n"
     ]
    },
    {
     "name": "stderr",
     "output_type": "stream",
     "text": [
      "1177989.zip: 1.98MB [00:01, 1.18MB/s]\n"
     ]
    },
    {
     "name": "stdout",
     "output_type": "stream",
     "text": [
      "\n",
      "File successfully downloaded to: ./zenodo_dl/1177989.zip\n",
      "[info] File downloaded: ./zenodo_dl/1177989.zip\n",
      "\n",
      "[info] Paper_idx: 1246, Zenodo id: 1178045\n"
     ]
    },
    {
     "name": "stderr",
     "output_type": "stream",
     "text": [
      "1178045.zip: 1.12MB [00:03, 288kB/s] \n"
     ]
    },
    {
     "name": "stdout",
     "output_type": "stream",
     "text": [
      "\n",
      "File successfully downloaded to: ./zenodo_dl/1178045.zip\n",
      "[info] File downloaded: ./zenodo_dl/1178045.zip\n",
      "\n",
      "[info] Paper_idx: 1247, Zenodo id: 1178109\n"
     ]
    },
    {
     "name": "stderr",
     "output_type": "stream",
     "text": [
      "1178109.zip: 2.61MB [00:08, 321kB/s] \n"
     ]
    },
    {
     "name": "stdout",
     "output_type": "stream",
     "text": [
      "\n",
      "File successfully downloaded to: ./zenodo_dl/1178109.zip\n",
      "[info] File downloaded: ./zenodo_dl/1178109.zip\n",
      "\n",
      "[info] Paper_idx: 1248, Zenodo id: 1178185\n"
     ]
    },
    {
     "name": "stderr",
     "output_type": "stream",
     "text": [
      "1178185.zip: 1.30MB [00:01, 781kB/s] \n"
     ]
    },
    {
     "name": "stdout",
     "output_type": "stream",
     "text": [
      "\n",
      "File successfully downloaded to: ./zenodo_dl/1178185.zip\n",
      "[info] File downloaded: ./zenodo_dl/1178185.zip\n",
      "\n",
      "[info] Paper_idx: 1249, Zenodo id: 1177987\n"
     ]
    },
    {
     "name": "stderr",
     "output_type": "stream",
     "text": [
      "1177987.zip: 1.06MB [00:03, 293kB/s] \n"
     ]
    },
    {
     "name": "stdout",
     "output_type": "stream",
     "text": [
      "\n",
      "File successfully downloaded to: ./zenodo_dl/1177987.zip\n",
      "[info] File downloaded: ./zenodo_dl/1177987.zip\n",
      "\n",
      "[info] Paper_idx: 1250, Zenodo id: 1178155\n"
     ]
    },
    {
     "name": "stderr",
     "output_type": "stream",
     "text": [
      "1178155.zip: 2.73MB [00:01, 1.40MB/s]\n"
     ]
    },
    {
     "name": "stdout",
     "output_type": "stream",
     "text": [
      "\n",
      "File successfully downloaded to: ./zenodo_dl/1178155.zip\n",
      "[info] File downloaded: ./zenodo_dl/1178155.zip\n",
      "\n",
      "[info] Paper_idx: 1251, Zenodo id: 1177965\n"
     ]
    },
    {
     "name": "stderr",
     "output_type": "stream",
     "text": [
      "1177965.zip: 5.12MB [00:14, 350kB/s] \n"
     ]
    },
    {
     "name": "stdout",
     "output_type": "stream",
     "text": [
      "\n",
      "File successfully downloaded to: ./zenodo_dl/1177965.zip\n",
      "[info] File downloaded: ./zenodo_dl/1177965.zip\n",
      "\n",
      "[info] Paper_idx: 1252, Zenodo id: 1178173\n"
     ]
    },
    {
     "name": "stderr",
     "output_type": "stream",
     "text": [
      "1178173.zip: 879kB [00:01, 442kB/s]  \n"
     ]
    },
    {
     "name": "stdout",
     "output_type": "stream",
     "text": [
      "\n",
      "File successfully downloaded to: ./zenodo_dl/1178173.zip\n",
      "[info] File downloaded: ./zenodo_dl/1178173.zip\n",
      "\n",
      "[info] Paper_idx: 1253, Zenodo id: 1178175\n"
     ]
    },
    {
     "name": "stderr",
     "output_type": "stream",
     "text": [
      "1178175.zip: 649kB [00:01, 464kB/s]  \n"
     ]
    },
    {
     "name": "stdout",
     "output_type": "stream",
     "text": [
      "\n",
      "File successfully downloaded to: ./zenodo_dl/1178175.zip\n",
      "[info] File downloaded: ./zenodo_dl/1178175.zip\n",
      "\n",
      "[info] Paper_idx: 1254, Zenodo id: 1177991\n"
     ]
    },
    {
     "name": "stderr",
     "output_type": "stream",
     "text": [
      "1177991.zip: 1.91MB [00:01, 1.01MB/s]\n"
     ]
    },
    {
     "name": "stdout",
     "output_type": "stream",
     "text": [
      "\n",
      "File successfully downloaded to: ./zenodo_dl/1177991.zip\n",
      "[info] File downloaded: ./zenodo_dl/1177991.zip\n",
      "\n",
      "[info] Paper_idx: 1255, Zenodo id: 1178021\n"
     ]
    },
    {
     "name": "stderr",
     "output_type": "stream",
     "text": [
      "1178021.zip: 808kB [00:01, 580kB/s]  \n"
     ]
    },
    {
     "name": "stdout",
     "output_type": "stream",
     "text": [
      "\n",
      "File successfully downloaded to: ./zenodo_dl/1178021.zip\n",
      "[info] File downloaded: ./zenodo_dl/1178021.zip\n",
      "\n",
      "[info] Paper_idx: 1256, Zenodo id: 1178053\n"
     ]
    },
    {
     "name": "stderr",
     "output_type": "stream",
     "text": [
      "1178053.zip: 640kB [00:01, 453kB/s]  \n"
     ]
    },
    {
     "name": "stdout",
     "output_type": "stream",
     "text": [
      "\n",
      "File successfully downloaded to: ./zenodo_dl/1178053.zip\n",
      "[info] File downloaded: ./zenodo_dl/1178053.zip\n",
      "\n",
      "[info] Paper_idx: 1257, Zenodo id: 1178139\n"
     ]
    },
    {
     "name": "stderr",
     "output_type": "stream",
     "text": [
      "1178139.zip: 870kB [00:01, 625kB/s]  \n"
     ]
    },
    {
     "name": "stdout",
     "output_type": "stream",
     "text": [
      "\n",
      "File successfully downloaded to: ./zenodo_dl/1178139.zip\n",
      "[info] File downloaded: ./zenodo_dl/1178139.zip\n",
      "\n",
      "[info] Paper_idx: 1258, Zenodo id: 1178113\n"
     ]
    },
    {
     "name": "stderr",
     "output_type": "stream",
     "text": [
      "1178113.zip: 961kB [00:01, 561kB/s]  \n"
     ]
    },
    {
     "name": "stdout",
     "output_type": "stream",
     "text": [
      "\n",
      "File successfully downloaded to: ./zenodo_dl/1178113.zip\n",
      "[info] File downloaded: ./zenodo_dl/1178113.zip\n",
      "\n",
      "[info] Paper_idx: 1259, Zenodo id: 1178149\n"
     ]
    },
    {
     "name": "stderr",
     "output_type": "stream",
     "text": [
      "1178149.zip: 2.28MB [00:01, 1.21MB/s]\n"
     ]
    },
    {
     "name": "stdout",
     "output_type": "stream",
     "text": [
      "\n",
      "File successfully downloaded to: ./zenodo_dl/1178149.zip\n",
      "[info] File downloaded: ./zenodo_dl/1178149.zip\n",
      "\n",
      "[info] Paper_idx: 1260, Zenodo id: 1178089\n"
     ]
    },
    {
     "name": "stderr",
     "output_type": "stream",
     "text": [
      "1178089.zip: 1.51MB [00:05, 302kB/s] \n"
     ]
    },
    {
     "name": "stdout",
     "output_type": "stream",
     "text": [
      "\n",
      "File successfully downloaded to: ./zenodo_dl/1178089.zip\n",
      "[info] File downloaded: ./zenodo_dl/1178089.zip\n",
      "\n",
      "[info] Paper_idx: 1261, Zenodo id: 1178165\n"
     ]
    },
    {
     "name": "stderr",
     "output_type": "stream",
     "text": [
      "1178165.zip: 789kB [00:01, 559kB/s]  \n"
     ]
    },
    {
     "name": "stdout",
     "output_type": "stream",
     "text": [
      "\n",
      "File successfully downloaded to: ./zenodo_dl/1178165.zip\n",
      "[info] File downloaded: ./zenodo_dl/1178165.zip\n",
      "\n",
      "[info] Paper_idx: 1262, Zenodo id: 1178191\n"
     ]
    },
    {
     "name": "stderr",
     "output_type": "stream",
     "text": [
      "1178191.zip: 934kB [00:02, 331kB/s]  \n"
     ]
    },
    {
     "name": "stdout",
     "output_type": "stream",
     "text": [
      "\n",
      "File successfully downloaded to: ./zenodo_dl/1178191.zip\n",
      "[info] File downloaded: ./zenodo_dl/1178191.zip\n",
      "\n",
      "[info] Paper_idx: 1263, Zenodo id: 1178015\n"
     ]
    },
    {
     "name": "stderr",
     "output_type": "stream",
     "text": [
      "1178015.zip: 815kB [00:01, 583kB/s]  \n"
     ]
    },
    {
     "name": "stdout",
     "output_type": "stream",
     "text": [
      "\n",
      "File successfully downloaded to: ./zenodo_dl/1178015.zip\n",
      "[info] File downloaded: ./zenodo_dl/1178015.zip\n",
      "\n",
      "[info] Paper_idx: 1264, Zenodo id: 1178125\n"
     ]
    },
    {
     "name": "stderr",
     "output_type": "stream",
     "text": [
      "1178125.zip: 1.26MB [00:03, 350kB/s] \n"
     ]
    },
    {
     "name": "stdout",
     "output_type": "stream",
     "text": [
      "\n",
      "File successfully downloaded to: ./zenodo_dl/1178125.zip\n",
      "[info] File downloaded: ./zenodo_dl/1178125.zip\n",
      "\n",
      "[info] Paper_idx: 1265, Zenodo id: 1177969\n"
     ]
    },
    {
     "name": "stderr",
     "output_type": "stream",
     "text": [
      "1177969.zip: 891kB [00:02, 320kB/s]  \n"
     ]
    },
    {
     "name": "stdout",
     "output_type": "stream",
     "text": [
      "\n",
      "File successfully downloaded to: ./zenodo_dl/1177969.zip\n",
      "[info] File downloaded: ./zenodo_dl/1177969.zip\n",
      "\n",
      "[info] Paper_idx: 1266, Zenodo id: 1178179\n"
     ]
    },
    {
     "name": "stderr",
     "output_type": "stream",
     "text": [
      "1178179.zip: 730kB [00:02, 327kB/s]  \n"
     ]
    },
    {
     "name": "stdout",
     "output_type": "stream",
     "text": [
      "\n",
      "File successfully downloaded to: ./zenodo_dl/1178179.zip\n",
      "[info] File downloaded: ./zenodo_dl/1178179.zip\n",
      "\n",
      "[info] Paper_idx: 1267, Zenodo id: 1177953\n"
     ]
    },
    {
     "name": "stderr",
     "output_type": "stream",
     "text": [
      "1177953.zip: 591kB [00:01, 423kB/s]  \n"
     ]
    },
    {
     "name": "stdout",
     "output_type": "stream",
     "text": [
      "\n",
      "File successfully downloaded to: ./zenodo_dl/1177953.zip\n",
      "[info] File downloaded: ./zenodo_dl/1177953.zip\n",
      "\n",
      "[info] Paper_idx: 1268, Zenodo id: 1178193\n"
     ]
    },
    {
     "name": "stderr",
     "output_type": "stream",
     "text": [
      "1178193.zip: 581kB [00:01, 416kB/s]  \n"
     ]
    },
    {
     "name": "stdout",
     "output_type": "stream",
     "text": [
      "\n",
      "File successfully downloaded to: ./zenodo_dl/1178193.zip\n",
      "[info] File downloaded: ./zenodo_dl/1178193.zip\n",
      "\n",
      "[info] Paper_idx: 1269, Zenodo id: 1178055\n"
     ]
    },
    {
     "name": "stderr",
     "output_type": "stream",
     "text": [
      "1178055.zip: 699kB [00:01, 420kB/s]  \n"
     ]
    },
    {
     "name": "stdout",
     "output_type": "stream",
     "text": [
      "\n",
      "File successfully downloaded to: ./zenodo_dl/1178055.zip\n",
      "[info] File downloaded: ./zenodo_dl/1178055.zip\n",
      "\n",
      "[info] Paper_idx: 1270, Zenodo id: 1177977\n"
     ]
    },
    {
     "name": "stderr",
     "output_type": "stream",
     "text": [
      "1177977.zip: 818kB [00:01, 584kB/s]  \n"
     ]
    },
    {
     "name": "stdout",
     "output_type": "stream",
     "text": [
      "\n",
      "File successfully downloaded to: ./zenodo_dl/1177977.zip\n",
      "[info] File downloaded: ./zenodo_dl/1177977.zip\n",
      "\n",
      "[info] Paper_idx: 1271, Zenodo id: 1178063\n"
     ]
    },
    {
     "name": "stderr",
     "output_type": "stream",
     "text": [
      "1178063.zip: 913kB [00:01, 655kB/s]  \n"
     ]
    },
    {
     "name": "stdout",
     "output_type": "stream",
     "text": [
      "\n",
      "File successfully downloaded to: ./zenodo_dl/1178063.zip\n",
      "[info] File downloaded: ./zenodo_dl/1178063.zip\n",
      "\n",
      "[info] Paper_idx: 1272, Zenodo id: 1178029\n"
     ]
    },
    {
     "name": "stderr",
     "output_type": "stream",
     "text": [
      "1178029.zip: 1.18MB [00:01, 712kB/s] \n"
     ]
    },
    {
     "name": "stdout",
     "output_type": "stream",
     "text": [
      "\n",
      "File successfully downloaded to: ./zenodo_dl/1178029.zip\n",
      "[info] File downloaded: ./zenodo_dl/1178029.zip\n",
      "\n",
      "[info] Paper_idx: 1273, Zenodo id: 1178031\n"
     ]
    },
    {
     "name": "stderr",
     "output_type": "stream",
     "text": [
      "1178031.zip: 848kB [00:02, 339kB/s]  \n"
     ]
    },
    {
     "name": "stdout",
     "output_type": "stream",
     "text": [
      "\n",
      "File successfully downloaded to: ./zenodo_dl/1178031.zip\n",
      "[info] File downloaded: ./zenodo_dl/1178031.zip\n",
      "\n",
      "[info] Paper_idx: 1274, Zenodo id: 1178051\n"
     ]
    },
    {
     "name": "stderr",
     "output_type": "stream",
     "text": [
      "1178051.zip: 4.31MB [00:02, 1.89MB/s]\n"
     ]
    },
    {
     "name": "stdout",
     "output_type": "stream",
     "text": [
      "\n",
      "File successfully downloaded to: ./zenodo_dl/1178051.zip\n",
      "[info] File downloaded: ./zenodo_dl/1178051.zip\n",
      "\n",
      "[info] Paper_idx: 1275, Zenodo id: 1178197\n"
     ]
    },
    {
     "name": "stderr",
     "output_type": "stream",
     "text": [
      "1178197.zip: 3.26MB [00:09, 338kB/s] \n"
     ]
    },
    {
     "name": "stdout",
     "output_type": "stream",
     "text": [
      "\n",
      "File successfully downloaded to: ./zenodo_dl/1178197.zip\n",
      "[info] File downloaded: ./zenodo_dl/1178197.zip\n",
      "\n",
      "[info] Paper_idx: 1276, Zenodo id: 1178027\n"
     ]
    },
    {
     "name": "stderr",
     "output_type": "stream",
     "text": [
      "1178027.zip: 4.39MB [00:11, 369kB/s] \n"
     ]
    },
    {
     "name": "stdout",
     "output_type": "stream",
     "text": [
      "\n",
      "File successfully downloaded to: ./zenodo_dl/1178027.zip\n",
      "[info] File downloaded: ./zenodo_dl/1178027.zip\n",
      "\n",
      "[info] Paper_idx: 1277, Zenodo id: 1178093\n"
     ]
    },
    {
     "name": "stderr",
     "output_type": "stream",
     "text": [
      "1178093.zip: 2.70MB [00:01, 1.38MB/s]\n"
     ]
    },
    {
     "name": "stdout",
     "output_type": "stream",
     "text": [
      "\n",
      "File successfully downloaded to: ./zenodo_dl/1178093.zip\n",
      "[info] File downloaded: ./zenodo_dl/1178093.zip\n",
      "\n",
      "[info] Paper_idx: 1278, Zenodo id: 1178099\n"
     ]
    },
    {
     "name": "stderr",
     "output_type": "stream",
     "text": [
      "1178099.zip: 608kB [00:01, 312kB/s]  \n"
     ]
    },
    {
     "name": "stdout",
     "output_type": "stream",
     "text": [
      "\n",
      "File successfully downloaded to: ./zenodo_dl/1178099.zip\n",
      "[info] File downloaded: ./zenodo_dl/1178099.zip\n",
      "\n",
      "[info] Paper_idx: 1279, Zenodo id: 1178143\n"
     ]
    },
    {
     "name": "stderr",
     "output_type": "stream",
     "text": [
      "1178143.zip: 2.04MB [00:02, 935kB/s] \n"
     ]
    },
    {
     "name": "stdout",
     "output_type": "stream",
     "text": [
      "\n",
      "File successfully downloaded to: ./zenodo_dl/1178143.zip\n",
      "[info] File downloaded: ./zenodo_dl/1178143.zip\n",
      "\n",
      "[info] Paper_idx: 1280, Zenodo id: 1177935\n"
     ]
    },
    {
     "name": "stderr",
     "output_type": "stream",
     "text": [
      "1177935.zip: 871kB [00:01, 611kB/s]  \n"
     ]
    },
    {
     "name": "stdout",
     "output_type": "stream",
     "text": [
      "\n",
      "File successfully downloaded to: ./zenodo_dl/1177935.zip\n",
      "[info] File downloaded: ./zenodo_dl/1177935.zip\n",
      "\n",
      "[info] Paper_idx: 1281, Zenodo id: 1177973\n"
     ]
    },
    {
     "name": "stderr",
     "output_type": "stream",
     "text": [
      "1177973.zip: 994kB [00:02, 357kB/s]  \n"
     ]
    },
    {
     "name": "stdout",
     "output_type": "stream",
     "text": [
      "\n",
      "File successfully downloaded to: ./zenodo_dl/1177973.zip\n",
      "[info] File downloaded: ./zenodo_dl/1177973.zip\n",
      "\n",
      "[info] Paper_idx: 1282, Zenodo id: 1178145\n"
     ]
    },
    {
     "name": "stderr",
     "output_type": "stream",
     "text": [
      "1178145.zip: 904kB [00:01, 649kB/s]  \n"
     ]
    },
    {
     "name": "stdout",
     "output_type": "stream",
     "text": [
      "\n",
      "File successfully downloaded to: ./zenodo_dl/1178145.zip\n",
      "[info] File downloaded: ./zenodo_dl/1178145.zip\n",
      "\n",
      "[info] Paper_idx: 1283, Zenodo id: 1178101\n"
     ]
    },
    {
     "name": "stderr",
     "output_type": "stream",
     "text": [
      "1178101.zip: 2.15MB [00:06, 338kB/s] \n"
     ]
    },
    {
     "name": "stdout",
     "output_type": "stream",
     "text": [
      "\n",
      "File successfully downloaded to: ./zenodo_dl/1178101.zip\n",
      "[info] File downloaded: ./zenodo_dl/1178101.zip\n",
      "\n",
      "[info] Paper_idx: 1284, Zenodo id: 1177995\n"
     ]
    },
    {
     "name": "stderr",
     "output_type": "stream",
     "text": [
      "1177995.zip: 730kB [00:02, 329kB/s]  \n"
     ]
    },
    {
     "name": "stdout",
     "output_type": "stream",
     "text": [
      "\n",
      "File successfully downloaded to: ./zenodo_dl/1177995.zip\n",
      "[info] File downloaded: ./zenodo_dl/1177995.zip\n",
      "\n",
      "[info] Paper_idx: 1285, Zenodo id: 1178009\n"
     ]
    },
    {
     "name": "stderr",
     "output_type": "stream",
     "text": [
      "1178009.zip: 668kB [00:02, 264kB/s]  \n"
     ]
    },
    {
     "name": "stdout",
     "output_type": "stream",
     "text": [
      "\n",
      "File successfully downloaded to: ./zenodo_dl/1178009.zip\n",
      "[info] File downloaded: ./zenodo_dl/1178009.zip\n",
      "\n",
      "[info] Paper_idx: 1286, Zenodo id: 1178171\n"
     ]
    },
    {
     "name": "stderr",
     "output_type": "stream",
     "text": [
      "1178171.zip: 903kB [00:02, 322kB/s]  \n"
     ]
    },
    {
     "name": "stdout",
     "output_type": "stream",
     "text": [
      "\n",
      "File successfully downloaded to: ./zenodo_dl/1178171.zip\n",
      "[info] File downloaded: ./zenodo_dl/1178171.zip\n",
      "\n",
      "[info] Paper_idx: 1287, Zenodo id: 1178047\n"
     ]
    },
    {
     "name": "stderr",
     "output_type": "stream",
     "text": [
      "1178047.zip: 706kB [00:01, 479kB/s]  \n"
     ]
    },
    {
     "name": "stdout",
     "output_type": "stream",
     "text": [
      "\n",
      "File successfully downloaded to: ./zenodo_dl/1178047.zip\n",
      "[info] File downloaded: ./zenodo_dl/1178047.zip\n",
      "\n",
      "[info] Paper_idx: 1288, Zenodo id: 1177943\n"
     ]
    },
    {
     "name": "stderr",
     "output_type": "stream",
     "text": [
      "1177943.zip: 856kB [00:03, 279kB/s]  \n"
     ]
    },
    {
     "name": "stdout",
     "output_type": "stream",
     "text": [
      "\n",
      "File successfully downloaded to: ./zenodo_dl/1177943.zip\n",
      "[info] File downloaded: ./zenodo_dl/1177943.zip\n",
      "\n",
      "[info] Paper_idx: 1289, Zenodo id: 1178181\n"
     ]
    },
    {
     "name": "stderr",
     "output_type": "stream",
     "text": [
      "1178181.zip: 781kB [00:01, 562kB/s]  \n"
     ]
    },
    {
     "name": "stdout",
     "output_type": "stream",
     "text": [
      "\n",
      "File successfully downloaded to: ./zenodo_dl/1178181.zip\n",
      "[info] File downloaded: ./zenodo_dl/1178181.zip\n",
      "\n",
      "[info] Paper_idx: 1290, Zenodo id: 1178095\n"
     ]
    },
    {
     "name": "stderr",
     "output_type": "stream",
     "text": [
      "1178095.zip: 2.47MB [00:06, 355kB/s] \n"
     ]
    },
    {
     "name": "stdout",
     "output_type": "stream",
     "text": [
      "\n",
      "File successfully downloaded to: ./zenodo_dl/1178095.zip\n",
      "[info] File downloaded: ./zenodo_dl/1178095.zip\n",
      "\n",
      "[info] Paper_idx: 1291, Zenodo id: 1177937\n"
     ]
    },
    {
     "name": "stderr",
     "output_type": "stream",
     "text": [
      "1177937.zip: 1.25MB [00:03, 321kB/s] \n"
     ]
    },
    {
     "name": "stdout",
     "output_type": "stream",
     "text": [
      "\n",
      "File successfully downloaded to: ./zenodo_dl/1177937.zip\n",
      "[info] File downloaded: ./zenodo_dl/1177937.zip\n",
      "\n",
      "[info] Paper_idx: 1292, Zenodo id: 1178023\n"
     ]
    },
    {
     "name": "stderr",
     "output_type": "stream",
     "text": [
      "1178023.zip: 830kB [00:01, 570kB/s]  \n"
     ]
    },
    {
     "name": "stdout",
     "output_type": "stream",
     "text": [
      "\n",
      "File successfully downloaded to: ./zenodo_dl/1178023.zip\n",
      "[info] File downloaded: ./zenodo_dl/1178023.zip\n",
      "\n",
      "[info] Paper_idx: 1293, Zenodo id: 1177947\n"
     ]
    },
    {
     "name": "stderr",
     "output_type": "stream",
     "text": [
      "1177947.zip: 765kB [00:02, 275kB/s]  \n"
     ]
    },
    {
     "name": "stdout",
     "output_type": "stream",
     "text": [
      "\n",
      "File successfully downloaded to: ./zenodo_dl/1177947.zip\n",
      "[info] File downloaded: ./zenodo_dl/1177947.zip\n",
      "\n",
      "[info] Paper_idx: 1294, Zenodo id: 1178147\n"
     ]
    },
    {
     "name": "stderr",
     "output_type": "stream",
     "text": [
      "1178147.zip: 759kB [00:02, 311kB/s]  \n"
     ]
    },
    {
     "name": "stdout",
     "output_type": "stream",
     "text": [
      "\n",
      "File successfully downloaded to: ./zenodo_dl/1178147.zip\n",
      "[info] File downloaded: ./zenodo_dl/1178147.zip\n",
      "\n",
      "[info] Paper_idx: 1295, Zenodo id: 1178013\n"
     ]
    },
    {
     "name": "stderr",
     "output_type": "stream",
     "text": [
      "1178013.zip: 3.92MB [00:10, 370kB/s] \n"
     ]
    },
    {
     "name": "stdout",
     "output_type": "stream",
     "text": [
      "\n",
      "File successfully downloaded to: ./zenodo_dl/1178013.zip\n",
      "[info] File downloaded: ./zenodo_dl/1178013.zip\n",
      "\n",
      "[info] Paper_idx: 1296, Zenodo id: 1178151\n"
     ]
    },
    {
     "name": "stderr",
     "output_type": "stream",
     "text": [
      "1178151.zip: 709kB [00:02, 256kB/s]  \n"
     ]
    },
    {
     "name": "stdout",
     "output_type": "stream",
     "text": [
      "\n",
      "File successfully downloaded to: ./zenodo_dl/1178151.zip\n",
      "[info] File downloaded: ./zenodo_dl/1178151.zip\n",
      "\n",
      "[info] Paper_idx: 1297, Zenodo id: 1178057\n"
     ]
    },
    {
     "name": "stderr",
     "output_type": "stream",
     "text": [
      "1178057.zip: 844kB [00:01, 510kB/s]  \n"
     ]
    },
    {
     "name": "stdout",
     "output_type": "stream",
     "text": [
      "\n",
      "File successfully downloaded to: ./zenodo_dl/1178057.zip\n",
      "[info] File downloaded: ./zenodo_dl/1178057.zip\n",
      "\n",
      "[info] Paper_idx: 1298, Zenodo id: 1178135\n"
     ]
    },
    {
     "name": "stderr",
     "output_type": "stream",
     "text": [
      "1178135.zip: 1.05MB [00:01, 646kB/s] \n"
     ]
    },
    {
     "name": "stdout",
     "output_type": "stream",
     "text": [
      "\n",
      "File successfully downloaded to: ./zenodo_dl/1178135.zip\n",
      "[info] File downloaded: ./zenodo_dl/1178135.zip\n",
      "\n",
      "[info] Paper_idx: 1299, Zenodo id: 1178111\n"
     ]
    },
    {
     "name": "stderr",
     "output_type": "stream",
     "text": [
      "1178111.zip: 610kB [00:01, 440kB/s]  \n"
     ]
    },
    {
     "name": "stdout",
     "output_type": "stream",
     "text": [
      "\n",
      "File successfully downloaded to: ./zenodo_dl/1178111.zip\n",
      "[info] File downloaded: ./zenodo_dl/1178111.zip\n",
      "\n",
      "[info] Paper_idx: 1300, Zenodo id: 1178117\n"
     ]
    },
    {
     "name": "stderr",
     "output_type": "stream",
     "text": [
      "1178117.zip: 3.03MB [00:01, 1.54MB/s]\n"
     ]
    },
    {
     "name": "stdout",
     "output_type": "stream",
     "text": [
      "\n",
      "File successfully downloaded to: ./zenodo_dl/1178117.zip\n",
      "[info] File downloaded: ./zenodo_dl/1178117.zip\n",
      "\n",
      "[info] Paper_idx: 1301, Zenodo id: 1178129\n"
     ]
    },
    {
     "name": "stderr",
     "output_type": "stream",
     "text": [
      "1178129.zip: 4.23MB [00:02, 1.88MB/s]\n"
     ]
    },
    {
     "name": "stdout",
     "output_type": "stream",
     "text": [
      "\n",
      "File successfully downloaded to: ./zenodo_dl/1178129.zip\n",
      "[info] File downloaded: ./zenodo_dl/1178129.zip\n",
      "\n",
      "[info] Paper_idx: 1302, Zenodo id: 1178003\n"
     ]
    },
    {
     "name": "stderr",
     "output_type": "stream",
     "text": [
      "1178003.zip: 1.16MB [00:01, 695kB/s] \n"
     ]
    },
    {
     "name": "stdout",
     "output_type": "stream",
     "text": [
      "\n",
      "File successfully downloaded to: ./zenodo_dl/1178003.zip\n",
      "[info] File downloaded: ./zenodo_dl/1178003.zip\n",
      "\n",
      "[info] Paper_idx: 1303, Zenodo id: 1178097\n"
     ]
    },
    {
     "name": "stderr",
     "output_type": "stream",
     "text": [
      "1178097.zip: 1.28MB [00:01, 767kB/s] \n"
     ]
    },
    {
     "name": "stdout",
     "output_type": "stream",
     "text": [
      "\n",
      "File successfully downloaded to: ./zenodo_dl/1178097.zip\n",
      "[info] File downloaded: ./zenodo_dl/1178097.zip\n",
      "\n",
      "[info] Paper_idx: 1304, Zenodo id: 1178011\n"
     ]
    },
    {
     "name": "stderr",
     "output_type": "stream",
     "text": [
      "1178011.zip: 757kB [00:02, 344kB/s]  \n"
     ]
    },
    {
     "name": "stdout",
     "output_type": "stream",
     "text": [
      "\n",
      "File successfully downloaded to: ./zenodo_dl/1178011.zip\n",
      "[info] File downloaded: ./zenodo_dl/1178011.zip\n",
      "\n",
      "[info] Paper_idx: 1305, Zenodo id: 1177999\n"
     ]
    },
    {
     "name": "stderr",
     "output_type": "stream",
     "text": [
      "1177999.zip: 672kB [00:01, 404kB/s]  \n"
     ]
    },
    {
     "name": "stdout",
     "output_type": "stream",
     "text": [
      "\n",
      "File successfully downloaded to: ./zenodo_dl/1177999.zip\n",
      "[info] File downloaded: ./zenodo_dl/1177999.zip\n",
      "\n",
      "[info] Paper_idx: 1306, Zenodo id: 1178019\n"
     ]
    },
    {
     "name": "stderr",
     "output_type": "stream",
     "text": [
      "1178019.zip: 550kB [00:02, 247kB/s]  \n"
     ]
    },
    {
     "name": "stdout",
     "output_type": "stream",
     "text": [
      "\n",
      "File successfully downloaded to: ./zenodo_dl/1178019.zip\n",
      "[info] File downloaded: ./zenodo_dl/1178019.zip\n",
      "\n",
      "[info] Paper_idx: 1307, Zenodo id: 1178123\n"
     ]
    },
    {
     "name": "stderr",
     "output_type": "stream",
     "text": [
      "1178123.zip: 650kB [00:01, 465kB/s]  \n"
     ]
    },
    {
     "name": "stdout",
     "output_type": "stream",
     "text": [
      "\n",
      "File successfully downloaded to: ./zenodo_dl/1178123.zip\n",
      "[info] File downloaded: ./zenodo_dl/1178123.zip\n",
      "\n",
      "[info] Paper_idx: 1308, Zenodo id: 1178081\n"
     ]
    },
    {
     "name": "stderr",
     "output_type": "stream",
     "text": [
      "1178081.zip: 2.12MB [00:06, 349kB/s] \n"
     ]
    },
    {
     "name": "stdout",
     "output_type": "stream",
     "text": [
      "\n",
      "File successfully downloaded to: ./zenodo_dl/1178081.zip\n",
      "[info] File downloaded: ./zenodo_dl/1178081.zip\n",
      "\n",
      "[info] Paper_idx: 1309, Zenodo id: 1177963\n"
     ]
    },
    {
     "name": "stderr",
     "output_type": "stream",
     "text": [
      "1177963.zip: 872kB [00:02, 349kB/s]  \n"
     ]
    },
    {
     "name": "stdout",
     "output_type": "stream",
     "text": [
      "\n",
      "File successfully downloaded to: ./zenodo_dl/1177963.zip\n",
      "[info] File downloaded: ./zenodo_dl/1177963.zip\n",
      "\n",
      "[info] Paper_idx: 1310, Zenodo id: 1177975\n"
     ]
    },
    {
     "name": "stderr",
     "output_type": "stream",
     "text": [
      "1177975.zip: 539kB [00:02, 243kB/s]  \n"
     ]
    },
    {
     "name": "stdout",
     "output_type": "stream",
     "text": [
      "\n",
      "File successfully downloaded to: ./zenodo_dl/1177975.zip\n",
      "[info] File downloaded: ./zenodo_dl/1177975.zip\n",
      "\n",
      "[info] Paper_idx: 1311, Zenodo id: 1178177\n"
     ]
    },
    {
     "name": "stderr",
     "output_type": "stream",
     "text": [
      "1178177.zip: 4.27MB [00:11, 359kB/s] \n"
     ]
    },
    {
     "name": "stdout",
     "output_type": "stream",
     "text": [
      "\n",
      "File successfully downloaded to: ./zenodo_dl/1178177.zip\n",
      "[info] File downloaded: ./zenodo_dl/1178177.zip\n",
      "\n",
      "[info] Paper_idx: 1312, Zenodo id: 1178001\n"
     ]
    },
    {
     "name": "stderr",
     "output_type": "stream",
     "text": [
      "1178001.zip: 844kB [00:01, 593kB/s]  \n"
     ]
    },
    {
     "name": "stdout",
     "output_type": "stream",
     "text": [
      "\n",
      "File successfully downloaded to: ./zenodo_dl/1178001.zip\n",
      "[info] File downloaded: ./zenodo_dl/1178001.zip\n",
      "\n",
      "[info] Paper_idx: 1313, Zenodo id: 1177959\n"
     ]
    },
    {
     "name": "stderr",
     "output_type": "stream",
     "text": [
      "1177959.zip: 556kB [00:02, 247kB/s]  \n"
     ]
    },
    {
     "name": "stdout",
     "output_type": "stream",
     "text": [
      "\n",
      "File successfully downloaded to: ./zenodo_dl/1177959.zip\n",
      "[info] File downloaded: ./zenodo_dl/1177959.zip\n",
      "\n",
      "[info] Paper_idx: 1314, Zenodo id: 1178007\n"
     ]
    },
    {
     "name": "stderr",
     "output_type": "stream",
     "text": [
      "1178007.zip: 606kB [00:01, 435kB/s]  \n"
     ]
    },
    {
     "name": "stdout",
     "output_type": "stream",
     "text": [
      "\n",
      "File successfully downloaded to: ./zenodo_dl/1178007.zip\n",
      "[info] File downloaded: ./zenodo_dl/1178007.zip\n",
      "\n",
      "[info] Paper_idx: 1315, Zenodo id: 1178041\n"
     ]
    },
    {
     "name": "stderr",
     "output_type": "stream",
     "text": [
      "1178041.zip: 849kB [00:02, 306kB/s]  \n"
     ]
    },
    {
     "name": "stdout",
     "output_type": "stream",
     "text": [
      "\n",
      "File successfully downloaded to: ./zenodo_dl/1178041.zip\n",
      "[info] File downloaded: ./zenodo_dl/1178041.zip\n",
      "\n",
      "[info] Paper_idx: 1316, Zenodo id: 1178189\n"
     ]
    },
    {
     "name": "stderr",
     "output_type": "stream",
     "text": [
      "1178189.zip: 757kB [00:01, 538kB/s]  \n"
     ]
    },
    {
     "name": "stdout",
     "output_type": "stream",
     "text": [
      "\n",
      "File successfully downloaded to: ./zenodo_dl/1178189.zip\n",
      "[info] File downloaded: ./zenodo_dl/1178189.zip\n",
      "\n",
      "[info] Paper_idx: 1317, Zenodo id: 1177985\n"
     ]
    },
    {
     "name": "stderr",
     "output_type": "stream",
     "text": [
      "1177985.zip: 805kB [00:01, 561kB/s]  \n"
     ]
    },
    {
     "name": "stdout",
     "output_type": "stream",
     "text": [
      "\n",
      "File successfully downloaded to: ./zenodo_dl/1177985.zip\n",
      "[info] File downloaded: ./zenodo_dl/1177985.zip\n",
      "\n",
      "[info] Paper_idx: 1318, Zenodo id: 1178153\n"
     ]
    },
    {
     "name": "stderr",
     "output_type": "stream",
     "text": [
      "1178153.zip: 1.24MB [00:01, 738kB/s] \n"
     ]
    },
    {
     "name": "stdout",
     "output_type": "stream",
     "text": [
      "\n",
      "File successfully downloaded to: ./zenodo_dl/1178153.zip\n",
      "[info] File downloaded: ./zenodo_dl/1178153.zip\n",
      "\n",
      "[info] Paper_idx: 1319, Zenodo id: 1178195\n"
     ]
    },
    {
     "name": "stderr",
     "output_type": "stream",
     "text": [
      "1178195.zip: 952kB [00:03, 312kB/s]  \n"
     ]
    },
    {
     "name": "stdout",
     "output_type": "stream",
     "text": [
      "\n",
      "File successfully downloaded to: ./zenodo_dl/1178195.zip\n",
      "[info] File downloaded: ./zenodo_dl/1178195.zip\n",
      "\n",
      "[info] Paper_idx: 1320, Zenodo id: 1178183\n"
     ]
    },
    {
     "name": "stderr",
     "output_type": "stream",
     "text": [
      "1178183.zip: 1.40MB [00:01, 838kB/s] \n"
     ]
    },
    {
     "name": "stdout",
     "output_type": "stream",
     "text": [
      "\n",
      "File successfully downloaded to: ./zenodo_dl/1178183.zip\n",
      "[info] File downloaded: ./zenodo_dl/1178183.zip\n",
      "\n",
      "[info] Paper_idx: 1321, Zenodo id: 1177919\n"
     ]
    },
    {
     "name": "stderr",
     "output_type": "stream",
     "text": [
      "1177919.zip: 1.49MB [00:04, 357kB/s] \n"
     ]
    },
    {
     "name": "stdout",
     "output_type": "stream",
     "text": [
      "\n",
      "File successfully downloaded to: ./zenodo_dl/1177919.zip\n",
      "[info] File downloaded: ./zenodo_dl/1177919.zip\n",
      "\n",
      "[info] Paper_idx: 1322, Zenodo id: 1177845\n"
     ]
    },
    {
     "name": "stderr",
     "output_type": "stream",
     "text": [
      "1177845.zip: 1.07MB [00:01, 661kB/s] \n"
     ]
    },
    {
     "name": "stdout",
     "output_type": "stream",
     "text": [
      "\n",
      "File successfully downloaded to: ./zenodo_dl/1177845.zip\n",
      "[info] File downloaded: ./zenodo_dl/1177845.zip\n",
      "\n",
      "[info] Paper_idx: 1323, Zenodo id: 1177861\n"
     ]
    },
    {
     "name": "stderr",
     "output_type": "stream",
     "text": [
      "1177861.zip: 647kB [00:02, 292kB/s]  \n"
     ]
    },
    {
     "name": "stdout",
     "output_type": "stream",
     "text": [
      "\n",
      "File successfully downloaded to: ./zenodo_dl/1177861.zip\n",
      "[info] File downloaded: ./zenodo_dl/1177861.zip\n",
      "\n",
      "[info] Paper_idx: 1324, Zenodo id: 1177745\n"
     ]
    },
    {
     "name": "stderr",
     "output_type": "stream",
     "text": [
      "1177745.zip: 2.54MB [00:06, 366kB/s] \n"
     ]
    },
    {
     "name": "stdout",
     "output_type": "stream",
     "text": [
      "\n",
      "File successfully downloaded to: ./zenodo_dl/1177745.zip\n",
      "[info] File downloaded: ./zenodo_dl/1177745.zip\n",
      "\n",
      "[info] Paper_idx: 1325, Zenodo id: 1177799\n"
     ]
    },
    {
     "name": "stderr",
     "output_type": "stream",
     "text": [
      "1177799.zip: 4.57MB [00:12, 366kB/s] \n"
     ]
    },
    {
     "name": "stdout",
     "output_type": "stream",
     "text": [
      "\n",
      "File successfully downloaded to: ./zenodo_dl/1177799.zip\n",
      "[info] File downloaded: ./zenodo_dl/1177799.zip\n",
      "\n",
      "[info] Paper_idx: 1326, Zenodo id: 1177917\n"
     ]
    },
    {
     "name": "stderr",
     "output_type": "stream",
     "text": [
      "1177917.zip: 13.9MB [00:37, 373kB/s] \n"
     ]
    },
    {
     "name": "stdout",
     "output_type": "stream",
     "text": [
      "\n",
      "File successfully downloaded to: ./zenodo_dl/1177917.zip\n",
      "[info] File downloaded: ./zenodo_dl/1177917.zip\n",
      "\n",
      "[info] Paper_idx: 1327, Zenodo id: 1177743\n"
     ]
    },
    {
     "name": "stderr",
     "output_type": "stream",
     "text": [
      "1177743.zip: 1.45MB [00:04, 346kB/s] \n"
     ]
    },
    {
     "name": "stdout",
     "output_type": "stream",
     "text": [
      "\n",
      "File successfully downloaded to: ./zenodo_dl/1177743.zip\n",
      "[info] File downloaded: ./zenodo_dl/1177743.zip\n",
      "\n",
      "[info] Paper_idx: 1328, Zenodo id: 1177855\n"
     ]
    },
    {
     "name": "stderr",
     "output_type": "stream",
     "text": [
      "1177855.zip: 640kB [00:02, 288kB/s]  \n"
     ]
    },
    {
     "name": "stdout",
     "output_type": "stream",
     "text": [
      "\n",
      "File successfully downloaded to: ./zenodo_dl/1177855.zip\n",
      "[info] File downloaded: ./zenodo_dl/1177855.zip\n",
      "\n",
      "[info] Paper_idx: 1329, Zenodo id: 1177837\n"
     ]
    },
    {
     "name": "stderr",
     "output_type": "stream",
     "text": [
      "1177837.zip: 1.24MB [00:01, 740kB/s] \n"
     ]
    },
    {
     "name": "stdout",
     "output_type": "stream",
     "text": [
      "\n",
      "File successfully downloaded to: ./zenodo_dl/1177837.zip\n",
      "[info] File downloaded: ./zenodo_dl/1177837.zip\n",
      "\n",
      "[info] Paper_idx: 1330, Zenodo id: 1177829\n"
     ]
    },
    {
     "name": "stderr",
     "output_type": "stream",
     "text": [
      "1177829.zip: 961kB [00:01, 690kB/s]  \n"
     ]
    },
    {
     "name": "stdout",
     "output_type": "stream",
     "text": [
      "\n",
      "File successfully downloaded to: ./zenodo_dl/1177829.zip\n",
      "[info] File downloaded: ./zenodo_dl/1177829.zip\n",
      "\n",
      "[info] Paper_idx: 1331, Zenodo id: 1177833\n"
     ]
    },
    {
     "name": "stderr",
     "output_type": "stream",
     "text": [
      "1177833.zip: 6.91MB [00:18, 378kB/s] \n"
     ]
    },
    {
     "name": "stdout",
     "output_type": "stream",
     "text": [
      "\n",
      "File successfully downloaded to: ./zenodo_dl/1177833.zip\n",
      "[info] File downloaded: ./zenodo_dl/1177833.zip\n",
      "\n",
      "[info] Paper_idx: 1332, Zenodo id: 1177883\n"
     ]
    },
    {
     "name": "stderr",
     "output_type": "stream",
     "text": [
      "1177883.zip: 1.23MB [00:03, 316kB/s] \n"
     ]
    },
    {
     "name": "stdout",
     "output_type": "stream",
     "text": [
      "\n",
      "File successfully downloaded to: ./zenodo_dl/1177883.zip\n",
      "[info] File downloaded: ./zenodo_dl/1177883.zip\n",
      "\n",
      "[info] Paper_idx: 1333, Zenodo id: 1177713\n"
     ]
    },
    {
     "name": "stderr",
     "output_type": "stream",
     "text": [
      "1177713.zip: 944kB [00:03, 280kB/s]  \n"
     ]
    },
    {
     "name": "stdout",
     "output_type": "stream",
     "text": [
      "\n",
      "File successfully downloaded to: ./zenodo_dl/1177713.zip\n",
      "[info] File downloaded: ./zenodo_dl/1177713.zip\n",
      "\n",
      "[info] Paper_idx: 1334, Zenodo id: 1177811\n"
     ]
    },
    {
     "name": "stderr",
     "output_type": "stream",
     "text": [
      "1177811.zip: 1.72MB [00:04, 345kB/s] \n"
     ]
    },
    {
     "name": "stdout",
     "output_type": "stream",
     "text": [
      "\n",
      "File successfully downloaded to: ./zenodo_dl/1177811.zip\n",
      "[info] File downloaded: ./zenodo_dl/1177811.zip\n",
      "\n",
      "[info] Paper_idx: 1335, Zenodo id: 1177787\n"
     ]
    },
    {
     "name": "stderr",
     "output_type": "stream",
     "text": [
      "1177787.zip: 976kB [00:03, 295kB/s]  \n"
     ]
    },
    {
     "name": "stdout",
     "output_type": "stream",
     "text": [
      "\n",
      "File successfully downloaded to: ./zenodo_dl/1177787.zip\n",
      "[info] File downloaded: ./zenodo_dl/1177787.zip\n",
      "\n",
      "[info] Paper_idx: 1336, Zenodo id: 1177759\n"
     ]
    },
    {
     "name": "stderr",
     "output_type": "stream",
     "text": [
      "1177759.zip: 4.10MB [00:11, 369kB/s] \n"
     ]
    },
    {
     "name": "stdout",
     "output_type": "stream",
     "text": [
      "\n",
      "File successfully downloaded to: ./zenodo_dl/1177759.zip\n",
      "[info] File downloaded: ./zenodo_dl/1177759.zip\n",
      "\n",
      "[info] Paper_idx: 1337, Zenodo id: 1177871\n"
     ]
    },
    {
     "name": "stderr",
     "output_type": "stream",
     "text": [
      "1177871.zip: 4.96MB [00:07, 662kB/s] \n"
     ]
    },
    {
     "name": "stdout",
     "output_type": "stream",
     "text": [
      "\n",
      "File successfully downloaded to: ./zenodo_dl/1177871.zip\n",
      "[info] File downloaded: ./zenodo_dl/1177871.zip\n",
      "\n",
      "[info] Paper_idx: 1338, Zenodo id: 1177903\n"
     ]
    },
    {
     "name": "stderr",
     "output_type": "stream",
     "text": [
      "1177903.zip: 686kB [00:02, 308kB/s]  \n"
     ]
    },
    {
     "name": "stdout",
     "output_type": "stream",
     "text": [
      "\n",
      "File successfully downloaded to: ./zenodo_dl/1177903.zip\n",
      "[info] File downloaded: ./zenodo_dl/1177903.zip\n",
      "\n",
      "[info] Paper_idx: 1339, Zenodo id: 1177795\n"
     ]
    },
    {
     "name": "stderr",
     "output_type": "stream",
     "text": [
      "1177795.zip: 1.10MB [00:01, 678kB/s] \n"
     ]
    },
    {
     "name": "stdout",
     "output_type": "stream",
     "text": [
      "\n",
      "File successfully downloaded to: ./zenodo_dl/1177795.zip\n",
      "[info] File downloaded: ./zenodo_dl/1177795.zip\n",
      "\n",
      "[info] Paper_idx: 1340, Zenodo id: 1177797\n"
     ]
    },
    {
     "name": "stderr",
     "output_type": "stream",
     "text": [
      "1177797.zip: 1.33MB [00:01, 797kB/s] \n"
     ]
    },
    {
     "name": "stdout",
     "output_type": "stream",
     "text": [
      "\n",
      "File successfully downloaded to: ./zenodo_dl/1177797.zip\n",
      "[info] File downloaded: ./zenodo_dl/1177797.zip\n",
      "\n",
      "[info] Paper_idx: 1341, Zenodo id: 1177785\n"
     ]
    },
    {
     "name": "stderr",
     "output_type": "stream",
     "text": [
      "1177785.zip: 958kB [00:03, 314kB/s]  \n"
     ]
    },
    {
     "name": "stdout",
     "output_type": "stream",
     "text": [
      "\n",
      "File successfully downloaded to: ./zenodo_dl/1177785.zip\n",
      "[info] File downloaded: ./zenodo_dl/1177785.zip\n",
      "\n",
      "[info] Paper_idx: 1342, Zenodo id: 1177741\n"
     ]
    },
    {
     "name": "stderr",
     "output_type": "stream",
     "text": [
      "1177741.zip: 2.17MB [00:05, 391kB/s] \n"
     ]
    },
    {
     "name": "stdout",
     "output_type": "stream",
     "text": [
      "\n",
      "File successfully downloaded to: ./zenodo_dl/1177741.zip\n",
      "[info] File downloaded: ./zenodo_dl/1177741.zip\n",
      "\n",
      "[info] Paper_idx: 1343, Zenodo id: 1177927\n"
     ]
    },
    {
     "name": "stderr",
     "output_type": "stream",
     "text": [
      "1177927.zip: 1.69MB [00:05, 321kB/s] \n"
     ]
    },
    {
     "name": "stdout",
     "output_type": "stream",
     "text": [
      "\n",
      "File successfully downloaded to: ./zenodo_dl/1177927.zip\n",
      "[info] File downloaded: ./zenodo_dl/1177927.zip\n",
      "\n",
      "[info] Paper_idx: 1344, Zenodo id: 1177735\n"
     ]
    },
    {
     "name": "stderr",
     "output_type": "stream",
     "text": [
      "1177735.zip: 7.79MB [00:03, 2.60MB/s]\n"
     ]
    },
    {
     "name": "stdout",
     "output_type": "stream",
     "text": [
      "\n",
      "File successfully downloaded to: ./zenodo_dl/1177735.zip\n",
      "[info] File downloaded: ./zenodo_dl/1177735.zip\n",
      "\n",
      "[info] Paper_idx: 1345, Zenodo id: 1177747\n"
     ]
    },
    {
     "name": "stderr",
     "output_type": "stream",
     "text": [
      "1177747.zip: 639kB [00:02, 293kB/s]  \n"
     ]
    },
    {
     "name": "stdout",
     "output_type": "stream",
     "text": [
      "\n",
      "File successfully downloaded to: ./zenodo_dl/1177747.zip\n",
      "[info] File downloaded: ./zenodo_dl/1177747.zip\n",
      "\n",
      "[info] Paper_idx: 1346, Zenodo id: 1177753\n"
     ]
    },
    {
     "name": "stderr",
     "output_type": "stream",
     "text": [
      "1177753.zip: 2.11MB [00:01, 1.08MB/s]\n"
     ]
    },
    {
     "name": "stdout",
     "output_type": "stream",
     "text": [
      "\n",
      "File successfully downloaded to: ./zenodo_dl/1177753.zip\n",
      "[info] File downloaded: ./zenodo_dl/1177753.zip\n",
      "\n",
      "[info] Paper_idx: 1347, Zenodo id: 1177891\n"
     ]
    },
    {
     "name": "stderr",
     "output_type": "stream",
     "text": [
      "1177891.zip: 721kB [00:01, 516kB/s]  \n"
     ]
    },
    {
     "name": "stdout",
     "output_type": "stream",
     "text": [
      "\n",
      "File successfully downloaded to: ./zenodo_dl/1177891.zip\n",
      "[info] File downloaded: ./zenodo_dl/1177891.zip\n",
      "\n",
      "[info] Paper_idx: 1348, Zenodo id: 1177925\n"
     ]
    },
    {
     "name": "stderr",
     "output_type": "stream",
     "text": [
      "1177925.zip: 727kB [00:02, 260kB/s]  \n"
     ]
    },
    {
     "name": "stdout",
     "output_type": "stream",
     "text": [
      "\n",
      "File successfully downloaded to: ./zenodo_dl/1177925.zip\n",
      "[info] File downloaded: ./zenodo_dl/1177925.zip\n",
      "\n",
      "[info] Paper_idx: 1349, Zenodo id: 1177739\n"
     ]
    },
    {
     "name": "stderr",
     "output_type": "stream",
     "text": [
      "1177739.zip: 3.08MB [00:01, 1.58MB/s]\n"
     ]
    },
    {
     "name": "stdout",
     "output_type": "stream",
     "text": [
      "\n",
      "File successfully downloaded to: ./zenodo_dl/1177739.zip\n",
      "[info] File downloaded: ./zenodo_dl/1177739.zip\n",
      "\n",
      "[info] Paper_idx: 1350, Zenodo id: 1177929\n"
     ]
    },
    {
     "name": "stderr",
     "output_type": "stream",
     "text": [
      "1177929.zip: 2.75MB [00:07, 371kB/s] \n"
     ]
    },
    {
     "name": "stdout",
     "output_type": "stream",
     "text": [
      "\n",
      "File successfully downloaded to: ./zenodo_dl/1177929.zip\n",
      "[info] File downloaded: ./zenodo_dl/1177929.zip\n",
      "\n",
      "[info] Paper_idx: 1351, Zenodo id: 1177897\n"
     ]
    },
    {
     "name": "stderr",
     "output_type": "stream",
     "text": [
      "1177897.zip: 1.79MB [00:01, 918kB/s] \n"
     ]
    },
    {
     "name": "stdout",
     "output_type": "stream",
     "text": [
      "\n",
      "File successfully downloaded to: ./zenodo_dl/1177897.zip\n",
      "[info] File downloaded: ./zenodo_dl/1177897.zip\n",
      "\n",
      "[info] Paper_idx: 1352, Zenodo id: 1177821\n"
     ]
    },
    {
     "name": "stderr",
     "output_type": "stream",
     "text": [
      "1177821.zip: 2.49MB [00:01, 1.28MB/s]\n"
     ]
    },
    {
     "name": "stdout",
     "output_type": "stream",
     "text": [
      "\n",
      "File successfully downloaded to: ./zenodo_dl/1177821.zip\n",
      "[info] File downloaded: ./zenodo_dl/1177821.zip\n",
      "\n",
      "[info] Paper_idx: 1353, Zenodo id: 1177875\n"
     ]
    },
    {
     "name": "stderr",
     "output_type": "stream",
     "text": [
      "1177875.zip: 2.60MB [00:01, 1.33MB/s]\n"
     ]
    },
    {
     "name": "stdout",
     "output_type": "stream",
     "text": [
      "\n",
      "File successfully downloaded to: ./zenodo_dl/1177875.zip\n",
      "[info] File downloaded: ./zenodo_dl/1177875.zip\n",
      "\n",
      "[info] Paper_idx: 1354, Zenodo id: 1177731\n"
     ]
    },
    {
     "name": "stderr",
     "output_type": "stream",
     "text": [
      "1177731.zip: 678kB [00:01, 484kB/s]  \n"
     ]
    },
    {
     "name": "stdout",
     "output_type": "stream",
     "text": [
      "\n",
      "File successfully downloaded to: ./zenodo_dl/1177731.zip\n",
      "[info] File downloaded: ./zenodo_dl/1177731.zip\n",
      "\n",
      "[info] Paper_idx: 1355, Zenodo id: 1177725\n"
     ]
    },
    {
     "name": "stderr",
     "output_type": "stream",
     "text": [
      "1177725.zip: 869kB [00:01, 623kB/s]  \n"
     ]
    },
    {
     "name": "stdout",
     "output_type": "stream",
     "text": [
      "\n",
      "File successfully downloaded to: ./zenodo_dl/1177725.zip\n",
      "[info] File downloaded: ./zenodo_dl/1177725.zip\n",
      "\n",
      "[info] Paper_idx: 1356, Zenodo id: 1177751\n"
     ]
    },
    {
     "name": "stderr",
     "output_type": "stream",
     "text": [
      "1177751.zip: 917kB [00:01, 656kB/s]  \n"
     ]
    },
    {
     "name": "stdout",
     "output_type": "stream",
     "text": [
      "\n",
      "File successfully downloaded to: ./zenodo_dl/1177751.zip\n",
      "[info] File downloaded: ./zenodo_dl/1177751.zip\n",
      "\n",
      "[info] Paper_idx: 1357, Zenodo id: 1177761\n"
     ]
    },
    {
     "name": "stderr",
     "output_type": "stream",
     "text": [
      "1177761.zip: 926kB [00:01, 658kB/s]  \n"
     ]
    },
    {
     "name": "stdout",
     "output_type": "stream",
     "text": [
      "\n",
      "File successfully downloaded to: ./zenodo_dl/1177761.zip\n",
      "[info] File downloaded: ./zenodo_dl/1177761.zip\n",
      "\n",
      "[info] Paper_idx: 1358, Zenodo id: 1177857\n"
     ]
    },
    {
     "name": "stderr",
     "output_type": "stream",
     "text": [
      "1177857.zip: 1.31MB [00:01, 780kB/s] \n"
     ]
    },
    {
     "name": "stdout",
     "output_type": "stream",
     "text": [
      "\n",
      "File successfully downloaded to: ./zenodo_dl/1177857.zip\n",
      "[info] File downloaded: ./zenodo_dl/1177857.zip\n",
      "\n",
      "[info] Paper_idx: 1359, Zenodo id: 1177721\n"
     ]
    },
    {
     "name": "stderr",
     "output_type": "stream",
     "text": [
      "1177721.zip: 4.71MB [00:03, 1.41MB/s]\n"
     ]
    },
    {
     "name": "stdout",
     "output_type": "stream",
     "text": [
      "\n",
      "File successfully downloaded to: ./zenodo_dl/1177721.zip\n",
      "[info] File downloaded: ./zenodo_dl/1177721.zip\n",
      "\n",
      "[info] Paper_idx: 1360, Zenodo id: 1177763\n"
     ]
    },
    {
     "name": "stderr",
     "output_type": "stream",
     "text": [
      "1177763.zip: 670kB [00:01, 475kB/s]  \n"
     ]
    },
    {
     "name": "stdout",
     "output_type": "stream",
     "text": [
      "\n",
      "File successfully downloaded to: ./zenodo_dl/1177763.zip\n",
      "[info] File downloaded: ./zenodo_dl/1177763.zip\n",
      "\n",
      "[info] Paper_idx: 1361, Zenodo id: 1177843\n"
     ]
    },
    {
     "name": "stderr",
     "output_type": "stream",
     "text": [
      "1177843.zip: 1.19MB [00:01, 708kB/s] \n"
     ]
    },
    {
     "name": "stdout",
     "output_type": "stream",
     "text": [
      "\n",
      "File successfully downloaded to: ./zenodo_dl/1177843.zip\n",
      "[info] File downloaded: ./zenodo_dl/1177843.zip\n",
      "\n",
      "[info] Paper_idx: 1362, Zenodo id: 1177817\n"
     ]
    },
    {
     "name": "stderr",
     "output_type": "stream",
     "text": [
      "1177817.zip: 19.3MB [00:04, 4.61MB/s]\n"
     ]
    },
    {
     "name": "stdout",
     "output_type": "stream",
     "text": [
      "\n",
      "File successfully downloaded to: ./zenodo_dl/1177817.zip\n",
      "[info] File downloaded: ./zenodo_dl/1177817.zip\n",
      "\n",
      "[info] Paper_idx: 1363, Zenodo id: 1177879\n"
     ]
    },
    {
     "name": "stderr",
     "output_type": "stream",
     "text": [
      "1177879.zip: 7.89MB [00:20, 385kB/s] \n"
     ]
    },
    {
     "name": "stdout",
     "output_type": "stream",
     "text": [
      "\n",
      "File successfully downloaded to: ./zenodo_dl/1177879.zip\n",
      "[info] File downloaded: ./zenodo_dl/1177879.zip\n",
      "\n",
      "[info] Paper_idx: 1364, Zenodo id: 1177849\n"
     ]
    },
    {
     "name": "stderr",
     "output_type": "stream",
     "text": [
      "1177849.zip: 4.67MB [00:12, 366kB/s] \n"
     ]
    },
    {
     "name": "stdout",
     "output_type": "stream",
     "text": [
      "\n",
      "File successfully downloaded to: ./zenodo_dl/1177849.zip\n",
      "[info] File downloaded: ./zenodo_dl/1177849.zip\n",
      "\n",
      "[info] Paper_idx: 1365, Zenodo id: 1177781\n"
     ]
    },
    {
     "name": "stderr",
     "output_type": "stream",
     "text": [
      "1177781.zip: 6.24MB [00:16, 375kB/s] \n"
     ]
    },
    {
     "name": "stdout",
     "output_type": "stream",
     "text": [
      "\n",
      "File successfully downloaded to: ./zenodo_dl/1177781.zip\n",
      "[info] File downloaded: ./zenodo_dl/1177781.zip\n",
      "\n",
      "[info] Paper_idx: 1366, Zenodo id: 1177737\n"
     ]
    },
    {
     "name": "stderr",
     "output_type": "stream",
     "text": [
      "1177737.zip: 971kB [00:03, 317kB/s]  \n"
     ]
    },
    {
     "name": "stdout",
     "output_type": "stream",
     "text": [
      "\n",
      "File successfully downloaded to: ./zenodo_dl/1177737.zip\n",
      "[info] File downloaded: ./zenodo_dl/1177737.zip\n",
      "\n",
      "[info] Paper_idx: 1367, Zenodo id: 1177805\n"
     ]
    },
    {
     "name": "stderr",
     "output_type": "stream",
     "text": [
      "1177805.zip: 842kB [00:02, 301kB/s]  \n"
     ]
    },
    {
     "name": "stdout",
     "output_type": "stream",
     "text": [
      "\n",
      "File successfully downloaded to: ./zenodo_dl/1177805.zip\n",
      "[info] File downloaded: ./zenodo_dl/1177805.zip\n",
      "\n",
      "[info] Paper_idx: 1368, Zenodo id: 1177783\n"
     ]
    },
    {
     "name": "stderr",
     "output_type": "stream",
     "text": [
      "1177783.zip: 1.43MB [00:04, 303kB/s] \n"
     ]
    },
    {
     "name": "stdout",
     "output_type": "stream",
     "text": [
      "\n",
      "File successfully downloaded to: ./zenodo_dl/1177783.zip\n",
      "[info] File downloaded: ./zenodo_dl/1177783.zip\n",
      "\n",
      "[info] Paper_idx: 1369, Zenodo id: 1177893\n"
     ]
    },
    {
     "name": "stderr",
     "output_type": "stream",
     "text": [
      "1177893.zip: 4.16MB [00:02, 1.48MB/s]\n"
     ]
    },
    {
     "name": "stdout",
     "output_type": "stream",
     "text": [
      "\n",
      "File successfully downloaded to: ./zenodo_dl/1177893.zip\n",
      "[info] File downloaded: ./zenodo_dl/1177893.zip\n",
      "\n",
      "[info] Paper_idx: 1370, Zenodo id: 1177889\n"
     ]
    },
    {
     "name": "stderr",
     "output_type": "stream",
     "text": [
      "1177889.zip: 5.38MB [00:14, 367kB/s] \n"
     ]
    },
    {
     "name": "stdout",
     "output_type": "stream",
     "text": [
      "\n",
      "File successfully downloaded to: ./zenodo_dl/1177889.zip\n",
      "[info] File downloaded: ./zenodo_dl/1177889.zip\n",
      "\n",
      "[info] Paper_idx: 1371, Zenodo id: 1177923\n"
     ]
    },
    {
     "name": "stderr",
     "output_type": "stream",
     "text": [
      "1177923.zip: 768kB [00:01, 556kB/s]  \n"
     ]
    },
    {
     "name": "stdout",
     "output_type": "stream",
     "text": [
      "\n",
      "File successfully downloaded to: ./zenodo_dl/1177923.zip\n",
      "[info] File downloaded: ./zenodo_dl/1177923.zip\n",
      "\n",
      "[info] Paper_idx: 1372, Zenodo id: 1177869\n"
     ]
    },
    {
     "name": "stderr",
     "output_type": "stream",
     "text": [
      "1177869.zip: 730kB [00:01, 523kB/s]  \n"
     ]
    },
    {
     "name": "stdout",
     "output_type": "stream",
     "text": [
      "\n",
      "File successfully downloaded to: ./zenodo_dl/1177869.zip\n",
      "[info] File downloaded: ./zenodo_dl/1177869.zip\n",
      "\n",
      "[info] Paper_idx: 1373, Zenodo id: 1177715\n"
     ]
    },
    {
     "name": "stderr",
     "output_type": "stream",
     "text": [
      "1177715.zip: 2.95MB [00:07, 393kB/s] \n"
     ]
    },
    {
     "name": "stdout",
     "output_type": "stream",
     "text": [
      "\n",
      "File successfully downloaded to: ./zenodo_dl/1177715.zip\n",
      "[info] File downloaded: ./zenodo_dl/1177715.zip\n",
      "\n",
      "[info] Paper_idx: 1374, Zenodo id: 1177779\n"
     ]
    },
    {
     "name": "stderr",
     "output_type": "stream",
     "text": [
      "1177779.zip: 599kB [00:01, 307kB/s]  \n"
     ]
    },
    {
     "name": "stdout",
     "output_type": "stream",
     "text": [
      "\n",
      "File successfully downloaded to: ./zenodo_dl/1177779.zip\n",
      "[info] File downloaded: ./zenodo_dl/1177779.zip\n",
      "\n",
      "[info] Paper_idx: 1375, Zenodo id: 1177789\n"
     ]
    },
    {
     "name": "stderr",
     "output_type": "stream",
     "text": [
      "1177789.zip: 1.02MB [00:03, 335kB/s] \n"
     ]
    },
    {
     "name": "stdout",
     "output_type": "stream",
     "text": [
      "\n",
      "File successfully downloaded to: ./zenodo_dl/1177789.zip\n",
      "[info] File downloaded: ./zenodo_dl/1177789.zip\n",
      "\n",
      "[info] Paper_idx: 1376, Zenodo id: 1177723\n"
     ]
    },
    {
     "name": "stderr",
     "output_type": "stream",
     "text": [
      "1177723.zip: 8.47MB [00:02, 3.03MB/s]\n"
     ]
    },
    {
     "name": "stdout",
     "output_type": "stream",
     "text": [
      "\n",
      "File successfully downloaded to: ./zenodo_dl/1177723.zip\n",
      "[info] File downloaded: ./zenodo_dl/1177723.zip\n",
      "\n",
      "[info] Paper_idx: 1377, Zenodo id: 1177773\n"
     ]
    },
    {
     "name": "stderr",
     "output_type": "stream",
     "text": [
      "1177773.zip: 4.76MB [00:02, 2.10MB/s]\n"
     ]
    },
    {
     "name": "stdout",
     "output_type": "stream",
     "text": [
      "\n",
      "File successfully downloaded to: ./zenodo_dl/1177773.zip\n",
      "[info] File downloaded: ./zenodo_dl/1177773.zip\n",
      "\n",
      "[info] Paper_idx: 1378, Zenodo id: 1177823\n"
     ]
    },
    {
     "name": "stderr",
     "output_type": "stream",
     "text": [
      "1177823.zip: 5.04MB [00:02, 2.26MB/s]\n"
     ]
    },
    {
     "name": "stdout",
     "output_type": "stream",
     "text": [
      "\n",
      "File successfully downloaded to: ./zenodo_dl/1177823.zip\n",
      "[info] File downloaded: ./zenodo_dl/1177823.zip\n",
      "\n",
      "[info] Paper_idx: 1379, Zenodo id: 1177931\n"
     ]
    },
    {
     "name": "stderr",
     "output_type": "stream",
     "text": [
      "1177931.zip: 12.5MB [00:03, 3.21MB/s]\n"
     ]
    },
    {
     "name": "stdout",
     "output_type": "stream",
     "text": [
      "\n",
      "File successfully downloaded to: ./zenodo_dl/1177931.zip\n",
      "[info] File downloaded: ./zenodo_dl/1177931.zip\n",
      "\n",
      "[info] Paper_idx: 1380, Zenodo id: 1177755\n"
     ]
    },
    {
     "name": "stderr",
     "output_type": "stream",
     "text": [
      "1177755.zip: 2.61MB [00:01, 1.35MB/s]\n"
     ]
    },
    {
     "name": "stdout",
     "output_type": "stream",
     "text": [
      "\n",
      "File successfully downloaded to: ./zenodo_dl/1177755.zip\n",
      "[info] File downloaded: ./zenodo_dl/1177755.zip\n",
      "\n",
      "[info] Paper_idx: 1381, Zenodo id: 1177831\n"
     ]
    },
    {
     "name": "stderr",
     "output_type": "stream",
     "text": [
      "1177831.zip: 5.12MB [00:14, 363kB/s] \n"
     ]
    },
    {
     "name": "stdout",
     "output_type": "stream",
     "text": [
      "\n",
      "File successfully downloaded to: ./zenodo_dl/1177831.zip\n",
      "[info] File downloaded: ./zenodo_dl/1177831.zip\n",
      "\n",
      "[info] Paper_idx: 1382, Zenodo id: 1177807\n"
     ]
    },
    {
     "name": "stderr",
     "output_type": "stream",
     "text": [
      "1177807.zip: 1.56MB [00:04, 333kB/s] \n"
     ]
    },
    {
     "name": "stdout",
     "output_type": "stream",
     "text": [
      "\n",
      "File successfully downloaded to: ./zenodo_dl/1177807.zip\n",
      "[info] File downloaded: ./zenodo_dl/1177807.zip\n",
      "\n",
      "[info] Paper_idx: 1383, Zenodo id: 1177901\n"
     ]
    },
    {
     "name": "stderr",
     "output_type": "stream",
     "text": [
      "1177901.zip: 670kB [00:01, 481kB/s]  \n"
     ]
    },
    {
     "name": "stdout",
     "output_type": "stream",
     "text": [
      "\n",
      "File successfully downloaded to: ./zenodo_dl/1177901.zip\n",
      "[info] File downloaded: ./zenodo_dl/1177901.zip\n",
      "\n",
      "[info] Paper_idx: 1384, Zenodo id: 1177717\n"
     ]
    },
    {
     "name": "stderr",
     "output_type": "stream",
     "text": [
      "1177717.zip: 707kB [00:01, 497kB/s]  \n"
     ]
    },
    {
     "name": "stdout",
     "output_type": "stream",
     "text": [
      "\n",
      "File successfully downloaded to: ./zenodo_dl/1177717.zip\n",
      "[info] File downloaded: ./zenodo_dl/1177717.zip\n",
      "\n",
      "[info] Paper_idx: 1385, Zenodo id: 1177867\n"
     ]
    },
    {
     "name": "stderr",
     "output_type": "stream",
     "text": [
      "1177867.zip: 1.44MB [00:04, 347kB/s] \n"
     ]
    },
    {
     "name": "stdout",
     "output_type": "stream",
     "text": [
      "\n",
      "File successfully downloaded to: ./zenodo_dl/1177867.zip\n",
      "[info] File downloaded: ./zenodo_dl/1177867.zip\n",
      "\n",
      "[info] Paper_idx: 1386, Zenodo id: 1177877\n"
     ]
    },
    {
     "name": "stderr",
     "output_type": "stream",
     "text": [
      "1177877.zip: 3.41MB [00:08, 384kB/s] \n"
     ]
    },
    {
     "name": "stdout",
     "output_type": "stream",
     "text": [
      "\n",
      "File successfully downloaded to: ./zenodo_dl/1177877.zip\n",
      "[info] File downloaded: ./zenodo_dl/1177877.zip\n",
      "\n",
      "[info] Paper_idx: 1387, Zenodo id: 1177791\n"
     ]
    },
    {
     "name": "stderr",
     "output_type": "stream",
     "text": [
      "1177791.zip: 822kB [00:02, 294kB/s]  \n"
     ]
    },
    {
     "name": "stdout",
     "output_type": "stream",
     "text": [
      "\n",
      "File successfully downloaded to: ./zenodo_dl/1177791.zip\n",
      "[info] File downloaded: ./zenodo_dl/1177791.zip\n",
      "\n",
      "[info] Paper_idx: 1388, Zenodo id: 1177803\n"
     ]
    },
    {
     "name": "stderr",
     "output_type": "stream",
     "text": [
      "1177803.zip: 648kB [00:02, 316kB/s]  \n"
     ]
    },
    {
     "name": "stdout",
     "output_type": "stream",
     "text": [
      "\n",
      "File successfully downloaded to: ./zenodo_dl/1177803.zip\n",
      "[info] File downloaded: ./zenodo_dl/1177803.zip\n",
      "\n",
      "[info] Paper_idx: 1389, Zenodo id: 1177769\n"
     ]
    },
    {
     "name": "stderr",
     "output_type": "stream",
     "text": [
      "1177769.zip: 9.78MB [00:06, 1.61MB/s]\n"
     ]
    },
    {
     "name": "stdout",
     "output_type": "stream",
     "text": [
      "\n",
      "File successfully downloaded to: ./zenodo_dl/1177769.zip\n",
      "[info] File downloaded: ./zenodo_dl/1177769.zip\n",
      "\n",
      "[info] Paper_idx: 1390, Zenodo id: 1177921\n"
     ]
    },
    {
     "name": "stderr",
     "output_type": "stream",
     "text": [
      "1177921.zip: 3.35MB [00:09, 366kB/s] \n"
     ]
    },
    {
     "name": "stdout",
     "output_type": "stream",
     "text": [
      "\n",
      "File successfully downloaded to: ./zenodo_dl/1177921.zip\n",
      "[info] File downloaded: ./zenodo_dl/1177921.zip\n",
      "\n",
      "[info] Paper_idx: 1391, Zenodo id: 1177819\n"
     ]
    },
    {
     "name": "stderr",
     "output_type": "stream",
     "text": [
      "1177819.zip: 5.02MB [00:02, 2.20MB/s]\n"
     ]
    },
    {
     "name": "stdout",
     "output_type": "stream",
     "text": [
      "\n",
      "File successfully downloaded to: ./zenodo_dl/1177819.zip\n",
      "[info] File downloaded: ./zenodo_dl/1177819.zip\n",
      "\n",
      "[info] Paper_idx: 1392, Zenodo id: 1177839\n"
     ]
    },
    {
     "name": "stderr",
     "output_type": "stream",
     "text": [
      "1177839.zip: 2.52MB [00:01, 1.29MB/s]\n"
     ]
    },
    {
     "name": "stdout",
     "output_type": "stream",
     "text": [
      "\n",
      "File successfully downloaded to: ./zenodo_dl/1177839.zip\n",
      "[info] File downloaded: ./zenodo_dl/1177839.zip\n",
      "\n",
      "[info] Paper_idx: 1393, Zenodo id: 1177777\n"
     ]
    },
    {
     "name": "stderr",
     "output_type": "stream",
     "text": [
      "1177777.zip: 2.07MB [00:01, 1.20MB/s]\n"
     ]
    },
    {
     "name": "stdout",
     "output_type": "stream",
     "text": [
      "\n",
      "File successfully downloaded to: ./zenodo_dl/1177777.zip\n",
      "[info] File downloaded: ./zenodo_dl/1177777.zip\n",
      "\n",
      "[info] Paper_idx: 1394, Zenodo id: 1177841\n"
     ]
    },
    {
     "name": "stderr",
     "output_type": "stream",
     "text": [
      "1177841.zip: 1.39MB [00:04, 313kB/s] \n"
     ]
    },
    {
     "name": "stdout",
     "output_type": "stream",
     "text": [
      "\n",
      "File successfully downloaded to: ./zenodo_dl/1177841.zip\n",
      "[info] File downloaded: ./zenodo_dl/1177841.zip\n",
      "\n",
      "[info] Paper_idx: 1395, Zenodo id: 1177911\n"
     ]
    },
    {
     "name": "stderr",
     "output_type": "stream",
     "text": [
      "1177911.zip: 850kB [00:02, 305kB/s]  \n"
     ]
    },
    {
     "name": "stdout",
     "output_type": "stream",
     "text": [
      "\n",
      "File successfully downloaded to: ./zenodo_dl/1177911.zip\n",
      "[info] File downloaded: ./zenodo_dl/1177911.zip\n",
      "\n",
      "[info] Paper_idx: 1396, Zenodo id: 1177815\n"
     ]
    },
    {
     "name": "stderr",
     "output_type": "stream",
     "text": [
      "1177815.zip: 1.39MB [00:01, 825kB/s] \n"
     ]
    },
    {
     "name": "stdout",
     "output_type": "stream",
     "text": [
      "\n",
      "File successfully downloaded to: ./zenodo_dl/1177815.zip\n",
      "[info] File downloaded: ./zenodo_dl/1177815.zip\n",
      "\n",
      "[info] Paper_idx: 1397, Zenodo id: 1177909\n"
     ]
    },
    {
     "name": "stderr",
     "output_type": "stream",
     "text": [
      "1177909.zip: 4.90MB [00:13, 368kB/s] \n"
     ]
    },
    {
     "name": "stdout",
     "output_type": "stream",
     "text": [
      "\n",
      "File successfully downloaded to: ./zenodo_dl/1177909.zip\n",
      "[info] File downloaded: ./zenodo_dl/1177909.zip\n",
      "\n",
      "[info] Paper_idx: 1398, Zenodo id: 1177765\n"
     ]
    },
    {
     "name": "stderr",
     "output_type": "stream",
     "text": [
      "1177765.zip: 732kB [00:01, 526kB/s]  \n"
     ]
    },
    {
     "name": "stdout",
     "output_type": "stream",
     "text": [
      "\n",
      "File successfully downloaded to: ./zenodo_dl/1177765.zip\n",
      "[info] File downloaded: ./zenodo_dl/1177765.zip\n",
      "\n",
      "[info] Paper_idx: 1399, Zenodo id: 1177859\n"
     ]
    },
    {
     "name": "stderr",
     "output_type": "stream",
     "text": [
      "1177859.zip: 10.9MB [00:02, 3.88MB/s]\n"
     ]
    },
    {
     "name": "stdout",
     "output_type": "stream",
     "text": [
      "\n",
      "File successfully downloaded to: ./zenodo_dl/1177859.zip\n",
      "[info] File downloaded: ./zenodo_dl/1177859.zip\n",
      "\n",
      "[info] Paper_idx: 1400, Zenodo id: 1177809\n"
     ]
    },
    {
     "name": "stderr",
     "output_type": "stream",
     "text": [
      "1177809.zip: 712kB [00:02, 287kB/s]  \n"
     ]
    },
    {
     "name": "stdout",
     "output_type": "stream",
     "text": [
      "\n",
      "File successfully downloaded to: ./zenodo_dl/1177809.zip\n",
      "[info] File downloaded: ./zenodo_dl/1177809.zip\n",
      "\n",
      "[info] Paper_idx: 1401, Zenodo id: 1177865\n"
     ]
    },
    {
     "name": "stderr",
     "output_type": "stream",
     "text": [
      "1177865.zip: 4.26MB [00:02, 1.88MB/s]\n"
     ]
    },
    {
     "name": "stdout",
     "output_type": "stream",
     "text": [
      "\n",
      "File successfully downloaded to: ./zenodo_dl/1177865.zip\n",
      "[info] File downloaded: ./zenodo_dl/1177865.zip\n",
      "\n",
      "[info] Paper_idx: 1402, Zenodo id: 1177813\n"
     ]
    },
    {
     "name": "stderr",
     "output_type": "stream",
     "text": [
      "1177813.zip: 1.60MB [00:01, 954kB/s] \n"
     ]
    },
    {
     "name": "stdout",
     "output_type": "stream",
     "text": [
      "\n",
      "File successfully downloaded to: ./zenodo_dl/1177813.zip\n",
      "[info] File downloaded: ./zenodo_dl/1177813.zip\n",
      "\n",
      "[info] Paper_idx: 1403, Zenodo id: 1177887\n"
     ]
    },
    {
     "name": "stderr",
     "output_type": "stream",
     "text": [
      "1177887.zip: 1.61MB [00:04, 362kB/s] \n"
     ]
    },
    {
     "name": "stdout",
     "output_type": "stream",
     "text": [
      "\n",
      "File successfully downloaded to: ./zenodo_dl/1177887.zip\n",
      "[info] File downloaded: ./zenodo_dl/1177887.zip\n",
      "\n",
      "[info] Paper_idx: 1404, Zenodo id: 1177915\n"
     ]
    },
    {
     "name": "stderr",
     "output_type": "stream",
     "text": [
      "1177915.zip: 781kB [00:01, 467kB/s]  \n"
     ]
    },
    {
     "name": "stdout",
     "output_type": "stream",
     "text": [
      "\n",
      "File successfully downloaded to: ./zenodo_dl/1177915.zip\n",
      "[info] File downloaded: ./zenodo_dl/1177915.zip\n",
      "\n",
      "[info] Paper_idx: 1405, Zenodo id: 1177727\n"
     ]
    },
    {
     "name": "stderr",
     "output_type": "stream",
     "text": [
      "1177727.zip: 1.99MB [00:01, 1.17MB/s]\n"
     ]
    },
    {
     "name": "stdout",
     "output_type": "stream",
     "text": [
      "\n",
      "File successfully downloaded to: ./zenodo_dl/1177727.zip\n",
      "[info] File downloaded: ./zenodo_dl/1177727.zip\n",
      "\n",
      "[info] Paper_idx: 1406, Zenodo id: 1177895\n"
     ]
    },
    {
     "name": "stderr",
     "output_type": "stream",
     "text": [
      "1177895.zip: 604kB [00:01, 421kB/s]  \n"
     ]
    },
    {
     "name": "stdout",
     "output_type": "stream",
     "text": [
      "\n",
      "File successfully downloaded to: ./zenodo_dl/1177895.zip\n",
      "[info] File downloaded: ./zenodo_dl/1177895.zip\n",
      "\n",
      "[info] Paper_idx: 1407, Zenodo id: 1177729\n"
     ]
    },
    {
     "name": "stderr",
     "output_type": "stream",
     "text": [
      "1177729.zip: 630kB [00:01, 449kB/s]  \n"
     ]
    },
    {
     "name": "stdout",
     "output_type": "stream",
     "text": [
      "\n",
      "File successfully downloaded to: ./zenodo_dl/1177729.zip\n",
      "[info] File downloaded: ./zenodo_dl/1177729.zip\n",
      "\n",
      "[info] Paper_idx: 1408, Zenodo id: 1177881\n"
     ]
    },
    {
     "name": "stderr",
     "output_type": "stream",
     "text": [
      "1177881.zip: 851kB [00:02, 307kB/s]  \n"
     ]
    },
    {
     "name": "stdout",
     "output_type": "stream",
     "text": [
      "\n",
      "File successfully downloaded to: ./zenodo_dl/1177881.zip\n",
      "[info] File downloaded: ./zenodo_dl/1177881.zip\n",
      "\n",
      "[info] Paper_idx: 1409, Zenodo id: 1177719\n"
     ]
    },
    {
     "name": "stderr",
     "output_type": "stream",
     "text": [
      "1177719.zip: 8.21MB [00:03, 2.67MB/s]\n"
     ]
    },
    {
     "name": "stdout",
     "output_type": "stream",
     "text": [
      "\n",
      "File successfully downloaded to: ./zenodo_dl/1177719.zip\n",
      "[info] File downloaded: ./zenodo_dl/1177719.zip\n",
      "\n",
      "[info] Paper_idx: 1410, Zenodo id: 1177801\n"
     ]
    },
    {
     "name": "stderr",
     "output_type": "stream",
     "text": [
      "1177801.zip: 616kB [00:02, 276kB/s]  \n"
     ]
    },
    {
     "name": "stdout",
     "output_type": "stream",
     "text": [
      "\n",
      "File successfully downloaded to: ./zenodo_dl/1177801.zip\n",
      "[info] File downloaded: ./zenodo_dl/1177801.zip\n",
      "\n",
      "[info] Paper_idx: 1411, Zenodo id: 1177899\n"
     ]
    },
    {
     "name": "stderr",
     "output_type": "stream",
     "text": [
      "1177899.zip: 9.29MB [00:02, 3.33MB/s]\n"
     ]
    },
    {
     "name": "stdout",
     "output_type": "stream",
     "text": [
      "\n",
      "File successfully downloaded to: ./zenodo_dl/1177899.zip\n",
      "[info] File downloaded: ./zenodo_dl/1177899.zip\n",
      "\n",
      "[info] Paper_idx: 1412, Zenodo id: 1177885\n"
     ]
    },
    {
     "name": "stderr",
     "output_type": "stream",
     "text": [
      "1177885.zip: 845kB [00:03, 277kB/s]  \n"
     ]
    },
    {
     "name": "stdout",
     "output_type": "stream",
     "text": [
      "\n",
      "File successfully downloaded to: ./zenodo_dl/1177885.zip\n",
      "[info] File downloaded: ./zenodo_dl/1177885.zip\n",
      "\n",
      "[info] Paper_idx: 1413, Zenodo id: 1177873\n"
     ]
    },
    {
     "name": "stderr",
     "output_type": "stream",
     "text": [
      "1177873.zip: 7.20MB [00:02, 2.56MB/s]\n"
     ]
    },
    {
     "name": "stdout",
     "output_type": "stream",
     "text": [
      "\n",
      "File successfully downloaded to: ./zenodo_dl/1177873.zip\n",
      "[info] File downloaded: ./zenodo_dl/1177873.zip\n",
      "\n",
      "[info] Paper_idx: 1414, Zenodo id: 1177905\n"
     ]
    },
    {
     "name": "stderr",
     "output_type": "stream",
     "text": [
      "1177905.zip: 1.39MB [00:01, 829kB/s] \n"
     ]
    },
    {
     "name": "stdout",
     "output_type": "stream",
     "text": [
      "\n",
      "File successfully downloaded to: ./zenodo_dl/1177905.zip\n",
      "[info] File downloaded: ./zenodo_dl/1177905.zip\n",
      "\n",
      "[info] Paper_idx: 1415, Zenodo id: 1177825\n"
     ]
    },
    {
     "name": "stderr",
     "output_type": "stream",
     "text": [
      "1177825.zip: 3.28MB [00:08, 370kB/s] \n"
     ]
    },
    {
     "name": "stdout",
     "output_type": "stream",
     "text": [
      "\n",
      "File successfully downloaded to: ./zenodo_dl/1177825.zip\n",
      "[info] File downloaded: ./zenodo_dl/1177825.zip\n",
      "\n",
      "[info] Paper_idx: 1416, Zenodo id: 1177913\n"
     ]
    },
    {
     "name": "stderr",
     "output_type": "stream",
     "text": [
      "1177913.zip: 631kB [00:01, 451kB/s]  \n"
     ]
    },
    {
     "name": "stdout",
     "output_type": "stream",
     "text": [
      "\n",
      "File successfully downloaded to: ./zenodo_dl/1177913.zip\n",
      "[info] File downloaded: ./zenodo_dl/1177913.zip\n",
      "\n",
      "[info] Paper_idx: 1417, Zenodo id: 1177775\n"
     ]
    },
    {
     "name": "stderr",
     "output_type": "stream",
     "text": [
      "1177775.zip: 1.29MB [00:01, 775kB/s] \n"
     ]
    },
    {
     "name": "stdout",
     "output_type": "stream",
     "text": [
      "\n",
      "File successfully downloaded to: ./zenodo_dl/1177775.zip\n",
      "[info] File downloaded: ./zenodo_dl/1177775.zip\n",
      "\n",
      "[info] Paper_idx: 1418, Zenodo id: 1177749\n"
     ]
    },
    {
     "name": "stderr",
     "output_type": "stream",
     "text": [
      "1177749.zip: 737kB [00:01, 527kB/s]  \n"
     ]
    },
    {
     "name": "stdout",
     "output_type": "stream",
     "text": [
      "\n",
      "File successfully downloaded to: ./zenodo_dl/1177749.zip\n",
      "[info] File downloaded: ./zenodo_dl/1177749.zip\n",
      "\n",
      "[info] Paper_idx: 1419, Zenodo id: 1177863\n"
     ]
    },
    {
     "name": "stderr",
     "output_type": "stream",
     "text": [
      "1177863.zip: 1.29MB [00:01, 660kB/s] \n"
     ]
    },
    {
     "name": "stdout",
     "output_type": "stream",
     "text": [
      "\n",
      "File successfully downloaded to: ./zenodo_dl/1177863.zip\n",
      "[info] File downloaded: ./zenodo_dl/1177863.zip\n",
      "\n",
      "[info] Paper_idx: 1420, Zenodo id: 1177907\n"
     ]
    },
    {
     "name": "stderr",
     "output_type": "stream",
     "text": [
      "1177907.zip: 1.23MB [00:01, 740kB/s] \n"
     ]
    },
    {
     "name": "stdout",
     "output_type": "stream",
     "text": [
      "\n",
      "File successfully downloaded to: ./zenodo_dl/1177907.zip\n",
      "[info] File downloaded: ./zenodo_dl/1177907.zip\n",
      "\n",
      "[info] Paper_idx: 1421, Zenodo id: 1177757\n"
     ]
    },
    {
     "name": "stderr",
     "output_type": "stream",
     "text": [
      "1177757.zip: 592kB [00:02, 267kB/s]  \n"
     ]
    },
    {
     "name": "stdout",
     "output_type": "stream",
     "text": [
      "\n",
      "File successfully downloaded to: ./zenodo_dl/1177757.zip\n",
      "[info] File downloaded: ./zenodo_dl/1177757.zip\n",
      "\n",
      "[info] Paper_idx: 1422, Zenodo id: 1177827\n"
     ]
    },
    {
     "name": "stderr",
     "output_type": "stream",
     "text": [
      "1177827.zip: 1.34MB [00:04, 321kB/s] \n"
     ]
    },
    {
     "name": "stdout",
     "output_type": "stream",
     "text": [
      "\n",
      "File successfully downloaded to: ./zenodo_dl/1177827.zip\n",
      "[info] File downloaded: ./zenodo_dl/1177827.zip\n",
      "\n",
      "[info] Paper_idx: 1423, Zenodo id: 1177771\n"
     ]
    },
    {
     "name": "stderr",
     "output_type": "stream",
     "text": [
      "1177771.zip: 1.17MB [00:02, 419kB/s] \n"
     ]
    },
    {
     "name": "stdout",
     "output_type": "stream",
     "text": [
      "\n",
      "File successfully downloaded to: ./zenodo_dl/1177771.zip\n",
      "[info] File downloaded: ./zenodo_dl/1177771.zip\n",
      "\n",
      "[info] Paper_idx: 1424, Zenodo id: 1177835\n"
     ]
    },
    {
     "name": "stderr",
     "output_type": "stream",
     "text": [
      "1177835.zip: 2.42MB [00:02, 1.04MB/s]\n"
     ]
    },
    {
     "name": "stdout",
     "output_type": "stream",
     "text": [
      "\n",
      "File successfully downloaded to: ./zenodo_dl/1177835.zip\n",
      "[info] File downloaded: ./zenodo_dl/1177835.zip\n",
      "\n",
      "[info] Paper_idx: 1425, Zenodo id: 1177847\n"
     ]
    },
    {
     "name": "stderr",
     "output_type": "stream",
     "text": [
      "1177847.zip: 729kB [00:01, 436kB/s]  \n"
     ]
    },
    {
     "name": "stdout",
     "output_type": "stream",
     "text": [
      "\n",
      "File successfully downloaded to: ./zenodo_dl/1177847.zip\n",
      "[info] File downloaded: ./zenodo_dl/1177847.zip\n",
      "\n",
      "[info] Paper_idx: 1426, Zenodo id: 1177767\n"
     ]
    },
    {
     "name": "stderr",
     "output_type": "stream",
     "text": [
      "1177767.zip: 700kB [00:02, 251kB/s]  \n"
     ]
    },
    {
     "name": "stdout",
     "output_type": "stream",
     "text": [
      "\n",
      "File successfully downloaded to: ./zenodo_dl/1177767.zip\n",
      "[info] File downloaded: ./zenodo_dl/1177767.zip\n",
      "\n",
      "[info] Paper_idx: 1427, Zenodo id: 1177711\n"
     ]
    },
    {
     "name": "stderr",
     "output_type": "stream",
     "text": [
      "1177711.zip: 533kB [00:01, 323kB/s]  \n"
     ]
    },
    {
     "name": "stdout",
     "output_type": "stream",
     "text": [
      "\n",
      "File successfully downloaded to: ./zenodo_dl/1177711.zip\n",
      "[info] File downloaded: ./zenodo_dl/1177711.zip\n",
      "\n",
      "[info] Paper_idx: 1428, Zenodo id: 1177793\n"
     ]
    },
    {
     "name": "stderr",
     "output_type": "stream",
     "text": [
      "1177793.zip: 4.88MB [00:02, 1.80MB/s]\n"
     ]
    },
    {
     "name": "stdout",
     "output_type": "stream",
     "text": [
      "\n",
      "File successfully downloaded to: ./zenodo_dl/1177793.zip\n",
      "[info] File downloaded: ./zenodo_dl/1177793.zip\n",
      "\n",
      "[info] Paper_idx: 1429, Zenodo id: 1177733\n"
     ]
    },
    {
     "name": "stderr",
     "output_type": "stream",
     "text": [
      "1177733.zip: 1.12MB [00:01, 680kB/s] \n"
     ]
    },
    {
     "name": "stdout",
     "output_type": "stream",
     "text": [
      "\n",
      "File successfully downloaded to: ./zenodo_dl/1177733.zip\n",
      "[info] File downloaded: ./zenodo_dl/1177733.zip\n",
      "\n",
      "[info] Paper_idx: 1430, Zenodo id: 1177853\n"
     ]
    },
    {
     "name": "stderr",
     "output_type": "stream",
     "text": [
      "1177853.zip: 1.65MB [00:01, 978kB/s] \n"
     ]
    },
    {
     "name": "stdout",
     "output_type": "stream",
     "text": [
      "\n",
      "File successfully downloaded to: ./zenodo_dl/1177853.zip\n",
      "[info] File downloaded: ./zenodo_dl/1177853.zip\n",
      "\n",
      "[info] Paper_idx: 1431, Zenodo id: 1177851\n"
     ]
    },
    {
     "name": "stderr",
     "output_type": "stream",
     "text": [
      "1177851.zip: 865kB [00:01, 619kB/s]  \n"
     ]
    },
    {
     "name": "stdout",
     "output_type": "stream",
     "text": [
      "\n",
      "File successfully downloaded to: ./zenodo_dl/1177851.zip\n",
      "[info] File downloaded: ./zenodo_dl/1177851.zip\n",
      "\n",
      "[info] Paper_idx: 1432, Zenodo id: 1177491\n"
     ]
    },
    {
     "name": "stderr",
     "output_type": "stream",
     "text": [
      "1177491.zip: 372kB [00:01, 331kB/s]  \n"
     ]
    },
    {
     "name": "stdout",
     "output_type": "stream",
     "text": [
      "\n",
      "File successfully downloaded to: ./zenodo_dl/1177491.zip\n",
      "[info] File downloaded: ./zenodo_dl/1177491.zip\n",
      "\n",
      "[info] Paper_idx: 1433, Zenodo id: 1177567\n"
     ]
    },
    {
     "name": "stderr",
     "output_type": "stream",
     "text": [
      "1177567.zip: 548kB [00:01, 386kB/s]  \n"
     ]
    },
    {
     "name": "stdout",
     "output_type": "stream",
     "text": [
      "\n",
      "File successfully downloaded to: ./zenodo_dl/1177567.zip\n",
      "[info] File downloaded: ./zenodo_dl/1177567.zip\n",
      "\n",
      "[info] Paper_idx: 1434, Zenodo id: 1177549\n"
     ]
    },
    {
     "name": "stderr",
     "output_type": "stream",
     "text": [
      "1177549.zip: 2.08MB [00:01, 1.25MB/s]\n"
     ]
    },
    {
     "name": "stdout",
     "output_type": "stream",
     "text": [
      "\n",
      "File successfully downloaded to: ./zenodo_dl/1177549.zip\n",
      "[info] File downloaded: ./zenodo_dl/1177549.zip\n",
      "\n",
      "[info] Paper_idx: 1435, Zenodo id: 1177657\n"
     ]
    },
    {
     "name": "stderr",
     "output_type": "stream",
     "text": [
      "1177657.zip: 112kB [00:00, 186kB/s]  \n"
     ]
    },
    {
     "name": "stdout",
     "output_type": "stream",
     "text": [
      "\n",
      "File successfully downloaded to: ./zenodo_dl/1177657.zip\n",
      "[info] File downloaded: ./zenodo_dl/1177657.zip\n",
      "\n",
      "[info] Paper_idx: 1436, Zenodo id: 1177579\n"
     ]
    },
    {
     "name": "stderr",
     "output_type": "stream",
     "text": [
      "1177579.zip: 185kB [00:00, 219kB/s]  \n"
     ]
    },
    {
     "name": "stdout",
     "output_type": "stream",
     "text": [
      "\n",
      "File successfully downloaded to: ./zenodo_dl/1177579.zip\n",
      "[info] File downloaded: ./zenodo_dl/1177579.zip\n",
      "\n",
      "[info] Paper_idx: 1437, Zenodo id: 1177683\n"
     ]
    },
    {
     "name": "stderr",
     "output_type": "stream",
     "text": [
      "1177683.zip: 149kB [00:00, 175kB/s]  \n"
     ]
    },
    {
     "name": "stdout",
     "output_type": "stream",
     "text": [
      "\n",
      "File successfully downloaded to: ./zenodo_dl/1177683.zip\n",
      "[info] File downloaded: ./zenodo_dl/1177683.zip\n",
      "\n",
      "[info] Paper_idx: 1438, Zenodo id: 1177581\n"
     ]
    },
    {
     "name": "stderr",
     "output_type": "stream",
     "text": [
      "1177581.zip: 194kB [00:00, 229kB/s]  \n"
     ]
    },
    {
     "name": "stdout",
     "output_type": "stream",
     "text": [
      "\n",
      "File successfully downloaded to: ./zenodo_dl/1177581.zip\n",
      "[info] File downloaded: ./zenodo_dl/1177581.zip\n",
      "\n",
      "[info] Paper_idx: 1439, Zenodo id: 1177623\n"
     ]
    },
    {
     "name": "stderr",
     "output_type": "stream",
     "text": [
      "1177623.zip: 1.35MB [00:01, 810kB/s] \n"
     ]
    },
    {
     "name": "stdout",
     "output_type": "stream",
     "text": [
      "\n",
      "File successfully downloaded to: ./zenodo_dl/1177623.zip\n",
      "[info] File downloaded: ./zenodo_dl/1177623.zip\n",
      "\n",
      "[info] Paper_idx: 1440, Zenodo id: 1177511\n"
     ]
    },
    {
     "name": "stderr",
     "output_type": "stream",
     "text": [
      "1177511.zip: 668kB [00:01, 478kB/s]  \n"
     ]
    },
    {
     "name": "stdout",
     "output_type": "stream",
     "text": [
      "\n",
      "File successfully downloaded to: ./zenodo_dl/1177511.zip\n",
      "[info] File downloaded: ./zenodo_dl/1177511.zip\n",
      "\n",
      "[info] Paper_idx: 1441, Zenodo id: 1177663\n"
     ]
    },
    {
     "name": "stderr",
     "output_type": "stream",
     "text": [
      "1177663.zip: 156kB [00:00, 183kB/s]  \n"
     ]
    },
    {
     "name": "stdout",
     "output_type": "stream",
     "text": [
      "\n",
      "File successfully downloaded to: ./zenodo_dl/1177663.zip\n",
      "[info] File downloaded: ./zenodo_dl/1177663.zip\n",
      "\n",
      "[info] Paper_idx: 1442, Zenodo id: 1177609\n"
     ]
    },
    {
     "name": "stderr",
     "output_type": "stream",
     "text": [
      "1177609.zip: 801kB [00:01, 568kB/s]  \n"
     ]
    },
    {
     "name": "stdout",
     "output_type": "stream",
     "text": [
      "\n",
      "File successfully downloaded to: ./zenodo_dl/1177609.zip\n",
      "[info] File downloaded: ./zenodo_dl/1177609.zip\n",
      "\n",
      "[info] Paper_idx: 1443, Zenodo id: 1177627\n"
     ]
    },
    {
     "name": "stderr",
     "output_type": "stream",
     "text": [
      "1177627.zip: 241kB [00:01, 232kB/s]  \n"
     ]
    },
    {
     "name": "stdout",
     "output_type": "stream",
     "text": [
      "\n",
      "File successfully downloaded to: ./zenodo_dl/1177627.zip\n",
      "[info] File downloaded: ./zenodo_dl/1177627.zip\n",
      "\n",
      "[info] Paper_idx: 1444, Zenodo id: 1177709\n"
     ]
    },
    {
     "name": "stderr",
     "output_type": "stream",
     "text": [
      "1177709.zip: 873kB [00:01, 628kB/s]  \n"
     ]
    },
    {
     "name": "stdout",
     "output_type": "stream",
     "text": [
      "\n",
      "File successfully downloaded to: ./zenodo_dl/1177709.zip\n",
      "[info] File downloaded: ./zenodo_dl/1177709.zip\n",
      "\n",
      "[info] Paper_idx: 1445, Zenodo id: 1177595\n"
     ]
    },
    {
     "name": "stderr",
     "output_type": "stream",
     "text": [
      "1177595.zip: 1.27MB [00:01, 760kB/s] \n"
     ]
    },
    {
     "name": "stdout",
     "output_type": "stream",
     "text": [
      "\n",
      "File successfully downloaded to: ./zenodo_dl/1177595.zip\n",
      "[info] File downloaded: ./zenodo_dl/1177595.zip\n",
      "\n",
      "[info] Paper_idx: 1446, Zenodo id: 1177559\n"
     ]
    },
    {
     "name": "stderr",
     "output_type": "stream",
     "text": [
      "1177559.zip: 595kB [00:01, 424kB/s]  \n"
     ]
    },
    {
     "name": "stdout",
     "output_type": "stream",
     "text": [
      "\n",
      "File successfully downloaded to: ./zenodo_dl/1177559.zip\n",
      "[info] File downloaded: ./zenodo_dl/1177559.zip\n",
      "\n",
      "[info] Paper_idx: 1447, Zenodo id: 1177647\n"
     ]
    },
    {
     "name": "stderr",
     "output_type": "stream",
     "text": [
      "1177647.zip: 305kB [00:01, 273kB/s]  \n"
     ]
    },
    {
     "name": "stdout",
     "output_type": "stream",
     "text": [
      "\n",
      "File successfully downloaded to: ./zenodo_dl/1177647.zip\n",
      "[info] File downloaded: ./zenodo_dl/1177647.zip\n",
      "\n",
      "[info] Paper_idx: 1448, Zenodo id: 1177693\n"
     ]
    },
    {
     "name": "stderr",
     "output_type": "stream",
     "text": [
      "1177693.zip: 497kB [00:01, 427kB/s]  \n"
     ]
    },
    {
     "name": "stdout",
     "output_type": "stream",
     "text": [
      "\n",
      "File successfully downloaded to: ./zenodo_dl/1177693.zip\n",
      "[info] File downloaded: ./zenodo_dl/1177693.zip\n",
      "\n",
      "[info] Paper_idx: 1449, Zenodo id: 1177599\n"
     ]
    },
    {
     "name": "stderr",
     "output_type": "stream",
     "text": [
      "1177599.zip: 206kB [00:00, 245kB/s]  \n"
     ]
    },
    {
     "name": "stdout",
     "output_type": "stream",
     "text": [
      "\n",
      "File successfully downloaded to: ./zenodo_dl/1177599.zip\n",
      "[info] File downloaded: ./zenodo_dl/1177599.zip\n",
      "\n",
      "[info] Paper_idx: 1450, Zenodo id: 1177497\n"
     ]
    },
    {
     "name": "stderr",
     "output_type": "stream",
     "text": [
      "1177497.zip: 3.49MB [00:02, 1.56MB/s]\n"
     ]
    },
    {
     "name": "stdout",
     "output_type": "stream",
     "text": [
      "\n",
      "File successfully downloaded to: ./zenodo_dl/1177497.zip\n",
      "[info] File downloaded: ./zenodo_dl/1177497.zip\n",
      "\n",
      "[info] Paper_idx: 1451, Zenodo id: 1177547\n"
     ]
    },
    {
     "name": "stderr",
     "output_type": "stream",
     "text": [
      "1177547.zip: 593kB [00:01, 426kB/s]  \n"
     ]
    },
    {
     "name": "stdout",
     "output_type": "stream",
     "text": [
      "\n",
      "File successfully downloaded to: ./zenodo_dl/1177547.zip\n",
      "[info] File downloaded: ./zenodo_dl/1177547.zip\n",
      "\n",
      "[info] Paper_idx: 1452, Zenodo id: 1177551\n"
     ]
    },
    {
     "name": "stderr",
     "output_type": "stream",
     "text": [
      "1177551.zip: 293kB [00:01, 261kB/s]  \n"
     ]
    },
    {
     "name": "stdout",
     "output_type": "stream",
     "text": [
      "\n",
      "File successfully downloaded to: ./zenodo_dl/1177551.zip\n",
      "[info] File downloaded: ./zenodo_dl/1177551.zip\n",
      "\n",
      "[info] Paper_idx: 1453, Zenodo id: 1177643\n"
     ]
    },
    {
     "name": "stderr",
     "output_type": "stream",
     "text": [
      "1177643.zip: 243kB [00:01, 221kB/s]  \n"
     ]
    },
    {
     "name": "stdout",
     "output_type": "stream",
     "text": [
      "\n",
      "File successfully downloaded to: ./zenodo_dl/1177643.zip\n",
      "[info] File downloaded: ./zenodo_dl/1177643.zip\n",
      "\n",
      "[info] Paper_idx: 1454, Zenodo id: 1177681\n"
     ]
    },
    {
     "name": "stderr",
     "output_type": "stream",
     "text": [
      "1177681.zip: 793kB [00:01, 570kB/s]  \n"
     ]
    },
    {
     "name": "stdout",
     "output_type": "stream",
     "text": [
      "\n",
      "File successfully downloaded to: ./zenodo_dl/1177681.zip\n",
      "[info] File downloaded: ./zenodo_dl/1177681.zip\n",
      "\n",
      "[info] Paper_idx: 1455, Zenodo id: 1177705\n"
     ]
    },
    {
     "name": "stderr",
     "output_type": "stream",
     "text": [
      "1177705.zip: 252kB [00:01, 226kB/s]  \n"
     ]
    },
    {
     "name": "stdout",
     "output_type": "stream",
     "text": [
      "\n",
      "File successfully downloaded to: ./zenodo_dl/1177705.zip\n",
      "[info] File downloaded: ./zenodo_dl/1177705.zip\n",
      "\n",
      "[info] Paper_idx: 1456, Zenodo id: 1177555\n"
     ]
    },
    {
     "name": "stderr",
     "output_type": "stream",
     "text": [
      "1177555.zip: 624kB [00:01, 445kB/s]  \n"
     ]
    },
    {
     "name": "stdout",
     "output_type": "stream",
     "text": [
      "\n",
      "File successfully downloaded to: ./zenodo_dl/1177555.zip\n",
      "[info] File downloaded: ./zenodo_dl/1177555.zip\n",
      "\n",
      "[info] Paper_idx: 1457, Zenodo id: 1177655\n"
     ]
    },
    {
     "name": "stderr",
     "output_type": "stream",
     "text": [
      "1177655.zip: 460kB [00:01, 334kB/s]  \n"
     ]
    },
    {
     "name": "stdout",
     "output_type": "stream",
     "text": [
      "\n",
      "File successfully downloaded to: ./zenodo_dl/1177655.zip\n",
      "[info] File downloaded: ./zenodo_dl/1177655.zip\n",
      "\n",
      "[info] Paper_idx: 1458, Zenodo id: 1177631\n"
     ]
    },
    {
     "name": "stderr",
     "output_type": "stream",
     "text": [
      "1177631.zip: 520kB [00:01, 399kB/s]  \n"
     ]
    },
    {
     "name": "stdout",
     "output_type": "stream",
     "text": [
      "\n",
      "File successfully downloaded to: ./zenodo_dl/1177631.zip\n",
      "[info] File downloaded: ./zenodo_dl/1177631.zip\n",
      "\n",
      "[info] Paper_idx: 1459, Zenodo id: 1177625\n"
     ]
    },
    {
     "name": "stderr",
     "output_type": "stream",
     "text": [
      "1177625.zip: 2.24MB [00:01, 1.16MB/s]\n"
     ]
    },
    {
     "name": "stdout",
     "output_type": "stream",
     "text": [
      "\n",
      "File successfully downloaded to: ./zenodo_dl/1177625.zip\n",
      "[info] File downloaded: ./zenodo_dl/1177625.zip\n",
      "\n",
      "[info] Paper_idx: 1460, Zenodo id: 1177575\n"
     ]
    },
    {
     "name": "stderr",
     "output_type": "stream",
     "text": [
      "1177575.zip: 1.01MB [00:01, 719kB/s] \n"
     ]
    },
    {
     "name": "stdout",
     "output_type": "stream",
     "text": [
      "\n",
      "File successfully downloaded to: ./zenodo_dl/1177575.zip\n",
      "[info] File downloaded: ./zenodo_dl/1177575.zip\n",
      "\n",
      "[info] Paper_idx: 1461, Zenodo id: 1177645\n"
     ]
    },
    {
     "name": "stderr",
     "output_type": "stream",
     "text": [
      "1177645.zip: 2.10MB [00:01, 1.23MB/s]\n"
     ]
    },
    {
     "name": "stdout",
     "output_type": "stream",
     "text": [
      "\n",
      "File successfully downloaded to: ./zenodo_dl/1177645.zip\n",
      "[info] File downloaded: ./zenodo_dl/1177645.zip\n",
      "\n",
      "[info] Paper_idx: 1462, Zenodo id: 1177671\n"
     ]
    },
    {
     "name": "stderr",
     "output_type": "stream",
     "text": [
      "1177671.zip: 1.07MB [00:01, 557kB/s] \n"
     ]
    },
    {
     "name": "stdout",
     "output_type": "stream",
     "text": [
      "\n",
      "File successfully downloaded to: ./zenodo_dl/1177671.zip\n",
      "[info] File downloaded: ./zenodo_dl/1177671.zip\n",
      "\n",
      "[info] Paper_idx: 1463, Zenodo id: 1177607\n"
     ]
    },
    {
     "name": "stderr",
     "output_type": "stream",
     "text": [
      "1177607.zip: 1.32MB [00:01, 790kB/s] \n"
     ]
    },
    {
     "name": "stdout",
     "output_type": "stream",
     "text": [
      "\n",
      "File successfully downloaded to: ./zenodo_dl/1177607.zip\n",
      "[info] File downloaded: ./zenodo_dl/1177607.zip\n",
      "\n",
      "[info] Paper_idx: 1464, Zenodo id: 1177593\n"
     ]
    },
    {
     "name": "stderr",
     "output_type": "stream",
     "text": [
      "1177593.zip: 375kB [00:01, 336kB/s]  \n"
     ]
    },
    {
     "name": "stdout",
     "output_type": "stream",
     "text": [
      "\n",
      "File successfully downloaded to: ./zenodo_dl/1177593.zip\n",
      "[info] File downloaded: ./zenodo_dl/1177593.zip\n",
      "\n",
      "[info] Paper_idx: 1465, Zenodo id: 1177679\n"
     ]
    },
    {
     "name": "stderr",
     "output_type": "stream",
     "text": [
      "1177679.zip: 9.10MB [00:02, 3.23MB/s]\n"
     ]
    },
    {
     "name": "stdout",
     "output_type": "stream",
     "text": [
      "\n",
      "File successfully downloaded to: ./zenodo_dl/1177679.zip\n",
      "[info] File downloaded: ./zenodo_dl/1177679.zip\n",
      "\n",
      "[info] Paper_idx: 1466, Zenodo id: 1177517\n"
     ]
    },
    {
     "name": "stderr",
     "output_type": "stream",
     "text": [
      "1177517.zip: 371kB [00:01, 334kB/s]  \n"
     ]
    },
    {
     "name": "stdout",
     "output_type": "stream",
     "text": [
      "\n",
      "File successfully downloaded to: ./zenodo_dl/1177517.zip\n",
      "[info] File downloaded: ./zenodo_dl/1177517.zip\n",
      "\n",
      "[info] Paper_idx: 1467, Zenodo id: 1177673\n"
     ]
    },
    {
     "name": "stderr",
     "output_type": "stream",
     "text": [
      "1177673.zip: 5.05MB [00:02, 2.04MB/s]\n"
     ]
    },
    {
     "name": "stdout",
     "output_type": "stream",
     "text": [
      "\n",
      "File successfully downloaded to: ./zenodo_dl/1177673.zip\n",
      "[info] File downloaded: ./zenodo_dl/1177673.zip\n",
      "\n",
      "[info] Paper_idx: 1468, Zenodo id: 1177689\n"
     ]
    },
    {
     "name": "stderr",
     "output_type": "stream",
     "text": [
      "1177689.zip: 1.20MB [00:01, 719kB/s] \n"
     ]
    },
    {
     "name": "stdout",
     "output_type": "stream",
     "text": [
      "\n",
      "File successfully downloaded to: ./zenodo_dl/1177689.zip\n",
      "[info] File downloaded: ./zenodo_dl/1177689.zip\n",
      "\n",
      "[info] Paper_idx: 1469, Zenodo id: 1177471\n"
     ]
    },
    {
     "name": "stderr",
     "output_type": "stream",
     "text": [
      "1177471.zip: 658kB [00:01, 464kB/s]  \n"
     ]
    },
    {
     "name": "stdout",
     "output_type": "stream",
     "text": [
      "\n",
      "File successfully downloaded to: ./zenodo_dl/1177471.zip\n",
      "[info] File downloaded: ./zenodo_dl/1177471.zip\n",
      "\n",
      "[info] Paper_idx: 1470, Zenodo id: 1177485\n"
     ]
    },
    {
     "name": "stderr",
     "output_type": "stream",
     "text": [
      "1177485.zip: 331kB [00:01, 293kB/s]  \n"
     ]
    },
    {
     "name": "stdout",
     "output_type": "stream",
     "text": [
      "\n",
      "File successfully downloaded to: ./zenodo_dl/1177485.zip\n",
      "[info] File downloaded: ./zenodo_dl/1177485.zip\n",
      "\n",
      "[info] Paper_idx: 1471, Zenodo id: 1177691\n"
     ]
    },
    {
     "name": "stderr",
     "output_type": "stream",
     "text": [
      "1177691.zip: 4.52MB [00:02, 1.81MB/s]\n"
     ]
    },
    {
     "name": "stdout",
     "output_type": "stream",
     "text": [
      "\n",
      "File successfully downloaded to: ./zenodo_dl/1177691.zip\n",
      "[info] File downloaded: ./zenodo_dl/1177691.zip\n",
      "\n",
      "[info] Paper_idx: 1472, Zenodo id: 1177617\n"
     ]
    },
    {
     "name": "stderr",
     "output_type": "stream",
     "text": [
      "1177617.zip: 8.17MB [00:02, 2.94MB/s]\n"
     ]
    },
    {
     "name": "stdout",
     "output_type": "stream",
     "text": [
      "\n",
      "File successfully downloaded to: ./zenodo_dl/1177617.zip\n",
      "[info] File downloaded: ./zenodo_dl/1177617.zip\n",
      "\n",
      "[info] Paper_idx: 1473, Zenodo id: 1177495\n"
     ]
    },
    {
     "name": "stderr",
     "output_type": "stream",
     "text": [
      "1177495.zip: 460kB [00:01, 409kB/s]  \n"
     ]
    },
    {
     "name": "stdout",
     "output_type": "stream",
     "text": [
      "\n",
      "File successfully downloaded to: ./zenodo_dl/1177495.zip\n",
      "[info] File downloaded: ./zenodo_dl/1177495.zip\n",
      "\n",
      "[info] Paper_idx: 1474, Zenodo id: 1177467\n"
     ]
    },
    {
     "name": "stderr",
     "output_type": "stream",
     "text": [
      "1177467.zip: 335kB [00:01, 299kB/s]  \n"
     ]
    },
    {
     "name": "stdout",
     "output_type": "stream",
     "text": [
      "\n",
      "File successfully downloaded to: ./zenodo_dl/1177467.zip\n",
      "[info] File downloaded: ./zenodo_dl/1177467.zip\n",
      "\n",
      "[info] Paper_idx: 1475, Zenodo id: 1177675\n"
     ]
    },
    {
     "name": "stderr",
     "output_type": "stream",
     "text": [
      "1177675.zip: 134kB [00:00, 158kB/s]  \n"
     ]
    },
    {
     "name": "stdout",
     "output_type": "stream",
     "text": [
      "\n",
      "File successfully downloaded to: ./zenodo_dl/1177675.zip\n",
      "[info] File downloaded: ./zenodo_dl/1177675.zip\n",
      "\n",
      "[info] Paper_idx: 1476, Zenodo id: 1177659\n"
     ]
    },
    {
     "name": "stderr",
     "output_type": "stream",
     "text": [
      "1177659.zip: 293kB [00:01, 211kB/s]  \n"
     ]
    },
    {
     "name": "stdout",
     "output_type": "stream",
     "text": [
      "\n",
      "File successfully downloaded to: ./zenodo_dl/1177659.zip\n",
      "[info] File downloaded: ./zenodo_dl/1177659.zip\n",
      "\n",
      "[info] Paper_idx: 1477, Zenodo id: 1177653\n"
     ]
    },
    {
     "name": "stderr",
     "output_type": "stream",
     "text": [
      "1177653.zip: 191kB [00:00, 228kB/s]  \n"
     ]
    },
    {
     "name": "stdout",
     "output_type": "stream",
     "text": [
      "\n",
      "File successfully downloaded to: ./zenodo_dl/1177653.zip\n",
      "[info] File downloaded: ./zenodo_dl/1177653.zip\n",
      "\n",
      "[info] Paper_idx: 1478, Zenodo id: 1177499\n"
     ]
    },
    {
     "name": "stderr",
     "output_type": "stream",
     "text": [
      "1177499.zip: 3.37MB [00:08, 402kB/s] \n"
     ]
    },
    {
     "name": "stdout",
     "output_type": "stream",
     "text": [
      "\n",
      "File successfully downloaded to: ./zenodo_dl/1177499.zip\n",
      "[info] File downloaded: ./zenodo_dl/1177499.zip\n",
      "\n",
      "[info] Paper_idx: 1479, Zenodo id: 1177505\n"
     ]
    },
    {
     "name": "stderr",
     "output_type": "stream",
     "text": [
      "1177505.zip: 236kB [00:01, 211kB/s]  \n"
     ]
    },
    {
     "name": "stdout",
     "output_type": "stream",
     "text": [
      "\n",
      "File successfully downloaded to: ./zenodo_dl/1177505.zip\n",
      "[info] File downloaded: ./zenodo_dl/1177505.zip\n",
      "\n",
      "[info] Paper_idx: 1480, Zenodo id: 1177591\n"
     ]
    },
    {
     "name": "stderr",
     "output_type": "stream",
     "text": [
      "1177591.zip: 837kB [00:01, 500kB/s]  \n"
     ]
    },
    {
     "name": "stdout",
     "output_type": "stream",
     "text": [
      "\n",
      "File successfully downloaded to: ./zenodo_dl/1177591.zip\n",
      "[info] File downloaded: ./zenodo_dl/1177591.zip\n",
      "\n",
      "[info] Paper_idx: 1481, Zenodo id: 1177669\n"
     ]
    },
    {
     "name": "stderr",
     "output_type": "stream",
     "text": [
      "1177669.zip: 1.75MB [00:02, 787kB/s] \n"
     ]
    },
    {
     "name": "stdout",
     "output_type": "stream",
     "text": [
      "\n",
      "File successfully downloaded to: ./zenodo_dl/1177669.zip\n",
      "[info] File downloaded: ./zenodo_dl/1177669.zip\n",
      "\n",
      "[info] Paper_idx: 1482, Zenodo id: 1177635\n"
     ]
    },
    {
     "name": "stderr",
     "output_type": "stream",
     "text": [
      "1177635.zip: 1.06MB [00:01, 663kB/s] \n"
     ]
    },
    {
     "name": "stdout",
     "output_type": "stream",
     "text": [
      "\n",
      "File successfully downloaded to: ./zenodo_dl/1177635.zip\n",
      "[info] File downloaded: ./zenodo_dl/1177635.zip\n",
      "\n",
      "[info] Paper_idx: 1483, Zenodo id: 1177519\n"
     ]
    },
    {
     "name": "stderr",
     "output_type": "stream",
     "text": [
      "1177519.zip: 1.04MB [00:01, 716kB/s] \n"
     ]
    },
    {
     "name": "stdout",
     "output_type": "stream",
     "text": [
      "\n",
      "File successfully downloaded to: ./zenodo_dl/1177519.zip\n",
      "[info] File downloaded: ./zenodo_dl/1177519.zip\n",
      "\n",
      "[info] Paper_idx: 1484, Zenodo id: 1177465\n"
     ]
    },
    {
     "name": "stderr",
     "output_type": "stream",
     "text": [
      "1177465.zip: 169kB [00:00, 198kB/s]  \n"
     ]
    },
    {
     "name": "stdout",
     "output_type": "stream",
     "text": [
      "\n",
      "File successfully downloaded to: ./zenodo_dl/1177465.zip\n",
      "[info] File downloaded: ./zenodo_dl/1177465.zip\n",
      "\n",
      "[info] Paper_idx: 1485, Zenodo id: 1177565\n"
     ]
    },
    {
     "name": "stderr",
     "output_type": "stream",
     "text": [
      "1177565.zip: 114kB [00:00, 138kB/s]  \n"
     ]
    },
    {
     "name": "stdout",
     "output_type": "stream",
     "text": [
      "\n",
      "File successfully downloaded to: ./zenodo_dl/1177565.zip\n",
      "[info] File downloaded: ./zenodo_dl/1177565.zip\n",
      "\n",
      "[info] Paper_idx: 1486, Zenodo id: 1177481\n"
     ]
    },
    {
     "name": "stderr",
     "output_type": "stream",
     "text": [
      "1177481.zip: 2.63MB [00:01, 1.35MB/s]\n"
     ]
    },
    {
     "name": "stdout",
     "output_type": "stream",
     "text": [
      "\n",
      "File successfully downloaded to: ./zenodo_dl/1177481.zip\n",
      "[info] File downloaded: ./zenodo_dl/1177481.zip\n",
      "\n",
      "[info] Paper_idx: 1487, Zenodo id: 1177479\n"
     ]
    },
    {
     "name": "stderr",
     "output_type": "stream",
     "text": [
      "1177479.zip: 350kB [00:01, 315kB/s]  \n"
     ]
    },
    {
     "name": "stdout",
     "output_type": "stream",
     "text": [
      "\n",
      "File successfully downloaded to: ./zenodo_dl/1177479.zip\n",
      "[info] File downloaded: ./zenodo_dl/1177479.zip\n",
      "\n",
      "[info] Paper_idx: 1488, Zenodo id: 1177569\n"
     ]
    },
    {
     "name": "stderr",
     "output_type": "stream",
     "text": [
      "1177569.zip: 3.86MB [00:08, 463kB/s] \n"
     ]
    },
    {
     "name": "stdout",
     "output_type": "stream",
     "text": [
      "\n",
      "File successfully downloaded to: ./zenodo_dl/1177569.zip\n",
      "[info] File downloaded: ./zenodo_dl/1177569.zip\n",
      "\n",
      "[info] Paper_idx: 1489, Zenodo id: 1177613\n"
     ]
    },
    {
     "name": "stderr",
     "output_type": "stream",
     "text": [
      "1177613.zip: 8.00MB [00:04, 1.93MB/s]\n"
     ]
    },
    {
     "name": "stdout",
     "output_type": "stream",
     "text": [
      "\n",
      "File successfully downloaded to: ./zenodo_dl/1177613.zip\n",
      "[info] File downloaded: ./zenodo_dl/1177613.zip\n",
      "\n",
      "[info] Paper_idx: 1490, Zenodo id: 1177521\n"
     ]
    },
    {
     "name": "stderr",
     "output_type": "stream",
     "text": [
      "1177521.zip: 710kB [00:01, 509kB/s]  \n"
     ]
    },
    {
     "name": "stdout",
     "output_type": "stream",
     "text": [
      "\n",
      "File successfully downloaded to: ./zenodo_dl/1177521.zip\n",
      "[info] File downloaded: ./zenodo_dl/1177521.zip\n",
      "\n",
      "[info] Paper_idx: 1491, Zenodo id: 1177641\n"
     ]
    },
    {
     "name": "stderr",
     "output_type": "stream",
     "text": [
      "1177641.zip: 5.69MB [00:02, 2.50MB/s]\n"
     ]
    },
    {
     "name": "stdout",
     "output_type": "stream",
     "text": [
      "\n",
      "File successfully downloaded to: ./zenodo_dl/1177641.zip\n",
      "[info] File downloaded: ./zenodo_dl/1177641.zip\n",
      "\n",
      "[info] Paper_idx: 1492, Zenodo id: 1177585\n"
     ]
    },
    {
     "name": "stderr",
     "output_type": "stream",
     "text": [
      "1177585.zip: 233kB [00:01, 211kB/s]  \n"
     ]
    },
    {
     "name": "stdout",
     "output_type": "stream",
     "text": [
      "\n",
      "File successfully downloaded to: ./zenodo_dl/1177585.zip\n",
      "[info] File downloaded: ./zenodo_dl/1177585.zip\n",
      "\n",
      "[info] Paper_idx: 1493, Zenodo id: 1177563\n"
     ]
    },
    {
     "name": "stderr",
     "output_type": "stream",
     "text": [
      "1177563.zip: 135kB [00:00, 161kB/s]  \n"
     ]
    },
    {
     "name": "stdout",
     "output_type": "stream",
     "text": [
      "\n",
      "File successfully downloaded to: ./zenodo_dl/1177563.zip\n",
      "[info] File downloaded: ./zenodo_dl/1177563.zip\n",
      "\n",
      "[info] Paper_idx: 1494, Zenodo id: 1177493\n"
     ]
    },
    {
     "name": "stderr",
     "output_type": "stream",
     "text": [
      "1177493.zip: 15.2MB [00:04, 3.63MB/s]\n"
     ]
    },
    {
     "name": "stdout",
     "output_type": "stream",
     "text": [
      "\n",
      "File successfully downloaded to: ./zenodo_dl/1177493.zip\n",
      "[info] File downloaded: ./zenodo_dl/1177493.zip\n",
      "\n",
      "[info] Paper_idx: 1495, Zenodo id: 1177597\n"
     ]
    },
    {
     "name": "stderr",
     "output_type": "stream",
     "text": [
      "1177597.zip: 2.90MB [00:01, 1.49MB/s]\n"
     ]
    },
    {
     "name": "stdout",
     "output_type": "stream",
     "text": [
      "\n",
      "File successfully downloaded to: ./zenodo_dl/1177597.zip\n",
      "[info] File downloaded: ./zenodo_dl/1177597.zip\n",
      "\n",
      "[info] Paper_idx: 1496, Zenodo id: 1177661\n"
     ]
    },
    {
     "name": "stderr",
     "output_type": "stream",
     "text": [
      "1177661.zip: 3.35MB [00:08, 376kB/s] \n"
     ]
    },
    {
     "name": "stdout",
     "output_type": "stream",
     "text": [
      "\n",
      "File successfully downloaded to: ./zenodo_dl/1177661.zip\n",
      "[info] File downloaded: ./zenodo_dl/1177661.zip\n",
      "\n",
      "[info] Paper_idx: 1497, Zenodo id: 1177515\n"
     ]
    },
    {
     "name": "stderr",
     "output_type": "stream",
     "text": [
      "1177515.zip: 3.11MB [00:01, 1.58MB/s]\n"
     ]
    },
    {
     "name": "stdout",
     "output_type": "stream",
     "text": [
      "\n",
      "File successfully downloaded to: ./zenodo_dl/1177515.zip\n",
      "[info] File downloaded: ./zenodo_dl/1177515.zip\n",
      "\n",
      "[info] Paper_idx: 1498, Zenodo id: 1177589\n"
     ]
    },
    {
     "name": "stderr",
     "output_type": "stream",
     "text": [
      "1177589.zip: 2.41MB [00:01, 1.24MB/s]\n"
     ]
    },
    {
     "name": "stdout",
     "output_type": "stream",
     "text": [
      "\n",
      "File successfully downloaded to: ./zenodo_dl/1177589.zip\n",
      "[info] File downloaded: ./zenodo_dl/1177589.zip\n",
      "\n",
      "[info] Paper_idx: 1499, Zenodo id: 1177601\n"
     ]
    },
    {
     "name": "stderr",
     "output_type": "stream",
     "text": [
      "1177601.zip: 1.07MB [00:03, 298kB/s] \n"
     ]
    },
    {
     "name": "stdout",
     "output_type": "stream",
     "text": [
      "\n",
      "File successfully downloaded to: ./zenodo_dl/1177601.zip\n",
      "[info] File downloaded: ./zenodo_dl/1177601.zip\n",
      "\n",
      "[info] Paper_idx: 1500, Zenodo id: 1177603\n"
     ]
    },
    {
     "name": "stderr",
     "output_type": "stream",
     "text": [
      "1177603.zip: 393kB [00:01, 345kB/s]  \n"
     ]
    },
    {
     "name": "stdout",
     "output_type": "stream",
     "text": [
      "\n",
      "File successfully downloaded to: ./zenodo_dl/1177603.zip\n",
      "[info] File downloaded: ./zenodo_dl/1177603.zip\n",
      "\n",
      "[info] Paper_idx: 1501, Zenodo id: 1177637\n"
     ]
    },
    {
     "name": "stderr",
     "output_type": "stream",
     "text": [
      "1177637.zip: 3.26MB [00:09, 356kB/s] \n"
     ]
    },
    {
     "name": "stdout",
     "output_type": "stream",
     "text": [
      "\n",
      "File successfully downloaded to: ./zenodo_dl/1177637.zip\n",
      "[info] File downloaded: ./zenodo_dl/1177637.zip\n",
      "\n",
      "[info] Paper_idx: 1502, Zenodo id: 1177583\n"
     ]
    },
    {
     "name": "stderr",
     "output_type": "stream",
     "text": [
      "1177583.zip: 443kB [00:01, 398kB/s]  \n"
     ]
    },
    {
     "name": "stdout",
     "output_type": "stream",
     "text": [
      "\n",
      "File successfully downloaded to: ./zenodo_dl/1177583.zip\n",
      "[info] File downloaded: ./zenodo_dl/1177583.zip\n",
      "\n",
      "[info] Paper_idx: 1503, Zenodo id: 1177571\n"
     ]
    },
    {
     "name": "stderr",
     "output_type": "stream",
     "text": [
      "1177571.zip: 887kB [00:03, 290kB/s]  \n"
     ]
    },
    {
     "name": "stdout",
     "output_type": "stream",
     "text": [
      "\n",
      "File successfully downloaded to: ./zenodo_dl/1177571.zip\n",
      "[info] File downloaded: ./zenodo_dl/1177571.zip\n",
      "\n",
      "[info] Paper_idx: 1504, Zenodo id: 1177477\n"
     ]
    },
    {
     "name": "stderr",
     "output_type": "stream",
     "text": [
      "1177477.zip: 593kB [00:01, 305kB/s]  \n"
     ]
    },
    {
     "name": "stdout",
     "output_type": "stream",
     "text": [
      "\n",
      "File successfully downloaded to: ./zenodo_dl/1177477.zip\n",
      "[info] File downloaded: ./zenodo_dl/1177477.zip\n",
      "\n",
      "[info] Paper_idx: 1505, Zenodo id: 1177473\n"
     ]
    },
    {
     "name": "stderr",
     "output_type": "stream",
     "text": [
      "1177473.zip: 95.4kB [00:00, 171kB/s] \n"
     ]
    },
    {
     "name": "stdout",
     "output_type": "stream",
     "text": [
      "\n",
      "File successfully downloaded to: ./zenodo_dl/1177473.zip\n",
      "[info] File downloaded: ./zenodo_dl/1177473.zip\n",
      "\n",
      "[info] Paper_idx: 1506, Zenodo id: 1177489\n"
     ]
    },
    {
     "name": "stderr",
     "output_type": "stream",
     "text": [
      "1177489.zip: 251kB [00:01, 220kB/s]  \n"
     ]
    },
    {
     "name": "stdout",
     "output_type": "stream",
     "text": [
      "\n",
      "File successfully downloaded to: ./zenodo_dl/1177489.zip\n",
      "[info] File downloaded: ./zenodo_dl/1177489.zip\n",
      "\n",
      "[info] Paper_idx: 1507, Zenodo id: 1177611\n"
     ]
    },
    {
     "name": "stderr",
     "output_type": "stream",
     "text": [
      "1177611.zip: 189kB [00:00, 225kB/s]  \n"
     ]
    },
    {
     "name": "stdout",
     "output_type": "stream",
     "text": [
      "\n",
      "File successfully downloaded to: ./zenodo_dl/1177611.zip\n",
      "[info] File downloaded: ./zenodo_dl/1177611.zip\n",
      "\n",
      "[info] Paper_idx: 1508, Zenodo id: 1177503\n"
     ]
    },
    {
     "name": "stderr",
     "output_type": "stream",
     "text": [
      "1177503.zip: 568kB [00:02, 254kB/s]  \n"
     ]
    },
    {
     "name": "stdout",
     "output_type": "stream",
     "text": [
      "\n",
      "File successfully downloaded to: ./zenodo_dl/1177503.zip\n",
      "[info] File downloaded: ./zenodo_dl/1177503.zip\n",
      "\n",
      "[info] Paper_idx: 1509, Zenodo id: 1177509\n"
     ]
    },
    {
     "name": "stderr",
     "output_type": "stream",
     "text": [
      "1177509.zip: 384kB [00:01, 341kB/s]  \n"
     ]
    },
    {
     "name": "stdout",
     "output_type": "stream",
     "text": [
      "\n",
      "File successfully downloaded to: ./zenodo_dl/1177509.zip\n",
      "[info] File downloaded: ./zenodo_dl/1177509.zip\n",
      "\n",
      "[info] Paper_idx: 1510, Zenodo id: 1177629\n"
     ]
    },
    {
     "name": "stderr",
     "output_type": "stream",
     "text": [
      "1177629.zip: 122kB [00:00, 154kB/s]  \n"
     ]
    },
    {
     "name": "stdout",
     "output_type": "stream",
     "text": [
      "\n",
      "File successfully downloaded to: ./zenodo_dl/1177629.zip\n",
      "[info] File downloaded: ./zenodo_dl/1177629.zip\n",
      "\n",
      "[info] Paper_idx: 1511, Zenodo id: 1177513\n"
     ]
    },
    {
     "name": "stderr",
     "output_type": "stream",
     "text": [
      "1177513.zip: 436kB [00:01, 260kB/s]  \n"
     ]
    },
    {
     "name": "stdout",
     "output_type": "stream",
     "text": [
      "\n",
      "File successfully downloaded to: ./zenodo_dl/1177513.zip\n",
      "[info] File downloaded: ./zenodo_dl/1177513.zip\n",
      "\n",
      "[info] Paper_idx: 1512, Zenodo id: 1177667\n"
     ]
    },
    {
     "name": "stderr",
     "output_type": "stream",
     "text": [
      "1177667.zip: 1.07MB [00:01, 661kB/s] \n"
     ]
    },
    {
     "name": "stdout",
     "output_type": "stream",
     "text": [
      "\n",
      "File successfully downloaded to: ./zenodo_dl/1177667.zip\n",
      "[info] File downloaded: ./zenodo_dl/1177667.zip\n",
      "\n",
      "[info] Paper_idx: 1513, Zenodo id: 1177605\n"
     ]
    },
    {
     "name": "stderr",
     "output_type": "stream",
     "text": [
      "1177605.zip: 196kB [00:00, 235kB/s]  \n"
     ]
    },
    {
     "name": "stdout",
     "output_type": "stream",
     "text": [
      "\n",
      "File successfully downloaded to: ./zenodo_dl/1177605.zip\n",
      "[info] File downloaded: ./zenodo_dl/1177605.zip\n",
      "\n",
      "[info] Paper_idx: 1514, Zenodo id: 1177685\n"
     ]
    },
    {
     "name": "stderr",
     "output_type": "stream",
     "text": [
      "1177685.zip: 1.63MB [00:01, 978kB/s] \n"
     ]
    },
    {
     "name": "stdout",
     "output_type": "stream",
     "text": [
      "\n",
      "File successfully downloaded to: ./zenodo_dl/1177685.zip\n",
      "[info] File downloaded: ./zenodo_dl/1177685.zip\n",
      "\n",
      "[info] Paper_idx: 1515, Zenodo id: 1177587\n"
     ]
    },
    {
     "name": "stderr",
     "output_type": "stream",
     "text": [
      "1177587.zip: 2.06MB [00:03, 673kB/s] \n"
     ]
    },
    {
     "name": "stdout",
     "output_type": "stream",
     "text": [
      "\n",
      "File successfully downloaded to: ./zenodo_dl/1177587.zip\n",
      "[info] File downloaded: ./zenodo_dl/1177587.zip\n",
      "\n",
      "[info] Paper_idx: 1516, Zenodo id: 1177697\n"
     ]
    },
    {
     "name": "stderr",
     "output_type": "stream",
     "text": [
      "1177697.zip: 1.04MB [00:01, 733kB/s] \n"
     ]
    },
    {
     "name": "stdout",
     "output_type": "stream",
     "text": [
      "\n",
      "File successfully downloaded to: ./zenodo_dl/1177697.zip\n",
      "[info] File downloaded: ./zenodo_dl/1177697.zip\n",
      "\n",
      "[info] Paper_idx: 1517, Zenodo id: 1177553\n"
     ]
    },
    {
     "name": "stderr",
     "output_type": "stream",
     "text": [
      "1177553.zip: 820kB [00:02, 327kB/s]  \n"
     ]
    },
    {
     "name": "stdout",
     "output_type": "stream",
     "text": [
      "\n",
      "File successfully downloaded to: ./zenodo_dl/1177553.zip\n",
      "[info] File downloaded: ./zenodo_dl/1177553.zip\n",
      "\n",
      "[info] Paper_idx: 1518, Zenodo id: 1177703\n"
     ]
    },
    {
     "name": "stderr",
     "output_type": "stream",
     "text": [
      "1177703.zip: 2.03MB [00:01, 1.21MB/s]\n"
     ]
    },
    {
     "name": "stdout",
     "output_type": "stream",
     "text": [
      "\n",
      "File successfully downloaded to: ./zenodo_dl/1177703.zip\n",
      "[info] File downloaded: ./zenodo_dl/1177703.zip\n",
      "\n",
      "[info] Paper_idx: 1519, Zenodo id: 1177483\n"
     ]
    },
    {
     "name": "stderr",
     "output_type": "stream",
     "text": [
      "1177483.zip: 265kB [00:01, 245kB/s]  \n"
     ]
    },
    {
     "name": "stdout",
     "output_type": "stream",
     "text": [
      "\n",
      "File successfully downloaded to: ./zenodo_dl/1177483.zip\n",
      "[info] File downloaded: ./zenodo_dl/1177483.zip\n",
      "\n",
      "[info] Paper_idx: 1520, Zenodo id: 1177701\n"
     ]
    },
    {
     "name": "stderr",
     "output_type": "stream",
     "text": [
      "1177701.zip: 68.6kB [00:00, 120kB/s] \n"
     ]
    },
    {
     "name": "stdout",
     "output_type": "stream",
     "text": [
      "\n",
      "File successfully downloaded to: ./zenodo_dl/1177701.zip\n",
      "[info] File downloaded: ./zenodo_dl/1177701.zip\n",
      "\n",
      "[info] Paper_idx: 1521, Zenodo id: 1177619\n"
     ]
    },
    {
     "name": "stderr",
     "output_type": "stream",
     "text": [
      "1177619.zip: 70.4kB [00:00, 126kB/s] \n"
     ]
    },
    {
     "name": "stdout",
     "output_type": "stream",
     "text": [
      "\n",
      "File successfully downloaded to: ./zenodo_dl/1177619.zip\n",
      "[info] File downloaded: ./zenodo_dl/1177619.zip\n",
      "\n",
      "[info] Paper_idx: 1522, Zenodo id: 1177577\n"
     ]
    },
    {
     "name": "stderr",
     "output_type": "stream",
     "text": [
      "1177577.zip: 70.9kB [00:00, 123kB/s] \n"
     ]
    },
    {
     "name": "stdout",
     "output_type": "stream",
     "text": [
      "\n",
      "File successfully downloaded to: ./zenodo_dl/1177577.zip\n",
      "[info] File downloaded: ./zenodo_dl/1177577.zip\n",
      "\n",
      "[info] Paper_idx: 1523, Zenodo id: 1177665\n"
     ]
    },
    {
     "name": "stderr",
     "output_type": "stream",
     "text": [
      "1177665.zip: 70.6kB [00:00, 118kB/s] \n"
     ]
    },
    {
     "name": "stdout",
     "output_type": "stream",
     "text": [
      "\n",
      "File successfully downloaded to: ./zenodo_dl/1177665.zip\n",
      "[info] File downloaded: ./zenodo_dl/1177665.zip\n",
      "\n",
      "[info] Paper_idx: 1524, Zenodo id: 1177651\n"
     ]
    },
    {
     "name": "stderr",
     "output_type": "stream",
     "text": [
      "1177651.zip: 78.6kB [00:00, 140kB/s] \n"
     ]
    },
    {
     "name": "stdout",
     "output_type": "stream",
     "text": [
      "\n",
      "File successfully downloaded to: ./zenodo_dl/1177651.zip\n",
      "[info] File downloaded: ./zenodo_dl/1177651.zip\n",
      "\n",
      "[info] Paper_idx: 1525, Zenodo id: 1177475\n"
     ]
    },
    {
     "name": "stderr",
     "output_type": "stream",
     "text": [
      "1177475.zip: 79.5kB [00:00, 142kB/s] \n"
     ]
    },
    {
     "name": "stdout",
     "output_type": "stream",
     "text": [
      "\n",
      "File successfully downloaded to: ./zenodo_dl/1177475.zip\n",
      "[info] File downloaded: ./zenodo_dl/1177475.zip\n",
      "\n",
      "[info] Paper_idx: 1526, Zenodo id: 1177633\n"
     ]
    },
    {
     "name": "stderr",
     "output_type": "stream",
     "text": [
      "1177633.zip: 71.1kB [00:00, 126kB/s] \n"
     ]
    },
    {
     "name": "stdout",
     "output_type": "stream",
     "text": [
      "\n",
      "File successfully downloaded to: ./zenodo_dl/1177633.zip\n",
      "[info] File downloaded: ./zenodo_dl/1177633.zip\n",
      "\n",
      "[info] Paper_idx: 1527, Zenodo id: 1177621\n"
     ]
    },
    {
     "name": "stderr",
     "output_type": "stream",
     "text": [
      "1177621.zip: 48.4kB [00:00, 87.9kB/s]\n"
     ]
    },
    {
     "name": "stdout",
     "output_type": "stream",
     "text": [
      "\n",
      "File successfully downloaded to: ./zenodo_dl/1177621.zip\n",
      "[info] File downloaded: ./zenodo_dl/1177621.zip\n",
      "\n",
      "[info] Paper_idx: 1528, Zenodo id: 1177557\n"
     ]
    },
    {
     "name": "stderr",
     "output_type": "stream",
     "text": [
      "1177557.zip: 70.2kB [00:00, 122kB/s] \n"
     ]
    },
    {
     "name": "stdout",
     "output_type": "stream",
     "text": [
      "\n",
      "File successfully downloaded to: ./zenodo_dl/1177557.zip\n",
      "[info] File downloaded: ./zenodo_dl/1177557.zip\n",
      "\n",
      "[info] Paper_idx: 1529, Zenodo id: 1177469\n"
     ]
    },
    {
     "name": "stderr",
     "output_type": "stream",
     "text": [
      "1177469.zip: 70.7kB [00:00, 123kB/s] \n"
     ]
    },
    {
     "name": "stdout",
     "output_type": "stream",
     "text": [
      "\n",
      "File successfully downloaded to: ./zenodo_dl/1177469.zip\n",
      "[info] File downloaded: ./zenodo_dl/1177469.zip\n",
      "\n",
      "[info] Paper_idx: 1530, Zenodo id: 1177695\n"
     ]
    },
    {
     "name": "stderr",
     "output_type": "stream",
     "text": [
      "1177695.zip: 71.6kB [00:00, 108kB/s] \n"
     ]
    },
    {
     "name": "stdout",
     "output_type": "stream",
     "text": [
      "\n",
      "File successfully downloaded to: ./zenodo_dl/1177695.zip\n",
      "[info] File downloaded: ./zenodo_dl/1177695.zip\n",
      "\n",
      "[info] Paper_idx: 1531, Zenodo id: 1177639\n"
     ]
    },
    {
     "name": "stderr",
     "output_type": "stream",
     "text": [
      "1177639.zip: 51.6kB [00:00, 93.8kB/s]\n"
     ]
    },
    {
     "name": "stdout",
     "output_type": "stream",
     "text": [
      "\n",
      "File successfully downloaded to: ./zenodo_dl/1177639.zip\n",
      "[info] File downloaded: ./zenodo_dl/1177639.zip\n",
      "\n",
      "[info] Paper_idx: 1532, Zenodo id: 1177573\n"
     ]
    },
    {
     "name": "stderr",
     "output_type": "stream",
     "text": [
      "1177573.zip: 70.4kB [00:00, 124kB/s] \n"
     ]
    },
    {
     "name": "stdout",
     "output_type": "stream",
     "text": [
      "\n",
      "File successfully downloaded to: ./zenodo_dl/1177573.zip\n",
      "[info] File downloaded: ./zenodo_dl/1177573.zip\n",
      "\n",
      "[info] Paper_idx: 1533, Zenodo id: 1177615\n"
     ]
    },
    {
     "name": "stderr",
     "output_type": "stream",
     "text": [
      "1177615.zip: 70.8kB [00:00, 128kB/s] \n"
     ]
    },
    {
     "name": "stdout",
     "output_type": "stream",
     "text": [
      "\n",
      "File successfully downloaded to: ./zenodo_dl/1177615.zip\n",
      "[info] File downloaded: ./zenodo_dl/1177615.zip\n",
      "\n",
      "[info] Paper_idx: 1534, Zenodo id: 1177699\n"
     ]
    },
    {
     "name": "stderr",
     "output_type": "stream",
     "text": [
      "1177699.zip: 72.5kB [00:00, 129kB/s] \n"
     ]
    },
    {
     "name": "stdout",
     "output_type": "stream",
     "text": [
      "\n",
      "File successfully downloaded to: ./zenodo_dl/1177699.zip\n",
      "[info] File downloaded: ./zenodo_dl/1177699.zip\n",
      "\n",
      "[info] Paper_idx: 1535, Zenodo id: 1177707\n"
     ]
    },
    {
     "name": "stderr",
     "output_type": "stream",
     "text": [
      "1177707.zip: 71.3kB [00:00, 119kB/s] \n"
     ]
    },
    {
     "name": "stdout",
     "output_type": "stream",
     "text": [
      "\n",
      "File successfully downloaded to: ./zenodo_dl/1177707.zip\n",
      "[info] File downloaded: ./zenodo_dl/1177707.zip\n",
      "\n",
      "[info] Paper_idx: 1536, Zenodo id: 1177501\n"
     ]
    },
    {
     "name": "stderr",
     "output_type": "stream",
     "text": [
      "1177501.zip: 70.9kB [00:00, 126kB/s] \n"
     ]
    },
    {
     "name": "stdout",
     "output_type": "stream",
     "text": [
      "\n",
      "File successfully downloaded to: ./zenodo_dl/1177501.zip\n",
      "[info] File downloaded: ./zenodo_dl/1177501.zip\n",
      "\n",
      "[info] Paper_idx: 1537, Zenodo id: 1177487\n"
     ]
    },
    {
     "name": "stderr",
     "output_type": "stream",
     "text": [
      "1177487.zip: 54.2kB [00:00, 98.6kB/s]\n"
     ]
    },
    {
     "name": "stdout",
     "output_type": "stream",
     "text": [
      "\n",
      "File successfully downloaded to: ./zenodo_dl/1177487.zip\n",
      "[info] File downloaded: ./zenodo_dl/1177487.zip\n",
      "\n",
      "[info] Paper_idx: 1538, Zenodo id: 1177561\n"
     ]
    },
    {
     "name": "stderr",
     "output_type": "stream",
     "text": [
      "1177561.zip: 55.8kB [00:00, 108kB/s] \n"
     ]
    },
    {
     "name": "stdout",
     "output_type": "stream",
     "text": [
      "\n",
      "File successfully downloaded to: ./zenodo_dl/1177561.zip\n",
      "[info] File downloaded: ./zenodo_dl/1177561.zip\n",
      "\n",
      "[info] Paper_idx: 1539, Zenodo id: 1177649\n"
     ]
    },
    {
     "name": "stderr",
     "output_type": "stream",
     "text": [
      "1177649.zip: 56.2kB [00:00, 102kB/s] \n"
     ]
    },
    {
     "name": "stdout",
     "output_type": "stream",
     "text": [
      "\n",
      "File successfully downloaded to: ./zenodo_dl/1177649.zip\n",
      "[info] File downloaded: ./zenodo_dl/1177649.zip\n",
      "\n",
      "[info] Paper_idx: 1540, Zenodo id: 1177677\n"
     ]
    },
    {
     "name": "stderr",
     "output_type": "stream",
     "text": [
      "1177677.zip: 55.6kB [00:00, 101kB/s] \n"
     ]
    },
    {
     "name": "stdout",
     "output_type": "stream",
     "text": [
      "\n",
      "File successfully downloaded to: ./zenodo_dl/1177677.zip\n",
      "[info] File downloaded: ./zenodo_dl/1177677.zip\n",
      "\n",
      "[info] Paper_idx: 1541, Zenodo id: 1177687\n"
     ]
    },
    {
     "name": "stderr",
     "output_type": "stream",
     "text": [
      "1177687.zip: 71.2kB [00:00, 103kB/s] \n"
     ]
    },
    {
     "name": "stdout",
     "output_type": "stream",
     "text": [
      "\n",
      "File successfully downloaded to: ./zenodo_dl/1177687.zip\n",
      "[info] File downloaded: ./zenodo_dl/1177687.zip\n",
      "\n",
      "[info] Paper_idx: 1542, Zenodo id: 1179579\n"
     ]
    },
    {
     "name": "stderr",
     "output_type": "stream",
     "text": [
      "1179579.zip: 534kB [00:01, 274kB/s]  \n"
     ]
    },
    {
     "name": "stdout",
     "output_type": "stream",
     "text": [
      "\n",
      "File successfully downloaded to: ./zenodo_dl/1179579.zip\n",
      "[info] File downloaded: ./zenodo_dl/1179579.zip\n",
      "\n",
      "[info] Paper_idx: 1543, Zenodo id: 1179487\n"
     ]
    },
    {
     "name": "stderr",
     "output_type": "stream",
     "text": [
      "1179487.zip: 291kB [00:01, 260kB/s]  \n"
     ]
    },
    {
     "name": "stdout",
     "output_type": "stream",
     "text": [
      "\n",
      "File successfully downloaded to: ./zenodo_dl/1179487.zip\n",
      "[info] File downloaded: ./zenodo_dl/1179487.zip\n",
      "\n",
      "[info] Paper_idx: 1544, Zenodo id: 1179651\n"
     ]
    },
    {
     "name": "stderr",
     "output_type": "stream",
     "text": [
      "1179651.zip: 471kB [00:01, 242kB/s]  \n"
     ]
    },
    {
     "name": "stdout",
     "output_type": "stream",
     "text": [
      "\n",
      "File successfully downloaded to: ./zenodo_dl/1179651.zip\n",
      "[info] File downloaded: ./zenodo_dl/1179651.zip\n",
      "\n",
      "[info] Paper_idx: 1545, Zenodo id: 1179537\n"
     ]
    },
    {
     "name": "stderr",
     "output_type": "stream",
     "text": [
      "1179537.zip: 248kB [00:01, 222kB/s]  \n"
     ]
    },
    {
     "name": "stdout",
     "output_type": "stream",
     "text": [
      "\n",
      "File successfully downloaded to: ./zenodo_dl/1179537.zip\n",
      "[info] File downloaded: ./zenodo_dl/1179537.zip\n",
      "\n",
      "[info] Paper_idx: 1546, Zenodo id: 1179501\n"
     ]
    },
    {
     "name": "stderr",
     "output_type": "stream",
     "text": [
      "1179501.zip: 272kB [00:01, 242kB/s]  \n"
     ]
    },
    {
     "name": "stdout",
     "output_type": "stream",
     "text": [
      "\n",
      "File successfully downloaded to: ./zenodo_dl/1179501.zip\n",
      "[info] File downloaded: ./zenodo_dl/1179501.zip\n",
      "\n",
      "[info] Paper_idx: 1547, Zenodo id: 1179603\n"
     ]
    },
    {
     "name": "stderr",
     "output_type": "stream",
     "text": [
      "1179603.zip: 671kB [00:01, 401kB/s]  \n"
     ]
    },
    {
     "name": "stdout",
     "output_type": "stream",
     "text": [
      "\n",
      "File successfully downloaded to: ./zenodo_dl/1179603.zip\n",
      "[info] File downloaded: ./zenodo_dl/1179603.zip\n",
      "\n",
      "[info] Paper_idx: 1548, Zenodo id: 1179589\n"
     ]
    },
    {
     "name": "stderr",
     "output_type": "stream",
     "text": [
      "1179589.zip: 426kB [00:01, 380kB/s]  \n"
     ]
    },
    {
     "name": "stdout",
     "output_type": "stream",
     "text": [
      "\n",
      "File successfully downloaded to: ./zenodo_dl/1179589.zip\n",
      "[info] File downloaded: ./zenodo_dl/1179589.zip\n",
      "\n",
      "[info] Paper_idx: 1549, Zenodo id: 1179497\n"
     ]
    },
    {
     "name": "stderr",
     "output_type": "stream",
     "text": [
      "1179497.zip: 983kB [00:01, 703kB/s]  \n"
     ]
    },
    {
     "name": "stdout",
     "output_type": "stream",
     "text": [
      "\n",
      "File successfully downloaded to: ./zenodo_dl/1179497.zip\n",
      "[info] File downloaded: ./zenodo_dl/1179497.zip\n",
      "\n",
      "[info] Paper_idx: 1550, Zenodo id: 1177457\n"
     ]
    },
    {
     "name": "stderr",
     "output_type": "stream",
     "text": [
      "1177457.zip: 339kB [00:01, 303kB/s]  \n"
     ]
    },
    {
     "name": "stdout",
     "output_type": "stream",
     "text": [
      "\n",
      "File successfully downloaded to: ./zenodo_dl/1177457.zip\n",
      "[info] File downloaded: ./zenodo_dl/1177457.zip\n",
      "\n",
      "[info] Paper_idx: 1551, Zenodo id: 1179607\n"
     ]
    },
    {
     "name": "stderr",
     "output_type": "stream",
     "text": [
      "1179607.zip: 358kB [00:01, 321kB/s]  \n"
     ]
    },
    {
     "name": "stdout",
     "output_type": "stream",
     "text": [
      "\n",
      "File successfully downloaded to: ./zenodo_dl/1179607.zip\n",
      "[info] File downloaded: ./zenodo_dl/1179607.zip\n",
      "\n",
      "[info] Paper_idx: 1552, Zenodo id: 1179585\n"
     ]
    },
    {
     "name": "stderr",
     "output_type": "stream",
     "text": [
      "1179585.zip: 241kB [00:00, 283kB/s]  \n"
     ]
    },
    {
     "name": "stdout",
     "output_type": "stream",
     "text": [
      "\n",
      "File successfully downloaded to: ./zenodo_dl/1179585.zip\n",
      "[info] File downloaded: ./zenodo_dl/1179585.zip\n",
      "\n",
      "[info] Paper_idx: 1553, Zenodo id: 1179617\n"
     ]
    },
    {
     "name": "stderr",
     "output_type": "stream",
     "text": [
      "1179617.zip: 298kB [00:01, 264kB/s]  \n"
     ]
    },
    {
     "name": "stdout",
     "output_type": "stream",
     "text": [
      "\n",
      "File successfully downloaded to: ./zenodo_dl/1179617.zip\n",
      "[info] File downloaded: ./zenodo_dl/1179617.zip\n",
      "\n",
      "[info] Paper_idx: 1554, Zenodo id: 1179495\n"
     ]
    },
    {
     "name": "stderr",
     "output_type": "stream",
     "text": [
      "1179495.zip: 549kB [00:01, 340kB/s]  \n"
     ]
    },
    {
     "name": "stdout",
     "output_type": "stream",
     "text": [
      "\n",
      "File successfully downloaded to: ./zenodo_dl/1179495.zip\n",
      "[info] File downloaded: ./zenodo_dl/1179495.zip\n",
      "\n",
      "[info] Paper_idx: 1555, Zenodo id: 1177463\n"
     ]
    },
    {
     "name": "stderr",
     "output_type": "stream",
     "text": [
      "1177463.zip: 430kB [00:01, 257kB/s]  \n"
     ]
    },
    {
     "name": "stdout",
     "output_type": "stream",
     "text": [
      "\n",
      "File successfully downloaded to: ./zenodo_dl/1177463.zip\n",
      "[info] File downloaded: ./zenodo_dl/1177463.zip\n",
      "\n",
      "[info] Paper_idx: 1556, Zenodo id: 1179599\n"
     ]
    },
    {
     "name": "stderr",
     "output_type": "stream",
     "text": [
      "1179599.zip: 524kB [00:01, 311kB/s]  \n"
     ]
    },
    {
     "name": "stdout",
     "output_type": "stream",
     "text": [
      "Error downloading file: Response ended prematurely\n",
      "[info] File downloaded: None\n",
      "\n",
      "[info] Paper_idx: 1557, Zenodo id: 1179503\n"
     ]
    },
    {
     "name": "stderr",
     "output_type": "stream",
     "text": [
      "1179503.zip: 439kB [00:01, 393kB/s]  \n"
     ]
    },
    {
     "name": "stdout",
     "output_type": "stream",
     "text": [
      "\n",
      "File successfully downloaded to: ./zenodo_dl/1179503.zip\n",
      "[info] File downloaded: ./zenodo_dl/1179503.zip\n",
      "\n",
      "[info] Paper_idx: 1558, Zenodo id: 1179631\n"
     ]
    },
    {
     "name": "stderr",
     "output_type": "stream",
     "text": [
      "1179631.zip: 294kB [00:01, 263kB/s]  \n"
     ]
    },
    {
     "name": "stdout",
     "output_type": "stream",
     "text": [
      "\n",
      "File successfully downloaded to: ./zenodo_dl/1179631.zip\n",
      "[info] File downloaded: ./zenodo_dl/1179631.zip\n",
      "\n",
      "[info] Paper_idx: 1559, Zenodo id: 1179577\n"
     ]
    },
    {
     "name": "stderr",
     "output_type": "stream",
     "text": [
      "1179577.zip: 386kB [00:01, 347kB/s]  \n"
     ]
    },
    {
     "name": "stdout",
     "output_type": "stream",
     "text": [
      "\n",
      "File successfully downloaded to: ./zenodo_dl/1179577.zip\n",
      "[info] File downloaded: ./zenodo_dl/1179577.zip\n",
      "\n",
      "[info] Paper_idx: 1560, Zenodo id: 1179489\n"
     ]
    },
    {
     "name": "stderr",
     "output_type": "stream",
     "text": [
      "1179489.zip: 662kB [00:01, 475kB/s]  \n"
     ]
    },
    {
     "name": "stdout",
     "output_type": "stream",
     "text": [
      "\n",
      "File successfully downloaded to: ./zenodo_dl/1179489.zip\n",
      "[info] File downloaded: ./zenodo_dl/1179489.zip\n",
      "\n",
      "[info] Paper_idx: 1561, Zenodo id: 1179551\n"
     ]
    },
    {
     "name": "stderr",
     "output_type": "stream",
     "text": [
      "1179551.zip: 751kB [00:01, 537kB/s]  \n"
     ]
    },
    {
     "name": "stdout",
     "output_type": "stream",
     "text": [
      "\n",
      "File successfully downloaded to: ./zenodo_dl/1179551.zip\n",
      "[info] File downloaded: ./zenodo_dl/1179551.zip\n",
      "\n",
      "[info] Paper_idx: 1562, Zenodo id: 1179641\n"
     ]
    },
    {
     "name": "stderr",
     "output_type": "stream",
     "text": [
      "1179641.zip: 322kB [00:01, 287kB/s]  \n"
     ]
    },
    {
     "name": "stdout",
     "output_type": "stream",
     "text": [
      "\n",
      "File successfully downloaded to: ./zenodo_dl/1179641.zip\n",
      "[info] File downloaded: ./zenodo_dl/1179641.zip\n",
      "\n",
      "[info] Paper_idx: 1563, Zenodo id: 1179539\n"
     ]
    },
    {
     "name": "stderr",
     "output_type": "stream",
     "text": [
      "1179539.zip: 703kB [00:01, 504kB/s]  \n"
     ]
    },
    {
     "name": "stdout",
     "output_type": "stream",
     "text": [
      "\n",
      "File successfully downloaded to: ./zenodo_dl/1179539.zip\n",
      "[info] File downloaded: ./zenodo_dl/1179539.zip\n",
      "\n",
      "[info] Paper_idx: 1564, Zenodo id: 1179517\n"
     ]
    },
    {
     "name": "stderr",
     "output_type": "stream",
     "text": [
      "1179517.zip: 428kB [00:01, 378kB/s]  \n"
     ]
    },
    {
     "name": "stdout",
     "output_type": "stream",
     "text": [
      "\n",
      "File successfully downloaded to: ./zenodo_dl/1179517.zip\n",
      "[info] File downloaded: ./zenodo_dl/1179517.zip\n",
      "\n",
      "[info] Paper_idx: 1565, Zenodo id: 1179649\n"
     ]
    },
    {
     "name": "stderr",
     "output_type": "stream",
     "text": [
      "1179649.zip: 284kB [00:01, 253kB/s]  \n"
     ]
    },
    {
     "name": "stdout",
     "output_type": "stream",
     "text": [
      "\n",
      "File successfully downloaded to: ./zenodo_dl/1179649.zip\n",
      "[info] File downloaded: ./zenodo_dl/1179649.zip\n",
      "\n",
      "[info] Paper_idx: 1566, Zenodo id: 1179595\n"
     ]
    },
    {
     "name": "stderr",
     "output_type": "stream",
     "text": [
      "1179595.zip: 459kB [00:01, 288kB/s]  \n"
     ]
    },
    {
     "name": "stdout",
     "output_type": "stream",
     "text": [
      "\n",
      "File successfully downloaded to: ./zenodo_dl/1179595.zip\n",
      "[info] File downloaded: ./zenodo_dl/1179595.zip\n",
      "\n",
      "[info] Paper_idx: 1567, Zenodo id: 1179573\n"
     ]
    },
    {
     "name": "stderr",
     "output_type": "stream",
     "text": [
      "1179573.zip: 296kB [00:01, 260kB/s]  \n"
     ]
    },
    {
     "name": "stdout",
     "output_type": "stream",
     "text": [
      "\n",
      "File successfully downloaded to: ./zenodo_dl/1179573.zip\n",
      "[info] File downloaded: ./zenodo_dl/1179573.zip\n",
      "\n",
      "[info] Paper_idx: 1568, Zenodo id: 1179505\n"
     ]
    },
    {
     "name": "stderr",
     "output_type": "stream",
     "text": [
      "1179505.zip: 815kB [00:02, 325kB/s]  \n"
     ]
    },
    {
     "name": "stdout",
     "output_type": "stream",
     "text": [
      "\n",
      "File successfully downloaded to: ./zenodo_dl/1179505.zip\n",
      "[info] File downloaded: ./zenodo_dl/1179505.zip\n",
      "\n",
      "[info] Paper_idx: 1569, Zenodo id: 1179507\n"
     ]
    },
    {
     "name": "stderr",
     "output_type": "stream",
     "text": [
      "1179507.zip: 1.32MB [00:04, 316kB/s] \n"
     ]
    },
    {
     "name": "stdout",
     "output_type": "stream",
     "text": [
      "\n",
      "File successfully downloaded to: ./zenodo_dl/1179507.zip\n",
      "[info] File downloaded: ./zenodo_dl/1179507.zip\n",
      "\n",
      "[info] Paper_idx: 1570, Zenodo id: 1179527\n"
     ]
    },
    {
     "name": "stderr",
     "output_type": "stream",
     "text": [
      "1179527.zip: 421kB [00:01, 375kB/s]  \n"
     ]
    },
    {
     "name": "stdout",
     "output_type": "stream",
     "text": [
      "\n",
      "File successfully downloaded to: ./zenodo_dl/1179527.zip\n",
      "[info] File downloaded: ./zenodo_dl/1179527.zip\n",
      "\n",
      "[info] Paper_idx: 1571, Zenodo id: 1179549\n"
     ]
    },
    {
     "name": "stderr",
     "output_type": "stream",
     "text": [
      "1179549.zip: 243kB [00:01, 218kB/s]  \n"
     ]
    },
    {
     "name": "stdout",
     "output_type": "stream",
     "text": [
      "\n",
      "File successfully downloaded to: ./zenodo_dl/1179549.zip\n",
      "[info] File downloaded: ./zenodo_dl/1179549.zip\n",
      "\n",
      "[info] Paper_idx: 1572, Zenodo id: 1179519\n"
     ]
    },
    {
     "name": "stderr",
     "output_type": "stream",
     "text": [
      "1179519.zip: 262kB [00:01, 245kB/s]  \n"
     ]
    },
    {
     "name": "stdout",
     "output_type": "stream",
     "text": [
      "\n",
      "File successfully downloaded to: ./zenodo_dl/1179519.zip\n",
      "[info] File downloaded: ./zenodo_dl/1179519.zip\n",
      "\n",
      "[info] Paper_idx: 1573, Zenodo id: 1179611\n"
     ]
    },
    {
     "name": "stderr",
     "output_type": "stream",
     "text": [
      "1179611.zip: 340kB [00:01, 305kB/s]  \n"
     ]
    },
    {
     "name": "stdout",
     "output_type": "stream",
     "text": [
      "\n",
      "File successfully downloaded to: ./zenodo_dl/1179611.zip\n",
      "[info] File downloaded: ./zenodo_dl/1179611.zip\n",
      "\n",
      "[info] Paper_idx: 1574, Zenodo id: 1179525\n"
     ]
    },
    {
     "name": "stderr",
     "output_type": "stream",
     "text": [
      "1179525.zip: 471kB [00:01, 281kB/s]  \n"
     ]
    },
    {
     "name": "stdout",
     "output_type": "stream",
     "text": [
      "\n",
      "File successfully downloaded to: ./zenodo_dl/1179525.zip\n",
      "[info] File downloaded: ./zenodo_dl/1179525.zip\n",
      "\n",
      "[info] Paper_idx: 1575, Zenodo id: 1179623\n"
     ]
    },
    {
     "name": "stderr",
     "output_type": "stream",
     "text": [
      "1179623.zip: 387kB [00:01, 348kB/s]  \n"
     ]
    },
    {
     "name": "stdout",
     "output_type": "stream",
     "text": [
      "\n",
      "File successfully downloaded to: ./zenodo_dl/1179623.zip\n",
      "[info] File downloaded: ./zenodo_dl/1179623.zip\n",
      "\n",
      "[info] Paper_idx: 1576, Zenodo id: 1179627\n"
     ]
    },
    {
     "name": "stderr",
     "output_type": "stream",
     "text": [
      "1179627.zip: 424kB [00:01, 356kB/s]  \n"
     ]
    },
    {
     "name": "stdout",
     "output_type": "stream",
     "text": [
      "\n",
      "File successfully downloaded to: ./zenodo_dl/1179627.zip\n",
      "[info] File downloaded: ./zenodo_dl/1179627.zip\n",
      "\n",
      "[info] Paper_idx: 1577, Zenodo id: 1179613\n"
     ]
    },
    {
     "name": "stderr",
     "output_type": "stream",
     "text": [
      "1179613.zip: 274kB [00:01, 246kB/s]  \n"
     ]
    },
    {
     "name": "stdout",
     "output_type": "stream",
     "text": [
      "\n",
      "File successfully downloaded to: ./zenodo_dl/1179613.zip\n",
      "[info] File downloaded: ./zenodo_dl/1179613.zip\n",
      "\n",
      "[info] Paper_idx: 1578, Zenodo id: 1179485\n"
     ]
    },
    {
     "name": "stderr",
     "output_type": "stream",
     "text": [
      "1179485.zip: 279kB [00:01, 248kB/s]  \n"
     ]
    },
    {
     "name": "stdout",
     "output_type": "stream",
     "text": [
      "\n",
      "File successfully downloaded to: ./zenodo_dl/1179485.zip\n",
      "[info] File downloaded: ./zenodo_dl/1179485.zip\n",
      "\n",
      "[info] Paper_idx: 1579, Zenodo id: 1179499\n"
     ]
    },
    {
     "name": "stderr",
     "output_type": "stream",
     "text": [
      "1179499.zip: 260kB [00:01, 245kB/s]  \n"
     ]
    },
    {
     "name": "stdout",
     "output_type": "stream",
     "text": [
      "\n",
      "File successfully downloaded to: ./zenodo_dl/1179499.zip\n",
      "[info] File downloaded: ./zenodo_dl/1179499.zip\n",
      "\n",
      "[info] Paper_idx: 1580, Zenodo id: 1179567\n"
     ]
    },
    {
     "name": "stderr",
     "output_type": "stream",
     "text": [
      "1179567.zip: 1.09MB [00:01, 569kB/s] \n"
     ]
    },
    {
     "name": "stdout",
     "output_type": "stream",
     "text": [
      "\n",
      "File successfully downloaded to: ./zenodo_dl/1179567.zip\n",
      "[info] File downloaded: ./zenodo_dl/1179567.zip\n",
      "\n",
      "[info] Paper_idx: 1581, Zenodo id: 1179491\n"
     ]
    },
    {
     "name": "stderr",
     "output_type": "stream",
     "text": [
      "1179491.zip: 499kB [00:01, 302kB/s]  \n"
     ]
    },
    {
     "name": "stdout",
     "output_type": "stream",
     "text": [
      "\n",
      "File successfully downloaded to: ./zenodo_dl/1179491.zip\n",
      "[info] File downloaded: ./zenodo_dl/1179491.zip\n",
      "\n",
      "[info] Paper_idx: 1582, Zenodo id: 1179511\n"
     ]
    },
    {
     "name": "stderr",
     "output_type": "stream",
     "text": [
      "1179511.zip: 318kB [00:01, 284kB/s]  \n"
     ]
    },
    {
     "name": "stdout",
     "output_type": "stream",
     "text": [
      "\n",
      "File successfully downloaded to: ./zenodo_dl/1179511.zip\n",
      "[info] File downloaded: ./zenodo_dl/1179511.zip\n",
      "\n",
      "[info] Paper_idx: 1583, Zenodo id: 1179555\n"
     ]
    },
    {
     "name": "stderr",
     "output_type": "stream",
     "text": [
      "1179555.zip: 213kB [00:00, 253kB/s]  \n"
     ]
    },
    {
     "name": "stdout",
     "output_type": "stream",
     "text": [
      "\n",
      "File successfully downloaded to: ./zenodo_dl/1179555.zip\n",
      "[info] File downloaded: ./zenodo_dl/1179555.zip\n",
      "\n",
      "[info] Paper_idx: 1584, Zenodo id: 1179523\n"
     ]
    },
    {
     "name": "stderr",
     "output_type": "stream",
     "text": [
      "1179523.zip: 267kB [00:01, 242kB/s]  \n"
     ]
    },
    {
     "name": "stdout",
     "output_type": "stream",
     "text": [
      "\n",
      "File successfully downloaded to: ./zenodo_dl/1179523.zip\n",
      "[info] File downloaded: ./zenodo_dl/1179523.zip\n",
      "\n",
      "[info] Paper_idx: 1585, Zenodo id: 1179639\n"
     ]
    },
    {
     "name": "stderr",
     "output_type": "stream",
     "text": [
      "1179639.zip: 342kB [00:01, 305kB/s]  \n"
     ]
    },
    {
     "name": "stdout",
     "output_type": "stream",
     "text": [
      "\n",
      "File successfully downloaded to: ./zenodo_dl/1179639.zip\n",
      "[info] File downloaded: ./zenodo_dl/1179639.zip\n",
      "\n",
      "[info] Paper_idx: 1586, Zenodo id: 1179581\n"
     ]
    },
    {
     "name": "stderr",
     "output_type": "stream",
     "text": [
      "1179581.zip: 225kB [00:00, 255kB/s]  \n"
     ]
    },
    {
     "name": "stdout",
     "output_type": "stream",
     "text": [
      "\n",
      "File successfully downloaded to: ./zenodo_dl/1179581.zip\n",
      "[info] File downloaded: ./zenodo_dl/1179581.zip\n",
      "\n",
      "[info] Paper_idx: 1587, Zenodo id: 1179591\n"
     ]
    },
    {
     "name": "stderr",
     "output_type": "stream",
     "text": [
      "1179591.zip: 833kB [00:01, 600kB/s]  \n"
     ]
    },
    {
     "name": "stdout",
     "output_type": "stream",
     "text": [
      "\n",
      "File successfully downloaded to: ./zenodo_dl/1179591.zip\n",
      "[info] File downloaded: ./zenodo_dl/1179591.zip\n",
      "\n",
      "[info] Paper_idx: 1588, Zenodo id: 1179605\n"
     ]
    },
    {
     "name": "stderr",
     "output_type": "stream",
     "text": [
      "1179605.zip: 338kB [00:01, 241kB/s]  \n"
     ]
    },
    {
     "name": "stdout",
     "output_type": "stream",
     "text": [
      "\n",
      "File successfully downloaded to: ./zenodo_dl/1179605.zip\n",
      "[info] File downloaded: ./zenodo_dl/1179605.zip\n",
      "\n",
      "[info] Paper_idx: 1589, Zenodo id: 1179583\n"
     ]
    },
    {
     "name": "stderr",
     "output_type": "stream",
     "text": [
      "1179583.zip: 351kB [00:01, 287kB/s]  \n"
     ]
    },
    {
     "name": "stdout",
     "output_type": "stream",
     "text": [
      "\n",
      "File successfully downloaded to: ./zenodo_dl/1179583.zip\n",
      "[info] File downloaded: ./zenodo_dl/1179583.zip\n",
      "\n",
      "[info] Paper_idx: 1590, Zenodo id: 1179513\n"
     ]
    },
    {
     "name": "stderr",
     "output_type": "stream",
     "text": [
      "1179513.zip: 274kB [00:01, 244kB/s]  \n"
     ]
    },
    {
     "name": "stdout",
     "output_type": "stream",
     "text": [
      "\n",
      "File successfully downloaded to: ./zenodo_dl/1179513.zip\n",
      "[info] File downloaded: ./zenodo_dl/1179513.zip\n",
      "\n",
      "[info] Paper_idx: 1591, Zenodo id: 1179547\n"
     ]
    },
    {
     "name": "stderr",
     "output_type": "stream",
     "text": [
      "1179547.zip: 288kB [00:01, 258kB/s]  \n"
     ]
    },
    {
     "name": "stdout",
     "output_type": "stream",
     "text": [
      "\n",
      "File successfully downloaded to: ./zenodo_dl/1179547.zip\n",
      "[info] File downloaded: ./zenodo_dl/1179547.zip\n",
      "\n",
      "[info] Paper_idx: 1592, Zenodo id: 1179561\n"
     ]
    },
    {
     "name": "stderr",
     "output_type": "stream",
     "text": [
      "1179561.zip: 660kB [00:02, 263kB/s]  \n"
     ]
    },
    {
     "name": "stdout",
     "output_type": "stream",
     "text": [
      "\n",
      "File successfully downloaded to: ./zenodo_dl/1179561.zip\n",
      "[info] File downloaded: ./zenodo_dl/1179561.zip\n",
      "\n",
      "[info] Paper_idx: 1593, Zenodo id: 1177461\n"
     ]
    },
    {
     "name": "stderr",
     "output_type": "stream",
     "text": [
      "1177461.zip: 279kB [00:01, 201kB/s]  \n"
     ]
    },
    {
     "name": "stdout",
     "output_type": "stream",
     "text": [
      "\n",
      "File successfully downloaded to: ./zenodo_dl/1177461.zip\n",
      "[info] File downloaded: ./zenodo_dl/1177461.zip\n",
      "\n",
      "[info] Paper_idx: 1594, Zenodo id: 1179621\n"
     ]
    },
    {
     "name": "stderr",
     "output_type": "stream",
     "text": [
      "1179621.zip: 306kB [00:01, 265kB/s]  \n"
     ]
    },
    {
     "name": "stdout",
     "output_type": "stream",
     "text": [
      "\n",
      "File successfully downloaded to: ./zenodo_dl/1179621.zip\n",
      "[info] File downloaded: ./zenodo_dl/1179621.zip\n",
      "\n",
      "[info] Paper_idx: 1595, Zenodo id: 1179645\n"
     ]
    },
    {
     "name": "stderr",
     "output_type": "stream",
     "text": [
      "1179645.zip: 4.41MB [00:11, 379kB/s] \n"
     ]
    },
    {
     "name": "stdout",
     "output_type": "stream",
     "text": [
      "\n",
      "File successfully downloaded to: ./zenodo_dl/1179645.zip\n",
      "[info] File downloaded: ./zenodo_dl/1179645.zip\n",
      "\n",
      "[info] Paper_idx: 1596, Zenodo id: 1179643\n"
     ]
    },
    {
     "name": "stderr",
     "output_type": "stream",
     "text": [
      "1179643.zip: 815kB [00:02, 294kB/s]  \n"
     ]
    },
    {
     "name": "stdout",
     "output_type": "stream",
     "text": [
      "\n",
      "File successfully downloaded to: ./zenodo_dl/1179643.zip\n",
      "[info] File downloaded: ./zenodo_dl/1179643.zip\n",
      "\n",
      "[info] Paper_idx: 1597, Zenodo id: 1177459\n"
     ]
    },
    {
     "name": "stderr",
     "output_type": "stream",
     "text": [
      "1177459.zip: 494kB [00:01, 255kB/s]  \n"
     ]
    },
    {
     "name": "stdout",
     "output_type": "stream",
     "text": [
      "\n",
      "File successfully downloaded to: ./zenodo_dl/1177459.zip\n",
      "[info] File downloaded: ./zenodo_dl/1177459.zip\n",
      "\n",
      "[info] Paper_idx: 1598, Zenodo id: 1179515\n"
     ]
    },
    {
     "name": "stderr",
     "output_type": "stream",
     "text": [
      "1179515.zip: 215kB [00:01, 191kB/s]  \n"
     ]
    },
    {
     "name": "stdout",
     "output_type": "stream",
     "text": [
      "\n",
      "File successfully downloaded to: ./zenodo_dl/1179515.zip\n",
      "[info] File downloaded: ./zenodo_dl/1179515.zip\n",
      "\n",
      "[info] Paper_idx: 1599, Zenodo id: 1179637\n"
     ]
    },
    {
     "name": "stderr",
     "output_type": "stream",
     "text": [
      "1179637.zip: 280kB [00:01, 244kB/s]  \n"
     ]
    },
    {
     "name": "stdout",
     "output_type": "stream",
     "text": [
      "\n",
      "File successfully downloaded to: ./zenodo_dl/1179637.zip\n",
      "[info] File downloaded: ./zenodo_dl/1179637.zip\n",
      "\n",
      "[info] Paper_idx: 1600, Zenodo id: 1179587\n"
     ]
    },
    {
     "name": "stderr",
     "output_type": "stream",
     "text": [
      "1179587.zip: 538kB [00:01, 270kB/s]  \n"
     ]
    },
    {
     "name": "stdout",
     "output_type": "stream",
     "text": [
      "\n",
      "File successfully downloaded to: ./zenodo_dl/1179587.zip\n",
      "[info] File downloaded: ./zenodo_dl/1179587.zip\n",
      "\n",
      "[info] Paper_idx: 1601, Zenodo id: 1179559\n"
     ]
    },
    {
     "name": "stderr",
     "output_type": "stream",
     "text": [
      "1179559.zip: 377kB [00:01, 337kB/s]  \n"
     ]
    },
    {
     "name": "stdout",
     "output_type": "stream",
     "text": [
      "\n",
      "File successfully downloaded to: ./zenodo_dl/1179559.zip\n",
      "[info] File downloaded: ./zenodo_dl/1179559.zip\n",
      "\n",
      "[info] Paper_idx: 1602, Zenodo id: 1179563\n"
     ]
    },
    {
     "name": "stderr",
     "output_type": "stream",
     "text": [
      "1179563.zip: 235kB [00:00, 274kB/s]  \n"
     ]
    },
    {
     "name": "stdout",
     "output_type": "stream",
     "text": [
      "\n",
      "File successfully downloaded to: ./zenodo_dl/1179563.zip\n",
      "[info] File downloaded: ./zenodo_dl/1179563.zip\n",
      "\n",
      "[info] Paper_idx: 1603, Zenodo id: 1179553\n"
     ]
    },
    {
     "name": "stderr",
     "output_type": "stream",
     "text": [
      "1179553.zip: 212kB [00:00, 253kB/s]  \n"
     ]
    },
    {
     "name": "stdout",
     "output_type": "stream",
     "text": [
      "\n",
      "File successfully downloaded to: ./zenodo_dl/1179553.zip\n",
      "[info] File downloaded: ./zenodo_dl/1179553.zip\n",
      "\n",
      "[info] Paper_idx: 1604, Zenodo id: 1179635\n"
     ]
    },
    {
     "name": "stderr",
     "output_type": "stream",
     "text": [
      "1179635.zip: 348kB [00:01, 308kB/s]  \n"
     ]
    },
    {
     "name": "stdout",
     "output_type": "stream",
     "text": [
      "\n",
      "File successfully downloaded to: ./zenodo_dl/1179635.zip\n",
      "[info] File downloaded: ./zenodo_dl/1179635.zip\n",
      "\n",
      "[info] Paper_idx: 1605, Zenodo id: 1179609\n"
     ]
    },
    {
     "name": "stderr",
     "output_type": "stream",
     "text": [
      "1179609.zip: 445kB [00:01, 397kB/s]  \n"
     ]
    },
    {
     "name": "stdout",
     "output_type": "stream",
     "text": [
      "\n",
      "File successfully downloaded to: ./zenodo_dl/1179609.zip\n",
      "[info] File downloaded: ./zenodo_dl/1179609.zip\n",
      "\n",
      "[info] Paper_idx: 1606, Zenodo id: 1179493\n"
     ]
    },
    {
     "name": "stderr",
     "output_type": "stream",
     "text": [
      "1179493.zip: 358kB [00:01, 257kB/s]  \n"
     ]
    },
    {
     "name": "stdout",
     "output_type": "stream",
     "text": [
      "\n",
      "File successfully downloaded to: ./zenodo_dl/1179493.zip\n",
      "[info] File downloaded: ./zenodo_dl/1179493.zip\n",
      "\n",
      "[info] Paper_idx: 1607, Zenodo id: 1179545\n"
     ]
    },
    {
     "name": "stderr",
     "output_type": "stream",
     "text": [
      "1179545.zip: 411kB [00:01, 245kB/s]  \n"
     ]
    },
    {
     "name": "stdout",
     "output_type": "stream",
     "text": [
      "\n",
      "File successfully downloaded to: ./zenodo_dl/1179545.zip\n",
      "[info] File downloaded: ./zenodo_dl/1179545.zip\n",
      "\n",
      "[info] Paper_idx: 1608, Zenodo id: 1179565\n"
     ]
    },
    {
     "name": "stderr",
     "output_type": "stream",
     "text": [
      "1179565.zip: 396kB [00:01, 236kB/s]  \n"
     ]
    },
    {
     "name": "stdout",
     "output_type": "stream",
     "text": [
      "\n",
      "File successfully downloaded to: ./zenodo_dl/1179565.zip\n",
      "[info] File downloaded: ./zenodo_dl/1179565.zip\n",
      "\n",
      "[info] Paper_idx: 1609, Zenodo id: 1179615\n"
     ]
    },
    {
     "name": "stderr",
     "output_type": "stream",
     "text": [
      "1179615.zip: 281kB [00:01, 185kB/s]  \n"
     ]
    },
    {
     "name": "stdout",
     "output_type": "stream",
     "text": [
      "\n",
      "File successfully downloaded to: ./zenodo_dl/1179615.zip\n",
      "[info] File downloaded: ./zenodo_dl/1179615.zip\n",
      "\n",
      "[info] Paper_idx: 1610, Zenodo id: 1179569\n"
     ]
    },
    {
     "name": "stderr",
     "output_type": "stream",
     "text": [
      "1179569.zip: 466kB [00:01, 276kB/s]  \n"
     ]
    },
    {
     "name": "stdout",
     "output_type": "stream",
     "text": [
      "\n",
      "File successfully downloaded to: ./zenodo_dl/1179569.zip\n",
      "[info] File downloaded: ./zenodo_dl/1179569.zip\n",
      "\n",
      "[info] Paper_idx: 1611, Zenodo id: 1179619\n"
     ]
    },
    {
     "name": "stderr",
     "output_type": "stream",
     "text": [
      "1179619.zip: 640kB [00:02, 290kB/s]  \n"
     ]
    },
    {
     "name": "stdout",
     "output_type": "stream",
     "text": [
      "\n",
      "File successfully downloaded to: ./zenodo_dl/1179619.zip\n",
      "[info] File downloaded: ./zenodo_dl/1179619.zip\n",
      "\n",
      "[info] Paper_idx: 1612, Zenodo id: 1179541\n"
     ]
    },
    {
     "name": "stderr",
     "output_type": "stream",
     "text": [
      "1179541.zip: 449kB [00:01, 369kB/s]  \n"
     ]
    },
    {
     "name": "stdout",
     "output_type": "stream",
     "text": [
      "\n",
      "File successfully downloaded to: ./zenodo_dl/1179541.zip\n",
      "[info] File downloaded: ./zenodo_dl/1179541.zip\n",
      "\n",
      "[info] Paper_idx: 1613, Zenodo id: 1179509\n"
     ]
    },
    {
     "name": "stderr",
     "output_type": "stream",
     "text": [
      "1179509.zip: 345kB [00:01, 307kB/s]  \n"
     ]
    },
    {
     "name": "stdout",
     "output_type": "stream",
     "text": [
      "\n",
      "File successfully downloaded to: ./zenodo_dl/1179509.zip\n",
      "[info] File downloaded: ./zenodo_dl/1179509.zip\n",
      "\n",
      "[info] Paper_idx: 1614, Zenodo id: 1179647\n"
     ]
    },
    {
     "name": "stderr",
     "output_type": "stream",
     "text": [
      "1179647.zip: 500kB [00:01, 256kB/s]  \n"
     ]
    },
    {
     "name": "stdout",
     "output_type": "stream",
     "text": [
      "\n",
      "File successfully downloaded to: ./zenodo_dl/1179647.zip\n",
      "[info] File downloaded: ./zenodo_dl/1179647.zip\n",
      "\n",
      "[info] Paper_idx: 1615, Zenodo id: 1179625\n"
     ]
    },
    {
     "name": "stderr",
     "output_type": "stream",
     "text": [
      "1179625.zip: 516kB [00:02, 231kB/s]  \n"
     ]
    },
    {
     "name": "stdout",
     "output_type": "stream",
     "text": [
      "\n",
      "File successfully downloaded to: ./zenodo_dl/1179625.zip\n",
      "[info] File downloaded: ./zenodo_dl/1179625.zip\n",
      "\n",
      "[info] Paper_idx: 1616, Zenodo id: 1179529\n"
     ]
    },
    {
     "name": "stderr",
     "output_type": "stream",
     "text": [
      "1179529.zip: 248kB [00:01, 178kB/s]  \n"
     ]
    },
    {
     "name": "stdout",
     "output_type": "stream",
     "text": [
      "\n",
      "File successfully downloaded to: ./zenodo_dl/1179529.zip\n",
      "[info] File downloaded: ./zenodo_dl/1179529.zip\n",
      "\n",
      "[info] Paper_idx: 1617, Zenodo id: 1179597\n"
     ]
    },
    {
     "name": "stderr",
     "output_type": "stream",
     "text": [
      "1179597.zip: 130kB [00:00, 155kB/s]  \n"
     ]
    },
    {
     "name": "stdout",
     "output_type": "stream",
     "text": [
      "\n",
      "File successfully downloaded to: ./zenodo_dl/1179597.zip\n",
      "[info] File downloaded: ./zenodo_dl/1179597.zip\n",
      "\n",
      "[info] Paper_idx: 1618, Zenodo id: 1179533\n"
     ]
    },
    {
     "name": "stderr",
     "output_type": "stream",
     "text": [
      "1179533.zip: 177kB [00:00, 209kB/s]  \n"
     ]
    },
    {
     "name": "stdout",
     "output_type": "stream",
     "text": [
      "\n",
      "File successfully downloaded to: ./zenodo_dl/1179533.zip\n",
      "[info] File downloaded: ./zenodo_dl/1179533.zip\n",
      "\n",
      "[info] Paper_idx: 1619, Zenodo id: 1179575\n"
     ]
    },
    {
     "name": "stderr",
     "output_type": "stream",
     "text": [
      "1179575.zip: 295kB [00:01, 212kB/s]  \n"
     ]
    },
    {
     "name": "stdout",
     "output_type": "stream",
     "text": [
      "\n",
      "File successfully downloaded to: ./zenodo_dl/1179575.zip\n",
      "[info] File downloaded: ./zenodo_dl/1179575.zip\n",
      "\n",
      "[info] Paper_idx: 1620, Zenodo id: 1179535\n"
     ]
    },
    {
     "name": "stderr",
     "output_type": "stream",
     "text": [
      "1179535.zip: 179kB [00:00, 214kB/s]  \n"
     ]
    },
    {
     "name": "stdout",
     "output_type": "stream",
     "text": [
      "\n",
      "File successfully downloaded to: ./zenodo_dl/1179535.zip\n",
      "[info] File downloaded: ./zenodo_dl/1179535.zip\n",
      "\n",
      "[info] Paper_idx: 1621, Zenodo id: 1179557\n"
     ]
    },
    {
     "name": "stderr",
     "output_type": "stream",
     "text": [
      "1179557.zip: 137kB [00:00, 156kB/s]  \n"
     ]
    },
    {
     "name": "stdout",
     "output_type": "stream",
     "text": [
      "\n",
      "File successfully downloaded to: ./zenodo_dl/1179557.zip\n",
      "[info] File downloaded: ./zenodo_dl/1179557.zip\n",
      "\n",
      "[info] Paper_idx: 1622, Zenodo id: 1179601\n"
     ]
    },
    {
     "name": "stderr",
     "output_type": "stream",
     "text": [
      "1179601.zip: 198kB [00:00, 233kB/s]  \n"
     ]
    },
    {
     "name": "stdout",
     "output_type": "stream",
     "text": [
      "\n",
      "File successfully downloaded to: ./zenodo_dl/1179601.zip\n",
      "[info] File downloaded: ./zenodo_dl/1179601.zip\n",
      "\n",
      "[info] Paper_idx: 1623, Zenodo id: 1179633\n"
     ]
    },
    {
     "name": "stderr",
     "output_type": "stream",
     "text": [
      "1179633.zip: 263kB [00:01, 228kB/s]  \n"
     ]
    },
    {
     "name": "stdout",
     "output_type": "stream",
     "text": [
      "\n",
      "File successfully downloaded to: ./zenodo_dl/1179633.zip\n",
      "[info] File downloaded: ./zenodo_dl/1179633.zip\n",
      "\n",
      "[info] Paper_idx: 1624, Zenodo id: 1179629\n"
     ]
    },
    {
     "name": "stderr",
     "output_type": "stream",
     "text": [
      "1179629.zip: 196kB [00:01, 174kB/s]  \n"
     ]
    },
    {
     "name": "stdout",
     "output_type": "stream",
     "text": [
      "\n",
      "File successfully downloaded to: ./zenodo_dl/1179629.zip\n",
      "[info] File downloaded: ./zenodo_dl/1179629.zip\n",
      "\n",
      "[info] Paper_idx: 1625, Zenodo id: 1179593\n"
     ]
    },
    {
     "name": "stderr",
     "output_type": "stream",
     "text": [
      "1179593.zip: 167kB [00:00, 198kB/s]  \n"
     ]
    },
    {
     "name": "stdout",
     "output_type": "stream",
     "text": [
      "\n",
      "File successfully downloaded to: ./zenodo_dl/1179593.zip\n",
      "[info] File downloaded: ./zenodo_dl/1179593.zip\n",
      "\n",
      "[info] Paper_idx: 1626, Zenodo id: 1179531\n"
     ]
    },
    {
     "name": "stderr",
     "output_type": "stream",
     "text": [
      "1179531.zip: 349kB [00:01, 250kB/s]  \n"
     ]
    },
    {
     "name": "stdout",
     "output_type": "stream",
     "text": [
      "\n",
      "File successfully downloaded to: ./zenodo_dl/1179531.zip\n",
      "[info] File downloaded: ./zenodo_dl/1179531.zip\n",
      "\n",
      "[info] Paper_idx: 1627, Zenodo id: 1179571\n"
     ]
    },
    {
     "name": "stderr",
     "output_type": "stream",
     "text": [
      "1179571.zip: 214kB [00:01, 132kB/s]  \n"
     ]
    },
    {
     "name": "stdout",
     "output_type": "stream",
     "text": [
      "\n",
      "File successfully downloaded to: ./zenodo_dl/1179571.zip\n",
      "[info] File downloaded: ./zenodo_dl/1179571.zip\n",
      "\n",
      "[info] Paper_idx: 1628, Zenodo id: 1179521\n"
     ]
    },
    {
     "name": "stderr",
     "output_type": "stream",
     "text": [
      "1179521.zip: 103kB [00:00, 171kB/s]  \n"
     ]
    },
    {
     "name": "stdout",
     "output_type": "stream",
     "text": [
      "\n",
      "File successfully downloaded to: ./zenodo_dl/1179521.zip\n",
      "[info] File downloaded: ./zenodo_dl/1179521.zip\n",
      "\n",
      "[info] Paper_idx: 1629, Zenodo id: 1177131\n"
     ]
    },
    {
     "name": "stderr",
     "output_type": "stream",
     "text": [
      "1177131.zip: 421kB [00:01, 373kB/s]  \n"
     ]
    },
    {
     "name": "stdout",
     "output_type": "stream",
     "text": [
      "\n",
      "File successfully downloaded to: ./zenodo_dl/1177131.zip\n",
      "[info] File downloaded: ./zenodo_dl/1177131.zip\n",
      "\n",
      "[info] Paper_idx: 1630, Zenodo id: 1177051\n"
     ]
    },
    {
     "name": "stderr",
     "output_type": "stream",
     "text": [
      "1177051.zip: 295kB [00:01, 265kB/s]  \n"
     ]
    },
    {
     "name": "stdout",
     "output_type": "stream",
     "text": [
      "\n",
      "File successfully downloaded to: ./zenodo_dl/1177051.zip\n",
      "[info] File downloaded: ./zenodo_dl/1177051.zip\n",
      "\n",
      "[info] Paper_idx: 1631, Zenodo id: 1177071\n"
     ]
    },
    {
     "name": "stderr",
     "output_type": "stream",
     "text": [
      "1177071.zip: 571kB [00:02, 258kB/s]  \n"
     ]
    },
    {
     "name": "stdout",
     "output_type": "stream",
     "text": [
      "\n",
      "File successfully downloaded to: ./zenodo_dl/1177071.zip\n",
      "[info] File downloaded: ./zenodo_dl/1177071.zip\n",
      "\n",
      "[info] Paper_idx: 1632, Zenodo id: 1179479\n"
     ]
    },
    {
     "name": "stderr",
     "output_type": "stream",
     "text": [
      "1179479.zip: 1.89MB [00:01, 1.11MB/s]\n"
     ]
    },
    {
     "name": "stdout",
     "output_type": "stream",
     "text": [
      "\n",
      "File successfully downloaded to: ./zenodo_dl/1179479.zip\n",
      "[info] File downloaded: ./zenodo_dl/1179479.zip\n",
      "\n",
      "[info] Paper_idx: 1633, Zenodo id: 1177067\n"
     ]
    },
    {
     "name": "stderr",
     "output_type": "stream",
     "text": [
      "1177067.zip: 423kB [00:01, 252kB/s]  \n"
     ]
    },
    {
     "name": "stdout",
     "output_type": "stream",
     "text": [
      "\n",
      "File successfully downloaded to: ./zenodo_dl/1177067.zip\n",
      "[info] File downloaded: ./zenodo_dl/1177067.zip\n",
      "\n",
      "[info] Paper_idx: 1634, Zenodo id: 1177145\n"
     ]
    },
    {
     "name": "stderr",
     "output_type": "stream",
     "text": [
      "1177145.zip: 549kB [00:01, 410kB/s]  \n"
     ]
    },
    {
     "name": "stdout",
     "output_type": "stream",
     "text": [
      "\n",
      "File successfully downloaded to: ./zenodo_dl/1177145.zip\n",
      "[info] File downloaded: ./zenodo_dl/1177145.zip\n",
      "\n",
      "[info] Paper_idx: 1635, Zenodo id: 1177059\n"
     ]
    },
    {
     "name": "stderr",
     "output_type": "stream",
     "text": [
      "1177059.zip: 688kB [00:02, 308kB/s]  \n"
     ]
    },
    {
     "name": "stdout",
     "output_type": "stream",
     "text": [
      "\n",
      "File successfully downloaded to: ./zenodo_dl/1177059.zip\n",
      "[info] File downloaded: ./zenodo_dl/1177059.zip\n",
      "\n",
      "[info] Paper_idx: 1636, Zenodo id: 1177039\n"
     ]
    },
    {
     "name": "stderr",
     "output_type": "stream",
     "text": [
      "1177039.zip: 1.88MB [00:02, 867kB/s] \n"
     ]
    },
    {
     "name": "stdout",
     "output_type": "stream",
     "text": [
      "\n",
      "File successfully downloaded to: ./zenodo_dl/1177039.zip\n",
      "[info] File downloaded: ./zenodo_dl/1177039.zip\n",
      "\n",
      "[info] Paper_idx: 1637, Zenodo id: 1177175\n"
     ]
    },
    {
     "name": "stderr",
     "output_type": "stream",
     "text": [
      "1177175.zip: 4.02MB [00:11, 338kB/s] \n"
     ]
    },
    {
     "name": "stdout",
     "output_type": "stream",
     "text": [
      "\n",
      "File successfully downloaded to: ./zenodo_dl/1177175.zip\n",
      "[info] File downloaded: ./zenodo_dl/1177175.zip\n",
      "\n",
      "[info] Paper_idx: 1638, Zenodo id: 1177217\n"
     ]
    },
    {
     "name": "stderr",
     "output_type": "stream",
     "text": [
      "1177217.zip: 437kB [00:01, 391kB/s]  \n"
     ]
    },
    {
     "name": "stdout",
     "output_type": "stream",
     "text": [
      "\n",
      "File successfully downloaded to: ./zenodo_dl/1177217.zip\n",
      "[info] File downloaded: ./zenodo_dl/1177217.zip\n",
      "\n",
      "[info] Paper_idx: 1639, Zenodo id: 1177027\n"
     ]
    },
    {
     "name": "stderr",
     "output_type": "stream",
     "text": [
      "1177027.zip: 521kB [00:01, 323kB/s]  \n"
     ]
    },
    {
     "name": "stdout",
     "output_type": "stream",
     "text": [
      "\n",
      "File successfully downloaded to: ./zenodo_dl/1177027.zip\n",
      "[info] File downloaded: ./zenodo_dl/1177027.zip\n",
      "\n",
      "[info] Paper_idx: 1640, Zenodo id: 1177255\n"
     ]
    },
    {
     "name": "stderr",
     "output_type": "stream",
     "text": [
      "1177255.zip: 546kB [00:01, 406kB/s]  \n"
     ]
    },
    {
     "name": "stdout",
     "output_type": "stream",
     "text": [
      "\n",
      "File successfully downloaded to: ./zenodo_dl/1177255.zip\n",
      "[info] File downloaded: ./zenodo_dl/1177255.zip\n",
      "\n",
      "[info] Paper_idx: 1641, Zenodo id: 1177211\n"
     ]
    },
    {
     "name": "stderr",
     "output_type": "stream",
     "text": [
      "1177211.zip: 821kB [00:02, 296kB/s]  \n"
     ]
    },
    {
     "name": "stdout",
     "output_type": "stream",
     "text": [
      "\n",
      "File successfully downloaded to: ./zenodo_dl/1177211.zip\n",
      "[info] File downloaded: ./zenodo_dl/1177211.zip\n",
      "\n",
      "[info] Paper_idx: 1642, Zenodo id: 1177171\n"
     ]
    },
    {
     "name": "stderr",
     "output_type": "stream",
     "text": [
      "1177171.zip: 488kB [00:01, 437kB/s]  \n"
     ]
    },
    {
     "name": "stdout",
     "output_type": "stream",
     "text": [
      "\n",
      "File successfully downloaded to: ./zenodo_dl/1177171.zip\n",
      "[info] File downloaded: ./zenodo_dl/1177171.zip\n",
      "\n",
      "[info] Paper_idx: 1643, Zenodo id: 1179483\n"
     ]
    },
    {
     "name": "stderr",
     "output_type": "stream",
     "text": [
      "1179483.zip: 2.09MB [00:01, 1.10MB/s]\n"
     ]
    },
    {
     "name": "stdout",
     "output_type": "stream",
     "text": [
      "\n",
      "File successfully downloaded to: ./zenodo_dl/1179483.zip\n",
      "[info] File downloaded: ./zenodo_dl/1179483.zip\n",
      "\n",
      "[info] Paper_idx: 1644, Zenodo id: 1177107\n"
     ]
    },
    {
     "name": "stderr",
     "output_type": "stream",
     "text": [
      "1177107.zip: 402kB [00:01, 356kB/s]  \n"
     ]
    },
    {
     "name": "stdout",
     "output_type": "stream",
     "text": [
      "\n",
      "File successfully downloaded to: ./zenodo_dl/1177107.zip\n",
      "[info] File downloaded: ./zenodo_dl/1177107.zip\n",
      "\n",
      "[info] Paper_idx: 1645, Zenodo id: 1177209\n"
     ]
    },
    {
     "name": "stderr",
     "output_type": "stream",
     "text": [
      "1177209.zip: 282kB [00:01, 251kB/s]  \n"
     ]
    },
    {
     "name": "stdout",
     "output_type": "stream",
     "text": [
      "\n",
      "File successfully downloaded to: ./zenodo_dl/1177209.zip\n",
      "[info] File downloaded: ./zenodo_dl/1177209.zip\n",
      "\n",
      "[info] Paper_idx: 1646, Zenodo id: 1177181\n"
     ]
    },
    {
     "name": "stderr",
     "output_type": "stream",
     "text": [
      "1177181.zip: 1.63MB [00:05, 326kB/s] \n"
     ]
    },
    {
     "name": "stdout",
     "output_type": "stream",
     "text": [
      "\n",
      "File successfully downloaded to: ./zenodo_dl/1177181.zip\n",
      "[info] File downloaded: ./zenodo_dl/1177181.zip\n",
      "\n",
      "[info] Paper_idx: 1647, Zenodo id: 1177045\n"
     ]
    },
    {
     "name": "stderr",
     "output_type": "stream",
     "text": [
      "1177045.zip: 3.23MB [00:01, 1.64MB/s]\n"
     ]
    },
    {
     "name": "stdout",
     "output_type": "stream",
     "text": [
      "\n",
      "File successfully downloaded to: ./zenodo_dl/1177045.zip\n",
      "[info] File downloaded: ./zenodo_dl/1177045.zip\n",
      "\n",
      "[info] Paper_idx: 1648, Zenodo id: 1177081\n"
     ]
    },
    {
     "name": "stderr",
     "output_type": "stream",
     "text": [
      "1177081.zip: 1.01MB [00:01, 702kB/s] \n"
     ]
    },
    {
     "name": "stdout",
     "output_type": "stream",
     "text": [
      "\n",
      "File successfully downloaded to: ./zenodo_dl/1177081.zip\n",
      "[info] File downloaded: ./zenodo_dl/1177081.zip\n",
      "\n",
      "[info] Paper_idx: 1649, Zenodo id: 1177159\n"
     ]
    },
    {
     "name": "stderr",
     "output_type": "stream",
     "text": [
      "1177159.zip: 706kB [00:02, 283kB/s]  \n"
     ]
    },
    {
     "name": "stdout",
     "output_type": "stream",
     "text": [
      "\n",
      "File successfully downloaded to: ./zenodo_dl/1177159.zip\n",
      "[info] File downloaded: ./zenodo_dl/1177159.zip\n",
      "\n",
      "[info] Paper_idx: 1650, Zenodo id: 1177055\n"
     ]
    },
    {
     "name": "stderr",
     "output_type": "stream",
     "text": [
      "1177055.zip: 297kB [00:01, 267kB/s]  \n"
     ]
    },
    {
     "name": "stdout",
     "output_type": "stream",
     "text": [
      "\n",
      "File successfully downloaded to: ./zenodo_dl/1177055.zip\n",
      "[info] File downloaded: ./zenodo_dl/1177055.zip\n",
      "\n",
      "[info] Paper_idx: 1651, Zenodo id: 1177199\n"
     ]
    },
    {
     "name": "stderr",
     "output_type": "stream",
     "text": [
      "1177199.zip: 542kB [00:01, 278kB/s]  \n"
     ]
    },
    {
     "name": "stdout",
     "output_type": "stream",
     "text": [
      "\n",
      "File successfully downloaded to: ./zenodo_dl/1177199.zip\n",
      "[info] File downloaded: ./zenodo_dl/1177199.zip\n",
      "\n",
      "[info] Paper_idx: 1652, Zenodo id: 1177033\n"
     ]
    },
    {
     "name": "stderr",
     "output_type": "stream",
     "text": [
      "1177033.zip: 1.90MB [00:05, 343kB/s] \n"
     ]
    },
    {
     "name": "stdout",
     "output_type": "stream",
     "text": [
      "\n",
      "File successfully downloaded to: ./zenodo_dl/1177033.zip\n",
      "[info] File downloaded: ./zenodo_dl/1177033.zip\n",
      "\n",
      "[info] Paper_idx: 1653, Zenodo id: 1177233\n"
     ]
    },
    {
     "name": "stderr",
     "output_type": "stream",
     "text": [
      "1177233.zip: 591kB [00:02, 266kB/s] \n"
     ]
    },
    {
     "name": "stdout",
     "output_type": "stream",
     "text": [
      "\n",
      "File successfully downloaded to: ./zenodo_dl/1177233.zip\n",
      "[info] File downloaded: ./zenodo_dl/1177233.zip\n",
      "\n",
      "[info] Paper_idx: 1654, Zenodo id: 1177087\n"
     ]
    },
    {
     "name": "stderr",
     "output_type": "stream",
     "text": [
      "1177087.zip: 675kB [00:01, 481kB/s]  \n"
     ]
    },
    {
     "name": "stdout",
     "output_type": "stream",
     "text": [
      "\n",
      "File successfully downloaded to: ./zenodo_dl/1177087.zip\n",
      "[info] File downloaded: ./zenodo_dl/1177087.zip\n",
      "\n",
      "[info] Paper_idx: 1655, Zenodo id: 1177201\n"
     ]
    },
    {
     "name": "stderr",
     "output_type": "stream",
     "text": [
      "1177201.zip: 535kB [00:01, 399kB/s]  \n"
     ]
    },
    {
     "name": "stdout",
     "output_type": "stream",
     "text": [
      "\n",
      "File successfully downloaded to: ./zenodo_dl/1177201.zip\n",
      "[info] File downloaded: ./zenodo_dl/1177201.zip\n",
      "\n",
      "[info] Paper_idx: 1656, Zenodo id: 1177163\n"
     ]
    },
    {
     "name": "stderr",
     "output_type": "stream",
     "text": [
      "1177163.zip: 2.40MB [00:06, 346kB/s] \n"
     ]
    },
    {
     "name": "stdout",
     "output_type": "stream",
     "text": [
      "\n",
      "File successfully downloaded to: ./zenodo_dl/1177163.zip\n",
      "[info] File downloaded: ./zenodo_dl/1177163.zip\n",
      "\n",
      "[info] Paper_idx: 1657, Zenodo id: 1177035\n"
     ]
    },
    {
     "name": "stderr",
     "output_type": "stream",
     "text": [
      "1177035.zip: 341kB [00:01, 245kB/s]  \n"
     ]
    },
    {
     "name": "stdout",
     "output_type": "stream",
     "text": [
      "\n",
      "File successfully downloaded to: ./zenodo_dl/1177035.zip\n",
      "[info] File downloaded: ./zenodo_dl/1177035.zip\n",
      "\n",
      "[info] Paper_idx: 1658, Zenodo id: 1177127\n"
     ]
    },
    {
     "name": "stderr",
     "output_type": "stream",
     "text": [
      "1177127.zip: 1.27MB [00:03, 352kB/s] \n"
     ]
    },
    {
     "name": "stdout",
     "output_type": "stream",
     "text": [
      "\n",
      "File successfully downloaded to: ./zenodo_dl/1177127.zip\n",
      "[info] File downloaded: ./zenodo_dl/1177127.zip\n",
      "\n",
      "[info] Paper_idx: 1659, Zenodo id: 1177093\n"
     ]
    },
    {
     "name": "stderr",
     "output_type": "stream",
     "text": [
      "1177093.zip: 3.98MB [00:11, 350kB/s] \n"
     ]
    },
    {
     "name": "stdout",
     "output_type": "stream",
     "text": [
      "\n",
      "File successfully downloaded to: ./zenodo_dl/1177093.zip\n",
      "[info] File downloaded: ./zenodo_dl/1177093.zip\n",
      "\n",
      "[info] Paper_idx: 1660, Zenodo id: 1177099\n"
     ]
    },
    {
     "name": "stderr",
     "output_type": "stream",
     "text": [
      "1177099.zip: 659kB [00:01, 389kB/s]  \n"
     ]
    },
    {
     "name": "stdout",
     "output_type": "stream",
     "text": [
      "\n",
      "File successfully downloaded to: ./zenodo_dl/1177099.zip\n",
      "[info] File downloaded: ./zenodo_dl/1177099.zip\n",
      "\n",
      "[info] Paper_idx: 1661, Zenodo id: 1177261\n"
     ]
    },
    {
     "name": "stderr",
     "output_type": "stream",
     "text": [
      "1177261.zip: 193kB [00:00, 230kB/s]  \n"
     ]
    },
    {
     "name": "stdout",
     "output_type": "stream",
     "text": [
      "\n",
      "File successfully downloaded to: ./zenodo_dl/1177261.zip\n",
      "[info] File downloaded: ./zenodo_dl/1177261.zip\n",
      "\n",
      "[info] Paper_idx: 1662, Zenodo id: 1179463\n"
     ]
    },
    {
     "name": "stderr",
     "output_type": "stream",
     "text": [
      "1179463.zip: 584kB [00:02, 262kB/s]  \n"
     ]
    },
    {
     "name": "stdout",
     "output_type": "stream",
     "text": [
      "\n",
      "File successfully downloaded to: ./zenodo_dl/1179463.zip\n",
      "[info] File downloaded: ./zenodo_dl/1179463.zip\n",
      "\n",
      "[info] Paper_idx: 1663, Zenodo id: 1177245\n"
     ]
    },
    {
     "name": "stderr",
     "output_type": "stream",
     "text": [
      "1177245.zip: 770kB [00:02, 278kB/s]  \n"
     ]
    },
    {
     "name": "stdout",
     "output_type": "stream",
     "text": [
      "\n",
      "File successfully downloaded to: ./zenodo_dl/1177245.zip\n",
      "[info] File downloaded: ./zenodo_dl/1177245.zip\n",
      "\n",
      "[info] Paper_idx: 1664, Zenodo id: 1177085\n"
     ]
    },
    {
     "name": "stderr",
     "output_type": "stream",
     "text": [
      "1177085.zip: 765kB [00:01, 545kB/s]  \n"
     ]
    },
    {
     "name": "stdout",
     "output_type": "stream",
     "text": [
      "\n",
      "File successfully downloaded to: ./zenodo_dl/1177085.zip\n",
      "[info] File downloaded: ./zenodo_dl/1177085.zip\n",
      "\n",
      "[info] Paper_idx: 1665, Zenodo id: 1177075\n"
     ]
    },
    {
     "name": "stderr",
     "output_type": "stream",
     "text": [
      "1177075.zip: 283kB [00:01, 245kB/s]  \n"
     ]
    },
    {
     "name": "stdout",
     "output_type": "stream",
     "text": [
      "\n",
      "File successfully downloaded to: ./zenodo_dl/1177075.zip\n",
      "[info] File downloaded: ./zenodo_dl/1177075.zip\n",
      "\n",
      "[info] Paper_idx: 1666, Zenodo id: 1177063\n"
     ]
    },
    {
     "name": "stderr",
     "output_type": "stream",
     "text": [
      "1177063.zip: 696kB [00:01, 501kB/s]  \n"
     ]
    },
    {
     "name": "stdout",
     "output_type": "stream",
     "text": [
      "\n",
      "File successfully downloaded to: ./zenodo_dl/1177063.zip\n",
      "[info] File downloaded: ./zenodo_dl/1177063.zip\n",
      "\n",
      "[info] Paper_idx: 1667, Zenodo id: 1179477\n"
     ]
    },
    {
     "name": "stderr",
     "output_type": "stream",
     "text": [
      "1179477.zip: 1.60MB [00:04, 320kB/s] \n"
     ]
    },
    {
     "name": "stdout",
     "output_type": "stream",
     "text": [
      "\n",
      "File successfully downloaded to: ./zenodo_dl/1179477.zip\n",
      "[info] File downloaded: ./zenodo_dl/1179477.zip\n",
      "\n",
      "[info] Paper_idx: 1668, Zenodo id: 1177231\n"
     ]
    },
    {
     "name": "stderr",
     "output_type": "stream",
     "text": [
      "1177231.zip: 591kB [00:02, 236kB/s]  \n"
     ]
    },
    {
     "name": "stdout",
     "output_type": "stream",
     "text": [
      "\n",
      "File successfully downloaded to: ./zenodo_dl/1177231.zip\n",
      "[info] File downloaded: ./zenodo_dl/1177231.zip\n",
      "\n",
      "[info] Paper_idx: 1669, Zenodo id: 1177137\n"
     ]
    },
    {
     "name": "stderr",
     "output_type": "stream",
     "text": [
      "1177137.zip: 281kB [00:01, 251kB/s]  \n"
     ]
    },
    {
     "name": "stdout",
     "output_type": "stream",
     "text": [
      "\n",
      "File successfully downloaded to: ./zenodo_dl/1177137.zip\n",
      "[info] File downloaded: ./zenodo_dl/1177137.zip\n",
      "\n",
      "[info] Paper_idx: 1670, Zenodo id: 1177073\n"
     ]
    },
    {
     "name": "stderr",
     "output_type": "stream",
     "text": [
      "1177073.zip: 1.65MB [00:04, 330kB/s] \n"
     ]
    },
    {
     "name": "stdout",
     "output_type": "stream",
     "text": [
      "\n",
      "File successfully downloaded to: ./zenodo_dl/1177073.zip\n",
      "[info] File downloaded: ./zenodo_dl/1177073.zip\n",
      "\n",
      "[info] Paper_idx: 1671, Zenodo id: 1177119\n"
     ]
    },
    {
     "name": "stderr",
     "output_type": "stream",
     "text": [
      "1177119.zip: 4.03MB [00:02, 1.81MB/s]\n"
     ]
    },
    {
     "name": "stdout",
     "output_type": "stream",
     "text": [
      "\n",
      "File successfully downloaded to: ./zenodo_dl/1177119.zip\n",
      "[info] File downloaded: ./zenodo_dl/1177119.zip\n",
      "\n",
      "[info] Paper_idx: 1672, Zenodo id: 1177205\n"
     ]
    },
    {
     "name": "stderr",
     "output_type": "stream",
     "text": [
      "1177205.zip: 1.65MB [00:05, 330kB/s] \n"
     ]
    },
    {
     "name": "stdout",
     "output_type": "stream",
     "text": [
      "\n",
      "File successfully downloaded to: ./zenodo_dl/1177205.zip\n",
      "[info] File downloaded: ./zenodo_dl/1177205.zip\n",
      "\n",
      "[info] Paper_idx: 1673, Zenodo id: 1179465\n"
     ]
    },
    {
     "name": "stderr",
     "output_type": "stream",
     "text": [
      "1179465.zip: 479kB [00:01, 286kB/s]  \n"
     ]
    },
    {
     "name": "stdout",
     "output_type": "stream",
     "text": [
      "\n",
      "File successfully downloaded to: ./zenodo_dl/1179465.zip\n",
      "[info] File downloaded: ./zenodo_dl/1179465.zip\n",
      "\n",
      "[info] Paper_idx: 1674, Zenodo id: 1177103\n"
     ]
    },
    {
     "name": "stderr",
     "output_type": "stream",
     "text": [
      "1177103.zip: 578kB [00:02, 249kB/s]  \n"
     ]
    },
    {
     "name": "stdout",
     "output_type": "stream",
     "text": [
      "\n",
      "File successfully downloaded to: ./zenodo_dl/1177103.zip\n",
      "[info] File downloaded: ./zenodo_dl/1177103.zip\n",
      "\n",
      "[info] Paper_idx: 1675, Zenodo id: 1177095\n"
     ]
    },
    {
     "name": "stderr",
     "output_type": "stream",
     "text": [
      "1177095.zip: 450kB [00:01, 404kB/s]  \n"
     ]
    },
    {
     "name": "stdout",
     "output_type": "stream",
     "text": [
      "\n",
      "File successfully downloaded to: ./zenodo_dl/1177095.zip\n",
      "[info] File downloaded: ./zenodo_dl/1177095.zip\n",
      "\n",
      "[info] Paper_idx: 1676, Zenodo id: 1179475\n"
     ]
    },
    {
     "name": "stderr",
     "output_type": "stream",
     "text": [
      "1179475.zip: 2.93MB [00:07, 378kB/s] \n"
     ]
    },
    {
     "name": "stdout",
     "output_type": "stream",
     "text": [
      "\n",
      "File successfully downloaded to: ./zenodo_dl/1179475.zip\n",
      "[info] File downloaded: ./zenodo_dl/1179475.zip\n",
      "\n",
      "[info] Paper_idx: 1677, Zenodo id: 1177079\n"
     ]
    },
    {
     "name": "stderr",
     "output_type": "stream",
     "text": [
      "1177079.zip: 318kB [00:01, 225kB/s]  \n"
     ]
    },
    {
     "name": "stdout",
     "output_type": "stream",
     "text": [
      "\n",
      "File successfully downloaded to: ./zenodo_dl/1177079.zip\n",
      "[info] File downloaded: ./zenodo_dl/1177079.zip\n",
      "\n",
      "[info] Paper_idx: 1678, Zenodo id: 1177041\n"
     ]
    },
    {
     "name": "stderr",
     "output_type": "stream",
     "text": [
      "1177041.zip: 559kB [00:01, 401kB/s]  \n"
     ]
    },
    {
     "name": "stdout",
     "output_type": "stream",
     "text": [
      "\n",
      "File successfully downloaded to: ./zenodo_dl/1177041.zip\n",
      "[info] File downloaded: ./zenodo_dl/1177041.zip\n",
      "\n",
      "[info] Paper_idx: 1679, Zenodo id: 1177091\n"
     ]
    },
    {
     "name": "stderr",
     "output_type": "stream",
     "text": [
      "1177091.zip: 890kB [00:02, 397kB/s]  \n"
     ]
    },
    {
     "name": "stdout",
     "output_type": "stream",
     "text": [
      "\n",
      "File successfully downloaded to: ./zenodo_dl/1177091.zip\n",
      "[info] File downloaded: ./zenodo_dl/1177091.zip\n",
      "\n",
      "[info] Paper_idx: 1680, Zenodo id: 1177221\n"
     ]
    },
    {
     "name": "stderr",
     "output_type": "stream",
     "text": [
      "1177221.zip: 710kB [00:02, 284kB/s]  \n"
     ]
    },
    {
     "name": "stdout",
     "output_type": "stream",
     "text": [
      "\n",
      "File successfully downloaded to: ./zenodo_dl/1177221.zip\n",
      "[info] File downloaded: ./zenodo_dl/1177221.zip\n",
      "\n",
      "[info] Paper_idx: 1681, Zenodo id: 1177077\n"
     ]
    },
    {
     "name": "stderr",
     "output_type": "stream",
     "text": [
      "1177077.zip: 845kB [00:01, 610kB/s]  \n"
     ]
    },
    {
     "name": "stdout",
     "output_type": "stream",
     "text": [
      "\n",
      "File successfully downloaded to: ./zenodo_dl/1177077.zip\n",
      "[info] File downloaded: ./zenodo_dl/1177077.zip\n",
      "\n",
      "[info] Paper_idx: 1682, Zenodo id: 1177215\n"
     ]
    },
    {
     "name": "stderr",
     "output_type": "stream",
     "text": [
      "1177215.zip: 204kB [00:01, 191kB/s]  \n"
     ]
    },
    {
     "name": "stdout",
     "output_type": "stream",
     "text": [
      "\n",
      "File successfully downloaded to: ./zenodo_dl/1177215.zip\n",
      "[info] File downloaded: ./zenodo_dl/1177215.zip\n",
      "\n",
      "[info] Paper_idx: 1683, Zenodo id: 1177089\n"
     ]
    },
    {
     "name": "stderr",
     "output_type": "stream",
     "text": [
      "1177089.zip: 441kB [00:01, 264kB/s]  \n"
     ]
    },
    {
     "name": "stdout",
     "output_type": "stream",
     "text": [
      "\n",
      "File successfully downloaded to: ./zenodo_dl/1177089.zip\n",
      "[info] File downloaded: ./zenodo_dl/1177089.zip\n",
      "\n",
      "[info] Paper_idx: 1684, Zenodo id: 1177121\n"
     ]
    },
    {
     "name": "stderr",
     "output_type": "stream",
     "text": [
      "1177121.zip: 480kB [00:01, 285kB/s]  \n"
     ]
    },
    {
     "name": "stdout",
     "output_type": "stream",
     "text": [
      "\n",
      "File successfully downloaded to: ./zenodo_dl/1177121.zip\n",
      "[info] File downloaded: ./zenodo_dl/1177121.zip\n",
      "\n",
      "[info] Paper_idx: 1685, Zenodo id: 1177151\n"
     ]
    },
    {
     "name": "stderr",
     "output_type": "stream",
     "text": [
      "1177151.zip: 1.86MB [00:05, 333kB/s] \n"
     ]
    },
    {
     "name": "stdout",
     "output_type": "stream",
     "text": [
      "\n",
      "File successfully downloaded to: ./zenodo_dl/1177151.zip\n",
      "[info] File downloaded: ./zenodo_dl/1177151.zip\n",
      "\n",
      "[info] Paper_idx: 1686, Zenodo id: 1177061\n"
     ]
    },
    {
     "name": "stderr",
     "output_type": "stream",
     "text": [
      "1177061.zip: 328kB [00:01, 292kB/s]  \n"
     ]
    },
    {
     "name": "stdout",
     "output_type": "stream",
     "text": [
      "\n",
      "File successfully downloaded to: ./zenodo_dl/1177061.zip\n",
      "[info] File downloaded: ./zenodo_dl/1177061.zip\n",
      "\n",
      "[info] Paper_idx: 1687, Zenodo id: 1177117\n"
     ]
    },
    {
     "name": "stderr",
     "output_type": "stream",
     "text": [
      "1177117.zip: 479kB [00:01, 279kB/s]  \n"
     ]
    },
    {
     "name": "stdout",
     "output_type": "stream",
     "text": [
      "\n",
      "File successfully downloaded to: ./zenodo_dl/1177117.zip\n",
      "[info] File downloaded: ./zenodo_dl/1177117.zip\n",
      "\n",
      "[info] Paper_idx: 1688, Zenodo id: 1177111\n"
     ]
    },
    {
     "name": "stderr",
     "output_type": "stream",
     "text": [
      "1177111.zip: 976kB [00:03, 292kB/s]  \n"
     ]
    },
    {
     "name": "stdout",
     "output_type": "stream",
     "text": [
      "\n",
      "File successfully downloaded to: ./zenodo_dl/1177111.zip\n",
      "[info] File downloaded: ./zenodo_dl/1177111.zip\n",
      "\n",
      "[info] Paper_idx: 1689, Zenodo id: 1177239\n"
     ]
    },
    {
     "name": "stderr",
     "output_type": "stream",
     "text": [
      "1177239.zip: 2.37MB [00:06, 355kB/s] \n"
     ]
    },
    {
     "name": "stdout",
     "output_type": "stream",
     "text": [
      "\n",
      "File successfully downloaded to: ./zenodo_dl/1177239.zip\n",
      "[info] File downloaded: ./zenodo_dl/1177239.zip\n",
      "\n",
      "[info] Paper_idx: 1690, Zenodo id: 1179473\n"
     ]
    },
    {
     "name": "stderr",
     "output_type": "stream",
     "text": [
      "1179473.zip: 1.06MB [00:03, 291kB/s] \n"
     ]
    },
    {
     "name": "stdout",
     "output_type": "stream",
     "text": [
      "\n",
      "File successfully downloaded to: ./zenodo_dl/1179473.zip\n",
      "[info] File downloaded: ./zenodo_dl/1179473.zip\n",
      "\n",
      "[info] Paper_idx: 1691, Zenodo id: 1177097\n"
     ]
    },
    {
     "name": "stderr",
     "output_type": "stream",
     "text": [
      "1177097.zip: 139kB [00:00, 166kB/s]  \n"
     ]
    },
    {
     "name": "stdout",
     "output_type": "stream",
     "text": [
      "\n",
      "File successfully downloaded to: ./zenodo_dl/1177097.zip\n",
      "[info] File downloaded: ./zenodo_dl/1177097.zip\n",
      "\n",
      "[info] Paper_idx: 1692, Zenodo id: 1179471\n"
     ]
    },
    {
     "name": "stderr",
     "output_type": "stream",
     "text": [
      "1179471.zip: 2.41MB [00:01, 1.23MB/s]\n"
     ]
    },
    {
     "name": "stdout",
     "output_type": "stream",
     "text": [
      "\n",
      "File successfully downloaded to: ./zenodo_dl/1179471.zip\n",
      "[info] File downloaded: ./zenodo_dl/1179471.zip\n",
      "\n",
      "[info] Paper_idx: 1693, Zenodo id: 1177043\n"
     ]
    },
    {
     "name": "stderr",
     "output_type": "stream",
     "text": [
      "1177043.zip: 330kB [00:01, 236kB/s]  \n"
     ]
    },
    {
     "name": "stdout",
     "output_type": "stream",
     "text": [
      "\n",
      "File successfully downloaded to: ./zenodo_dl/1177043.zip\n",
      "[info] File downloaded: ./zenodo_dl/1177043.zip\n",
      "\n",
      "[info] Paper_idx: 1694, Zenodo id: 1177141\n"
     ]
    },
    {
     "name": "stderr",
     "output_type": "stream",
     "text": [
      "1177141.zip: 3.35MB [00:01, 1.72MB/s]\n"
     ]
    },
    {
     "name": "stdout",
     "output_type": "stream",
     "text": [
      "\n",
      "File successfully downloaded to: ./zenodo_dl/1177141.zip\n",
      "[info] File downloaded: ./zenodo_dl/1177141.zip\n",
      "\n",
      "[info] Paper_idx: 1695, Zenodo id: 1177249\n"
     ]
    },
    {
     "name": "stderr",
     "output_type": "stream",
     "text": [
      "1177249.zip: 328kB [00:01, 288kB/s]  \n"
     ]
    },
    {
     "name": "stdout",
     "output_type": "stream",
     "text": [
      "\n",
      "File successfully downloaded to: ./zenodo_dl/1177249.zip\n",
      "[info] File downloaded: ./zenodo_dl/1177249.zip\n",
      "\n",
      "[info] Paper_idx: 1696, Zenodo id: 1176861\n"
     ]
    },
    {
     "name": "stderr",
     "output_type": "stream",
     "text": [
      "1176861.zip: 23.1MB [00:05, 3.99MB/s]\n"
     ]
    },
    {
     "name": "stdout",
     "output_type": "stream",
     "text": [
      "\n",
      "File successfully downloaded to: ./zenodo_dl/1176861.zip\n",
      "[info] File downloaded: ./zenodo_dl/1176861.zip\n",
      "\n",
      "[info] Paper_idx: 1697, Zenodo id: 1179481\n"
     ]
    },
    {
     "name": "stderr",
     "output_type": "stream",
     "text": [
      "1179481.zip: 855kB [00:03, 280kB/s]  \n"
     ]
    },
    {
     "name": "stdout",
     "output_type": "stream",
     "text": [
      "\n",
      "File successfully downloaded to: ./zenodo_dl/1179481.zip\n",
      "[info] File downloaded: ./zenodo_dl/1179481.zip\n",
      "\n",
      "[info] Paper_idx: 1698, Zenodo id: 1177241\n"
     ]
    },
    {
     "name": "stderr",
     "output_type": "stream",
     "text": [
      "1177241.zip: 1.13MB [00:03, 314kB/s] \n"
     ]
    },
    {
     "name": "stdout",
     "output_type": "stream",
     "text": [
      "\n",
      "File successfully downloaded to: ./zenodo_dl/1177241.zip\n",
      "[info] File downloaded: ./zenodo_dl/1177241.zip\n",
      "\n",
      "[info] Paper_idx: 1699, Zenodo id: 1177223\n"
     ]
    },
    {
     "name": "stderr",
     "output_type": "stream",
     "text": [
      "1177223.zip: 266kB [00:01, 239kB/s]  \n"
     ]
    },
    {
     "name": "stdout",
     "output_type": "stream",
     "text": [
      "\n",
      "File successfully downloaded to: ./zenodo_dl/1177223.zip\n",
      "[info] File downloaded: ./zenodo_dl/1177223.zip\n",
      "\n",
      "[info] Paper_idx: 1700, Zenodo id: 1177123\n"
     ]
    },
    {
     "name": "stderr",
     "output_type": "stream",
     "text": [
      "1177123.zip: 352kB [00:01, 254kB/s]  \n"
     ]
    },
    {
     "name": "stdout",
     "output_type": "stream",
     "text": [
      "\n",
      "File successfully downloaded to: ./zenodo_dl/1177123.zip\n",
      "[info] File downloaded: ./zenodo_dl/1177123.zip\n",
      "\n",
      "[info] Paper_idx: 1701, Zenodo id: 1177101\n"
     ]
    },
    {
     "name": "stderr",
     "output_type": "stream",
     "text": [
      "1177101.zip: 1.07MB [00:03, 298kB/s] \n"
     ]
    },
    {
     "name": "stdout",
     "output_type": "stream",
     "text": [
      "\n",
      "File successfully downloaded to: ./zenodo_dl/1177101.zip\n",
      "[info] File downloaded: ./zenodo_dl/1177101.zip\n",
      "\n",
      "[info] Paper_idx: 1702, Zenodo id: 1177251\n"
     ]
    },
    {
     "name": "stderr",
     "output_type": "stream",
     "text": [
      "1177251.zip: 284kB [00:01, 254kB/s]  \n"
     ]
    },
    {
     "name": "stdout",
     "output_type": "stream",
     "text": [
      "\n",
      "File successfully downloaded to: ./zenodo_dl/1177251.zip\n",
      "[info] File downloaded: ./zenodo_dl/1177251.zip\n",
      "\n",
      "[info] Paper_idx: 1703, Zenodo id: 1179469\n"
     ]
    },
    {
     "name": "stderr",
     "output_type": "stream",
     "text": [
      "1179469.zip: 442kB [00:01, 264kB/s]  \n"
     ]
    },
    {
     "name": "stdout",
     "output_type": "stream",
     "text": [
      "\n",
      "File successfully downloaded to: ./zenodo_dl/1179469.zip\n",
      "[info] File downloaded: ./zenodo_dl/1179469.zip\n",
      "\n",
      "[info] Paper_idx: 1704, Zenodo id: 1177155\n"
     ]
    },
    {
     "name": "stderr",
     "output_type": "stream",
     "text": [
      "1177155.zip: 309kB [00:01, 183kB/s]  \n"
     ]
    },
    {
     "name": "stdout",
     "output_type": "stream",
     "text": [
      "\n",
      "File successfully downloaded to: ./zenodo_dl/1177155.zip\n",
      "[info] File downloaded: ./zenodo_dl/1177155.zip\n",
      "\n",
      "[info] Paper_idx: 1705, Zenodo id: 1177037\n"
     ]
    },
    {
     "name": "stderr",
     "output_type": "stream",
     "text": [
      "1177037.zip: 761kB [00:02, 273kB/s]  \n"
     ]
    },
    {
     "name": "stdout",
     "output_type": "stream",
     "text": [
      "\n",
      "File successfully downloaded to: ./zenodo_dl/1177037.zip\n",
      "[info] File downloaded: ./zenodo_dl/1177037.zip\n",
      "\n",
      "[info] Paper_idx: 1706, Zenodo id: 1177109\n"
     ]
    },
    {
     "name": "stderr",
     "output_type": "stream",
     "text": [
      "1177109.zip: 144kB [00:00, 168kB/s]  \n"
     ]
    },
    {
     "name": "stdout",
     "output_type": "stream",
     "text": [
      "\n",
      "File successfully downloaded to: ./zenodo_dl/1177109.zip\n",
      "[info] File downloaded: ./zenodo_dl/1177109.zip\n",
      "\n",
      "[info] Paper_idx: 1707, Zenodo id: 1177065\n"
     ]
    },
    {
     "name": "stderr",
     "output_type": "stream",
     "text": [
      "1177065.zip: 137kB [00:00, 160kB/s]  \n"
     ]
    },
    {
     "name": "stdout",
     "output_type": "stream",
     "text": [
      "\n",
      "File successfully downloaded to: ./zenodo_dl/1177065.zip\n",
      "[info] File downloaded: ./zenodo_dl/1177065.zip\n",
      "\n",
      "[info] Paper_idx: 1708, Zenodo id: 1177259\n"
     ]
    },
    {
     "name": "stderr",
     "output_type": "stream",
     "text": [
      "1177259.zip: 1.65MB [00:05, 330kB/s] \n"
     ]
    },
    {
     "name": "stdout",
     "output_type": "stream",
     "text": [
      "\n",
      "File successfully downloaded to: ./zenodo_dl/1177259.zip\n",
      "[info] File downloaded: ./zenodo_dl/1177259.zip\n",
      "\n",
      "[info] Paper_idx: 1709, Zenodo id: 1177053\n"
     ]
    },
    {
     "name": "stderr",
     "output_type": "stream",
     "text": [
      "1177053.zip: 561kB [00:02, 252kB/s]  \n"
     ]
    },
    {
     "name": "stdout",
     "output_type": "stream",
     "text": [
      "\n",
      "File successfully downloaded to: ./zenodo_dl/1177053.zip\n",
      "[info] File downloaded: ./zenodo_dl/1177053.zip\n",
      "\n",
      "[info] Paper_idx: 1710, Zenodo id: 1177133\n"
     ]
    },
    {
     "name": "stderr",
     "output_type": "stream",
     "text": [
      "1177133.zip: 947kB [00:03, 309kB/s]  \n"
     ]
    },
    {
     "name": "stdout",
     "output_type": "stream",
     "text": [
      "\n",
      "File successfully downloaded to: ./zenodo_dl/1177133.zip\n",
      "[info] File downloaded: ./zenodo_dl/1177133.zip\n",
      "\n",
      "[info] Paper_idx: 1711, Zenodo id: 1177247\n"
     ]
    },
    {
     "name": "stderr",
     "output_type": "stream",
     "text": [
      "1177247.zip: 265kB [00:01, 196kB/s]  \n"
     ]
    },
    {
     "name": "stdout",
     "output_type": "stream",
     "text": [
      "\n",
      "File successfully downloaded to: ./zenodo_dl/1177247.zip\n",
      "[info] File downloaded: ./zenodo_dl/1177247.zip\n",
      "\n",
      "[info] Paper_idx: 1712, Zenodo id: 1177257\n"
     ]
    },
    {
     "name": "stderr",
     "output_type": "stream",
     "text": [
      "1177257.zip: 153kB [00:00, 177kB/s]  \n"
     ]
    },
    {
     "name": "stdout",
     "output_type": "stream",
     "text": [
      "\n",
      "File successfully downloaded to: ./zenodo_dl/1177257.zip\n",
      "[info] File downloaded: ./zenodo_dl/1177257.zip\n",
      "\n",
      "[info] Paper_idx: 1713, Zenodo id: 1177167\n"
     ]
    },
    {
     "name": "stderr",
     "output_type": "stream",
     "text": [
      "1177167.zip: 180kB [00:00, 212kB/s]  \n"
     ]
    },
    {
     "name": "stdout",
     "output_type": "stream",
     "text": [
      "\n",
      "File successfully downloaded to: ./zenodo_dl/1177167.zip\n",
      "[info] File downloaded: ./zenodo_dl/1177167.zip\n",
      "\n",
      "[info] Paper_idx: 1714, Zenodo id: 1177113\n"
     ]
    },
    {
     "name": "stderr",
     "output_type": "stream",
     "text": [
      "1177113.zip: 1.63MB [00:05, 310kB/s] \n"
     ]
    },
    {
     "name": "stdout",
     "output_type": "stream",
     "text": [
      "\n",
      "File successfully downloaded to: ./zenodo_dl/1177113.zip\n",
      "[info] File downloaded: ./zenodo_dl/1177113.zip\n",
      "\n",
      "[info] Paper_idx: 1715, Zenodo id: 1177207\n"
     ]
    },
    {
     "name": "stderr",
     "output_type": "stream",
     "text": [
      "1177207.zip: 523kB [00:01, 262kB/s]  \n"
     ]
    },
    {
     "name": "stdout",
     "output_type": "stream",
     "text": [
      "\n",
      "File successfully downloaded to: ./zenodo_dl/1177207.zip\n",
      "[info] File downloaded: ./zenodo_dl/1177207.zip\n",
      "\n",
      "[info] Paper_idx: 1716, Zenodo id: 1177219\n"
     ]
    },
    {
     "name": "stderr",
     "output_type": "stream",
     "text": [
      "1177219.zip: 2.77MB [00:08, 334kB/s] \n"
     ]
    },
    {
     "name": "stdout",
     "output_type": "stream",
     "text": [
      "\n",
      "File successfully downloaded to: ./zenodo_dl/1177219.zip\n",
      "[info] File downloaded: ./zenodo_dl/1177219.zip\n",
      "\n",
      "[info] Paper_idx: 1717, Zenodo id: 1177227\n"
     ]
    },
    {
     "name": "stderr",
     "output_type": "stream",
     "text": [
      "1177227.zip: 207kB [00:00, 242kB/s]  \n"
     ]
    },
    {
     "name": "stdout",
     "output_type": "stream",
     "text": [
      "\n",
      "File successfully downloaded to: ./zenodo_dl/1177227.zip\n",
      "[info] File downloaded: ./zenodo_dl/1177227.zip\n",
      "\n",
      "[info] Paper_idx: 1718, Zenodo id: 1177105\n"
     ]
    },
    {
     "name": "stderr",
     "output_type": "stream",
     "text": [
      "1177105.zip: 232kB [00:00, 273kB/s]  \n"
     ]
    },
    {
     "name": "stdout",
     "output_type": "stream",
     "text": [
      "\n",
      "File successfully downloaded to: ./zenodo_dl/1177105.zip\n",
      "[info] File downloaded: ./zenodo_dl/1177105.zip\n",
      "\n",
      "[info] Paper_idx: 1719, Zenodo id: 1177057\n"
     ]
    },
    {
     "name": "stderr",
     "output_type": "stream",
     "text": [
      "1177057.zip: 165kB [00:00, 196kB/s]  \n"
     ]
    },
    {
     "name": "stdout",
     "output_type": "stream",
     "text": [
      "\n",
      "File successfully downloaded to: ./zenodo_dl/1177057.zip\n",
      "[info] File downloaded: ./zenodo_dl/1177057.zip\n",
      "\n",
      "[info] Paper_idx: 1720, Zenodo id: 1177083\n"
     ]
    },
    {
     "name": "stderr",
     "output_type": "stream",
     "text": [
      "1177083.zip: 667kB [00:02, 265kB/s]  \n"
     ]
    },
    {
     "name": "stdout",
     "output_type": "stream",
     "text": [
      "\n",
      "File successfully downloaded to: ./zenodo_dl/1177083.zip\n",
      "[info] File downloaded: ./zenodo_dl/1177083.zip\n",
      "\n",
      "[info] Paper_idx: 1721, Zenodo id: 1177115\n"
     ]
    },
    {
     "name": "stderr",
     "output_type": "stream",
     "text": [
      "1177115.zip: 260kB [00:01, 230kB/s]  \n"
     ]
    },
    {
     "name": "stdout",
     "output_type": "stream",
     "text": [
      "\n",
      "File successfully downloaded to: ./zenodo_dl/1177115.zip\n",
      "[info] File downloaded: ./zenodo_dl/1177115.zip\n",
      "\n",
      "[info] Paper_idx: 1722, Zenodo id: 1177197\n"
     ]
    },
    {
     "name": "stderr",
     "output_type": "stream",
     "text": [
      "1177197.zip: 110kB [00:00, 136kB/s]  \n"
     ]
    },
    {
     "name": "stdout",
     "output_type": "stream",
     "text": [
      "\n",
      "File successfully downloaded to: ./zenodo_dl/1177197.zip\n",
      "[info] File downloaded: ./zenodo_dl/1177197.zip\n",
      "\n",
      "[info] Paper_idx: 1723, Zenodo id: 1177047\n"
     ]
    },
    {
     "name": "stderr",
     "output_type": "stream",
     "text": [
      "1177047.zip: 837kB [00:03, 278kB/s]  \n"
     ]
    },
    {
     "name": "stdout",
     "output_type": "stream",
     "text": [
      "\n",
      "File successfully downloaded to: ./zenodo_dl/1177047.zip\n",
      "[info] File downloaded: ./zenodo_dl/1177047.zip\n",
      "\n",
      "[info] Paper_idx: 1724, Zenodo id: 1177203\n"
     ]
    },
    {
     "name": "stderr",
     "output_type": "stream",
     "text": [
      "1177203.zip: 169kB [00:00, 199kB/s]  \n"
     ]
    },
    {
     "name": "stdout",
     "output_type": "stream",
     "text": [
      "\n",
      "File successfully downloaded to: ./zenodo_dl/1177203.zip\n",
      "[info] File downloaded: ./zenodo_dl/1177203.zip\n",
      "\n",
      "[info] Paper_idx: 1725, Zenodo id: 1179467\n"
     ]
    },
    {
     "name": "stderr",
     "output_type": "stream",
     "text": [
      "1179467.zip: 769kB [00:02, 302kB/s]  \n"
     ]
    },
    {
     "name": "stdout",
     "output_type": "stream",
     "text": [
      "\n",
      "File successfully downloaded to: ./zenodo_dl/1179467.zip\n",
      "[info] File downloaded: ./zenodo_dl/1179467.zip\n",
      "\n",
      "[info] Paper_idx: 1726, Zenodo id: 1177029\n"
     ]
    },
    {
     "name": "stderr",
     "output_type": "stream",
     "text": [
      "1177029.zip: 175kB [00:00, 207kB/s]  \n"
     ]
    },
    {
     "name": "stdout",
     "output_type": "stream",
     "text": [
      "\n",
      "File successfully downloaded to: ./zenodo_dl/1177029.zip\n",
      "[info] File downloaded: ./zenodo_dl/1177029.zip\n",
      "\n",
      "[info] Paper_idx: 1727, Zenodo id: 1177235\n"
     ]
    },
    {
     "name": "stderr",
     "output_type": "stream",
     "text": [
      "1177235.zip: 480kB [00:01, 247kB/s]  \n"
     ]
    },
    {
     "name": "stdout",
     "output_type": "stream",
     "text": [
      "\n",
      "File successfully downloaded to: ./zenodo_dl/1177235.zip\n",
      "[info] File downloaded: ./zenodo_dl/1177235.zip\n",
      "\n",
      "[info] Paper_idx: 1728, Zenodo id: 1177253\n"
     ]
    },
    {
     "name": "stderr",
     "output_type": "stream",
     "text": [
      "1177253.zip: 196kB [00:01, 176kB/s]  \n"
     ]
    },
    {
     "name": "stdout",
     "output_type": "stream",
     "text": [
      "\n",
      "File successfully downloaded to: ./zenodo_dl/1177253.zip\n",
      "[info] File downloaded: ./zenodo_dl/1177253.zip\n",
      "\n",
      "[info] Paper_idx: 1729, Zenodo id: 1177213\n"
     ]
    },
    {
     "name": "stderr",
     "output_type": "stream",
     "text": [
      "1177213.zip: 131kB [00:00, 157kB/s]  \n"
     ]
    },
    {
     "name": "stdout",
     "output_type": "stream",
     "text": [
      "\n",
      "File successfully downloaded to: ./zenodo_dl/1177213.zip\n",
      "[info] File downloaded: ./zenodo_dl/1177213.zip\n",
      "\n",
      "[info] Paper_idx: 1730, Zenodo id: 1177243\n"
     ]
    },
    {
     "name": "stderr",
     "output_type": "stream",
     "text": [
      "1177243.zip: 250kB [00:01, 233kB/s]  \n"
     ]
    },
    {
     "name": "stdout",
     "output_type": "stream",
     "text": [
      "\n",
      "File successfully downloaded to: ./zenodo_dl/1177243.zip\n",
      "[info] File downloaded: ./zenodo_dl/1177243.zip\n",
      "\n",
      "[info] Paper_idx: 1731, Zenodo id: 1177031\n"
     ]
    },
    {
     "name": "stderr",
     "output_type": "stream",
     "text": [
      "1177031.zip: 1.16MB [00:04, 276kB/s] \n"
     ]
    },
    {
     "name": "stdout",
     "output_type": "stream",
     "text": [
      "\n",
      "File successfully downloaded to: ./zenodo_dl/1177031.zip\n",
      "[info] File downloaded: ./zenodo_dl/1177031.zip\n",
      "\n",
      "[info] Paper_idx: 1732, Zenodo id: 1177225\n"
     ]
    },
    {
     "name": "stderr",
     "output_type": "stream",
     "text": [
      "1177225.zip: 302kB [00:01, 216kB/s]  \n"
     ]
    },
    {
     "name": "stdout",
     "output_type": "stream",
     "text": [
      "\n",
      "File successfully downloaded to: ./zenodo_dl/1177225.zip\n",
      "[info] File downloaded: ./zenodo_dl/1177225.zip\n",
      "\n",
      "[info] Paper_idx: 1733, Zenodo id: 1176909\n"
     ]
    },
    {
     "name": "stderr",
     "output_type": "stream",
     "text": [
      "1176909.zip: 542kB [00:02, 243kB/s]  \n"
     ]
    },
    {
     "name": "stdout",
     "output_type": "stream",
     "text": [
      "\n",
      "File successfully downloaded to: ./zenodo_dl/1176909.zip\n",
      "[info] File downloaded: ./zenodo_dl/1176909.zip\n",
      "\n",
      "[info] Paper_idx: 1734, Zenodo id: 1177013\n"
     ]
    },
    {
     "name": "stderr",
     "output_type": "stream",
     "text": [
      "1177013.zip: 569kB [00:01, 293kB/s]  \n"
     ]
    },
    {
     "name": "stdout",
     "output_type": "stream",
     "text": [
      "\n",
      "File successfully downloaded to: ./zenodo_dl/1177013.zip\n",
      "[info] File downloaded: ./zenodo_dl/1177013.zip\n",
      "\n",
      "[info] Paper_idx: 1735, Zenodo id: 1176997\n"
     ]
    },
    {
     "name": "stderr",
     "output_type": "stream",
     "text": [
      "1176997.zip: 1.05MB [00:03, 314kB/s] \n"
     ]
    },
    {
     "name": "stdout",
     "output_type": "stream",
     "text": [
      "\n",
      "File successfully downloaded to: ./zenodo_dl/1176997.zip\n",
      "[info] File downloaded: ./zenodo_dl/1176997.zip\n",
      "\n",
      "[info] Paper_idx: 1736, Zenodo id: 1176999\n"
     ]
    },
    {
     "name": "stderr",
     "output_type": "stream",
     "text": [
      "1176999.zip: 861kB [00:02, 345kB/s]  \n"
     ]
    },
    {
     "name": "stdout",
     "output_type": "stream",
     "text": [
      "\n",
      "File successfully downloaded to: ./zenodo_dl/1176999.zip\n",
      "[info] File downloaded: ./zenodo_dl/1176999.zip\n",
      "\n",
      "[info] Paper_idx: 1737, Zenodo id: 1176873\n"
     ]
    },
    {
     "name": "stderr",
     "output_type": "stream",
     "text": [
      "1176873.zip: 1.48MB [00:05, 295kB/s] \n"
     ]
    },
    {
     "name": "stdout",
     "output_type": "stream",
     "text": [
      "\n",
      "File successfully downloaded to: ./zenodo_dl/1176873.zip\n",
      "[info] File downloaded: ./zenodo_dl/1176873.zip\n",
      "\n",
      "[info] Paper_idx: 1738, Zenodo id: 1177017\n"
     ]
    },
    {
     "name": "stderr",
     "output_type": "stream",
     "text": [
      "1177017.zip: 1.77MB [00:05, 352kB/s] \n"
     ]
    },
    {
     "name": "stdout",
     "output_type": "stream",
     "text": [
      "\n",
      "File successfully downloaded to: ./zenodo_dl/1177017.zip\n",
      "[info] File downloaded: ./zenodo_dl/1177017.zip\n",
      "\n",
      "[info] Paper_idx: 1739, Zenodo id: 1176993\n"
     ]
    },
    {
     "name": "stderr",
     "output_type": "stream",
     "text": [
      "1176993.zip: 670kB [00:02, 300kB/s]  \n"
     ]
    },
    {
     "name": "stdout",
     "output_type": "stream",
     "text": [
      "\n",
      "File successfully downloaded to: ./zenodo_dl/1176993.zip\n",
      "[info] File downloaded: ./zenodo_dl/1176993.zip\n",
      "\n",
      "[info] Paper_idx: 1740, Zenodo id: 1176975\n"
     ]
    },
    {
     "name": "stderr",
     "output_type": "stream",
     "text": [
      "1176975.zip: 467kB [00:01, 242kB/s]  \n"
     ]
    },
    {
     "name": "stdout",
     "output_type": "stream",
     "text": [
      "\n",
      "File successfully downloaded to: ./zenodo_dl/1176975.zip\n",
      "[info] File downloaded: ./zenodo_dl/1176975.zip\n",
      "\n",
      "[info] Paper_idx: 1741, Zenodo id: 1176911\n"
     ]
    },
    {
     "name": "stderr",
     "output_type": "stream",
     "text": [
      "1176911.zip: 248kB [00:01, 179kB/s]  \n"
     ]
    },
    {
     "name": "stdout",
     "output_type": "stream",
     "text": [
      "\n",
      "File successfully downloaded to: ./zenodo_dl/1176911.zip\n",
      "[info] File downloaded: ./zenodo_dl/1176911.zip\n",
      "\n",
      "[info] Paper_idx: 1742, Zenodo id: 1176925\n"
     ]
    },
    {
     "name": "stderr",
     "output_type": "stream",
     "text": [
      "1176925.zip: 605kB [00:01, 429kB/s]  \n"
     ]
    },
    {
     "name": "stdout",
     "output_type": "stream",
     "text": [
      "\n",
      "File successfully downloaded to: ./zenodo_dl/1176925.zip\n",
      "[info] File downloaded: ./zenodo_dl/1176925.zip\n",
      "\n",
      "[info] Paper_idx: 1743, Zenodo id: 1176965\n"
     ]
    },
    {
     "name": "stderr",
     "output_type": "stream",
     "text": [
      "1176965.zip: 885kB [00:02, 318kB/s]  \n"
     ]
    },
    {
     "name": "stdout",
     "output_type": "stream",
     "text": [
      "\n",
      "File successfully downloaded to: ./zenodo_dl/1176965.zip\n",
      "[info] File downloaded: ./zenodo_dl/1176965.zip\n",
      "\n",
      "[info] Paper_idx: 1744, Zenodo id: 1176941\n"
     ]
    },
    {
     "name": "stderr",
     "output_type": "stream",
     "text": [
      "1176941.zip: 386kB [00:01, 344kB/s]  \n"
     ]
    },
    {
     "name": "stdout",
     "output_type": "stream",
     "text": [
      "\n",
      "File successfully downloaded to: ./zenodo_dl/1176941.zip\n",
      "[info] File downloaded: ./zenodo_dl/1176941.zip\n",
      "\n",
      "[info] Paper_idx: 1745, Zenodo id: 1176959\n"
     ]
    },
    {
     "name": "stderr",
     "output_type": "stream",
     "text": [
      "1176959.zip: 226kB [00:01, 203kB/s]  \n"
     ]
    },
    {
     "name": "stdout",
     "output_type": "stream",
     "text": [
      "\n",
      "File successfully downloaded to: ./zenodo_dl/1176959.zip\n",
      "[info] File downloaded: ./zenodo_dl/1176959.zip\n",
      "\n",
      "[info] Paper_idx: 1746, Zenodo id: 1176935\n"
     ]
    },
    {
     "name": "stderr",
     "output_type": "stream",
     "text": [
      "1176935.zip: 240kB [00:01, 175kB/s]  \n"
     ]
    },
    {
     "name": "stdout",
     "output_type": "stream",
     "text": [
      "\n",
      "File successfully downloaded to: ./zenodo_dl/1176935.zip\n",
      "[info] File downloaded: ./zenodo_dl/1176935.zip\n",
      "\n",
      "[info] Paper_idx: 1747, Zenodo id: 1176869\n"
     ]
    },
    {
     "name": "stderr",
     "output_type": "stream",
     "text": [
      "1176869.zip: 690kB [00:02, 275kB/s]  \n"
     ]
    },
    {
     "name": "stdout",
     "output_type": "stream",
     "text": [
      "\n",
      "File successfully downloaded to: ./zenodo_dl/1176869.zip\n",
      "[info] File downloaded: ./zenodo_dl/1176869.zip\n",
      "\n",
      "[info] Paper_idx: 1748, Zenodo id: 1176955\n"
     ]
    },
    {
     "name": "stderr",
     "output_type": "stream",
     "text": [
      "1176955.zip: 199kB [00:01, 177kB/s]  \n"
     ]
    },
    {
     "name": "stdout",
     "output_type": "stream",
     "text": [
      "\n",
      "File successfully downloaded to: ./zenodo_dl/1176955.zip\n",
      "[info] File downloaded: ./zenodo_dl/1176955.zip\n",
      "\n",
      "[info] Paper_idx: 1749, Zenodo id: 1176967\n"
     ]
    },
    {
     "name": "stderr",
     "output_type": "stream",
     "text": [
      "1176967.zip: 577kB [00:01, 413kB/s]  \n"
     ]
    },
    {
     "name": "stdout",
     "output_type": "stream",
     "text": [
      "\n",
      "File successfully downloaded to: ./zenodo_dl/1176967.zip\n",
      "[info] File downloaded: ./zenodo_dl/1176967.zip\n",
      "\n",
      "[info] Paper_idx: 1750, Zenodo id: 1176937\n"
     ]
    },
    {
     "name": "stderr",
     "output_type": "stream",
     "text": [
      "1176937.zip: 480kB [00:01, 426kB/s]  \n"
     ]
    },
    {
     "name": "stdout",
     "output_type": "stream",
     "text": [
      "\n",
      "File successfully downloaded to: ./zenodo_dl/1176937.zip\n",
      "[info] File downloaded: ./zenodo_dl/1176937.zip\n",
      "\n",
      "[info] Paper_idx: 1751, Zenodo id: 1176903\n"
     ]
    },
    {
     "name": "stderr",
     "output_type": "stream",
     "text": [
      "1176903.zip: 1.07MB [00:03, 277kB/s] \n"
     ]
    },
    {
     "name": "stdout",
     "output_type": "stream",
     "text": [
      "\n",
      "File successfully downloaded to: ./zenodo_dl/1176903.zip\n",
      "[info] File downloaded: ./zenodo_dl/1176903.zip\n",
      "\n",
      "[info] Paper_idx: 1752, Zenodo id: 1176933\n"
     ]
    },
    {
     "name": "stderr",
     "output_type": "stream",
     "text": [
      "1176933.zip: 133kB [00:00, 157kB/s]  \n"
     ]
    },
    {
     "name": "stdout",
     "output_type": "stream",
     "text": [
      "\n",
      "File successfully downloaded to: ./zenodo_dl/1176933.zip\n",
      "[info] File downloaded: ./zenodo_dl/1176933.zip\n",
      "\n",
      "[info] Paper_idx: 1753, Zenodo id: 1177011\n"
     ]
    },
    {
     "name": "stderr",
     "output_type": "stream",
     "text": [
      "1177011.zip: 440kB [00:01, 393kB/s]  \n"
     ]
    },
    {
     "name": "stdout",
     "output_type": "stream",
     "text": [
      "\n",
      "File successfully downloaded to: ./zenodo_dl/1177011.zip\n",
      "[info] File downloaded: ./zenodo_dl/1177011.zip\n",
      "\n",
      "[info] Paper_idx: 1754, Zenodo id: 1177009\n"
     ]
    },
    {
     "name": "stderr",
     "output_type": "stream",
     "text": [
      "1177009.zip: 171kB [00:01, 154kB/s]  \n"
     ]
    },
    {
     "name": "stdout",
     "output_type": "stream",
     "text": [
      "\n",
      "File successfully downloaded to: ./zenodo_dl/1177009.zip\n",
      "[info] File downloaded: ./zenodo_dl/1177009.zip\n",
      "\n",
      "[info] Paper_idx: 1755, Zenodo id: 1176947\n"
     ]
    },
    {
     "name": "stderr",
     "output_type": "stream",
     "text": [
      "1176947.zip: 1.34MB [00:01, 802kB/s] \n"
     ]
    },
    {
     "name": "stdout",
     "output_type": "stream",
     "text": [
      "\n",
      "File successfully downloaded to: ./zenodo_dl/1176947.zip\n",
      "[info] File downloaded: ./zenodo_dl/1176947.zip\n",
      "\n",
      "[info] Paper_idx: 1756, Zenodo id: 1176885\n"
     ]
    },
    {
     "name": "stderr",
     "output_type": "stream",
     "text": [
      "1176885.zip: 628kB [00:02, 278kB/s]  \n"
     ]
    },
    {
     "name": "stdout",
     "output_type": "stream",
     "text": [
      "\n",
      "File successfully downloaded to: ./zenodo_dl/1176885.zip\n",
      "[info] File downloaded: ./zenodo_dl/1176885.zip\n",
      "\n",
      "[info] Paper_idx: 1757, Zenodo id: 1176915\n"
     ]
    },
    {
     "name": "stderr",
     "output_type": "stream",
     "text": [
      "1176915.zip: 1.12MB [00:03, 337kB/s] \n"
     ]
    },
    {
     "name": "stdout",
     "output_type": "stream",
     "text": [
      "\n",
      "File successfully downloaded to: ./zenodo_dl/1176915.zip\n",
      "[info] File downloaded: ./zenodo_dl/1176915.zip\n",
      "\n",
      "[info] Paper_idx: 1758, Zenodo id: 1176943\n"
     ]
    },
    {
     "name": "stderr",
     "output_type": "stream",
     "text": [
      "1176943.zip: 576kB [00:02, 232kB/s]  \n"
     ]
    },
    {
     "name": "stdout",
     "output_type": "stream",
     "text": [
      "\n",
      "File successfully downloaded to: ./zenodo_dl/1176943.zip\n",
      "[info] File downloaded: ./zenodo_dl/1176943.zip\n",
      "\n",
      "[info] Paper_idx: 1759, Zenodo id: 1176887\n"
     ]
    },
    {
     "name": "stderr",
     "output_type": "stream",
     "text": [
      "1176887.zip: 965kB [00:03, 312kB/s]  \n"
     ]
    },
    {
     "name": "stdout",
     "output_type": "stream",
     "text": [
      "\n",
      "File successfully downloaded to: ./zenodo_dl/1176887.zip\n",
      "[info] File downloaded: ./zenodo_dl/1176887.zip\n",
      "\n",
      "[info] Paper_idx: 1760, Zenodo id: 1176865\n"
     ]
    },
    {
     "name": "stderr",
     "output_type": "stream",
     "text": [
      "1176865.zip: 1.38MB [00:01, 820kB/s] \n"
     ]
    },
    {
     "name": "stdout",
     "output_type": "stream",
     "text": [
      "\n",
      "File successfully downloaded to: ./zenodo_dl/1176865.zip\n",
      "[info] File downloaded: ./zenodo_dl/1176865.zip\n",
      "\n",
      "[info] Paper_idx: 1761, Zenodo id: 1176991\n"
     ]
    },
    {
     "name": "stderr",
     "output_type": "stream",
     "text": [
      "1176991.zip: 563kB [00:02, 252kB/s]  \n"
     ]
    },
    {
     "name": "stdout",
     "output_type": "stream",
     "text": [
      "\n",
      "File successfully downloaded to: ./zenodo_dl/1176991.zip\n",
      "[info] File downloaded: ./zenodo_dl/1176991.zip\n",
      "\n",
      "[info] Paper_idx: 1762, Zenodo id: 1177021\n"
     ]
    },
    {
     "name": "stderr",
     "output_type": "stream",
     "text": [
      "1177021.zip: 1.01MB [00:03, 284kB/s] \n"
     ]
    },
    {
     "name": "stdout",
     "output_type": "stream",
     "text": [
      "\n",
      "File successfully downloaded to: ./zenodo_dl/1177021.zip\n",
      "[info] File downloaded: ./zenodo_dl/1177021.zip\n",
      "\n",
      "[info] Paper_idx: 1763, Zenodo id: 1176901\n"
     ]
    },
    {
     "name": "stderr",
     "output_type": "stream",
     "text": [
      "1176901.zip: 645kB [00:02, 289kB/s]  \n"
     ]
    },
    {
     "name": "stdout",
     "output_type": "stream",
     "text": [
      "\n",
      "File successfully downloaded to: ./zenodo_dl/1176901.zip\n",
      "[info] File downloaded: ./zenodo_dl/1176901.zip\n",
      "\n",
      "[info] Paper_idx: 1764, Zenodo id: 1176929\n"
     ]
    },
    {
     "name": "stderr",
     "output_type": "stream",
     "text": [
      "1176929.zip: 718kB [00:02, 287kB/s]  \n"
     ]
    },
    {
     "name": "stdout",
     "output_type": "stream",
     "text": [
      "\n",
      "File successfully downloaded to: ./zenodo_dl/1176929.zip\n",
      "[info] File downloaded: ./zenodo_dl/1176929.zip\n",
      "\n",
      "[info] Paper_idx: 1765, Zenodo id: 1176969\n"
     ]
    },
    {
     "name": "stderr",
     "output_type": "stream",
     "text": [
      "1176969.zip: 908kB [00:03, 273kB/s]  \n"
     ]
    },
    {
     "name": "stdout",
     "output_type": "stream",
     "text": [
      "\n",
      "File successfully downloaded to: ./zenodo_dl/1176969.zip\n",
      "[info] File downloaded: ./zenodo_dl/1176969.zip\n",
      "\n",
      "[info] Paper_idx: 1766, Zenodo id: 1177025\n"
     ]
    },
    {
     "name": "stderr",
     "output_type": "stream",
     "text": [
      "1177025.zip: 230kB [00:00, 274kB/s]  \n"
     ]
    },
    {
     "name": "stdout",
     "output_type": "stream",
     "text": [
      "\n",
      "File successfully downloaded to: ./zenodo_dl/1177025.zip\n",
      "[info] File downloaded: ./zenodo_dl/1177025.zip\n",
      "\n",
      "[info] Paper_idx: 1767, Zenodo id: 1176979\n"
     ]
    },
    {
     "name": "stderr",
     "output_type": "stream",
     "text": [
      "1176979.zip: 492kB [00:01, 297kB/s]  \n"
     ]
    },
    {
     "name": "stdout",
     "output_type": "stream",
     "text": [
      "\n",
      "File successfully downloaded to: ./zenodo_dl/1176979.zip\n",
      "[info] File downloaded: ./zenodo_dl/1176979.zip\n",
      "\n",
      "[info] Paper_idx: 1768, Zenodo id: 1176931\n"
     ]
    },
    {
     "name": "stderr",
     "output_type": "stream",
     "text": [
      "1176931.zip: 383kB [00:01, 340kB/s]  \n"
     ]
    },
    {
     "name": "stdout",
     "output_type": "stream",
     "text": [
      "\n",
      "File successfully downloaded to: ./zenodo_dl/1176931.zip\n",
      "[info] File downloaded: ./zenodo_dl/1176931.zip\n",
      "\n",
      "[info] Paper_idx: 1769, Zenodo id: 1177015\n"
     ]
    },
    {
     "name": "stderr",
     "output_type": "stream",
     "text": [
      "1177015.zip: 385kB [00:01, 344kB/s]  \n"
     ]
    },
    {
     "name": "stdout",
     "output_type": "stream",
     "text": [
      "\n",
      "File successfully downloaded to: ./zenodo_dl/1177015.zip\n",
      "[info] File downloaded: ./zenodo_dl/1177015.zip\n",
      "\n",
      "[info] Paper_idx: 1770, Zenodo id: 1176891\n"
     ]
    },
    {
     "name": "stderr",
     "output_type": "stream",
     "text": [
      "1176891.zip: 617kB [00:01, 442kB/s]  \n"
     ]
    },
    {
     "name": "stdout",
     "output_type": "stream",
     "text": [
      "\n",
      "File successfully downloaded to: ./zenodo_dl/1176891.zip\n",
      "[info] File downloaded: ./zenodo_dl/1176891.zip\n",
      "\n",
      "[info] Paper_idx: 1771, Zenodo id: 1176921\n"
     ]
    },
    {
     "name": "stderr",
     "output_type": "stream",
     "text": [
      "1176921.zip: 252kB [00:01, 226kB/s]  \n"
     ]
    },
    {
     "name": "stdout",
     "output_type": "stream",
     "text": [
      "\n",
      "File successfully downloaded to: ./zenodo_dl/1176921.zip\n",
      "[info] File downloaded: ./zenodo_dl/1176921.zip\n",
      "\n",
      "[info] Paper_idx: 1772, Zenodo id: 1176857\n"
     ]
    },
    {
     "name": "stderr",
     "output_type": "stream",
     "text": [
      "1176857.zip: 954kB [00:03, 282kB/s]  \n"
     ]
    },
    {
     "name": "stdout",
     "output_type": "stream",
     "text": [
      "\n",
      "File successfully downloaded to: ./zenodo_dl/1176857.zip\n",
      "[info] File downloaded: ./zenodo_dl/1176857.zip\n",
      "\n",
      "[info] Paper_idx: 1773, Zenodo id: 1176850\n"
     ]
    },
    {
     "name": "stderr",
     "output_type": "stream",
     "text": [
      "1176850.zip: 1.21MB [00:03, 313kB/s] \n"
     ]
    },
    {
     "name": "stdout",
     "output_type": "stream",
     "text": [
      "\n",
      "File successfully downloaded to: ./zenodo_dl/1176850.zip\n",
      "[info] File downloaded: ./zenodo_dl/1176850.zip\n",
      "\n",
      "[info] Paper_idx: 1774, Zenodo id: 1177003\n"
     ]
    },
    {
     "name": "stderr",
     "output_type": "stream",
     "text": [
      "1177003.zip: 572kB [00:02, 257kB/s]  \n"
     ]
    },
    {
     "name": "stdout",
     "output_type": "stream",
     "text": [
      "\n",
      "File successfully downloaded to: ./zenodo_dl/1177003.zip\n",
      "[info] File downloaded: ./zenodo_dl/1177003.zip\n",
      "\n",
      "[info] Paper_idx: 1775, Zenodo id: 1176859\n"
     ]
    },
    {
     "name": "stderr",
     "output_type": "stream",
     "text": [
      "1176859.zip: 689kB [00:02, 275kB/s]  \n"
     ]
    },
    {
     "name": "stdout",
     "output_type": "stream",
     "text": [
      "\n",
      "File successfully downloaded to: ./zenodo_dl/1176859.zip\n",
      "[info] File downloaded: ./zenodo_dl/1176859.zip\n",
      "\n",
      "[info] Paper_idx: 1776, Zenodo id: 1176855\n"
     ]
    },
    {
     "name": "stderr",
     "output_type": "stream",
     "text": [
      "1176855.zip: 1.03MB [00:01, 738kB/s] \n"
     ]
    },
    {
     "name": "stdout",
     "output_type": "stream",
     "text": [
      "\n",
      "File successfully downloaded to: ./zenodo_dl/1176855.zip\n",
      "[info] File downloaded: ./zenodo_dl/1176855.zip\n",
      "\n",
      "[info] Paper_idx: 1777, Zenodo id: 1176853\n"
     ]
    },
    {
     "name": "stderr",
     "output_type": "stream",
     "text": [
      "1176853.zip: 673kB [00:02, 302kB/s]  \n"
     ]
    },
    {
     "name": "stdout",
     "output_type": "stream",
     "text": [
      "\n",
      "File successfully downloaded to: ./zenodo_dl/1176853.zip\n",
      "[info] File downloaded: ./zenodo_dl/1176853.zip\n",
      "\n",
      "[info] Paper_idx: 1778, Zenodo id: 1176889\n"
     ]
    },
    {
     "name": "stderr",
     "output_type": "stream",
     "text": [
      "1176889.zip: 1.51MB [00:04, 341kB/s] \n"
     ]
    },
    {
     "name": "stdout",
     "output_type": "stream",
     "text": [
      "\n",
      "File successfully downloaded to: ./zenodo_dl/1176889.zip\n",
      "[info] File downloaded: ./zenodo_dl/1176889.zip\n",
      "\n",
      "[info] Paper_idx: 1779, Zenodo id: 1176951\n"
     ]
    },
    {
     "name": "stderr",
     "output_type": "stream",
     "text": [
      "1176951.zip: 488kB [00:01, 251kB/s]  \n"
     ]
    },
    {
     "name": "stdout",
     "output_type": "stream",
     "text": [
      "\n",
      "File successfully downloaded to: ./zenodo_dl/1176951.zip\n",
      "[info] File downloaded: ./zenodo_dl/1176951.zip\n",
      "\n",
      "[info] Paper_idx: 1780, Zenodo id: 1176973\n"
     ]
    },
    {
     "name": "stderr",
     "output_type": "stream",
     "text": [
      "1176973.zip: 188kB [00:00, 224kB/s]  \n"
     ]
    },
    {
     "name": "stdout",
     "output_type": "stream",
     "text": [
      "\n",
      "File successfully downloaded to: ./zenodo_dl/1176973.zip\n",
      "[info] File downloaded: ./zenodo_dl/1176973.zip\n",
      "\n",
      "[info] Paper_idx: 1781, Zenodo id: 1176949\n"
     ]
    },
    {
     "name": "stderr",
     "output_type": "stream",
     "text": [
      "1176949.zip: 521kB [00:01, 315kB/s]  \n"
     ]
    },
    {
     "name": "stdout",
     "output_type": "stream",
     "text": [
      "\n",
      "File successfully downloaded to: ./zenodo_dl/1176949.zip\n",
      "[info] File downloaded: ./zenodo_dl/1176949.zip\n",
      "\n",
      "[info] Paper_idx: 1782, Zenodo id: 1176881\n"
     ]
    },
    {
     "name": "stderr",
     "output_type": "stream",
     "text": [
      "1176881.zip: 1.39MB [00:01, 827kB/s] \n"
     ]
    },
    {
     "name": "stdout",
     "output_type": "stream",
     "text": [
      "\n",
      "File successfully downloaded to: ./zenodo_dl/1176881.zip\n",
      "[info] File downloaded: ./zenodo_dl/1176881.zip\n",
      "\n",
      "[info] Paper_idx: 1783, Zenodo id: 1177005\n"
     ]
    },
    {
     "name": "stderr",
     "output_type": "stream",
     "text": [
      "1177005.zip: 2.17MB [00:01, 1.13MB/s]\n"
     ]
    },
    {
     "name": "stdout",
     "output_type": "stream",
     "text": [
      "\n",
      "File successfully downloaded to: ./zenodo_dl/1177005.zip\n",
      "[info] File downloaded: ./zenodo_dl/1177005.zip\n",
      "\n",
      "[info] Paper_idx: 1784, Zenodo id: 1177019\n"
     ]
    },
    {
     "name": "stderr",
     "output_type": "stream",
     "text": [
      "1177019.zip: 1.09MB [00:01, 680kB/s] \n"
     ]
    },
    {
     "name": "stdout",
     "output_type": "stream",
     "text": [
      "\n",
      "File successfully downloaded to: ./zenodo_dl/1177019.zip\n",
      "[info] File downloaded: ./zenodo_dl/1177019.zip\n",
      "\n",
      "[info] Paper_idx: 1785, Zenodo id: 1176989\n"
     ]
    },
    {
     "name": "stderr",
     "output_type": "stream",
     "text": [
      "1176989.zip: 414kB [00:01, 370kB/s]  \n"
     ]
    },
    {
     "name": "stdout",
     "output_type": "stream",
     "text": [
      "\n",
      "File successfully downloaded to: ./zenodo_dl/1176989.zip\n",
      "[info] File downloaded: ./zenodo_dl/1176989.zip\n",
      "\n",
      "[info] Paper_idx: 1786, Zenodo id: 1176877\n"
     ]
    },
    {
     "name": "stderr",
     "output_type": "stream",
     "text": [
      "1176877.zip: 2.39MB [00:07, 331kB/s] \n"
     ]
    },
    {
     "name": "stdout",
     "output_type": "stream",
     "text": [
      "\n",
      "File successfully downloaded to: ./zenodo_dl/1176877.zip\n",
      "[info] File downloaded: ./zenodo_dl/1176877.zip\n",
      "\n",
      "[info] Paper_idx: 1787, Zenodo id: 1176957\n"
     ]
    },
    {
     "name": "stderr",
     "output_type": "stream",
     "text": [
      "1176957.zip: 855kB [00:03, 280kB/s]  \n"
     ]
    },
    {
     "name": "stdout",
     "output_type": "stream",
     "text": [
      "\n",
      "File successfully downloaded to: ./zenodo_dl/1176957.zip\n",
      "[info] File downloaded: ./zenodo_dl/1176957.zip\n",
      "\n",
      "[info] Paper_idx: 1788, Zenodo id: 1176863\n"
     ]
    },
    {
     "name": "stderr",
     "output_type": "stream",
     "text": [
      "1176863.zip: 941kB [00:02, 339kB/s]  \n"
     ]
    },
    {
     "name": "stdout",
     "output_type": "stream",
     "text": [
      "\n",
      "File successfully downloaded to: ./zenodo_dl/1176863.zip\n",
      "[info] File downloaded: ./zenodo_dl/1176863.zip\n",
      "\n",
      "[info] Paper_idx: 1789, Zenodo id: 1176987\n"
     ]
    },
    {
     "name": "stderr",
     "output_type": "stream",
     "text": [
      "1176987.zip: 611kB [00:01, 312kB/s]  \n"
     ]
    },
    {
     "name": "stdout",
     "output_type": "stream",
     "text": [
      "\n",
      "File successfully downloaded to: ./zenodo_dl/1176987.zip\n",
      "[info] File downloaded: ./zenodo_dl/1176987.zip\n",
      "\n",
      "[info] Paper_idx: 1790, Zenodo id: 1176893\n"
     ]
    },
    {
     "name": "stderr",
     "output_type": "stream",
     "text": [
      "1176893.zip: 607kB [00:01, 435kB/s]  \n"
     ]
    },
    {
     "name": "stdout",
     "output_type": "stream",
     "text": [
      "\n",
      "File successfully downloaded to: ./zenodo_dl/1176893.zip\n",
      "[info] File downloaded: ./zenodo_dl/1176893.zip\n",
      "\n",
      "[info] Paper_idx: 1791, Zenodo id: 1176995\n"
     ]
    },
    {
     "name": "stderr",
     "output_type": "stream",
     "text": [
      "1176995.zip: 391kB [00:01, 350kB/s]  \n"
     ]
    },
    {
     "name": "stdout",
     "output_type": "stream",
     "text": [
      "\n",
      "File successfully downloaded to: ./zenodo_dl/1176995.zip\n",
      "[info] File downloaded: ./zenodo_dl/1176995.zip\n",
      "\n",
      "[info] Paper_idx: 1792, Zenodo id: 1176953\n"
     ]
    },
    {
     "name": "stderr",
     "output_type": "stream",
     "text": [
      "1176953.zip: 747kB [00:01, 533kB/s]  \n"
     ]
    },
    {
     "name": "stdout",
     "output_type": "stream",
     "text": [
      "\n",
      "File successfully downloaded to: ./zenodo_dl/1176953.zip\n",
      "[info] File downloaded: ./zenodo_dl/1176953.zip\n",
      "\n",
      "[info] Paper_idx: 1793, Zenodo id: 1176913\n"
     ]
    },
    {
     "name": "stderr",
     "output_type": "stream",
     "text": [
      "1176913.zip: 471kB [00:01, 418kB/s]  \n"
     ]
    },
    {
     "name": "stdout",
     "output_type": "stream",
     "text": [
      "\n",
      "File successfully downloaded to: ./zenodo_dl/1176913.zip\n",
      "[info] File downloaded: ./zenodo_dl/1176913.zip\n",
      "\n",
      "[info] Paper_idx: 1794, Zenodo id: 1176923\n"
     ]
    },
    {
     "name": "stderr",
     "output_type": "stream",
     "text": [
      "1176923.zip: 846kB [00:02, 305kB/s]  \n"
     ]
    },
    {
     "name": "stdout",
     "output_type": "stream",
     "text": [
      "\n",
      "File successfully downloaded to: ./zenodo_dl/1176923.zip\n",
      "[info] File downloaded: ./zenodo_dl/1176923.zip\n",
      "\n",
      "[info] Paper_idx: 1795, Zenodo id: 1176961\n"
     ]
    },
    {
     "name": "stderr",
     "output_type": "stream",
     "text": [
      "1176961.zip: 762kB [00:02, 275kB/s]  \n"
     ]
    },
    {
     "name": "stdout",
     "output_type": "stream",
     "text": [
      "\n",
      "File successfully downloaded to: ./zenodo_dl/1176961.zip\n",
      "[info] File downloaded: ./zenodo_dl/1176961.zip\n",
      "\n",
      "[info] Paper_idx: 1796, Zenodo id: 1176963\n"
     ]
    },
    {
     "name": "stderr",
     "output_type": "stream",
     "text": [
      "1176963.zip: 928kB [00:01, 573kB/s]  \n"
     ]
    },
    {
     "name": "stdout",
     "output_type": "stream",
     "text": [
      "\n",
      "File successfully downloaded to: ./zenodo_dl/1176963.zip\n",
      "[info] File downloaded: ./zenodo_dl/1176963.zip\n",
      "\n",
      "[info] Paper_idx: 1797, Zenodo id: 1177001\n"
     ]
    },
    {
     "name": "stderr",
     "output_type": "stream",
     "text": [
      "1177001.zip: 541kB [00:01, 279kB/s]  \n"
     ]
    },
    {
     "name": "stdout",
     "output_type": "stream",
     "text": [
      "\n",
      "File successfully downloaded to: ./zenodo_dl/1177001.zip\n",
      "[info] File downloaded: ./zenodo_dl/1177001.zip\n",
      "\n",
      "[info] Paper_idx: 1798, Zenodo id: 1177007\n"
     ]
    },
    {
     "name": "stderr",
     "output_type": "stream",
     "text": [
      "1177007.zip: 688kB [00:02, 276kB/s]  \n"
     ]
    },
    {
     "name": "stdout",
     "output_type": "stream",
     "text": [
      "\n",
      "File successfully downloaded to: ./zenodo_dl/1177007.zip\n",
      "[info] File downloaded: ./zenodo_dl/1177007.zip\n",
      "\n",
      "[info] Paper_idx: 1799, Zenodo id: 1176981\n"
     ]
    },
    {
     "name": "stderr",
     "output_type": "stream",
     "text": [
      "1176981.zip: 233kB [00:01, 183kB/s]  \n"
     ]
    },
    {
     "name": "stdout",
     "output_type": "stream",
     "text": [
      "\n",
      "File successfully downloaded to: ./zenodo_dl/1176981.zip\n",
      "[info] File downloaded: ./zenodo_dl/1176981.zip\n",
      "\n",
      "[info] Paper_idx: 1800, Zenodo id: 1176879\n"
     ]
    },
    {
     "name": "stderr",
     "output_type": "stream",
     "text": [
      "1176879.zip: 266kB [00:01, 240kB/s]  \n"
     ]
    },
    {
     "name": "stdout",
     "output_type": "stream",
     "text": [
      "\n",
      "File successfully downloaded to: ./zenodo_dl/1176879.zip\n",
      "[info] File downloaded: ./zenodo_dl/1176879.zip\n",
      "\n",
      "[info] Paper_idx: 1801, Zenodo id: 1176875\n"
     ]
    },
    {
     "name": "stderr",
     "output_type": "stream",
     "text": [
      "1176875.zip: 779kB [00:01, 558kB/s]  \n"
     ]
    },
    {
     "name": "stdout",
     "output_type": "stream",
     "text": [
      "\n",
      "File successfully downloaded to: ./zenodo_dl/1176875.zip\n",
      "[info] File downloaded: ./zenodo_dl/1176875.zip\n",
      "\n",
      "[info] Paper_idx: 1802, Zenodo id: 1176977\n"
     ]
    },
    {
     "name": "stderr",
     "output_type": "stream",
     "text": [
      "1176977.zip: 1.25MB [00:03, 346kB/s] \n"
     ]
    },
    {
     "name": "stdout",
     "output_type": "stream",
     "text": [
      "\n",
      "File successfully downloaded to: ./zenodo_dl/1176977.zip\n",
      "[info] File downloaded: ./zenodo_dl/1176977.zip\n",
      "\n",
      "[info] Paper_idx: 1803, Zenodo id: 1176883\n"
     ]
    },
    {
     "name": "stderr",
     "output_type": "stream",
     "text": [
      "1176883.zip: 469kB [00:01, 240kB/s]  \n"
     ]
    },
    {
     "name": "stdout",
     "output_type": "stream",
     "text": [
      "\n",
      "File successfully downloaded to: ./zenodo_dl/1176883.zip\n",
      "[info] File downloaded: ./zenodo_dl/1176883.zip\n",
      "\n",
      "[info] Paper_idx: 1804, Zenodo id: 1176919\n"
     ]
    },
    {
     "name": "stderr",
     "output_type": "stream",
     "text": [
      "1176919.zip: 724kB [00:02, 289kB/s]  \n"
     ]
    },
    {
     "name": "stdout",
     "output_type": "stream",
     "text": [
      "\n",
      "File successfully downloaded to: ./zenodo_dl/1176919.zip\n",
      "[info] File downloaded: ./zenodo_dl/1176919.zip\n",
      "\n",
      "[info] Paper_idx: 1805, Zenodo id: 1176983\n"
     ]
    },
    {
     "name": "stderr",
     "output_type": "stream",
     "text": [
      "1176983.zip: 505kB [00:01, 449kB/s]  \n"
     ]
    },
    {
     "name": "stdout",
     "output_type": "stream",
     "text": [
      "\n",
      "File successfully downloaded to: ./zenodo_dl/1176983.zip\n",
      "[info] File downloaded: ./zenodo_dl/1176983.zip\n",
      "\n",
      "[info] Paper_idx: 1806, Zenodo id: 1176945\n"
     ]
    },
    {
     "name": "stderr",
     "output_type": "stream",
     "text": [
      "1176945.zip: 1.90MB [00:05, 340kB/s] \n"
     ]
    },
    {
     "name": "stdout",
     "output_type": "stream",
     "text": [
      "\n",
      "File successfully downloaded to: ./zenodo_dl/1176945.zip\n",
      "[info] File downloaded: ./zenodo_dl/1176945.zip\n",
      "\n",
      "[info] Paper_idx: 1807, Zenodo id: 1176867\n"
     ]
    },
    {
     "name": "stderr",
     "output_type": "stream",
     "text": [
      "1176867.zip: 1.94MB [00:06, 305kB/s] \n"
     ]
    },
    {
     "name": "stdout",
     "output_type": "stream",
     "text": [
      "\n",
      "File successfully downloaded to: ./zenodo_dl/1176867.zip\n",
      "[info] File downloaded: ./zenodo_dl/1176867.zip\n",
      "\n",
      "[info] Paper_idx: 1808, Zenodo id: 1176895\n"
     ]
    },
    {
     "name": "stderr",
     "output_type": "stream",
     "text": [
      "1176895.zip: 1.77MB [00:01, 1.03MB/s]\n"
     ]
    },
    {
     "name": "stdout",
     "output_type": "stream",
     "text": [
      "\n",
      "File successfully downloaded to: ./zenodo_dl/1176895.zip\n",
      "[info] File downloaded: ./zenodo_dl/1176895.zip\n",
      "\n",
      "[info] Paper_idx: 1809, Zenodo id: 1176971\n"
     ]
    },
    {
     "name": "stderr",
     "output_type": "stream",
     "text": [
      "1176971.zip: 840kB [00:01, 603kB/s]  \n"
     ]
    },
    {
     "name": "stdout",
     "output_type": "stream",
     "text": [
      "\n",
      "File successfully downloaded to: ./zenodo_dl/1176971.zip\n",
      "[info] File downloaded: ./zenodo_dl/1176971.zip\n",
      "\n",
      "[info] Paper_idx: 1810, Zenodo id: 1176897\n"
     ]
    },
    {
     "name": "stderr",
     "output_type": "stream",
     "text": [
      "1176897.zip: 3.31MB [00:01, 1.70MB/s]\n"
     ]
    },
    {
     "name": "stdout",
     "output_type": "stream",
     "text": [
      "\n",
      "File successfully downloaded to: ./zenodo_dl/1176897.zip\n",
      "[info] File downloaded: ./zenodo_dl/1176897.zip\n",
      "\n",
      "[info] Paper_idx: 1811, Zenodo id: 1176927\n"
     ]
    },
    {
     "name": "stderr",
     "output_type": "stream",
     "text": [
      "1176927.zip: 451kB [00:01, 270kB/s]  \n"
     ]
    },
    {
     "name": "stdout",
     "output_type": "stream",
     "text": [
      "\n",
      "File successfully downloaded to: ./zenodo_dl/1176927.zip\n",
      "[info] File downloaded: ./zenodo_dl/1176927.zip\n",
      "\n",
      "[info] Paper_idx: 1812, Zenodo id: 1176917\n"
     ]
    },
    {
     "name": "stderr",
     "output_type": "stream",
     "text": [
      "1176917.zip: 465kB [00:01, 277kB/s]  \n"
     ]
    },
    {
     "name": "stdout",
     "output_type": "stream",
     "text": [
      "\n",
      "File successfully downloaded to: ./zenodo_dl/1176917.zip\n",
      "[info] File downloaded: ./zenodo_dl/1176917.zip\n",
      "\n",
      "[info] Paper_idx: 1813, Zenodo id: 1176899\n"
     ]
    },
    {
     "name": "stderr",
     "output_type": "stream",
     "text": [
      "1176899.zip: 504kB [00:01, 366kB/s]  \n"
     ]
    },
    {
     "name": "stdout",
     "output_type": "stream",
     "text": [
      "\n",
      "File successfully downloaded to: ./zenodo_dl/1176899.zip\n",
      "[info] File downloaded: ./zenodo_dl/1176899.zip\n",
      "\n",
      "[info] Paper_idx: 1814, Zenodo id: 1176985\n"
     ]
    },
    {
     "name": "stderr",
     "output_type": "stream",
     "text": [
      "1176985.zip: 705kB [00:02, 315kB/s]  \n"
     ]
    },
    {
     "name": "stdout",
     "output_type": "stream",
     "text": [
      "\n",
      "File successfully downloaded to: ./zenodo_dl/1176985.zip\n",
      "[info] File downloaded: ./zenodo_dl/1176985.zip\n",
      "\n",
      "[info] Paper_idx: 1815, Zenodo id: 1177023\n"
     ]
    },
    {
     "name": "stderr",
     "output_type": "stream",
     "text": [
      "1177023.zip: 1.06MB [00:01, 651kB/s] \n"
     ]
    },
    {
     "name": "stdout",
     "output_type": "stream",
     "text": [
      "\n",
      "File successfully downloaded to: ./zenodo_dl/1177023.zip\n",
      "[info] File downloaded: ./zenodo_dl/1177023.zip\n",
      "\n",
      "[info] Paper_idx: 1816, Zenodo id: 1176871\n"
     ]
    },
    {
     "name": "stderr",
     "output_type": "stream",
     "text": [
      "1176871.zip: 1.13MB [00:01, 667kB/s] \n"
     ]
    },
    {
     "name": "stdout",
     "output_type": "stream",
     "text": [
      "\n",
      "File successfully downloaded to: ./zenodo_dl/1176871.zip\n",
      "[info] File downloaded: ./zenodo_dl/1176871.zip\n",
      "\n",
      "[info] Paper_idx: 1817, Zenodo id: 1176939\n"
     ]
    },
    {
     "name": "stderr",
     "output_type": "stream",
     "text": [
      "1176939.zip: 393kB [00:01, 235kB/s]  \n"
     ]
    },
    {
     "name": "stdout",
     "output_type": "stream",
     "text": [
      "\n",
      "File successfully downloaded to: ./zenodo_dl/1176939.zip\n",
      "[info] File downloaded: ./zenodo_dl/1176939.zip\n",
      "\n",
      "[info] Paper_idx: 1818, Zenodo id: 1176905\n"
     ]
    },
    {
     "name": "stderr",
     "output_type": "stream",
     "text": [
      "1176905.zip: 779kB [00:01, 557kB/s]  \n"
     ]
    },
    {
     "name": "stdout",
     "output_type": "stream",
     "text": [
      "\n",
      "File successfully downloaded to: ./zenodo_dl/1176905.zip\n",
      "[info] File downloaded: ./zenodo_dl/1176905.zip\n",
      "\n",
      "[info] Paper_idx: 1819, Zenodo id: 1176715\n"
     ]
    },
    {
     "name": "stderr",
     "output_type": "stream",
     "text": [
      "1176715.zip: 122kB [00:00, 148kB/s]  \n"
     ]
    },
    {
     "name": "stdout",
     "output_type": "stream",
     "text": [
      "\n",
      "File successfully downloaded to: ./zenodo_dl/1176715.zip\n",
      "[info] File downloaded: ./zenodo_dl/1176715.zip\n",
      "\n",
      "[info] Paper_idx: 1820, Zenodo id: 1176770\n"
     ]
    },
    {
     "name": "stderr",
     "output_type": "stream",
     "text": [
      "1176770.zip: 4.07MB [00:12, 334kB/s] \n"
     ]
    },
    {
     "name": "stdout",
     "output_type": "stream",
     "text": [
      "\n",
      "File successfully downloaded to: ./zenodo_dl/1176770.zip\n",
      "[info] File downloaded: ./zenodo_dl/1176770.zip\n",
      "\n",
      "[info] Paper_idx: 1821, Zenodo id: 1176717\n"
     ]
    },
    {
     "name": "stderr",
     "output_type": "stream",
     "text": [
      "1176717.zip: 73.9kB [00:00, 131kB/s] \n"
     ]
    },
    {
     "name": "stdout",
     "output_type": "stream",
     "text": [
      "\n",
      "File successfully downloaded to: ./zenodo_dl/1176717.zip\n",
      "[info] File downloaded: ./zenodo_dl/1176717.zip\n",
      "\n",
      "[info] Paper_idx: 1822, Zenodo id: 1176713\n"
     ]
    },
    {
     "name": "stderr",
     "output_type": "stream",
     "text": [
      "1176713.zip: 7.43MB [00:02, 2.92MB/s]\n"
     ]
    },
    {
     "name": "stdout",
     "output_type": "stream",
     "text": [
      "\n",
      "File successfully downloaded to: ./zenodo_dl/1176713.zip\n",
      "[info] File downloaded: ./zenodo_dl/1176713.zip\n",
      "\n",
      "[info] Paper_idx: 1823, Zenodo id: 1176780\n"
     ]
    },
    {
     "name": "stderr",
     "output_type": "stream",
     "text": [
      "1176780.zip: 448kB [00:01, 267kB/s]  \n"
     ]
    },
    {
     "name": "stdout",
     "output_type": "stream",
     "text": [
      "\n",
      "File successfully downloaded to: ./zenodo_dl/1176780.zip\n",
      "[info] File downloaded: ./zenodo_dl/1176780.zip\n",
      "\n",
      "[info] Paper_idx: 1824, Zenodo id: 1176840\n"
     ]
    },
    {
     "name": "stderr",
     "output_type": "stream",
     "text": [
      "1176840.zip: 1.55MB [00:01, 919kB/s] \n"
     ]
    },
    {
     "name": "stdout",
     "output_type": "stream",
     "text": [
      "\n",
      "File successfully downloaded to: ./zenodo_dl/1176840.zip\n",
      "[info] File downloaded: ./zenodo_dl/1176840.zip\n",
      "\n",
      "[info] Paper_idx: 1825, Zenodo id: 1176760\n"
     ]
    },
    {
     "name": "stderr",
     "output_type": "stream",
     "text": [
      "1176760.zip: 869kB [00:01, 604kB/s]  \n"
     ]
    },
    {
     "name": "stdout",
     "output_type": "stream",
     "text": [
      "\n",
      "File successfully downloaded to: ./zenodo_dl/1176760.zip\n",
      "[info] File downloaded: ./zenodo_dl/1176760.zip\n",
      "\n",
      "[info] Paper_idx: 1826, Zenodo id: 1176709\n"
     ]
    },
    {
     "name": "stderr",
     "output_type": "stream",
     "text": [
      "1176709.zip: 2.51MB [00:07, 335kB/s] \n"
     ]
    },
    {
     "name": "stdout",
     "output_type": "stream",
     "text": [
      "\n",
      "File successfully downloaded to: ./zenodo_dl/1176709.zip\n",
      "[info] File downloaded: ./zenodo_dl/1176709.zip\n",
      "\n",
      "[info] Paper_idx: 1827, Zenodo id: 1176796\n"
     ]
    },
    {
     "name": "stderr",
     "output_type": "stream",
     "text": [
      "1176796.zip: 1.39MB [00:04, 333kB/s] \n"
     ]
    },
    {
     "name": "stdout",
     "output_type": "stream",
     "text": [
      "\n",
      "File successfully downloaded to: ./zenodo_dl/1176796.zip\n",
      "[info] File downloaded: ./zenodo_dl/1176796.zip\n",
      "\n",
      "[info] Paper_idx: 1828, Zenodo id: 1176719\n"
     ]
    },
    {
     "name": "stderr",
     "output_type": "stream",
     "text": [
      "1176719.zip: 6.30MB [00:02, 2.51MB/s]\n"
     ]
    },
    {
     "name": "stdout",
     "output_type": "stream",
     "text": [
      "\n",
      "File successfully downloaded to: ./zenodo_dl/1176719.zip\n",
      "[info] File downloaded: ./zenodo_dl/1176719.zip\n",
      "\n",
      "[info] Paper_idx: 1829, Zenodo id: 1176820\n"
     ]
    },
    {
     "name": "stderr",
     "output_type": "stream",
     "text": [
      "1176820.zip: 3.09MB [00:08, 348kB/s] \n"
     ]
    },
    {
     "name": "stdout",
     "output_type": "stream",
     "text": [
      "\n",
      "File successfully downloaded to: ./zenodo_dl/1176820.zip\n",
      "[info] File downloaded: ./zenodo_dl/1176820.zip\n",
      "\n",
      "[info] Paper_idx: 1830, Zenodo id: 1176745\n"
     ]
    },
    {
     "name": "stderr",
     "output_type": "stream",
     "text": [
      "1176745.zip: 252kB [00:01, 236kB/s]  \n"
     ]
    },
    {
     "name": "stdout",
     "output_type": "stream",
     "text": [
      "\n",
      "File successfully downloaded to: ./zenodo_dl/1176745.zip\n",
      "[info] File downloaded: ./zenodo_dl/1176745.zip\n",
      "\n",
      "[info] Paper_idx: 1831, Zenodo id: 1176818\n"
     ]
    },
    {
     "name": "stderr",
     "output_type": "stream",
     "text": [
      "1176818.zip: 591kB [00:01, 420kB/s]  \n"
     ]
    },
    {
     "name": "stdout",
     "output_type": "stream",
     "text": [
      "\n",
      "File successfully downloaded to: ./zenodo_dl/1176818.zip\n",
      "[info] File downloaded: ./zenodo_dl/1176818.zip\n",
      "\n",
      "[info] Paper_idx: 1832, Zenodo id: 1176693\n"
     ]
    },
    {
     "name": "stderr",
     "output_type": "stream",
     "text": [
      "1176693.zip: 4.20MB [00:02, 1.68MB/s]\n"
     ]
    },
    {
     "name": "stdout",
     "output_type": "stream",
     "text": [
      "\n",
      "File successfully downloaded to: ./zenodo_dl/1176693.zip\n",
      "[info] File downloaded: ./zenodo_dl/1176693.zip\n",
      "\n",
      "[info] Paper_idx: 1833, Zenodo id: 1176794\n"
     ]
    },
    {
     "name": "stderr",
     "output_type": "stream",
     "text": [
      "1176794.zip: 664kB [00:02, 239kB/s]  \n"
     ]
    },
    {
     "name": "stdout",
     "output_type": "stream",
     "text": [
      "\n",
      "File successfully downloaded to: ./zenodo_dl/1176794.zip\n",
      "[info] File downloaded: ./zenodo_dl/1176794.zip\n",
      "\n",
      "[info] Paper_idx: 1834, Zenodo id: 1176774\n"
     ]
    },
    {
     "name": "stderr",
     "output_type": "stream",
     "text": [
      "1176774.zip: 682kB [00:01, 482kB/s]  \n"
     ]
    },
    {
     "name": "stdout",
     "output_type": "stream",
     "text": [
      "\n",
      "File successfully downloaded to: ./zenodo_dl/1176774.zip\n",
      "[info] File downloaded: ./zenodo_dl/1176774.zip\n",
      "\n",
      "[info] Paper_idx: 1835, Zenodo id: 1176737\n"
     ]
    },
    {
     "name": "stderr",
     "output_type": "stream",
     "text": [
      "1176737.zip: 941kB [00:01, 670kB/s]  \n"
     ]
    },
    {
     "name": "stdout",
     "output_type": "stream",
     "text": [
      "\n",
      "File successfully downloaded to: ./zenodo_dl/1176737.zip\n",
      "[info] File downloaded: ./zenodo_dl/1176737.zip\n",
      "\n",
      "[info] Paper_idx: 1836, Zenodo id: 1176830\n"
     ]
    },
    {
     "name": "stderr",
     "output_type": "stream",
     "text": [
      "1176830.zip: 170kB [00:00, 204kB/s]  \n"
     ]
    },
    {
     "name": "stdout",
     "output_type": "stream",
     "text": [
      "\n",
      "File successfully downloaded to: ./zenodo_dl/1176830.zip\n",
      "[info] File downloaded: ./zenodo_dl/1176830.zip\n",
      "\n",
      "[info] Paper_idx: 1837, Zenodo id: 1176729\n"
     ]
    },
    {
     "name": "stderr",
     "output_type": "stream",
     "text": [
      "1176729.zip: 1.00MB [00:03, 327kB/s] \n"
     ]
    },
    {
     "name": "stdout",
     "output_type": "stream",
     "text": [
      "\n",
      "File successfully downloaded to: ./zenodo_dl/1176729.zip\n",
      "[info] File downloaded: ./zenodo_dl/1176729.zip\n",
      "\n",
      "[info] Paper_idx: 1838, Zenodo id: 1176703\n"
     ]
    },
    {
     "name": "stderr",
     "output_type": "stream",
     "text": [
      "1176703.zip: 274kB [00:01, 244kB/s]  \n"
     ]
    },
    {
     "name": "stdout",
     "output_type": "stream",
     "text": [
      "\n",
      "File successfully downloaded to: ./zenodo_dl/1176703.zip\n",
      "[info] File downloaded: ./zenodo_dl/1176703.zip\n",
      "\n",
      "[info] Paper_idx: 1839, Zenodo id: 1176800\n"
     ]
    },
    {
     "name": "stderr",
     "output_type": "stream",
     "text": [
      "1176800.zip: 255kB [00:01, 239kB/s]  \n"
     ]
    },
    {
     "name": "stdout",
     "output_type": "stream",
     "text": [
      "\n",
      "File successfully downloaded to: ./zenodo_dl/1176800.zip\n",
      "[info] File downloaded: ./zenodo_dl/1176800.zip\n",
      "\n",
      "[info] Paper_idx: 1840, Zenodo id: 1176810\n"
     ]
    },
    {
     "name": "stderr",
     "output_type": "stream",
     "text": [
      "1176810.zip: 669kB [00:01, 401kB/s]  \n"
     ]
    },
    {
     "name": "stdout",
     "output_type": "stream",
     "text": [
      "\n",
      "File successfully downloaded to: ./zenodo_dl/1176810.zip\n",
      "[info] File downloaded: ./zenodo_dl/1176810.zip\n",
      "\n",
      "[info] Paper_idx: 1841, Zenodo id: 1176727\n"
     ]
    },
    {
     "name": "stderr",
     "output_type": "stream",
     "text": [
      "1176727.zip: 552kB [00:01, 425kB/s]  \n"
     ]
    },
    {
     "name": "stdout",
     "output_type": "stream",
     "text": [
      "\n",
      "File successfully downloaded to: ./zenodo_dl/1176727.zip\n",
      "[info] File downloaded: ./zenodo_dl/1176727.zip\n",
      "\n",
      "[info] Paper_idx: 1842, Zenodo id: 1176701\n"
     ]
    },
    {
     "name": "stderr",
     "output_type": "stream",
     "text": [
      "1176701.zip: 293kB [00:01, 260kB/s]  \n"
     ]
    },
    {
     "name": "stdout",
     "output_type": "stream",
     "text": [
      "\n",
      "File successfully downloaded to: ./zenodo_dl/1176701.zip\n",
      "[info] File downloaded: ./zenodo_dl/1176701.zip\n",
      "\n",
      "[info] Paper_idx: 1843, Zenodo id: 1176814\n"
     ]
    },
    {
     "name": "stderr",
     "output_type": "stream",
     "text": [
      "1176814.zip: 1.45MB [00:01, 878kB/s] \n"
     ]
    },
    {
     "name": "stdout",
     "output_type": "stream",
     "text": [
      "\n",
      "File successfully downloaded to: ./zenodo_dl/1176814.zip\n",
      "[info] File downloaded: ./zenodo_dl/1176814.zip\n",
      "\n",
      "[info] Paper_idx: 1844, Zenodo id: 1176804\n"
     ]
    },
    {
     "name": "stderr",
     "output_type": "stream",
     "text": [
      "1176804.zip: 1.10MB [00:01, 668kB/s] \n"
     ]
    },
    {
     "name": "stdout",
     "output_type": "stream",
     "text": [
      "\n",
      "File successfully downloaded to: ./zenodo_dl/1176804.zip\n",
      "[info] File downloaded: ./zenodo_dl/1176804.zip\n",
      "\n",
      "[info] Paper_idx: 1845, Zenodo id: 1176772\n"
     ]
    },
    {
     "name": "stderr",
     "output_type": "stream",
     "text": [
      "1176772.zip: 3.28MB [00:09, 349kB/s] \n"
     ]
    },
    {
     "name": "stdout",
     "output_type": "stream",
     "text": [
      "\n",
      "File successfully downloaded to: ./zenodo_dl/1176772.zip\n",
      "[info] File downloaded: ./zenodo_dl/1176772.zip\n",
      "\n",
      "[info] Paper_idx: 1846, Zenodo id: 1176844\n"
     ]
    },
    {
     "name": "stderr",
     "output_type": "stream",
     "text": [
      "1176844.zip: 675kB [00:02, 267kB/s]  \n"
     ]
    },
    {
     "name": "stdout",
     "output_type": "stream",
     "text": [
      "\n",
      "File successfully downloaded to: ./zenodo_dl/1176844.zip\n",
      "[info] File downloaded: ./zenodo_dl/1176844.zip\n",
      "\n",
      "[info] Paper_idx: 1847, Zenodo id: 1176750\n"
     ]
    },
    {
     "name": "stderr",
     "output_type": "stream",
     "text": [
      "1176750.zip: 994kB [00:03, 297kB/s]  \n"
     ]
    },
    {
     "name": "stdout",
     "output_type": "stream",
     "text": [
      "\n",
      "File successfully downloaded to: ./zenodo_dl/1176750.zip\n",
      "[info] File downloaded: ./zenodo_dl/1176750.zip\n",
      "\n",
      "[info] Paper_idx: 1848, Zenodo id: 1176758\n"
     ]
    },
    {
     "name": "stderr",
     "output_type": "stream",
     "text": [
      "1176758.zip: 304kB [00:01, 217kB/s]  \n"
     ]
    },
    {
     "name": "stdout",
     "output_type": "stream",
     "text": [
      "\n",
      "File successfully downloaded to: ./zenodo_dl/1176758.zip\n",
      "[info] File downloaded: ./zenodo_dl/1176758.zip\n",
      "\n",
      "[info] Paper_idx: 1849, Zenodo id: 1176768\n"
     ]
    },
    {
     "name": "stderr",
     "output_type": "stream",
     "text": [
      "1176768.zip: 1.88MB [00:04, 397kB/s] \n"
     ]
    },
    {
     "name": "stdout",
     "output_type": "stream",
     "text": [
      "\n",
      "File successfully downloaded to: ./zenodo_dl/1176768.zip\n",
      "[info] File downloaded: ./zenodo_dl/1176768.zip\n",
      "\n",
      "[info] Paper_idx: 1850, Zenodo id: 1176824\n"
     ]
    },
    {
     "name": "stderr",
     "output_type": "stream",
     "text": [
      "1176824.zip: 142kB [00:00, 167kB/s]  \n"
     ]
    },
    {
     "name": "stdout",
     "output_type": "stream",
     "text": [
      "\n",
      "File successfully downloaded to: ./zenodo_dl/1176824.zip\n",
      "[info] File downloaded: ./zenodo_dl/1176824.zip\n",
      "\n",
      "[info] Paper_idx: 1851, Zenodo id: 1176784\n"
     ]
    },
    {
     "name": "stderr",
     "output_type": "stream",
     "text": [
      "1176784.zip: 304kB [00:01, 272kB/s]  \n"
     ]
    },
    {
     "name": "stdout",
     "output_type": "stream",
     "text": [
      "\n",
      "File successfully downloaded to: ./zenodo_dl/1176784.zip\n",
      "[info] File downloaded: ./zenodo_dl/1176784.zip\n",
      "\n",
      "[info] Paper_idx: 1852, Zenodo id: 1176754\n"
     ]
    },
    {
     "name": "stderr",
     "output_type": "stream",
     "text": [
      "1176754.zip: 798kB [00:01, 570kB/s]  \n"
     ]
    },
    {
     "name": "stdout",
     "output_type": "stream",
     "text": [
      "\n",
      "File successfully downloaded to: ./zenodo_dl/1176754.zip\n",
      "[info] File downloaded: ./zenodo_dl/1176754.zip\n",
      "\n",
      "[info] Paper_idx: 1853, Zenodo id: 1176798\n"
     ]
    },
    {
     "name": "stderr",
     "output_type": "stream",
     "text": [
      "1176798.zip: 217kB [00:01, 202kB/s]  \n"
     ]
    },
    {
     "name": "stdout",
     "output_type": "stream",
     "text": [
      "\n",
      "File successfully downloaded to: ./zenodo_dl/1176798.zip\n",
      "[info] File downloaded: ./zenodo_dl/1176798.zip\n",
      "\n",
      "[info] Paper_idx: 1854, Zenodo id: 1176812\n"
     ]
    },
    {
     "name": "stderr",
     "output_type": "stream",
     "text": [
      "1176812.zip: 140kB [00:00, 166kB/s]  \n"
     ]
    },
    {
     "name": "stdout",
     "output_type": "stream",
     "text": [
      "\n",
      "File successfully downloaded to: ./zenodo_dl/1176812.zip\n",
      "[info] File downloaded: ./zenodo_dl/1176812.zip\n",
      "\n",
      "[info] Paper_idx: 1855, Zenodo id: 1176705\n"
     ]
    },
    {
     "name": "stderr",
     "output_type": "stream",
     "text": [
      "1176705.zip: 2.34MB [00:06, 338kB/s] \n"
     ]
    },
    {
     "name": "stdout",
     "output_type": "stream",
     "text": [
      "\n",
      "File successfully downloaded to: ./zenodo_dl/1176705.zip\n",
      "[info] File downloaded: ./zenodo_dl/1176705.zip\n",
      "\n",
      "[info] Paper_idx: 1856, Zenodo id: 1176808\n"
     ]
    },
    {
     "name": "stderr",
     "output_type": "stream",
     "text": [
      "1176808.zip: 238kB [00:00, 278kB/s]  \n"
     ]
    },
    {
     "name": "stdout",
     "output_type": "stream",
     "text": [
      "\n",
      "File successfully downloaded to: ./zenodo_dl/1176808.zip\n",
      "[info] File downloaded: ./zenodo_dl/1176808.zip\n",
      "\n",
      "[info] Paper_idx: 1857, Zenodo id: 1176691\n"
     ]
    },
    {
     "name": "stderr",
     "output_type": "stream",
     "text": [
      "1176691.zip: 1.01MB [00:03, 302kB/s] \n"
     ]
    },
    {
     "name": "stdout",
     "output_type": "stream",
     "text": [
      "\n",
      "File successfully downloaded to: ./zenodo_dl/1176691.zip\n",
      "[info] File downloaded: ./zenodo_dl/1176691.zip\n",
      "\n",
      "[info] Paper_idx: 1858, Zenodo id: 1176776\n"
     ]
    },
    {
     "name": "stderr",
     "output_type": "stream",
     "text": [
      "1176776.zip: 588kB [00:02, 240kB/s]  \n"
     ]
    },
    {
     "name": "stdout",
     "output_type": "stream",
     "text": [
      "\n",
      "File successfully downloaded to: ./zenodo_dl/1176776.zip\n",
      "[info] File downloaded: ./zenodo_dl/1176776.zip\n",
      "\n",
      "[info] Paper_idx: 1859, Zenodo id: 1176723\n"
     ]
    },
    {
     "name": "stderr",
     "output_type": "stream",
     "text": [
      "1176723.zip: 300kB [00:01, 268kB/s]  \n"
     ]
    },
    {
     "name": "stdout",
     "output_type": "stream",
     "text": [
      "\n",
      "File successfully downloaded to: ./zenodo_dl/1176723.zip\n",
      "[info] File downloaded: ./zenodo_dl/1176723.zip\n",
      "\n",
      "[info] Paper_idx: 1860, Zenodo id: 1176699\n"
     ]
    },
    {
     "name": "stderr",
     "output_type": "stream",
     "text": [
      "1176699.zip: 753kB [00:01, 541kB/s]  \n"
     ]
    },
    {
     "name": "stdout",
     "output_type": "stream",
     "text": [
      "\n",
      "File successfully downloaded to: ./zenodo_dl/1176699.zip\n",
      "[info] File downloaded: ./zenodo_dl/1176699.zip\n",
      "\n",
      "[info] Paper_idx: 1861, Zenodo id: 1176697\n"
     ]
    },
    {
     "name": "stderr",
     "output_type": "stream",
     "text": [
      "1176697.zip: 373kB [00:01, 331kB/s]  \n"
     ]
    },
    {
     "name": "stdout",
     "output_type": "stream",
     "text": [
      "\n",
      "File successfully downloaded to: ./zenodo_dl/1176697.zip\n",
      "[info] File downloaded: ./zenodo_dl/1176697.zip\n",
      "\n",
      "[info] Paper_idx: 1862, Zenodo id: 1176834\n"
     ]
    },
    {
     "name": "stderr",
     "output_type": "stream",
     "text": [
      "1176834.zip: 319kB [00:01, 283kB/s]  \n"
     ]
    },
    {
     "name": "stdout",
     "output_type": "stream",
     "text": [
      "\n",
      "File successfully downloaded to: ./zenodo_dl/1176834.zip\n",
      "[info] File downloaded: ./zenodo_dl/1176834.zip\n",
      "\n",
      "[info] Paper_idx: 1863, Zenodo id: 1176707\n"
     ]
    },
    {
     "name": "stderr",
     "output_type": "stream",
     "text": [
      "1176707.zip: 469kB [00:01, 272kB/s]  \n"
     ]
    },
    {
     "name": "stdout",
     "output_type": "stream",
     "text": [
      "\n",
      "File successfully downloaded to: ./zenodo_dl/1176707.zip\n",
      "[info] File downloaded: ./zenodo_dl/1176707.zip\n",
      "\n",
      "[info] Paper_idx: 1864, Zenodo id: 1176838\n"
     ]
    },
    {
     "name": "stderr",
     "output_type": "stream",
     "text": [
      "1176838.zip: 844kB [00:01, 606kB/s]  \n"
     ]
    },
    {
     "name": "stdout",
     "output_type": "stream",
     "text": [
      "\n",
      "File successfully downloaded to: ./zenodo_dl/1176838.zip\n",
      "[info] File downloaded: ./zenodo_dl/1176838.zip\n",
      "\n",
      "[info] Paper_idx: 1865, Zenodo id: 1176828\n"
     ]
    },
    {
     "name": "stderr",
     "output_type": "stream",
     "text": [
      "1176828.zip: 106kB [00:00, 188kB/s]  \n"
     ]
    },
    {
     "name": "stdout",
     "output_type": "stream",
     "text": [
      "\n",
      "File successfully downloaded to: ./zenodo_dl/1176828.zip\n",
      "[info] File downloaded: ./zenodo_dl/1176828.zip\n",
      "\n",
      "[info] Paper_idx: 1866, Zenodo id: 1176766\n"
     ]
    },
    {
     "name": "stderr",
     "output_type": "stream",
     "text": [
      "1176766.zip: 186kB [00:00, 222kB/s]  \n"
     ]
    },
    {
     "name": "stdout",
     "output_type": "stream",
     "text": [
      "\n",
      "File successfully downloaded to: ./zenodo_dl/1176766.zip\n",
      "[info] File downloaded: ./zenodo_dl/1176766.zip\n",
      "\n",
      "[info] Paper_idx: 1867, Zenodo id: 1176764\n"
     ]
    },
    {
     "name": "stderr",
     "output_type": "stream",
     "text": [
      "1176764.zip: 607kB [00:01, 364kB/s]  \n"
     ]
    },
    {
     "name": "stdout",
     "output_type": "stream",
     "text": [
      "\n",
      "File successfully downloaded to: ./zenodo_dl/1176764.zip\n",
      "[info] File downloaded: ./zenodo_dl/1176764.zip\n",
      "\n",
      "[info] Paper_idx: 1868, Zenodo id: 1176782\n"
     ]
    },
    {
     "name": "stderr",
     "output_type": "stream",
     "text": [
      "1176782.zip: 418kB [00:01, 372kB/s]  \n"
     ]
    },
    {
     "name": "stdout",
     "output_type": "stream",
     "text": [
      "\n",
      "File successfully downloaded to: ./zenodo_dl/1176782.zip\n",
      "[info] File downloaded: ./zenodo_dl/1176782.zip\n",
      "\n",
      "[info] Paper_idx: 1869, Zenodo id: 1176792\n"
     ]
    },
    {
     "name": "stderr",
     "output_type": "stream",
     "text": [
      "1176792.zip: 441kB [00:01, 271kB/s]  \n"
     ]
    },
    {
     "name": "stdout",
     "output_type": "stream",
     "text": [
      "\n",
      "File successfully downloaded to: ./zenodo_dl/1176792.zip\n",
      "[info] File downloaded: ./zenodo_dl/1176792.zip\n",
      "\n",
      "[info] Paper_idx: 1870, Zenodo id: 1176826\n"
     ]
    },
    {
     "name": "stderr",
     "output_type": "stream",
     "text": [
      "1176826.zip: 144kB [00:00, 169kB/s]  \n"
     ]
    },
    {
     "name": "stdout",
     "output_type": "stream",
     "text": [
      "\n",
      "File successfully downloaded to: ./zenodo_dl/1176826.zip\n",
      "[info] File downloaded: ./zenodo_dl/1176826.zip\n",
      "\n",
      "[info] Paper_idx: 1871, Zenodo id: 1176725\n"
     ]
    },
    {
     "name": "stderr",
     "output_type": "stream",
     "text": [
      "1176725.zip: 351kB [00:01, 312kB/s]  \n"
     ]
    },
    {
     "name": "stdout",
     "output_type": "stream",
     "text": [
      "\n",
      "File successfully downloaded to: ./zenodo_dl/1176725.zip\n",
      "[info] File downloaded: ./zenodo_dl/1176725.zip\n",
      "\n",
      "[info] Paper_idx: 1872, Zenodo id: 1176802\n"
     ]
    },
    {
     "name": "stderr",
     "output_type": "stream",
     "text": [
      "1176802.zip: 222kB [00:00, 261kB/s]  \n"
     ]
    },
    {
     "name": "stdout",
     "output_type": "stream",
     "text": [
      "\n",
      "File successfully downloaded to: ./zenodo_dl/1176802.zip\n",
      "[info] File downloaded: ./zenodo_dl/1176802.zip\n",
      "\n",
      "[info] Paper_idx: 1873, Zenodo id: 1176842\n"
     ]
    },
    {
     "name": "stderr",
     "output_type": "stream",
     "text": [
      "1176842.zip: 485kB [00:01, 278kB/s]  \n"
     ]
    },
    {
     "name": "stdout",
     "output_type": "stream",
     "text": [
      "\n",
      "File successfully downloaded to: ./zenodo_dl/1176842.zip\n",
      "[info] File downloaded: ./zenodo_dl/1176842.zip\n",
      "\n",
      "[info] Paper_idx: 1874, Zenodo id: 1176846\n"
     ]
    },
    {
     "name": "stderr",
     "output_type": "stream",
     "text": [
      "1176846.zip: 802kB [00:02, 288kB/s]  \n"
     ]
    },
    {
     "name": "stdout",
     "output_type": "stream",
     "text": [
      "\n",
      "File successfully downloaded to: ./zenodo_dl/1176846.zip\n",
      "[info] File downloaded: ./zenodo_dl/1176846.zip\n",
      "\n",
      "[info] Paper_idx: 1875, Zenodo id: 1176762\n"
     ]
    },
    {
     "name": "stderr",
     "output_type": "stream",
     "text": [
      "1176762.zip: 242kB [00:01, 213kB/s]  \n"
     ]
    },
    {
     "name": "stdout",
     "output_type": "stream",
     "text": [
      "\n",
      "File successfully downloaded to: ./zenodo_dl/1176762.zip\n",
      "[info] File downloaded: ./zenodo_dl/1176762.zip\n",
      "\n",
      "[info] Paper_idx: 1876, Zenodo id: 1176695\n"
     ]
    },
    {
     "name": "stderr",
     "output_type": "stream",
     "text": [
      "1176695.zip: 185kB [00:01, 162kB/s]  \n"
     ]
    },
    {
     "name": "stdout",
     "output_type": "stream",
     "text": [
      "\n",
      "File successfully downloaded to: ./zenodo_dl/1176695.zip\n",
      "[info] File downloaded: ./zenodo_dl/1176695.zip\n",
      "\n",
      "[info] Paper_idx: 1877, Zenodo id: 1176741\n"
     ]
    },
    {
     "name": "stderr",
     "output_type": "stream",
     "text": [
      "1176741.zip: 236kB [00:01, 207kB/s]  \n"
     ]
    },
    {
     "name": "stdout",
     "output_type": "stream",
     "text": [
      "\n",
      "File successfully downloaded to: ./zenodo_dl/1176741.zip\n",
      "[info] File downloaded: ./zenodo_dl/1176741.zip\n",
      "\n",
      "[info] Paper_idx: 1878, Zenodo id: 1176848\n"
     ]
    },
    {
     "name": "stderr",
     "output_type": "stream",
     "text": [
      "1176848.zip: 256kB [00:01, 225kB/s]  \n"
     ]
    },
    {
     "name": "stdout",
     "output_type": "stream",
     "text": [
      "\n",
      "File successfully downloaded to: ./zenodo_dl/1176848.zip\n",
      "[info] File downloaded: ./zenodo_dl/1176848.zip\n",
      "\n",
      "[info] Paper_idx: 1879, Zenodo id: 1176778\n"
     ]
    },
    {
     "name": "stderr",
     "output_type": "stream",
     "text": [
      "1176778.zip: 355kB [00:01, 236kB/s]  \n"
     ]
    },
    {
     "name": "stdout",
     "output_type": "stream",
     "text": [
      "\n",
      "File successfully downloaded to: ./zenodo_dl/1176778.zip\n",
      "[info] File downloaded: ./zenodo_dl/1176778.zip\n",
      "\n",
      "[info] Paper_idx: 1880, Zenodo id: 1176747\n"
     ]
    },
    {
     "name": "stderr",
     "output_type": "stream",
     "text": [
      "1176747.zip: 1.16MB [00:04, 280kB/s] \n"
     ]
    },
    {
     "name": "stdout",
     "output_type": "stream",
     "text": [
      "\n",
      "File successfully downloaded to: ./zenodo_dl/1176747.zip\n",
      "[info] File downloaded: ./zenodo_dl/1176747.zip\n",
      "\n",
      "[info] Paper_idx: 1881, Zenodo id: 1176721\n"
     ]
    },
    {
     "name": "stderr",
     "output_type": "stream",
     "text": [
      "1176721.zip: 533kB [00:02, 239kB/s]  \n"
     ]
    },
    {
     "name": "stdout",
     "output_type": "stream",
     "text": [
      "\n",
      "File successfully downloaded to: ./zenodo_dl/1176721.zip\n",
      "[info] File downloaded: ./zenodo_dl/1176721.zip\n",
      "\n",
      "[info] Paper_idx: 1882, Zenodo id: 1176806\n"
     ]
    },
    {
     "name": "stderr",
     "output_type": "stream",
     "text": [
      "1176806.zip: 321kB [00:01, 233kB/s]  \n"
     ]
    },
    {
     "name": "stdout",
     "output_type": "stream",
     "text": [
      "\n",
      "File successfully downloaded to: ./zenodo_dl/1176806.zip\n",
      "[info] File downloaded: ./zenodo_dl/1176806.zip\n",
      "\n",
      "[info] Paper_idx: 1883, Zenodo id: 1176756\n"
     ]
    },
    {
     "name": "stderr",
     "output_type": "stream",
     "text": [
      "1176756.zip: 1.85MB [00:01, 1.11MB/s]\n"
     ]
    },
    {
     "name": "stdout",
     "output_type": "stream",
     "text": [
      "\n",
      "File successfully downloaded to: ./zenodo_dl/1176756.zip\n",
      "[info] File downloaded: ./zenodo_dl/1176756.zip\n",
      "\n",
      "[info] Paper_idx: 1884, Zenodo id: 1176832\n"
     ]
    },
    {
     "name": "stderr",
     "output_type": "stream",
     "text": [
      "1176832.zip: 148kB [00:00, 174kB/s]  \n"
     ]
    },
    {
     "name": "stdout",
     "output_type": "stream",
     "text": [
      "\n",
      "File successfully downloaded to: ./zenodo_dl/1176832.zip\n",
      "[info] File downloaded: ./zenodo_dl/1176832.zip\n",
      "\n",
      "[info] Paper_idx: 1885, Zenodo id: 1176735\n"
     ]
    },
    {
     "name": "stderr",
     "output_type": "stream",
     "text": [
      "1176735.zip: 190kB [00:01, 171kB/s]  \n"
     ]
    },
    {
     "name": "stdout",
     "output_type": "stream",
     "text": [
      "\n",
      "File successfully downloaded to: ./zenodo_dl/1176735.zip\n",
      "[info] File downloaded: ./zenodo_dl/1176735.zip\n",
      "\n",
      "[info] Paper_idx: 1886, Zenodo id: 1176743\n"
     ]
    },
    {
     "name": "stderr",
     "output_type": "stream",
     "text": [
      "1176743.zip: 488kB [00:01, 421kB/s]  \n"
     ]
    },
    {
     "name": "stdout",
     "output_type": "stream",
     "text": [
      "\n",
      "File successfully downloaded to: ./zenodo_dl/1176743.zip\n",
      "[info] File downloaded: ./zenodo_dl/1176743.zip\n",
      "\n",
      "[info] Paper_idx: 1887, Zenodo id: 1176790\n"
     ]
    },
    {
     "name": "stderr",
     "output_type": "stream",
     "text": [
      "1176790.zip: 834kB [00:01, 600kB/s]  \n"
     ]
    },
    {
     "name": "stdout",
     "output_type": "stream",
     "text": [
      "\n",
      "File successfully downloaded to: ./zenodo_dl/1176790.zip\n",
      "[info] File downloaded: ./zenodo_dl/1176790.zip\n",
      "\n",
      "[info] Paper_idx: 1888, Zenodo id: 1176836\n"
     ]
    },
    {
     "name": "stderr",
     "output_type": "stream",
     "text": [
      "1176836.zip: 1.96MB [00:01, 1.16MB/s]\n"
     ]
    },
    {
     "name": "stdout",
     "output_type": "stream",
     "text": [
      "\n",
      "File successfully downloaded to: ./zenodo_dl/1176836.zip\n",
      "[info] File downloaded: ./zenodo_dl/1176836.zip\n",
      "\n",
      "[info] Paper_idx: 1889, Zenodo id: 1176739\n"
     ]
    },
    {
     "name": "stderr",
     "output_type": "stream",
     "text": [
      "1176739.zip: 251kB [00:01, 232kB/s]  \n"
     ]
    },
    {
     "name": "stdout",
     "output_type": "stream",
     "text": [
      "\n",
      "File successfully downloaded to: ./zenodo_dl/1176739.zip\n",
      "[info] File downloaded: ./zenodo_dl/1176739.zip\n",
      "\n",
      "[info] Paper_idx: 1890, Zenodo id: 1176711\n"
     ]
    },
    {
     "name": "stderr",
     "output_type": "stream",
     "text": [
      "1176711.zip: 2.06MB [00:02, 932kB/s] \n"
     ]
    },
    {
     "name": "stdout",
     "output_type": "stream",
     "text": [
      "\n",
      "File successfully downloaded to: ./zenodo_dl/1176711.zip\n",
      "[info] File downloaded: ./zenodo_dl/1176711.zip\n",
      "\n",
      "[info] Paper_idx: 1891, Zenodo id: 1176752\n"
     ]
    },
    {
     "name": "stderr",
     "output_type": "stream",
     "text": [
      "1176752.zip: 172kB [00:00, 205kB/s]  \n"
     ]
    },
    {
     "name": "stdout",
     "output_type": "stream",
     "text": [
      "\n",
      "File successfully downloaded to: ./zenodo_dl/1176752.zip\n",
      "[info] File downloaded: ./zenodo_dl/1176752.zip\n",
      "\n",
      "[info] Paper_idx: 1892, Zenodo id: 1176822\n"
     ]
    },
    {
     "name": "stderr",
     "output_type": "stream",
     "text": [
      "1176822.zip: 191kB [00:00, 225kB/s]  \n"
     ]
    },
    {
     "name": "stdout",
     "output_type": "stream",
     "text": [
      "\n",
      "File successfully downloaded to: ./zenodo_dl/1176822.zip\n",
      "[info] File downloaded: ./zenodo_dl/1176822.zip\n",
      "\n",
      "[info] Paper_idx: 1893, Zenodo id: 1176786\n"
     ]
    },
    {
     "name": "stderr",
     "output_type": "stream",
     "text": [
      "1176786.zip: 157kB [00:00, 179kB/s]  \n"
     ]
    },
    {
     "name": "stdout",
     "output_type": "stream",
     "text": [
      "\n",
      "File successfully downloaded to: ./zenodo_dl/1176786.zip\n",
      "[info] File downloaded: ./zenodo_dl/1176786.zip\n",
      "\n",
      "[info] Paper_idx: 1894, Zenodo id: 1176788\n"
     ]
    },
    {
     "name": "stderr",
     "output_type": "stream",
     "text": [
      "1176788.zip: 294kB [00:01, 260kB/s]  \n"
     ]
    },
    {
     "name": "stdout",
     "output_type": "stream",
     "text": [
      "\n",
      "File successfully downloaded to: ./zenodo_dl/1176788.zip\n",
      "[info] File downloaded: ./zenodo_dl/1176788.zip\n",
      "\n",
      "[info] Paper_idx: 1895, Zenodo id: 1176733\n"
     ]
    },
    {
     "name": "stderr",
     "output_type": "stream",
     "text": [
      "1176733.zip: 207kB [00:00, 248kB/s]  \n"
     ]
    },
    {
     "name": "stdout",
     "output_type": "stream",
     "text": [
      "\n",
      "File successfully downloaded to: ./zenodo_dl/1176733.zip\n",
      "[info] File downloaded: ./zenodo_dl/1176733.zip\n",
      "\n",
      "[info] Paper_idx: 1896, Zenodo id: 1176595\n"
     ]
    },
    {
     "name": "stderr",
     "output_type": "stream",
     "text": [
      "1176595.zip: 11.8MB [00:03, 3.49MB/s]\n"
     ]
    },
    {
     "name": "stdout",
     "output_type": "stream",
     "text": [
      "\n",
      "File successfully downloaded to: ./zenodo_dl/1176595.zip\n",
      "[info] File downloaded: ./zenodo_dl/1176595.zip\n",
      "\n",
      "[info] Paper_idx: 1897, Zenodo id: 1176623\n"
     ]
    },
    {
     "name": "stderr",
     "output_type": "stream",
     "text": [
      "1176623.zip: 1.37MB [00:01, 823kB/s] \n"
     ]
    },
    {
     "name": "stdout",
     "output_type": "stream",
     "text": [
      "\n",
      "File successfully downloaded to: ./zenodo_dl/1176623.zip\n",
      "[info] File downloaded: ./zenodo_dl/1176623.zip\n",
      "\n",
      "[info] Paper_idx: 1898, Zenodo id: 1176673\n"
     ]
    },
    {
     "name": "stderr",
     "output_type": "stream",
     "text": [
      "1176673.zip: 1.56MB [00:01, 802kB/s] \n"
     ]
    },
    {
     "name": "stdout",
     "output_type": "stream",
     "text": [
      "\n",
      "File successfully downloaded to: ./zenodo_dl/1176673.zip\n",
      "[info] File downloaded: ./zenodo_dl/1176673.zip\n",
      "\n",
      "[info] Paper_idx: 1899, Zenodo id: 1176621\n"
     ]
    },
    {
     "name": "stderr",
     "output_type": "stream",
     "text": [
      "1176621.zip: 337kB [00:01, 242kB/s]  \n"
     ]
    },
    {
     "name": "stdout",
     "output_type": "stream",
     "text": [
      "\n",
      "File successfully downloaded to: ./zenodo_dl/1176621.zip\n",
      "[info] File downloaded: ./zenodo_dl/1176621.zip\n",
      "\n",
      "[info] Paper_idx: 1900, Zenodo id: 1176687\n"
     ]
    },
    {
     "name": "stderr",
     "output_type": "stream",
     "text": [
      "1176687.zip: 288kB [00:01, 259kB/s]  \n"
     ]
    },
    {
     "name": "stdout",
     "output_type": "stream",
     "text": [
      "\n",
      "File successfully downloaded to: ./zenodo_dl/1176687.zip\n",
      "[info] File downloaded: ./zenodo_dl/1176687.zip\n",
      "\n",
      "[info] Paper_idx: 1901, Zenodo id: 1176583\n"
     ]
    },
    {
     "name": "stderr",
     "output_type": "stream",
     "text": [
      "1176583.zip: 786kB [00:02, 352kB/s]  \n"
     ]
    },
    {
     "name": "stdout",
     "output_type": "stream",
     "text": [
      "\n",
      "File successfully downloaded to: ./zenodo_dl/1176583.zip\n",
      "[info] File downloaded: ./zenodo_dl/1176583.zip\n",
      "\n",
      "[info] Paper_idx: 1902, Zenodo id: 1176609\n"
     ]
    },
    {
     "name": "stderr",
     "output_type": "stream",
     "text": [
      "1176609.zip: 250kB [00:01, 227kB/s]  \n"
     ]
    },
    {
     "name": "stdout",
     "output_type": "stream",
     "text": [
      "\n",
      "File successfully downloaded to: ./zenodo_dl/1176609.zip\n",
      "[info] File downloaded: ./zenodo_dl/1176609.zip\n",
      "\n",
      "[info] Paper_idx: 1903, Zenodo id: 1176643\n"
     ]
    },
    {
     "name": "stderr",
     "output_type": "stream",
     "text": [
      "1176643.zip: 209kB [00:00, 242kB/s]  \n"
     ]
    },
    {
     "name": "stdout",
     "output_type": "stream",
     "text": [
      "\n",
      "File successfully downloaded to: ./zenodo_dl/1176643.zip\n",
      "[info] File downloaded: ./zenodo_dl/1176643.zip\n",
      "\n",
      "[info] Paper_idx: 1904, Zenodo id: 1176589\n"
     ]
    },
    {
     "name": "stderr",
     "output_type": "stream",
     "text": [
      "1176589.zip: 228kB [00:01, 203kB/s]  \n"
     ]
    },
    {
     "name": "stdout",
     "output_type": "stream",
     "text": [
      "\n",
      "File successfully downloaded to: ./zenodo_dl/1176589.zip\n",
      "[info] File downloaded: ./zenodo_dl/1176589.zip\n",
      "\n",
      "[info] Paper_idx: 1905, Zenodo id: 1176675\n"
     ]
    },
    {
     "name": "stderr",
     "output_type": "stream",
     "text": [
      "1176675.zip: 476kB [00:01, 330kB/s]  \n"
     ]
    },
    {
     "name": "stdout",
     "output_type": "stream",
     "text": [
      "\n",
      "File successfully downloaded to: ./zenodo_dl/1176675.zip\n",
      "[info] File downloaded: ./zenodo_dl/1176675.zip\n",
      "\n",
      "[info] Paper_idx: 1906, Zenodo id: 1176635\n"
     ]
    },
    {
     "name": "stderr",
     "output_type": "stream",
     "text": [
      "1176635.zip: 370kB [00:01, 331kB/s]  \n"
     ]
    },
    {
     "name": "stdout",
     "output_type": "stream",
     "text": [
      "\n",
      "File successfully downloaded to: ./zenodo_dl/1176635.zip\n",
      "[info] File downloaded: ./zenodo_dl/1176635.zip\n",
      "\n",
      "[info] Paper_idx: 1907, Zenodo id: 1176663\n"
     ]
    },
    {
     "name": "stderr",
     "output_type": "stream",
     "text": [
      "1176663.zip: 755kB [00:02, 269kB/s]  \n"
     ]
    },
    {
     "name": "stdout",
     "output_type": "stream",
     "text": [
      "\n",
      "File successfully downloaded to: ./zenodo_dl/1176663.zip\n",
      "[info] File downloaded: ./zenodo_dl/1176663.zip\n",
      "\n",
      "[info] Paper_idx: 1908, Zenodo id: 1176591\n"
     ]
    },
    {
     "name": "stderr",
     "output_type": "stream",
     "text": [
      "1176591.zip: 92.7kB [00:00, 165kB/s] \n"
     ]
    },
    {
     "name": "stdout",
     "output_type": "stream",
     "text": [
      "\n",
      "File successfully downloaded to: ./zenodo_dl/1176591.zip\n",
      "[info] File downloaded: ./zenodo_dl/1176591.zip\n",
      "\n",
      "[info] Paper_idx: 1909, Zenodo id: 1176619\n"
     ]
    },
    {
     "name": "stderr",
     "output_type": "stream",
     "text": [
      "1176619.zip: 124kB [00:00, 146kB/s]  \n"
     ]
    },
    {
     "name": "stdout",
     "output_type": "stream",
     "text": [
      "\n",
      "File successfully downloaded to: ./zenodo_dl/1176619.zip\n",
      "[info] File downloaded: ./zenodo_dl/1176619.zip\n",
      "\n",
      "[info] Paper_idx: 1910, Zenodo id: 1176651\n"
     ]
    },
    {
     "name": "stderr",
     "output_type": "stream",
     "text": [
      "1176651.zip: 776kB [00:02, 309kB/s]  \n"
     ]
    },
    {
     "name": "stdout",
     "output_type": "stream",
     "text": [
      "\n",
      "File successfully downloaded to: ./zenodo_dl/1176651.zip\n",
      "[info] File downloaded: ./zenodo_dl/1176651.zip\n",
      "\n",
      "[info] Paper_idx: 1911, Zenodo id: 1176629\n"
     ]
    },
    {
     "name": "stderr",
     "output_type": "stream",
     "text": [
      "1176629.zip: 1.10MB [00:01, 683kB/s] \n"
     ]
    },
    {
     "name": "stdout",
     "output_type": "stream",
     "text": [
      "\n",
      "File successfully downloaded to: ./zenodo_dl/1176629.zip\n",
      "[info] File downloaded: ./zenodo_dl/1176629.zip\n",
      "\n",
      "[info] Paper_idx: 1912, Zenodo id: 1176647\n"
     ]
    },
    {
     "name": "stderr",
     "output_type": "stream",
     "text": [
      "1176647.zip: 772kB [00:02, 274kB/s]  \n"
     ]
    },
    {
     "name": "stdout",
     "output_type": "stream",
     "text": [
      "\n",
      "File successfully downloaded to: ./zenodo_dl/1176647.zip\n",
      "[info] File downloaded: ./zenodo_dl/1176647.zip\n",
      "\n",
      "[info] Paper_idx: 1913, Zenodo id: 1176649\n"
     ]
    },
    {
     "name": "stderr",
     "output_type": "stream",
     "text": [
      "1176649.zip: 282kB [00:01, 251kB/s]  \n"
     ]
    },
    {
     "name": "stdout",
     "output_type": "stream",
     "text": [
      "\n",
      "File successfully downloaded to: ./zenodo_dl/1176649.zip\n",
      "[info] File downloaded: ./zenodo_dl/1176649.zip\n",
      "\n",
      "[info] Paper_idx: 1914, Zenodo id: 1176681\n"
     ]
    },
    {
     "name": "stderr",
     "output_type": "stream",
     "text": [
      "1176681.zip: 639kB [00:01, 323kB/s]  \n"
     ]
    },
    {
     "name": "stdout",
     "output_type": "stream",
     "text": [
      "\n",
      "File successfully downloaded to: ./zenodo_dl/1176681.zip\n",
      "[info] File downloaded: ./zenodo_dl/1176681.zip\n",
      "\n",
      "[info] Paper_idx: 1915, Zenodo id: 1176665\n"
     ]
    },
    {
     "name": "stderr",
     "output_type": "stream",
     "text": [
      "1176665.zip: 825kB [00:03, 271kB/s]  \n"
     ]
    },
    {
     "name": "stdout",
     "output_type": "stream",
     "text": [
      "\n",
      "File successfully downloaded to: ./zenodo_dl/1176665.zip\n",
      "[info] File downloaded: ./zenodo_dl/1176665.zip\n",
      "\n",
      "[info] Paper_idx: 1916, Zenodo id: 1176603\n"
     ]
    },
    {
     "name": "stderr",
     "output_type": "stream",
     "text": [
      "1176603.zip: 1.44MB [00:04, 323kB/s] \n"
     ]
    },
    {
     "name": "stdout",
     "output_type": "stream",
     "text": [
      "\n",
      "File successfully downloaded to: ./zenodo_dl/1176603.zip\n",
      "[info] File downloaded: ./zenodo_dl/1176603.zip\n",
      "\n",
      "[info] Paper_idx: 1917, Zenodo id: 1176657\n"
     ]
    },
    {
     "name": "stderr",
     "output_type": "stream",
     "text": [
      "1176657.zip: 339kB [00:01, 304kB/s]  \n"
     ]
    },
    {
     "name": "stdout",
     "output_type": "stream",
     "text": [
      "\n",
      "File successfully downloaded to: ./zenodo_dl/1176657.zip\n",
      "[info] File downloaded: ./zenodo_dl/1176657.zip\n",
      "\n",
      "[info] Paper_idx: 1918, Zenodo id: 1176637\n"
     ]
    },
    {
     "name": "stderr",
     "output_type": "stream",
     "text": [
      "1176637.zip: 1.90MB [00:05, 341kB/s] \n"
     ]
    },
    {
     "name": "stdout",
     "output_type": "stream",
     "text": [
      "\n",
      "File successfully downloaded to: ./zenodo_dl/1176637.zip\n",
      "[info] File downloaded: ./zenodo_dl/1176637.zip\n",
      "\n",
      "[info] Paper_idx: 1919, Zenodo id: 1176659\n"
     ]
    },
    {
     "name": "stderr",
     "output_type": "stream",
     "text": [
      "1176659.zip: 430kB [00:01, 387kB/s]  \n"
     ]
    },
    {
     "name": "stdout",
     "output_type": "stream",
     "text": [
      "\n",
      "File successfully downloaded to: ./zenodo_dl/1176659.zip\n",
      "[info] File downloaded: ./zenodo_dl/1176659.zip\n",
      "\n",
      "[info] Paper_idx: 1920, Zenodo id: 1176689\n"
     ]
    },
    {
     "name": "stderr",
     "output_type": "stream",
     "text": [
      "1176689.zip: 462kB [00:01, 330kB/s]  \n"
     ]
    },
    {
     "name": "stdout",
     "output_type": "stream",
     "text": [
      "\n",
      "File successfully downloaded to: ./zenodo_dl/1176689.zip\n",
      "[info] File downloaded: ./zenodo_dl/1176689.zip\n",
      "\n",
      "[info] Paper_idx: 1921, Zenodo id: 1176679\n"
     ]
    },
    {
     "name": "stderr",
     "output_type": "stream",
     "text": [
      "1176679.zip: 183kB [00:00, 214kB/s]  \n"
     ]
    },
    {
     "name": "stdout",
     "output_type": "stream",
     "text": [
      "\n",
      "File successfully downloaded to: ./zenodo_dl/1176679.zip\n",
      "[info] File downloaded: ./zenodo_dl/1176679.zip\n",
      "\n",
      "[info] Paper_idx: 1922, Zenodo id: 1176611\n"
     ]
    },
    {
     "name": "stderr",
     "output_type": "stream",
     "text": [
      "1176611.zip: 284kB [00:01, 255kB/s]  \n"
     ]
    },
    {
     "name": "stdout",
     "output_type": "stream",
     "text": [
      "\n",
      "File successfully downloaded to: ./zenodo_dl/1176611.zip\n",
      "[info] File downloaded: ./zenodo_dl/1176611.zip\n",
      "\n",
      "[info] Paper_idx: 1923, Zenodo id: 1176625\n"
     ]
    },
    {
     "name": "stderr",
     "output_type": "stream",
     "text": [
      "1176625.zip: 1.06MB [00:01, 658kB/s] \n"
     ]
    },
    {
     "name": "stdout",
     "output_type": "stream",
     "text": [
      "\n",
      "File successfully downloaded to: ./zenodo_dl/1176625.zip\n",
      "[info] File downloaded: ./zenodo_dl/1176625.zip\n",
      "\n",
      "[info] Paper_idx: 1924, Zenodo id: 1176627\n"
     ]
    },
    {
     "name": "stderr",
     "output_type": "stream",
     "text": [
      "1176627.zip: 308kB [00:01, 222kB/s]  \n"
     ]
    },
    {
     "name": "stdout",
     "output_type": "stream",
     "text": [
      "\n",
      "File successfully downloaded to: ./zenodo_dl/1176627.zip\n",
      "[info] File downloaded: ./zenodo_dl/1176627.zip\n",
      "\n",
      "[info] Paper_idx: 1925, Zenodo id: 1176593\n"
     ]
    },
    {
     "name": "stderr",
     "output_type": "stream",
     "text": [
      "1176593.zip: 498kB [00:01, 444kB/s]  \n"
     ]
    },
    {
     "name": "stdout",
     "output_type": "stream",
     "text": [
      "\n",
      "File successfully downloaded to: ./zenodo_dl/1176593.zip\n",
      "[info] File downloaded: ./zenodo_dl/1176593.zip\n",
      "\n",
      "[info] Paper_idx: 1926, Zenodo id: 1176683\n"
     ]
    },
    {
     "name": "stderr",
     "output_type": "stream",
     "text": [
      "1176683.zip: 556kB [00:01, 333kB/s]  \n"
     ]
    },
    {
     "name": "stdout",
     "output_type": "stream",
     "text": [
      "\n",
      "File successfully downloaded to: ./zenodo_dl/1176683.zip\n",
      "[info] File downloaded: ./zenodo_dl/1176683.zip\n",
      "\n",
      "[info] Paper_idx: 1927, Zenodo id: 1176631\n"
     ]
    },
    {
     "name": "stderr",
     "output_type": "stream",
     "text": [
      "1176631.zip: 753kB [00:02, 339kB/s]  \n"
     ]
    },
    {
     "name": "stdout",
     "output_type": "stream",
     "text": [
      "\n",
      "File successfully downloaded to: ./zenodo_dl/1176631.zip\n",
      "[info] File downloaded: ./zenodo_dl/1176631.zip\n",
      "\n",
      "[info] Paper_idx: 1928, Zenodo id: 1176655\n"
     ]
    },
    {
     "name": "stderr",
     "output_type": "stream",
     "text": [
      "1176655.zip: 613kB [00:01, 439kB/s]  \n"
     ]
    },
    {
     "name": "stdout",
     "output_type": "stream",
     "text": [
      "\n",
      "File successfully downloaded to: ./zenodo_dl/1176655.zip\n",
      "[info] File downloaded: ./zenodo_dl/1176655.zip\n",
      "\n",
      "[info] Paper_idx: 1929, Zenodo id: 1176677\n"
     ]
    },
    {
     "name": "stderr",
     "output_type": "stream",
     "text": [
      "1176677.zip: 644kB [00:02, 291kB/s]  \n"
     ]
    },
    {
     "name": "stdout",
     "output_type": "stream",
     "text": [
      "\n",
      "File successfully downloaded to: ./zenodo_dl/1176677.zip\n",
      "[info] File downloaded: ./zenodo_dl/1176677.zip\n",
      "\n",
      "[info] Paper_idx: 1930, Zenodo id: 1176597\n"
     ]
    },
    {
     "name": "stderr",
     "output_type": "stream",
     "text": [
      "1176597.zip: 123kB [00:00, 145kB/s]  \n"
     ]
    },
    {
     "name": "stdout",
     "output_type": "stream",
     "text": [
      "\n",
      "File successfully downloaded to: ./zenodo_dl/1176597.zip\n",
      "[info] File downloaded: ./zenodo_dl/1176597.zip\n",
      "\n",
      "[info] Paper_idx: 1931, Zenodo id: 1176601\n"
     ]
    },
    {
     "name": "stderr",
     "output_type": "stream",
     "text": [
      "1176601.zip: 672kB [00:01, 477kB/s]  \n"
     ]
    },
    {
     "name": "stdout",
     "output_type": "stream",
     "text": [
      "\n",
      "File successfully downloaded to: ./zenodo_dl/1176601.zip\n",
      "[info] File downloaded: ./zenodo_dl/1176601.zip\n",
      "\n",
      "[info] Paper_idx: 1932, Zenodo id: 1176599\n"
     ]
    },
    {
     "name": "stderr",
     "output_type": "stream",
     "text": [
      "1176599.zip: 359kB [00:01, 258kB/s]  \n"
     ]
    },
    {
     "name": "stdout",
     "output_type": "stream",
     "text": [
      "\n",
      "File successfully downloaded to: ./zenodo_dl/1176599.zip\n",
      "[info] File downloaded: ./zenodo_dl/1176599.zip\n",
      "\n",
      "[info] Paper_idx: 1933, Zenodo id: 1176667\n"
     ]
    },
    {
     "name": "stderr",
     "output_type": "stream",
     "text": [
      "1176667.zip: 487kB [00:01, 363kB/s]  \n"
     ]
    },
    {
     "name": "stdout",
     "output_type": "stream",
     "text": [
      "\n",
      "File successfully downloaded to: ./zenodo_dl/1176667.zip\n",
      "[info] File downloaded: ./zenodo_dl/1176667.zip\n",
      "\n",
      "[info] Paper_idx: 1934, Zenodo id: 1176641\n"
     ]
    },
    {
     "name": "stderr",
     "output_type": "stream",
     "text": [
      "1176641.zip: 905kB [00:02, 362kB/s]  \n"
     ]
    },
    {
     "name": "stdout",
     "output_type": "stream",
     "text": [
      "\n",
      "File successfully downloaded to: ./zenodo_dl/1176641.zip\n",
      "[info] File downloaded: ./zenodo_dl/1176641.zip\n",
      "\n",
      "[info] Paper_idx: 1935, Zenodo id: 1176617\n"
     ]
    },
    {
     "name": "stderr",
     "output_type": "stream",
     "text": [
      "1176617.zip: 654kB [00:02, 296kB/s]  \n"
     ]
    },
    {
     "name": "stdout",
     "output_type": "stream",
     "text": [
      "\n",
      "File successfully downloaded to: ./zenodo_dl/1176617.zip\n",
      "[info] File downloaded: ./zenodo_dl/1176617.zip\n",
      "\n",
      "[info] Paper_idx: 1936, Zenodo id: 1176669\n"
     ]
    },
    {
     "name": "stderr",
     "output_type": "stream",
     "text": [
      "1176669.zip: 2.04MB [00:01, 1.19MB/s]\n"
     ]
    },
    {
     "name": "stdout",
     "output_type": "stream",
     "text": [
      "\n",
      "File successfully downloaded to: ./zenodo_dl/1176669.zip\n",
      "[info] File downloaded: ./zenodo_dl/1176669.zip\n",
      "\n",
      "[info] Paper_idx: 1937, Zenodo id: 1176613\n"
     ]
    },
    {
     "name": "stderr",
     "output_type": "stream",
     "text": [
      "1176613.zip: 223kB [00:00, 267kB/s]  \n"
     ]
    },
    {
     "name": "stdout",
     "output_type": "stream",
     "text": [
      "\n",
      "File successfully downloaded to: ./zenodo_dl/1176613.zip\n",
      "[info] File downloaded: ./zenodo_dl/1176613.zip\n",
      "\n",
      "[info] Paper_idx: 1938, Zenodo id: 1176581\n"
     ]
    },
    {
     "name": "stderr",
     "output_type": "stream",
     "text": [
      "1176581.zip: 1.16MB [00:03, 349kB/s] \n"
     ]
    },
    {
     "name": "stdout",
     "output_type": "stream",
     "text": [
      "\n",
      "File successfully downloaded to: ./zenodo_dl/1176581.zip\n",
      "[info] File downloaded: ./zenodo_dl/1176581.zip\n",
      "\n",
      "[info] Paper_idx: 1939, Zenodo id: 1176585\n"
     ]
    },
    {
     "name": "stderr",
     "output_type": "stream",
     "text": [
      "1176585.zip: 3.99MB [00:11, 360kB/s] \n"
     ]
    },
    {
     "name": "stdout",
     "output_type": "stream",
     "text": [
      "\n",
      "File successfully downloaded to: ./zenodo_dl/1176585.zip\n",
      "[info] File downloaded: ./zenodo_dl/1176585.zip\n",
      "\n",
      "[info] Paper_idx: 1940, Zenodo id: 1176653\n"
     ]
    },
    {
     "name": "stderr",
     "output_type": "stream",
     "text": [
      "1176653.zip: 190kB [00:01, 172kB/s]  \n"
     ]
    },
    {
     "name": "stdout",
     "output_type": "stream",
     "text": [
      "\n",
      "File successfully downloaded to: ./zenodo_dl/1176653.zip\n",
      "[info] File downloaded: ./zenodo_dl/1176653.zip\n",
      "\n",
      "[info] Paper_idx: 1941, Zenodo id: 1176615\n"
     ]
    },
    {
     "name": "stderr",
     "output_type": "stream",
     "text": [
      "1176615.zip: 162kB [00:00, 193kB/s]  \n"
     ]
    },
    {
     "name": "stdout",
     "output_type": "stream",
     "text": [
      "\n",
      "File successfully downloaded to: ./zenodo_dl/1176615.zip\n",
      "[info] File downloaded: ./zenodo_dl/1176615.zip\n",
      "\n",
      "[info] Paper_idx: 1942, Zenodo id: 1176639\n"
     ]
    },
    {
     "name": "stderr",
     "output_type": "stream",
     "text": [
      "1176639.zip: 844kB [00:02, 304kB/s]  \n"
     ]
    },
    {
     "name": "stdout",
     "output_type": "stream",
     "text": [
      "\n",
      "File successfully downloaded to: ./zenodo_dl/1176639.zip\n",
      "[info] File downloaded: ./zenodo_dl/1176639.zip\n",
      "\n",
      "[info] Paper_idx: 1943, Zenodo id: 1176671\n"
     ]
    },
    {
     "name": "stderr",
     "output_type": "stream",
     "text": [
      "1176671.zip: 685kB [00:02, 247kB/s]  \n"
     ]
    },
    {
     "name": "stdout",
     "output_type": "stream",
     "text": [
      "\n",
      "File successfully downloaded to: ./zenodo_dl/1176671.zip\n",
      "[info] File downloaded: ./zenodo_dl/1176671.zip\n",
      "\n",
      "[info] Paper_idx: 1944, Zenodo id: 1176587\n"
     ]
    },
    {
     "name": "stderr",
     "output_type": "stream",
     "text": [
      "1176587.zip: 139kB [00:00, 163kB/s]  \n"
     ]
    },
    {
     "name": "stdout",
     "output_type": "stream",
     "text": [
      "\n",
      "File successfully downloaded to: ./zenodo_dl/1176587.zip\n",
      "[info] File downloaded: ./zenodo_dl/1176587.zip\n",
      "\n",
      "[info] Paper_idx: 1945, Zenodo id: 1176605\n"
     ]
    },
    {
     "name": "stderr",
     "output_type": "stream",
     "text": [
      "1176605.zip: 501kB [00:01, 257kB/s]  \n"
     ]
    },
    {
     "name": "stdout",
     "output_type": "stream",
     "text": [
      "\n",
      "File successfully downloaded to: ./zenodo_dl/1176605.zip\n",
      "[info] File downloaded: ./zenodo_dl/1176605.zip\n",
      "\n",
      "[info] Paper_idx: 1946, Zenodo id: 1176685\n"
     ]
    },
    {
     "name": "stderr",
     "output_type": "stream",
     "text": [
      "1176685.zip: 345kB [00:01, 247kB/s]  \n"
     ]
    },
    {
     "name": "stdout",
     "output_type": "stream",
     "text": [
      "\n",
      "File successfully downloaded to: ./zenodo_dl/1176685.zip\n",
      "[info] File downloaded: ./zenodo_dl/1176685.zip\n",
      "\n",
      "[info] Paper_idx: 1947, Zenodo id: 1176633\n"
     ]
    },
    {
     "name": "stderr",
     "output_type": "stream",
     "text": [
      "1176633.zip: 1.10MB [00:01, 559kB/s] \n"
     ]
    },
    {
     "name": "stdout",
     "output_type": "stream",
     "text": [
      "\n",
      "File successfully downloaded to: ./zenodo_dl/1176633.zip\n",
      "[info] File downloaded: ./zenodo_dl/1176633.zip\n",
      "\n",
      "[info] Paper_idx: 1948, Zenodo id: 1176661\n"
     ]
    },
    {
     "name": "stderr",
     "output_type": "stream",
     "text": [
      "1176661.zip: 381kB [00:01, 235kB/s]  \n"
     ]
    },
    {
     "name": "stdout",
     "output_type": "stream",
     "text": [
      "\n",
      "File successfully downloaded to: ./zenodo_dl/1176661.zip\n",
      "[info] File downloaded: ./zenodo_dl/1176661.zip\n",
      "\n",
      "[info] Paper_idx: 1949, Zenodo id: 1176607\n"
     ]
    },
    {
     "name": "stderr",
     "output_type": "stream",
     "text": [
      "1176607.zip: 613kB [00:02, 276kB/s]  \n"
     ]
    },
    {
     "name": "stdout",
     "output_type": "stream",
     "text": [
      "\n",
      "File successfully downloaded to: ./zenodo_dl/1176607.zip\n",
      "[info] File downloaded: ./zenodo_dl/1176607.zip\n",
      "\n",
      "[info] Paper_idx: 1950, Zenodo id: 1176497\n"
     ]
    },
    {
     "name": "stderr",
     "output_type": "stream",
     "text": [
      "1176497.zip: 355kB [00:01, 210kB/s]  \n"
     ]
    },
    {
     "name": "stdout",
     "output_type": "stream",
     "text": [
      "\n",
      "File successfully downloaded to: ./zenodo_dl/1176497.zip\n",
      "[info] File downloaded: ./zenodo_dl/1176497.zip\n",
      "\n",
      "[info] Paper_idx: 1951, Zenodo id: 1176577\n"
     ]
    },
    {
     "name": "stderr",
     "output_type": "stream",
     "text": [
      "1176577.zip: 657kB [00:02, 260kB/s]  \n"
     ]
    },
    {
     "name": "stdout",
     "output_type": "stream",
     "text": [
      "\n",
      "File successfully downloaded to: ./zenodo_dl/1176577.zip\n",
      "[info] File downloaded: ./zenodo_dl/1176577.zip\n",
      "\n",
      "[info] Paper_idx: 1952, Zenodo id: 1176557\n"
     ]
    },
    {
     "name": "stderr",
     "output_type": "stream",
     "text": [
      "1176557.zip: 235kB [00:01, 210kB/s]  \n"
     ]
    },
    {
     "name": "stdout",
     "output_type": "stream",
     "text": [
      "\n",
      "File successfully downloaded to: ./zenodo_dl/1176557.zip\n",
      "[info] File downloaded: ./zenodo_dl/1176557.zip\n",
      "\n",
      "[info] Paper_idx: 1953, Zenodo id: 1176486\n"
     ]
    },
    {
     "name": "stderr",
     "output_type": "stream",
     "text": [
      "1176486.zip: 352kB [00:01, 212kB/s]  \n"
     ]
    },
    {
     "name": "stdout",
     "output_type": "stream",
     "text": [
      "\n",
      "File successfully downloaded to: ./zenodo_dl/1176486.zip\n",
      "[info] File downloaded: ./zenodo_dl/1176486.zip\n",
      "\n",
      "[info] Paper_idx: 1954, Zenodo id: 1176571\n"
     ]
    },
    {
     "name": "stderr",
     "output_type": "stream",
     "text": [
      "1176571.zip: 385kB [00:01, 273kB/s]  \n"
     ]
    },
    {
     "name": "stdout",
     "output_type": "stream",
     "text": [
      "\n",
      "File successfully downloaded to: ./zenodo_dl/1176571.zip\n",
      "[info] File downloaded: ./zenodo_dl/1176571.zip\n",
      "\n",
      "[info] Paper_idx: 1955, Zenodo id: 1176484\n"
     ]
    },
    {
     "name": "stderr",
     "output_type": "stream",
     "text": [
      "1176484.zip: 639kB [00:02, 287kB/s]  \n"
     ]
    },
    {
     "name": "stdout",
     "output_type": "stream",
     "text": [
      "\n",
      "File successfully downloaded to: ./zenodo_dl/1176484.zip\n",
      "[info] File downloaded: ./zenodo_dl/1176484.zip\n",
      "\n",
      "[info] Paper_idx: 1956, Zenodo id: 1176547\n"
     ]
    },
    {
     "name": "stderr",
     "output_type": "stream",
     "text": [
      "1176547.zip: 300kB [00:01, 269kB/s]  \n"
     ]
    },
    {
     "name": "stdout",
     "output_type": "stream",
     "text": [
      "\n",
      "File successfully downloaded to: ./zenodo_dl/1176547.zip\n",
      "[info] File downloaded: ./zenodo_dl/1176547.zip\n",
      "\n",
      "[info] Paper_idx: 1957, Zenodo id: 1176567\n"
     ]
    },
    {
     "name": "stderr",
     "output_type": "stream",
     "text": [
      "1176567.zip: 344kB [00:01, 307kB/s]  \n"
     ]
    },
    {
     "name": "stdout",
     "output_type": "stream",
     "text": [
      "\n",
      "File successfully downloaded to: ./zenodo_dl/1176567.zip\n",
      "[info] File downloaded: ./zenodo_dl/1176567.zip\n",
      "\n",
      "[info] Paper_idx: 1958, Zenodo id: 1176539\n"
     ]
    },
    {
     "name": "stderr",
     "output_type": "stream",
     "text": [
      "1176539.zip: 453kB [00:01, 229kB/s]  \n"
     ]
    },
    {
     "name": "stdout",
     "output_type": "stream",
     "text": [
      "\n",
      "File successfully downloaded to: ./zenodo_dl/1176539.zip\n",
      "[info] File downloaded: ./zenodo_dl/1176539.zip\n",
      "\n",
      "[info] Paper_idx: 1959, Zenodo id: 1176535\n"
     ]
    },
    {
     "name": "stderr",
     "output_type": "stream",
     "text": [
      "1176535.zip: 773kB [00:01, 555kB/s]  \n"
     ]
    },
    {
     "name": "stdout",
     "output_type": "stream",
     "text": [
      "\n",
      "File successfully downloaded to: ./zenodo_dl/1176535.zip\n",
      "[info] File downloaded: ./zenodo_dl/1176535.zip\n",
      "\n",
      "[info] Paper_idx: 1960, Zenodo id: 1176492\n"
     ]
    },
    {
     "name": "stderr",
     "output_type": "stream",
     "text": [
      "1176492.zip: 707kB [00:01, 503kB/s]  \n"
     ]
    },
    {
     "name": "stdout",
     "output_type": "stream",
     "text": [
      "\n",
      "File successfully downloaded to: ./zenodo_dl/1176492.zip\n",
      "[info] File downloaded: ./zenodo_dl/1176492.zip\n",
      "\n",
      "[info] Paper_idx: 1961, Zenodo id: 1176519\n"
     ]
    },
    {
     "name": "stderr",
     "output_type": "stream",
     "text": [
      "1176519.zip: 743kB [00:02, 272kB/s]  \n"
     ]
    },
    {
     "name": "stdout",
     "output_type": "stream",
     "text": [
      "\n",
      "File successfully downloaded to: ./zenodo_dl/1176519.zip\n",
      "[info] File downloaded: ./zenodo_dl/1176519.zip\n",
      "\n",
      "[info] Paper_idx: 1962, Zenodo id: 1176509\n"
     ]
    },
    {
     "name": "stderr",
     "output_type": "stream",
     "text": [
      "1176509.zip: 575kB [00:02, 232kB/s]  \n"
     ]
    },
    {
     "name": "stdout",
     "output_type": "stream",
     "text": [
      "\n",
      "File successfully downloaded to: ./zenodo_dl/1176509.zip\n",
      "[info] File downloaded: ./zenodo_dl/1176509.zip\n",
      "\n",
      "[info] Paper_idx: 1963, Zenodo id: 1176561\n"
     ]
    },
    {
     "name": "stderr",
     "output_type": "stream",
     "text": [
      "1176561.zip: 292kB [00:01, 196kB/s]  \n"
     ]
    },
    {
     "name": "stdout",
     "output_type": "stream",
     "text": [
      "\n",
      "File successfully downloaded to: ./zenodo_dl/1176561.zip\n",
      "[info] File downloaded: ./zenodo_dl/1176561.zip\n",
      "\n",
      "[info] Paper_idx: 1964, Zenodo id: 1176555\n"
     ]
    },
    {
     "name": "stderr",
     "output_type": "stream",
     "text": [
      "1176555.zip: 353kB [00:01, 252kB/s]  \n"
     ]
    },
    {
     "name": "stdout",
     "output_type": "stream",
     "text": [
      "\n",
      "File successfully downloaded to: ./zenodo_dl/1176555.zip\n",
      "[info] File downloaded: ./zenodo_dl/1176555.zip\n",
      "\n",
      "[info] Paper_idx: 1965, Zenodo id: 1176569\n"
     ]
    },
    {
     "name": "stderr",
     "output_type": "stream",
     "text": [
      "1176569.zip: 314kB [00:01, 224kB/s]  \n"
     ]
    },
    {
     "name": "stdout",
     "output_type": "stream",
     "text": [
      "\n",
      "File successfully downloaded to: ./zenodo_dl/1176569.zip\n",
      "[info] File downloaded: ./zenodo_dl/1176569.zip\n",
      "\n",
      "[info] Paper_idx: 1966, Zenodo id: 1176515\n"
     ]
    },
    {
     "name": "stderr",
     "output_type": "stream",
     "text": [
      "1176515.zip: 260kB [00:01, 186kB/s]  \n"
     ]
    },
    {
     "name": "stdout",
     "output_type": "stream",
     "text": [
      "\n",
      "File successfully downloaded to: ./zenodo_dl/1176515.zip\n",
      "[info] File downloaded: ./zenodo_dl/1176515.zip\n",
      "\n",
      "[info] Paper_idx: 1967, Zenodo id: 1176513\n"
     ]
    },
    {
     "name": "stderr",
     "output_type": "stream",
     "text": [
      "1176513.zip: 514kB [00:01, 263kB/s]  \n"
     ]
    },
    {
     "name": "stdout",
     "output_type": "stream",
     "text": [
      "\n",
      "File successfully downloaded to: ./zenodo_dl/1176513.zip\n",
      "[info] File downloaded: ./zenodo_dl/1176513.zip\n",
      "\n",
      "[info] Paper_idx: 1968, Zenodo id: 1176579\n"
     ]
    },
    {
     "name": "stderr",
     "output_type": "stream",
     "text": [
      "1176579.zip: 542kB [00:02, 217kB/s]  \n"
     ]
    },
    {
     "name": "stdout",
     "output_type": "stream",
     "text": [
      "\n",
      "File successfully downloaded to: ./zenodo_dl/1176579.zip\n",
      "[info] File downloaded: ./zenodo_dl/1176579.zip\n",
      "\n",
      "[info] Paper_idx: 1969, Zenodo id: 1176507\n"
     ]
    },
    {
     "name": "stderr",
     "output_type": "stream",
     "text": [
      "1176507.zip: 290kB [00:01, 258kB/s]  \n"
     ]
    },
    {
     "name": "stdout",
     "output_type": "stream",
     "text": [
      "\n",
      "File successfully downloaded to: ./zenodo_dl/1176507.zip\n",
      "[info] File downloaded: ./zenodo_dl/1176507.zip\n",
      "\n",
      "[info] Paper_idx: 1970, Zenodo id: 1176529\n"
     ]
    },
    {
     "name": "stderr",
     "output_type": "stream",
     "text": [
      "1176529.zip: 386kB [00:01, 341kB/s]  \n"
     ]
    },
    {
     "name": "stdout",
     "output_type": "stream",
     "text": [
      "\n",
      "File successfully downloaded to: ./zenodo_dl/1176529.zip\n",
      "[info] File downloaded: ./zenodo_dl/1176529.zip\n",
      "\n",
      "[info] Paper_idx: 1971, Zenodo id: 1176511\n"
     ]
    },
    {
     "name": "stderr",
     "output_type": "stream",
     "text": [
      "1176511.zip: 329kB [00:01, 197kB/s]  \n"
     ]
    },
    {
     "name": "stdout",
     "output_type": "stream",
     "text": [
      "\n",
      "File successfully downloaded to: ./zenodo_dl/1176511.zip\n",
      "[info] File downloaded: ./zenodo_dl/1176511.zip\n",
      "\n",
      "[info] Paper_idx: 1972, Zenodo id: 1176490\n"
     ]
    },
    {
     "name": "stderr",
     "output_type": "stream",
     "text": [
      "1176490.zip: 288kB [00:01, 251kB/s]  \n"
     ]
    },
    {
     "name": "stdout",
     "output_type": "stream",
     "text": [
      "\n",
      "File successfully downloaded to: ./zenodo_dl/1176490.zip\n",
      "[info] File downloaded: ./zenodo_dl/1176490.zip\n",
      "\n",
      "[info] Paper_idx: 1973, Zenodo id: 1176517\n"
     ]
    },
    {
     "name": "stderr",
     "output_type": "stream",
     "text": [
      "1176517.zip: 365kB [00:01, 259kB/s]  \n"
     ]
    },
    {
     "name": "stdout",
     "output_type": "stream",
     "text": [
      "\n",
      "File successfully downloaded to: ./zenodo_dl/1176517.zip\n",
      "[info] File downloaded: ./zenodo_dl/1176517.zip\n",
      "\n",
      "[info] Paper_idx: 1974, Zenodo id: 1176523\n"
     ]
    },
    {
     "name": "stderr",
     "output_type": "stream",
     "text": [
      "1176523.zip: 453kB [00:01, 233kB/s]  \n"
     ]
    },
    {
     "name": "stdout",
     "output_type": "stream",
     "text": [
      "\n",
      "File successfully downloaded to: ./zenodo_dl/1176523.zip\n",
      "[info] File downloaded: ./zenodo_dl/1176523.zip\n",
      "\n",
      "[info] Paper_idx: 1975, Zenodo id: 1176533\n"
     ]
    },
    {
     "name": "stderr",
     "output_type": "stream",
     "text": [
      "1176533.zip: 439kB [00:01, 389kB/s]  \n"
     ]
    },
    {
     "name": "stdout",
     "output_type": "stream",
     "text": [
      "\n",
      "File successfully downloaded to: ./zenodo_dl/1176533.zip\n",
      "[info] File downloaded: ./zenodo_dl/1176533.zip\n",
      "\n",
      "[info] Paper_idx: 1976, Zenodo id: 1176541\n"
     ]
    },
    {
     "name": "stderr",
     "output_type": "stream",
     "text": [
      "1176541.zip: 170kB [00:00, 202kB/s]  \n"
     ]
    },
    {
     "name": "stdout",
     "output_type": "stream",
     "text": [
      "\n",
      "File successfully downloaded to: ./zenodo_dl/1176541.zip\n",
      "[info] File downloaded: ./zenodo_dl/1176541.zip\n",
      "\n",
      "[info] Paper_idx: 1977, Zenodo id: 1176575\n"
     ]
    },
    {
     "name": "stderr",
     "output_type": "stream",
     "text": [
      "1176575.zip: 371kB [00:01, 228kB/s]  \n"
     ]
    },
    {
     "name": "stdout",
     "output_type": "stream",
     "text": [
      "\n",
      "File successfully downloaded to: ./zenodo_dl/1176575.zip\n",
      "[info] File downloaded: ./zenodo_dl/1176575.zip\n",
      "\n",
      "[info] Paper_idx: 1978, Zenodo id: 1176503\n"
     ]
    },
    {
     "name": "stderr",
     "output_type": "stream",
     "text": [
      "1176503.zip: 201kB [00:00, 238kB/s]  \n"
     ]
    },
    {
     "name": "stdout",
     "output_type": "stream",
     "text": [
      "\n",
      "File successfully downloaded to: ./zenodo_dl/1176503.zip\n",
      "[info] File downloaded: ./zenodo_dl/1176503.zip\n",
      "\n",
      "[info] Paper_idx: 1979, Zenodo id: 1176545\n"
     ]
    },
    {
     "name": "stderr",
     "output_type": "stream",
     "text": [
      "1176545.zip: 404kB [00:01, 359kB/s]  \n"
     ]
    },
    {
     "name": "stdout",
     "output_type": "stream",
     "text": [
      "\n",
      "File successfully downloaded to: ./zenodo_dl/1176545.zip\n",
      "[info] File downloaded: ./zenodo_dl/1176545.zip\n",
      "\n",
      "[info] Paper_idx: 1980, Zenodo id: 1176543\n"
     ]
    },
    {
     "name": "stderr",
     "output_type": "stream",
     "text": [
      "1176543.zip: 669kB [00:01, 403kB/s]  \n"
     ]
    },
    {
     "name": "stdout",
     "output_type": "stream",
     "text": [
      "\n",
      "File successfully downloaded to: ./zenodo_dl/1176543.zip\n",
      "[info] File downloaded: ./zenodo_dl/1176543.zip\n",
      "\n",
      "[info] Paper_idx: 1981, Zenodo id: 1176521\n"
     ]
    },
    {
     "name": "stderr",
     "output_type": "stream",
     "text": [
      "1176521.zip: 352kB [00:01, 251kB/s]  \n"
     ]
    },
    {
     "name": "stdout",
     "output_type": "stream",
     "text": [
      "\n",
      "File successfully downloaded to: ./zenodo_dl/1176521.zip\n",
      "[info] File downloaded: ./zenodo_dl/1176521.zip\n",
      "\n",
      "[info] Paper_idx: 1982, Zenodo id: 1176501\n"
     ]
    },
    {
     "name": "stderr",
     "output_type": "stream",
     "text": [
      "1176501.zip: 277kB [00:01, 250kB/s]  \n"
     ]
    },
    {
     "name": "stdout",
     "output_type": "stream",
     "text": [
      "\n",
      "File successfully downloaded to: ./zenodo_dl/1176501.zip\n",
      "[info] File downloaded: ./zenodo_dl/1176501.zip\n",
      "\n",
      "[info] Paper_idx: 1983, Zenodo id: 1176565\n"
     ]
    },
    {
     "name": "stderr",
     "output_type": "stream",
     "text": [
      "1176565.zip: 436kB [00:01, 313kB/s]  \n"
     ]
    },
    {
     "name": "stdout",
     "output_type": "stream",
     "text": [
      "\n",
      "File successfully downloaded to: ./zenodo_dl/1176565.zip\n",
      "[info] File downloaded: ./zenodo_dl/1176565.zip\n",
      "\n",
      "[info] Paper_idx: 1984, Zenodo id: 1176553\n"
     ]
    },
    {
     "name": "stderr",
     "output_type": "stream",
     "text": [
      "1176553.zip: 236kB [00:01, 212kB/s]  \n"
     ]
    },
    {
     "name": "stdout",
     "output_type": "stream",
     "text": [
      "\n",
      "File successfully downloaded to: ./zenodo_dl/1176553.zip\n",
      "[info] File downloaded: ./zenodo_dl/1176553.zip\n",
      "\n",
      "[info] Paper_idx: 1985, Zenodo id: 1176559\n"
     ]
    },
    {
     "name": "stderr",
     "output_type": "stream",
     "text": [
      "1176559.zip: 224kB [00:01, 204kB/s]  \n"
     ]
    },
    {
     "name": "stdout",
     "output_type": "stream",
     "text": [
      "\n",
      "File successfully downloaded to: ./zenodo_dl/1176559.zip\n",
      "[info] File downloaded: ./zenodo_dl/1176559.zip\n",
      "\n",
      "[info] Paper_idx: 1986, Zenodo id: 1176499\n"
     ]
    },
    {
     "name": "stderr",
     "output_type": "stream",
     "text": [
      "1176499.zip: 195kB [00:00, 225kB/s]  \n"
     ]
    },
    {
     "name": "stdout",
     "output_type": "stream",
     "text": [
      "\n",
      "File successfully downloaded to: ./zenodo_dl/1176499.zip\n",
      "[info] File downloaded: ./zenodo_dl/1176499.zip\n",
      "\n",
      "[info] Paper_idx: 1987, Zenodo id: 1176549\n"
     ]
    },
    {
     "name": "stderr",
     "output_type": "stream",
     "text": [
      "1176549.zip: 179kB [00:00, 214kB/s]  \n"
     ]
    },
    {
     "name": "stdout",
     "output_type": "stream",
     "text": [
      "\n",
      "File successfully downloaded to: ./zenodo_dl/1176549.zip\n",
      "[info] File downloaded: ./zenodo_dl/1176549.zip\n",
      "\n",
      "[info] Paper_idx: 1988, Zenodo id: 1176482\n"
     ]
    },
    {
     "name": "stderr",
     "output_type": "stream",
     "text": [
      "1176482.zip: 413kB [00:01, 369kB/s]  \n"
     ]
    },
    {
     "name": "stdout",
     "output_type": "stream",
     "text": [
      "\n",
      "File successfully downloaded to: ./zenodo_dl/1176482.zip\n",
      "[info] File downloaded: ./zenodo_dl/1176482.zip\n",
      "\n",
      "[info] Paper_idx: 1989, Zenodo id: 1176488\n"
     ]
    },
    {
     "name": "stderr",
     "output_type": "stream",
     "text": [
      "1176488.zip: 376kB [00:01, 225kB/s]  \n"
     ]
    },
    {
     "name": "stdout",
     "output_type": "stream",
     "text": [
      "\n",
      "File successfully downloaded to: ./zenodo_dl/1176488.zip\n",
      "[info] File downloaded: ./zenodo_dl/1176488.zip\n",
      "\n",
      "[info] Paper_idx: 1990, Zenodo id: 1176525\n"
     ]
    },
    {
     "name": "stderr",
     "output_type": "stream",
     "text": [
      "1176525.zip: 265kB [00:01, 235kB/s]  \n"
     ]
    },
    {
     "name": "stdout",
     "output_type": "stream",
     "text": [
      "\n",
      "File successfully downloaded to: ./zenodo_dl/1176525.zip\n",
      "[info] File downloaded: ./zenodo_dl/1176525.zip\n",
      "\n",
      "[info] Paper_idx: 1991, Zenodo id: 1176527\n"
     ]
    },
    {
     "name": "stderr",
     "output_type": "stream",
     "text": [
      "1176527.zip: 308kB [00:01, 221kB/s]  \n"
     ]
    },
    {
     "name": "stdout",
     "output_type": "stream",
     "text": [
      "\n",
      "File successfully downloaded to: ./zenodo_dl/1176527.zip\n",
      "[info] File downloaded: ./zenodo_dl/1176527.zip\n",
      "\n",
      "[info] Paper_idx: 1992, Zenodo id: 1176531\n"
     ]
    },
    {
     "name": "stderr",
     "output_type": "stream",
     "text": [
      "1176531.zip: 185kB [00:00, 220kB/s]  \n"
     ]
    },
    {
     "name": "stdout",
     "output_type": "stream",
     "text": [
      "\n",
      "File successfully downloaded to: ./zenodo_dl/1176531.zip\n",
      "[info] File downloaded: ./zenodo_dl/1176531.zip\n",
      "\n",
      "[info] Paper_idx: 1993, Zenodo id: 1176563\n"
     ]
    },
    {
     "name": "stderr",
     "output_type": "stream",
     "text": [
      "1176563.zip: 289kB [00:01, 207kB/s]  \n"
     ]
    },
    {
     "name": "stdout",
     "output_type": "stream",
     "text": [
      "\n",
      "File successfully downloaded to: ./zenodo_dl/1176563.zip\n",
      "[info] File downloaded: ./zenodo_dl/1176563.zip\n",
      "\n",
      "[info] Paper_idx: 1994, Zenodo id: 1176537\n"
     ]
    },
    {
     "name": "stderr",
     "output_type": "stream",
     "text": [
      "1176537.zip: 195kB [00:00, 230kB/s]  \n"
     ]
    },
    {
     "name": "stdout",
     "output_type": "stream",
     "text": [
      "\n",
      "File successfully downloaded to: ./zenodo_dl/1176537.zip\n",
      "[info] File downloaded: ./zenodo_dl/1176537.zip\n",
      "\n",
      "[info] Paper_idx: 1995, Zenodo id: 1176505\n"
     ]
    },
    {
     "name": "stderr",
     "output_type": "stream",
     "text": [
      "1176505.zip: 232kB [00:01, 209kB/s]  \n"
     ]
    },
    {
     "name": "stdout",
     "output_type": "stream",
     "text": [
      "\n",
      "File successfully downloaded to: ./zenodo_dl/1176505.zip\n",
      "[info] File downloaded: ./zenodo_dl/1176505.zip\n",
      "\n",
      "[info] Paper_idx: 1996, Zenodo id: 1176551\n"
     ]
    },
    {
     "name": "stderr",
     "output_type": "stream",
     "text": [
      "1176551.zip: 624kB [00:01, 320kB/s]  \n"
     ]
    },
    {
     "name": "stdout",
     "output_type": "stream",
     "text": [
      "\n",
      "File successfully downloaded to: ./zenodo_dl/1176551.zip\n",
      "[info] File downloaded: ./zenodo_dl/1176551.zip\n",
      "\n",
      "[info] Paper_idx: 1997, Zenodo id: 1176494\n"
     ]
    },
    {
     "name": "stderr",
     "output_type": "stream",
     "text": [
      "1176494.zip: 975kB [00:03, 291kB/s]  \n"
     ]
    },
    {
     "name": "stdout",
     "output_type": "stream",
     "text": [
      "\n",
      "File successfully downloaded to: ./zenodo_dl/1176494.zip\n",
      "[info] File downloaded: ./zenodo_dl/1176494.zip\n",
      "\n",
      "[info] Paper_idx: 1998, Zenodo id: 1176388\n"
     ]
    },
    {
     "name": "stderr",
     "output_type": "stream",
     "text": [
      "1176388.zip: 1.55MB [00:04, 329kB/s] \n"
     ]
    },
    {
     "name": "stdout",
     "output_type": "stream",
     "text": [
      "\n",
      "File successfully downloaded to: ./zenodo_dl/1176388.zip\n",
      "[info] File downloaded: ./zenodo_dl/1176388.zip\n",
      "\n",
      "[info] Paper_idx: 1999, Zenodo id: 1176390\n"
     ]
    },
    {
     "name": "stderr",
     "output_type": "stream",
     "text": [
      "1176390.zip: 434kB [00:01, 220kB/s]  \n"
     ]
    },
    {
     "name": "stdout",
     "output_type": "stream",
     "text": [
      "\n",
      "File successfully downloaded to: ./zenodo_dl/1176390.zip\n",
      "[info] File downloaded: ./zenodo_dl/1176390.zip\n",
      "\n",
      "[info] Paper_idx: 2000, Zenodo id: 1176392\n"
     ]
    },
    {
     "name": "stderr",
     "output_type": "stream",
     "text": [
      "1176392.zip: 257kB [00:01, 229kB/s]  \n"
     ]
    },
    {
     "name": "stdout",
     "output_type": "stream",
     "text": [
      "\n",
      "File successfully downloaded to: ./zenodo_dl/1176392.zip\n",
      "[info] File downloaded: ./zenodo_dl/1176392.zip\n",
      "\n",
      "[info] Paper_idx: 2001, Zenodo id: 1176394\n"
     ]
    },
    {
     "name": "stderr",
     "output_type": "stream",
     "text": [
      "1176394.zip: 301kB [00:01, 215kB/s]  \n"
     ]
    },
    {
     "name": "stdout",
     "output_type": "stream",
     "text": [
      "\n",
      "File successfully downloaded to: ./zenodo_dl/1176394.zip\n",
      "[info] File downloaded: ./zenodo_dl/1176394.zip\n",
      "\n",
      "[info] Paper_idx: 2002, Zenodo id: 1176396\n"
     ]
    },
    {
     "name": "stderr",
     "output_type": "stream",
     "text": [
      "1176396.zip: 2.36MB [00:06, 352kB/s] \n"
     ]
    },
    {
     "name": "stdout",
     "output_type": "stream",
     "text": [
      "\n",
      "File successfully downloaded to: ./zenodo_dl/1176396.zip\n",
      "[info] File downloaded: ./zenodo_dl/1176396.zip\n",
      "\n",
      "[info] Paper_idx: 2003, Zenodo id: 1176398\n"
     ]
    },
    {
     "name": "stderr",
     "output_type": "stream",
     "text": [
      "1176398.zip: 4.37MB [00:12, 359kB/s] \n"
     ]
    },
    {
     "name": "stdout",
     "output_type": "stream",
     "text": [
      "\n",
      "File successfully downloaded to: ./zenodo_dl/1176398.zip\n",
      "[info] File downloaded: ./zenodo_dl/1176398.zip\n",
      "\n",
      "[info] Paper_idx: 2004, Zenodo id: 1176400\n"
     ]
    },
    {
     "name": "stderr",
     "output_type": "stream",
     "text": [
      "1176400.zip: 934kB [00:03, 305kB/s]  \n"
     ]
    },
    {
     "name": "stdout",
     "output_type": "stream",
     "text": [
      "\n",
      "File successfully downloaded to: ./zenodo_dl/1176400.zip\n",
      "[info] File downloaded: ./zenodo_dl/1176400.zip\n",
      "\n",
      "[info] Paper_idx: 2005, Zenodo id: 1176402\n"
     ]
    },
    {
     "name": "stderr",
     "output_type": "stream",
     "text": [
      "1176402.zip: 123kB [00:00, 148kB/s]  \n"
     ]
    },
    {
     "name": "stdout",
     "output_type": "stream",
     "text": [
      "\n",
      "File successfully downloaded to: ./zenodo_dl/1176402.zip\n",
      "[info] File downloaded: ./zenodo_dl/1176402.zip\n",
      "\n",
      "[info] Paper_idx: 2006, Zenodo id: 1176404\n"
     ]
    },
    {
     "name": "stderr",
     "output_type": "stream",
     "text": [
      "1176404.zip: 347kB [00:01, 207kB/s]  \n"
     ]
    },
    {
     "name": "stdout",
     "output_type": "stream",
     "text": [
      "\n",
      "File successfully downloaded to: ./zenodo_dl/1176404.zip\n",
      "[info] File downloaded: ./zenodo_dl/1176404.zip\n",
      "\n",
      "[info] Paper_idx: 2007, Zenodo id: 1176406\n"
     ]
    },
    {
     "name": "stderr",
     "output_type": "stream",
     "text": [
      "1176406.zip: 23.9kB [00:00, 80.3kB/s]\n"
     ]
    },
    {
     "name": "stdout",
     "output_type": "stream",
     "text": [
      "\n",
      "File successfully downloaded to: ./zenodo_dl/1176406.zip\n",
      "[info] File downloaded: ./zenodo_dl/1176406.zip\n",
      "\n",
      "[info] Paper_idx: 2008, Zenodo id: 1176408\n"
     ]
    },
    {
     "name": "stderr",
     "output_type": "stream",
     "text": [
      "1176408.zip: 488kB [00:02, 221kB/s]  \n"
     ]
    },
    {
     "name": "stdout",
     "output_type": "stream",
     "text": [
      "\n",
      "File successfully downloaded to: ./zenodo_dl/1176408.zip\n",
      "[info] File downloaded: ./zenodo_dl/1176408.zip\n",
      "\n",
      "[info] Paper_idx: 2009, Zenodo id: 1176410\n"
     ]
    },
    {
     "name": "stderr",
     "output_type": "stream",
     "text": [
      "1176410.zip: 539kB [00:02, 247kB/s]  \n"
     ]
    },
    {
     "name": "stdout",
     "output_type": "stream",
     "text": [
      "\n",
      "File successfully downloaded to: ./zenodo_dl/1176410.zip\n",
      "[info] File downloaded: ./zenodo_dl/1176410.zip\n",
      "\n",
      "[info] Paper_idx: 2010, Zenodo id: 1176412\n"
     ]
    },
    {
     "name": "stderr",
     "output_type": "stream",
     "text": [
      "1176412.zip: 509kB [00:01, 262kB/s]  \n"
     ]
    },
    {
     "name": "stdout",
     "output_type": "stream",
     "text": [
      "\n",
      "File successfully downloaded to: ./zenodo_dl/1176412.zip\n",
      "[info] File downloaded: ./zenodo_dl/1176412.zip\n",
      "\n",
      "[info] Paper_idx: 2011, Zenodo id: 1176414\n"
     ]
    },
    {
     "name": "stderr",
     "output_type": "stream",
     "text": [
      "1176414.zip: 232kB [00:01, 208kB/s]  \n"
     ]
    },
    {
     "name": "stdout",
     "output_type": "stream",
     "text": [
      "\n",
      "File successfully downloaded to: ./zenodo_dl/1176414.zip\n",
      "[info] File downloaded: ./zenodo_dl/1176414.zip\n",
      "\n",
      "[info] Paper_idx: 2012, Zenodo id: 1176416\n"
     ]
    },
    {
     "name": "stderr",
     "output_type": "stream",
     "text": [
      "1176416.zip: 143kB [00:00, 169kB/s]  \n"
     ]
    },
    {
     "name": "stdout",
     "output_type": "stream",
     "text": [
      "\n",
      "File successfully downloaded to: ./zenodo_dl/1176416.zip\n",
      "[info] File downloaded: ./zenodo_dl/1176416.zip\n",
      "\n",
      "[info] Paper_idx: 2013, Zenodo id: 1176418\n"
     ]
    },
    {
     "name": "stderr",
     "output_type": "stream",
     "text": [
      "1176418.zip: 75.4kB [00:00, 133kB/s] \n"
     ]
    },
    {
     "name": "stdout",
     "output_type": "stream",
     "text": [
      "\n",
      "File successfully downloaded to: ./zenodo_dl/1176418.zip\n",
      "[info] File downloaded: ./zenodo_dl/1176418.zip\n",
      "\n",
      "[info] Paper_idx: 2014, Zenodo id: 1176420\n"
     ]
    },
    {
     "name": "stderr",
     "output_type": "stream",
     "text": [
      "1176420.zip: 368kB [00:01, 219kB/s]  \n"
     ]
    },
    {
     "name": "stdout",
     "output_type": "stream",
     "text": [
      "\n",
      "File successfully downloaded to: ./zenodo_dl/1176420.zip\n",
      "[info] File downloaded: ./zenodo_dl/1176420.zip\n",
      "\n",
      "[info] Paper_idx: 2015, Zenodo id: 1176422\n"
     ]
    },
    {
     "name": "stderr",
     "output_type": "stream",
     "text": [
      "1176422.zip: 1.60MB [00:05, 304kB/s] \n"
     ]
    },
    {
     "name": "stdout",
     "output_type": "stream",
     "text": [
      "\n",
      "File successfully downloaded to: ./zenodo_dl/1176422.zip\n",
      "[info] File downloaded: ./zenodo_dl/1176422.zip\n",
      "\n",
      "[info] Paper_idx: 2016, Zenodo id: 1176424\n"
     ]
    },
    {
     "name": "stderr",
     "output_type": "stream",
     "text": [
      "1176424.zip: 269kB [00:01, 192kB/s]  \n"
     ]
    },
    {
     "name": "stdout",
     "output_type": "stream",
     "text": [
      "\n",
      "File successfully downloaded to: ./zenodo_dl/1176424.zip\n",
      "[info] File downloaded: ./zenodo_dl/1176424.zip\n",
      "\n",
      "[info] Paper_idx: 2017, Zenodo id: 1176428\n"
     ]
    },
    {
     "name": "stderr",
     "output_type": "stream",
     "text": [
      "1176428.zip: 807kB [00:02, 294kB/s]  \n"
     ]
    },
    {
     "name": "stdout",
     "output_type": "stream",
     "text": [
      "\n",
      "File successfully downloaded to: ./zenodo_dl/1176428.zip\n",
      "[info] File downloaded: ./zenodo_dl/1176428.zip\n",
      "\n",
      "[info] Paper_idx: 2018, Zenodo id: 1176384\n"
     ]
    },
    {
     "name": "stderr",
     "output_type": "stream",
     "text": [
      "1176384.zip: 93.1kB [00:00, 110kB/s] \n"
     ]
    },
    {
     "name": "stdout",
     "output_type": "stream",
     "text": [
      "\n",
      "File successfully downloaded to: ./zenodo_dl/1176384.zip\n",
      "[info] File downloaded: ./zenodo_dl/1176384.zip\n",
      "\n",
      "[info] Paper_idx: 2019, Zenodo id: 1176432\n"
     ]
    },
    {
     "name": "stderr",
     "output_type": "stream",
     "text": [
      "1176432.zip: 1.88MB [00:05, 321kB/s] \n"
     ]
    },
    {
     "name": "stdout",
     "output_type": "stream",
     "text": [
      "\n",
      "File successfully downloaded to: ./zenodo_dl/1176432.zip\n",
      "[info] File downloaded: ./zenodo_dl/1176432.zip\n",
      "\n",
      "[info] Paper_idx: 2020, Zenodo id: 1176434\n"
     ]
    },
    {
     "name": "stderr",
     "output_type": "stream",
     "text": [
      "1176434.zip: 555kB [00:01, 332kB/s]  \n"
     ]
    },
    {
     "name": "stdout",
     "output_type": "stream",
     "text": [
      "\n",
      "File successfully downloaded to: ./zenodo_dl/1176434.zip\n",
      "[info] File downloaded: ./zenodo_dl/1176434.zip\n",
      "\n",
      "[info] Paper_idx: 2021, Zenodo id: 1176436\n"
     ]
    },
    {
     "name": "stderr",
     "output_type": "stream",
     "text": [
      "1176436.zip: 303kB [00:01, 220kB/s]  \n"
     ]
    },
    {
     "name": "stdout",
     "output_type": "stream",
     "text": [
      "\n",
      "File successfully downloaded to: ./zenodo_dl/1176436.zip\n",
      "[info] File downloaded: ./zenodo_dl/1176436.zip\n",
      "\n",
      "[info] Paper_idx: 2022, Zenodo id: 1176438\n"
     ]
    },
    {
     "name": "stderr",
     "output_type": "stream",
     "text": [
      "1176438.zip: 89.1kB [00:00, 159kB/s] \n"
     ]
    },
    {
     "name": "stdout",
     "output_type": "stream",
     "text": [
      "\n",
      "File successfully downloaded to: ./zenodo_dl/1176438.zip\n",
      "[info] File downloaded: ./zenodo_dl/1176438.zip\n",
      "\n",
      "[info] Paper_idx: 2023, Zenodo id: 1176440\n"
     ]
    },
    {
     "name": "stderr",
     "output_type": "stream",
     "text": [
      "1176440.zip: 129kB [00:00, 153kB/s]  \n"
     ]
    },
    {
     "name": "stdout",
     "output_type": "stream",
     "text": [
      "\n",
      "File successfully downloaded to: ./zenodo_dl/1176440.zip\n",
      "[info] File downloaded: ./zenodo_dl/1176440.zip\n",
      "\n",
      "[info] Paper_idx: 2024, Zenodo id: 1176442\n"
     ]
    },
    {
     "name": "stderr",
     "output_type": "stream",
     "text": [
      "1176442.zip: 35.5kB [00:00, 121kB/s] \n"
     ]
    },
    {
     "name": "stdout",
     "output_type": "stream",
     "text": [
      "\n",
      "File successfully downloaded to: ./zenodo_dl/1176442.zip\n",
      "[info] File downloaded: ./zenodo_dl/1176442.zip\n",
      "\n",
      "[info] Paper_idx: 2025, Zenodo id: 1176444\n"
     ]
    },
    {
     "name": "stderr",
     "output_type": "stream",
     "text": [
      "1176444.zip: 840kB [00:02, 303kB/s]  \n"
     ]
    },
    {
     "name": "stdout",
     "output_type": "stream",
     "text": [
      "\n",
      "File successfully downloaded to: ./zenodo_dl/1176444.zip\n",
      "[info] File downloaded: ./zenodo_dl/1176444.zip\n",
      "\n",
      "[info] Paper_idx: 2026, Zenodo id: 1176446\n"
     ]
    },
    {
     "name": "stderr",
     "output_type": "stream",
     "text": [
      "1176446.zip: 2.64MB [00:08, 329kB/s] \n"
     ]
    },
    {
     "name": "stdout",
     "output_type": "stream",
     "text": [
      "\n",
      "File successfully downloaded to: ./zenodo_dl/1176446.zip\n",
      "[info] File downloaded: ./zenodo_dl/1176446.zip\n",
      "\n",
      "[info] Paper_idx: 2027, Zenodo id: 1176448\n"
     ]
    },
    {
     "name": "stderr",
     "output_type": "stream",
     "text": [
      "1176448.zip: 198kB [00:00, 232kB/s]  \n"
     ]
    },
    {
     "name": "stdout",
     "output_type": "stream",
     "text": [
      "\n",
      "File successfully downloaded to: ./zenodo_dl/1176448.zip\n",
      "[info] File downloaded: ./zenodo_dl/1176448.zip\n",
      "\n",
      "[info] Paper_idx: 2028, Zenodo id: 1176450\n"
     ]
    },
    {
     "name": "stderr",
     "output_type": "stream",
     "text": [
      "1176450.zip: 787kB [00:02, 314kB/s]  \n"
     ]
    },
    {
     "name": "stdout",
     "output_type": "stream",
     "text": [
      "\n",
      "File successfully downloaded to: ./zenodo_dl/1176450.zip\n",
      "[info] File downloaded: ./zenodo_dl/1176450.zip\n",
      "\n",
      "[info] Paper_idx: 2029, Zenodo id: 1176452\n"
     ]
    },
    {
     "name": "stderr",
     "output_type": "stream",
     "text": [
      "1176452.zip: 559kB [00:01, 288kB/s]  \n"
     ]
    },
    {
     "name": "stdout",
     "output_type": "stream",
     "text": [
      "\n",
      "File successfully downloaded to: ./zenodo_dl/1176452.zip\n",
      "[info] File downloaded: ./zenodo_dl/1176452.zip\n",
      "\n",
      "[info] Paper_idx: 2030, Zenodo id: 1176454\n"
     ]
    },
    {
     "name": "stderr",
     "output_type": "stream",
     "text": [
      "1176454.zip: 109kB [00:00, 180kB/s]  \n"
     ]
    },
    {
     "name": "stdout",
     "output_type": "stream",
     "text": [
      "\n",
      "File successfully downloaded to: ./zenodo_dl/1176454.zip\n",
      "[info] File downloaded: ./zenodo_dl/1176454.zip\n",
      "\n",
      "[info] Paper_idx: 2031, Zenodo id: 1176456\n"
     ]
    },
    {
     "name": "stderr",
     "output_type": "stream",
     "text": [
      "1176456.zip: 542kB [00:01, 279kB/s]  \n"
     ]
    },
    {
     "name": "stdout",
     "output_type": "stream",
     "text": [
      "\n",
      "File successfully downloaded to: ./zenodo_dl/1176456.zip\n",
      "[info] File downloaded: ./zenodo_dl/1176456.zip\n",
      "\n",
      "[info] Paper_idx: 2032, Zenodo id: 1176458\n"
     ]
    },
    {
     "name": "stderr",
     "output_type": "stream",
     "text": [
      "1176458.zip: 2.97MB [00:08, 334kB/s] \n"
     ]
    },
    {
     "name": "stdout",
     "output_type": "stream",
     "text": [
      "\n",
      "File successfully downloaded to: ./zenodo_dl/1176458.zip\n",
      "[info] File downloaded: ./zenodo_dl/1176458.zip\n",
      "\n",
      "[info] Paper_idx: 2033, Zenodo id: 1176478\n"
     ]
    },
    {
     "name": "stderr",
     "output_type": "stream",
     "text": [
      "1176478.zip: 63.7kB [00:00, 110kB/s] \n"
     ]
    },
    {
     "name": "stdout",
     "output_type": "stream",
     "text": [
      "\n",
      "File successfully downloaded to: ./zenodo_dl/1176478.zip\n",
      "[info] File downloaded: ./zenodo_dl/1176478.zip\n",
      "\n",
      "[info] Paper_idx: 2034, Zenodo id: 1176460\n"
     ]
    },
    {
     "name": "stderr",
     "output_type": "stream",
     "text": [
      "1176460.zip: 208kB [00:00, 243kB/s]  \n"
     ]
    },
    {
     "name": "stdout",
     "output_type": "stream",
     "text": [
      "\n",
      "File successfully downloaded to: ./zenodo_dl/1176460.zip\n",
      "[info] File downloaded: ./zenodo_dl/1176460.zip\n",
      "\n",
      "[info] Paper_idx: 2035, Zenodo id: 1176462\n"
     ]
    },
    {
     "name": "stderr",
     "output_type": "stream",
     "text": [
      "1176462.zip: 872kB [00:01, 607kB/s]  \n"
     ]
    },
    {
     "name": "stdout",
     "output_type": "stream",
     "text": [
      "\n",
      "File successfully downloaded to: ./zenodo_dl/1176462.zip\n",
      "[info] File downloaded: ./zenodo_dl/1176462.zip\n",
      "\n",
      "[info] Paper_idx: 2036, Zenodo id: 1176386\n"
     ]
    },
    {
     "name": "stderr",
     "output_type": "stream",
     "text": [
      "1176386.zip: 104kB [00:00, 170kB/s]  \n"
     ]
    },
    {
     "name": "stdout",
     "output_type": "stream",
     "text": [
      "\n",
      "File successfully downloaded to: ./zenodo_dl/1176386.zip\n",
      "[info] File downloaded: ./zenodo_dl/1176386.zip\n",
      "\n",
      "[info] Paper_idx: 2037, Zenodo id: 1176430\n"
     ]
    },
    {
     "name": "stderr",
     "output_type": "stream",
     "text": [
      "1176430.zip: 145kB [00:00, 173kB/s]  \n"
     ]
    },
    {
     "name": "stdout",
     "output_type": "stream",
     "text": [
      "\n",
      "File successfully downloaded to: ./zenodo_dl/1176430.zip\n",
      "[info] File downloaded: ./zenodo_dl/1176430.zip\n",
      "\n",
      "[info] Paper_idx: 2038, Zenodo id: 1176464\n"
     ]
    },
    {
     "name": "stderr",
     "output_type": "stream",
     "text": [
      "1176464.zip: 199kB [00:00, 234kB/s]  \n"
     ]
    },
    {
     "name": "stdout",
     "output_type": "stream",
     "text": [
      "\n",
      "File successfully downloaded to: ./zenodo_dl/1176464.zip\n",
      "[info] File downloaded: ./zenodo_dl/1176464.zip\n",
      "\n",
      "[info] Paper_idx: 2039, Zenodo id: 1176466\n"
     ]
    },
    {
     "name": "stderr",
     "output_type": "stream",
     "text": [
      "1176466.zip: 1.62MB [00:04, 325kB/s] \n"
     ]
    },
    {
     "name": "stdout",
     "output_type": "stream",
     "text": [
      "\n",
      "File successfully downloaded to: ./zenodo_dl/1176466.zip\n",
      "[info] File downloaded: ./zenodo_dl/1176466.zip\n",
      "\n",
      "[info] Paper_idx: 2040, Zenodo id: 1176468\n"
     ]
    },
    {
     "name": "stderr",
     "output_type": "stream",
     "text": [
      "1176468.zip: 320kB [00:01, 227kB/s]  \n"
     ]
    },
    {
     "name": "stdout",
     "output_type": "stream",
     "text": [
      "\n",
      "File successfully downloaded to: ./zenodo_dl/1176468.zip\n",
      "[info] File downloaded: ./zenodo_dl/1176468.zip\n",
      "\n",
      "[info] Paper_idx: 2041, Zenodo id: 1176470\n"
     ]
    },
    {
     "name": "stderr",
     "output_type": "stream",
     "text": [
      "1176470.zip: 1.64MB [00:01, 981kB/s] \n"
     ]
    },
    {
     "name": "stdout",
     "output_type": "stream",
     "text": [
      "\n",
      "File successfully downloaded to: ./zenodo_dl/1176470.zip\n",
      "[info] File downloaded: ./zenodo_dl/1176470.zip\n",
      "\n",
      "[info] Paper_idx: 2042, Zenodo id: 1176472\n"
     ]
    },
    {
     "name": "stderr",
     "output_type": "stream",
     "text": [
      "1176472.zip: 124kB [00:00, 148kB/s]  \n"
     ]
    },
    {
     "name": "stdout",
     "output_type": "stream",
     "text": [
      "\n",
      "File successfully downloaded to: ./zenodo_dl/1176472.zip\n",
      "[info] File downloaded: ./zenodo_dl/1176472.zip\n",
      "\n",
      "[info] Paper_idx: 2043, Zenodo id: 1176474\n"
     ]
    },
    {
     "name": "stderr",
     "output_type": "stream",
     "text": [
      "1176474.zip: 143kB [00:00, 169kB/s]  \n"
     ]
    },
    {
     "name": "stdout",
     "output_type": "stream",
     "text": [
      "\n",
      "File successfully downloaded to: ./zenodo_dl/1176474.zip\n",
      "[info] File downloaded: ./zenodo_dl/1176474.zip\n",
      "\n",
      "[info] Paper_idx: 2044, Zenodo id: 1176476\n"
     ]
    },
    {
     "name": "stderr",
     "output_type": "stream",
     "text": [
      "1176476.zip: 22.7kB [00:00, 77.4kB/s]\n"
     ]
    },
    {
     "name": "stdout",
     "output_type": "stream",
     "text": [
      "\n",
      "File successfully downloaded to: ./zenodo_dl/1176476.zip\n",
      "[info] File downloaded: ./zenodo_dl/1176476.zip\n",
      "\n",
      "[info] Paper_idx: 2045, Zenodo id: 1176480\n"
     ]
    },
    {
     "name": "stderr",
     "output_type": "stream",
     "text": [
      "1176480.zip: 79.0kB [00:00, 141kB/s] \n"
     ]
    },
    {
     "name": "stdout",
     "output_type": "stream",
     "text": [
      "\n",
      "File successfully downloaded to: ./zenodo_dl/1176480.zip\n",
      "[info] File downloaded: ./zenodo_dl/1176480.zip\n",
      "\n",
      "[info] Paper_idx: 2046, Zenodo id: 1176358\n"
     ]
    },
    {
     "name": "stderr",
     "output_type": "stream",
     "text": [
      "1176358.zip: 1.16MB [00:03, 347kB/s] \n"
     ]
    },
    {
     "name": "stdout",
     "output_type": "stream",
     "text": [
      "\n",
      "File successfully downloaded to: ./zenodo_dl/1176358.zip\n",
      "[info] File downloaded: ./zenodo_dl/1176358.zip\n",
      "\n",
      "[info] Paper_idx: 2047, Zenodo id: 1176380\n"
     ]
    },
    {
     "name": "stderr",
     "output_type": "stream",
     "text": [
      "1176380.zip: 999kB [00:03, 299kB/s]  \n"
     ]
    },
    {
     "name": "stdout",
     "output_type": "stream",
     "text": [
      "\n",
      "File successfully downloaded to: ./zenodo_dl/1176380.zip\n",
      "[info] File downloaded: ./zenodo_dl/1176380.zip\n",
      "\n",
      "[info] Paper_idx: 2048, Zenodo id: 1176382\n"
     ]
    },
    {
     "name": "stderr",
     "output_type": "stream",
     "text": [
      "1176382.zip: 131kB [00:00, 155kB/s]  \n"
     ]
    },
    {
     "name": "stdout",
     "output_type": "stream",
     "text": [
      "\n",
      "File successfully downloaded to: ./zenodo_dl/1176382.zip\n",
      "[info] File downloaded: ./zenodo_dl/1176382.zip\n",
      "\n",
      "[info] Paper_idx: 2049, Zenodo id: 1176370\n"
     ]
    },
    {
     "name": "stderr",
     "output_type": "stream",
     "text": [
      "1176370.zip: 146kB [00:00, 175kB/s]  \n"
     ]
    },
    {
     "name": "stdout",
     "output_type": "stream",
     "text": [
      "\n",
      "File successfully downloaded to: ./zenodo_dl/1176370.zip\n",
      "[info] File downloaded: ./zenodo_dl/1176370.zip\n",
      "\n",
      "[info] Paper_idx: 2050, Zenodo id: 1176356\n"
     ]
    },
    {
     "name": "stderr",
     "output_type": "stream",
     "text": [
      "1176356.zip: 1.21MB [00:03, 312kB/s] \n"
     ]
    },
    {
     "name": "stdout",
     "output_type": "stream",
     "text": [
      "\n",
      "File successfully downloaded to: ./zenodo_dl/1176356.zip\n",
      "[info] File downloaded: ./zenodo_dl/1176356.zip\n",
      "\n",
      "[info] Paper_idx: 2051, Zenodo id: 1176362\n"
     ]
    },
    {
     "name": "stderr",
     "output_type": "stream",
     "text": [
      "1176362.zip: 714kB [00:02, 288kB/s]  \n"
     ]
    },
    {
     "name": "stdout",
     "output_type": "stream",
     "text": [
      "\n",
      "File successfully downloaded to: ./zenodo_dl/1176362.zip\n",
      "[info] File downloaded: ./zenodo_dl/1176362.zip\n",
      "\n",
      "[info] Paper_idx: 2052, Zenodo id: 1176364\n"
     ]
    },
    {
     "name": "stderr",
     "output_type": "stream",
     "text": [
      "1176364.zip: 113kB [00:00, 137kB/s]  \n"
     ]
    },
    {
     "name": "stdout",
     "output_type": "stream",
     "text": [
      "\n",
      "File successfully downloaded to: ./zenodo_dl/1176364.zip\n",
      "[info] File downloaded: ./zenodo_dl/1176364.zip\n",
      "\n",
      "[info] Paper_idx: 2053, Zenodo id: 1176374\n"
     ]
    },
    {
     "name": "stderr",
     "output_type": "stream",
     "text": [
      "1176374.zip: 651kB [00:02, 291kB/s]  \n"
     ]
    },
    {
     "name": "stdout",
     "output_type": "stream",
     "text": [
      "\n",
      "File successfully downloaded to: ./zenodo_dl/1176374.zip\n",
      "[info] File downloaded: ./zenodo_dl/1176374.zip\n",
      "\n",
      "[info] Paper_idx: 2054, Zenodo id: 1176368\n"
     ]
    },
    {
     "name": "stderr",
     "output_type": "stream",
     "text": [
      "1176368.zip: 412kB [00:01, 297kB/s]  \n"
     ]
    },
    {
     "name": "stdout",
     "output_type": "stream",
     "text": [
      "\n",
      "File successfully downloaded to: ./zenodo_dl/1176368.zip\n",
      "[info] File downloaded: ./zenodo_dl/1176368.zip\n",
      "\n",
      "[info] Paper_idx: 2055, Zenodo id: 1176372\n"
     ]
    },
    {
     "name": "stderr",
     "output_type": "stream",
     "text": [
      "1176372.zip: 1.02MB [00:01, 732kB/s] \n"
     ]
    },
    {
     "name": "stdout",
     "output_type": "stream",
     "text": [
      "\n",
      "File successfully downloaded to: ./zenodo_dl/1176372.zip\n",
      "[info] File downloaded: ./zenodo_dl/1176372.zip\n",
      "\n",
      "[info] Paper_idx: 2056, Zenodo id: 1176360\n"
     ]
    },
    {
     "name": "stderr",
     "output_type": "stream",
     "text": [
      "1176360.zip: 285kB [00:01, 207kB/s]  \n"
     ]
    },
    {
     "name": "stdout",
     "output_type": "stream",
     "text": [
      "\n",
      "File successfully downloaded to: ./zenodo_dl/1176360.zip\n",
      "[info] File downloaded: ./zenodo_dl/1176360.zip\n",
      "\n",
      "[info] Paper_idx: 2057, Zenodo id: 1176366\n"
     ]
    },
    {
     "name": "stderr",
     "output_type": "stream",
     "text": [
      "1176366.zip: 353kB [00:01, 242kB/s]  \n"
     ]
    },
    {
     "name": "stdout",
     "output_type": "stream",
     "text": [
      "\n",
      "File successfully downloaded to: ./zenodo_dl/1176366.zip\n",
      "[info] File downloaded: ./zenodo_dl/1176366.zip\n",
      "\n",
      "[info] Paper_idx: 2058, Zenodo id: 1176376\n"
     ]
    },
    {
     "name": "stderr",
     "output_type": "stream",
     "text": [
      "1176376.zip: 331kB [00:01, 236kB/s]  \n"
     ]
    },
    {
     "name": "stdout",
     "output_type": "stream",
     "text": [
      "\n",
      "File successfully downloaded to: ./zenodo_dl/1176376.zip\n",
      "[info] File downloaded: ./zenodo_dl/1176376.zip\n",
      "\n",
      "[info] Paper_idx: 2059, Zenodo id: 1176378\n"
     ]
    },
    {
     "name": "stderr",
     "output_type": "stream",
     "text": [
      "1176378.zip: 125kB [00:00, 150kB/s]  "
     ]
    },
    {
     "name": "stdout",
     "output_type": "stream",
     "text": [
      "\n",
      "File successfully downloaded to: ./zenodo_dl/1176378.zip\n",
      "[info] File downloaded: ./zenodo_dl/1176378.zip\n",
      "\n"
     ]
    },
    {
     "name": "stderr",
     "output_type": "stream",
     "text": [
      "\n"
     ]
    }
   ],
   "source": [
    "for paper_idx in range(len(zenodo_id_list[:])):\n",
    "    \n",
    "    print (\"[info] Paper_idx: {}, Zenodo id: {}\".format(paper_idx, zenodo_id_list[paper_idx]))\n",
    "\n",
    "    zenodo_id_in = zenodo_id_list[paper_idx]\n",
    "    \n",
    "    zenodo_url = \"https://zenodo.org/api/records/{}/files-archive\".format(zenodo_id_in)\n",
    "\n",
    "    download_path = download_zenodo_file(zenodo_url)\n",
    "\n",
    "    print (\"[info] File downloaded: {}\".format(download_path))\n",
    "\n",
    "    print (\"\")"
   ]
  },
  {
   "cell_type": "code",
   "execution_count": 137,
   "id": "e49a062d-b0c2-4fb2-bb4f-60418624792d",
   "metadata": {},
   "outputs": [
    {
     "name": "stdout",
     "output_type": "stream",
     "text": [
      "2052\n",
      "2052\n",
      "./zenodo_dl/11189088.zip\n",
      "./zenodo_dl/11189090.zip\n",
      "./zenodo_dl/11189092.zip\n",
      "11189088\n",
      "11189090\n",
      "11189092\n"
     ]
    }
   ],
   "source": [
    "zip_files = np.sort(glob.glob(\"./zenodo_dl/*.zip\")).tolist()\n",
    "\n",
    "print (len(zip_files))\n",
    "\n",
    "zip_files_only_names = [x.split(\"/\")[-1][:-4] for x in zip_files]\n",
    "\n",
    "print (len(zip_files_only_names))\n",
    "\n",
    "for x in zip_files[:3]:\n",
    "    print (x)\n",
    "\n",
    "for x in zip_files_only_names[:3]:\n",
    "    print (x)"
   ]
  },
  {
   "cell_type": "code",
   "execution_count": 140,
   "id": "db3889d8-efd1-4b99-8f80-ca3b6aa20cce",
   "metadata": {},
   "outputs": [
    {
     "name": "stdout",
     "output_type": "stream",
     "text": [
      "5\n",
      "4813288\n",
      "1302650\n",
      "3964607\n",
      "3964599\n",
      "3964592\n"
     ]
    }
   ],
   "source": [
    "problem_id_list = []\n",
    "\n",
    "for x in zenodo_id_list:\n",
    "    if x in zip_files_only_names:\n",
    "        pass\n",
    "    else:\n",
    "        problem_id_list.append(x)\n",
    "\n",
    "print (len(problem_id_list))\n",
    "\n",
    "for x in problem_id_list[:]:\n",
    "    print (x)"
   ]
  },
  {
   "cell_type": "code",
   "execution_count": null,
   "id": "20cf170f-fd69-4c34-8af1-39d5418cca73",
   "metadata": {},
   "outputs": [],
   "source": [
    "#  4813288  => downloaded\n",
    "#  1302650  =>  1302651\n",
    "#  3964607  =>  3964608\n",
    "#  3964599  =>  3964600\n",
    "#  3964592  =>  3964593"
   ]
  },
  {
   "cell_type": "code",
   "execution_count": 144,
   "id": "7de5d30a-0259-468c-a61e-9bf11a760f7b",
   "metadata": {},
   "outputs": [
    {
     "name": "stdout",
     "output_type": "stream",
     "text": [
      "2058\n",
      "2058\n",
      "./zenodo_dl/11189088.zip\n",
      "./zenodo_dl/11189090.zip\n",
      "./zenodo_dl/11189092.zip\n",
      "11189088\n",
      "11189090\n",
      "11189092\n"
     ]
    }
   ],
   "source": [
    "zip_files = np.sort(glob.glob(\"./zenodo_dl/*.zip\")).tolist()\n",
    "\n",
    "print (len(zip_files))\n",
    "\n",
    "zip_files_only_names = [x.split(\"/\")[-1][:-4] for x in zip_files]\n",
    "\n",
    "print (len(zip_files_only_names))\n",
    "\n",
    "for x in zip_files[:3]:\n",
    "    print (x)\n",
    "\n",
    "for x in zip_files_only_names[:3]:\n",
    "    print (x)"
   ]
  },
  {
   "cell_type": "code",
   "execution_count": 145,
   "id": "a0191685-1ff0-42aa-a57e-dd91854502e3",
   "metadata": {},
   "outputs": [
    {
     "name": "stdout",
     "output_type": "stream",
     "text": [
      "0\n"
     ]
    }
   ],
   "source": [
    "problem_id_list = []\n",
    "\n",
    "for x in zenodo_id_list:\n",
    "    if x in zip_files_only_names:\n",
    "        pass\n",
    "    else:\n",
    "        problem_id_list.append(x)\n",
    "\n",
    "print (len(problem_id_list))\n",
    "\n",
    "for x in problem_id_list[:]:\n",
    "    print (x)"
   ]
  },
  {
   "cell_type": "code",
   "execution_count": 142,
   "id": "b758ca00-a20f-4084-b50d-df8d25ec37e7",
   "metadata": {},
   "outputs": [
    {
     "name": "stdout",
     "output_type": "stream",
     "text": [
      "Duplicates: ['1178419', '1176002', '1302693']\n"
     ]
    }
   ],
   "source": [
    "# Check for duplicates\n",
    "duplicates = [item for item in set(zenodo_id_list) if zenodo_id_list.count(item) > 1]\n",
    "\n",
    "print(\"Duplicates:\", duplicates)"
   ]
  },
  {
   "cell_type": "code",
   "execution_count": null,
   "id": "9d4e98d2-d3f9-40e2-a383-4fbc281c7f92",
   "metadata": {},
   "outputs": [],
   "source": [
    "#  1302693 => https://www.nime.org/proceedings/2018/nime2018_paper0021.pdf\n",
    "#  1176002 => https://www.nime.org/proceedings/2016/nime2016_paper00012.pdf\n",
    "#  1178419 => Duplicates \" Unsupervised Play: Machine Learning...\""
   ]
  },
  {
   "cell_type": "code",
   "execution_count": null,
   "id": "35e21781-3204-4aa1-915f-73c70c28b335",
   "metadata": {},
   "outputs": [],
   "source": []
  },
  {
   "cell_type": "code",
   "execution_count": null,
   "id": "8508c2b3-3b09-4d1a-a008-87372a6fe53e",
   "metadata": {},
   "outputs": [],
   "source": []
  },
  {
   "cell_type": "markdown",
   "id": "921393de-d337-4e69-88ad-f41a2e95b9b1",
   "metadata": {},
   "source": [
    "# get paper id data from NIME website"
   ]
  },
  {
   "cell_type": "code",
   "execution_count": 61,
   "id": "42de1b99-5dec-47a7-9138-2f056b29c123",
   "metadata": {
    "scrolled": true
   },
   "outputs": [
    {
     "name": "stdout",
     "output_type": "stream",
     "text": [
      "144\n",
      "10.21428/92fbeb44.79d0b38f\n",
      "10.21428/92fbeb44.57e41c54\n",
      "10.21428/92fbeb44.706b549e\n"
     ]
    }
   ],
   "source": [
    "nime_id_list = [x for x in Archive_id_list if \"zenodo\" not in x]\n",
    "\n",
    "print (len(nime_id_list))\n",
    "\n",
    "for x in nime_id_list[:3]:\n",
    "    print (x)"
   ]
  },
  {
   "cell_type": "markdown",
   "id": "d19f0083-15e3-4879-a4fb-68c0fadd32ad",
   "metadata": {},
   "source": [
    "# define fuinction to download paper in NIME database \"nime.pubpub.org\""
   ]
  },
  {
   "cell_type": "code",
   "execution_count": 98,
   "id": "450ea806-08d4-4dca-92b6-92910210977f",
   "metadata": {
    "scrolled": true
   },
   "outputs": [],
   "source": [
    "\n",
    "def extract_doi_html(doi_id_in):\n",
    "\n",
    "    # The DOI URL\n",
    "    #doi_url = \"https://doi.org/10.21428/92fbeb44.2305755b\"\n",
    "    doi_url = \"https://doi.org/\" + doi_id_in\n",
    "\n",
    "    # Send a GET request\n",
    "    response = requests.get(doi_url)\n",
    "\n",
    "    # Check if the request was successful\n",
    "    if response.status_code == 200:\n",
    "        # `response.text` will contain the webpage’s HTML content\n",
    "        page_content = response.text\n",
    "        #print(page_content)\n",
    "        print (\"[info] Extracting html OK! DOI: {}\".format(doi_id_in))\n",
    "    else:\n",
    "        print(f\"Failed to retrieve the page. Status code: {response.status_code}\")\n",
    "        assert False, \"[info] doi link transfer error!\"\n",
    "\n",
    "    return page_content\n",
    "\n",
    "\n",
    "def nime_pdf_dl(html_data_in, doi_id_in):\n",
    "\n",
    "    # Parse the HTML content using BeautifulSoup\n",
    "    soup = BeautifulSoup(html_data_in, 'html.parser')\n",
    "\n",
    "    # Extract all meta tags with a 'content' attribute\n",
    "    meta_content_links = []\n",
    "    for meta_tag in soup.find_all('meta'):\n",
    "        if 'content' in meta_tag.attrs:\n",
    "            meta_content_links.append(meta_tag['content'])\n",
    "\n",
    "\n",
    "    local_filename = \"./nimepub_dl\" + \"/\" + doi_id_in.split(\"/\")[-1] + \".pdf\"\n",
    "    \n",
    "    # Print the extracted URLs or content values\n",
    "    for content in meta_content_links:\n",
    "        if \"http\" in content and \"download\" in content and \"pdf\" in content:\n",
    "\n",
    "            file_url = content\n",
    "            print(\"[info] Downloading file: {}\".format(file_url))\n",
    "\n",
    "            # Send a GET request to the URL\n",
    "            response = requests.get(file_url, stream=True)\n",
    "    \n",
    "            # Check if the request was successful (status code 200)\n",
    "            if response.status_code == 200:            \n",
    "    \n",
    "                with open(local_filename, \"wb\") as file:\n",
    "                    # Iterate over the response in chunks to avoid using too much memory\n",
    "                    for chunk in response.iter_content(chunk_size=8192):\n",
    "                        if chunk:\n",
    "                            file.write(chunk)"
   ]
  },
  {
   "cell_type": "markdown",
   "id": "321ca064-a026-45fc-a7c7-1a6ed8c8eaca",
   "metadata": {},
   "source": [
    "# loop papers on NIME website"
   ]
  },
  {
   "cell_type": "code",
   "execution_count": 100,
   "id": "5aa328fd-0f35-4fb5-9728-320b3bfe41db",
   "metadata": {
    "scrolled": true
   },
   "outputs": [
    {
     "name": "stdout",
     "output_type": "stream",
     "text": [
      "[info] paper_idx: 0\n",
      "[info] Extracting html OK! DOI: 10.21428/92fbeb44.79d0b38f\n",
      "[info] Downloading file: https://nime.pubpub.org/pub/aa39yd37/download/pdf\n",
      "\n",
      "[info] paper_idx: 1\n",
      "[info] Extracting html OK! DOI: 10.21428/92fbeb44.57e41c54\n",
      "[info] Downloading file: https://nime.pubpub.org/pub/3jtvhh35/download/pdf\n",
      "\n",
      "[info] paper_idx: 2\n",
      "[info] Extracting html OK! DOI: 10.21428/92fbeb44.706b549e\n",
      "[info] Downloading file: https://nime.pubpub.org/pub/yju481nh/download/pdf\n",
      "\n",
      "[info] paper_idx: 3\n",
      "[info] Extracting html OK! DOI: 10.21428/92fbeb44.98a4210a\n",
      "[info] Downloading file: https://nime.pubpub.org/pub/ludxkhhz/download/pdf\n",
      "\n",
      "[info] paper_idx: 4\n",
      "[info] Extracting html OK! DOI: 10.21428/92fbeb44.18502d1d\n",
      "[info] Downloading file: https://nime.pubpub.org/pub/025d4cv1/download/pdf\n",
      "\n",
      "[info] paper_idx: 5\n",
      "[info] Extracting html OK! DOI: 10.21428/92fbeb44.51fecaab\n",
      "[info] Downloading file: https://nime.pubpub.org/pub/z0lli2w0/download/pdf\n",
      "\n",
      "[info] paper_idx: 6\n",
      "[info] Extracting html OK! DOI: 10.21428/92fbeb44.41da9da5\n",
      "[info] Downloading file: https://nime.pubpub.org/pub/zmm011ek/download/pdf\n",
      "\n",
      "[info] paper_idx: 7\n",
      "[info] Extracting html OK! DOI: 10.21428/92fbeb44.4308fb94\n",
      "[info] Downloading file: https://nime.pubpub.org/pub/180al5zt/download/pdf\n",
      "\n",
      "[info] paper_idx: 8\n",
      "[info] Extracting html OK! DOI: 10.21428/92fbeb44.78fd89cc\n",
      "[info] Downloading file: https://nime.pubpub.org/pub/ehocvk6o/download/pdf\n",
      "\n",
      "[info] paper_idx: 9\n",
      "[info] Extracting html OK! DOI: 10.21428/92fbeb44.625fbdbf\n",
      "[info] Downloading file: https://nime.pubpub.org/pub/lrhx3rpu/download/pdf\n",
      "\n",
      "[info] paper_idx: 10\n",
      "[info] Extracting html OK! DOI: 10.21428/92fbeb44.89003700\n",
      "[info] Downloading file: https://nime.pubpub.org/pub/ahhqdi2a/download/pdf\n",
      "\n",
      "[info] paper_idx: 11\n",
      "[info] Extracting html OK! DOI: 10.21428/92fbeb44.c38bfb86\n",
      "[info] Downloading file: https://nime.pubpub.org/pub/31l4lgcd/download/pdf\n",
      "\n",
      "[info] paper_idx: 12\n",
      "[info] Extracting html OK! DOI: 10.21428/92fbeb44.71a5a0ba\n",
      "[info] Downloading file: https://nime.pubpub.org/pub/uofmcznd/download/pdf\n",
      "\n",
      "[info] paper_idx: 13\n",
      "[info] Extracting html OK! DOI: 10.21428/92fbeb44.756616d4\n",
      "[info] Downloading file: https://nime.pubpub.org/pub/q8f786b3/download/pdf\n",
      "\n",
      "[info] paper_idx: 14\n",
      "[info] Extracting html OK! DOI: 10.21428/92fbeb44.0fe70450\n",
      "[info] Downloading file: https://nime.pubpub.org/pub/0nl57935/download/pdf\n",
      "\n",
      "[info] paper_idx: 15\n",
      "[info] Extracting html OK! DOI: 10.21428/92fbeb44.58efca21\n",
      "[info] Downloading file: https://nime.pubpub.org/pub/r6v6lhyf/download/pdf\n",
      "\n",
      "[info] paper_idx: 16\n",
      "[info] Extracting html OK! DOI: 10.21428/92fbeb44.324729a3\n",
      "[info] Downloading file: https://nime.pubpub.org/pub/uh76shf0/download/pdf\n",
      "\n",
      "[info] paper_idx: 17\n",
      "[info] Extracting html OK! DOI: 10.21428/92fbeb44.754a50b5\n",
      "[info] Downloading file: https://nime.pubpub.org/pub/i9nvg1yi/download/pdf\n",
      "\n",
      "[info] paper_idx: 18\n",
      "[info] Extracting html OK! DOI: 10.21428/92fbeb44.aa7de712\n",
      "[info] Downloading file: https://nime.pubpub.org/pub/feedback/download/pdf\n",
      "\n",
      "[info] paper_idx: 19\n",
      "[info] Extracting html OK! DOI: 10.21428/92fbeb44.91f87875\n",
      "[info] Downloading file: https://nime.pubpub.org/pub/z7lblcy9/download/pdf\n",
      "\n",
      "[info] paper_idx: 20\n",
      "[info] Extracting html OK! DOI: 10.21428/92fbeb44.8abb9ce6\n",
      "[info] Downloading file: https://nime.pubpub.org/pub/3o62rlch/download/pdf\n",
      "\n",
      "[info] paper_idx: 21\n",
      "[info] Extracting html OK! DOI: 10.21428/92fbeb44.3ce22588\n",
      "[info] Downloading file: https://nime.pubpub.org/pub/kmn0rbyp/download/pdf\n",
      "\n",
      "[info] paper_idx: 22\n",
      "[info] Extracting html OK! DOI: 10.21428/92fbeb44.76cfc96e\n",
      "[info] Downloading file: https://nime.pubpub.org/pub/jtdpakvp/download/pdf\n",
      "\n",
      "[info] paper_idx: 23\n",
      "[info] Extracting html OK! DOI: 10.21428/92fbeb44.18aeca0e\n",
      "[info] Downloading file: https://nime.pubpub.org/pub/a6hj6dr4/download/pdf\n",
      "\n",
      "[info] paper_idx: 24\n",
      "[info] Extracting html OK! DOI: 10.21428/92fbeb44.803c24dd\n",
      "[info] Downloading file: https://nime.pubpub.org/pub/cavi/download/pdf\n",
      "\n",
      "[info] paper_idx: 25\n",
      "[info] Extracting html OK! DOI: 10.21428/92fbeb44.2d00f04f\n",
      "[info] Downloading file: https://nime.pubpub.org/pub/ttree/download/pdf\n",
      "\n",
      "[info] paper_idx: 26\n",
      "[info] Extracting html OK! DOI: 10.21428/92fbeb44.b540aa59\n",
      "[info] Downloading file: https://nime.pubpub.org/pub/w82of2do/download/pdf\n",
      "\n",
      "[info] paper_idx: 27\n",
      "[info] Extracting html OK! DOI: 10.21428/92fbeb44.38cb7745\n",
      "[info] Downloading file: https://nime.pubpub.org/pub/4b8l5iqc/download/pdf\n",
      "\n",
      "[info] paper_idx: 28\n",
      "[info] Extracting html OK! DOI: 10.21428/92fbeb44.b2a44bc9\n",
      "[info] Downloading file: https://nime.pubpub.org/pub/mrmi-framework/download/pdf\n",
      "\n",
      "[info] paper_idx: 29\n",
      "[info] Extracting html OK! DOI: 10.21428/92fbeb44.0cc78aeb\n",
      "[info] Downloading file: https://nime.pubpub.org/pub/wkeb4nv4/download/pdf\n",
      "\n",
      "[info] paper_idx: 30\n",
      "[info] Extracting html OK! DOI: 10.21428/92fbeb44.b7a7ba4f\n",
      "[info] Downloading file: https://nime.pubpub.org/pub/k79k4rb8/download/pdf\n",
      "\n",
      "[info] paper_idx: 31\n",
      "[info] Extracting html OK! DOI: 10.21428/92fbeb44.68f7c268\n",
      "[info] Downloading file: https://nime.pubpub.org/pub/uv5rj19j/download/pdf\n",
      "\n",
      "[info] paper_idx: 32\n",
      "[info] Extracting html OK! DOI: 10.21428/92fbeb44.a0a8d914\n",
      "[info] Downloading file: https://nime.pubpub.org/pub/h9u2ynt0/download/pdf\n",
      "\n",
      "[info] paper_idx: 33\n",
      "[info] Extracting html OK! DOI: 10.21428/92fbeb44.c28dd323\n",
      "[info] Downloading file: https://nime.pubpub.org/pub/xy1df39n/download/pdf\n",
      "\n",
      "[info] paper_idx: 34\n",
      "[info] Extracting html OK! DOI: 10.21428/92fbeb44.9d974714\n",
      "[info] Downloading file: https://nime.pubpub.org/pub/n20kw7if/download/pdf\n",
      "\n",
      "[info] paper_idx: 35\n",
      "[info] Extracting html OK! DOI: 10.21428/92fbeb44.828b6114\n",
      "[info] Downloading file: https://nime.pubpub.org/pub/ex3udgld/download/pdf\n",
      "\n",
      "[info] paper_idx: 36\n",
      "[info] Extracting html OK! DOI: 10.21428/92fbeb44.a26a4014\n",
      "[info] Downloading file: https://nime.pubpub.org/pub/augmented-touch/download/pdf\n",
      "\n",
      "[info] paper_idx: 37\n",
      "[info] Extracting html OK! DOI: 10.21428/92fbeb44.ed873363\n",
      "[info] Downloading file: https://nime.pubpub.org/pub/latent-drummer/download/pdf\n",
      "\n",
      "[info] paper_idx: 38\n",
      "[info] Extracting html OK! DOI: 10.21428/92fbeb44.c6910363\n",
      "[info] Downloading file: https://nime.pubpub.org/pub/bchhb87h/download/pdf\n",
      "\n",
      "[info] paper_idx: 39\n",
      "[info] Extracting html OK! DOI: 10.21428/92fbeb44.5b9ac5ba\n",
      "[info] Downloading file: https://nime.pubpub.org/pub/tuaj4el3/download/pdf\n",
      "\n",
      "[info] paper_idx: 40\n",
      "[info] Extracting html OK! DOI: 10.21428/92fbeb44.388e4764\n",
      "[info] Downloading file: https://nime.pubpub.org/pub/user-friendly-midi-in-the-web-browser/download/pdf\n",
      "\n",
      "[info] paper_idx: 41\n",
      "[info] Extracting html OK! DOI: 10.21428/92fbeb44.d6c9dcae\n",
      "[info] Downloading file: https://nime.pubpub.org/pub/pitch-fingering-systems-and-the-search-for-perfection/download/pdf\n",
      "\n",
      "[info] paper_idx: 42\n",
      "[info] Extracting html OK! DOI: 10.21428/92fbeb44.e56a93c9\n",
      "[info] Downloading file: https://nime.pubpub.org/pub/mubone2022/download/pdf\n",
      "\n",
      "[info] paper_idx: 43\n",
      "[info] Extracting html OK! DOI: 10.21428/92fbeb44.56ba9b93\n",
      "[info] Downloading file: https://nime.pubpub.org/pub/g1ja2o6o/download/pdf\n",
      "\n",
      "[info] paper_idx: 44\n",
      "[info] Extracting html OK! DOI: 10.21428/92fbeb44.b24043e8\n",
      "[info] Downloading file: https://nime.pubpub.org/pub/uyoq7iv0/download/pdf\n",
      "\n",
      "[info] paper_idx: 45\n",
      "[info] Extracting html OK! DOI: 10.21428/92fbeb44.8c1c9817\n",
      "[info] Downloading file: https://nime.pubpub.org/pub/cwmcgn8y/download/pdf\n",
      "\n",
      "[info] paper_idx: 46\n",
      "[info] Extracting html OK! DOI: 10.21428/92fbeb44.2b8ce9a4\n",
      "[info] Downloading file: https://nime.pubpub.org/pub/dialogicadmis/download/pdf\n",
      "\n",
      "[info] paper_idx: 47\n",
      "[info] Extracting html OK! DOI: 10.21428/92fbeb44.376bc758\n",
      "[info] Downloading file: https://nime.pubpub.org/pub/wq2q8v0w/download/pdf\n",
      "\n",
      "[info] paper_idx: 48\n",
      "[info] Extracting html OK! DOI: 10.21428/92fbeb44.b304e4b1\n",
      "[info] Downloading file: https://nime.pubpub.org/pub/o7sza3sq/download/pdf\n",
      "\n",
      "[info] paper_idx: 49\n",
      "[info] Extracting html OK! DOI: 10.21428/92fbeb44.9e7c9ba3\n",
      "[info] Downloading file: https://nime.pubpub.org/pub/n6mw635p/download/pdf\n",
      "\n",
      "[info] paper_idx: 50\n",
      "[info] Extracting html OK! DOI: 10.21428/92fbeb44.c400bdc2\n",
      "[info] Downloading file: https://nime.pubpub.org/pub/vwbc1tlk/download/pdf\n",
      "\n",
      "[info] paper_idx: 51\n",
      "[info] Extracting html OK! DOI: 10.21428/92fbeb44.db84ecd0\n",
      "[info] Downloading file: https://nime.pubpub.org/pub/grid-ui-guidelines/download/pdf\n",
      "\n",
      "[info] paper_idx: 52\n",
      "[info] Extracting html OK! DOI: 10.21428/92fbeb44.563bfea9\n",
      "[info] Downloading file: https://nime.pubpub.org/pub/grid-ui-survey/download/pdf\n",
      "\n",
      "[info] paper_idx: 53\n",
      "[info] Extracting html OK! DOI: 10.21428/92fbeb44.6178f575\n",
      "[info] Downloading file: https://nime.pubpub.org/pub/langspil/download/pdf\n",
      "\n",
      "[info] paper_idx: 54\n",
      "[info] Extracting html OK! DOI: 10.21428/92fbeb44.7e04cfc8\n",
      "[info] Downloading file: https://nime.pubpub.org/pub/9cogkkns/download/pdf\n",
      "\n",
      "[info] paper_idx: 55\n",
      "[info] Extracting html OK! DOI: 10.21428/92fbeb44.61d01269\n",
      "[info] Downloading file: https://nime.pubpub.org/pub/kanchayyupana/download/pdf\n",
      "\n",
      "[info] paper_idx: 56\n",
      "[info] Extracting html OK! DOI: 10.21428/92fbeb44.b368bcd5\n",
      "[info] Downloading file: https://nime.pubpub.org/pub/20nimes/download/pdf\n",
      "\n",
      "[info] paper_idx: 57\n",
      "[info] Extracting html OK! DOI: 10.21428/92fbeb44.3ffad95a\n",
      "[info] Downloading file: https://nime.pubpub.org/pub/41cj1pyt/download/pdf\n",
      "\n",
      "[info] paper_idx: 58\n",
      "[info] Extracting html OK! DOI: 10.21428/92fbeb44.47175201\n",
      "[info] Downloading file: https://nime.pubpub.org/pub/2pqbusk7/download/pdf\n",
      "\n",
      "[info] paper_idx: 59\n",
      "[info] Extracting html OK! DOI: 10.21428/92fbeb44.807a000f\n",
      "[info] Downloading file: https://nime.pubpub.org/pub/fidgs435/download/pdf\n",
      "\n",
      "[info] paper_idx: 60\n",
      "[info] Extracting html OK! DOI: 10.21428/92fbeb44.26f33210\n",
      "[info] Downloading file: https://nime.pubpub.org/pub/7c4qdj4u/download/pdf\n",
      "\n",
      "[info] paper_idx: 61\n",
      "[info] Extracting html OK! DOI: 10.21428/92fbeb44.eef53755\n",
      "[info] Downloading file: https://nime.pubpub.org/pub/dzlsifz6/download/pdf\n",
      "\n",
      "[info] paper_idx: 62\n",
      "[info] Extracting html OK! DOI: 10.21428/92fbeb44.c09d91be\n",
      "[info] Downloading file: https://nime.pubpub.org/pub/eshr/download/pdf\n",
      "\n",
      "[info] paper_idx: 63\n",
      "[info] Extracting html OK! DOI: 10.21428/92fbeb44.6a2451e6\n",
      "[info] Downloading file: https://nime.pubpub.org/pub/grid-past-present-future/download/pdf\n",
      "\n",
      "[info] paper_idx: 64\n",
      "[info] Extracting html OK! DOI: 10.21428/92fbeb44.303223db\n",
      "[info] Downloading file: https://nime.pubpub.org/pub/touchgrid/download/pdf\n",
      "\n",
      "[info] paper_idx: 65\n",
      "[info] Extracting html OK! DOI: 10.21428/92fbeb44.e83deee9\n",
      "[info] Downloading file: https://nime.pubpub.org/pub/ker5w948/download/pdf\n",
      "\n",
      "[info] paper_idx: 66\n",
      "[info] Extracting html OK! DOI: 10.21428/92fbeb44.6d342615\n",
      "[info] Downloading file: https://nime.pubpub.org/pub/cgi7t0ta/download/pdf\n",
      "\n",
      "[info] paper_idx: 67\n",
      "[info] Extracting html OK! DOI: 10.21428/92fbeb44.64f66047\n",
      "[info] Downloading file: https://nime.pubpub.org/pub/c3w33wya/download/pdf\n",
      "\n",
      "[info] paper_idx: 68\n",
      "[info] Extracting html OK! DOI: 10.21428/92fbeb44.6607d04f\n",
      "[info] Downloading file: https://nime.pubpub.org/pub/sqceyucq/download/pdf\n",
      "\n",
      "[info] paper_idx: 69\n",
      "[info] Extracting html OK! DOI: 10.21428/92fbeb44.25757aca\n",
      "[info] Downloading file: https://nime.pubpub.org/pub/8lop0zj4/download/pdf\n",
      "\n",
      "[info] paper_idx: 70\n",
      "[info] Extracting html OK! DOI: 10.21428/92fbeb44.27d09832\n",
      "[info] Downloading file: https://nime.pubpub.org/pub/oiwz8bb7/download/pdf\n",
      "\n",
      "[info] paper_idx: 71\n",
      "[info] Extracting html OK! DOI: 10.21428/92fbeb44.ce8139a8\n",
      "[info] Downloading file: https://nime.pubpub.org/pub/gsx1wqt5/download/pdf\n",
      "\n",
      "[info] paper_idx: 72\n",
      "[info] Extracting html OK! DOI: 10.21428/92fbeb44.5725ad8f\n",
      "[info] Downloading file: https://nime.pubpub.org/pub/4bbl5lod/download/pdf\n",
      "\n",
      "[info] paper_idx: 73\n",
      "[info] Extracting html OK! DOI: 10.21428/92fbeb44.d4146b2d\n",
      "[info] Downloading file: https://nime.pubpub.org/pub/a626cbqh/download/pdf\n",
      "\n",
      "[info] paper_idx: 74\n",
      "[info] Extracting html OK! DOI: 10.21428/92fbeb44.87f1d63e\n",
      "[info] Downloading file: https://nime.pubpub.org/pub/dmiapprenticeship/download/pdf\n",
      "\n",
      "[info] paper_idx: 75\n",
      "[info] Extracting html OK! DOI: 10.21428/92fbeb44.ec9f8fdd\n",
      "[info] Downloading file: https://nime.pubpub.org/pub/ntm5kbux/download/pdf\n",
      "\n",
      "[info] paper_idx: 76\n",
      "[info] Extracting html OK! DOI: 10.21428/92fbeb44.c37a2370\n",
      "[info] Downloading file: https://nime.pubpub.org/pub/reimaginingadmis/download/pdf\n",
      "\n",
      "[info] paper_idx: 77\n",
      "[info] Extracting html OK! DOI: 10.21428/92fbeb44.9e7da18f\n",
      "[info] Downloading file: https://nime.pubpub.org/pub/m9nhdm0p/download/pdf\n",
      "\n",
      "[info] paper_idx: 78\n",
      "[info] Extracting html OK! DOI: 10.21428/92fbeb44.f45e1caf\n",
      "[info] Downloading file: https://nime.pubpub.org/pub/bj2w1gdx/download/pdf\n",
      "\n",
      "[info] paper_idx: 79\n",
      "[info] Extracting html OK! DOI: 10.21428/92fbeb44.1eeb3ada\n",
      "[info] Downloading file: https://nime.pubpub.org/pub/t94aq9rf/download/pdf\n",
      "\n",
      "[info] paper_idx: 80\n",
      "[info] Extracting html OK! DOI: 10.21428/92fbeb44.04f0fc35\n",
      "[info] Downloading file: https://nime.pubpub.org/pub/f1ueovwv/download/pdf\n",
      "\n",
      "[info] paper_idx: 81\n",
      "[info] Extracting html OK! DOI: 10.21428/92fbeb44.2f6db6e6\n",
      "[info] Downloading file: https://nime.pubpub.org/pub/zgj85mzv/download/pdf\n",
      "\n",
      "[info] paper_idx: 82\n",
      "[info] Extracting html OK! DOI: 10.21428/92fbeb44.fe9a0d82\n",
      "[info] Downloading file: https://nime.pubpub.org/pub/8947fhly/download/pdf\n",
      "\n",
      "[info] paper_idx: 83\n",
      "[info] Extracting html OK! DOI: 10.21428/92fbeb44.2723647f\n",
      "[info] Downloading file: https://nime.pubpub.org/pub/200fpd5a/download/pdf\n",
      "\n",
      "[info] paper_idx: 84\n",
      "[info] Extracting html OK! DOI: 10.21428/92fbeb44.1084cb07\n",
      "[info] Downloading file: https://nime.pubpub.org/pub/zd2z1evu/download/pdf\n",
      "\n",
      "[info] paper_idx: 85\n",
      "[info] Extracting html OK! DOI: 10.21428/92fbeb44.548cca2b\n",
      "[info] Downloading file: https://nime.pubpub.org/pub/w2ubqkv4/download/pdf\n",
      "\n",
      "[info] paper_idx: 86\n",
      "[info] Extracting html OK! DOI: 10.21428/92fbeb44.eae7c23f\n",
      "[info] Downloading file: https://nime.pubpub.org/pub/4gt8wiy0/download/pdf\n",
      "\n",
      "[info] paper_idx: 87\n",
      "[info] Extracting html OK! DOI: 10.21428/92fbeb44.84c0b364\n",
      "[info] Downloading file: https://nime.pubpub.org/pub/wcj8sjee/download/pdf\n",
      "\n",
      "[info] paper_idx: 88\n",
      "[info] Extracting html OK! DOI: 10.21428/92fbeb44.a8e0cceb\n",
      "[info] Downloading file: https://nime.pubpub.org/pub/fxe52ym6/download/pdf\n",
      "\n",
      "[info] paper_idx: 89\n",
      "[info] Extracting html OK! DOI: 10.21428/92fbeb44.dc50e34d\n",
      "[info] Downloading file: https://nime.pubpub.org/pub/czq0nt9i/download/pdf\n",
      "\n",
      "[info] paper_idx: 90\n",
      "[info] Extracting html OK! DOI: 10.21428/92fbeb44.64c9f217\n",
      "[info] Downloading file: https://nime.pubpub.org/pub/zpdgg2fg/download/pdf\n",
      "\n",
      "[info] paper_idx: 91\n",
      "[info] Extracting html OK! DOI: 10.21428/92fbeb44.110a7a32\n",
      "[info] Downloading file: https://nime.pubpub.org/pub/in6wsc9t/download/pdf\n",
      "\n",
      "[info] paper_idx: 92\n",
      "[info] Extracting html OK! DOI: 10.21428/92fbeb44.b90e0fcb\n",
      "[info] Downloading file: https://nime.pubpub.org/pub/46by9xxn/download/pdf\n",
      "\n",
      "[info] paper_idx: 93\n",
      "[info] Extracting html OK! DOI: 10.21428/92fbeb44.e521c5a4\n",
      "[info] Downloading file: https://nime.pubpub.org/pub/pxr0grnk/download/pdf\n",
      "\n",
      "[info] paper_idx: 94\n",
      "[info] Extracting html OK! DOI: 10.21428/92fbeb44.2c4879f5\n",
      "[info] Downloading file: https://nime.pubpub.org/pub/cde9r70r/download/pdf\n",
      "\n",
      "[info] paper_idx: 95\n",
      "[info] Extracting html OK! DOI: 10.21428/92fbeb44.46c0f6ef\n",
      "[info] Downloading file: https://nime.pubpub.org/pub/qn6lqnzx/download/pdf\n",
      "\n",
      "[info] paper_idx: 96\n",
      "[info] Extracting html OK! DOI: 10.21428/92fbeb44.b8e82252\n",
      "[info] Downloading file: https://nime.pubpub.org/pub/n1o19efr/download/pdf\n",
      "\n",
      "[info] paper_idx: 97\n",
      "[info] Extracting html OK! DOI: 10.21428/92fbeb44.7b843efe\n",
      "[info] Downloading file: https://nime.pubpub.org/pub/8lqitvvq/download/pdf\n",
      "\n",
      "[info] paper_idx: 98\n",
      "[info] Extracting html OK! DOI: 10.21428/92fbeb44.61b13baf\n",
      "[info] Downloading file: https://nime.pubpub.org/pub/kx6d0553/download/pdf\n",
      "\n",
      "[info] paper_idx: 99\n",
      "[info] Extracting html OK! DOI: 10.21428/92fbeb44.761367fd\n",
      "[info] Downloading file: https://nime.pubpub.org/pub/quadrant/download/pdf\n",
      "\n",
      "[info] paper_idx: 100\n",
      "[info] Extracting html OK! DOI: 10.21428/92fbeb44.765a94a7\n",
      "[info] Downloading file: https://nime.pubpub.org/pub/n69uznd4/download/pdf\n",
      "\n",
      "[info] paper_idx: 101\n",
      "[info] Extracting html OK! DOI: 10.21428/92fbeb44.18c3fc2b\n",
      "[info] Downloading file: https://nime.pubpub.org/pub/y1y5jolp/download/pdf\n",
      "\n",
      "[info] paper_idx: 102\n",
      "[info] Extracting html OK! DOI: 10.21428/92fbeb44.51b1c3a1\n",
      "[info] Downloading file: https://nime.pubpub.org/pub/wmcqkvw1/download/pdf\n",
      "\n",
      "[info] paper_idx: 103\n",
      "[info] Extracting html OK! DOI: 10.21428/92fbeb44.643abd8c\n",
      "[info] Downloading file: https://nime.pubpub.org/pub/1293exfw/download/pdf\n",
      "\n",
      "[info] paper_idx: 104\n",
      "[info] Extracting html OK! DOI: 10.21428/92fbeb44.4fd9089c\n",
      "[info] Downloading file: https://nime.pubpub.org/pub/i1rx1t2e/download/pdf\n",
      "\n",
      "[info] paper_idx: 105\n",
      "[info] Extracting html OK! DOI: 10.21428/92fbeb44.1f29a09e\n",
      "[info] Downloading file: https://nime.pubpub.org/pub/6mhrjiqt/download/pdf\n",
      "\n",
      "[info] paper_idx: 106\n",
      "[info] Extracting html OK! DOI: 10.21428/92fbeb44.c47be986\n",
      "[info] Downloading file: https://nime.pubpub.org/pub/8n8br4cc/download/pdf\n",
      "\n",
      "[info] paper_idx: 107\n",
      "[info] Extracting html OK! DOI: 10.21428/92fbeb44.ff09de34\n",
      "[info] Downloading file: https://nime.pubpub.org/pub/d72sylsq/download/pdf\n",
      "\n",
      "[info] paper_idx: 108\n",
      "[info] Extracting html OK! DOI: 10.21428/92fbeb44.09ecc54d\n",
      "[info] Downloading file: https://nime.pubpub.org/pub/uh1zfz1f/download/pdf\n",
      "\n",
      "[info] paper_idx: 109\n",
      "[info] Extracting html OK! DOI: 10.21428/92fbeb44.5da1ca0b\n",
      "[info] Downloading file: https://nime.pubpub.org/pub/kdahf9fq/download/pdf\n",
      "\n",
      "[info] paper_idx: 110\n",
      "[info] Extracting html OK! DOI: 10.21428/92fbeb44.21d4fd1f\n",
      "[info] Downloading file: https://nime.pubpub.org/pub/7a6ij1ak/download/pdf\n",
      "\n",
      "[info] paper_idx: 111\n",
      "[info] Extracting html OK! DOI: 10.21428/92fbeb44.06e2d5f4\n",
      "[info] Downloading file: https://nime.pubpub.org/pub/s3x60926/download/pdf\n",
      "\n",
      "[info] paper_idx: 112\n",
      "[info] Extracting html OK! DOI: 10.21428/92fbeb44.a84edd3f\n",
      "[info] Downloading file: https://nime.pubpub.org/pub/3zeala6v/download/pdf\n",
      "\n",
      "[info] paper_idx: 113\n",
      "[info] Extracting html OK! DOI: 10.21428/92fbeb44.07c72a46\n",
      "[info] Downloading file: https://nime.pubpub.org/pub/muvvx0y5/download/pdf\n",
      "\n",
      "[info] paper_idx: 114\n",
      "[info] Extracting html OK! DOI: 10.21428/92fbeb44.92a95683\n",
      "[info] Downloading file: https://nime.pubpub.org/pub/q5oc20wg/download/pdf\n",
      "\n",
      "[info] paper_idx: 115\n",
      "[info] Extracting html OK! DOI: 10.21428/92fbeb44.e795c9b5\n",
      "[info] Downloading file: https://nime.pubpub.org/pub/pvd6davm/download/pdf\n",
      "\n",
      "[info] paper_idx: 116\n",
      "[info] Extracting html OK! DOI: 10.21428/92fbeb44.0d5ab18d\n",
      "[info] Downloading file: https://nime.pubpub.org/pub/gq2ukghi/download/pdf\n",
      "\n",
      "[info] paper_idx: 117\n",
      "[info] Extracting html OK! DOI: 10.21428/92fbeb44.56a01d33\n",
      "[info] Downloading file: https://nime.pubpub.org/pub/e4lsrn6c/download/pdf\n",
      "\n",
      "[info] paper_idx: 118\n",
      "[info] Extracting html OK! DOI: 10.21428/92fbeb44.9d4bcd4b\n",
      "[info] Downloading file: https://nime.pubpub.org/pub/latent-mappings/download/pdf\n",
      "\n",
      "[info] paper_idx: 119\n",
      "[info] Extracting html OK! DOI: 10.21428/92fbeb44.e32fde90\n",
      "[info] Downloading file: https://nime.pubpub.org/pub/0u3ruj23/download/pdf\n",
      "\n",
      "[info] paper_idx: 120\n",
      "[info] Extracting html OK! DOI: 10.21428/92fbeb44.a41fe2c5\n",
      "[info] Downloading file: https://nime.pubpub.org/pub/jxo0v8r7/download/pdf\n",
      "\n",
      "[info] paper_idx: 121\n",
      "[info] Extracting html OK! DOI: 10.21428/92fbeb44.de74b046\n",
      "[info] Downloading file: https://nime.pubpub.org/pub/zpvgmv74/download/pdf\n",
      "\n",
      "[info] paper_idx: 122\n",
      "[info] Extracting html OK! DOI: 10.21428/92fbeb44.5cc6d157\n",
      "[info] Downloading file: https://nime.pubpub.org/pub/lac4s48h/download/pdf\n",
      "\n",
      "[info] paper_idx: 123\n",
      "[info] Extracting html OK! DOI: 10.21428/92fbeb44.0ad83109\n",
      "[info] Downloading file: https://nime.pubpub.org/pub/225tmviw/download/pdf\n",
      "\n",
      "[info] paper_idx: 124\n",
      "[info] Extracting html OK! DOI: 10.21428/92fbeb44.5443652c\n",
      "[info] Downloading file: https://nime.pubpub.org/pub/h14o4oit/download/pdf\n",
      "\n",
      "[info] paper_idx: 125\n",
      "[info] Extracting html OK! DOI: 10.21428/92fbeb44.dde5029a\n",
      "[info] Downloading file: https://nime.pubpub.org/pub/gx6klqui/download/pdf\n",
      "\n",
      "[info] paper_idx: 126\n",
      "[info] Extracting html OK! DOI: 10.21428/92fbeb44.9765f11d\n",
      "[info] Downloading file: https://nime.pubpub.org/pub/bol2r7nr/download/pdf\n",
      "\n",
      "[info] paper_idx: 127\n",
      "[info] Extracting html OK! DOI: 10.21428/92fbeb44.e66a8542\n",
      "[info] Downloading file: https://nime.pubpub.org/pub/g04egsqn/download/pdf\n",
      "\n",
      "[info] paper_idx: 128\n",
      "[info] Extracting html OK! DOI: 10.21428/92fbeb44.98354a15\n",
      "[info] Downloading file: https://nime.pubpub.org/pub/aqm27581/download/pdf\n",
      "\n",
      "[info] paper_idx: 129\n",
      "[info] Extracting html OK! DOI: 10.21428/92fbeb44.c61b9546\n",
      "[info] Downloading file: https://nime.pubpub.org/pub/226jlaug/download/pdf\n",
      "\n",
      "[info] paper_idx: 130\n",
      "[info] Extracting html OK! DOI: 10.21428/92fbeb44.0282a79c\n",
      "[info] Downloading file: https://nime.pubpub.org/pub/5oupvoun/download/pdf\n",
      "\n",
      "[info] paper_idx: 131\n",
      "[info] Extracting html OK! DOI: 10.21428/92fbeb44.c2b5a672\n",
      "[info] Downloading file: https://nime.pubpub.org/pub/using-a-pursuit-tracking-task-to-compare-continuous-control-of-various-nime-sensors/download/pdf\n",
      "\n",
      "[info] paper_idx: 132\n",
      "[info] Extracting html OK! DOI: 10.21428/92fbeb44.9e1312b1\n",
      "[info] Downloading file: https://nime.pubpub.org/pub/f5jtuy87/download/pdf\n",
      "\n",
      "[info] paper_idx: 133\n",
      "[info] Extracting html OK! DOI: 10.21428/92fbeb44.ac5d43e1\n",
      "[info] Downloading file: https://nime.pubpub.org/pub/nbrrk8ll/download/pdf\n",
      "\n",
      "[info] paper_idx: 134\n",
      "[info] Extracting html OK! DOI: 10.21428/92fbeb44.3d0e9e12\n",
      "[info] Downloading file: https://nime.pubpub.org/pub/9zu49nu5/download/pdf\n",
      "\n",
      "[info] paper_idx: 135\n",
      "[info] Extracting html OK! DOI: 10.21428/92fbeb44.a72b68dd\n",
      "[info] Downloading file: https://nime.pubpub.org/pub/bu2jb1d6/download/pdf\n",
      "\n",
      "[info] paper_idx: 136\n",
      "[info] Extracting html OK! DOI: 10.21428/92fbeb44.02005035\n",
      "[info] Downloading file: https://nime.pubpub.org/pub/xn761337/download/pdf\n",
      "\n",
      "[info] paper_idx: 137\n",
      "[info] Extracting html OK! DOI: 10.21428/92fbeb44.31419bf9\n",
      "[info] Downloading file: https://nime.pubpub.org/pub/adtb2zl5/download/pdf\n",
      "\n",
      "[info] paper_idx: 138\n",
      "[info] Extracting html OK! DOI: 10.21428/92fbeb44.d3354ff3\n",
      "[info] Downloading file: https://nime.pubpub.org/pub/h1/download/pdf\n",
      "\n",
      "[info] paper_idx: 139\n",
      "[info] Extracting html OK! DOI: 10.21428/92fbeb44.82c5626f\n",
      "[info] Downloading file: https://nime.pubpub.org/pub/yxcp36ii/download/pdf\n",
      "\n",
      "[info] paper_idx: 140\n",
      "[info] Extracting html OK! DOI: 10.21428/92fbeb44.2305755b\n",
      "[info] Downloading file: https://nime.pubpub.org/pub/eqvxspw3/download/pdf\n",
      "\n",
      "[info] paper_idx: 141\n",
      "[info] Extracting html OK! DOI: 10.21428/92fbeb44.4b2fc7b9\n",
      "[info] Downloading file: https://nime.pubpub.org/pub/g7avj1a7/download/pdf\n",
      "\n",
      "[info] paper_idx: 142\n",
      "[info] Extracting html OK! DOI: 10.21428/92fbeb44.02c348fb\n",
      "[info] Downloading file: https://nime.pubpub.org/pub/8jaqbl7m/download/pdf\n",
      "\n",
      "[info] paper_idx: 143\n",
      "[info] Extracting html OK! DOI: 10.21428/92fbeb44.002be215\n",
      "[info] Downloading file: https://nime.pubpub.org/pub/h5dqsvpm/download/pdf\n",
      "\n"
     ]
    }
   ],
   "source": [
    "\n",
    "for paper_idx in range(len(nime_id_list)):\n",
    "    \n",
    "    print (\"[info] paper_idx: {}\".format(paper_idx))\n",
    "    tmp_html_data = extract_doi_html(nime_id_list[paper_idx])\n",
    "    nime_pdf_dl(tmp_html_data, nime_id_list[paper_idx])\n",
    "    print ()"
   ]
  },
  {
   "cell_type": "code",
   "execution_count": null,
   "id": "80e57707-33ed-466e-afc2-9d30974bac33",
   "metadata": {},
   "outputs": [],
   "source": []
  },
  {
   "cell_type": "code",
   "execution_count": null,
   "id": "2554c3e1-4f28-4d21-badd-2e587a5e7f73",
   "metadata": {},
   "outputs": [],
   "source": []
  },
  {
   "cell_type": "code",
   "execution_count": null,
   "id": "5574214d-191d-41e2-b0e8-a8932b72712b",
   "metadata": {},
   "outputs": [],
   "source": []
  },
  {
   "cell_type": "code",
   "execution_count": null,
   "id": "2ba42689-59aa-4cf0-a0bb-bcb31ca6c54b",
   "metadata": {},
   "outputs": [],
   "source": []
  },
  {
   "cell_type": "code",
   "execution_count": null,
   "id": "6a2b282c-7490-468a-bbd3-60675af1f501",
   "metadata": {},
   "outputs": [],
   "source": []
  }
 ],
 "metadata": {
  "kernelspec": {
   "display_name": "Python 3 (ipykernel)",
   "language": "python",
   "name": "python3"
  },
  "language_info": {
   "codemirror_mode": {
    "name": "ipython",
    "version": 3
   },
   "file_extension": ".py",
   "mimetype": "text/x-python",
   "name": "python",
   "nbconvert_exporter": "python",
   "pygments_lexer": "ipython3",
   "version": "3.10.8"
  }
 },
 "nbformat": 4,
 "nbformat_minor": 5
}
